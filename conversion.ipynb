{
 "cells": [
  {
   "cell_type": "markdown",
   "metadata": {},
   "source": [
    "### 1.根据输入内容判断单位类型\n",
    "### 2.完成温度互转，华氏温度与摄氏温度\n",
    "### 3.完成长度互转，中国与美国长度单位 (1m = 3.281ft)\n",
    "### 4.完成货币互转，美元与人民币（汇率以你作业当天为准）"
   ]
  },
  {
   "cell_type": "code",
   "execution_count": 1,
   "metadata": {},
   "outputs": [
    {
     "name": "stdout",
     "output_type": "stream",
     "text": [
      "T 温度转换\n",
      "L 长度转换\n",
      "C 货币转换\n",
      "请选择要转换的类型T\n",
      "请输入温度(示例: 1C或者1F):10c\n",
      "Tf = 1.8*10.0+32 = 50.0F\n",
      "是否退出(y/n):\n",
      "n\n"
     ]
    }
   ],
   "source": [
    "menu = {'T':'温度转换', 'L':'长度转换', 'C':'货币转换'}\n",
    "\n",
    "esc = True\n",
    "while esc:\n",
    "    for k, v in menu.items():\n",
    "        print(k, v)\n",
    "    choose = input('请选择要转换的类型')\n",
    "    if choose == 'T':\n",
    "        temp = input('请输入温度(示例: 1C或者1F):')\n",
    "        if temp.endswith('C') or temp.endswith('c'):\n",
    "    #         temp = float(temp.strip('C').strip('F'))\n",
    "            temp = float(temp.strip('C').strip('c'))\n",
    "            Tf = 1.8 * temp + 32\n",
    "            print(f'Tf = 1.8*{temp}+32 = {Tf}F')\n",
    "        else:\n",
    "            temp = float(temp.strip('F').strip('f'))\n",
    "            Tf = round((temp - 32) / 1.8, 2)\n",
    "            print(f'Tf = ({temp}-32/1.8 = {Tf}C)')\n",
    "    elif choose == 'L':\n",
    "        length = input('请输入长度(示例: 1m或者1ft):')\n",
    "        if length.endswith('m'):\n",
    "            length = float(length.strip('m'))\n",
    "            Lf = round(length*3.281, 2)\n",
    "            print(f'Lf = {length}*3.281 = {Lf}ft')\n",
    "        else:\n",
    "            length = float(length.strip('ft'))\n",
    "            Lf = round(length*0.3048, 2)\n",
    "            print(f'Lf = {length}*0.3048 = {Lf}m')\n",
    "    else:\n",
    "        cry = input('请输入币种(示例:1￥或1$):')\n",
    "        if cry.endswith('￥'):\n",
    "            cry = float(cry.strip('￥'))\n",
    "            Mf = cry*0.1561\n",
    "            print(f'Mf = {cry}*0.1561 = {Mf}$')\n",
    "        else:\n",
    "            cry = float(cry.strip('$'))\n",
    "            Mf = cry*6.4064\n",
    "            print(f'Mf = {cry}*6.4064 = {Mf}￥')\n",
    "    print('是否退出(y/n):')\n",
    "    esc = input().strip() == 'y'"
   ]
  },
  {
   "cell_type": "code",
   "execution_count": 22,
   "metadata": {},
   "outputs": [
    {
     "name": "stdout",
     "output_type": "stream",
     "text": [
      "是否继续(y/n):\n",
      "y\n",
      "是否继续(y/n):\n",
      "n\n"
     ]
    }
   ],
   "source": [
    "m = True\n",
    "while m:\n",
    "    print('是否继续(y/n):')\n",
    "    m = input().strip() == 'y'"
   ]
  },
  {
   "cell_type": "code",
   "execution_count": 10,
   "metadata": {},
   "outputs": [
    {
     "data": {
      "text/plain": [
       "-6.67"
      ]
     },
     "execution_count": 10,
     "metadata": {},
     "output_type": "execute_result"
    }
   ],
   "source": [
    "round(a, 2)"
   ]
  }
 ],
 "metadata": {
  "kernelspec": {
   "display_name": "Python 3",
   "language": "python",
   "name": "python3"
  },
  "language_info": {
   "codemirror_mode": {
    "name": "ipython",
    "version": 3
   },
   "file_extension": ".py",
   "mimetype": "text/x-python",
   "name": "python",
   "nbconvert_exporter": "python",
   "pygments_lexer": "ipython3",
   "version": "3.7.3"
  }
 },
 "nbformat": 4,
 "nbformat_minor": 2
}
