{
 "cells": [
  {
   "cell_type": "markdown",
   "metadata": {},
   "source": [
    "### 1.探索整个目录树\n",
    "#### kv： 增删改查\n",
    "####      -目录树=文件夹\n",
    "####      -路径就是一条字符串\n",
    "####      -相对路径与绝对路径\n",
    "\n",
    "\n",
    "\n",
    "### 补充几个系统命令\n",
    "#### 这里是在notebook环境下运行，和windows系统本身的dos命令略有区别。先学会这几个即可。"
   ]
  },
  {
   "cell_type": "code",
   "execution_count": 1,
   "metadata": {},
   "outputs": [
    {
     "name": "stdout",
     "output_type": "stream",
     "text": [
      "/Users/yangsan/Python语法基础\n"
     ]
    }
   ],
   "source": [
    "%cd /Users/yangsan/Python语法基础 # cd 切换路径"
   ]
  },
  {
   "cell_type": "code",
   "execution_count": 2,
   "metadata": {},
   "outputs": [
    {
     "data": {
      "text/plain": [
       "'/Users/yangsan/Python语法基础'"
      ]
     },
     "execution_count": 2,
     "metadata": {},
     "output_type": "execute_result"
    }
   ],
   "source": [
    "%pwd # 打印当前工作的路径/目录"
   ]
  },
  {
   "cell_type": "code",
   "execution_count": 3,
   "metadata": {},
   "outputs": [
    {
     "name": "stdout",
     "output_type": "stream",
     "text": [
      "1.6-计算机基础.pdf\r\n",
      "1.7-打造编程环境.pdf\r\n",
      "2.1成长型项目介绍-程序运行过程-代码规范.pdf\r\n",
      "2.2-basic-num-str.pdf\r\n",
      "2.3-list-dict-tuple.pdf\r\n",
      "2.5函数-note.pdf\r\n",
      "2.5了解函数的来龙去脉-code.pdf\r\n",
      "2.6给你想要的正则表达式-code.pdf\r\n",
      "2.6给你想要的正则表达式-note.pdf\r\n",
      "2.7面向对象大法好-大纲.pdf\r\n",
      "2.7面向对象大法好.pdf\r\n",
      "51CTO下载-Go语言编程》高清完整版电子书.pdf\r\n",
      "Python基础语法.ipynb\r\n",
      "\u001b[31m[美河学习在线eimhe.com]学习 Go 语言(Golang).pdf\u001b[m\u001b[m*\r\n",
      "\u001b[1m\u001b[34mpy2018 - 0到对象\u001b[m\u001b[m/\r\n",
      "\u001b[1m\u001b[34mpythonSample\u001b[m\u001b[m/\r\n",
      "\u001b[1m\u001b[34mpython微职位讲义-python基础0411\u001b[m\u001b[m/\r\n",
      "爬虫.ipynb\r\n",
      "\u001b[1m\u001b[34m文件与日志-讲义\u001b[m\u001b[m/\r\n"
     ]
    }
   ],
   "source": [
    "%ls # 显示当前目录的列表"
   ]
  },
  {
   "cell_type": "markdown",
   "metadata": {},
   "source": [
    "### 目录树=文件夹\n",
    "#### os.listdir  显示目录列表\n",
    "#### os.getcwd  获取当前工作目录\n",
    "#### os.chdir('')  切换目录\n",
    "#### os.mkdir()  新建目录\n",
    "#### os.path.exists()\n",
    "#### os.path.isdir()"
   ]
  },
  {
   "cell_type": "code",
   "execution_count": 8,
   "metadata": {},
   "outputs": [],
   "source": [
    "import os\n",
    "test_path = r'/Users/yangsan/Python语法基础'"
   ]
  },
  {
   "cell_type": "code",
   "execution_count": 5,
   "metadata": {},
   "outputs": [
    {
     "data": {
      "text/plain": [
       "['1.6-计算机基础.pdf',\n",
       " '[美河学习在线eimhe.com]学习 Go 语言(Golang).pdf',\n",
       " '2.6给你想要的正则表达式-note.pdf',\n",
       " '2.5了解函数的来龙去脉-code.pdf',\n",
       " '2.6给你想要的正则表达式-code.pdf',\n",
       " '2.5函数-note.pdf',\n",
       " '.DS_Store',\n",
       " 'Python基础语法.ipynb',\n",
       " 'python微职位讲义-python基础0411',\n",
       " '51CTO下载-Go语言编程》高清完整版电子书.pdf',\n",
       " '2.1成长型项目介绍-程序运行过程-代码规范.pdf',\n",
       " '2.7面向对象大法好.pdf',\n",
       " 'py2018 - 0到对象',\n",
       " '文件与日志-讲义',\n",
       " '爬虫.ipynb',\n",
       " '1.7-打造编程环境.pdf',\n",
       " '2.7面向对象大法好-大纲.pdf',\n",
       " '2.3-list-dict-tuple.pdf',\n",
       " '.ipynb_checkpoints',\n",
       " 'pythonSample',\n",
       " '2.2-basic-num-str.pdf']"
      ]
     },
     "execution_count": 5,
     "metadata": {},
     "output_type": "execute_result"
    }
   ],
   "source": [
    "os.listdir(test_path) # 显示目录列表"
   ]
  },
  {
   "cell_type": "code",
   "execution_count": 10,
   "metadata": {},
   "outputs": [
    {
     "data": {
      "text/plain": [
       "'/Users/yangsan/py2018'"
      ]
     },
     "execution_count": 10,
     "metadata": {},
     "output_type": "execute_result"
    }
   ],
   "source": [
    "os.getcwd() # 获取当前工作目录"
   ]
  },
  {
   "cell_type": "code",
   "execution_count": 11,
   "metadata": {},
   "outputs": [
    {
     "ename": "FileNotFoundError",
     "evalue": "[Errno 2] No such file or directory: 'py2018'",
     "output_type": "error",
     "traceback": [
      "\u001b[0;31m---------------------------------------------------------------------------\u001b[0m",
      "\u001b[0;31mFileNotFoundError\u001b[0m                         Traceback (most recent call last)",
      "\u001b[0;32m<ipython-input-11-346609efeafb>\u001b[0m in \u001b[0;36m<module>\u001b[0;34m()\u001b[0m\n\u001b[0;32m----> 1\u001b[0;31m \u001b[0mos\u001b[0m\u001b[0;34m.\u001b[0m\u001b[0mchdir\u001b[0m\u001b[0;34m(\u001b[0m\u001b[0;34m'py2018'\u001b[0m\u001b[0;34m)\u001b[0m \u001b[0;31m# 切换目录\u001b[0m\u001b[0;34m\u001b[0m\u001b[0m\n\u001b[0m",
      "\u001b[0;31mFileNotFoundError\u001b[0m: [Errno 2] No such file or directory: 'py2018'"
     ]
    }
   ],
   "source": [
    "os.chdir('py2018') # 切换目录"
   ]
  },
  {
   "cell_type": "code",
   "execution_count": 8,
   "metadata": {},
   "outputs": [
    {
     "data": {
      "text/plain": [
       "'/Users/yangsan/Python语法基础/文件与日志-讲义'"
      ]
     },
     "execution_count": 8,
     "metadata": {},
     "output_type": "execute_result"
    }
   ],
   "source": [
    "os.getcwd()"
   ]
  },
  {
   "cell_type": "code",
   "execution_count": 11,
   "metadata": {},
   "outputs": [],
   "source": [
    "os.mkdir('dir') # 新建目录"
   ]
  },
  {
   "cell_type": "markdown",
   "metadata": {},
   "source": [
    "### 路径就是一条字符串\n",
    "#### os.path.join  路径的链接\n",
    "#### os.path.exists()  判断路径是不是存在\n",
    "#### os.path.isdir()  判断是不是路径"
   ]
  },
  {
   "cell_type": "code",
   "execution_count": 12,
   "metadata": {},
   "outputs": [
    {
     "data": {
      "text/plain": [
       "'a/b'"
      ]
     },
     "execution_count": 12,
     "metadata": {},
     "output_type": "execute_result"
    }
   ],
   "source": [
    "os.path.join('a', 'b')"
   ]
  },
  {
   "cell_type": "code",
   "execution_count": 20,
   "metadata": {},
   "outputs": [
    {
     "data": {
      "text/plain": [
       "True"
      ]
     },
     "execution_count": 20,
     "metadata": {},
     "output_type": "execute_result"
    }
   ],
   "source": [
    "os.path.exists('1')"
   ]
  },
  {
   "cell_type": "code",
   "execution_count": 19,
   "metadata": {},
   "outputs": [
    {
     "data": {
      "text/plain": [
       "True"
      ]
     },
     "execution_count": 19,
     "metadata": {},
     "output_type": "execute_result"
    }
   ],
   "source": [
    "os.path.isdir('1')"
   ]
  },
  {
   "cell_type": "markdown",
   "metadata": {},
   "source": [
    "### 相对路径和绝对路径\n",
    "#### ●一个点：当前目录，特殊名称，不是真的文件夹\n",
    "#### ●两个点：父级目录\n",
    "#### ●os.path.abspath('.')  绝对路径\n",
    "#### ●os.path.isabs()  判断是不是绝对路径\n",
    "#### ●os.path.relpath()  相对路径"
   ]
  },
  {
   "cell_type": "code",
   "execution_count": 19,
   "metadata": {},
   "outputs": [
    {
     "data": {
      "text/plain": [
       "'/Users/yangsan/Python语法基础/文件与日志-讲义'"
      ]
     },
     "execution_count": 19,
     "metadata": {},
     "output_type": "execute_result"
    }
   ],
   "source": [
    "os.path.abspath('.')"
   ]
  },
  {
   "cell_type": "code",
   "execution_count": 21,
   "metadata": {},
   "outputs": [
    {
     "data": {
      "text/plain": [
       "True"
      ]
     },
     "execution_count": 21,
     "metadata": {},
     "output_type": "execute_result"
    }
   ],
   "source": [
    "os.path.isabs('/Users/yangsan/Python语法基础/文件与日志-讲义')"
   ]
  },
  {
   "cell_type": "code",
   "execution_count": 22,
   "metadata": {},
   "outputs": [
    {
     "data": {
      "text/plain": [
       "'yangsan/Python语法基础/文件与日志-讲义'"
      ]
     },
     "execution_count": 22,
     "metadata": {},
     "output_type": "execute_result"
    }
   ],
   "source": [
    "os.path.relpath('/Users/yangsan/Python语法基础/文件与日志-讲义', '/Users')"
   ]
  },
  {
   "cell_type": "code",
   "execution_count": 23,
   "metadata": {},
   "outputs": [
    {
     "data": {
      "text/plain": [
       "'../文件与日志-讲义/dir'"
      ]
     },
     "execution_count": 23,
     "metadata": {},
     "output_type": "execute_result"
    }
   ],
   "source": [
    "os.path.relpath('dir', '/Users/yangsan/Python语法基础/pythonSample')"
   ]
  },
  {
   "cell_type": "markdown",
   "metadata": {},
   "source": [
    "### 命名管理\n",
    "#### ● 路径各级名称\n",
    "        ■ path.split(os.path.sep)\n",
    "        ■ os.path.basename()\n",
    "        ■ os.path.dirname()\n",
    "#### ● 删除文件：操作有风险，删除需谨慎        \n",
    "        ■ os.unlink\n",
    "        ■ shutil.rmtree(path)\n",
    "#### ● 复制/移动 shutil\n",
    "        ■ copy\n",
    "        ■ copytree\n",
    "        ■ move"
   ]
  },
  {
   "cell_type": "code",
   "execution_count": 24,
   "metadata": {},
   "outputs": [],
   "source": [
    "path = r'/Users/yangsan/Python语法基础/pythonSample'"
   ]
  },
  {
   "cell_type": "code",
   "execution_count": 25,
   "metadata": {},
   "outputs": [
    {
     "data": {
      "text/plain": [
       "'/'"
      ]
     },
     "execution_count": 25,
     "metadata": {},
     "output_type": "execute_result"
    }
   ],
   "source": [
    "os.path.sep"
   ]
  },
  {
   "cell_type": "code",
   "execution_count": 26,
   "metadata": {},
   "outputs": [
    {
     "data": {
      "text/plain": [
       "['', 'Users', 'yangsan', 'Python语法基础', 'pythonSample']"
      ]
     },
     "execution_count": 26,
     "metadata": {},
     "output_type": "execute_result"
    }
   ],
   "source": [
    "path.split(os.path.sep)"
   ]
  },
  {
   "cell_type": "code",
   "execution_count": 27,
   "metadata": {},
   "outputs": [
    {
     "data": {
      "text/plain": [
       "('/Users/yangsan/Python语法基础', 'pythonSample')"
      ]
     },
     "execution_count": 27,
     "metadata": {},
     "output_type": "execute_result"
    }
   ],
   "source": [
    "os.path.split(path)"
   ]
  },
  {
   "cell_type": "code",
   "execution_count": 28,
   "metadata": {},
   "outputs": [
    {
     "data": {
      "text/plain": [
       "('/Users/yangsan/Python语法基础/pythonSample', '')"
      ]
     },
     "execution_count": 28,
     "metadata": {},
     "output_type": "execute_result"
    }
   ],
   "source": [
    "os.path.splitext(path)"
   ]
  },
  {
   "cell_type": "code",
   "execution_count": 31,
   "metadata": {},
   "outputs": [
    {
     "data": {
      "text/plain": [
       "('/Users/yangsan/Python语法基础/2.7面向对象大法好', '.pdf')"
      ]
     },
     "execution_count": 31,
     "metadata": {},
     "output_type": "execute_result"
    }
   ],
   "source": [
    "os.path.splitext('/Users/yangsan/Python语法基础/2.7面向对象大法好.pdf')"
   ]
  },
  {
   "cell_type": "code",
   "execution_count": 32,
   "metadata": {},
   "outputs": [
    {
     "data": {
      "text/plain": [
       "'pythonSample'"
      ]
     },
     "execution_count": 32,
     "metadata": {},
     "output_type": "execute_result"
    }
   ],
   "source": [
    "os.path.basename(path)"
   ]
  },
  {
   "cell_type": "code",
   "execution_count": 33,
   "metadata": {},
   "outputs": [
    {
     "data": {
      "text/plain": [
       "'/Users/yangsan/Python语法基础'"
      ]
     },
     "execution_count": 33,
     "metadata": {},
     "output_type": "execute_result"
    }
   ],
   "source": [
    "os.path.dirname(path)"
   ]
  },
  {
   "cell_type": "markdown",
   "metadata": {},
   "source": [
    "## 删除文件或目录"
   ]
  },
  {
   "cell_type": "code",
   "execution_count": 34,
   "metadata": {},
   "outputs": [
    {
     "data": {
      "text/plain": [
       "'/Users/yangsan/Python语法基础/文件与日志-讲义'"
      ]
     },
     "execution_count": 34,
     "metadata": {},
     "output_type": "execute_result"
    }
   ],
   "source": [
    "os.getcwd()"
   ]
  },
  {
   "cell_type": "code",
   "execution_count": 40,
   "metadata": {},
   "outputs": [
    {
     "ename": "PermissionError",
     "evalue": "[Errno 1] Operation not permitted: 'dir'",
     "output_type": "error",
     "traceback": [
      "\u001b[0;31m---------------------------------------------------------------------------\u001b[0m",
      "\u001b[0;31mPermissionError\u001b[0m                           Traceback (most recent call last)",
      "\u001b[0;32m<ipython-input-40-917d8043a985>\u001b[0m in \u001b[0;36m<module>\u001b[0;34m()\u001b[0m\n\u001b[0;32m----> 1\u001b[0;31m \u001b[0mos\u001b[0m\u001b[0;34m.\u001b[0m\u001b[0munlink\u001b[0m\u001b[0;34m(\u001b[0m\u001b[0;34m'dir'\u001b[0m\u001b[0;34m)\u001b[0m\u001b[0;34m\u001b[0m\u001b[0m\n\u001b[0m",
      "\u001b[0;31mPermissionError\u001b[0m: [Errno 1] Operation not permitted: 'dir'"
     ]
    }
   ],
   "source": [
    "os.unlink('dir')"
   ]
  },
  {
   "cell_type": "code",
   "execution_count": 41,
   "metadata": {},
   "outputs": [],
   "source": [
    "import shutil\n",
    "shutil.rmtree('0')"
   ]
  },
  {
   "cell_type": "markdown",
   "metadata": {},
   "source": [
    "## 复制和移动"
   ]
  },
  {
   "cell_type": "code",
   "execution_count": 43,
   "metadata": {},
   "outputs": [
    {
     "data": {
      "text/plain": [
       "'/Users/yangsan/Python语法基础/backup'"
      ]
     },
     "execution_count": 43,
     "metadata": {},
     "output_type": "execute_result"
    }
   ],
   "source": [
    "shutil.copytree('/Users/yangsan/Python语法基础/文件与日志-讲义', '/Users/yangsan/Python语法基础/backup')"
   ]
  },
  {
   "cell_type": "code",
   "execution_count": 47,
   "metadata": {},
   "outputs": [
    {
     "ename": "FileNotFoundError",
     "evalue": "[Errno 2] No such file or directory: '0.rtf'",
     "output_type": "error",
     "traceback": [
      "\u001b[0;31m---------------------------------------------------------------------------\u001b[0m",
      "\u001b[0;31mFileNotFoundError\u001b[0m                         Traceback (most recent call last)",
      "\u001b[0;32m<ipython-input-47-17ce8cb02559>\u001b[0m in \u001b[0;36m<module>\u001b[0;34m()\u001b[0m\n\u001b[0;32m----> 1\u001b[0;31m \u001b[0mshutil\u001b[0m\u001b[0;34m.\u001b[0m\u001b[0mcopy\u001b[0m\u001b[0;34m(\u001b[0m\u001b[0;34m'0.rtf'\u001b[0m\u001b[0;34m,\u001b[0m \u001b[0;34m'8.rtf'\u001b[0m\u001b[0;34m)\u001b[0m\u001b[0;34m\u001b[0m\u001b[0m\n\u001b[0m",
      "\u001b[0;32m/anaconda3/envs/ys/lib/python3.6/shutil.py\u001b[0m in \u001b[0;36mcopy\u001b[0;34m(src, dst, follow_symlinks)\u001b[0m\n\u001b[1;32m    239\u001b[0m     \u001b[0;32mif\u001b[0m \u001b[0mos\u001b[0m\u001b[0;34m.\u001b[0m\u001b[0mpath\u001b[0m\u001b[0;34m.\u001b[0m\u001b[0misdir\u001b[0m\u001b[0;34m(\u001b[0m\u001b[0mdst\u001b[0m\u001b[0;34m)\u001b[0m\u001b[0;34m:\u001b[0m\u001b[0;34m\u001b[0m\u001b[0m\n\u001b[1;32m    240\u001b[0m         \u001b[0mdst\u001b[0m \u001b[0;34m=\u001b[0m \u001b[0mos\u001b[0m\u001b[0;34m.\u001b[0m\u001b[0mpath\u001b[0m\u001b[0;34m.\u001b[0m\u001b[0mjoin\u001b[0m\u001b[0;34m(\u001b[0m\u001b[0mdst\u001b[0m\u001b[0;34m,\u001b[0m \u001b[0mos\u001b[0m\u001b[0;34m.\u001b[0m\u001b[0mpath\u001b[0m\u001b[0;34m.\u001b[0m\u001b[0mbasename\u001b[0m\u001b[0;34m(\u001b[0m\u001b[0msrc\u001b[0m\u001b[0;34m)\u001b[0m\u001b[0;34m)\u001b[0m\u001b[0;34m\u001b[0m\u001b[0m\n\u001b[0;32m--> 241\u001b[0;31m     \u001b[0mcopyfile\u001b[0m\u001b[0;34m(\u001b[0m\u001b[0msrc\u001b[0m\u001b[0;34m,\u001b[0m \u001b[0mdst\u001b[0m\u001b[0;34m,\u001b[0m \u001b[0mfollow_symlinks\u001b[0m\u001b[0;34m=\u001b[0m\u001b[0mfollow_symlinks\u001b[0m\u001b[0;34m)\u001b[0m\u001b[0;34m\u001b[0m\u001b[0m\n\u001b[0m\u001b[1;32m    242\u001b[0m     \u001b[0mcopymode\u001b[0m\u001b[0;34m(\u001b[0m\u001b[0msrc\u001b[0m\u001b[0;34m,\u001b[0m \u001b[0mdst\u001b[0m\u001b[0;34m,\u001b[0m \u001b[0mfollow_symlinks\u001b[0m\u001b[0;34m=\u001b[0m\u001b[0mfollow_symlinks\u001b[0m\u001b[0;34m)\u001b[0m\u001b[0;34m\u001b[0m\u001b[0m\n\u001b[1;32m    243\u001b[0m     \u001b[0;32mreturn\u001b[0m \u001b[0mdst\u001b[0m\u001b[0;34m\u001b[0m\u001b[0m\n",
      "\u001b[0;32m/anaconda3/envs/ys/lib/python3.6/shutil.py\u001b[0m in \u001b[0;36mcopyfile\u001b[0;34m(src, dst, follow_symlinks)\u001b[0m\n\u001b[1;32m    118\u001b[0m         \u001b[0mos\u001b[0m\u001b[0;34m.\u001b[0m\u001b[0msymlink\u001b[0m\u001b[0;34m(\u001b[0m\u001b[0mos\u001b[0m\u001b[0;34m.\u001b[0m\u001b[0mreadlink\u001b[0m\u001b[0;34m(\u001b[0m\u001b[0msrc\u001b[0m\u001b[0;34m)\u001b[0m\u001b[0;34m,\u001b[0m \u001b[0mdst\u001b[0m\u001b[0;34m)\u001b[0m\u001b[0;34m\u001b[0m\u001b[0m\n\u001b[1;32m    119\u001b[0m     \u001b[0;32melse\u001b[0m\u001b[0;34m:\u001b[0m\u001b[0;34m\u001b[0m\u001b[0m\n\u001b[0;32m--> 120\u001b[0;31m         \u001b[0;32mwith\u001b[0m \u001b[0mopen\u001b[0m\u001b[0;34m(\u001b[0m\u001b[0msrc\u001b[0m\u001b[0;34m,\u001b[0m \u001b[0;34m'rb'\u001b[0m\u001b[0;34m)\u001b[0m \u001b[0;32mas\u001b[0m \u001b[0mfsrc\u001b[0m\u001b[0;34m:\u001b[0m\u001b[0;34m\u001b[0m\u001b[0m\n\u001b[0m\u001b[1;32m    121\u001b[0m             \u001b[0;32mwith\u001b[0m \u001b[0mopen\u001b[0m\u001b[0;34m(\u001b[0m\u001b[0mdst\u001b[0m\u001b[0;34m,\u001b[0m \u001b[0;34m'wb'\u001b[0m\u001b[0;34m)\u001b[0m \u001b[0;32mas\u001b[0m \u001b[0mfdst\u001b[0m\u001b[0;34m:\u001b[0m\u001b[0;34m\u001b[0m\u001b[0m\n\u001b[1;32m    122\u001b[0m                 \u001b[0mcopyfileobj\u001b[0m\u001b[0;34m(\u001b[0m\u001b[0mfsrc\u001b[0m\u001b[0;34m,\u001b[0m \u001b[0mfdst\u001b[0m\u001b[0;34m)\u001b[0m\u001b[0;34m\u001b[0m\u001b[0m\n",
      "\u001b[0;31mFileNotFoundError\u001b[0m: [Errno 2] No such file or directory: '0.rtf'"
     ]
    }
   ],
   "source": [
    "shutil.copy('0.rtf', '8.rtf')"
   ]
  },
  {
   "cell_type": "code",
   "execution_count": 48,
   "metadata": {},
   "outputs": [
    {
     "data": {
      "text/plain": [
       "'/Users/yangsan/Python语法基础/9.rtf'"
      ]
     },
     "execution_count": 48,
     "metadata": {},
     "output_type": "execute_result"
    }
   ],
   "source": [
    "shutil.move('/Users/yangsan/Python语法基础/0.rtf', '/Users/yangsan/Python语法基础/9.rtf')"
   ]
  },
  {
   "cell_type": "markdown",
   "metadata": {},
   "source": [
    "### 只想要我要的文件格式\n",
    "    — 文件的属性\n",
    "        ○ os.path.getsize\n",
    "        ○ os.path.isfile()\n",
    "        ○ os.stat\n",
    "    — 后缀名\n",
    "        ○ split\n",
    "        ○ [-3:]\n",
    "        ○ re\n",
    "        ○ endswhit\n",
    "#### os.walk应用:\n",
    "#### 循环目录，根据后缀名进行过滤"
   ]
  },
  {
   "cell_type": "code",
   "execution_count": 5,
   "metadata": {},
   "outputs": [
    {
     "data": {
      "text/plain": [
       "1402470"
      ]
     },
     "execution_count": 5,
     "metadata": {},
     "output_type": "execute_result"
    }
   ],
   "source": [
    "import os\n",
    "filename = r'/Users/yangsan/Python语法基础/backup/绝密文件.pdf'\n",
    "os.path.getsize(filename) # 文件大小"
   ]
  },
  {
   "cell_type": "code",
   "execution_count": 6,
   "metadata": {},
   "outputs": [
    {
     "data": {
      "text/plain": [
       "True"
      ]
     },
     "execution_count": 6,
     "metadata": {},
     "output_type": "execute_result"
    }
   ],
   "source": [
    "os.path.isfile(filename) # 判断是不是文件"
   ]
  },
  {
   "cell_type": "code",
   "execution_count": 7,
   "metadata": {},
   "outputs": [
    {
     "data": {
      "text/plain": [
       "os.stat_result(st_mode=33261, st_ino=8596361261, st_dev=16777220, st_nlink=1, st_uid=501, st_gid=20, st_size=1402470, st_atime=1531382526, st_mtime=1525418448, st_ctime=1531321222)"
      ]
     },
     "execution_count": 7,
     "metadata": {},
     "output_type": "execute_result"
    }
   ],
   "source": [
    "os.stat(filename)"
   ]
  },
  {
   "cell_type": "code",
   "execution_count": 8,
   "metadata": {},
   "outputs": [
    {
     "data": {
      "text/plain": [
       "'pdf'"
      ]
     },
     "execution_count": 8,
     "metadata": {},
     "output_type": "execute_result"
    }
   ],
   "source": [
    "filename[-3:]"
   ]
  },
  {
   "cell_type": "code",
   "execution_count": 9,
   "metadata": {},
   "outputs": [
    {
     "data": {
      "text/plain": [
       "('/Users/yangsan/Python语法基础/backup/绝密文件', '.pdf')"
      ]
     },
     "execution_count": 9,
     "metadata": {},
     "output_type": "execute_result"
    }
   ],
   "source": [
    "os.path.splitext(filename)"
   ]
  },
  {
   "cell_type": "code",
   "execution_count": 11,
   "metadata": {},
   "outputs": [
    {
     "data": {
      "text/plain": [
       "True"
      ]
     },
     "execution_count": 11,
     "metadata": {},
     "output_type": "execute_result"
    }
   ],
   "source": [
    "filename.endswith('pdf')"
   ]
  },
  {
   "cell_type": "code",
   "execution_count": 14,
   "metadata": {},
   "outputs": [
    {
     "data": {
      "text/plain": [
       "'/Users/yangsan/Python语法基础/backup/绝密文件.pdf'"
      ]
     },
     "execution_count": 14,
     "metadata": {},
     "output_type": "execute_result"
    }
   ],
   "source": [
    "import re\n",
    "\n",
    "re_filename = re.compile('(.*pdf$)|(.*doc$)|(.*xls$)')\n",
    "re_filename.match(filename).group()"
   ]
  },
  {
   "cell_type": "code",
   "execution_count": 15,
   "metadata": {},
   "outputs": [
    {
     "name": "stdout",
     "output_type": "stream",
     "text": [
      ". ['.ipynb_checkpoints'] ['guess21.ipynb', '学习编程目标.ipynb', '虚拟Python搭建.ipynb', '管理目录与文件.ipynb', '正则表达式.ipynb', '翻译小程序.ipynb', '51memo.ipynb', 'list 列表.ipynb', '学习总结.ipynb', 'test.py', 'db.pkl', 'Conversion.0.1.ipynb', '类和对象.ipynb', 'if for while 循环.ipynb', 'Python 的函数.ipynb', '51memo.v.0.1.ipynb', 'conversion.ipynb']\n",
      "./.ipynb_checkpoints [] ['list 列表-checkpoint.ipynb', '类和对象-checkpoint.ipynb', '翻译小程序-checkpoint.ipynb', '51memo.v.0.1-checkpoint.ipynb', 'guess21-checkpoint.ipynb', 'if for while 循环-checkpoint.ipynb', '学习编程目标-checkpoint.ipynb', 'conversion-checkpoint.ipynb', 'Conversion.0.1-checkpoint.ipynb', '51memo-checkpoint.ipynb', '正则表达式-checkpoint.ipynb', '管理目录与文件-checkpoint.ipynb', 'Python 的函数-checkpoint.ipynb', '虚拟Python搭建-checkpoint.ipynb', '学习总结-checkpoint.ipynb']\n"
     ]
    }
   ],
   "source": [
    "for root, dirs, files, in os.walk('.'):\n",
    "    print(root, dirs, files)"
   ]
  },
  {
   "cell_type": "code",
   "execution_count": 17,
   "metadata": {},
   "outputs": [],
   "source": [
    "# os.walk 遍历目录，找到对应后缀名，并大小小于1M的文件\n",
    "for root, dirs, files, in os.walk('.'):\n",
    "#     print(root, dirs, files)\n",
    "    for name in files:\n",
    "        file = os.path.join(root, name)\n",
    "        if re_filename.match(file) and os.path.getsize(file) <1024*1024:\n",
    "            print(name)"
   ]
  },
  {
   "cell_type": "markdown",
   "metadata": {},
   "source": [
    "### 怎样压缩备份多个文件\n",
    "#### 使用zipfile\n",
    "\n",
    "        ●创建压缩文件\n",
    "        ●查看信息\n",
    "        ●解压缩"
   ]
  },
  {
   "cell_type": "code",
   "execution_count": 20,
   "metadata": {},
   "outputs": [],
   "source": [
    "# 创建\n",
    "import zipfile\n",
    "\n",
    "os.chdir('/Users/yangsan/Python语法基础/backup')\n",
    "my_zip = zipfile.ZipFile('sure.zip', 'w')  # 创建对象，写入文件\n",
    "my_zip.write('/Users/yangsan/Python语法基础/backup/绝密文件.pdf', compress_type=zipfile.ZIP_DEFLATED)\n",
    "my_zip.write('/Users/yangsan/Python语法基础/backup/1.docx', compress_type=zipfile.ZIP_DEFLATED)\n",
    "my_zip.close()  # 关闭文件"
   ]
  },
  {
   "cell_type": "code",
   "execution_count": 21,
   "metadata": {},
   "outputs": [
    {
     "data": {
      "text/plain": [
       "['Users/yangsan/Python语法基础/backup/绝密文件.pdf',\n",
       " 'Users/yangsan/Python语法基础/backup/1.docx']"
      ]
     },
     "execution_count": 21,
     "metadata": {},
     "output_type": "execute_result"
    }
   ],
   "source": [
    "# 查看\n",
    "sure = zipfile.ZipFile('sure.zip')\n",
    "sure.namelist()"
   ]
  },
  {
   "cell_type": "code",
   "execution_count": 24,
   "metadata": {},
   "outputs": [
    {
     "data": {
      "text/plain": [
       "<ZipInfo filename='Users/yangsan/Python语法基础/backup/1.docx' compress_type=deflate filemode='-rw-r--r--' file_size=11730 compress_size=8998>"
      ]
     },
     "execution_count": 24,
     "metadata": {},
     "output_type": "execute_result"
    }
   ],
   "source": [
    "sure.getinfo('Users/yangsan/Python语法基础/backup/1.docx')"
   ]
  },
  {
   "cell_type": "code",
   "execution_count": 25,
   "metadata": {},
   "outputs": [],
   "source": [
    "sure.close()"
   ]
  },
  {
   "cell_type": "code",
   "execution_count": 28,
   "metadata": {},
   "outputs": [
    {
     "data": {
      "text/plain": [
       "'sure-1.zip'"
      ]
     },
     "execution_count": 28,
     "metadata": {},
     "output_type": "execute_result"
    }
   ],
   "source": [
    "import shutil\n",
    "shutil.copy('sure.zip', 'sure-1.zip')"
   ]
  },
  {
   "cell_type": "code",
   "execution_count": 29,
   "metadata": {},
   "outputs": [],
   "source": [
    "# 加压缩\n",
    "sure = zipfile.ZipFile('sure-1.zip')\n",
    "sure.extractall('..')\n",
    "sure.close()"
   ]
  },
  {
   "cell_type": "markdown",
   "metadata": {},
   "source": [
    "### 代码备份机\n",
    "    ● 打包压缩\n",
    "    ● 自动命名\n",
    "    ● 打包前进行文件筛选，只备份特定文件\n",
    "    ● (定时)\n",
    "\n",
    "### kv编程论思路提示：\n",
    "    ● 项目：拆解\n",
    "    ● 单功能：写函数\n",
    "    ● 多功能：合并类\n",
    "    ● 写代码：先框架，后完善\n",
    "    ● 要点：完成比完美更重要"
   ]
  },
  {
   "cell_type": "code",
   "execution_count": 30,
   "metadata": {},
   "outputs": [],
   "source": [
    "# 第一步：根据功能设计函数\n",
    "# 打包\n",
    "def zip_all():\n",
    "    pass\n",
    "# 自动命名\n",
    "def auto_name():\n",
    "    pass\n",
    "# 文件筛选\n",
    "def zip_all_by_name():\n",
    "    pass"
   ]
  },
  {
   "cell_type": "code",
   "execution_count": null,
   "metadata": {},
   "outputs": [],
   "source": [
    "# 第二步：完善函数输入参数和返回值，并逐一测试\n",
    "# 打包\n",
    "import zipfile\n",
    "import os\n",
    "import re\n",
    "\n",
    "def zip_all(from_dir, target_name):\n",
    "    '把目录中每个文件写入zip文件'\n",
    "    my_zip = zipfile.ZipFile(target_name, 'w') # 创建对象，\n",
    "#     my_zip.write\n",
    "    for foot, dirs, files in os.walk(from_dir):\n",
    "        for name in files:\n",
    "            filesname = os.path.join(root, name) # 根目录下的\n",
    "            print(filename)\n",
    "            my_zip.write(filename, compress_type=zipfile.ZIP_DEFLATED)\n",
    "    my_zip.close() # 关闭文件， 注意在最后所有文件添加完毕再关闭\n",
    "\n",
    "# 自动命名，以递增为例\n",
    "def auto_name(source_name):\n",
    "    new_name = '1.zip'\n",
    "    if os.path.exists(new_name):\n",
    "        show = '文件 \"%s\" 已存在'\n",
    "    else:\n",
    "        show = '文件 \"%s\" 未找到'\n",
    "        print(show % new_name)\n",
    "    # 判断文件是否存在，单纯if只是判断是否为空\n",
    "    # 还需要进一步判断\n",
    "    if sources_name: # a-1.zip, a-2.zip, a-3.zip, ..., a-n.zip\n",
    "        # 方法1， split拆分\n",
    "        new_name = source_name.spilt('-')[0] + '-' \\\n",
    "        + str(int(source_name.spilt('-')[1].spilt('.')[0])+1)\n",
    "        + '.zip'\n",
    "        # 方法2， 正则\n",
    "    return new_name\n",
    "\n",
    "# 文件筛选\n",
    "def zip_all_by_name(from_dir, target_name, keywords):\n",
    "    pass\n",
    "\n",
    "# 测试\n",
    "base_dir = \n",
    "target = os.path.join(base_dir, auto_name('a-3.zip'))\n",
    "from_dir = os.path.join(base_dir, '')\n",
    "zip_all(from_dir, target)"
   ]
  },
  {
   "cell_type": "code",
   "execution_count": 7,
   "metadata": {},
   "outputs": [
    {
     "name": "stdout",
     "output_type": "stream",
     "text": [
      "2\n",
      "12\n"
     ]
    }
   ],
   "source": [
    "import re\n",
    "\n",
    "new_name = re.compile(r'-(\\d+)')\n",
    "print(new_name.search('a-1.zip').groups()[0])\n",
    "print(new_name.search('a-12.zip').groups()[0])"
   ]
  },
  {
   "cell_type": "code",
   "execution_count": 35,
   "metadata": {},
   "outputs": [
    {
     "name": "stdout",
     "output_type": "stream",
     "text": [
      "文件 \"a-1.zip\" 未找到\n"
     ]
    }
   ],
   "source": [
    "name = 'a-1.zip'\n",
    "if os.path.exists(name):\n",
    "    show = '文件 \"%s\" 已存在'\n",
    "else:\n",
    "    show = '文件 \"%s\" 未找到'\n",
    "    os.mkdir('1')\n",
    "    print (show % name)"
   ]
  }
 ],
 "metadata": {
  "kernelspec": {
   "display_name": "Python 3",
   "language": "python",
   "name": "python3"
  },
  "language_info": {
   "codemirror_mode": {
    "name": "ipython",
    "version": 3
   },
   "file_extension": ".py",
   "mimetype": "text/x-python",
   "name": "python",
   "nbconvert_exporter": "python",
   "pygments_lexer": "ipython3",
   "version": "3.6.5"
  }
 },
 "nbformat": 4,
 "nbformat_minor": 2
}
