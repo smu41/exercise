{
 "cells": [
  {
   "cell_type": "code",
   "execution_count": 7,
   "metadata": {},
   "outputs": [],
   "source": [
    "from urllib import request\n",
    "from bs4 import BeautifulSoup"
   ]
  },
  {
   "cell_type": "code",
   "execution_count": 8,
   "metadata": {},
   "outputs": [],
   "source": [
    "url = 'https://movie.douban.com/top250'\n",
    "req = request.urlopen(url)\n",
    "content = req.read().decode('utf-8')\n",
    "obj = BeautifulSoup(content, 'html5lib')"
   ]
  },
  {
   "cell_type": "code",
   "execution_count": 3,
   "metadata": {},
   "outputs": [],
   "source": [
    "lista = obj.select('div[class=pic] a')\n",
    "a = lista[0]"
   ]
  },
  {
   "cell_type": "code",
   "execution_count": 4,
   "metadata": {},
   "outputs": [
    {
     "data": {
      "text/plain": [
       "'https://movie.douban.com/subject/1292052/'"
      ]
     },
     "execution_count": 4,
     "metadata": {},
     "output_type": "execute_result"
    }
   ],
   "source": [
    "a.get('href')"
   ]
  },
  {
   "cell_type": "code",
   "execution_count": 5,
   "metadata": {},
   "outputs": [
    {
     "data": {
      "text/plain": [
       "'肖申克的救赎'"
      ]
     },
     "execution_count": 5,
     "metadata": {},
     "output_type": "execute_result"
    }
   ],
   "source": [
    "img = a.find('img')\n",
    "img.get('alt')"
   ]
  },
  {
   "cell_type": "code",
   "execution_count": 9,
   "metadata": {},
   "outputs": [
    {
     "name": "stdout",
     "output_type": "stream",
     "text": [
      "肖申克的救赎 https://movie.douban.com/subject/1292052/\n",
      "霸王别姬 https://movie.douban.com/subject/1291546/\n",
      "这个杀手不太冷 https://movie.douban.com/subject/1295644/\n",
      "阿甘正传 https://movie.douban.com/subject/1292720/\n",
      "美丽人生 https://movie.douban.com/subject/1292063/\n",
      "泰坦尼克号 https://movie.douban.com/subject/1292722/\n",
      "千与千寻 https://movie.douban.com/subject/1291561/\n",
      "辛德勒的名单 https://movie.douban.com/subject/1295124/\n",
      "盗梦空间 https://movie.douban.com/subject/3541415/\n",
      "机器人总动员 https://movie.douban.com/subject/2131459/\n",
      "忠犬八公的故事 https://movie.douban.com/subject/3011091/\n",
      "三傻大闹宝莱坞 https://movie.douban.com/subject/3793023/\n",
      "海上钢琴师 https://movie.douban.com/subject/1292001/\n",
      "放牛班的春天 https://movie.douban.com/subject/1291549/\n",
      "大话西游之大圣娶亲 https://movie.douban.com/subject/1292213/\n",
      "楚门的世界 https://movie.douban.com/subject/1292064/\n",
      "教父 https://movie.douban.com/subject/1291841/\n",
      "龙猫 https://movie.douban.com/subject/1291560/\n",
      "星际穿越 https://movie.douban.com/subject/1889243/\n",
      "熔炉 https://movie.douban.com/subject/5912992/\n",
      "无间道 https://movie.douban.com/subject/1307914/\n",
      "触不可及 https://movie.douban.com/subject/6786002/\n",
      "当幸福来敲门 https://movie.douban.com/subject/1849031/\n",
      "乱世佳人 https://movie.douban.com/subject/1300267/\n",
      "怦然心动 https://movie.douban.com/subject/3319755/\n"
     ]
    }
   ],
   "source": [
    "lista = obj.select('div[class=pic] a')\n",
    "for a in lista:\n",
    "    url = a.get('href')\n",
    "    img = a.find('img')\n",
    "    name = img.get('alt')\n",
    "    print(name, url)"
   ]
  },
  {
   "cell_type": "code",
   "execution_count": 8,
   "metadata": {},
   "outputs": [],
   "source": [
    "req = request.urlopen('https://movie.douban.com/subject/1292052/')\n",
    "content = req.read().decode('utf-8')\n",
    "obj = BeautifulSoup(content, 'html5lib')"
   ]
  },
  {
   "cell_type": "code",
   "execution_count": 9,
   "metadata": {},
   "outputs": [
    {
     "data": {
      "text/plain": [
       "<div id=\"info\">\n",
       "        <span><span class=\"pl\">导演</span>: <span class=\"attrs\"><a href=\"/celebrity/1047973/\" rel=\"v:directedBy\">弗兰克·德拉邦特</a></span></span><br/>\n",
       "        <span><span class=\"pl\">编剧</span>: <span class=\"attrs\"><a href=\"/celebrity/1047973/\">弗兰克·德拉邦特</a> / <a href=\"/celebrity/1049547/\">斯蒂芬·金</a></span></span><br/>\n",
       "        <span class=\"actor\"><span class=\"pl\">主演</span>: <span class=\"attrs\"><a href=\"/celebrity/1054521/\" rel=\"v:starring\">蒂姆·罗宾斯</a> / <a href=\"/celebrity/1054534/\" rel=\"v:starring\">摩根·弗里曼</a> / <a href=\"/celebrity/1041179/\" rel=\"v:starring\">鲍勃·冈顿</a> / <a href=\"/celebrity/1000095/\" rel=\"v:starring\">威廉姆·赛德勒</a> / <a href=\"/celebrity/1013817/\" rel=\"v:starring\">克兰西·布朗</a> / <a href=\"/celebrity/1010612/\" rel=\"v:starring\">吉尔·贝罗斯</a> / <a href=\"/celebrity/1054892/\" rel=\"v:starring\">马克·罗斯顿</a> / <a href=\"/celebrity/1027897/\" rel=\"v:starring\">詹姆斯·惠特摩</a> / <a href=\"/celebrity/1087302/\" rel=\"v:starring\">杰弗里·德曼</a> / <a href=\"/celebrity/1074035/\" rel=\"v:starring\">拉里·布兰登伯格</a> / <a href=\"/celebrity/1099030/\" rel=\"v:starring\">尼尔·吉恩托利</a> / <a href=\"/celebrity/1343305/\" rel=\"v:starring\">布赖恩·利比</a> / <a href=\"/celebrity/1048222/\" rel=\"v:starring\">大卫·普罗瓦尔</a> / <a href=\"/celebrity/1343306/\" rel=\"v:starring\">约瑟夫·劳格诺</a> / <a href=\"/celebrity/1315528/\" rel=\"v:starring\">祖德·塞克利拉</a> / <a href=\"/celebrity/1014040/\" rel=\"v:starring\">保罗·麦克兰尼</a> / <a href=\"/celebrity/1390795/\" rel=\"v:starring\">芮妮·布莱恩</a> / <a href=\"/celebrity/1083603/\" rel=\"v:starring\">阿方索·弗里曼</a> / <a href=\"/celebrity/1330490/\" rel=\"v:starring\">V·J·福斯特</a> / <a href=\"/celebrity/1000635/\" rel=\"v:starring\">弗兰克·梅德拉诺</a> / <a href=\"/celebrity/1390797/\" rel=\"v:starring\">马克·迈尔斯</a> / <a href=\"/celebrity/1150160/\" rel=\"v:starring\">尼尔·萨默斯</a> / <a href=\"/celebrity/1048233/\" rel=\"v:starring\">耐德·巴拉米</a> / <a href=\"/celebrity/1000721/\" rel=\"v:starring\">布赖恩·戴拉特</a> / <a href=\"/celebrity/1333685/\" rel=\"v:starring\">唐·麦克马纳斯</a></span></span><br/>\n",
       "        <span class=\"pl\">类型:</span> <span property=\"v:genre\">剧情</span> / <span property=\"v:genre\">犯罪</span><br/>\n",
       "        \n",
       "        <span class=\"pl\">制片国家/地区:</span> 美国<br/>\n",
       "        <span class=\"pl\">语言:</span> 英语<br/>\n",
       "        <span class=\"pl\">上映日期:</span> <span content=\"1994-09-10(多伦多电影节)\" property=\"v:initialReleaseDate\">1994-09-10(多伦多电影节)</span> / <span content=\"1994-10-14(美国)\" property=\"v:initialReleaseDate\">1994-10-14(美国)</span><br/>\n",
       "        <span class=\"pl\">片长:</span> <span content=\"142\" property=\"v:runtime\">142分钟</span><br/>\n",
       "        <span class=\"pl\">又名:</span> 月黑高飞(港) / 刺激1995(台) / 地狱诺言 / 铁窗岁月 / 消香克的救赎<br/>\n",
       "        <span class=\"pl\">IMDb链接:</span> <a href=\"http://www.imdb.com/title/tt0111161\" rel=\"nofollow\" target=\"_blank\">tt0111161</a><br/>\n",
       "\n",
       "</div>"
      ]
     },
     "execution_count": 9,
     "metadata": {},
     "output_type": "execute_result"
    }
   ],
   "source": [
    "div = obj.find('div', id=\"info\")\n",
    "div"
   ]
  },
  {
   "cell_type": "code",
   "execution_count": 14,
   "metadata": {},
   "outputs": [
    {
     "name": "stdout",
     "output_type": "stream",
     "text": [
      "导演: 弗兰克·德拉邦特\n",
      "编剧: 弗兰克·德拉邦特 / 斯蒂芬·金\n",
      "主演: 蒂姆·罗宾斯 / 摩根·弗里曼 / 鲍勃·冈顿 / 威廉姆·赛德勒 / 克兰西·布朗 / 吉尔·贝罗斯 / 马克·罗斯顿 / 詹姆斯·惠特摩 / 杰弗里·德曼 / 拉里·布兰登伯格 / 尼尔·吉恩托利 / 布赖恩·利比 / 大卫·普罗瓦尔 / 约瑟夫·劳格诺 / 祖德·塞克利拉 / 保罗·麦克兰尼 / 芮妮·布莱恩 / 阿方索·弗里曼 / V·J·福斯特 / 弗兰克·梅德拉诺 / 马克·迈尔斯 / 尼尔·萨默斯 / 耐德·巴拉米 / 布赖恩·戴拉特 / 唐·麦克马纳斯\n",
      "类型:\n",
      "剧情\n",
      "犯罪\n",
      "制片国家/地区:\n",
      "语言:\n",
      "上映日期:\n",
      "1994-09-10(多伦多电影节)\n",
      "1994-10-14(美国)\n",
      "片长:\n",
      "142分钟\n",
      "又名:\n",
      "IMDb链接:\n"
     ]
    }
   ],
   "source": [
    "spans = div.select('> span')\n",
    "for span in spans:\n",
    "    print(span.text)"
   ]
  },
  {
   "cell_type": "code",
   "execution_count": 15,
   "metadata": {},
   "outputs": [
    {
     "data": {
      "text/plain": [
       "'\\n        导演: 弗兰克·德拉邦特\\n        编剧: 弗兰克·德拉邦特 / 斯蒂芬·金\\n        主演: 蒂姆·罗宾斯 / 摩根·弗里曼 / 鲍勃·冈顿 / 威廉姆·赛德勒 / 克兰西·布朗 / 吉尔·贝罗斯 / 马克·罗斯顿 / 詹姆斯·惠特摩 / 杰弗里·德曼 / 拉里·布兰登伯格 / 尼尔·吉恩托利 / 布赖恩·利比 / 大卫·普罗瓦尔 / 约瑟夫·劳格诺 / 祖德·塞克利拉 / 保罗·麦克兰尼 / 芮妮·布莱恩 / 阿方索·弗里曼 / V·J·福斯特 / 弗兰克·梅德拉诺 / 马克·迈尔斯 / 尼尔·萨默斯 / 耐德·巴拉米 / 布赖恩·戴拉特 / 唐·麦克马纳斯\\n        类型: 剧情 / 犯罪\\n        \\n        制片国家/地区: 美国\\n        语言: 英语\\n        上映日期: 1994-09-10(多伦多电影节) / 1994-10-14(美国)\\n        片长: 142分钟\\n        又名: 月黑高飞(港) / 刺激1995(台) / 地狱诺言 / 铁窗岁月 / 消香克的救赎\\n        IMDb链接: tt0111161\\n\\n'"
      ]
     },
     "execution_count": 15,
     "metadata": {},
     "output_type": "execute_result"
    }
   ],
   "source": [
    "div.text"
   ]
  },
  {
   "cell_type": "code",
   "execution_count": 16,
   "metadata": {},
   "outputs": [
    {
     "data": {
      "text/plain": [
       "'\\n        导演: 弗兰克·德拉邦特\\n        编剧: 弗兰克·德拉邦特 / 斯蒂芬·金\\n        主演: 蒂姆·罗宾斯 / 摩根·弗里曼 / 鲍勃·冈顿 / 威廉姆·赛德勒 / 克兰西·布朗 / 吉尔·贝罗斯 / 马克·罗斯顿 / 詹姆斯·惠特摩 / 杰弗里·德曼 / 拉里·布兰登伯格 / 尼尔·吉恩托利 / 布赖恩·利比 / 大卫·普罗瓦尔 / 约瑟夫·劳格诺 / 祖德·塞克利拉 / 保罗·麦克兰尼 / 芮妮·布莱恩 / 阿方索·弗里曼 / V·J·福斯特 / 弗兰克·梅德拉诺 / 马克·迈尔斯 / 尼尔·萨默斯 / 耐德·巴拉米 / 布赖恩·戴拉特 / 唐·麦克马纳斯\\n        类型: 剧情 / 犯罪\\n        \\n        制片国家/地区: 美国\\n        语言: 英语\\n        上映日期: 1994-09-10(多伦多电影节) / 1994-10-14(美国)\\n        片长: 142分钟\\n        又名: 月黑高飞(港) / 刺激1995(台) / 地狱诺言 / 铁窗岁月 / 消香克的救赎\\n        IMDb链接: tt0111161\\n\\n'"
      ]
     },
     "execution_count": 16,
     "metadata": {},
     "output_type": "execute_result"
    }
   ],
   "source": [
    "info = div.text\n",
    "info"
   ]
  },
  {
   "cell_type": "code",
   "execution_count": 19,
   "metadata": {},
   "outputs": [
    {
     "data": {
      "text/plain": [
       "['',\n",
       " '        导演: 弗兰克·德拉邦特',\n",
       " '        编剧: 弗兰克·德拉邦特 / 斯蒂芬·金',\n",
       " '        主演: 蒂姆·罗宾斯 / 摩根·弗里曼 / 鲍勃·冈顿 / 威廉姆·赛德勒 / 克兰西·布朗 / 吉尔·贝罗斯 / 马克·罗斯顿 / 詹姆斯·惠特摩 / 杰弗里·德曼 / 拉里·布兰登伯格 / 尼尔·吉恩托利 / 布赖恩·利比 / 大卫·普罗瓦尔 / 约瑟夫·劳格诺 / 祖德·塞克利拉 / 保罗·麦克兰尼 / 芮妮·布莱恩 / 阿方索·弗里曼 / V·J·福斯特 / 弗兰克·梅德拉诺 / 马克·迈尔斯 / 尼尔·萨默斯 / 耐德·巴拉米 / 布赖恩·戴拉特 / 唐·麦克马纳斯',\n",
       " '        类型: 剧情 / 犯罪',\n",
       " '        ',\n",
       " '        制片国家/地区: 美国',\n",
       " '        语言: 英语',\n",
       " '        上映日期: 1994-09-10(多伦多电影节) / 1994-10-14(美国)',\n",
       " '        片长: 142分钟',\n",
       " '        又名: 月黑高飞(港) / 刺激1995(台) / 地狱诺言 / 铁窗岁月 / 消香克的救赎',\n",
       " '        IMDb链接: tt0111161',\n",
       " '',\n",
       " '']"
      ]
     },
     "execution_count": 19,
     "metadata": {},
     "output_type": "execute_result"
    }
   ],
   "source": [
    "info.split('\\n')"
   ]
  },
  {
   "cell_type": "code",
   "execution_count": 20,
   "metadata": {},
   "outputs": [],
   "source": [
    "listinfo = info.split('\\n')"
   ]
  },
  {
   "cell_type": "code",
   "execution_count": 23,
   "metadata": {},
   "outputs": [],
   "source": [
    "listt = [item for item in listinfo if item.strip()]"
   ]
  },
  {
   "cell_type": "code",
   "execution_count": 26,
   "metadata": {},
   "outputs": [
    {
     "data": {
      "text/plain": [
       "[['导演', ' 弗兰克·德拉邦特'],\n",
       " ['编剧', ' 弗兰克·德拉邦特 / 斯蒂芬·金'],\n",
       " ['主演',\n",
       "  ' 蒂姆·罗宾斯 / 摩根·弗里曼 / 鲍勃·冈顿 / 威廉姆·赛德勒 / 克兰西·布朗 / 吉尔·贝罗斯 / 马克·罗斯顿 / 詹姆斯·惠特摩 / 杰弗里·德曼 / 拉里·布兰登伯格 / 尼尔·吉恩托利 / 布赖恩·利比 / 大卫·普罗瓦尔 / 约瑟夫·劳格诺 / 祖德·塞克利拉 / 保罗·麦克兰尼 / 芮妮·布莱恩 / 阿方索·弗里曼 / V·J·福斯特 / 弗兰克·梅德拉诺 / 马克·迈尔斯 / 尼尔·萨默斯 / 耐德·巴拉米 / 布赖恩·戴拉特 / 唐·麦克马纳斯'],\n",
       " ['类型', ' 剧情 / 犯罪'],\n",
       " ['制片国家/地区', ' 美国'],\n",
       " ['语言', ' 英语'],\n",
       " ['上映日期', ' 1994-09-10(多伦多电影节) / 1994-10-14(美国)'],\n",
       " ['片长', ' 142分钟'],\n",
       " ['又名', ' 月黑高飞(港) / 刺激1995(台) / 地狱诺言 / 铁窗岁月 / 消香克的救赎'],\n",
       " ['IMDb链接', ' tt0111161']]"
      ]
     },
     "execution_count": 26,
     "metadata": {},
     "output_type": "execute_result"
    }
   ],
   "source": [
    "listt = [item.strip().split(':') for item in listt]\n",
    "listt"
   ]
  },
  {
   "cell_type": "code",
   "execution_count": 27,
   "metadata": {},
   "outputs": [
    {
     "data": {
      "text/plain": [
       "{'导演': ' 弗兰克·德拉邦特',\n",
       " '编剧': ' 弗兰克·德拉邦特 / 斯蒂芬·金',\n",
       " '主演': ' 蒂姆·罗宾斯 / 摩根·弗里曼 / 鲍勃·冈顿 / 威廉姆·赛德勒 / 克兰西·布朗 / 吉尔·贝罗斯 / 马克·罗斯顿 / 詹姆斯·惠特摩 / 杰弗里·德曼 / 拉里·布兰登伯格 / 尼尔·吉恩托利 / 布赖恩·利比 / 大卫·普罗瓦尔 / 约瑟夫·劳格诺 / 祖德·塞克利拉 / 保罗·麦克兰尼 / 芮妮·布莱恩 / 阿方索·弗里曼 / V·J·福斯特 / 弗兰克·梅德拉诺 / 马克·迈尔斯 / 尼尔·萨默斯 / 耐德·巴拉米 / 布赖恩·戴拉特 / 唐·麦克马纳斯',\n",
       " '类型': ' 剧情 / 犯罪',\n",
       " '制片国家/地区': ' 美国',\n",
       " '语言': ' 英语',\n",
       " '上映日期': ' 1994-09-10(多伦多电影节) / 1994-10-14(美国)',\n",
       " '片长': ' 142分钟',\n",
       " '又名': ' 月黑高飞(港) / 刺激1995(台) / 地狱诺言 / 铁窗岁月 / 消香克的救赎',\n",
       " 'IMDb链接': ' tt0111161'}"
      ]
     },
     "execution_count": 27,
     "metadata": {},
     "output_type": "execute_result"
    }
   ],
   "source": [
    "dict(listt)"
   ]
  },
  {
   "cell_type": "code",
   "execution_count": 30,
   "metadata": {},
   "outputs": [
    {
     "data": {
      "text/plain": [
       "'9.6'"
      ]
     },
     "execution_count": 30,
     "metadata": {},
     "output_type": "execute_result"
    }
   ],
   "source": [
    "obj.find(property=\"v:average\").text"
   ]
  },
  {
   "cell_type": "code",
   "execution_count": 31,
   "metadata": {},
   "outputs": [
    {
     "data": {
      "text/plain": [
       "'1182018'"
      ]
     },
     "execution_count": 31,
     "metadata": {},
     "output_type": "execute_result"
    }
   ],
   "source": [
    "obj.find(property=\"v:votes\").text"
   ]
  },
  {
   "cell_type": "code",
   "execution_count": 33,
   "metadata": {},
   "outputs": [
    {
     "name": "stdout",
     "output_type": "stream",
     "text": [
      "{'导演': ' 弗兰克·德拉邦特', '编剧': ' 弗兰克·德拉邦特 / 斯蒂芬·金', '主演': ' 蒂姆·罗宾斯 / 摩根·弗里曼 / 鲍勃·冈顿 / 威廉姆·赛德勒 / 克兰西·布朗 / 吉尔·贝罗斯 / 马克·罗斯顿 / 詹姆斯·惠特摩 / 杰弗里·德曼 / 拉里·布兰登伯格 / 尼尔·吉恩托利 / 布赖恩·利比 / 大卫·普罗瓦尔 / 约瑟夫·劳格诺 / 祖德·塞克利拉 / 保罗·麦克兰尼 / 芮妮·布莱恩 / 阿方索·弗里曼 / V·J·福斯特 / 弗兰克·梅德拉诺 / 马克·迈尔斯 / 尼尔·萨默斯 / 耐德·巴拉米 / 布赖恩·戴拉特 / 唐·麦克马纳斯', '类型': ' 剧情 / 犯罪', '制片国家/地区': ' 美国', '语言': ' 英语', '上映日期': ' 1994-09-10(多伦多电影节) / 1994-10-14(美国)', '片长': ' 142分钟', '又名': ' 月黑高飞(港) / 刺激1995(台) / 地狱诺言 / 铁窗岁月 / 消香克的救赎', 'IMDb链接': ' tt0111161', 'score': '9.6', 'votes': '1182033'}\n"
     ]
    }
   ],
   "source": [
    "req = request.urlopen('https://movie.douban.com/subject/1295644/')\n",
    "content = req.read().decode('utf-8')\n",
    "obj = BeautifulSoup(content, 'html5lib')\n",
    "div = obj.find('div', id=\"info\")\n",
    "info = div.text\n",
    "listinfo = info.split('\\n')\n",
    "listinfo = [item for item in listinfo if item.strip()]\n",
    "listinfo = [item.strip().split(':') for item in listinfo]\n",
    "result = dict(listinfo)\n",
    "result['score'] = obj.find(property=\"v:average\").text\n",
    "result['votes'] = obj.find(property=\"v:votes\").text\n",
    "print(result)"
   ]
  },
  {
   "cell_type": "code",
   "execution_count": 41,
   "metadata": {},
   "outputs": [],
   "source": [
    "req = request.urlopen('https://movie.douban.com/subject/3541415/')\n",
    "content = req.read().decode('utf-8')\n",
    "obj = BeautifulSoup(content, 'html5lib')\n",
    "div = obj.find('div', id=\"info\")\n",
    "info = div.text\n",
    "listinfo = info.split('\\n')\n",
    "listinfo = [item for item in listinfo if item.strip()]"
   ]
  },
  {
   "cell_type": "code",
   "execution_count": 39,
   "metadata": {},
   "outputs": [
    {
     "data": {
      "text/plain": [
       "[['导演', ' 克里斯托弗·诺兰'],\n",
       " ['编剧', ' 克里斯托弗·诺兰'],\n",
       " ['主演',\n",
       "  ' 莱昂纳多·迪卡普里奥 / 约瑟夫·高登-莱维特 / 艾伦·佩吉 / 汤姆·哈迪 / 渡边谦 / 迪利普·劳 / 基里安·墨菲 / 汤姆·贝伦杰 / 玛丽昂·歌迪亚 / 皮特·波斯尔思韦特 / 迈克尔·凯恩 / 卢卡斯·哈斯 / 李太力 / 克莱尔·吉尔蕾 / 马格努斯·诺兰 / 泰勒·吉蕾 / 乔纳森·吉尔 / 水源士郎 / 冈本玉二 / 厄尔·卡梅伦 / 瑞恩·海沃德 / 米兰达·诺兰 / 拉什·费加 / 蒂姆·科勒赫 / 妲露拉·莱莉'],\n",
       " ['类型', ' 剧情 / 科幻 / 悬疑 / 冒险'],\n",
       " ['制片国家/地区', ' 美国 / 英国'],\n",
       " ['语言', ' 英语 / 日语 / 法语'],\n",
       " ['上映日期', ' 2010-09-01(中国大陆) / 2010-07-16(美国)'],\n",
       " ['片长', ' 148分钟'],\n",
       " ['又名', ' 潜行凶间(港) / 全面启动(台) / 奠基 / 心灵犯案 / 记忆迷阵 / 记忆魔方'],\n",
       " ['IMDb链接', ' tt1375666'],\n",
       " ['官方小站', ''],\n",
       " ['盗梦空间-Inception']]"
      ]
     },
     "execution_count": 39,
     "metadata": {},
     "output_type": "execute_result"
    }
   ],
   "source": [
    "listinfo"
   ]
  },
  {
   "cell_type": "code",
   "execution_count": 42,
   "metadata": {},
   "outputs": [
    {
     "data": {
      "text/plain": [
       "[['导演', ' 克里斯托弗·诺兰'],\n",
       " ['编剧', ' 克里斯托弗·诺兰'],\n",
       " ['主演',\n",
       "  ' 莱昂纳多·迪卡普里奥 / 约瑟夫·高登-莱维特 / 艾伦·佩吉 / 汤姆·哈迪 / 渡边谦 / 迪利普·劳 / 基里安·墨菲 / 汤姆·贝伦杰 / 玛丽昂·歌迪亚 / 皮特·波斯尔思韦特 / 迈克尔·凯恩 / 卢卡斯·哈斯 / 李太力 / 克莱尔·吉尔蕾 / 马格努斯·诺兰 / 泰勒·吉蕾 / 乔纳森·吉尔 / 水源士郎 / 冈本玉二 / 厄尔·卡梅伦 / 瑞恩·海沃德 / 米兰达·诺兰 / 拉什·费加 / 蒂姆·科勒赫 / 妲露拉·莱莉'],\n",
       " ['类型', ' 剧情 / 科幻 / 悬疑 / 冒险'],\n",
       " ['制片国家/地区', ' 美国 / 英国'],\n",
       " ['语言', ' 英语 / 日语 / 法语'],\n",
       " ['上映日期', ' 2010-09-01(中国大陆) / 2010-07-16(美国)'],\n",
       " ['片长', ' 148分钟'],\n",
       " ['又名', ' 潜行凶间(港) / 全面启动(台) / 奠基 / 心灵犯案 / 记忆迷阵 / 记忆魔方'],\n",
       " ['IMDb链接', ' tt1375666'],\n",
       " ['官方小站', ''],\n",
       " ['盗梦空间-Inception']]"
      ]
     },
     "execution_count": 42,
     "metadata": {},
     "output_type": "execute_result"
    }
   ],
   "source": [
    "listinfo = [item.strip().split(':') for item in listinfo]\n",
    "listinfo"
   ]
  },
  {
   "cell_type": "code",
   "execution_count": 43,
   "metadata": {},
   "outputs": [
    {
     "data": {
      "text/plain": [
       "[['导演', ' 克里斯托弗·诺兰'],\n",
       " ['编剧', ' 克里斯托弗·诺兰'],\n",
       " ['主演',\n",
       "  ' 莱昂纳多·迪卡普里奥 / 约瑟夫·高登-莱维特 / 艾伦·佩吉 / 汤姆·哈迪 / 渡边谦 / 迪利普·劳 / 基里安·墨菲 / 汤姆·贝伦杰 / 玛丽昂·歌迪亚 / 皮特·波斯尔思韦特 / 迈克尔·凯恩 / 卢卡斯·哈斯 / 李太力 / 克莱尔·吉尔蕾 / 马格努斯·诺兰 / 泰勒·吉蕾 / 乔纳森·吉尔 / 水源士郎 / 冈本玉二 / 厄尔·卡梅伦 / 瑞恩·海沃德 / 米兰达·诺兰 / 拉什·费加 / 蒂姆·科勒赫 / 妲露拉·莱莉'],\n",
       " ['类型', ' 剧情 / 科幻 / 悬疑 / 冒险'],\n",
       " ['制片国家/地区', ' 美国 / 英国'],\n",
       " ['语言', ' 英语 / 日语 / 法语'],\n",
       " ['上映日期', ' 2010-09-01(中国大陆) / 2010-07-16(美国)'],\n",
       " ['片长', ' 148分钟'],\n",
       " ['又名', ' 潜行凶间(港) / 全面启动(台) / 奠基 / 心灵犯案 / 记忆迷阵 / 记忆魔方'],\n",
       " ['IMDb链接', ' tt1375666'],\n",
       " ['官方小站', '']]"
      ]
     },
     "execution_count": 43,
     "metadata": {},
     "output_type": "execute_result"
    }
   ],
   "source": [
    "listinfo = [item for item in listinfo if len(item) == 2]\n",
    "listinfo"
   ]
  },
  {
   "cell_type": "code",
   "execution_count": 44,
   "metadata": {},
   "outputs": [
    {
     "data": {
      "text/plain": [
       "{'导演': ' 克里斯托弗·诺兰',\n",
       " '编剧': ' 克里斯托弗·诺兰',\n",
       " '主演': ' 莱昂纳多·迪卡普里奥 / 约瑟夫·高登-莱维特 / 艾伦·佩吉 / 汤姆·哈迪 / 渡边谦 / 迪利普·劳 / 基里安·墨菲 / 汤姆·贝伦杰 / 玛丽昂·歌迪亚 / 皮特·波斯尔思韦特 / 迈克尔·凯恩 / 卢卡斯·哈斯 / 李太力 / 克莱尔·吉尔蕾 / 马格努斯·诺兰 / 泰勒·吉蕾 / 乔纳森·吉尔 / 水源士郎 / 冈本玉二 / 厄尔·卡梅伦 / 瑞恩·海沃德 / 米兰达·诺兰 / 拉什·费加 / 蒂姆·科勒赫 / 妲露拉·莱莉',\n",
       " '类型': ' 剧情 / 科幻 / 悬疑 / 冒险',\n",
       " '制片国家/地区': ' 美国 / 英国',\n",
       " '语言': ' 英语 / 日语 / 法语',\n",
       " '上映日期': ' 2010-09-01(中国大陆) / 2010-07-16(美国)',\n",
       " '片长': ' 148分钟',\n",
       " '又名': ' 潜行凶间(港) / 全面启动(台) / 奠基 / 心灵犯案 / 记忆迷阵 / 记忆魔方',\n",
       " 'IMDb链接': ' tt1375666',\n",
       " '官方小站': ''}"
      ]
     },
     "execution_count": 44,
     "metadata": {},
     "output_type": "execute_result"
    }
   ],
   "source": [
    "dict(listinfo)"
   ]
  },
  {
   "cell_type": "code",
   "execution_count": 45,
   "metadata": {},
   "outputs": [],
   "source": [
    "req = request.urlopen('https://movie.douban.com/top250')\n",
    "obj = BeautifulSoup(req.read().decode('utf-8'), 'html5lib')"
   ]
  },
  {
   "cell_type": "code",
   "execution_count": 49,
   "metadata": {},
   "outputs": [
    {
     "data": {
      "text/plain": [
       "<link href=\"?start=25&amp;filter=\" rel=\"next\"/>"
      ]
     },
     "execution_count": 49,
     "metadata": {},
     "output_type": "execute_result"
    }
   ],
   "source": [
    "obj.find('link', rel=\"next\")"
   ]
  },
  {
   "cell_type": "code",
   "execution_count": 51,
   "metadata": {},
   "outputs": [],
   "source": [
    "result = dict(listinfo)"
   ]
  },
  {
   "cell_type": "code",
   "execution_count": 52,
   "metadata": {},
   "outputs": [
    {
     "data": {
      "text/plain": [
       "{'导演': ' 克里斯托弗·诺兰',\n",
       " '编剧': ' 克里斯托弗·诺兰',\n",
       " '主演': ' 莱昂纳多·迪卡普里奥 / 约瑟夫·高登-莱维特 / 艾伦·佩吉 / 汤姆·哈迪 / 渡边谦 / 迪利普·劳 / 基里安·墨菲 / 汤姆·贝伦杰 / 玛丽昂·歌迪亚 / 皮特·波斯尔思韦特 / 迈克尔·凯恩 / 卢卡斯·哈斯 / 李太力 / 克莱尔·吉尔蕾 / 马格努斯·诺兰 / 泰勒·吉蕾 / 乔纳森·吉尔 / 水源士郎 / 冈本玉二 / 厄尔·卡梅伦 / 瑞恩·海沃德 / 米兰达·诺兰 / 拉什·费加 / 蒂姆·科勒赫 / 妲露拉·莱莉',\n",
       " '类型': ' 剧情 / 科幻 / 悬疑 / 冒险',\n",
       " '制片国家/地区': ' 美国 / 英国',\n",
       " '语言': ' 英语 / 日语 / 法语',\n",
       " '上映日期': ' 2010-09-01(中国大陆) / 2010-07-16(美国)',\n",
       " '片长': ' 148分钟',\n",
       " '又名': ' 潜行凶间(港) / 全面启动(台) / 奠基 / 心灵犯案 / 记忆迷阵 / 记忆魔方',\n",
       " 'IMDb链接': ' tt1375666',\n",
       " '官方小站': ''}"
      ]
     },
     "execution_count": 52,
     "metadata": {},
     "output_type": "execute_result"
    }
   ],
   "source": [
    "result"
   ]
  },
  {
   "cell_type": "code",
   "execution_count": 54,
   "metadata": {},
   "outputs": [],
   "source": [
    "keys = ['mvname', '导演', '主演', '类型', '制片国家/地区', '语言', '上映日期', '片长', '又名', 'score', 'votes']"
   ]
  },
  {
   "cell_type": "code",
   "execution_count": 60,
   "metadata": {},
   "outputs": [],
   "source": [
    "values = [result.get(key, 'None') for key in keys]"
   ]
  },
  {
   "cell_type": "code",
   "execution_count": 56,
   "metadata": {},
   "outputs": [
    {
     "data": {
      "text/plain": [
       "[None,\n",
       " ' 克里斯托弗·诺兰',\n",
       " ' 莱昂纳多·迪卡普里奥 / 约瑟夫·高登-莱维特 / 艾伦·佩吉 / 汤姆·哈迪 / 渡边谦 / 迪利普·劳 / 基里安·墨菲 / 汤姆·贝伦杰 / 玛丽昂·歌迪亚 / 皮特·波斯尔思韦特 / 迈克尔·凯恩 / 卢卡斯·哈斯 / 李太力 / 克莱尔·吉尔蕾 / 马格努斯·诺兰 / 泰勒·吉蕾 / 乔纳森·吉尔 / 水源士郎 / 冈本玉二 / 厄尔·卡梅伦 / 瑞恩·海沃德 / 米兰达·诺兰 / 拉什·费加 / 蒂姆·科勒赫 / 妲露拉·莱莉',\n",
       " ' 剧情 / 科幻 / 悬疑 / 冒险',\n",
       " ' 美国 / 英国',\n",
       " ' 英语 / 日语 / 法语',\n",
       " ' 2010-09-01(中国大陆) / 2010-07-16(美国)',\n",
       " ' 148分钟',\n",
       " ' 潜行凶间(港) / 全面启动(台) / 奠基 / 心灵犯案 / 记忆迷阵 / 记忆魔方',\n",
       " None,\n",
       " None]"
      ]
     },
     "execution_count": 56,
     "metadata": {},
     "output_type": "execute_result"
    }
   ],
   "source": [
    "values"
   ]
  },
  {
   "cell_type": "code",
   "execution_count": 61,
   "metadata": {},
   "outputs": [
    {
     "data": {
      "text/plain": [
       "['None',\n",
       " ' 克里斯托弗·诺兰',\n",
       " ' 莱昂纳多·迪卡普里奥 / 约瑟夫·高登-莱维特 / 艾伦·佩吉 / 汤姆·哈迪 / 渡边谦 / 迪利普·劳 / 基里安·墨菲 / 汤姆·贝伦杰 / 玛丽昂·歌迪亚 / 皮特·波斯尔思韦特 / 迈克尔·凯恩 / 卢卡斯·哈斯 / 李太力 / 克莱尔·吉尔蕾 / 马格努斯·诺兰 / 泰勒·吉蕾 / 乔纳森·吉尔 / 水源士郎 / 冈本玉二 / 厄尔·卡梅伦 / 瑞恩·海沃德 / 米兰达·诺兰 / 拉什·费加 / 蒂姆·科勒赫 / 妲露拉·莱莉',\n",
       " ' 剧情 / 科幻 / 悬疑 / 冒险',\n",
       " ' 美国 / 英国',\n",
       " ' 英语 / 日语 / 法语',\n",
       " ' 2010-09-01(中国大陆) / 2010-07-16(美国)',\n",
       " ' 148分钟',\n",
       " ' 潜行凶间(港) / 全面启动(台) / 奠基 / 心灵犯案 / 记忆迷阵 / 记忆魔方',\n",
       " 'None',\n",
       " 'None']"
      ]
     },
     "execution_count": 61,
     "metadata": {},
     "output_type": "execute_result"
    }
   ],
   "source": [
    "values"
   ]
  },
  {
   "cell_type": "code",
   "execution_count": 62,
   "metadata": {},
   "outputs": [
    {
     "data": {
      "text/plain": [
       "'None, 克里斯托弗·诺兰, 莱昂纳多·迪卡普里奥 / 约瑟夫·高登-莱维特 / 艾伦·佩吉 / 汤姆·哈迪 / 渡边谦 / 迪利普·劳 / 基里安·墨菲 / 汤姆·贝伦杰 / 玛丽昂·歌迪亚 / 皮特·波斯尔思韦特 / 迈克尔·凯恩 / 卢卡斯·哈斯 / 李太力 / 克莱尔·吉尔蕾 / 马格努斯·诺兰 / 泰勒·吉蕾 / 乔纳森·吉尔 / 水源士郎 / 冈本玉二 / 厄尔·卡梅伦 / 瑞恩·海沃德 / 米兰达·诺兰 / 拉什·费加 / 蒂姆·科勒赫 / 妲露拉·莱莉, 剧情 / 科幻 / 悬疑 / 冒险, 美国 / 英国, 英语 / 日语 / 法语, 2010-09-01(中国大陆) / 2010-07-16(美国), 148分钟, 潜行凶间(港) / 全面启动(台) / 奠基 / 心灵犯案 / 记忆迷阵 / 记忆魔方,None,None'"
      ]
     },
     "execution_count": 62,
     "metadata": {},
     "output_type": "execute_result"
    }
   ],
   "source": [
    "','.join(values)"
   ]
  },
  {
   "cell_type": "code",
   "execution_count": null,
   "metadata": {},
   "outputs": [],
   "source": []
  }
 ],
 "metadata": {
  "kernelspec": {
   "display_name": "Python 3",
   "language": "python",
   "name": "python3"
  },
  "language_info": {
   "codemirror_mode": {
    "name": "ipython",
    "version": 3
   },
   "file_extension": ".py",
   "mimetype": "text/x-python",
   "name": "python",
   "nbconvert_exporter": "python",
   "pygments_lexer": "ipython3",
   "version": "3.6.5"
  }
 },
 "nbformat": 4,
 "nbformat_minor": 2
}
