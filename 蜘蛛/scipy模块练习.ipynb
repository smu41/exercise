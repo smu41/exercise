{
 "cells": [
  {
   "cell_type": "markdown",
   "metadata": {},
   "source": [
    "####  知识点：\n",
    "    1. 离散分布: 几何分布, 二项式分布, 泊松分布\n",
    "    2. scipy, matplotlib, seaborn使用；"
   ]
  },
  {
   "cell_type": "code",
   "execution_count": 1,
   "metadata": {},
   "outputs": [],
   "source": [
    "#  导入相关模块\n",
    "from scipy.stats import geom\n",
    "%matplotlib inline\n",
    "import matplotlib.pyplot as plt\n",
    "import numpy as np\n",
    "import matplotlib as mpl\n",
    "mpl.rcParams['font.sans-serif'] = ['pingfang SC']\n",
    "mpl.rcParams['font.serif'] = ['pingfang SC']"
   ]
  },
  {
   "cell_type": "markdown",
   "metadata": {},
   "source": [
    "#### 1: 几何分布公式：(X-Ge(p))\n",
    "公式：P(X=k)=(1-p)^k-1*p\n",
    "\n",
    "相应模块：from scipy.stats import geom"
   ]
  },
  {
   "cell_type": "markdown",
   "metadata": {},
   "source": [
    "####  抓娃娃概率0.1 计算期望, 方差, 概率, 偏度, 峰度；geom.stats(p)"
   ]
  },
  {
   "cell_type": "code",
   "execution_count": 2,
   "metadata": {},
   "outputs": [],
   "source": [
    "p = 0.1"
   ]
  },
  {
   "cell_type": "code",
   "execution_count": 3,
   "metadata": {},
   "outputs": [
    {
     "data": {
      "text/plain": [
       "(array(10.), array(90.))"
      ]
     },
     "execution_count": 3,
     "metadata": {},
     "output_type": "execute_result"
    }
   ],
   "source": [
    "geom.stats(p)"
   ]
  },
  {
   "cell_type": "code",
   "execution_count": 4,
   "metadata": {},
   "outputs": [
    {
     "data": {
      "text/plain": [
       "(array(10.), array(90.), array(2.00277585), array(6.01111111))"
      ]
     },
     "execution_count": 4,
     "metadata": {},
     "output_type": "execute_result"
    }
   ],
   "source": [
    "geom.stats(p, moments='mvsk')"
   ]
  },
  {
   "cell_type": "markdown",
   "metadata": {},
   "source": [
    "####  第[1, 10]次抓到娃娃概率与分布曲线； geom.pmf(k,p)"
   ]
  },
  {
   "cell_type": "code",
   "execution_count": 5,
   "metadata": {},
   "outputs": [],
   "source": [
    "k = 5"
   ]
  },
  {
   "cell_type": "code",
   "execution_count": 6,
   "metadata": {},
   "outputs": [
    {
     "data": {
      "text/plain": [
       "0.06561"
      ]
     },
     "execution_count": 6,
     "metadata": {},
     "output_type": "execute_result"
    }
   ],
   "source": [
    "geom.pmf(k,p)"
   ]
  },
  {
   "cell_type": "code",
   "execution_count": 7,
   "metadata": {},
   "outputs": [
    {
     "data": {
      "text/plain": [
       "array([0.1       , 0.09      , 0.081     , 0.0729    , 0.06561   ,\n",
       "       0.059049  , 0.0531441 , 0.04782969, 0.04304672, 0.03874205])"
      ]
     },
     "execution_count": 7,
     "metadata": {},
     "output_type": "execute_result"
    }
   ],
   "source": [
    "geom_nums = np.arange(1,11)\n",
    "geom_vals = geom.pmf(geom_nums,p)\n",
    "geom_vals"
   ]
  },
  {
   "cell_type": "code",
   "execution_count": 10,
   "metadata": {},
   "outputs": [
    {
     "data": {
      "text/plain": [
       "Text(0.5, 1.0, '几何分布函数 P=0.1')"
      ]
     },
     "execution_count": 10,
     "metadata": {},
     "output_type": "execute_result"
    },
    {
     "data": {
      "image/png": "[encoded data removed]",
      "text/plain": [
       "<Figure size 432x288 with 1 Axes>"
      ]
     },
     "metadata": {
      "needs_background": "light"
     },
     "output_type": "display_data"
    }
   ],
   "source": [
    "plt.plot(geom_nums, geom_vals, 'o-')\n",
    "plt.title('几何分布函数 P=0.1')"
   ]
  },
  {
   "cell_type": "markdown",
   "metadata": {},
   "source": [
    "####  几何分布概率累加值与曲线；geom.cdf(k, p)"
   ]
  },
  {
   "cell_type": "code",
   "execution_count": 11,
   "metadata": {},
   "outputs": [
    {
     "data": {
      "text/plain": [
       "array([0.1       , 0.19      , 0.271     , 0.3439    , 0.40951   ,\n",
       "       0.468559  , 0.5217031 , 0.56953279, 0.61257951, 0.65132156,\n",
       "       0.6861894 , 0.71757046, 0.74581342, 0.77123208, 0.79410887,\n",
       "       0.81469798, 0.83322818, 0.84990536, 0.86491483, 0.87842335,\n",
       "       0.89058101, 0.90152291, 0.91137062, 0.92023356, 0.9282102 ,\n",
       "       0.93538918, 0.94185026, 0.94766524, 0.95289871, 0.95760884,\n",
       "       0.96184796, 0.96566316, 0.96909685, 0.97218716, 0.97496844,\n",
       "       0.9774716 , 0.97972444, 0.981752  , 0.9835768 , 0.98521912,\n",
       "       0.98669721, 0.98802748, 0.98922474, 0.99030226, 0.99127204,\n",
       "       0.99214483, 0.99293035, 0.99363731, 0.99427358, 0.99484622,\n",
       "       0.9953616 , 0.99582544, 0.9962429 , 0.99661861, 0.99695675,\n",
       "       0.99726107, 0.99753497, 0.99778147, 0.99800332, 0.99820299,\n",
       "       0.99838269, 0.99854442, 0.99868998, 0.99882098, 0.99893888,\n",
       "       0.999045  , 0.9991405 , 0.99922645, 0.9993038 , 0.99937342,\n",
       "       0.99943608, 0.99949247, 0.99954322, 0.9995889 , 0.99963001,\n",
       "       0.99966701, 0.99970031, 0.99973028, 0.99975725, 0.99978153,\n",
       "       0.99980337, 0.99982304, 0.99984073, 0.99985666, 0.99987099,\n",
       "       0.99988389, 0.9998955 , 0.99990595, 0.99991536, 0.99992382,\n",
       "       0.99993144, 0.9999383 , 0.99994447, 0.99995002, 0.99995502,\n",
       "       0.99995952, 0.99996356, 0.99996721, 0.99997049, 0.99997344])"
      ]
     },
     "execution_count": 11,
     "metadata": {},
     "output_type": "execute_result"
    }
   ],
   "source": [
    "cdf_nums = np.arange(1, 101)\n",
    "cdf_vals = geom.cdf(cdf_nums, p)\n",
    "cdf_vals"
   ]
  },
  {
   "cell_type": "code",
   "execution_count": 12,
   "metadata": {},
   "outputs": [
    {
     "data": {
      "text/plain": [
       "[<matplotlib.lines.Line2D at 0x127cb0048>]"
      ]
     },
     "execution_count": 12,
     "metadata": {},
     "output_type": "execute_result"
    },
    {
     "data": {
      "image/png": "[encoded data removed]",
      "text/plain": [
       "<Figure size 432x288 with 1 Axes>"
      ]
     },
     "metadata": {
      "needs_background": "light"
     },
     "output_type": "display_data"
    }
   ],
   "source": [
    "plt.plot(cdf_nums, cdf_vals)"
   ]
  },
  {
   "cell_type": "markdown",
   "metadata": {},
   "source": [
    "####  二项式分布：X-B(n,p)\n",
    "公式: P(X=k)=Cn^kp^k(1-p)^n-k\n",
    "\n",
    "相应模块： from scipy.stats import binom\n",
    "\n",
    "玩骰子：1,2,3,4,5,6六个点，玩一次，每个点向上概率1/6;"
   ]
  },
  {
   "cell_type": "code",
   "execution_count": 13,
   "metadata": {},
   "outputs": [],
   "source": [
    "from scipy.stats import binom"
   ]
  },
  {
   "cell_type": "markdown",
   "metadata": {},
   "source": [
    "####  玩100次, 计算1点向上的期望与方差；binom.stats(n,p)"
   ]
  },
  {
   "cell_type": "code",
   "execution_count": 14,
   "metadata": {},
   "outputs": [],
   "source": [
    "p = 1/6\n",
    "k = 100"
   ]
  },
  {
   "cell_type": "code",
   "execution_count": 15,
   "metadata": {},
   "outputs": [
    {
     "data": {
      "text/plain": [
       "(array(16.66666667), array(13.88888889))"
      ]
     },
     "execution_count": 15,
     "metadata": {},
     "output_type": "execute_result"
    }
   ],
   "source": [
    "binom.stats(k,p)"
   ]
  },
  {
   "cell_type": "markdown",
   "metadata": {},
   "source": [
    "#### 玩100次, 0次到100次1点向上的概率与曲线；binom.pmf(x,n,p)"
   ]
  },
  {
   "cell_type": "code",
   "execution_count": 16,
   "metadata": {},
   "outputs": [],
   "source": [
    "n = 100\n",
    "k = 10"
   ]
  },
  {
   "cell_type": "code",
   "execution_count": 17,
   "metadata": {},
   "outputs": [
    {
     "data": {
      "text/plain": [
       "0.021403272641837577"
      ]
     },
     "execution_count": 17,
     "metadata": {},
     "output_type": "execute_result"
    }
   ],
   "source": [
    "binom.pmf(k, n, p)"
   ]
  },
  {
   "cell_type": "code",
   "execution_count": 18,
   "metadata": {},
   "outputs": [
    {
     "data": {
      "text/plain": [
       "array([2.41493469e-07, 2.39078535e-06, 1.56197976e-05, 7.57560184e-05,\n",
       "       2.90903111e-04, 9.21193183e-04, 2.47406169e-03, 5.75219344e-03,\n",
       "       1.17600399e-02, 2.14032726e-02, 3.50235371e-02, 5.19515800e-02,\n",
       "       7.03344467e-02, 8.74156695e-02, 1.00236634e-01, 1.06501424e-01,\n",
       "       1.05248466e-01, 9.70624743e-02, 8.37802409e-02, 6.78619952e-02,\n",
       "       5.17043773e-02, 3.71331437e-02, 2.51859583e-02, 1.61609899e-02,\n",
       "       9.82588187e-03, 5.66877800e-03, 3.10733016e-03, 1.62025073e-03,\n",
       "       8.04538293e-04, 3.80814792e-04, 1.71980874e-04, 7.41667518e-05,\n",
       "       3.05656917e-05, 1.20464785e-05, 4.54324331e-06, 1.64061564e-06,\n",
       "       5.67564330e-07, 1.88192383e-07, 5.98355269e-08, 1.82498357e-08,\n",
       "       5.34141533e-09, 1.50068335e-09, 4.04835509e-10, 1.04889200e-10,\n",
       "       2.61057565e-11, 6.24268090e-12, 1.43448838e-12, 3.16782850e-13,\n",
       "       6.72355436e-14, 1.37160509e-14, 2.68942175e-15, 5.06852560e-16,\n",
       "       9.18072561e-17, 1.59812631e-17, 2.67322946e-18, 4.29626164e-19,\n",
       "       6.63282499e-20, 9.83487843e-21, 1.40021998e-21, 1.91363397e-22,\n",
       "       2.50968390e-23, 3.15734426e-24, 3.80885974e-25, 4.40399407e-26,\n",
       "       4.87827036e-27, 5.17392311e-28, 5.25114584e-29, 5.09670038e-30,\n",
       "       4.72737426e-31, 4.18710292e-32, 3.53839683e-33, 2.85037523e-34,\n",
       "       2.18658921e-35, 1.59561916e-36, 1.10629595e-37, 7.27826282e-39,\n",
       "       4.53709890e-40, 2.67572499e-41, 1.49027721e-42, 7.82395536e-44,\n",
       "       3.86368166e-45, 1.79048662e-46, 7.76596607e-48, 3.14336722e-49,\n",
       "       1.18338531e-50, 4.12808828e-52, 1.32858013e-53, 3.92535040e-55,\n",
       "       1.05852146e-56, 2.58749689e-58, 5.68680636e-60, 1.11263603e-61,\n",
       "       1.91421252e-63, 2.85095481e-65, 3.60120608e-67, 3.75125633e-69,\n",
       "       3.09381966e-71, 1.89417530e-73, 7.65323354e-76, 1.53064671e-78])"
      ]
     },
     "execution_count": 18,
     "metadata": {},
     "output_type": "execute_result"
    }
   ],
   "source": [
    "pmf_nums = np.arange(1, 101)\n",
    "pmf_vals = binom.pmf(pmf_nums, n, p)\n",
    "pmf_vals"
   ]
  },
  {
   "cell_type": "code",
   "execution_count": 19,
   "metadata": {},
   "outputs": [
    {
     "data": {
      "text/plain": [
       "[<matplotlib.lines.Line2D at 0x127cc8a20>]"
      ]
     },
     "execution_count": 19,
     "metadata": {},
     "output_type": "execute_result"
    },
    {
     "data": {
      "image/png": "[encoded data removed]",
      "text/plain": [
       "<Figure size 432x288 with 1 Axes>"
      ]
     },
     "metadata": {
      "needs_background": "light"
     },
     "output_type": "display_data"
    }
   ],
   "source": [
    "plt.plot(pmf_nums, pmf_vals)"
   ]
  },
  {
   "cell_type": "markdown",
   "metadata": {},
   "source": [
    "#### 累积积分函数; cdf(x, n, p)"
   ]
  },
  {
   "cell_type": "code",
   "execution_count": 20,
   "metadata": {},
   "outputs": [
    {
     "data": {
      "text/plain": [
       "array([2.53568143e-07, 2.64435349e-06, 1.82641511e-05, 9.40201695e-05,\n",
       "       3.84923280e-04, 1.30611646e-03, 3.78017816e-03, 9.53237159e-03,\n",
       "       2.12924115e-02, 4.26956841e-02, 7.77192212e-02, 1.29670801e-01,\n",
       "       2.00005248e-01, 2.87420917e-01, 3.87657552e-01, 4.94158976e-01,\n",
       "       5.99407442e-01, 6.96469916e-01, 7.80250157e-01, 8.48112152e-01,\n",
       "       8.99816529e-01, 9.36949673e-01, 9.62135631e-01, 9.78296621e-01,\n",
       "       9.88122503e-01, 9.93791281e-01, 9.96898611e-01, 9.98518862e-01,\n",
       "       9.99323400e-01, 9.99704215e-01, 9.99876196e-01, 9.99950363e-01,\n",
       "       9.99980928e-01, 9.99992975e-01, 9.99997518e-01, 9.99999159e-01,\n",
       "       9.99999726e-01, 9.99999915e-01, 9.99999974e-01, 9.99999993e-01,\n",
       "       9.99999998e-01, 9.99999999e-01, 1.00000000e+00, 1.00000000e+00,\n",
       "       1.00000000e+00, 1.00000000e+00, 1.00000000e+00, 1.00000000e+00,\n",
       "       1.00000000e+00, 1.00000000e+00, 1.00000000e+00, 1.00000000e+00,\n",
       "       1.00000000e+00, 1.00000000e+00, 1.00000000e+00, 1.00000000e+00,\n",
       "       1.00000000e+00, 1.00000000e+00, 1.00000000e+00, 1.00000000e+00,\n",
       "       1.00000000e+00, 1.00000000e+00, 1.00000000e+00, 1.00000000e+00,\n",
       "       1.00000000e+00, 1.00000000e+00, 1.00000000e+00, 1.00000000e+00,\n",
       "       1.00000000e+00, 1.00000000e+00, 1.00000000e+00, 1.00000000e+00,\n",
       "       1.00000000e+00, 1.00000000e+00, 1.00000000e+00, 1.00000000e+00,\n",
       "       1.00000000e+00, 1.00000000e+00, 1.00000000e+00, 1.00000000e+00,\n",
       "       1.00000000e+00, 1.00000000e+00, 1.00000000e+00, 1.00000000e+00,\n",
       "       1.00000000e+00, 1.00000000e+00, 1.00000000e+00, 1.00000000e+00,\n",
       "       1.00000000e+00, 1.00000000e+00, 1.00000000e+00, 1.00000000e+00,\n",
       "       1.00000000e+00, 1.00000000e+00, 1.00000000e+00, 1.00000000e+00,\n",
       "       1.00000000e+00, 1.00000000e+00, 1.00000000e+00, 1.00000000e+00])"
      ]
     },
     "execution_count": 20,
     "metadata": {},
     "output_type": "execute_result"
    }
   ],
   "source": [
    "cdf_nums = np.arange(1,101)\n",
    "cdf_vals = binom.cdf(cdf_nums, n, p)\n",
    "cdf_vals"
   ]
  },
  {
   "cell_type": "code",
   "execution_count": 21,
   "metadata": {},
   "outputs": [
    {
     "data": {
      "text/plain": [
       "[<matplotlib.lines.Line2D at 0x127eb60f0>]"
      ]
     },
     "execution_count": 21,
     "metadata": {},
     "output_type": "execute_result"
    },
    {
     "data": {
      "image/png": "[encoded data removed]",
      "text/plain": [
       "<Figure size 432x288 with 1 Axes>"
      ]
     },
     "metadata": {
      "needs_background": "light"
     },
     "output_type": "display_data"
    }
   ],
   "source": [
    "plt.plot(cdf_nums, cdf_vals)"
   ]
  },
  {
   "cell_type": "markdown",
   "metadata": {},
   "source": [
    "####  泊松分布：(X-P(λ))\n",
    "公式：\n",
    "相应模块：from scipy.stats import poisson\n",
    "某球员场均：出手16球中7, vlambda=7"
   ]
  },
  {
   "cell_type": "code",
   "execution_count": 22,
   "metadata": {},
   "outputs": [],
   "source": [
    "from scipy.stats import poisson"
   ]
  },
  {
   "cell_type": "markdown",
   "metadata": {},
   "source": [
    "####  计算期望方差：poisson.stats(lambda)"
   ]
  },
  {
   "cell_type": "code",
   "execution_count": 23,
   "metadata": {},
   "outputs": [],
   "source": [
    "vlambda = 7"
   ]
  },
  {
   "cell_type": "code",
   "execution_count": 24,
   "metadata": {},
   "outputs": [
    {
     "data": {
      "text/plain": [
       "(array(7.), array(7.))"
      ]
     },
     "execution_count": 24,
     "metadata": {},
     "output_type": "execute_result"
    }
   ],
   "source": [
    "poisson.stats(vlambda)"
   ]
  },
  {
   "cell_type": "markdown",
   "metadata": {},
   "source": [
    "####  计算命中0球到16球的概率并绘制曲线"
   ]
  },
  {
   "cell_type": "code",
   "execution_count": 25,
   "metadata": {},
   "outputs": [
    {
     "data": {
      "text/plain": [
       "0.07098326865041356"
      ]
     },
     "execution_count": 25,
     "metadata": {},
     "output_type": "execute_result"
    }
   ],
   "source": [
    "poisson.pmf(10,vlambda)"
   ]
  },
  {
   "cell_type": "code",
   "execution_count": 26,
   "metadata": {},
   "outputs": [
    {
     "data": {
      "text/plain": [
       "array([0.00638317, 0.02234111, 0.05212925, 0.09122619, 0.12771667,\n",
       "       0.14900278, 0.14900278, 0.13037743, 0.10140467, 0.07098327,\n",
       "       0.04517117, 0.02634985, 0.01418838, 0.00709419, 0.00331062,\n",
       "       0.0014484 ])"
      ]
     },
     "execution_count": 26,
     "metadata": {},
     "output_type": "execute_result"
    }
   ],
   "source": [
    "pmf_nums = np.arange(1,17)\n",
    "pmf_vals = poisson.pmf(pmf_nums, vlambda)\n",
    "pmf_vals"
   ]
  },
  {
   "cell_type": "code",
   "execution_count": 27,
   "metadata": {},
   "outputs": [
    {
     "data": {
      "text/plain": [
       "[<matplotlib.lines.Line2D at 0x127f6f390>]"
      ]
     },
     "execution_count": 27,
     "metadata": {},
     "output_type": "execute_result"
    },
    {
     "data": {
      "image/png": "[encoded data removed]",
      "text/plain": [
       "<Figure size 432x288 with 1 Axes>"
      ]
     },
     "metadata": {
      "needs_background": "light"
     },
     "output_type": "display_data"
    }
   ],
   "source": [
    "plt.plot(pmf_nums, pmf_vals)"
   ]
  },
  {
   "cell_type": "code",
   "execution_count": null,
   "metadata": {},
   "outputs": [],
   "source": []
  }
 ],
 "metadata": {
  "kernelspec": {
   "display_name": "Python 3",
   "language": "python",
   "name": "python3"
  },
  "language_info": {
   "codemirror_mode": {
    "name": "ipython",
    "version": 3
   },
   "file_extension": ".py",
   "mimetype": "text/x-python",
   "name": "python",
   "nbconvert_exporter": "python",
   "pygments_lexer": "ipython3",
   "version": "3.7.1"
  }
 },
 "nbformat": 4,
 "nbformat_minor": 2
}
