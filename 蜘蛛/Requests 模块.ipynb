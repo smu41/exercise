{
 "cells": [
  {
   "cell_type": "markdown",
   "metadata": {},
   "source": [
    "###  Requests 模块"
   ]
  },
  {
   "cell_type": "code",
   "execution_count": 1,
   "metadata": {},
   "outputs": [],
   "source": [
    "import requests\n",
    "url = 'http://httpbin.org/get'"
   ]
  },
  {
   "cell_type": "code",
   "execution_count": 2,
   "metadata": {},
   "outputs": [],
   "source": [
    "req = requests.get(url)"
   ]
  },
  {
   "cell_type": "code",
   "execution_count": 3,
   "metadata": {},
   "outputs": [
    {
     "data": {
      "text/plain": [
       "requests.models.Response"
      ]
     },
     "execution_count": 3,
     "metadata": {},
     "output_type": "execute_result"
    }
   ],
   "source": [
    "type(req)"
   ]
  },
  {
   "cell_type": "code",
   "execution_count": 4,
   "metadata": {},
   "outputs": [
    {
     "data": {
      "text/plain": [
       "200"
      ]
     },
     "execution_count": 4,
     "metadata": {},
     "output_type": "execute_result"
    }
   ],
   "source": [
    "req.status_code"
   ]
  },
  {
   "cell_type": "code",
   "execution_count": 5,
   "metadata": {},
   "outputs": [
    {
     "data": {
      "text/plain": [
       "'OK'"
      ]
     },
     "execution_count": 5,
     "metadata": {},
     "output_type": "execute_result"
    }
   ],
   "source": [
    "req.reason"
   ]
  },
  {
   "cell_type": "code",
   "execution_count": 6,
   "metadata": {},
   "outputs": [
    {
     "data": {
      "text/plain": [
       "'{\\n  \"args\": {}, \\n  \"headers\": {\\n    \"Accept\": \"*/*\", \\n    \"Accept-Encoding\": \"gzip, deflate\", \\n    \"Connection\": \"close\", \\n    \"Host\": \"httpbin.org\", \\n    \"User-Agent\": \"python-requests/2.19.1\"\\n  }, \\n  \"origin\": \"114.252.101.50\", \\n  \"url\": \"http://httpbin.org/get\"\\n}\\n'"
      ]
     },
     "execution_count": 6,
     "metadata": {},
     "output_type": "execute_result"
    }
   ],
   "source": [
    "req.text"
   ]
  },
  {
   "cell_type": "code",
   "execution_count": 7,
   "metadata": {},
   "outputs": [
    {
     "data": {
      "text/plain": [
       "{'args': {},\n",
       " 'headers': {'Accept': '*/*',\n",
       "  'Accept-Encoding': 'gzip, deflate',\n",
       "  'Connection': 'close',\n",
       "  'Host': 'httpbin.org',\n",
       "  'User-Agent': 'python-requests/2.19.1'},\n",
       " 'origin': '114.252.101.50',\n",
       " 'url': 'http://httpbin.org/get'}"
      ]
     },
     "execution_count": 7,
     "metadata": {},
     "output_type": "execute_result"
    }
   ],
   "source": [
    "req.json()"
   ]
  },
  {
   "cell_type": "code",
   "execution_count": 8,
   "metadata": {},
   "outputs": [
    {
     "data": {
      "text/plain": [
       "b'{\\n  \"args\": {}, \\n  \"headers\": {\\n    \"Accept\": \"*/*\", \\n    \"Accept-Encoding\": \"gzip, deflate\", \\n    \"Connection\": \"close\", \\n    \"Host\": \"httpbin.org\", \\n    \"User-Agent\": \"python-requests/2.19.1\"\\n  }, \\n  \"origin\": \"114.252.101.50\", \\n  \"url\": \"http://httpbin.org/get\"\\n}\\n'"
      ]
     },
     "execution_count": 8,
     "metadata": {},
     "output_type": "execute_result"
    }
   ],
   "source": [
    "req.content"
   ]
  },
  {
   "cell_type": "code",
   "execution_count": 9,
   "metadata": {},
   "outputs": [
    {
     "data": {
      "text/plain": [
       "{'Connection': 'keep-alive', 'Server': 'gunicorn/19.9.0', 'Date': 'Mon, 19 Nov 2018 07:21:17 GMT', 'Content-Type': 'application/json', 'Content-Length': '267', 'Access-Control-Allow-Origin': '*', 'Access-Control-Allow-Credentials': 'true', 'Via': '1.1 vegur'}"
      ]
     },
     "execution_count": 9,
     "metadata": {},
     "output_type": "execute_result"
    }
   ],
   "source": [
    "req.headers"
   ]
  },
  {
   "cell_type": "code",
   "execution_count": 16,
   "metadata": {},
   "outputs": [],
   "source": [
    "req = requests.get(url, stream = True)"
   ]
  },
  {
   "cell_type": "code",
   "execution_count": 11,
   "metadata": {},
   "outputs": [
    {
     "data": {
      "text/plain": [
       "requests.models.Response"
      ]
     },
     "execution_count": 11,
     "metadata": {},
     "output_type": "execute_result"
    }
   ],
   "source": [
    "type(req)"
   ]
  },
  {
   "cell_type": "code",
   "execution_count": 12,
   "metadata": {},
   "outputs": [
    {
     "data": {
      "text/plain": [
       "urllib3.response.HTTPResponse"
      ]
     },
     "execution_count": 12,
     "metadata": {},
     "output_type": "execute_result"
    }
   ],
   "source": [
    "type(req.raw)"
   ]
  },
  {
   "cell_type": "code",
   "execution_count": 13,
   "metadata": {},
   "outputs": [
    {
     "data": {
      "text/plain": [
       "b'{\\n  \"'"
      ]
     },
     "execution_count": 13,
     "metadata": {},
     "output_type": "execute_result"
    }
   ],
   "source": [
    "req.raw.read(5)"
   ]
  },
  {
   "cell_type": "code",
   "execution_count": 14,
   "metadata": {},
   "outputs": [
    {
     "data": {
      "text/plain": [
       "b'args\": {}, \\n  \"headers\": {\\n    \"Accept\": \"*/*\", \\n    \"Accept-Encoding\": \"gzip, deflate\", \\n    \"Connection\": \"close\", \\n    \"Host\": \"httpbin.org\", \\n    \"User-Agent\": \"python-requests/2.19.1\"\\n  }, \\n  \"origin\": \"114.252.101.50\", \\n  \"url\": \"http://httpbin.org/get\"\\n}\\n'"
      ]
     },
     "execution_count": 14,
     "metadata": {},
     "output_type": "execute_result"
    }
   ],
   "source": [
    "req.raw.read()"
   ]
  },
  {
   "cell_type": "code",
   "execution_count": 15,
   "metadata": {},
   "outputs": [
    {
     "data": {
      "text/plain": [
       "True"
      ]
     },
     "execution_count": 15,
     "metadata": {},
     "output_type": "execute_result"
    }
   ],
   "source": [
    "req.raw.closed"
   ]
  },
  {
   "cell_type": "code",
   "execution_count": 17,
   "metadata": {},
   "outputs": [
    {
     "data": {
      "text/plain": [
       "b'{\\n  \"'"
      ]
     },
     "execution_count": 17,
     "metadata": {},
     "output_type": "execute_result"
    }
   ],
   "source": [
    "req.raw.read(5)"
   ]
  },
  {
   "cell_type": "code",
   "execution_count": 18,
   "metadata": {},
   "outputs": [
    {
     "data": {
      "text/plain": [
       "False"
      ]
     },
     "execution_count": 18,
     "metadata": {},
     "output_type": "execute_result"
    }
   ],
   "source": [
    "req.raw.closed"
   ]
  },
  {
   "cell_type": "code",
   "execution_count": 19,
   "metadata": {},
   "outputs": [
    {
     "data": {
      "text/plain": [
       "'args\": {}, \\n  \"headers\": {\\n    \"Accept\": \"*/*\", \\n    \"Accept-Encoding\": \"gzip, deflate\", \\n    \"Connection\": \"close\", \\n    \"Host\": \"httpbin.org\", \\n    \"User-Agent\": \"python-requests/2.19.1\"\\n  }, \\n  \"origin\": \"114.252.101.50\", \\n  \"url\": \"http://httpbin.org/get\"\\n}\\n'"
      ]
     },
     "execution_count": 19,
     "metadata": {},
     "output_type": "execute_result"
    }
   ],
   "source": [
    "req.text"
   ]
  },
  {
   "cell_type": "code",
   "execution_count": 20,
   "metadata": {},
   "outputs": [
    {
     "data": {
      "text/plain": [
       "True"
      ]
     },
     "execution_count": 20,
     "metadata": {},
     "output_type": "execute_result"
    }
   ],
   "source": [
    "req.raw.closed"
   ]
  },
  {
   "cell_type": "code",
   "execution_count": 21,
   "metadata": {},
   "outputs": [],
   "source": [
    "url = 'http://httpbin.org/stream/2'"
   ]
  },
  {
   "cell_type": "code",
   "execution_count": 22,
   "metadata": {},
   "outputs": [],
   "source": [
    "req = requests.get(url)"
   ]
  },
  {
   "cell_type": "code",
   "execution_count": 23,
   "metadata": {},
   "outputs": [
    {
     "data": {
      "text/plain": [
       "'{\"url\": \"http://httpbin.org/stream/2\", \"args\": {}, \"headers\": {\"Host\": \"httpbin.org\", \"Connection\": \"close\", \"User-Agent\": \"python-requests/2.19.1\", \"Accept-Encoding\": \"gzip, deflate\", \"Accept\": \"*/*\"}, \"origin\": \"114.252.101.50\", \"id\": 0}\\n{\"url\": \"http://httpbin.org/stream/2\", \"args\": {}, \"headers\": {\"Host\": \"httpbin.org\", \"Connection\": \"close\", \"User-Agent\": \"python-requests/2.19.1\", \"Accept-Encoding\": \"gzip, deflate\", \"Accept\": \"*/*\"}, \"origin\": \"114.252.101.50\", \"id\": 1}\\n'"
      ]
     },
     "execution_count": 23,
     "metadata": {},
     "output_type": "execute_result"
    }
   ],
   "source": [
    "req.text"
   ]
  },
  {
   "cell_type": "code",
   "execution_count": 24,
   "metadata": {},
   "outputs": [
    {
     "name": "stdout",
     "output_type": "stream",
     "text": [
      "b'{\"url\": \"http://httpbin.org/stream/2\", \"args\": {}, \"headers\": {\"Host\": \"httpbin.org\", \"Connection\": \"close\", \"User-Agent\": \"python-requests/2.19.1\", \"Accept-Encoding\": \"gzip, deflate\", \"Accept\": \"*/*\"}, \"origin\": \"114.252.101.50\", \"id\": 0}'\n",
      "b'{\"url\": \"http://httpbin.org/stream/2\", \"args\": {}, \"headers\": {\"Host\": \"httpbin.org\", \"Connection\": \"close\", \"User-Agent\": \"python-requests/2.19.1\", \"Accept-Encoding\": \"gzip, deflate\", \"Accept\": \"*/*\"}, \"origin\": \"114.252.101.50\", \"id\": 1}'\n"
     ]
    }
   ],
   "source": [
    "for line in req.iter_lines():\n",
    "    print(line)"
   ]
  },
  {
   "cell_type": "code",
   "execution_count": 25,
   "metadata": {},
   "outputs": [],
   "source": [
    "url = 'http://httpbin.org/get'\n",
    "req = requests.get(url)"
   ]
  },
  {
   "cell_type": "code",
   "execution_count": 26,
   "metadata": {
    "scrolled": true
   },
   "outputs": [
    {
     "name": "stdout",
     "output_type": "stream",
     "text": [
      "b'{'\n",
      "b'  \"args\": {}, '\n",
      "b'  \"headers\": {'\n",
      "b'    \"Accept\": \"*/*\", '\n",
      "b'    \"Accept-Encoding\": \"gzip, deflate\", '\n",
      "b'    \"Connection\": \"close\", '\n",
      "b'    \"Host\": \"httpbin.org\", '\n",
      "b'    \"User-Agent\": \"python-requests/2.19.1\"'\n",
      "b'  }, '\n",
      "b'  \"origin\": \"114.252.101.50\", '\n",
      "b'  \"url\": \"http://httpbin.org/get\"'\n",
      "b'}'\n"
     ]
    }
   ],
   "source": [
    "for line in req.iter_lines():\n",
    "    print(line)"
   ]
  },
  {
   "cell_type": "code",
   "execution_count": 29,
   "metadata": {},
   "outputs": [],
   "source": [
    "payload = {'sn':'山', 'pn':60}\n",
    "url = 'http://httpbin.org/get'\n",
    "req = requests.get(url, params=payload)"
   ]
  },
  {
   "cell_type": "code",
   "execution_count": 30,
   "metadata": {},
   "outputs": [
    {
     "data": {
      "text/plain": [
       "'{\\n  \"args\": {\\n    \"pn\": \"60\", \\n    \"sn\": \"\\\\u5c71\"\\n  }, \\n  \"headers\": {\\n    \"Accept\": \"*/*\", \\n    \"Accept-Encoding\": \"gzip, deflate\", \\n    \"Connection\": \"close\", \\n    \"Host\": \"httpbin.org\", \\n    \"User-Agent\": \"python-requests/2.19.1\"\\n  }, \\n  \"origin\": \"114.252.101.50\", \\n  \"url\": \"http://httpbin.org/get?sn=\\\\u5c71&pn=60\"\\n}\\n'"
      ]
     },
     "execution_count": 30,
     "metadata": {},
     "output_type": "execute_result"
    }
   ],
   "source": [
    "req.text"
   ]
  },
  {
   "cell_type": "code",
   "execution_count": 31,
   "metadata": {},
   "outputs": [
    {
     "data": {
      "text/plain": [
       "'http://httpbin.org/get?sn=%E5%B1%B1&pn=60'"
      ]
     },
     "execution_count": 31,
     "metadata": {},
     "output_type": "execute_result"
    }
   ],
   "source": [
    "req.url"
   ]
  },
  {
   "cell_type": "code",
   "execution_count": 32,
   "metadata": {},
   "outputs": [],
   "source": [
    "hd = {'User-Agent':'Mozilla/5.0 (Macintosh; Intel Mac OS X 10_14_1) AppleWebKit/537.36 (KHTML, like Gecko) Chrome/70.0.3538.102 Safari/537.36'}"
   ]
  },
  {
   "cell_type": "code",
   "execution_count": 34,
   "metadata": {},
   "outputs": [],
   "source": [
    "url = 'http://httpbin.org/get'\n",
    "req = requests.get(url, headers=hd)"
   ]
  },
  {
   "cell_type": "code",
   "execution_count": 35,
   "metadata": {},
   "outputs": [
    {
     "data": {
      "text/plain": [
       "'{\\n  \"args\": {}, \\n  \"headers\": {\\n    \"Accept\": \"*/*\", \\n    \"Accept-Encoding\": \"gzip, deflate\", \\n    \"Connection\": \"close\", \\n    \"Host\": \"httpbin.org\", \\n    \"User-Agent\": \"Mozilla/5.0 (Macintosh; Intel Mac OS X 10_14_1) AppleWebKit/537.36 (KHTML, like Gecko) Chrome/70.0.3538.102 Safari/537.36\"\\n  }, \\n  \"origin\": \"114.252.101.50\", \\n  \"url\": \"http://httpbin.org/get\"\\n}\\n'"
      ]
     },
     "execution_count": 35,
     "metadata": {},
     "output_type": "execute_result"
    }
   ],
   "source": [
    "req.text"
   ]
  },
  {
   "cell_type": "code",
   "execution_count": 3,
   "metadata": {},
   "outputs": [],
   "source": [
    "proxies = {'http':'http://195.230.115.241:8080'}\n",
    "req = requests.get(url, proxies=proxies)"
   ]
  },
  {
   "cell_type": "code",
   "execution_count": 4,
   "metadata": {},
   "outputs": [
    {
     "data": {
      "text/plain": [
       "'{\\n  \"args\": {}, \\n  \"headers\": {\\n    \"Accept\": \"*/*\", \\n    \"Accept-Encoding\": \"gzip, deflate\", \\n    \"Connection\": \"close\", \\n    \"Host\": \"httpbin.org\", \\n    \"User-Agent\": \"python-requests/2.19.1\"\\n  }, \\n  \"origin\": \"195.230.115.241\", \\n  \"url\": \"http://httpbin.org/get\"\\n}\\n'"
      ]
     },
     "execution_count": 4,
     "metadata": {},
     "output_type": "execute_result"
    }
   ],
   "source": [
    "req.text"
   ]
  },
  {
   "cell_type": "code",
   "execution_count": 5,
   "metadata": {},
   "outputs": [],
   "source": [
    "url = 'http://image.so.com/zj?ch=funny&sn=30&listtype=new&temp=1'"
   ]
  },
  {
   "cell_type": "code",
   "execution_count": 6,
   "metadata": {},
   "outputs": [],
   "source": [
    "req = requests.get(url)"
   ]
  },
  {
   "cell_type": "code",
   "execution_count": 7,
   "metadata": {},
   "outputs": [
    {
     "data": {
      "text/plain": [
       "200"
      ]
     },
     "execution_count": 7,
     "metadata": {},
     "output_type": "execute_result"
    }
   ],
   "source": [
    "req.status_code"
   ]
  },
  {
   "cell_type": "code",
   "execution_count": 9,
   "metadata": {},
   "outputs": [],
   "source": [
    "jdata = req.json()"
   ]
  },
  {
   "cell_type": "code",
   "execution_count": 10,
   "metadata": {},
   "outputs": [
    {
     "name": "stdout",
     "output_type": "stream",
     "text": [
      "http://p2.so.qhimgs1.com/t019b5f54b5e521c522.jpg\n",
      "http://p0.so.qhmsg.com/t016833b672572a4075.jpg\n",
      "http://p0.so.qhimgs1.com/t0158dc9e5e98a00424.jpg\n",
      "http://p1.so.qhimgs1.com/t012ca38e4227081e41.jpg\n",
      "http://p4.so.qhmsg.com/t01368f3564ed162c79.jpg\n",
      "http://p0.so.qhimgs1.com/t01f5b779cbef79de04.jpg\n",
      "http://p0.so.qhmsg.com/t0195439eee1b07b4df.jpg\n",
      "http://p2.so.qhimgs1.com/t017287c6a163bbe972.jpg\n",
      "http://p0.so.qhimgs1.com/t01077571c1fb084a7c.jpg\n",
      "http://p3.so.qhimgs1.com/t015ccafd34b1996a03.jpg\n",
      "http://p3.so.qhimgs1.com/t014a4d0439ebc5a913.jpg\n",
      "http://p0.so.qhimgs1.com/t0119b094d7abe62fa0.jpg\n",
      "http://p2.so.qhimgs1.com/t010e52b1e38fe37322.jpg\n",
      "http://p0.so.qhimgs1.com/t012f189c6c94cff430.jpg\n",
      "http://p3.so.qhimgs1.com/t0176273e1c68cf5f33.jpg\n",
      "http://p2.so.qhimgs1.com/t0173cb7974fa354452.jpg\n",
      "http://p1.so.qhimgs1.com/t0105081dd1d8dc7601.jpg\n",
      "http://p1.so.qhimgs1.com/t0161d3e7e2980dd35d.jpg\n",
      "http://p1.so.qhimgs1.com/t01cfded28264b04ac1.jpg\n",
      "http://p0.so.qhmsg.com/t018c7abe11d1a86bff.jpg\n",
      "http://p0.so.qhimgs1.com/t01c7be201ea168f110.jpg\n",
      "http://p5.so.qhimgs1.com/t01d6b17dc5adeed65b.jpg\n",
      "http://p1.so.qhimgs1.com/t01a253a1bb276370b1.jpg\n",
      "http://p0.so.qhmsg.com/t01bd0cc151ea0ad6ff.jpg\n",
      "http://p3.so.qhmsg.com/t01a37277435a90d678.jpg\n",
      "http://p0.so.qhmsg.com/t011c3349477596d66f.jpg\n",
      "http://p0.so.qhimgs1.com/t01d0c33226cc11d67a.jpg\n",
      "http://p5.so.qhimgs1.com/t01adb7a76d0f01442b.jpg\n",
      "http://p0.so.qhimgs1.com/t01f0cd05fce38703dc.jpg\n",
      "http://p1.so.qhmsg.com/t01a6eb87025ee30ad6.jpg\n"
     ]
    }
   ],
   "source": [
    "for item in jdata['list']:\n",
    "    print(item['qhimg_url'])"
   ]
  },
  {
   "cell_type": "code",
   "execution_count": 1,
   "metadata": {},
   "outputs": [],
   "source": [
    "url = 'http://image.so.com/j?'"
   ]
  },
  {
   "cell_type": "code",
   "execution_count": 2,
   "metadata": {},
   "outputs": [],
   "source": [
    "params = {\n",
    "    'q':'大学生一寸照片',\n",
    "'correct':'大学生一寸照片',\n",
    "'pn':'60',\n",
    "'sn':'60',\n",
    "}"
   ]
  },
  {
   "cell_type": "code",
   "execution_count": 3,
   "metadata": {},
   "outputs": [],
   "source": [
    "import requests"
   ]
  },
  {
   "cell_type": "code",
   "execution_count": 4,
   "metadata": {},
   "outputs": [],
   "source": [
    "req = requests.get(url, params=params)"
   ]
  },
  {
   "cell_type": "code",
   "execution_count": 7,
   "metadata": {},
   "outputs": [],
   "source": [
    "jdata = req.json()"
   ]
  },
  {
   "cell_type": "code",
   "execution_count": 8,
   "metadata": {
    "scrolled": true
   },
   "outputs": [
    {
     "name": "stdout",
     "output_type": "stream",
     "text": [
      "http://img2.zjolcdn.com/pic/0/16/55/65/16556506_126770.jpg\n",
      "http://www.ygjj.com/bookpic/2009-02-16/Thumbnailnew231862-20090216111358189143.jpg\n",
      "http://p1.qhimg.com/t01e9cb1d8a167208ce.jpg\n",
      "http://wenwen.soso.com/p/20110220/20110220132850-573857828.jpg\n",
      "http://www.ygjj.com/bookpic/Thumbnail91948-20070718201228132789.JPG\n",
      "http://wenwen.soso.com/p/20120531/20120531174339-829280118.jpg\n",
      "http://www.ygjj.com/bookpic2/2014-07-14/Thumbnailnew517265-20140714194904524127.jpg\n",
      "http://file1.youboy.com/a/48/53/97/7/2669317.jpg_220x220\n",
      "http://news.cnhubei.com/xw/gn/201309/W020130913350567406156.jpg\n",
      "http://photocdn.sohu.com/20131121/Img390520826.jpg\n",
      "http://photo.yupoo.com/ivyanne/409656367d76/medish.jpg\n",
      "http://i1.hexunimg.cn/2015-03-23/174297392.jpg\n",
      "http://photocdn.sohu.com/20120209/Img334245573.jpg\n",
      "http://photocdn.sohu.com/20150410/mp10169521_1428653121505_13.jpeg\n",
      "http://shopimg.kongfz.com.cn/20110811/88072/3424wvxQbb_b.jpg\n",
      "http://www.ygjj.com/bookpic2/2011-05-19/Thumbnailnew409719-20110519181702684799.jpg\n",
      "http://photocdn.sohu.com/20150410/mp10169521_1428653121505_12.jpeg\n",
      "http://i03.c.aliimg.com/img/ibank/2011/515/945/445549515_722836813.jpg\n",
      "http://cimg2.163.com/catchpic/A/A7/A7CCBC56263C2E038A43FCA5CA95C885.jpg\n",
      "http://shopimg.kongfz.com.cn/20110811/88072/34246vbEBN_n.jpg\n",
      "http://shopimg.kongfz.com.cn/20110811/88072/34247TPTy2_n.jpg\n",
      "http://shopimg.kongfz.com.cn/20110811/88072/3424HVx4Ft_n.jpg\n",
      "http://www.hi.chinanews.com/hnnew/2006-09-10/_1157856616_2006091005.jpg\n",
      "http://img7.makepolo.net/images/formals/img/product/259/32/2_724ba43075c0fad2f1339ca197494748.jpg\n",
      "http://www.sxdaily.com.cn/NMediaFile/2014/0423/SXRB201404231033000523118603222.jpg\n",
      "http://imgbdb3.bendibao.com/shbdb/20158/20/20150820150307_79833.jpg\n",
      "http://imgedu.gmw.cn/attachement/jpg/site2/20130916/eca86bd9da7c13a08ed02c.jpg\n",
      "http://pic3.newssc.org/upload/ori/20140428/1398655955416.jpg\n",
      "http://img2.zjolcdn.com/pic/0/16/56/19/16561902_904013.jpg\n",
      "http://img1.qq.com/xian/pics/7714/7714455.jpg\n",
      "http://img.deyi.net/forum/201309/29/113342stkyszt08s3k9crp.jpg\n",
      "http://img1.qq.com/news/pics/15767/15767118.jpg\n",
      "http://photocdn.sohu.com/20160702/Img457469082.jpeg\n",
      "http://txt6-2.book118.com/2017/0224/book93312/93311471_small.png\n",
      "http://img4.cache.netease.com/henan/2015/6/8/201506081353189669b.jpg\n",
      "http://daan.1010pic.com/pic10/j/b/464157_1.jpg\n",
      "http://wenwen.soso.com/p/20120205/20120205191233-244209695.jpg\n",
      "http://imgmini.dfshurufa.com/mobile/20160309023247_59ad03321b1ff6a864e8b1c193030d34_2.jpeg\n",
      "http://www.51edu.com/uploadfile/20150818/1439862334266675.jpg\n",
      "http://p6.qhimg.com/t01ca9722210e3393fd.png\n",
      "https://f12.baidu.com/it/u=1072010231,2923091698&fm=173&app=49&f=JPEG?w=540&h=826&s=54321CD52E2D571B1C3EF2FE0300502F&access=215967316\n",
      "http://files.b2b.cn/product/ProductImages/2014_02/19/135/19135055182.jpg\n",
      "http://www.ytszg.com/file/newsImg/image/20150722/20150722155714_9775.jpg\n",
      "https://f11.baidu.com/it/u=3128770975,1831249828&fm=173&app=49&f=JPEG?w=540&h=847&s=14787C950C275F1B5EB7D2F20300002F&access=215967316\n",
      "http://sh.eastday.com/images/thumbnailimg/month_1509/201509030919225228.jpg\n",
      "http://dangshi.people.com.cn/NMediaFile/2012/0823/MAIN201208231501000377903400747.jpg\n",
      "http://pic.baike.soso.com/p/20120514/ext-20120514171317-524758582.jpg\n",
      "http://stu.people.com.cn/NMediaFile/2014/0414/MAIN201404141120000238145465780.jpg\n",
      "http://images.china.cn/attachement/jpg/site1000/20150818/7427ea210a4d173d1ae362.jpg\n",
      "http://img.lookmw.cn/170706/1499121543.jpg\n",
      "http://www.people.com.cn/mediafile/pic/20131011/21/10084815373121407305.jpg\n",
      "http://img.univs.cn/20160428/0/201604281600583406845925.jpg\n",
      "http://auctionimg.kongfz.com.cn/20140916/4563220/4563220P9j5n0_b.jpg\n",
      "http://www.ygjj.com/bookpic2/2011-08-27/new432147-20110827203043635765.jpg\n",
      "http://p8.qhimg.com/t01bc3c8a1d695f341b.png\n",
      "http://imgmini.dfshurufa.com/mobile/20160308185259_02ff2deb229bd89d03c2831a9786deaf_3.jpeg\n",
      "http://wenwen.soso.com/p/20111205/20111205154553-703752438.jpg\n"
     ]
    }
   ],
   "source": [
    "for item in jdata['list']:\n",
    "    print(item['img'])"
   ]
  },
  {
   "cell_type": "code",
   "execution_count": 10,
   "metadata": {},
   "outputs": [],
   "source": [
    "url = 'http://httpbin.org/post'"
   ]
  },
  {
   "cell_type": "code",
   "execution_count": 11,
   "metadata": {},
   "outputs": [],
   "source": [
    "pdata = {'uname':'li', 'pwd':'12345'}\n",
    "req = requests.post(url, data=pdata)"
   ]
  },
  {
   "cell_type": "code",
   "execution_count": 12,
   "metadata": {},
   "outputs": [
    {
     "data": {
      "text/plain": [
       "{'args': {},\n",
       " 'data': '',\n",
       " 'files': {},\n",
       " 'form': {'pwd': '12345', 'uname': 'li'},\n",
       " 'headers': {'Accept': '*/*',\n",
       "  'Accept-Encoding': 'gzip, deflate',\n",
       "  'Connection': 'close',\n",
       "  'Content-Length': '18',\n",
       "  'Content-Type': 'application/x-www-form-urlencoded',\n",
       "  'Host': 'httpbin.org',\n",
       "  'User-Agent': 'python-requests/2.19.1'},\n",
       " 'json': None,\n",
       " 'origin': '114.249.53.31',\n",
       " 'url': 'http://httpbin.org/post'}"
      ]
     },
     "execution_count": 12,
     "metadata": {},
     "output_type": "execute_result"
    }
   ],
   "source": [
    "req.json()"
   ]
  },
  {
   "cell_type": "code",
   "execution_count": 13,
   "metadata": {},
   "outputs": [],
   "source": [
    "import json"
   ]
  },
  {
   "cell_type": "code",
   "execution_count": 14,
   "metadata": {},
   "outputs": [
    {
     "data": {
      "text/plain": [
       "'{\"uname\": \"li\", \"pwd\": \"12345\"}'"
      ]
     },
     "execution_count": 14,
     "metadata": {},
     "output_type": "execute_result"
    }
   ],
   "source": [
    "jdata = json.dumps(pdata)\n",
    "jdata"
   ]
  },
  {
   "cell_type": "code",
   "execution_count": 17,
   "metadata": {},
   "outputs": [
    {
     "data": {
      "text/plain": [
       "{'args': {},\n",
       " 'data': '{\"uname\": \"li\", \"pwd\": \"12345\"}',\n",
       " 'files': {},\n",
       " 'form': {},\n",
       " 'headers': {'Accept': '*/*',\n",
       "  'Accept-Encoding': 'gzip, deflate',\n",
       "  'Connection': 'close',\n",
       "  'Content-Length': '31',\n",
       "  'Host': 'httpbin.org',\n",
       "  'User-Agent': 'python-requests/2.19.1'},\n",
       " 'json': {'pwd': '12345', 'uname': 'li'},\n",
       " 'origin': '114.249.53.31',\n",
       " 'url': 'http://httpbin.org/post'}"
      ]
     },
     "execution_count": 17,
     "metadata": {},
     "output_type": "execute_result"
    }
   ],
   "source": [
    "req = requests.post(url, data=jdata)\n",
    "req.json()"
   ]
  },
  {
   "cell_type": "code",
   "execution_count": 20,
   "metadata": {},
   "outputs": [],
   "source": [
    "fpath = '/Users/yangsan/Pictures/img2/1.txt'\n",
    "fdata = {'1.txt':open(fpath, 'rb')}"
   ]
  },
  {
   "cell_type": "code",
   "execution_count": 21,
   "metadata": {},
   "outputs": [
    {
     "data": {
      "text/plain": [
       "{'args': {},\n",
       " 'data': '',\n",
       " 'files': {'1.txt': '{\\\\rtf1\\\\ansi\\\\ansicpg936\\\\cocoartf1671\\\\cocoasubrtf100\\n{\\\\fonttbl\\\\f0\\\\fswiss\\\\fcharset0 Helvetica;}\\n{\\\\colortbl;\\\\red255\\\\green255\\\\blue255;}\\n{\\\\*\\\\expandedcolortbl;;}\\n\\\\paperw11900\\\\paperh16840\\\\margl1440\\\\margr1440\\\\vieww10800\\\\viewh8400\\\\viewkind0\\n\\\\pard\\\\tx566\\\\tx1133\\\\tx1700\\\\tx2267\\\\tx2834\\\\tx3401\\\\tx3968\\\\tx4535\\\\tx5102\\\\tx5669\\\\tx6236\\\\tx6803\\\\pardirnatural\\\\partightenfactor0\\n\\n\\\\f0\\\\fs24 \\\\cf0 1}'},\n",
       " 'form': {},\n",
       " 'headers': {'Accept': '*/*',\n",
       "  'Accept-Encoding': 'gzip, deflate',\n",
       "  'Connection': 'close',\n",
       "  'Content-Length': '511',\n",
       "  'Content-Type': 'multipart/form-data; boundary=19c94b27670dc2a66b802019c6f92d7a',\n",
       "  'Host': 'httpbin.org',\n",
       "  'User-Agent': 'python-requests/2.19.1'},\n",
       " 'json': None,\n",
       " 'origin': '114.249.53.31',\n",
       " 'url': 'http://httpbin.org/post'}"
      ]
     },
     "execution_count": 21,
     "metadata": {},
     "output_type": "execute_result"
    }
   ],
   "source": [
    "req = requests.post(url, files=fdata)\n",
    "req.json()"
   ]
  },
  {
   "cell_type": "code",
   "execution_count": 22,
   "metadata": {},
   "outputs": [],
   "source": [
    "fpath = '/Users/yangsan/Pictures/img2/new515764-20140628225434140577.jpg'\n",
    "fdata = {'1.txt':open(fpath, 'rb')}"
   ]
  },
  {
   "cell_type": "code",
   "execution_count": 23,
   "metadata": {},
   "outputs": [
    {
     "data": {
      "text/plain": [
       "{'args': {},\n",
       " 'data': '',\n",
       " 'files': {'1.txt': 'data:application/octet-stream;base64,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'},\n",
       " 'form': {},\n",
       " 'headers': {'Accept': '*/*',\n",
       "  'Accept-Encoding': 'gzip, deflate',\n",
       "  'Connection': 'close',\n",
       "  'Content-Length': '62368',\n",
       "  'Content-Type': 'multipart/form-data; boundary=158ce76072d8410ee3e5843aab3a4e5f',\n",
       "  'Host': 'httpbin.org',\n",
       "  'User-Agent': 'python-requests/2.19.1'},\n",
       " 'json': None,\n",
       " 'origin': '114.249.53.31',\n",
       " 'url': 'http://httpbin.org/post'}"
      ]
     },
     "execution_count": 23,
     "metadata": {},
     "output_type": "execute_result"
    }
   ],
   "source": [
    "req = requests.post(url, files=fdata)\n",
    "req.json()"
   ]
  },
  {
   "cell_type": "code",
   "execution_count": 24,
   "metadata": {},
   "outputs": [],
   "source": [
    "params = {'api_key':'uowlhOyMetWVQsk-NosugNYxX5oJl5sX', \n",
    "         'api_secret':'Cq7D6gqvJGGkxjot2yW31XSqpz_bKrkb',\n",
    "         'return_attributes':'gender,age'}\n",
    "fpath = '/Users/yangsan/Pictures/img2/new515764-20140628225434140577.jpg'\n",
    "url = 'https://api-cn.faceplusplus.com/facepp/v3/detect'"
   ]
  },
  {
   "cell_type": "code",
   "execution_count": 27,
   "metadata": {},
   "outputs": [],
   "source": [
    "fdata = {'image_file':open(fpath, 'rb')}\n",
    "req = requests.post(url, params=params, files=fdata)"
   ]
  },
  {
   "cell_type": "code",
   "execution_count": 28,
   "metadata": {},
   "outputs": [
    {
     "data": {
      "text/plain": [
       "200"
      ]
     },
     "execution_count": 28,
     "metadata": {},
     "output_type": "execute_result"
    }
   ],
   "source": [
    "req.status_code"
   ]
  },
  {
   "cell_type": "code",
   "execution_count": 29,
   "metadata": {
    "scrolled": true
   },
   "outputs": [
    {
     "data": {
      "text/plain": [
       "{'image_id': 'QsOg4zhcow1VtoknBx6F0g==',\n",
       " 'request_id': '1543397600,48f6b206-9ab4-44d6-bb2f-386bf925fefb',\n",
       " 'time_used': 346,\n",
       " 'faces': [{'attributes': {'gender': {'value': 'Female'},\n",
       "    'age': {'value': 34}},\n",
       "   'face_rectangle': {'width': 361, 'top': 376, 'left': 219, 'height': 361},\n",
       "   'face_token': '3a856d8022d38e2ee434650b263c4efb'}]}"
      ]
     },
     "execution_count": 29,
     "metadata": {},
     "output_type": "execute_result"
    }
   ],
   "source": [
    "req.json()"
   ]
  },
  {
   "cell_type": "code",
   "execution_count": 30,
   "metadata": {},
   "outputs": [],
   "source": [
    "fdir = '/Users/yangsan/Pictures/img2'"
   ]
  },
  {
   "cell_type": "code",
   "execution_count": 31,
   "metadata": {},
   "outputs": [],
   "source": [
    "import os"
   ]
  },
  {
   "cell_type": "code",
   "execution_count": 32,
   "metadata": {},
   "outputs": [
    {
     "data": {
      "text/plain": [
       "['new515764-20140628225434140577.jpg',\n",
       " '.DS_Store',\n",
       " '6868711_358287.jpg',\n",
       " '1.txt',\n",
       " 'new551901-20160902195731255485.jpg']"
      ]
     },
     "execution_count": 32,
     "metadata": {},
     "output_type": "execute_result"
    }
   ],
   "source": [
    "fname = os.listdir(fdir)\n",
    "fname"
   ]
  },
  {
   "cell_type": "code",
   "execution_count": 33,
   "metadata": {},
   "outputs": [
    {
     "data": {
      "text/plain": [
       "{'image_id': 'QsOg4zhcow1VtoknBx6F0g==',\n",
       " 'request_id': '1543397600,48f6b206-9ab4-44d6-bb2f-386bf925fefb',\n",
       " 'time_used': 346,\n",
       " 'faces': [{'attributes': {'gender': {'value': 'Female'},\n",
       "    'age': {'value': 34}},\n",
       "   'face_rectangle': {'width': 361, 'top': 376, 'left': 219, 'height': 361},\n",
       "   'face_token': '3a856d8022d38e2ee434650b263c4efb'}]}"
      ]
     },
     "execution_count": 33,
     "metadata": {},
     "output_type": "execute_result"
    }
   ],
   "source": [
    "jdata = req.json()\n",
    "jdata"
   ]
  },
  {
   "cell_type": "code",
   "execution_count": 38,
   "metadata": {},
   "outputs": [
    {
     "name": "stdout",
     "output_type": "stream",
     "text": [
      "[376, 219, 361, 361, 34, 'Female']\n"
     ]
    }
   ],
   "source": [
    "for face in jdata['faces']:\n",
    "    keys = ['age', 'gender']\n",
    "    info = [face['attributes'].get(key).get('value') for key in keys]\n",
    "    keys = ['top', 'left', 'width', 'height']\n",
    "    infor = [face['face_rectangle'].get(key) for key in keys]\n",
    "    infor.extend(info)\n",
    "    print(infor)"
   ]
  },
  {
   "cell_type": "code",
   "execution_count": null,
   "metadata": {},
   "outputs": [],
   "source": [
    "import requests"
   ]
  },
  {
   "cell_type": "code",
   "execution_count": 39,
   "metadata": {},
   "outputs": [],
   "source": [
    "hds = {'User-Agent':'Mozilla/5.0 (Macintosh; Intel Mac OS X 10_14_1) AppleWebKit/537.36 (KHTML, like Gecko) Chrome/70.0.3538.110 Safari/537.36'}\n",
    "url = 'https://movie.douban.com/subject/1292052/'\n",
    "req = requests.get(url, headers = hds)"
   ]
  },
  {
   "cell_type": "code",
   "execution_count": 41,
   "metadata": {},
   "outputs": [],
   "source": [
    "from lxml import html, etree"
   ]
  },
  {
   "cell_type": "code",
   "execution_count": 42,
   "metadata": {},
   "outputs": [],
   "source": [
    "obj = html.fromstring(req.text)"
   ]
  },
  {
   "cell_type": "code",
   "execution_count": 43,
   "metadata": {},
   "outputs": [
    {
     "data": {
      "text/plain": [
       "<Element html at 0x107c3eea8>"
      ]
     },
     "execution_count": 43,
     "metadata": {},
     "output_type": "execute_result"
    }
   ],
   "source": [
    "obj"
   ]
  },
  {
   "cell_type": "code",
   "execution_count": 44,
   "metadata": {},
   "outputs": [
    {
     "data": {
      "text/plain": [
       "b'<html lang=\"zh-cmn-Hans\" class=\"ua-mac ua-webkit\">\\n<head>\\n    <meta http-equiv=\"Content-Type\" content=\"text/html; charset=utf-8\"/>\\n    <meta name=\"renderer\" content=\"webkit\"/>\\n    <meta name=\"referrer\" content=\"always\"/>\\n    <meta name=\"google-site-verification\" content=\"ok0wCgT20tBBgo9_zat2iAcimtN4Ftf5ccsh092Xeyw\"/>\\n    <title>\\n        &#32918;&#30003;&#20811;&#30340;&#25937;&#36174; (&#35910;&#29923;)\\n</title>\\n    \\n    <meta name=\"baidu-site-verification\" content=\"cZdR4xxR7RxmM4zE\"/>\\n    <meta http-equiv=\"Pragma\" content=\"no-cache\"/>\\n    <meta http-equiv=\"Expires\" content=\"Sun, 6 Mar 2005 01:00:00 GMT\"/>\\n    \\n    <link rel=\"apple-touch-icon\" href=\"https://img3.doubanio.com/f/movie/d59b2715fdea4968a450ee5f6c95c7d7a2030065/pics/movie/apple-touch-icon.png\"/>\\n    <link href=\"https://img3.doubanio.com/f/shire/bf61b1fa02f564a4a8f809da7c7179b883a56146/css/douban.css\" rel=\"stylesheet\" type=\"text/css\"/>\\n    <link href=\"https://img3.doubanio.com/f/shire/ae3f5a3e3085968370b1fc63afcecb22d3284848/css/separation/_all.css\" rel=\"stylesheet\" type=\"text/css\"/>\\n    <link href=\"https://img3.doubanio.com/f/movie/8864d3756094f5272d3c93e30ee2e324665855b0/css/movie/base/init.css\" rel=\"stylesheet\"/>\\n    <script type=\"text/javascript\">var _head_start = new Date();</script>\\n    <script type=\"text/javascript\" src=\"https://img3.doubanio.com/f/movie/0495cb173e298c28593766009c7b0a953246c5b5/js/movie/lib/jquery.js\"/>\\n    <script type=\"text/javascript\" src=\"https://img3.doubanio.com/f/shire/f010949d3f23dd7c972ad7cb40b800bf70723c93/js/douban.js\"/>\\n    <script type=\"text/javascript\" src=\"https://img3.doubanio.com/f/shire/0efdc63b77f895eaf85281fb0e44d435c6239a3f/js/separation/_all.js\"/>\\n    \\n    <meta name=\"keywords\" content=\"&#32918;&#30003;&#20811;&#30340;&#25937;&#36174;,The Shawshank Redemption,&#32918;&#30003;&#20811;&#30340;&#25937;&#36174;&#24433;&#35780;,&#21095;&#24773;&#20171;&#32461;,&#30005;&#24433;&#22270;&#29255;,&#39044;&#21578;&#29255;,&#24433;&#35759;,&#22312;&#32447;&#36141;&#31080;,&#35770;&#22363;,&#32918;&#30003;&#20811;&#30340;&#25937;&#36174;&#22312;&#32447;&#35266;&#30475;,&#32918;&#30003;&#20811;&#30340;&#25937;&#36174;&#39640;&#28165;,&#32918;&#30003;&#20811;&#30340;&#25937;&#36174;&#22312;&#32447;&#25773;&#25918;\"/>\\n    <meta name=\"description\" content=\"&#32918;&#30003;&#20811;&#30340;&#25937;&#36174;&#30005;&#24433;&#31616;&#20171;&#21644;&#21095;&#24773;&#20171;&#32461;,&#32918;&#30003;&#20811;&#30340;&#25937;&#36174;&#24433;&#35780;&#12289;&#22270;&#29255;&#12289;&#39044;&#21578;&#29255;&#12289;&#24433;&#35759;&#12289;&#35770;&#22363;&#12289;&#22312;&#32447;&#36141;&#31080;&#12289;&#32918;&#30003;&#20811;&#30340;&#25937;&#36174;&#22312;&#32447;&#35266;&#30475;&#12289;&#39640;&#28165;&#12289;&#22312;&#32447;&#25773;&#25918;\"/>\\n    <meta name=\"mobile-agent\" content=\"format=html5; url=http://m.douban.com/movie/subject/1292052/\"/>\\n    <link rel=\"alternate\" href=\"android-app://com.douban.movie/doubanmovie/subject/1292052/\"/>\\n    <link rel=\"stylesheet\" href=\"https://img3.doubanio.com/dae/cdnlib/libs/LikeButton/1.0.5/style.min.css\"/>\\n    <script type=\"text/javascript\" src=\"https://img3.doubanio.com/f/shire/77323ae72a612bba8b65f845491513ff3329b1bb/js/do.js\" data-cfg-autoload=\"false\"/>\\n    <script type=\"text/javascript\">\\n      Do.add(\\'dialog\\', {path: \\'https://img3.doubanio.com/f/shire/4ea3216519a6183c7bcd4f7d1a6d4fd57ce1a244/js/ui/dialog.js\\', type: \\'js\\'});\\n      Do.add(\\'dialog-css\\', {path: \\'https://img3.doubanio.com/f/shire/8377b9498330a2e6f056d863987cc7a37eb4d486/css/ui/dialog.css\\', type: \\'css\\'});\\n      Do.add(\\'handlebarsjs\\', {path: \\'https://img3.doubanio.com/f/movie/3d4f8e4a8918718256450eb6e57ec8e1f7a2e14b/js/movie/lib/handlebars.current.js\\', type: \\'js\\'});\\n    </script>\\n    \\n  <script type=\"text/javascript\">\\n  var _vwo_code = (function() {\\n    var account_id = 249272,\\n      settings_tolerance = 0,\\n      library_tolerance = 2500,\\n      use_existing_jquery = false,\\n      // DO NOT EDIT BELOW THIS LINE\\n      f=false,d=document;return{use_existing_jquery:function(){return use_existing_jquery;},library_tolerance:function(){return library_tolerance;},finish:function(){if(!f){f=true;var a=d.getElementById(\\'_vis_opt_path_hides\\');if(a)a.parentNode.removeChild(a);}},finished:function(){return f;},load:function(a){var b=d.createElement(\\'script\\');b.src=a;b.type=\\'text/javascript\\';b.innerText;b.onerror=function(){_vwo_code.finish();};d.getElementsByTagName(\\'head\\')[0].appendChild(b);},init:function(){settings_timer=setTimeout(\\'_vwo_code.finish()\\',settings_tolerance);var a=d.createElement(\\'style\\'),b=\\'body{opacity:0 !important;filter:alpha(opacity=0) !important;background:none !important;}\\',h=d.getElementsByTagName(\\'head\\')[0];a.setAttribute(\\'id\\',\\'_vis_opt_path_hides\\');a.setAttribute(\\'type\\',\\'text/css\\');if(a.styleSheet)a.styleSheet.cssText=b;else a.appendChild(d.createTextNode(b));h.appendChild(a);this.load(\\'//dev.visualwebsiteoptimizer.com/j.php?a=\\'+account_id+\\'&amp;u=\\'+encodeURIComponent(d.URL)+\\'&amp;r=\\'+Math.random());return settings_timer;}};}());\\n\\n  +function () {\\n    var bindEvent = function (el, type, handler) {\\n        var $ = window.jQuery || window.Zepto || window.$\\n       if ($ &amp;&amp; $.fn &amp;&amp; $.fn.on) {\\n           $(el).on(type, handler)\\n       } else if($ &amp;&amp; $.fn &amp;&amp; $.fn.bind) {\\n           $(el).bind(type, handler)\\n       } else if (el.addEventListener){\\n         el.addEventListener(type, handler, false);\\n       } else if (el.attachEvent){\\n         el.attachEvent(\"on\" + type, handler);\\n       } else {\\n         el[\"on\" + type] = handler;\\n       }\\n     }\\n\\n    var _origin_load = _vwo_code.load\\n    _vwo_code.load = function () {\\n      var args = [].slice.call(arguments)\\n      bindEvent(window, \\'load\\', function () {\\n        _origin_load.apply(_vwo_code, args)\\n      })\\n    }\\n  }()\\n\\n  _vwo_settings_timer = _vwo_code.init();\\n  </script>\\n\\n\\n    \\n\\n\\n<script type=\"application/ld+json\">\\n{\\n  \"@context\": \"http://schema.org\",\\n  \"name\": \"&#32918;&#30003;&#20811;&#30340;&#25937;&#36174; The Shawshank Redemption\",\\n  \"url\": \"/subject/1292052/\",\\n  \"image\": \"https://img3.doubanio.com/view/photo/s_ratio_poster/public/p480747492.jpg\",\\n  \"director\": \\n  [\\n    {\\n      \"@type\": \"Person\",\\n      \"url\": \"/celebrity/1047973/\",\\n      \"name\": \"&#24343;&#20848;&#20811;&#183;&#24503;&#25289;&#37030;&#29305; Frank Darabont\"\\n    }\\n  ]\\n,\\n  \"author\": \\n  [\\n    {\\n      \"@type\": \"Person\",\\n      \"url\": \"/celebrity/1047973/\",\\n      \"name\": \"&#24343;&#20848;&#20811;&#183;&#24503;&#25289;&#37030;&#29305; Frank Darabont\"\\n    }\\n    ,\\n    {\\n      \"@type\": \"Person\",\\n      \"url\": \"/celebrity/1049547/\",\\n      \"name\": \"&#26031;&#33922;&#33452;&#183;&#37329; Stephen King\"\\n    }\\n  ]\\n,\\n  \"actor\": \\n  [\\n    {\\n      \"@type\": \"Person\",\\n      \"url\": \"/celebrity/1054521/\",\\n      \"name\": \"&#33922;&#22982;&#183;&#32599;&#23486;&#26031; Tim Robbins\"\\n    }\\n    ,\\n    {\\n      \"@type\": \"Person\",\\n      \"url\": \"/celebrity/1054534/\",\\n      \"name\": \"&#25705;&#26681;&#183;&#24343;&#37324;&#26364; Morgan Freeman\"\\n    }\\n    ,\\n    {\\n      \"@type\": \"Person\",\\n      \"url\": \"/celebrity/1041179/\",\\n      \"name\": \"&#40077;&#21187;&#183;&#20872;&#39039; Bob Gunton\"\\n    }\\n    ,\\n    {\\n      \"@type\": \"Person\",\\n      \"url\": \"/celebrity/1000095/\",\\n      \"name\": \"&#23041;&#24265;&#22982;&#183;&#36187;&#24503;&#21202; William Sadler\"\\n    }\\n    ,\\n    {\\n      \"@type\": \"Person\",\\n      \"url\": \"/celebrity/1013817/\",\\n      \"name\": \"&#20811;&#20848;&#35199;&#183;&#24067;&#26391; Clancy Brown\"\\n    }\\n    ,\\n    {\\n      \"@type\": \"Person\",\\n      \"url\": \"/celebrity/1010612/\",\\n      \"name\": \"&#21513;&#23572;&#183;&#36125;&#32599;&#26031; Gil Bellows\"\\n    }\\n    ,\\n    {\\n      \"@type\": \"Person\",\\n      \"url\": \"/celebrity/1054892/\",\\n      \"name\": \"&#39532;&#20811;&#183;&#32599;&#26031;&#39039; Mark Rolston\"\\n    }\\n    ,\\n    {\\n      \"@type\": \"Person\",\\n      \"url\": \"/celebrity/1027897/\",\\n      \"name\": \"&#35449;&#22982;&#26031;&#183;&#24800;&#29305;&#25705; James Whitmore\"\\n    }\\n    ,\\n    {\\n      \"@type\": \"Person\",\\n      \"url\": \"/celebrity/1087302/\",\\n      \"name\": \"&#26480;&#24343;&#37324;&#183;&#24503;&#26364; Jeffrey DeMunn\"\\n    }\\n    ,\\n    {\\n      \"@type\": \"Person\",\\n      \"url\": \"/celebrity/1074035/\",\\n      \"name\": \"&#25289;&#37324;&#183;&#24067;&#20848;&#30331;&#20271;&#26684; Larry Brandenburg\"\\n    }\\n    ,\\n    {\\n      \"@type\": \"Person\",\\n      \"url\": \"/celebrity/1099030/\",\\n      \"name\": \"&#23612;&#23572;&#183;&#21513;&#24681;&#25176;&#21033; Neil Giuntoli\"\\n    }\\n    ,\\n    {\\n      \"@type\": \"Person\",\\n      \"url\": \"/celebrity/1343305/\",\\n      \"name\": \"&#24067;&#36182;&#24681;&#183;&#21033;&#27604; Brian Libby\"\\n    }\\n    ,\\n    {\\n      \"@type\": \"Person\",\\n      \"url\": \"/celebrity/1048222/\",\\n      \"name\": \"&#22823;&#21355;&#183;&#26222;&#32599;&#29926;&#23572; David Proval\"\\n    }\\n    ,\\n    {\\n      \"@type\": \"Person\",\\n      \"url\": \"/celebrity/1343306/\",\\n      \"name\": \"&#32422;&#29791;&#22827;&#183;&#21171;&#26684;&#35834; Joseph Ragno\"\\n    }\\n    ,\\n    {\\n      \"@type\": \"Person\",\\n      \"url\": \"/celebrity/1315528/\",\\n      \"name\": \"&#31062;&#24503;&#183;&#22622;&#20811;&#21033;&#25289; Jude Ciccolella\"\\n    }\\n    ,\\n    {\\n      \"@type\": \"Person\",\\n      \"url\": \"/celebrity/1014040/\",\\n      \"name\": \"&#20445;&#32599;&#183;&#40614;&#20811;&#20848;&#23612; Paul McCrane\"\\n    }\\n    ,\\n    {\\n      \"@type\": \"Person\",\\n      \"url\": \"/celebrity/1390795/\",\\n      \"name\": \"&#33454;&#22958;&#183;&#24067;&#33713;&#24681; Renee Blaine\"\\n    }\\n    ,\\n    {\\n      \"@type\": \"Person\",\\n      \"url\": \"/celebrity/1083603/\",\\n      \"name\": \"&#38463;&#26041;&#32034;&#183;&#24343;&#37324;&#26364; Alfonso Freeman\"\\n    }\\n    ,\\n    {\\n      \"@type\": \"Person\",\\n      \"url\": \"/celebrity/1330490/\",\\n      \"name\": \"V&#183;J&#183;&#31119;&#26031;&#29305; V.J. Foster\"\\n    }\\n    ,\\n    {\\n      \"@type\": \"Person\",\\n      \"url\": \"/celebrity/1000635/\",\\n      \"name\": \"&#24343;&#20848;&#20811;&#183;&#26757;&#24503;&#25289;&#35834; Frank Medrano\"\\n    }\\n    ,\\n    {\\n      \"@type\": \"Person\",\\n      \"url\": \"/celebrity/1390797/\",\\n      \"name\": \"&#39532;&#20811;&#183;&#36808;&#23572;&#26031; Mack Miles\"\\n    }\\n    ,\\n    {\\n      \"@type\": \"Person\",\\n      \"url\": \"/celebrity/1150160/\",\\n      \"name\": \"&#23612;&#23572;&#183;&#33832;&#40664;&#26031; Neil Summers\"\\n    }\\n    ,\\n    {\\n      \"@type\": \"Person\",\\n      \"url\": \"/celebrity/1048233/\",\\n      \"name\": \"&#32784;&#24503;&#183;&#24052;&#25289;&#31859; Ned Bellamy\"\\n    }\\n    ,\\n    {\\n      \"@type\": \"Person\",\\n      \"url\": \"/celebrity/1000721/\",\\n      \"name\": \"&#24067;&#36182;&#24681;&#183;&#25140;&#25289;&#29305; Brian Delate\"\\n    }\\n    ,\\n    {\\n      \"@type\": \"Person\",\\n      \"url\": \"/celebrity/1333685/\",\\n      \"name\": \"&#21776;&#183;&#40614;&#20811;&#39532;&#32435;&#26031; Don McManus\"\\n    }\\n  ]\\n,\\n  \"datePublished\": \"1994-09-10\",\\n  \"genre\": [\"\\\\u72af\\\\u7f6a\", \"\\\\u5267\\\\u60c5\"],\\n  \"duration\": \"PT2H22M\",\\n  \"description\": \"20&#19990;&#32426;40&#24180;&#20195;&#26411;&#65292;&#23567;&#26377;&#25104;&#23601;&#30340;&#38738;&#24180;&#38134;&#34892;&#23478;&#23433;&#36842;&#65288;&#33922;&#22982;&#183;&#32599;&#23486;&#26031; Tim Robbins &#39280;&#65289;&#22240;&#28041;&#23244;&#26432;&#23475;&#22971;&#23376;&#21450;&#22905;&#30340;&#24773;&#20154;&#32780;&#38162;&#38107;&#20837;&#29425;&#12290;&#22312;&#36825;&#24231;&#21517;&#20026;&#32918;&#30003;&#20811;&#30340;&#30417;&#29425;&#20869;&#65292;&#24076;&#26395;&#20284;&#20046;&#34394;&#26080;&#32549;&#32520;&#65292;&#32456;&#36523;&#30417;&#31105;&#30340;&#24809;&#32602;&#26080;&#30097;&#27880;&#23450;&#20102;&#23433;&#36842;&#25509;&#19979;...\",\\n  \"@type\": \"Movie\",\\n  \"aggregateRating\": {\\n    \"@type\": \"AggregateRating\",\\n    \"ratingCount\": \"1209676\",\\n    \"bestRating\": \"10\",\\n    \"worstRating\": \"2\",\\n    \"ratingValue\": \"9.6\"\\n  }\\n}\\n</script>\\n\\n\\n    <style type=\"text/css\">\\n  \\n</style>\\n    <style type=\"text/css\">img { max-width: 100%; }</style>\\n    <script type=\"text/javascript\"/>\\n    <link rel=\"stylesheet\" href=\"https://img3.doubanio.com/misc/mixed_static/438f290b797df53f.css\"/>\\n\\n    <link rel=\"shortcut icon\" href=\"https://img3.doubanio.com/favicon.ico\" type=\"image/x-icon\"/>\\n</head>\\n\\n<body>\\n  \\n    <script type=\"text/javascript\">var _body_start = new Date();</script>\\n\\n    \\n    \\n\\n\\n\\n    <link href=\"//img3.doubanio.com/dae/accounts/resources/984c231/shire/bundle.css\" rel=\"stylesheet\" type=\"text/css\"/>\\n\\n\\n\\n<div id=\"db-global-nav\" class=\"global-nav\">\\n  <div class=\"bd\">\\n    \\n<div class=\"top-nav-info\">\\n  <a href=\"https://www.douban.com/accounts/login?source=movie\" class=\"nav-login\" rel=\"nofollow\">&#30331;&#24405;</a>\\n  <a href=\"https://www.douban.com/accounts/register?source=movie\" class=\"nav-register\" rel=\"nofollow\">&#27880;&#20876;</a>\\n</div>\\n\\n\\n    <div class=\"top-nav-doubanapp\">\\n  <a href=\"https://www.douban.com/doubanapp/app?channel=top-nav\" class=\"lnk-doubanapp\">&#19979;&#36733;&#35910;&#29923;&#23458;&#25143;&#31471;</a>\\n  <div id=\"doubanapp-tip\">\\n    <a href=\"https://www.douban.com/doubanapp/app?channel=qipao\" class=\"tip-link\">&#35910;&#29923; <span class=\"version\">6.0</span> &#20840;&#26032;&#21457;&#24067;</a>\\n    <a href=\"javascript: void 0;\" class=\"tip-close\">&#215;</a>\\n  </div>\\n  <div id=\"top-nav-appintro\" class=\"more-items\">\\n    <p class=\"appintro-title\">&#35910;&#29923;</p>\\n    <p class=\"qrcode\">&#25195;&#30721;&#30452;&#25509;&#19979;&#36733;</p>\\n    <div class=\"download\">\\n      <a href=\"https://www.douban.com/doubanapp/redirect?channel=top-nav&amp;direct_dl=1&amp;download=iOS\">iPhone</a>\\n      <span>&#183;</span>\\n      <a href=\"https://www.douban.com/doubanapp/redirect?channel=top-nav&amp;direct_dl=1&amp;download=Android\" class=\"download-android\">Android</a>\\n    </div>\\n  </div>\\n</div>\\n\\n    \\n\\n\\n<div class=\"global-nav-items\">\\n  <ul>\\n    <li class=\"\">\\n      <a href=\"https://www.douban.com\" target=\"_blank\" data-moreurl-dict=\"{&quot;from&quot;:&quot;top-nav-click-main&quot;,&quot;uid&quot;:&quot;0&quot;}\">&#35910;&#29923;</a>\\n    </li>\\n    <li class=\"\">\\n      <a href=\"https://book.douban.com\" target=\"_blank\" data-moreurl-dict=\"{&quot;from&quot;:&quot;top-nav-click-book&quot;,&quot;uid&quot;:&quot;0&quot;}\">&#35835;&#20070;</a>\\n    </li>\\n    <li class=\"on\">\\n      <a href=\"https://movie.douban.com\" data-moreurl-dict=\"{&quot;from&quot;:&quot;top-nav-click-movie&quot;,&quot;uid&quot;:&quot;0&quot;}\">&#30005;&#24433;</a>\\n    </li>\\n    <li class=\"\">\\n      <a href=\"https://music.douban.com\" target=\"_blank\" data-moreurl-dict=\"{&quot;from&quot;:&quot;top-nav-click-music&quot;,&quot;uid&quot;:&quot;0&quot;}\">&#38899;&#20048;</a>\\n    </li>\\n    <li class=\"\">\\n      <a href=\"https://www.douban.com/location\" target=\"_blank\" data-moreurl-dict=\"{&quot;from&quot;:&quot;top-nav-click-location&quot;,&quot;uid&quot;:&quot;0&quot;}\">&#21516;&#22478;</a>\\n    </li>\\n    <li class=\"\">\\n      <a href=\"https://www.douban.com/group\" target=\"_blank\" data-moreurl-dict=\"{&quot;from&quot;:&quot;top-nav-click-group&quot;,&quot;uid&quot;:&quot;0&quot;}\">&#23567;&#32452;</a>\\n    </li>\\n    <li class=\"\">\\n      <a href=\"https://read.douban.com/?dcs=top-nav&amp;dcm=douban\" target=\"_blank\" data-moreurl-dict=\"{&quot;from&quot;:&quot;top-nav-click-read&quot;,&quot;uid&quot;:&quot;0&quot;}\">&#38405;&#35835;</a>\\n    </li>\\n    <li class=\"\">\\n      <a href=\"https://douban.fm/?from_=shire_top_nav\" target=\"_blank\" data-moreurl-dict=\"{&quot;from&quot;:&quot;top-nav-click-fm&quot;,&quot;uid&quot;:&quot;0&quot;}\">FM</a>\\n    </li>\\n    <li class=\"\">\\n      <a href=\"https://time.douban.com/?dt_time_source=douban-web_top_nav\" target=\"_blank\" data-moreurl-dict=\"{&quot;from&quot;:&quot;top-nav-click-time&quot;,&quot;uid&quot;:&quot;0&quot;}\">&#26102;&#38388;</a>\\n    </li>\\n    <li class=\"\">\\n      <a href=\"https://market.douban.com/?utm_campaign=douban_top_nav&amp;utm_source=douban&amp;utm_medium=pc_web\" target=\"_blank\" data-moreurl-dict=\"{&quot;from&quot;:&quot;top-nav-click-market&quot;,&quot;uid&quot;:&quot;0&quot;}\">&#35910;&#21697;</a>\\n    </li>\\n    <li>\\n      <a href=\"#more\" class=\"bn-more\"><span>&#26356;&#22810;</span></a>\\n      <div class=\"more-items\">\\n        <table cellpadding=\"0\" cellspacing=\"0\">\\n          <tbody>\\n            <tr>\\n              <td>\\n                <a href=\"https://ypy.douban.com\" target=\"_blank\" data-moreurl-dict=\"{&quot;from&quot;:&quot;top-nav-click-ypy&quot;,&quot;uid&quot;:&quot;0&quot;}\">&#35910;&#29923;&#25668;&#24433;</a>\\n              </td>\\n            </tr>\\n          </tbody>\\n        </table>\\n      </div>\\n    </li>\\n  </ul>\\n</div>\\n\\n  </div>\\n</div>\\n<script>\\n  ;window._GLOBAL_NAV = {\\n    DOUBAN_URL: \"https://www.douban.com\",\\n    N_NEW_NOTIS: 0,\\n    N_NEW_DOUMAIL: 0\\n  };\\n</script>\\n\\n\\n\\n    <script src=\"//img3.doubanio.com/dae/accounts/resources/984c231/shire/bundle.js\" defer=\"defer\"/>\\n\\n\\n\\n\\n    \\n\\n\\n\\n    <link href=\"//img3.doubanio.com/dae/accounts/resources/19507ad/movie/bundle.css\" rel=\"stylesheet\" type=\"text/css\"/>\\n\\n\\n\\n\\n<div id=\"db-nav-movie\" class=\"nav\">\\n  <div class=\"nav-wrap\">\\n  <div class=\"nav-primary\">\\n    <div class=\"nav-logo\">\\n      <a href=\"https://movie.douban.com\">&#35910;&#29923;&#30005;&#24433;</a>\\n    </div>\\n    <div class=\"nav-search\">\\n      <form action=\"https://movie.douban.com/subject_search\" method=\"get\">\\n        <fieldset>\\n          <legend>&#25628;&#32034;&#65306;</legend>\\n          <label for=\"inp-query\">\\n          </label>\\n          <div class=\"inp\"><input id=\"inp-query\" name=\"search_text\" size=\"22\" maxlength=\"60\" placeholder=\"&#25628;&#32034;&#30005;&#24433;&#12289;&#30005;&#35270;&#21095;&#12289;&#32508;&#33402;&#12289;&#24433;&#20154;\" value=\"\"/></div>\\n          <div class=\"inp-btn\"><input type=\"submit\" value=\"&#25628;&#32034;\"/></div>\\n          <input type=\"hidden\" name=\"cat\" value=\"1002\"/>\\n        </fieldset>\\n      </form>\\n    </div>\\n  </div>\\n  </div>\\n  <div class=\"nav-secondary\">\\n    \\n\\n<div class=\"nav-items\">\\n  <ul>\\n    <li><a href=\"https://movie.douban.com/cinema/nowplaying/\">&#24433;&#35759;&amp;&#36141;&#31080;</a>\\n    </li>\\n    <li><a href=\"https://movie.douban.com/explore\">&#36873;&#30005;&#24433;</a>\\n    </li>\\n    <li><a href=\"https://movie.douban.com/tv/\">&#30005;&#35270;&#21095;</a>\\n    </li>\\n    <li><a href=\"https://movie.douban.com/chart\">&#25490;&#34892;&#27036;</a>\\n    </li>\\n    <li><a href=\"https://movie.douban.com/tag/\">&#20998;&#31867;</a>\\n    </li>\\n    <li><a href=\"https://movie.douban.com/review/best/\">&#24433;&#35780;</a>\\n    </li>\\n    <li><a href=\"https://movie.douban.com/annual/2017?source=navigation\">2017&#24180;&#24230;&#27036;&#21333;</a>\\n    </li>\\n    <li><a href=\"https://movie.douban.com/standbyme/2017?source=navigation\">2017&#35266;&#24433;&#25253;&#21578;</a>\\n    </li>\\n  </ul>\\n</div>\\n\\n  </div>\\n</div>\\n\\n<script id=\"suggResult\" type=\"text/x-jquery-tmpl\">\\n  &lt;li data-link=\"{{= url}}\"&gt;\\n            &lt;a href=\"{{= url}}\" onclick=\"moreurl(this, {from:\\'movie_search_sugg\\', query:\\'{{= keyword }}\\', subject_id:\\'{{= id}}\\', i: \\'{{= index}}\\', type: \\'{{= type}}\\'})\"&gt;\\n            &lt;img src=\"{{= img}}\" width=\"40\" /&gt;\\n            &lt;p&gt;\\n                &lt;em&gt;{{= title}}&lt;/em&gt;\\n                {{if year}}\\n                    &lt;span&gt;{{= year}}&lt;/span&gt;\\n                {{/if}}\\n                {{if sub_title}}\\n                    &lt;br /&gt;&lt;span&gt;{{= sub_title}}&lt;/span&gt;\\n                {{/if}}\\n                {{if address}}\\n                    &lt;br /&gt;&lt;span&gt;{{= address}}&lt;/span&gt;\\n                {{/if}}\\n                {{if episode}}\\n                    {{if episode==\"unknow\"}}\\n                        &lt;br /&gt;&lt;span&gt;&#38598;&#25968;&#26410;&#30693;&lt;/span&gt;\\n                    {{else}}\\n                        &lt;br /&gt;&lt;span&gt;&#20849;{{= episode}}&#38598;&lt;/span&gt;\\n                    {{/if}}\\n                {{/if}}\\n            &lt;/p&gt;\\n        &lt;/a&gt;\\n        &lt;/li&gt;\\n  </script>\\n\\n\\n\\n\\n    <script src=\"//img3.doubanio.com/dae/accounts/resources/19507ad/movie/bundle.js\" defer=\"defer\"/>\\n\\n\\n\\n\\n\\n    \\n    <div id=\"wrapper\">\\n        \\n\\n        \\n    <div id=\"content\">\\n        \\n    <!-- top 250 begin -->\\n    \\n    <div class=\"top250\"><span class=\"top250-no\">No.1</span><span class=\"top250-link\"><a href=\"https://movie.douban.com/top250\" target=\"_blank\">&#35910;&#29923;&#30005;&#24433;Top250</a></span>\\n    </div>\\n\\n    <!-- top 250 end -->\\n\\n    <div id=\"dale_movie_subject_top_icon\"/>\\n    <h1>\\n        <span property=\"v:itemreviewed\">&#32918;&#30003;&#20811;&#30340;&#25937;&#36174; The Shawshank Redemption</span>\\n            <span class=\"year\">(1994)</span>\\n    </h1>\\n\\n        <div class=\"grid-16-8 clearfix\">\\n            \\n\\n            \\n            <div class=\"article\">\\n                \\n    \\n\\n    \\n\\n\\n\\n\\n\\n        <div class=\"indent clearfix\">\\n            <div class=\"subjectwrap clearfix\">\\n                <div class=\"subject clearfix\">\\n                    \\n\\n\\n\\n<div id=\"mainpic\" class=\"\">\\n    <a class=\"nbgnbg\" href=\"https://movie.douban.com/subject/1292052/photos?type=R\" title=\"&#28857;&#20987;&#30475;&#26356;&#22810;&#28023;&#25253;\">\\n        <img src=\"https://img3.doubanio.com/view/photo/s_ratio_poster/public/p480747492.jpg\" title=\"&#28857;&#20987;&#30475;&#26356;&#22810;&#28023;&#25253;\" alt=\"The Shawshank Redemption\" rel=\"v:image\"/>\\n   </a>\\n</div>\\n\\n                    \\n\\n\\n<div id=\"info\">\\n        <span><span class=\"pl\">&#23548;&#28436;</span>: <span class=\"attrs\"><a href=\"/celebrity/1047973/\" rel=\"v:directedBy\">&#24343;&#20848;&#20811;&#183;&#24503;&#25289;&#37030;&#29305;</a></span></span><br/>\\n        <span><span class=\"pl\">&#32534;&#21095;</span>: <span class=\"attrs\"><a href=\"/celebrity/1047973/\">&#24343;&#20848;&#20811;&#183;&#24503;&#25289;&#37030;&#29305;</a> / <a href=\"/celebrity/1049547/\">&#26031;&#33922;&#33452;&#183;&#37329;</a></span></span><br/>\\n        <span class=\"actor\"><span class=\"pl\">&#20027;&#28436;</span>: <span class=\"attrs\"><a href=\"/celebrity/1054521/\" rel=\"v:starring\">&#33922;&#22982;&#183;&#32599;&#23486;&#26031;</a> / <a href=\"/celebrity/1054534/\" rel=\"v:starring\">&#25705;&#26681;&#183;&#24343;&#37324;&#26364;</a> / <a href=\"/celebrity/1041179/\" rel=\"v:starring\">&#40077;&#21187;&#183;&#20872;&#39039;</a> / <a href=\"/celebrity/1000095/\" rel=\"v:starring\">&#23041;&#24265;&#22982;&#183;&#36187;&#24503;&#21202;</a> / <a href=\"/celebrity/1013817/\" rel=\"v:starring\">&#20811;&#20848;&#35199;&#183;&#24067;&#26391;</a> / <a href=\"/celebrity/1010612/\" rel=\"v:starring\">&#21513;&#23572;&#183;&#36125;&#32599;&#26031;</a> / <a href=\"/celebrity/1054892/\" rel=\"v:starring\">&#39532;&#20811;&#183;&#32599;&#26031;&#39039;</a> / <a href=\"/celebrity/1027897/\" rel=\"v:starring\">&#35449;&#22982;&#26031;&#183;&#24800;&#29305;&#25705;</a> / <a href=\"/celebrity/1087302/\" rel=\"v:starring\">&#26480;&#24343;&#37324;&#183;&#24503;&#26364;</a> / <a href=\"/celebrity/1074035/\" rel=\"v:starring\">&#25289;&#37324;&#183;&#24067;&#20848;&#30331;&#20271;&#26684;</a> / <a href=\"/celebrity/1099030/\" rel=\"v:starring\">&#23612;&#23572;&#183;&#21513;&#24681;&#25176;&#21033;</a> / <a href=\"/celebrity/1343305/\" rel=\"v:starring\">&#24067;&#36182;&#24681;&#183;&#21033;&#27604;</a> / <a href=\"/celebrity/1048222/\" rel=\"v:starring\">&#22823;&#21355;&#183;&#26222;&#32599;&#29926;&#23572;</a> / <a href=\"/celebrity/1343306/\" rel=\"v:starring\">&#32422;&#29791;&#22827;&#183;&#21171;&#26684;&#35834;</a> / <a href=\"/celebrity/1315528/\" rel=\"v:starring\">&#31062;&#24503;&#183;&#22622;&#20811;&#21033;&#25289;</a> / <a href=\"/celebrity/1014040/\" rel=\"v:starring\">&#20445;&#32599;&#183;&#40614;&#20811;&#20848;&#23612;</a> / <a href=\"/celebrity/1390795/\" rel=\"v:starring\">&#33454;&#22958;&#183;&#24067;&#33713;&#24681;</a> / <a href=\"/celebrity/1083603/\" rel=\"v:starring\">&#38463;&#26041;&#32034;&#183;&#24343;&#37324;&#26364;</a> / <a href=\"/celebrity/1330490/\" rel=\"v:starring\">V&#183;J&#183;&#31119;&#26031;&#29305;</a> / <a href=\"/celebrity/1000635/\" rel=\"v:starring\">&#24343;&#20848;&#20811;&#183;&#26757;&#24503;&#25289;&#35834;</a> / <a href=\"/celebrity/1390797/\" rel=\"v:starring\">&#39532;&#20811;&#183;&#36808;&#23572;&#26031;</a> / <a href=\"/celebrity/1150160/\" rel=\"v:starring\">&#23612;&#23572;&#183;&#33832;&#40664;&#26031;</a> / <a href=\"/celebrity/1048233/\" rel=\"v:starring\">&#32784;&#24503;&#183;&#24052;&#25289;&#31859;</a> / <a href=\"/celebrity/1000721/\" rel=\"v:starring\">&#24067;&#36182;&#24681;&#183;&#25140;&#25289;&#29305;</a> / <a href=\"/celebrity/1333685/\" rel=\"v:starring\">&#21776;&#183;&#40614;&#20811;&#39532;&#32435;&#26031;</a></span></span><br/>\\n        <span class=\"pl\">&#31867;&#22411;:</span> <span property=\"v:genre\">&#21095;&#24773;</span> / <span property=\"v:genre\">&#29359;&#32618;</span><br/>\\n        \\n        <span class=\"pl\">&#21046;&#29255;&#22269;&#23478;/&#22320;&#21306;:</span> &#32654;&#22269;<br/>\\n        <span class=\"pl\">&#35821;&#35328;:</span> &#33521;&#35821;<br/>\\n        <span class=\"pl\">&#19978;&#26144;&#26085;&#26399;:</span> <span property=\"v:initialReleaseDate\" content=\"1994-09-10(&#22810;&#20262;&#22810;&#30005;&#24433;&#33410;)\">1994-09-10(&#22810;&#20262;&#22810;&#30005;&#24433;&#33410;)</span> / <span property=\"v:initialReleaseDate\" content=\"1994-10-14(&#32654;&#22269;)\">1994-10-14(&#32654;&#22269;)</span><br/>\\n        <span class=\"pl\">&#29255;&#38271;:</span> <span property=\"v:runtime\" content=\"142\">142&#20998;&#38047;</span><br/>\\n        <span class=\"pl\">&#21448;&#21517;:</span> &#26376;&#40657;&#39640;&#39134;(&#28207;) / &#21050;&#28608;1995(&#21488;) / &#22320;&#29425;&#35834;&#35328; / &#38081;&#31383;&#23681;&#26376; / &#28040;&#39321;&#20811;&#30340;&#25937;&#36174;<br/>\\n        <span class=\"pl\">IMDb&#38142;&#25509;:</span> <a href=\"http://www.imdb.com/title/tt0111161\" target=\"_blank\" rel=\"nofollow\">tt0111161</a><br/>\\n\\n</div>\\n\\n\\n\\n\\n                </div>\\n                    \\n\\n\\n<div id=\"interest_sectl\">\\n    <div class=\"rating_wrap clearbox\" rel=\"v:rating\">\\n        <div class=\"clearfix\">\\n          <div class=\"rating_logo ll\">&#35910;&#29923;&#35780;&#20998;</div>\\n          <div class=\"output-btn-wrap rr\" style=\"display:none\">\\n            <img src=\"https://img3.doubanio.com/f/movie/692e86756648f29457847c5cc5e161d6f6b8aaac/pics/movie/reference.png\"/>\\n            <a class=\"download-output-image\" href=\"#\">&#24341;&#29992;</a>\\n          </div>\\n          \\n          \\n        </div>\\n        \\n\\n\\n<div class=\"rating_self clearfix\" typeof=\"v:Rating\">\\n    <strong class=\"ll rating_num\" property=\"v:average\">9.6</strong>\\n    <span property=\"v:best\" content=\"10.0\"/>\\n    <div class=\"rating_right \">\\n        <div class=\"ll bigstar bigstar50\"/>\\n        <div class=\"rating_sum\">\\n                <a href=\"collections\" class=\"rating_people\"><span property=\"v:votes\">1209723</span>&#20154;&#35780;&#20215;</a>\\n        </div>\\n    </div>\\n</div>\\n<div class=\"ratings-on-weight\">\\n    \\n        <div class=\"item\">\\n        \\n        <span class=\"stars5 starstop\" title=\"&#21147;&#33616;\">\\n            5&#26143;\\n        </span>\\n        <div class=\"power\" style=\"width:64px\"/>\\n        <span class=\"rating_per\">83.7%</span>\\n        <br/>\\n        </div>\\n        <div class=\"item\">\\n        \\n        <span class=\"stars4 starstop\" title=\"&#25512;&#33616;\">\\n            4&#26143;\\n        </span>\\n        <div class=\"power\" style=\"width:11px\"/>\\n        <span class=\"rating_per\">14.5%</span>\\n        <br/>\\n        </div>\\n        <div class=\"item\">\\n        \\n        <span class=\"stars3 starstop\" title=\"&#36824;&#34892;\">\\n            3&#26143;\\n        </span>\\n        <div class=\"power\" style=\"width:1px\"/>\\n        <span class=\"rating_per\">1.7%</span>\\n        <br/>\\n        </div>\\n        <div class=\"item\">\\n        \\n        <span class=\"stars2 starstop\" title=\"&#36739;&#24046;\">\\n            2&#26143;\\n        </span>\\n        <div class=\"power\" style=\"width:0px\"/>\\n        <span class=\"rating_per\">0.1%</span>\\n        <br/>\\n        </div>\\n        <div class=\"item\">\\n        \\n        <span class=\"stars1 starstop\" title=\"&#24456;&#24046;\">\\n            1&#26143;\\n        </span>\\n        <div class=\"power\" style=\"width:0px\"/>\\n        <span class=\"rating_per\">0.1%</span>\\n        <br/>\\n        </div>\\n</div>\\n\\n    </div>\\n        <div class=\"rating_betterthan\">\\n            &#22909;&#20110; <a href=\"/typerank?type_name=&#21095;&#24773;&amp;type=11&amp;interval_id=100:90&amp;action=\">99% &#21095;&#24773;&#29255;</a><br/>\\n            &#22909;&#20110; <a href=\"/typerank?type_name=&#29359;&#32618;&amp;type=3&amp;interval_id=100:90&amp;action=\">99% &#29359;&#32618;&#29255;</a><br/>\\n        </div>\\n</div>\\n\\n\\n                \\n            </div>\\n                \\n\\n\\n\\n\\n<div id=\"interest_sect_level\" class=\"clearfix\">\\n        \\n            <a href=\"https://www.douban.com/reason=collectwish&amp;ck=\" rel=\"nofollow\" class=\"j a_show_login colbutt ll\" name=\"pbtn-1292052-wish\">\\n                <span>&#24819;&#30475;</span>\\n            </a>\\n            <a href=\"https://www.douban.com/reason=collectcollect&amp;ck=\" rel=\"nofollow\" class=\"j a_show_login colbutt ll\" name=\"pbtn-1292052-collect\">\\n                <span>&#30475;&#36807;</span>\\n            </a>\\n        <div class=\"ll j a_stars\">\\n            \\n    \\n    &#35780;&#20215;:\\n    <span id=\"rating\"> <span id=\"stars\" data-solid=\"https://img3.doubanio.com/f/shire/5a2327c04c0c231bced131ddf3f4467eb80c1c86/pics/rating_icons/star_onmouseover.png\" data-hollow=\"https://img3.doubanio.com/f/shire/2520c01967207a1735171056ec588c8c1257e5f8/pics/rating_icons/star_hollow_hover.png\" data-solid-2x=\"https://img3.doubanio.com/f/shire/7258904022439076d57303c3b06ad195bf1dc41a/pics/rating_icons/star_onmouseover@2x.png\" data-hollow-2x=\"https://img3.doubanio.com/f/shire/95cc2fa733221bb8edd28ad56a7145a5ad33383e/pics/rating_icons/star_hollow_hover@2x.png\">\\n\\n            <a href=\"https://www.douban.com/register?reason=rate\" class=\"j a_show_login\" name=\"pbtn-1292052-1\">\\n        <img src=\"https://img3.doubanio.com/f/shire/2520c01967207a1735171056ec588c8c1257e5f8/pics/rating_icons/star_hollow_hover.png\" id=\"star1\" width=\"16\" height=\"16\"/></a>\\n            <a href=\"https://www.douban.com/register?reason=rate\" class=\"j a_show_login\" name=\"pbtn-1292052-2\">\\n        <img src=\"https://img3.doubanio.com/f/shire/2520c01967207a1735171056ec588c8c1257e5f8/pics/rating_icons/star_hollow_hover.png\" id=\"star2\" width=\"16\" height=\"16\"/></a>\\n            <a href=\"https://www.douban.com/register?reason=rate\" class=\"j a_show_login\" name=\"pbtn-1292052-3\">\\n        <img src=\"https://img3.doubanio.com/f/shire/2520c01967207a1735171056ec588c8c1257e5f8/pics/rating_icons/star_hollow_hover.png\" id=\"star3\" width=\"16\" height=\"16\"/></a>\\n            <a href=\"https://www.douban.com/register?reason=rate\" class=\"j a_show_login\" name=\"pbtn-1292052-4\">\\n        <img src=\"https://img3.doubanio.com/f/shire/2520c01967207a1735171056ec588c8c1257e5f8/pics/rating_icons/star_hollow_hover.png\" id=\"star4\" width=\"16\" height=\"16\"/></a>\\n            <a href=\"https://www.douban.com/register?reason=rate\" class=\"j a_show_login\" name=\"pbtn-1292052-5\">\\n        <img src=\"https://img3.doubanio.com/f/shire/2520c01967207a1735171056ec588c8c1257e5f8/pics/rating_icons/star_hollow_hover.png\" id=\"star5\" width=\"16\" height=\"16\"/></a>\\n    </span><span id=\"rateword\" class=\"pl\"/>\\n    <input id=\"n_rating\" type=\"hidden\" value=\"\"/>\\n    </span>\\n\\n        </div>\\n    \\n\\n</div>\\n\\n\\n            \\n\\n\\n\\n\\n\\n\\n\\n\\n\\n\\n\\n\\n\\n\\n\\n\\n\\n\\n<div class=\"gtleft\">\\n    <ul class=\"ul_subject_menu bicelink color_gray pt6 clearfix\">\\n        \\n    \\n        \\n                <li> \\n    <img src=\"https://img3.doubanio.com/f/shire/cc03d0fcf32b7ce3af7b160a0b85e5e66b47cc42/pics/short-comment.gif\"/>&#160;\\n        <a onclick=\"moreurl(this, {from:\\'mv_sbj_wr_cmnt_login\\'})\" class=\"j a_show_login\" href=\"https://www.douban.com/register?reason=review\" rel=\"nofollow\">&#20889;&#30701;&#35780;</a>\\n </li>\\n                    <li> \\n    \\n    <img src=\"https://img3.doubanio.com/f/shire/5bbf02b7b5ec12b23e214a580b6f9e481108488c/pics/add-review.gif\"/>&#160;\\n        <a onclick=\"moreurl(this, {from:\\'mv_sbj_wr_rv_login\\'})\" class=\"j a_show_login\" href=\"https://www.douban.com/register?reason=review\" rel=\"nofollow\">&#20889;&#24433;&#35780;</a>\\n </li>\\n                    <li> \\n    <img src=\"https://img3.doubanio.com/f/shire/61cc48ba7c40e0272d46bb93fe0dc514f3b71ec5/pics/add-doulist.gif\"/>&#160;\\n    <a href=\"/subject/1292052/questions/ask?from=subject_top\">&#25552;&#38382;&#39064;</a>\\n </li>\\n                <li> \\n    \\n\\n\\n\\n </li>\\n                <li> \\n   \\n\\n   \\n    \\n    <span class=\"rec\" id=\"&#30005;&#24433;-1292052\">\\n    <a href=\"#\" data-type=\"&#30005;&#24433;\" data-url=\"https://movie.douban.com/subject/1292052/\" data-desc=\"&#30005;&#24433;&#12298;&#32918;&#30003;&#20811;&#30340;&#25937;&#36174; The Shawshank Redemption&#12299; (&#26469;&#33258;&#35910;&#29923;) \" data-title=\"&#30005;&#24433;&#12298;&#32918;&#30003;&#20811;&#30340;&#25937;&#36174; The Shawshank Redemption&#12299; (&#26469;&#33258;&#35910;&#29923;) \" data-pic=\"https://img3.doubanio.com/view/photo/s_ratio_poster/public/p480747492.jpeg\" class=\"bn-sharing \">\\n        &#20998;&#20139;&#21040;\\n    </a> &#160;&#160;\\n    </span>\\n\\n    <script>\\n        if (!window.DoubanShareMenuList) {\\n            window.DoubanShareMenuList = [];\\n        }\\n        var __cache_url = __cache_url || {};\\n\\n        (function(u){\\n            if(__cache_url[u]) return;\\n            __cache_url[u] = true;\\n            window.DoubanShareIcons = \\'https://img3.doubanio.com/f/shire/d15ffd71f3f10a7210448fec5a68eaec66e7f7d0/pics/ic_shares.png\\';\\n\\n            var initShareButton = function() {\\n                $.ajax({url:u,dataType:\\'script\\',cache:true});\\n            };\\n\\n            if (typeof Do == \\'function\\' &amp;&amp; \\'ready\\' in Do) {\\n                Do(\\n                    \\'https://img3.doubanio.com/f/shire/8377b9498330a2e6f056d863987cc7a37eb4d486/css/ui/dialog.css\\',\\n                    \\'https://img3.doubanio.com/f/shire/4ea3216519a6183c7bcd4f7d1a6d4fd57ce1a244/js/ui/dialog.js\\',\\n                    \\'https://img3.doubanio.com/f/movie/c4ab132ff4d3d64a83854c875ea79b8b541faf12/js/movie/lib/qrcode.min.js\\',\\n                    initShareButton\\n                );\\n            } else if(typeof Douban == \\'object\\' &amp;&amp; \\'loader\\' in Douban) {\\n                Douban.loader.batch(\\n                    \\'https://img3.doubanio.com/f/shire/8377b9498330a2e6f056d863987cc7a37eb4d486/css/ui/dialog.css\\',\\n                    \\'https://img3.doubanio.com/f/shire/4ea3216519a6183c7bcd4f7d1a6d4fd57ce1a244/js/ui/dialog.js\\',\\n                    \\'https://img3.doubanio.com/f/movie/c4ab132ff4d3d64a83854c875ea79b8b541faf12/js/movie/lib/qrcode.min.js\\'\\n                ).done(initShareButton);\\n            }\\n\\n        })(\\'https://img3.doubanio.com/f/movie/32be6727ed3ad8f6c4a417d8a086355c3e7d1d27/js/movie/lib/sharebutton.js\\');\\n    </script>\\n\\n\\n  </li>\\n            \\n\\n    </ul>\\n\\n    <script type=\"text/javascript\">\\n        $(function(){\\n            $(\".ul_subject_menu li.rec .bn-sharing\").bind(\"click\", function(){\\n                $.get(\"/blank?sbj_page_click=bn_sharing\");\\n            });\\n            $(\".ul_subject_menu .create_from_menu\").bind(\"click\", function(e){\\n                e.preventDefault();\\n                var $el = $(this);\\n                var glRoot = document.getElementById(\\'gallery-topics-selection\\');\\n                if (window.has_gallery_topics &amp;&amp; glRoot) {\\n                    // &#21028;&#26029;&#26159;&#21542;&#26377;&#35805;&#39064;\\n                    glRoot.style.display = \\'block\\';\\n                } else {\\n                    location.href = $el.attr(\\'href\\');\\n                }\\n            });\\n        });\\n    </script>\\n</div>\\n\\n\\n\\n\\n                \\n\\n\\n\\n\\n\\n<div class=\"rec-sec\">\\n<span class=\"rec\">\\n    <script id=\"movie-share\" type=\"text/x-html-snippet\">\\n        \\n    &lt;form class=\"movie-share\" action=\"/j/share\" method=\"POST\"&gt;\\n        &lt;div class=\"clearfix form-bd\"&gt;\\n            &lt;div class=\"input-area\"&gt;\\n                &lt;textarea name=\"text\" class=\"share-text\" cols=\"72\" data-mention-api=\"https://api.douban.com/shuo/in/complete?alt=xd&amp;amp;callback=?\"&gt;&lt;/textarea&gt;\\n                &lt;input type=\"hidden\" name=\"target-id\" value=\"1292052\"&gt;\\n                &lt;input type=\"hidden\" name=\"target-type\" value=\"0\"&gt;\\n                &lt;input type=\"hidden\" name=\"title\" value=\"&#32918;&#30003;&#20811;&#30340;&#25937;&#36174; The Shawshank Redemption&#8206; (1994)\"&gt;\\n                &lt;input type=\"hidden\" name=\"desc\" value=\"&#23548;&#28436; &#24343;&#20848;&#20811;&#183;&#24503;&#25289;&#37030;&#29305; &#20027;&#28436; &#33922;&#22982;&#183;&#32599;&#23486;&#26031; / &#25705;&#26681;&#183;&#24343;&#37324;&#26364; / &#32654;&#22269; / 9.6&#20998;(1209723&#35780;&#20215;)\"&gt;\\n                &lt;input type=\"hidden\" name=\"redir\" value=\"\"/&gt;\\n                &lt;div class=\"mentioned-highlighter\"&gt;&lt;/div&gt;\\n            &lt;/div&gt;\\n\\n            &lt;div class=\"info-area\"&gt;\\n                    &lt;img class=\"media\" src=\"https://img3.doubanio.com/view/photo/s_ratio_poster/public/p480747492.jpg\" /&gt;\\n                &lt;strong&gt;&#32918;&#30003;&#20811;&#30340;&#25937;&#36174; The Shawshank Redemption&#8206; (1994)&lt;/strong&gt;\\n                &lt;p&gt;&#23548;&#28436; &#24343;&#20848;&#20811;&#183;&#24503;&#25289;&#37030;&#29305; &#20027;&#28436; &#33922;&#22982;&#183;&#32599;&#23486;&#26031; / &#25705;&#26681;&#183;&#24343;&#37324;&#26364; / &#32654;&#22269; / 9.6&#20998;(1209723&#35780;&#20215;)&lt;/p&gt;\\n                &lt;p class=\"error server-error\"&gt;&amp;nbsp;&lt;/p&gt;\\n            &lt;/div&gt;\\n        &lt;/div&gt;\\n        &lt;div class=\"form-ft\"&gt;\\n            &lt;div class=\"form-ft-inner\"&gt;\\n                \\n\\n\\n\\n                &lt;span class=\"avail-num-indicator\"&gt;140&lt;/span&gt;\\n                &lt;span class=\"bn-flat\"&gt;\\n                    &lt;input type=\"submit\" value=\"&#25512;&#33616;\" /&gt;\\n                &lt;/span&gt;\\n            &lt;/div&gt;\\n        &lt;/div&gt;\\n    &lt;/form&gt;\\n    \\n    &lt;div id=\"suggest-mention-tmpl\" style=\"display:none;\"&gt;\\n        &lt;ul&gt;\\n            {{#users}}\\n            &lt;li id=\"{{uid}}\"&gt;\\n              &lt;img src=\"{{avatar}}\"&gt;{{{username}}}&amp;nbsp;&lt;span&gt;({{{uid}}})&lt;/span&gt;\\n            &lt;/li&gt;\\n            {{/users}}\\n        &lt;/ul&gt;\\n    &lt;/div&gt;\\n\\n\\n    </script>\\n\\n        \\n        <a href=\"/accounts/register?reason=recommend\" class=\"j a_show_login lnk-sharing\" share-id=\"1292052\" data-mode=\"plain\" data-name=\"&#32918;&#30003;&#20811;&#30340;&#25937;&#36174; The Shawshank Redemption&#8206; (1994)\" data-type=\"movie\" data-desc=\"&#23548;&#28436; &#24343;&#20848;&#20811;&#183;&#24503;&#25289;&#37030;&#29305; &#20027;&#28436; &#33922;&#22982;&#183;&#32599;&#23486;&#26031; / &#25705;&#26681;&#183;&#24343;&#37324;&#26364; / &#32654;&#22269; / 9.6&#20998;(1209723&#35780;&#20215;)\" data-href=\"https://movie.douban.com/subject/1292052/\" data-image=\"https://img3.doubanio.com/view/photo/s_ratio_poster/public/p480747492.jpg\" data-properties=\"{}\" data-redir=\"\" data-text=\"\" data-apikey=\"\" data-curl=\"\" data-count=\"10\" data-object_kind=\"1002\" data-object_id=\"1292052\" data-target_type=\"rec\" data-target_action=\"0\" data-action_props=\"{&quot;subject_url&quot;:&quot;https:\\\\/\\\\/movie.douban.com\\\\/subject\\\\/1292052\\\\/&quot;,&quot;subject_title&quot;:&quot;&#32918;&#30003;&#20811;&#30340;&#25937;&#36174; The Shawshank Redemption&#8206; (1994)&quot;}\">&#25512;&#33616;</a>\\n</span>\\n\\n\\n</div>\\n\\n\\n\\n\\n\\n\\n            <script type=\"text/javascript\">\\n                $(function() {\\n                    $(\\'.collect_btn\\', \\'#interest_sect_level\\').each(function() {\\n                        Douban.init_collect_btn(this);\\n                    });\\n                    $(\\'html\\').delegate(\".indent .rec-sec .lnk-sharing\", \"click\", function() {\\n                        moreurl(this, {\\n                            from : \\'mv_sbj_db_share\\'\\n                        });\\n                    });\\n                });\\n            </script>\\n        </div>\\n            \\n\\n\\n    <div id=\"collect_form_1292052\"/>\\n\\n\\n        \\n\\n\\n\\n<div class=\"related-info\" style=\"margin-bottom:-10px;\">\\n    <a name=\"intro\"/>\\n    \\n        \\n            \\n            \\n    <h2>\\n        <i class=\"\">&#32918;&#30003;&#20811;&#30340;&#25937;&#36174;&#30340;&#21095;&#24773;&#31616;&#20171;</i>\\n              &#183; &#183; &#183; &#183; &#183; &#183;\\n    </h2>\\n\\n            <div class=\"indent\" id=\"link-report\">\\n                    \\n                        <span class=\"short\">\\n                            <span property=\"v:summary\">\\n                                    &#12288;&#12288;20&#19990;&#32426;40&#24180;&#20195;&#26411;&#65292;&#23567;&#26377;&#25104;&#23601;&#30340;&#38738;&#24180;&#38134;&#34892;&#23478;&#23433;&#36842;&#65288;&#33922;&#22982;&#183;&#32599;&#23486;&#26031; Tim Robbins &#39280;&#65289;&#22240;&#28041;&#23244;&#26432;&#23475;&#22971;&#23376;&#21450;&#22905;&#30340;&#24773;&#20154;&#32780;&#38162;&#38107;&#20837;&#29425;&#12290;&#22312;&#36825;&#24231;&#21517;&#20026;&#32918;&#30003;&#20811;&#30340;&#30417;&#29425;&#20869;&#65292;&#24076;&#26395;&#20284;&#20046;&#34394;&#26080;&#32549;&#32520;&#65292;&#32456;&#36523;&#30417;&#31105;&#30340;&#24809;&#32602;&#26080;&#30097;&#27880;&#23450;&#20102;&#23433;&#36842;&#25509;&#19979;&#26469;&#28784;&#26263;&#32477;&#26395;&#30340;&#20154;&#29983;&#12290;&#26410;&#36807;&#22810;&#20037;&#65292;&#23433;&#36842;&#23581;&#35797;&#25509;&#36817;&#22234;&#29359;&#20013;&#39047;&#26377;&#22768;&#26395;&#30340;&#29790;&#24503;&#65288;&#25705;&#26681;&#183;&#24343;&#37324;&#26364; Morgan Freeman &#39280;&#65289;&#65292;&#35831;&#27714;&#23545;&#26041;&#24110;&#33258;&#24049;&#25630;&#26469;&#23567;&#38180;&#23376;&#12290;&#20197;&#27492;&#20026;&#22865;&#26426;&#65292;&#20108;&#20154;&#36880;&#28176;&#29087;&#31252;&#65292;&#23433;&#36842;&#20063;&#20223;&#20315;&#22312;&#40060;&#40857;&#28151;&#26434;&#12289;&#32618;&#24694;&#27178;&#29983;&#12289;&#40657;&#30333;&#28151;&#28102;&#30340;&#29282;&#29425;&#20013;&#25214;&#21040;&#23646;&#20110;&#33258;&#24049;&#30340;&#27714;&#29983;&#20043;&#36947;&#12290;&#20182;&#21033;&#29992;&#33258;&#36523;&#30340;&#19987;&#19994;&#30693;&#35782;&#65292;&#24110;&#21161;&#30417;&#29425;&#31649;&#29702;&#23618;&#36867;&#31246;&#12289;&#27927;&#40657;&#38065;&#65292;&#21516;&#26102;&#20973;&#20511;&#19982;&#29790;&#24503;&#30340;&#20132;&#24448;&#22312;&#29359;&#20154;&#20013;&#38388;&#20063;&#28176;&#28176;&#21463;&#21040;&#31036;&#36935;&#12290;&#34920;&#38754;&#30475;&#26469;&#65292;&#20182;&#24050;&#22914;&#29790;&#24503;&#37027;&#26679;&#23545;&#37027;&#22581;&#39640;&#22681;&#20174;&#24974;&#24680;&#36716;&#21464;&#20026;&#22788;&#20043;&#27888;&#28982;&#65292;&#20294;&#26159;&#23545;&#33258;&#30001;&#30340;&#28212;&#26395;&#20173;&#20419;&#20351;&#20182;&#26397;&#30528;&#24515;&#20013;&#30340;&#24076;&#26395;&#21644;&#30446;&#26631;&#21069;&#36827;&#12290;&#32780;&#20851;&#20110;&#20854;&#32618;&#34892;&#30340;&#30495;&#30456;&#65292;&#20284;&#20046;&#26356;&#20351;&#36825;&#19968;&#20999;&#26397;&#21069;&#25512;&#36827;&#20102;&#19968;&#27493;&#8230;&#8230;\\n                                        <br/>\\n                                    &#12288;&#12288;&#26412;&#29255;&#26681;&#25454;&#33879;&#21517;&#20316;&#23478;&#26031;&#33922;&#33452;&#183;&#37329;&#65288;Stephen Edwin King&#65289;&#30340;...\\n                            </span>\\n                            <a href=\"javascript:void(0)\" class=\"j a_show_full\">(&#23637;&#24320;&#20840;&#37096;)</a>\\n                        </span>\\n                        <span class=\"all hidden\">\\n                                &#12288;&#12288;20&#19990;&#32426;40&#24180;&#20195;&#26411;&#65292;&#23567;&#26377;&#25104;&#23601;&#30340;&#38738;&#24180;&#38134;&#34892;&#23478;&#23433;&#36842;&#65288;&#33922;&#22982;&#183;&#32599;&#23486;&#26031; Tim Robbins &#39280;&#65289;&#22240;&#28041;&#23244;&#26432;&#23475;&#22971;&#23376;&#21450;&#22905;&#30340;&#24773;&#20154;&#32780;&#38162;&#38107;&#20837;&#29425;&#12290;&#22312;&#36825;&#24231;&#21517;&#20026;&#32918;&#30003;&#20811;&#30340;&#30417;&#29425;&#20869;&#65292;&#24076;&#26395;&#20284;&#20046;&#34394;&#26080;&#32549;&#32520;&#65292;&#32456;&#36523;&#30417;&#31105;&#30340;&#24809;&#32602;&#26080;&#30097;&#27880;&#23450;&#20102;&#23433;&#36842;&#25509;&#19979;&#26469;&#28784;&#26263;&#32477;&#26395;&#30340;&#20154;&#29983;&#12290;&#26410;&#36807;&#22810;&#20037;&#65292;&#23433;&#36842;&#23581;&#35797;&#25509;&#36817;&#22234;&#29359;&#20013;&#39047;&#26377;&#22768;&#26395;&#30340;&#29790;&#24503;&#65288;&#25705;&#26681;&#183;&#24343;&#37324;&#26364; Morgan Freeman &#39280;&#65289;&#65292;&#35831;&#27714;&#23545;&#26041;&#24110;&#33258;&#24049;&#25630;&#26469;&#23567;&#38180;&#23376;&#12290;&#20197;&#27492;&#20026;&#22865;&#26426;&#65292;&#20108;&#20154;&#36880;&#28176;&#29087;&#31252;&#65292;&#23433;&#36842;&#20063;&#20223;&#20315;&#22312;&#40060;&#40857;&#28151;&#26434;&#12289;&#32618;&#24694;&#27178;&#29983;&#12289;&#40657;&#30333;&#28151;&#28102;&#30340;&#29282;&#29425;&#20013;&#25214;&#21040;&#23646;&#20110;&#33258;&#24049;&#30340;&#27714;&#29983;&#20043;&#36947;&#12290;&#20182;&#21033;&#29992;&#33258;&#36523;&#30340;&#19987;&#19994;&#30693;&#35782;&#65292;&#24110;&#21161;&#30417;&#29425;&#31649;&#29702;&#23618;&#36867;&#31246;&#12289;&#27927;&#40657;&#38065;&#65292;&#21516;&#26102;&#20973;&#20511;&#19982;&#29790;&#24503;&#30340;&#20132;&#24448;&#22312;&#29359;&#20154;&#20013;&#38388;&#20063;&#28176;&#28176;&#21463;&#21040;&#31036;&#36935;&#12290;&#34920;&#38754;&#30475;&#26469;&#65292;&#20182;&#24050;&#22914;&#29790;&#24503;&#37027;&#26679;&#23545;&#37027;&#22581;&#39640;&#22681;&#20174;&#24974;&#24680;&#36716;&#21464;&#20026;&#22788;&#20043;&#27888;&#28982;&#65292;&#20294;&#26159;&#23545;&#33258;&#30001;&#30340;&#28212;&#26395;&#20173;&#20419;&#20351;&#20182;&#26397;&#30528;&#24515;&#20013;&#30340;&#24076;&#26395;&#21644;&#30446;&#26631;&#21069;&#36827;&#12290;&#32780;&#20851;&#20110;&#20854;&#32618;&#34892;&#30340;&#30495;&#30456;&#65292;&#20284;&#20046;&#26356;&#20351;&#36825;&#19968;&#20999;&#26397;&#21069;&#25512;&#36827;&#20102;&#19968;&#27493;&#8230;&#8230;\\n                                    <br/>\\n                                &#12288;&#12288;&#26412;&#29255;&#26681;&#25454;&#33879;&#21517;&#20316;&#23478;&#26031;&#33922;&#33452;&#183;&#37329;&#65288;Stephen Edwin King&#65289;&#30340;&#21407;&#33879;&#25913;&#32534;&#12290;\\n                        </span>\\n                        <span class=\"pl\"><a href=\"https://movie.douban.com/help/movie#t0-qs\">&#169;&#35910;&#29923;</a></span>\\n            </div>\\n</div>\\n\\n\\n    \\n\\n\\n\\n\\n\\n\\n\\n\\n<div id=\"celebrities\" class=\"celebrities related-celebrities\">\\n\\n  \\n    <h2>\\n        <i class=\"\">&#32918;&#30003;&#20811;&#30340;&#25937;&#36174;&#30340;&#28436;&#32844;&#21592;</i>\\n              &#183; &#183; &#183; &#183; &#183; &#183;\\n            <span class=\"pl\">\\n            (\\n                <a href=\"/subject/1292052/celebrities\">&#20840;&#37096; 35</a>\\n            )\\n            </span>\\n    </h2>\\n\\n\\n  <ul class=\"celebrities-list from-subject __oneline\">\\n        \\n    \\n\\n    \\n  \\n  <li class=\"celebrity\">\\n    \\n\\n  <a href=\"https://movie.douban.com/celebrity/1047973/\" title=\"&#24343;&#20848;&#20811;&#183;&#24503;&#25289;&#37030;&#29305; Frank Darabont\" class=\"\">\\n      <div class=\"avatar\" style=\"background-image: url(https://img3.doubanio.com/view/celebrity/s_ratio_celebrity/public/p230.jpg)\">\\n    </div>\\n  </a>\\n\\n    <div class=\"info\">\\n      <span class=\"name\"><a href=\"https://movie.douban.com/celebrity/1047973/\" title=\"&#24343;&#20848;&#20811;&#183;&#24503;&#25289;&#37030;&#29305; Frank Darabont\" class=\"name\">&#24343;&#20848;&#20811;&#183;&#24503;&#25289;&#37030;&#29305;</a></span>\\n\\n      <span class=\"role\" title=\"&#23548;&#28436;\">&#23548;&#28436;</span>\\n\\n    </div>\\n  </li>\\n\\n\\n        \\n    \\n\\n    \\n  \\n  <li class=\"celebrity\">\\n    \\n\\n  <a href=\"https://movie.douban.com/celebrity/1054521/\" title=\"&#33922;&#22982;&#183;&#32599;&#23486;&#26031; Tim Robbins\" class=\"\">\\n      <div class=\"avatar\" style=\"background-image: url(https://img3.doubanio.com/view/celebrity/s_ratio_celebrity/public/p17525.jpg)\">\\n    </div>\\n  </a>\\n\\n    <div class=\"info\">\\n      <span class=\"name\"><a href=\"https://movie.douban.com/celebrity/1054521/\" title=\"&#33922;&#22982;&#183;&#32599;&#23486;&#26031; Tim Robbins\" class=\"name\">&#33922;&#22982;&#183;&#32599;&#23486;&#26031;</a></span>\\n\\n      <span class=\"role\" title=\"&#39280; &#23433;&#36842;&#183;&#26460;&#20315;&#20848; Andy Dufresne\">&#39280; &#23433;&#36842;&#183;&#26460;&#20315;&#20848; Andy Dufresne</span>\\n\\n    </div>\\n  </li>\\n\\n\\n        \\n    \\n\\n    \\n  \\n  <li class=\"celebrity\">\\n    \\n\\n  <a href=\"https://movie.douban.com/celebrity/1054534/\" title=\"&#25705;&#26681;&#183;&#24343;&#37324;&#26364; Morgan Freeman\" class=\"\">\\n      <div class=\"avatar\" style=\"background-image: url(https://img3.doubanio.com/view/celebrity/s_ratio_celebrity/public/p34642.jpg)\">\\n    </div>\\n  </a>\\n\\n    <div class=\"info\">\\n      <span class=\"name\"><a href=\"https://movie.douban.com/celebrity/1054534/\" title=\"&#25705;&#26681;&#183;&#24343;&#37324;&#26364; Morgan Freeman\" class=\"name\">&#25705;&#26681;&#183;&#24343;&#37324;&#26364;</a></span>\\n\\n      <span class=\"role\" title=\"&#39280; &#33406;&#21033;&#26031;&#183;&#27874;&#20234;&#24503;&#183;&#8220;&#29790;&#24503;&#8221;&#183;&#29790;&#19969; Ellis Boyd \\'Red\\' Redding\">&#39280; &#33406;&#21033;&#26031;&#183;&#27874;&#20234;&#24503;&#183;&#8220;&#29790;&#24503;&#8221;&#183;&#29790;&#19969; Ellis Boyd \\'Red\\' Redding</span>\\n\\n    </div>\\n  </li>\\n\\n\\n        \\n    \\n\\n    \\n  \\n  <li class=\"celebrity\">\\n    \\n\\n  <a href=\"https://movie.douban.com/celebrity/1041179/\" title=\"&#40077;&#21187;&#183;&#20872;&#39039; Bob Gunton\" class=\"\">\\n      <div class=\"avatar\" style=\"background-image: url(https://img1.doubanio.com/view/celebrity/s_ratio_celebrity/public/p5837.jpg)\">\\n    </div>\\n  </a>\\n\\n    <div class=\"info\">\\n      <span class=\"name\"><a href=\"https://movie.douban.com/celebrity/1041179/\" title=\"&#40077;&#21187;&#183;&#20872;&#39039; Bob Gunton\" class=\"name\">&#40077;&#21187;&#183;&#20872;&#39039;</a></span>\\n\\n      <span class=\"role\" title=\"&#39280; &#30417;&#29425;&#38271;&#23665;&#22982;&#183;&#35834;&#39039; Warden Norton\">&#39280; &#30417;&#29425;&#38271;&#23665;&#22982;&#183;&#35834;&#39039; Warden Norton</span>\\n\\n    </div>\\n  </li>\\n\\n\\n        \\n    \\n\\n    \\n  \\n  <li class=\"celebrity\">\\n    \\n\\n  <a href=\"https://movie.douban.com/celebrity/1000095/\" title=\"&#23041;&#24265;&#22982;&#183;&#36187;&#24503;&#21202; William Sadler\" class=\"\">\\n      <div class=\"avatar\" style=\"background-image: url(https://img1.doubanio.com/view/celebrity/s_ratio_celebrity/public/p7827.jpg)\">\\n    </div>\\n  </a>\\n\\n    <div class=\"info\">\\n      <span class=\"name\"><a href=\"https://movie.douban.com/celebrity/1000095/\" title=\"&#23041;&#24265;&#22982;&#183;&#36187;&#24503;&#21202; William Sadler\" class=\"name\">&#23041;&#24265;&#22982;&#183;&#36187;&#24503;&#21202;</a></span>\\n\\n      <span class=\"role\" title=\"&#39280; &#28023;&#20237;&#24503; Heywood\">&#39280; &#28023;&#20237;&#24503; Heywood</span>\\n\\n    </div>\\n  </li>\\n\\n\\n        \\n    \\n\\n    \\n  \\n  <li class=\"celebrity\">\\n    \\n\\n  <a href=\"https://movie.douban.com/celebrity/1013817/\" title=\"&#20811;&#20848;&#35199;&#183;&#24067;&#26391; Clancy Brown\" class=\"\">\\n      <div class=\"avatar\" style=\"background-image: url(https://img3.doubanio.com/view/celebrity/s_ratio_celebrity/public/p11475.jpg)\">\\n    </div>\\n  </a>\\n\\n    <div class=\"info\">\\n      <span class=\"name\"><a href=\"https://movie.douban.com/celebrity/1013817/\" title=\"&#20811;&#20848;&#35199;&#183;&#24067;&#26391; Clancy Brown\" class=\"name\">&#20811;&#20848;&#35199;&#183;&#24067;&#26391;</a></span>\\n\\n      <span class=\"role\" title=\"&#39280; &#19978;&#23561;&#21704;&#24503;&#21033; Captain Hadley\">&#39280; &#19978;&#23561;&#21704;&#24503;&#21033; Captain Hadley</span>\\n\\n    </div>\\n  </li>\\n\\n\\n  </ul>\\n</div>\\n\\n\\n    \\n\\n\\n<link rel=\"stylesheet\" href=\"https://img3.doubanio.com/f/verify/16c7e943aee3b1dc6d65f600fcc0f6d62db7dfb4/entry_creator/dist/author_subject/style.css\"/>\\n<div id=\"author_subject\" class=\"author-wrapper\">\\n    <div class=\"loading\"/>\\n</div>\\n<script type=\"text/javascript\">\\n    var answerObj = {\\n      ISALL: \\'False\\',\\n      TYPE: \\'movie\\',\\n      SUBJECT_ID: \\'1292052\\',\\n      USER_ID: \\'None\\'\\n    }\\n</script>\\n<script type=\"text/javascript\" src=\"https://img3.doubanio.com/f/movie/61252f2f9b35f08b37f69d17dfe48310dd295347/js/movie/lib/react/15.4/bundle.js\"/>\\n<script type=\"text/javascript\" src=\"https://img3.doubanio.com/f/verify/ac140ef86262b845d2be7b859e352d8196f3f6d4/entry_creator/dist/author_subject/index.js\"/>\\n\\n\\n    \\n\\n\\n\\n\\n\\n\\n\\n\\n\\n    \\n    <div id=\"related-pic\" class=\"related-pic\">\\n        \\n    \\n    \\n    <h2>\\n        <i class=\"\">&#32918;&#30003;&#20811;&#30340;&#25937;&#36174;&#30340;&#35270;&#39057;&#21644;&#22270;&#29255;</i>\\n              &#183; &#183; &#183; &#183; &#183; &#183;\\n            <span class=\"pl\">\\n            (\\n                <a href=\"https://movie.douban.com/subject/1292052/trailer#trailer\">&#39044;&#21578;&#29255;1</a>&#160;|&#160;<a href=\"https://movie.douban.com/subject/1292052/trailer#short_video\">&#35270;&#39057;&#35780;&#35770;2</a>&#160;&#183;&#160;<a href=\"/video/create?subject_id=1292052\">&#28155;&#21152;</a>&#160;|&#160;<a href=\"https://movie.douban.com/subject/1292052/all_photos\">&#22270;&#29255;632</a>&#160;&#183;&#160;<a href=\"https://movie.douban.com/subject/1292052/mupload\">&#28155;&#21152;</a>\\n            )\\n            </span>\\n    </h2>\\n\\n\\n        <ul class=\"related-pic-bd  wide_videos\">\\n                <li class=\"label-trailer\">\\n                    <a class=\"related-pic-video\" href=\"https://movie.douban.com/trailer/108756/#content\" title=\"&#39044;&#21578;&#29255;\" style=\"background-image:url(https://img3.doubanio.com/img/trailer/medium/1433841022.jpg?)\">\\n                    </a>\\n                </li>\\n                \\n                <li class=\"label-short-video\">\\n                    <a class=\"related-pic-video\" href=\"https://movie.douban.com/video/100235/\" title=\"&#35270;&#39057;&#35780;&#35770;\" style=\"background-image:url(https://img3.doubanio.com/view/photo/photo/public/p2524242880.jpg?)\">\\n                    </a>\\n                </li>\\n                <li>\\n                    <a href=\"https://movie.douban.com/photos/photo/490571815/\"><img src=\"https://img3.doubanio.com/view/photo/sqxs/public/p490571815.jpg\" alt=\"&#22270;&#29255;\"/></a>\\n                </li>\\n                <li>\\n                    <a href=\"https://movie.douban.com/photos/photo/2309770674/\"><img src=\"https://img3.doubanio.com/view/photo/sqxs/public/p2309770674.jpg\" alt=\"&#22270;&#29255;\"/></a>\\n                </li>\\n        </ul>\\n    </div>\\n\\n\\n\\n    \\n    \\n\\n\\n\\n<style type=\"text/css\">\\n.award li { display: inline; margin-right: 5px }\\n.awards { margin-bottom: 20px }\\n.awards h2 { background: none; color: #000; font-size: 14px; padding-bottom: 5px; margin-bottom: 8px; border-bottom: 1px dashed #dddddd }\\n.awards .year { color: #666666; margin-left: -5px }\\n.mod { margin-bottom: 25px }\\n.mod .hd { margin-bottom: 10px }\\n.mod .hd h2 {margin:24px 0 3px 0}\\n</style>\\n\\n\\n<div class=\"mod\">\\n    <div class=\"hd\">\\n        \\n    <h2>\\n        <i class=\"\">&#32918;&#30003;&#20811;&#30340;&#25937;&#36174;&#30340;&#33719;&#22870;&#24773;&#20917;</i>\\n              &#183; &#183; &#183; &#183; &#183; &#183;\\n            <span class=\"pl\">\\n            (\\n                <a href=\"https://movie.douban.com/subject/1292052/awards/\">&#20840;&#37096;</a>\\n            )\\n            </span>\\n    </h2>\\n\\n    </div>\\n        \\n        <ul class=\"award\">\\n            <li>\\n                <a href=\"https://movie.douban.com/awards/Oscar/67/\">&#31532;67&#23626;&#22885;&#26031;&#21345;&#37329;&#20687;&#22870;</a>\\n            </li>\\n            <li>&#26368;&#20339;&#24433;&#29255;(&#25552;&#21517;)</li>\\n            <li><a href=\"https://movie.douban.com/celebrity/1291197/\" target=\"_blank\">&#22958;&#22522;&#183;&#39532;&#25991;</a></li>\\n        </ul>\\n        \\n        <ul class=\"award\">\\n            <li>\\n                <a href=\"https://movie.douban.com/awards/jap/19/\">&#31532;19&#23626;&#26085;&#26412;&#30005;&#24433;&#23398;&#38498;&#22870;</a>\\n            </li>\\n            <li>&#26368;&#20339;&#22806;&#35821;&#29255;</li>\\n            <li/>\\n        </ul>\\n        \\n        <ul class=\"award\">\\n            <li>\\n                <a href=\"https://movie.douban.com/awards/hochi/20/\">&#31532;20&#23626;&#25253;&#30693;&#26144;&#30011;&#36175;</a>\\n            </li>\\n            <li>&#28023;&#22806;&#20316;&#21697;&#22870;</li>\\n            <li><a href=\"https://movie.douban.com/celebrity/1047973/\" target=\"_blank\">&#24343;&#20848;&#20811;&#183;&#24503;&#25289;&#37030;&#29305;</a></li>\\n        </ul>\\n</div>\\n\\n    \\n\\n\\n\\n\\n\\n\\n\\n\\n    <div id=\"recommendations\" class=\"\">\\n        \\n        \\n    <h2>\\n        <i class=\"\">&#21916;&#27426;&#36825;&#37096;&#30005;&#24433;&#30340;&#20154;&#20063;&#21916;&#27426;</i>\\n              &#183; &#183; &#183; &#183; &#183; &#183;\\n    </h2>\\n\\n        \\n    \\n    <div class=\"recommendations-bd\">\\n        <dl class=\"\">\\n            <dt>\\n                <a href=\"https://movie.douban.com/subject/1292720/?from=subject-page\">\\n                    <img src=\"https://img1.doubanio.com/view/photo/s_ratio_poster/public/p510876377.jpg\" alt=\"&#38463;&#29976;&#27491;&#20256;\" class=\"\"/>\\n                </a>\\n            </dt>\\n            <dd>\\n                <a href=\"https://movie.douban.com/subject/1292720/?from=subject-page\" class=\"\">&#38463;&#29976;&#27491;&#20256;</a>\\n            </dd>\\n        </dl>\\n        <dl class=\"\">\\n            <dt>\\n                <a href=\"https://movie.douban.com/subject/1849031/?from=subject-page\">\\n                    <img src=\"https://img3.doubanio.com/view/photo/s_ratio_poster/public/p1312700744.jpg\" alt=\"&#24403;&#24184;&#31119;&#26469;&#25970;&#38376;\" class=\"\"/>\\n                </a>\\n            </dt>\\n            <dd>\\n                <a href=\"https://movie.douban.com/subject/1849031/?from=subject-page\" class=\"\">&#24403;&#24184;&#31119;&#26469;&#25970;&#38376;</a>\\n            </dd>\\n        </dl>\\n        <dl class=\"\">\\n            <dt>\\n                <a href=\"https://movie.douban.com/subject/1292064/?from=subject-page\">\\n                    <img src=\"https://img3.doubanio.com/view/photo/s_ratio_poster/public/p479682972.jpg\" alt=\"&#26970;&#38376;&#30340;&#19990;&#30028;\" class=\"\"/>\\n                </a>\\n            </dt>\\n            <dd>\\n                <a href=\"https://movie.douban.com/subject/1292064/?from=subject-page\" class=\"\">&#26970;&#38376;&#30340;&#19990;&#30028;</a>\\n            </dd>\\n        </dl>\\n        <dl class=\"\">\\n            <dt>\\n                <a href=\"https://movie.douban.com/subject/1292224/?from=subject-page\">\\n                    <img src=\"https://img1.doubanio.com/view/photo/s_ratio_poster/public/p792238287.jpg\" alt=\"&#39134;&#36234;&#30127;&#20154;&#38498;\" class=\"\"/>\\n                </a>\\n            </dt>\\n            <dd>\\n                <a href=\"https://movie.douban.com/subject/1292224/?from=subject-page\" class=\"\">&#39134;&#36234;&#30127;&#20154;&#38498;</a>\\n            </dd>\\n        </dl>\\n        <dl class=\"\">\\n            <dt>\\n                <a href=\"https://movie.douban.com/subject/2209573/?from=subject-page\">\\n                    <img src=\"https://img3.doubanio.com/view/photo/s_ratio_poster/public/p2434249040.jpg\" alt=\"&#36139;&#27665;&#31391;&#30340;&#30334;&#19975;&#23500;&#32705;\" class=\"\"/>\\n                </a>\\n            </dt>\\n            <dd>\\n                <a href=\"https://movie.douban.com/subject/2209573/?from=subject-page\" class=\"\">&#36139;&#27665;&#31391;&#30340;&#30334;&#19975;&#23500;&#32705;</a>\\n            </dd>\\n        </dl>\\n        <dl class=\"\">\\n            <dt>\\n                <a href=\"https://movie.douban.com/subject/3793023/?from=subject-page\">\\n                    <img src=\"https://img3.doubanio.com/view/photo/s_ratio_poster/public/p579729551.jpg\" alt=\"&#19977;&#20667;&#22823;&#38393;&#23453;&#33713;&#22366;\" class=\"\"/>\\n                </a>\\n            </dt>\\n            <dd>\\n                <a href=\"https://movie.douban.com/subject/3793023/?from=subject-page\" class=\"\">&#19977;&#20667;&#22823;&#38393;&#23453;&#33713;&#22366;</a>\\n            </dd>\\n        </dl>\\n        <dl class=\"\">\\n            <dt>\\n                <a href=\"https://movie.douban.com/subject/1292656/?from=subject-page\">\\n                    <img src=\"https://img3.doubanio.com/view/photo/s_ratio_poster/public/p480965695.jpg\" alt=\"&#24515;&#28789;&#25429;&#25163;\" class=\"\"/>\\n                </a>\\n            </dt>\\n            <dd>\\n                <a href=\"https://movie.douban.com/subject/1292656/?from=subject-page\" class=\"\">&#24515;&#28789;&#25429;&#25163;</a>\\n            </dd>\\n        </dl>\\n        <dl class=\"\">\\n            <dt>\\n                <a href=\"https://movie.douban.com/subject/1292365/?from=subject-page\">\\n                    <img src=\"https://img3.doubanio.com/view/photo/s_ratio_poster/public/p2513253791.jpg\" alt=\"&#27963;&#30528;\" class=\"\"/>\\n                </a>\\n            </dt>\\n            <dd>\\n                <a href=\"https://movie.douban.com/subject/1292365/?from=subject-page\" class=\"\">&#27963;&#30528;</a>\\n            </dd>\\n        </dl>\\n        <dl class=\"\">\\n            <dt>\\n                <a href=\"https://movie.douban.com/subject/1298653/?from=subject-page\">\\n                    <img src=\"https://img3.doubanio.com/view/photo/s_ratio_poster/public/p2207673534.jpg\" alt=\"&#33618;&#23707;&#20313;&#29983;\" class=\"\"/>\\n                </a>\\n            </dt>\\n            <dd>\\n                <a href=\"https://movie.douban.com/subject/1298653/?from=subject-page\" class=\"\">&#33618;&#23707;&#20313;&#29983;</a>\\n            </dd>\\n        </dl>\\n        <dl class=\"\">\\n            <dt>\\n                <a href=\"https://movie.douban.com/subject/1298624/?from=subject-page\">\\n                    <img src=\"https://img1.doubanio.com/view/photo/s_ratio_poster/public/p925123037.jpg\" alt=\"&#38395;&#39321;&#35782;&#22899;&#20154;\" class=\"\"/>\\n                </a>\\n            </dt>\\n            <dd>\\n                <a href=\"https://movie.douban.com/subject/1298624/?from=subject-page\" class=\"\">&#38395;&#39321;&#35782;&#22899;&#20154;</a>\\n            </dd>\\n        </dl>\\n    </div>\\n\\n    </div>\\n\\n\\n\\n        \\n\\n\\n<script type=\"text/x-handlebar-tmpl\" id=\"comment-tmpl\">\\n    &lt;div class=\"dummy-fold\"&gt;\\n        {{#each comments}}\\n        &lt;div class=\"comment-item\" data-cid=\"id\"&gt;\\n            &lt;div class=\"comment\"&gt;\\n                &lt;h3&gt;\\n                    &lt;span class=\"comment-vote\"&gt;\\n                            &lt;span class=\"votes\"&gt;{{votes}}&lt;/span&gt;\\n                        &lt;input value=\"{{id}}\" type=\"hidden\"/&gt;\\n                        &lt;a href=\"javascript:;\" class=\"j {{#if ../if_logined}}a_vote_comment{{else}}a_show_login{{/if}}\"&gt;&#26377;&#29992;&lt;/a&gt;\\n                    &lt;/span&gt;\\n                    &lt;span class=\"comment-info\"&gt;\\n                        &lt;a href=\"{{user.path}}\" class=\"\"&gt;{{user.name}}&lt;/a&gt;\\n                        {{#if rating}}\\n                        &lt;span class=\"allstar{{rating}}0 rating\" title=\"{{rating_word}}\"&gt;&lt;/span&gt;\\n                        {{/if}}\\n                        &lt;span&gt;\\n                            {{time}}\\n                        &lt;/span&gt;\\n                        &lt;p&gt; {{content_tmpl content}} &lt;/p&gt;\\n                    &lt;/span&gt;\\n            &lt;/div&gt;\\n        &lt;/div&gt;\\n        {{/each}}\\n    &lt;/div&gt;\\n</script>\\n\\n\\n\\n\\n\\n\\n\\n\\n\\n\\n\\n\\n    \\n\\n    <div id=\"comments-section\">\\n        <div class=\"mod-hd\">\\n            \\n        <a class=\"comment_btn j a_show_login\" href=\"https://www.douban.com/register?reason=review\" rel=\"nofollow\">\\n            <span>&#25105;&#35201;&#20889;&#30701;&#35780;</span>\\n        </a>\\n\\n            \\n            \\n    <h2>\\n        <i class=\"\">&#32918;&#30003;&#20811;&#30340;&#25937;&#36174;&#30340;&#30701;&#35780;</i>\\n              &#183; &#183; &#183; &#183; &#183; &#183;\\n            <span class=\"pl\">\\n            (\\n                <a href=\"https://movie.douban.com/subject/1292052/comments?status=P\">&#20840;&#37096; 247269 &#26465;</a>\\n            )\\n            </span>\\n    </h2>\\n\\n        </div>\\n        <div class=\"mod-bd\">\\n                \\n    <div class=\"tab-hd\">\\n        <a id=\"hot-comments-tab\" href=\"comments\" data-id=\"hot\" class=\"on\">&#28909;&#38376;</a>&#160;/&#160;\\n        <a id=\"new-comments-tab\" href=\"comments?sort=time\" data-id=\"new\">&#26368;&#26032;</a>&#160;/&#160;\\n        <a id=\"following-comments-tab\" href=\"follows_comments\" data-id=\"following\" class=\"j a_show_login\">&#22909;&#21451;</a>\\n    </div>\\n\\n    <div class=\"tab-bd\">\\n        <div id=\"hot-comments\" class=\"tab\">\\n            \\n    \\n        \\n        <div class=\"comment-item\" data-cid=\"40114704\">\\n            \\n    \\n    <div class=\"comment\">\\n        <h3>\\n            <span class=\"comment-vote\">\\n                <span class=\"votes\">4646</span>\\n                <input value=\"40114704\" type=\"hidden\"/>\\n                <a href=\"javascript:;\" class=\"j a_show_login\" onclick=\"\">&#26377;&#29992;</a>\\n            </span>\\n            <span class=\"comment-info\">\\n                <a href=\"https://www.douban.com/people/eve42/\" class=\"\">Eve|Classified</a>\\n                    <span>&#30475;&#36807;</span>\\n                    <span class=\"allstar50 rating\" title=\"&#21147;&#33616;\"/>\\n                <span class=\"comment-time \" title=\"2008-05-09 23:15:34\">\\n                    2008-05-09\\n                </span>\\n            </span>\\n        </h3>\\n        <p class=\"\">\\n            \\n                <span class=\"short\">&#8220;&#36825;&#26159;&#19968;&#37096;&#30007;&#20154;&#24517;&#30475;&#30340;&#30005;&#24433;&#12290;&#8221;&#20154;&#20154;&#37117;&#36825;&#20040;&#35828;&#12290;&#20294;&#21333;&#32431;&#20174;&#24615;&#21035;&#21306;&#20998;&#65292;&#23601;&#20250;&#35753;&#36825;&#30005;&#24433;&#21464;&#29421;&#38552;&#12290;&#12298;&#32918;&#30003;&#20811;&#30340;&#25937;&#36174;&#12299;&#31361;&#30772;&#20102;&#30007;&#20154;&#30005;&#24433;&#30340;&#23616;&#38480;&#65292;&#36890;&#31687;&#20960;&#20046;&#20805;&#28385;&#20196;&#20154;&#38590;&#20197;&#32622;&#20449;&#30340;&#28201;&#39336;&#22522;&#35843;&#65292;&#32780;&#30005;&#24433;&#37324;&#26368;&#20255;&#22823;&#30340;&#20027;&#39064;&#26159;&#8220;&#24076;&#26395;&#8221;&#12290;&#13;\\n&#24403;&#25105;&#20204;&#26080;&#22856;&#22320;&#36935;&#21040;&#20102;&#22914;&#21516;&#32918;&#30003;&#20811;&#19968;&#33324;&#22234;&#31105;&#20102;&#24515;&#28789;&#33258;&#30001;&#30340;&#37027;&#31181;&#22265;&#22276;&#65292;&#25105;&#20204;&#26159;&#26080;&#22856;&#30340;&#32769;&#24067;&#40065;&#20811;&#65292;&#28784;&#24515;&#30340;&#29790;&#24503;&#65292;&#36824;&#26159;&#26234;&#24935;&#30340;&#23433;&#36842;&#65311;&#36816;&#29992;&#26234;&#24935;&#65292;&#20449;&#20219;&#24076;&#26395;&#65292;&#24182;&#19988;&#21191;&#25954;&#38754;&#23545;&#24656;&#24807;&#24515;&#29702;&#65292;&#21435;&#25171;&#36133;&#23427;&#65311;&#13;\\n&#32463;&#20856;&#30340;&#30005;&#24433;&#20043;&#25152;&#20197;&#32463;&#20856;&#65292;&#22240;&#20026;&#20182;&#20204;&#37117;&#22312;&#20570;&#21516;&#19968;&#20214;&#20107;&#8212;...</span>\\n                <span class=\"hide-item full\">&#8220;&#36825;&#26159;&#19968;&#37096;&#30007;&#20154;&#24517;&#30475;&#30340;&#30005;&#24433;&#12290;&#8221;&#20154;&#20154;&#37117;&#36825;&#20040;&#35828;&#12290;&#20294;&#21333;&#32431;&#20174;&#24615;&#21035;&#21306;&#20998;&#65292;&#23601;&#20250;&#35753;&#36825;&#30005;&#24433;&#21464;&#29421;&#38552;&#12290;&#12298;&#32918;&#30003;&#20811;&#30340;&#25937;&#36174;&#12299;&#31361;&#30772;&#20102;&#30007;&#20154;&#30005;&#24433;&#30340;&#23616;&#38480;&#65292;&#36890;&#31687;&#20960;&#20046;&#20805;&#28385;&#20196;&#20154;&#38590;&#20197;&#32622;&#20449;&#30340;&#28201;&#39336;&#22522;&#35843;&#65292;&#32780;&#30005;&#24433;&#37324;&#26368;&#20255;&#22823;&#30340;&#20027;&#39064;&#26159;&#8220;&#24076;&#26395;&#8221;&#12290;&#13;\\n&#24403;&#25105;&#20204;&#26080;&#22856;&#22320;&#36935;&#21040;&#20102;&#22914;&#21516;&#32918;&#30003;&#20811;&#19968;&#33324;&#22234;&#31105;&#20102;&#24515;&#28789;&#33258;&#30001;&#30340;&#37027;&#31181;&#22265;&#22276;&#65292;&#25105;&#20204;&#26159;&#26080;&#22856;&#30340;&#32769;&#24067;&#40065;&#20811;&#65292;&#28784;&#24515;&#30340;&#29790;&#24503;&#65292;&#36824;&#26159;&#26234;&#24935;&#30340;&#23433;&#36842;&#65311;&#36816;&#29992;&#26234;&#24935;&#65292;&#20449;&#20219;&#24076;&#26395;&#65292;&#24182;&#19988;&#21191;&#25954;&#38754;&#23545;&#24656;&#24807;&#24515;&#29702;&#65292;&#21435;&#25171;&#36133;&#23427;&#65311;&#13;\\n&#32463;&#20856;&#30340;&#30005;&#24433;&#20043;&#25152;&#20197;&#32463;&#20856;&#65292;&#22240;&#20026;&#20182;&#20204;&#37117;&#22312;&#20570;&#21516;&#19968;&#20214;&#20107;&#8212;&#8212;&#35753;&#20320;&#20174;&#19981;&#21516;&#30340;&#35282;&#24230;&#26469;&#27427;&#36175;&#24076;&#26395;&#30340;&#32654;&#22909;&#12290;</span>\\n                <span class=\"expand\">(<a href=\"javascript:;\">&#23637;&#24320;</a>)</span>\\n        </p>\\n    </div>\\n\\n        </div>\\n        \\n        <div class=\"comment-item\" data-cid=\"19505494\">\\n            \\n    \\n    <div class=\"comment\">\\n        <h3>\\n            <span class=\"comment-vote\">\\n                <span class=\"votes\">3505</span>\\n                <input value=\"19505494\" type=\"hidden\"/>\\n                <a href=\"javascript:;\" class=\"j a_show_login\" onclick=\"\">&#26377;&#29992;</a>\\n            </span>\\n            <span class=\"comment-info\">\\n                <a href=\"https://www.douban.com/people/seawaver/\" class=\"\">seawaver</a>\\n                    <span>&#30475;&#36807;</span>\\n                    <span class=\"allstar50 rating\" title=\"&#21147;&#33616;\"/>\\n                <span class=\"comment-time \" title=\"2007-08-29 17:21:44\">\\n                    2007-08-29\\n                </span>\\n            </span>\\n        </h3>\\n        <p class=\"\">\\n            \\n                <span class=\"short\">&#24530;&#32463;&#20856;&#30340;&#19996;&#35199;,&#25105;&#35201;&#24102;&#21435;&#25105;&#30340;&#22367;&#22675;</span>\\n        </p>\\n    </div>\\n\\n        </div>\\n        \\n        <div class=\"comment-item\" data-cid=\"142054\">\\n            \\n    \\n    <div class=\"comment\">\\n        <h3>\\n            <span class=\"comment-vote\">\\n                <span class=\"votes\">1330</span>\\n                <input value=\"142054\" type=\"hidden\"/>\\n                <a href=\"javascript:;\" class=\"j a_show_login\" onclick=\"\">&#26377;&#29992;</a>\\n            </span>\\n            <span class=\"comment-info\">\\n                <a href=\"https://www.douban.com/people/tjz230/\" class=\"\">&#24433;&#24535;</a>\\n                    <span>&#30475;&#36807;</span>\\n                    <span class=\"allstar50 rating\" title=\"&#21147;&#33616;\"/>\\n                <span class=\"comment-time \" title=\"2006-02-04 05:58:22\">\\n                    2006-02-04\\n                </span>\\n            </span>\\n        </h3>\\n        <p class=\"\">\\n            \\n                <span class=\"short\">Fear Can Hold You Prisoner, Hope Can Set You Free</span>\\n        </p>\\n    </div>\\n\\n        </div>\\n        \\n        <div class=\"comment-item\" data-cid=\"537314500\">\\n            \\n    \\n    <div class=\"comment\">\\n        <h3>\\n            <span class=\"comment-vote\">\\n                <span class=\"votes\">860</span>\\n                <input value=\"537314500\" type=\"hidden\"/>\\n                <a href=\"javascript:;\" class=\"j a_show_login\" onclick=\"\">&#26377;&#29992;</a>\\n            </span>\\n            <span class=\"comment-info\">\\n                <a href=\"https://www.douban.com/people/mmysl/\" class=\"\">&#33905;</a>\\n                    <span>&#30475;&#36807;</span>\\n                    <span class=\"allstar50 rating\" title=\"&#21147;&#33616;\"/>\\n                <span class=\"comment-time \" title=\"2012-05-28 22:57:42\">\\n                    2012-05-28\\n                </span>\\n            </span>\\n        </h3>\\n        <p class=\"\">\\n            \\n                <span class=\"short\">&#36825;&#26679;&#30340;&#30007;&#20154;&#35841;&#20250;&#33293;&#24471;&#32972;&#21467;&#12290;&#12290;&#12290;</span>\\n        </p>\\n    </div>\\n\\n        </div>\\n        \\n        <div class=\"comment-item\" data-cid=\"380050\">\\n            \\n    \\n    <div class=\"comment\">\\n        <h3>\\n            <span class=\"comment-vote\">\\n                <span class=\"votes\">350</span>\\n                <input value=\"380050\" type=\"hidden\"/>\\n                <a href=\"javascript:;\" class=\"j a_show_login\" onclick=\"\">&#26377;&#29992;</a>\\n            </span>\\n            <span class=\"comment-info\">\\n                <a href=\"https://www.douban.com/people/Uvo/\" class=\"\">&#21681;&#35828;</a>\\n                    <span>&#30475;&#36807;</span>\\n                    <span class=\"allstar50 rating\" title=\"&#21147;&#33616;\"/>\\n                <span class=\"comment-time \" title=\"2005-10-08 14:35:04\">\\n                    2005-10-08\\n                </span>\\n            </span>\\n        </h3>\\n        <p class=\"\">\\n            \\n                <span class=\"short\">&#22240;&#20026;1994&#24180;&#21488;&#28286;&#24341;&#36827;&#20102;&#19968;&#37096;&#27604;&#36739;&#21334;&#24231;&#30340;&#32769;&#29255;The Sting&#65292;&#34987;&#38169;&#35793;&#25104;&#20102;&#12298;&#21050;&#28608;&#12299;&#12290;&#21040;&#20102;1995&#24180;&#26412;&#29255;&#19978;&#26144;&#26102;&#65292;&#29255;&#21830;&#35273;&#24471;&#20854;&#21095;&#24773;&#19982;&#12298;&#21050;&#28608;&#12299;&#26377;&#31867;&#20284;&#30340;&#22320;&#26041;&#65288;&#22823;&#27010;&#37117;&#23646;&#20110;&#39640;&#26234;&#21830;&#30340;&#22797;&#20167;&#65311;&#65289;&#65292;&#22240;&#27492;&#34987;&#35793;&#25104;&#20102;&#12298;&#21050;&#28608;1995&#12299;&#65292;1998&#24180;&#21448;&#26377;&#19968;&#37096;&#29255;&#23376;Return To Paradise&#22240;&#20026;&#21547;&#26377;&#29282;&#29425;&#24773;&#33410;&#65292;&#34987;&#35793;&#25104;&#12298;&#21050;&#28608;1998&#12299;&#65281;</span>\\n        </p>\\n    </div>\\n\\n        </div>\\n\\n\\n\\n                \\n                &gt; <a href=\"comments?sort=new_score&amp;status=P\">&#26356;&#22810;&#30701;&#35780;247269&#26465;</a>\\n        </div>\\n        <div id=\"new-comments\" class=\"tab\">\\n            <div id=\"normal\">\\n            </div>\\n            <div class=\"fold-hd hide\">\\n                <a class=\"qa\" href=\"/help/opinion#t2-q0\" target=\"_blank\">&#20026;&#20160;&#20040;&#34987;&#25240;&#21472;&#65311;</a>\\n                <a class=\"btn-unfold\" href=\"#\">&#26377;&#19968;&#20123;&#30701;&#35780;&#34987;&#25240;&#21472;&#20102;</a>\\n                <div class=\"qa-tip\">\\n                    &#35780;&#35770;&#34987;&#25240;&#21472;&#65292;&#26159;&#22240;&#20026;&#21457;&#24067;&#36825;&#26465;&#35780;&#35770;&#30340;&#24080;&#21495;&#34892;&#20026;&#24322;&#24120;&#12290;&#35780;&#35770;&#20173;&#21487;&#20197;&#34987;&#23637;&#24320;&#38405;&#35835;&#65292;&#23545;&#21457;&#24067;&#20154;&#30340;&#36134;&#21495;&#19981;&#36896;&#25104;&#20854;&#20182;&#24433;&#21709;&#12290;&#22914;&#26524;&#35748;&#20026;&#26377;&#38382;&#39064;&#65292;&#21487;&#20197;<a href=\"https://help.douban.com/help/ask?category=movie\">&#32852;&#31995;</a>&#35910;&#29923;&#30005;&#24433;&#12290;\\n                </div>\\n            </div>\\n            <div class=\"fold-bd\">\\n            </div>\\n            <span id=\"total-num\"/>\\n        </div>\\n        <div id=\"following-comments\" class=\"tab\">\\n            \\n    \\n\\n\\n        <div class=\"comment-item\">\\n            &#20320;&#20851;&#27880;&#30340;&#20154;&#36824;&#27809;&#20889;&#36807;&#30701;&#35780;\\n        </div>\\n\\n        </div>\\n    </div>\\n\\n\\n            \\n            \\n        </div>\\n    </div>\\n\\n\\n\\n        \\n\\n<link rel=\"stylesheet\" href=\"https://img3.doubanio.com/misc/mixed_static/73ed658484f98d44.css\"/>\\n\\n<section class=\"topics mod\">\\n    <header>\\n        <h2>\\n            &#32918;&#30003;&#20811;&#30340;&#25937;&#36174;&#30340;&#35805;&#39064; &#183; &#183; &#183; &#183; &#183; &#183;\\n            <span class=\"pl\">( <span class=\"gallery_topics\">&#20840;&#37096; <span id=\"topic-count\"/> &#26465;</span> )</span>\\n        </h2>\\n    </header>\\n\\n    \\n\\n\\n\\n\\n<section class=\"subject-topics\">\\n    <div class=\"topic-guide\" id=\"topic-guide\">\\n        <img class=\"ic_question\" src=\"//img3.doubanio.com/f/ithildin/b1a3edea3d04805f899e9d77c0bfc0d158df10d5/pics/export/icon_question.png\"/>\\n        <div class=\"tip_content\">\\n            <div class=\"tip_title\">&#20160;&#20040;&#26159;&#35805;&#39064;</div>\\n            <div class=\"tip_desc\">\\n                <div>&#26080;&#35770;&#26159;&#19968;&#37096;&#20316;&#21697;&#12289;&#19968;&#20010;&#20154;&#65292;&#36824;&#26159;&#19968;&#20214;&#20107;&#65292;&#37117;&#24448;&#24448;&#21487;&#20197;&#34893;&#29983;&#20986;&#35768;&#22810;&#19981;&#21516;&#30340;&#35805;&#39064;&#12290;&#23558;&#36825;&#20123;&#35805;&#39064;&#32454;&#20998;&#20986;&#26469;&#65292;&#20998;&#21035;&#36827;&#34892;&#35752;&#35770;&#65292;&#20250;&#26377;&#26356;&#22810;&#25910;&#33719;&#12290;</div>\\n            </div>\\n        </div>\\n        <img class=\"ic_guide\" src=\"//img3.doubanio.com/f/ithildin/529f46d86bc08f55cd0b1843d0492242ebbd22de/pics/export/icon_guide_arrow.png\"/>\\n        <img class=\"ic_close\" id=\"topic-guide-close\" src=\"//img3.doubanio.com/f/ithildin/2eb4ad488cb0854644b23f20b6fa312404429589/pics/export/close@3x.png\"/>\\n    </div>\\n\\n    <div id=\"topic-items\"/>\\n\\n    <script>\\n        window.subject_id = 1292052;\\n        window.join_label_text = \\'&#20889;&#24433;&#35780;&#21442;&#19982;\\';\\n\\n        window.topic_display_count = 4;\\n        window.topic_item_display_count = 1;\\n        window.no_content_fun_call_name = \"no_topic\";\\n\\n        window.guideNode = document.getElementById(\\'topic-guide\\');\\n        window.guideNodeClose = document.getElementById(\\'topic-guide-close\\');\\n    </script>\\n    \\n        <link rel=\"stylesheet\" href=\"https://img3.doubanio.com/f/ithildin/f731c9ea474da58c516290b3a6b1dd1237c07c5e/css/export/subject_topics.css\"/>\\n        <script src=\"https://img3.doubanio.com/f/ithildin/d3590fc6ac47b33c804037a1aa7eec49075428c8/js/export/moment-with-locales-only-zh.js\"/>\\n        <script src=\"https://img3.doubanio.com/f/ithildin/c600fdbe69e3ffa5a3919c81ae8c8b4140e99a3e/js/export/subject_topics.js\"/>\\n\\n</section>\\n\\n    <script>\\n        function no_topic(){\\n            $(\\'#content .topics\\').remove();\\n        }\\n    </script>\\n</section>\\n\\n<section class=\"reviews mod movie-content\">\\n    <header>\\n        <a href=\"new_review\" rel=\"nofollow\" class=\"create-review comment_btn\" data-isverify=\"False\" data-verify-url=\"https://www.douban.com/accounts/phone/verify?redir=http://movie.douban.com/subject/1292052/new_review\">\\n            <span>&#25105;&#35201;&#20889;&#24433;&#35780;</span>\\n        </a>\\n        <h2>\\n            &#32918;&#30003;&#20811;&#30340;&#25937;&#36174;&#30340;&#24433;&#35780; &#183; &#183; &#183; &#183; &#183; &#183;\\n            <span class=\"pl\">( <a href=\"reviews\">&#20840;&#37096; 7188 &#26465;</a> )</span>\\n        </h2>\\n    </header>\\n\\n    \\n\\n<style>\\n#gallery-topics-selection {\\n  position: fixed;\\n  width: 595px;\\n  padding: 40px 40px 33px 40px;\\n  background: #fff;\\n  border-radius: 10px;\\n  box-shadow: 0 2px 16px 0 rgba(0, 0, 0, 0.2);\\n  top: 50%;\\n  left: 50%;\\n  -webkit-transform: translate(-50%, -50%);\\n  transform: translate(-50%, -50%);\\n  z-index: 9999;\\n}\\n#gallery-topics-selection h1 {\\n  font-size: 18px;\\n  color: #007722;\\n  margin-bottom: 36px;\\n  padding: 0;\\n  line-height: 28px;\\n  font-weight: normal;\\n}\\n#gallery-topics-selection .gl_topics {\\n  border-bottom: 1px solid #dfdfdf;\\n  max-height: 298px;\\n  overflow-y: scroll;\\n}\\n#gallery-topics-selection .topic {\\n  margin-bottom: 24px;\\n}\\n#gallery-topics-selection .topic_name {\\n  font-size: 15px;\\n  color: #333;\\n  margin: 0;\\n  line-height: inherit;\\n}\\n#gallery-topics-selection .topic_meta {\\n  font-size: 13px;\\n  color: #999;\\n}\\n#gallery-topics-selection .topics_skip {\\n  display: block;\\n  cursor: pointer;\\n  font-size: 16px;\\n  color: #3377AA;\\n  text-align: center;\\n  margin-top: 33px;\\n}\\n#gallery-topics-selection .topics_skip:hover {\\n  background: transparent;\\n}\\n#gallery-topics-selection .close_selection {\\n  position: absolute;\\n  width: 30px;\\n  height: 20px;\\n  top: 46px;\\n  right: 40px;\\n  background: #fff;\\n  color: #999;\\n  text-align: right;\\n}\\n#gallery-topics-selection .close_selection:hover{\\n  background: #fff;\\n  color: #999;\\n}\\n</style>\\n\\n\\n\\n\\n        <div class=\"review_filter\">\\n            <a href=\"javascript:;;\" class=\"cur\" data-sort=\"\">&#28909;&#38376;</a> /\\n            <a href=\"javascript:;;\" data-sort=\"time\">&#26368;&#26032;</a> /\\n            <a href=\"javascript:;;\" data-sort=\"follow\">&#22909;&#21451;</a>\\n            \\n        </div>\\n\\n\\n        \\n\\n\\n\\n<div class=\"review-list  \">\\n        \\n    \\n\\n        \\n    \\n    <div data-cid=\"1000369\">\\n        <div class=\"main review-item\" id=\"1000369\">\\n\\n            \\n    \\n    <header class=\"main-hd\">\\n        <a href=\"https://www.douban.com/people/bighead/\" class=\"avator\">\\n            <img width=\"24\" height=\"24\" src=\"https://img3.doubanio.com/icon/u1000152-23.jpg\"/>\\n        </a>\\n\\n        <a href=\"https://www.douban.com/people/bighead/\" class=\"name\">&#22823;&#22836;&#32511;&#35910;</a>\\n\\n            <span class=\"allstar50 main-title-rating\" title=\"&#21147;&#33616;\"/>\\n\\n        <span content=\"2005-05-12\" class=\"main-meta\">2005-05-12 20:44:13</span>\\n\\n\\n    </header>\\n\\n\\n            <div class=\"main-bd\">\\n\\n                <h2><a href=\"https://movie.douban.com/review/1000369/\">&#21313;&#24180;&#183;&#32918;&#30003;&#20811;&#30340;&#25937;&#36174;</a></h2>\\n\\n                <div id=\"review_1000369_short\" class=\"review-short\" data-rid=\"1000369\">\\n                    <div class=\"short-content\">\\n\\n                        &#36317;&#31163;&#26031;&#33922;&#33452;&#183;&#37329;&#65288;Stephen King&#65289;&#21644;&#24503;&#25289;&#37030;&#29305;&#65288;Frank Darabont&#65289;&#20204;&#32532;&#36896;&#36825;&#37096;&#20255;&#22823;&#30340;&#20316;&#21697;&#24050;&#32463;&#26377;&#21313;&#24180;&#20102;&#12290;&#25105;&#30693;&#36947;&#32654;&#22909;&#30340;&#19996;&#35199;&#24819;&#24517;&#22823;&#23478;&#37117;&#33021;&#24863;&#21463;&#65292;&#20294;&#26159;&#24456;&#25265;&#27465;&#65292;&#25105;&#30340;&#32850;&#22122;&#20173;&#23558;&#19968;&#22914;&#26082;&#24448;&#12290; &#22312;&#25105;&#30524;&#37324;&#65292;&#32918;&#30003;&#20811;&#30340;&#25937;&#36174;&#19982;&#20449;&#24565;&#12289;&#33258;&#30001;&#21644;&#21451;&#35850;&#26377;&#20851;&#12290; &#65339;1&#65341;&#20449; &#24565; &#29790;&#24503;&#65288;Red&#65289;&#35828;&#65292;&#24076;&#26395;&#26159;&#21361;&#38505;&#30340;&#19996;&#35199;&#65292;&#26159;&#31934;...\\n\\n                        &#160;(<a href=\"javascript:;\" id=\"toggle-1000369-copy\" class=\"unfold\" title=\"&#23637;&#24320;\">&#23637;&#24320;</a>)\\n                    </div>\\n                </div>\\n\\n                <div id=\"review_1000369_full\" class=\"hidden\">\\n                    <div id=\"review_1000369_full_content\" class=\"full-content\"/>\\n                </div>\\n\\n                <div class=\"action\">\\n                    <a href=\"javascript:;\" class=\"action-btn up\" data-rid=\"1000369\" title=\"&#26377;&#29992;\">\\n                        <img src=\"https://img3.doubanio.com/f/zerkalo/536fd337139250b5fb3cf9e79cb65c6193f8b20b/pics/up.png\"/>\\n                        <span id=\"r-useful_count-1000369\">\\n                                13447\\n                        </span>\\n                    </a>\\n                    <a href=\"javascript:;\" class=\"action-btn down\" data-rid=\"1000369\" title=\"&#27809;&#29992;\">\\n                        <img src=\"https://img3.doubanio.com/f/zerkalo/68849027911140623cf338c9845893c4566db851/pics/down.png\"/>\\n                        <span id=\"r-useless_count-1000369\">\\n                                662\\n                        </span>\\n                    </a>\\n                    <a href=\"https://movie.douban.com/review/1000369/#comments\" class=\"reply\">758&#22238;&#24212;</a>\\n\\n                    <a href=\"javascript:;;\" class=\"fold hidden\">&#25910;&#36215;</a>\\n                </div>\\n            </div>\\n        </div>\\n    </div>\\n\\n        \\n    \\n    <div data-cid=\"1001258\">\\n        <div class=\"main review-item\" id=\"1001258\">\\n\\n            \\n    \\n    <header class=\"main-hd\">\\n        <a href=\"https://www.douban.com/people/lazywormzhao/\" class=\"avator\">\\n            <img width=\"24\" height=\"24\" src=\"https://img3.doubanio.com/icon/u1000564-1.jpg\"/>\\n        </a>\\n\\n        <a href=\"https://www.douban.com/people/lazywormzhao/\" class=\"name\">&#38577;&#23621;&#38642;&#19978;</a>\\n\\n            <span class=\"allstar50 main-title-rating\" title=\"&#21147;&#33616;\"/>\\n\\n        <span content=\"2005-07-12\" class=\"main-meta\">2005-07-12 11:23:39</span>\\n\\n\\n    </header>\\n\\n\\n            <div class=\"main-bd\">\\n\\n                <h2><a href=\"https://movie.douban.com/review/1001258/\">&#32456;&#20110;&#25214;&#21040;&#20102;&#37057;&#38391;&#20154;&#29983;&#30340;&#21407;&#22240;&#8213;&#8213;&#35266;&#12298;&#32918;&#30003;&#20811;&#30340;&#25937;&#36174;&#12299;&#26377;&#24863;</a></h2>\\n\\n                <div id=\"review_1001258_short\" class=\"review-short\" data-rid=\"1001258\">\\n                    <div class=\"short-content\">\\n\\n                         &#21608;&#26411;&#30475;&#20102;&#19968;&#37096;&#32654;&#22269;&#24433;&#29255;&#12298;&#32918;&#30003;&#20811;&#30340;&#25937;&#36174;&#12299;&#65288;&#12298;The Shawshank Redemption&#12299;&#65289; &#35762;&#30340;&#26159;&#19968;&#20301;&#22240;&#20900;&#26696;&#20837;&#29425;&#30340;&#24180;&#36731;&#38134;&#34892;&#23478;&#22312;&#29282;&#20013;&#22914;&#20309;&#36861;&#23547;&#33258;&#30001;&#30340;&#25925;&#20107;&#12290; &#19981;&#21516;&#30340;&#20154;&#30475;&#21516;&#26679;&#30340;&#24433;&#29255;&#21487;&#33021;&#37117;&#26377;&#19981;&#21516;&#30340;&#24863;&#21463;&#12290;&#23545;&#20110;&#30446;&#21069;&#26080;&#21147;&#25913;&#21464;&#29616;&#29366;&#30340;&#25105;&#65292;&#30475;&#23436;&#36825;&#37096;&#24433;&#29255;&#21518;&#26368;&#28145;&#30340;&#24863;&#21463;&#23601;&#26159;&#65306;&#25165;&#21326;&#12289;&#27589;&#21147;&#20004;&#26679;&#65292;&#26159;&#20219;&#20309;&#20154;&#22312;&#20219;&#20309;&#22659;...\\n\\n                        &#160;(<a href=\"javascript:;\" id=\"toggle-1001258-copy\" class=\"unfold\" title=\"&#23637;&#24320;\">&#23637;&#24320;</a>)\\n                    </div>\\n                </div>\\n\\n                <div id=\"review_1001258_full\" class=\"hidden\">\\n                    <div id=\"review_1001258_full_content\" class=\"full-content\"/>\\n                </div>\\n\\n                <div class=\"action\">\\n                    <a href=\"javascript:;\" class=\"action-btn up\" data-rid=\"1001258\" title=\"&#26377;&#29992;\">\\n                        <img src=\"https://img3.doubanio.com/f/zerkalo/536fd337139250b5fb3cf9e79cb65c6193f8b20b/pics/up.png\"/>\\n                        <span id=\"r-useful_count-1001258\">\\n                                8700\\n                        </span>\\n                    </a>\\n                    <a href=\"javascript:;\" class=\"action-btn down\" data-rid=\"1001258\" title=\"&#27809;&#29992;\">\\n                        <img src=\"https://img3.doubanio.com/f/zerkalo/68849027911140623cf338c9845893c4566db851/pics/down.png\"/>\\n                        <span id=\"r-useless_count-1001258\">\\n                                731\\n                        </span>\\n                    </a>\\n                    <a href=\"https://movie.douban.com/review/1001258/#comments\" class=\"reply\">570&#22238;&#24212;</a>\\n\\n                    <a href=\"javascript:;;\" class=\"fold hidden\">&#25910;&#36215;</a>\\n                </div>\\n            </div>\\n        </div>\\n    </div>\\n\\n        \\n    \\n    <div data-cid=\"1208594\">\\n        <div class=\"main review-item\" id=\"1208594\">\\n\\n            \\n    \\n    <header class=\"main-hd\">\\n        <a href=\"https://www.douban.com/people/1817888/\" class=\"avator\">\\n            <img width=\"24\" height=\"24\" src=\"https://img3.doubanio.com/icon/u1817888-4.jpg\"/>\\n        </a>\\n\\n        <a href=\"https://www.douban.com/people/1817888/\" class=\"name\">&#20013;&#21407;&#29422;&#23376;&#29579;</a>\\n\\n            <span class=\"allstar50 main-title-rating\" title=\"&#21147;&#33616;\"/>\\n\\n        <span content=\"2007-09-15\" class=\"main-meta\">2007-09-15 22:59:08</span>\\n\\n\\n    </header>\\n\\n\\n            <div class=\"main-bd\">\\n\\n                <h2><a href=\"https://movie.douban.com/review/1208594/\">&#12298;&#32918;&#30003;&#20811;&#30340;&#25937;&#36174;&#12299;&#19982;&#26031;&#24503;&#21733;&#23572;&#25705;&#32508;&#21512;&#30151;&#65293;&#65293;&#20320;&#25105;&#37117;&#26159;&#24739;&#32773;&#65281;</a></h2>\\n\\n                <div id=\"review_1208594_short\" class=\"review-short\" data-rid=\"1208594\">\\n                    <div class=\"short-content\">\\n                            <p class=\"spoiler-tip\">&#36825;&#31687;&#24433;&#35780;&#21487;&#33021;&#26377;&#21095;&#36879;</p>\\n\\n                           &#26031;&#24503;&#21733;&#23572;&#25705;&#32508;&#21512;&#30151;&#65288;Stockholm syndrome&#65289;&#65292;&#26031;&#24503;&#21733;&#23572;&#25705;&#25928;&#24212;&#65292;&#21448;&#31216;&#26031;&#24503;&#21733;&#23572;&#25705;&#30151;&#20505;&#32676;&#25110;&#32773;&#31216;&#20026;&#20154;&#36136;&#24773;&#32467;&#25110;&#20154;&#36136;&#32508;&#21512;&#30151;&#65292;&#26159;&#25351;&#29359;&#32618;&#30340;&#34987;&#23475;&#32773;&#23545;&#20110;&#29359;&#32618;&#32773;&#20135;&#29983;&#24773;&#24863;&#65292;&#29978;&#33267;&#21453;&#36807;&#26469;&#24110;&#21161;&#29359;&#32618;&#32773;&#30340;&#19968;&#31181;&#24773;&#32467;&#12290;&#36825;&#20010;&#24773;&#24863;&#36896;&#25104;&#34987;&#23475;&#20154;&#23545;&#21152;&#23475;&#20154;&#20135;&#29983;&#22909;&#24863;&#12289;&#20381;&#36182;&#24515;&#12289;&#29978;&#33267;&#21327;&#21161;&#21152;&#23475;&#20154;&#12290;  &#12288;&#12288;1973&#24180;8&#26376;23&#26085;...\\n\\n                        &#160;(<a href=\"javascript:;\" id=\"toggle-1208594-copy\" class=\"unfold\" title=\"&#23637;&#24320;\">&#23637;&#24320;</a>)\\n                    </div>\\n                </div>\\n\\n                <div id=\"review_1208594_full\" class=\"hidden\">\\n                    <div id=\"review_1208594_full_content\" class=\"full-content\"/>\\n                </div>\\n\\n                <div class=\"action\">\\n                    <a href=\"javascript:;\" class=\"action-btn up\" data-rid=\"1208594\" title=\"&#26377;&#29992;\">\\n                        <img src=\"https://img3.doubanio.com/f/zerkalo/536fd337139250b5fb3cf9e79cb65c6193f8b20b/pics/up.png\"/>\\n                        <span id=\"r-useful_count-1208594\">\\n                                5532\\n                        </span>\\n                    </a>\\n                    <a href=\"javascript:;\" class=\"action-btn down\" data-rid=\"1208594\" title=\"&#27809;&#29992;\">\\n                        <img src=\"https://img3.doubanio.com/f/zerkalo/68849027911140623cf338c9845893c4566db851/pics/down.png\"/>\\n                        <span id=\"r-useless_count-1208594\">\\n                                827\\n                        </span>\\n                    </a>\\n                    <a href=\"https://movie.douban.com/review/1208594/#comments\" class=\"reply\">527&#22238;&#24212;</a>\\n\\n                    <a href=\"javascript:;;\" class=\"fold hidden\">&#25910;&#36215;</a>\\n                </div>\\n            </div>\\n        </div>\\n    </div>\\n\\n        \\n    \\n    <div data-cid=\"1019121\">\\n        <div class=\"main review-item\" id=\"1019121\">\\n\\n            \\n    \\n    <header class=\"main-hd\">\\n        <a href=\"https://www.douban.com/people/nakedfake/\" class=\"avator\">\\n            <img width=\"24\" height=\"24\" src=\"https://img1.doubanio.com/icon/user_normal.jpg\"/>\\n        </a>\\n\\n        <a href=\"https://www.douban.com/people/nakedfake/\" class=\"name\">[&#24050;&#27880;&#38144;]</a>\\n\\n            <span class=\"allstar50 main-title-rating\" title=\"&#21147;&#33616;\"/>\\n\\n        <span content=\"2006-01-07\" class=\"main-meta\">2006-01-07 20:56:26</span>\\n\\n\\n    </header>\\n\\n\\n            <div class=\"main-bd\">\\n\\n                <h2><a href=\"https://movie.douban.com/review/1019121/\">Andy Dufresne</a></h2>\\n\\n                <div id=\"review_1019121_short\" class=\"review-short\" data-rid=\"1019121\">\\n                    <div class=\"short-content\">\\n\\n                        Andy Dufresne&#65292;&#19968;&#20010;&#27704;&#22402;&#30005;&#24433;&#21490;&#20876;&#30340;&#21517;&#23383;&#12290;  1  &#20851;&#20110;&#12298;The Shawshank Redemption&#12299;&#30340;&#35780;&#35770;&#65292;&#22826;&#22810;&#65292;&#35813;&#35828;&#30340;&#24046;&#19981;&#22810;&#37117;&#24050;&#35828;&#20102;&#21315;&#19975;&#36941;&#12290;&#23545;&#20110;&#36825;&#26679;&#19968;&#20010;&#28909;&#38376;&#30340;&#35805;&#39064;&#65292;&#20877;&#24819;&#35201;&#25234;&#21457;&#19968;&#20123;&#20010;&#20154;&#30340;&#21916;&#29233;&#20043;&#24773;&#65292;&#19981;&#20813;&#26377;&#25342;&#20154;&#29273;&#24935;&#20043;&#23244;&#12290;&#20026;&#20102;&#36991;&#20813;&#36825;&#26679;&#27809;&#26032;&#24847;&#30340;&#20107;&#24773;&#21457;&#29983;&#65292;&#35768;&#22810;&#21333;&#35789;&#25105;&#23601;&#19981;&#20877;&#25552;&#20102;&#65292;&#35692;&#22914;&#8220;&#24076;&#26395;&#8221;...\\n\\n                        &#160;(<a href=\"javascript:;\" id=\"toggle-1019121-copy\" class=\"unfold\" title=\"&#23637;&#24320;\">&#23637;&#24320;</a>)\\n                    </div>\\n                </div>\\n\\n                <div id=\"review_1019121_full\" class=\"hidden\">\\n                    <div id=\"review_1019121_full_content\" class=\"full-content\"/>\\n                </div>\\n\\n                <div class=\"action\">\\n                    <a href=\"javascript:;\" class=\"action-btn up\" data-rid=\"1019121\" title=\"&#26377;&#29992;\">\\n                        <img src=\"https://img3.doubanio.com/f/zerkalo/536fd337139250b5fb3cf9e79cb65c6193f8b20b/pics/up.png\"/>\\n                        <span id=\"r-useful_count-1019121\">\\n                                2884\\n                        </span>\\n                    </a>\\n                    <a href=\"javascript:;\" class=\"action-btn down\" data-rid=\"1019121\" title=\"&#27809;&#29992;\">\\n                        <img src=\"https://img3.doubanio.com/f/zerkalo/68849027911140623cf338c9845893c4566db851/pics/down.png\"/>\\n                        <span id=\"r-useless_count-1019121\">\\n                                102\\n                        </span>\\n                    </a>\\n                    <a href=\"https://movie.douban.com/review/1019121/#comments\" class=\"reply\">226&#22238;&#24212;</a>\\n\\n                    <a href=\"javascript:;;\" class=\"fold hidden\">&#25910;&#36215;</a>\\n                </div>\\n            </div>\\n        </div>\\n    </div>\\n\\n        \\n    \\n    <div data-cid=\"1127585\">\\n        <div class=\"main review-item\" id=\"1127585\">\\n\\n            \\n    \\n    <header class=\"main-hd\">\\n        <a href=\"https://www.douban.com/people/1317870/\" class=\"avator\">\\n            <img width=\"24\" height=\"24\" src=\"https://img3.doubanio.com/icon/u1317870-33.jpg\"/>\\n        </a>\\n\\n        <a href=\"https://www.douban.com/people/1317870/\" class=\"name\">aratana</a>\\n\\n            <span class=\"allstar50 main-title-rating\" title=\"&#21147;&#33616;\"/>\\n\\n        <span content=\"2007-02-26\" class=\"main-meta\">2007-02-26 10:38:45</span>\\n\\n\\n    </header>\\n\\n\\n            <div class=\"main-bd\">\\n\\n                <h2><a href=\"https://movie.douban.com/review/1127585/\">&#12298;&#32918;&#30003;&#20811;&#30340;&#25937;&#36174;&#12299;&#65306;1994&#8212;2007&#65292;&#24076;&#26395;&#23601;&#26159;&#29616;&#23454;</a></h2>\\n\\n                <div id=\"review_1127585_short\" class=\"review-short\" data-rid=\"1127585\">\\n                    <div class=\"short-content\">\\n\\n                        &#19968;&#12289;&#32536;&#36215;  &#20174;&#26469;&#27809;&#24819;&#36807;&#32473;&#12298;&#32918;&#30003;&#20811;&#30340;&#25937;&#36174;&#12299;&#20889;&#19968;&#31687;&#24433;&#35780;&#65292;&#20063;&#35768;&#26159;&#29983;&#24597;&#26292;&#38706;&#33258;&#24049;&#21482;&#26159;&#20010;&#19981;&#35865;&#19990;&#20107;&#30340;&#21021;&#32423;&#24433;&#36855;&#65292;&#20063;&#35768;&#26159;&#23545;&#36825;&#26679;&#19968;&#37096;&#26080;&#27861;&#22797;&#21046;&#30340;&#24433;&#29255;&#30495;&#30340;&#19981;&#24895;&#21435;&#36807;&#22810;&#22320;&#25552;&#36215;&#12290;&#28982;&#32780;&#19968;&#22330;&#20986;&#20854;&#19981;&#24847;&#30340;&#37325;&#24863;&#20882;&#35753;&#25105;&#21482;&#33021;&#21351;&#24202;&#35065;&#34987;&#65292;&#24050;&#27809;&#26377;&#20102;&#21147;&#27668;&#21435;&#28040;&#21270;&#25105;&#37027;&#20123;&#25925;&#20316;&#39640;&#28145;&#12289;&#19968;&#30452;&#25910;&#30528;&#21364;&#25042;&#24471;&#21435;&#30475;&#30340;&#30005;&#24433;&#65292;&#19981;&#26399;&#28982;&#22320;...\\n\\n                        &#160;(<a href=\"javascript:;\" id=\"toggle-1127585-copy\" class=\"unfold\" title=\"&#23637;&#24320;\">&#23637;&#24320;</a>)\\n                    </div>\\n                </div>\\n\\n                <div id=\"review_1127585_full\" class=\"hidden\">\\n                    <div id=\"review_1127585_full_content\" class=\"full-content\"/>\\n                </div>\\n\\n                <div class=\"action\">\\n                    <a href=\"javascript:;\" class=\"action-btn up\" data-rid=\"1127585\" title=\"&#26377;&#29992;\">\\n                        <img src=\"https://img3.doubanio.com/f/zerkalo/536fd337139250b5fb3cf9e79cb65c6193f8b20b/pics/up.png\"/>\\n                        <span id=\"r-useful_count-1127585\">\\n                                1561\\n                        </span>\\n                    </a>\\n                    <a href=\"javascript:;\" class=\"action-btn down\" data-rid=\"1127585\" title=\"&#27809;&#29992;\">\\n                        <img src=\"https://img3.doubanio.com/f/zerkalo/68849027911140623cf338c9845893c4566db851/pics/down.png\"/>\\n                        <span id=\"r-useless_count-1127585\">\\n                                151\\n                        </span>\\n                    </a>\\n                    <a href=\"https://movie.douban.com/review/1127585/#comments\" class=\"reply\">172&#22238;&#24212;</a>\\n\\n                    <a href=\"javascript:;;\" class=\"fold hidden\">&#25910;&#36215;</a>\\n                </div>\\n            </div>\\n        </div>\\n    </div>\\n\\n        \\n    \\n    <div data-cid=\"9259304\">\\n        <div class=\"main review-item\" id=\"9259304\">\\n\\n            \\n    \\n    <header class=\"main-hd\">\\n        <a href=\"https://www.douban.com/people/yalindongdong/\" class=\"avator\">\\n            <img width=\"24\" height=\"24\" src=\"https://img3.doubanio.com/icon/u2586116-96.jpg\"/>\\n        </a>\\n\\n        <a href=\"https://www.douban.com/people/yalindongdong/\" class=\"name\">&#26041;&#26538;&#26538;</a>\\n\\n            <span class=\"allstar50 main-title-rating\" title=\"&#21147;&#33616;\"/>\\n\\n        <span content=\"2018-03-30\" class=\"main-meta\">2018-03-30 16:46:05</span>\\n\\n            <a class=\"rel-topic\" target=\"_blank\" href=\"//www.douban.com/gallery/topic/&#20026;&#20309;&#12298;&#32918;&#30003;&#20811;&#30340;&#25937;&#36174;&#12299;&#22312;IMDb&#21644;&#35910;&#29923;&#37117;&#33021;&#25490;&#31532;&#19968;&#65311;\">#&#20026;&#20309;&#12298;&#32918;&#30003;&#20811;&#30340;&#25937;&#36174;&#12299;&#22312;IMDb&#21644;&#35910;&#29923;&#37117;&#33021;&#25490;&#31532;&#19968;&#65311;</a>\\n\\n    </header>\\n\\n\\n            <div class=\"main-bd\">\\n\\n                <h2><a href=\"https://movie.douban.com/review/9259304/\">&#20026;&#20309;&#12298;&#32918;&#30003;&#20811;&#30340;&#25937;&#36174;&#12299;&#22312;IMDb&#21644;&#35910;&#29923;&#37117;&#33021;&#25490;&#31532;&#19968;&#65311;</a></h2>\\n\\n                <div id=\"review_9259304_short\" class=\"review-short\" data-rid=\"9259304\">\\n                    <div class=\"short-content\">\\n\\n                        &#26102;&#38388;&#20250;&#35777;&#26126;&#32463;&#20856;&#30340;&#20215;&#20540;&#65292;&#34429;&#28982;&#22312;&#26576;&#20123;&#26102;&#21051;&#20250;&#34987;&#35823;&#21028;&#21644;&#24573;&#35270;&#12290; &#29992;&#19978;&#38754;&#36825;&#21477;&#35805;&#26469;&#25551;&#36848;&#30005;&#24433;&#12298;&#32918;&#30003;&#20811;&#30340;&#25937;&#36174;&#12299;&#19997;&#27627;&#19981;&#20250;&#35753;&#20154;&#35273;&#24471;&#20250;&#26377;&#20219;&#20309;&#22840;&#24352;&#21644;&#21561;&#25447;&#30340;&#24847;&#21619;&#65292;&#22240;&#20026;&#36825;&#37096;&#30005;&#24433;&#22312;&#21518;&#26469;&#22810;&#24180;&#29282;&#29282;&#21344;&#25454;IMDB&#21644;&#35910;&#29923;&#30005;&#24433;&#27036;&#21333;&#31532;&#19968;&#21517;&#30340;&#20301;&#32622;&#36275;&#20197;&#35828;&#26126;&#19968;&#20999;&#12290;&#20294;&#23601;&#26159;&#36825;&#20040;&#19968;&#37096;&#32463;&#20856;&#30340;&#30005;&#24433;&#65292;&#21364;&#22312;&#20854;&#38155;&#33426;&#21021;&#38706;&#30340;&#26102;&#20505;&#34987;&#20154;...\\n\\n                        &#160;(<a href=\"javascript:;\" id=\"toggle-9259304-copy\" class=\"unfold\" title=\"&#23637;&#24320;\">&#23637;&#24320;</a>)\\n                    </div>\\n                </div>\\n\\n                <div id=\"review_9259304_full\" class=\"hidden\">\\n                    <div id=\"review_9259304_full_content\" class=\"full-content\"/>\\n                </div>\\n\\n                <div class=\"action\">\\n                    <a href=\"javascript:;\" class=\"action-btn up\" data-rid=\"9259304\" title=\"&#26377;&#29992;\">\\n                        <img src=\"https://img3.doubanio.com/f/zerkalo/536fd337139250b5fb3cf9e79cb65c6193f8b20b/pics/up.png\"/>\\n                        <span id=\"r-useful_count-9259304\">\\n                                3286\\n                        </span>\\n                    </a>\\n                    <a href=\"javascript:;\" class=\"action-btn down\" data-rid=\"9259304\" title=\"&#27809;&#29992;\">\\n                        <img src=\"https://img3.doubanio.com/f/zerkalo/68849027911140623cf338c9845893c4566db851/pics/down.png\"/>\\n                        <span id=\"r-useless_count-9259304\">\\n                                686\\n                        </span>\\n                    </a>\\n                    <a href=\"https://movie.douban.com/review/9259304/#comments\" class=\"reply\">368&#22238;&#24212;</a>\\n\\n                    <a href=\"javascript:;;\" class=\"fold hidden\">&#25910;&#36215;</a>\\n                </div>\\n            </div>\\n        </div>\\n    </div>\\n\\n        \\n    \\n    <div data-cid=\"1005528\">\\n        <div class=\"main review-item\" id=\"1005528\">\\n\\n            \\n    \\n    <header class=\"main-hd\">\\n        <a href=\"https://www.douban.com/people/suoliweng/\" class=\"avator\">\\n            <img width=\"24\" height=\"24\" src=\"https://img3.doubanio.com/icon/u1026935-2.jpg\"/>\\n        </a>\\n\\n        <a href=\"https://www.douban.com/people/suoliweng/\" class=\"name\">&#34001;&#31520;&#32705;</a>\\n\\n            <span class=\"allstar50 main-title-rating\" title=\"&#21147;&#33616;\"/>\\n\\n        <span content=\"2005-09-25\" class=\"main-meta\">2005-09-25 16:27:41</span>\\n\\n\\n    </header>\\n\\n\\n            <div class=\"main-bd\">\\n\\n                <h2><a href=\"https://movie.douban.com/review/1005528/\">&#20154;&#29983;&#30340;&#36807;&#31243;&#23601;&#26159;&#19968;&#20010;&#25670;&#33073;institutionalization(&#20307;&#21046;&#21270;)&#30340;&#36807;&#31243;</a></h2>\\n\\n                <div id=\"review_1005528_short\" class=\"review-short\" data-rid=\"1005528\">\\n                    <div class=\"short-content\">\\n\\n                        &#29616;&#22312;&#22909;&#35937;&#27604;&#36739;&#26102;&#20852;&#23558;&#20154;&#20998;&#20026;&#20307;&#21046;&#20869;&#21644;&#20307;&#21046;&#22806;&#30340;&#20154;,&#20307;&#21046;&#22806;&#30340;&#20154;&#36890;&#24120;&#26377;&#26576;&#31181;&#20248;&#36234;&#24863;,&#20284;&#20046;&#33258;&#24049;&#30340;&#20154;&#26684;&#25165;&#26159;&#29420;&#31435;&#30340;.&#21487;&#23454;&#38469;&#19978;,&#30495;&#27491;&#24895;&#24847;&#20570;&#20307;&#21046;&#22806;&#30340;&#20154;&#36824;&#26159;&#24456;&#23569;&#30340;,&#32780;&#19988;&#26159;&#24456;&#30171;&#33510;&#30340;.&#20313;&#26480;&#21271;&#22823;&#30805;&#22763;&#27605;&#19994;&#21518;&#24046;&#19968;&#28857;&#36827;&#20102;&#20182;&#24819;&#36827;&#30340;&#22269;&#23478;&#22270;&#20070;&#39302;&#20316;&#19968;&#20010;&#20307;&#21046;&#20869;&#30340;&#20154;,&#21487;&#30001;&#20110;&#20182;&#20889;&#20102;&#19968;&#20123;&#27604;&#36739;&#21453;&#20307;&#21046;&#30340;&#25991;&#31456;,&#26368;&#21518;&#36824;&#26159;&#34987;...\\n\\n                        &#160;(<a href=\"javascript:;\" id=\"toggle-1005528-copy\" class=\"unfold\" title=\"&#23637;&#24320;\">&#23637;&#24320;</a>)\\n                    </div>\\n                </div>\\n\\n                <div id=\"review_1005528_full\" class=\"hidden\">\\n                    <div id=\"review_1005528_full_content\" class=\"full-content\"/>\\n                </div>\\n\\n                <div class=\"action\">\\n                    <a href=\"javascript:;\" class=\"action-btn up\" data-rid=\"1005528\" title=\"&#26377;&#29992;\">\\n                        <img src=\"https://img3.doubanio.com/f/zerkalo/536fd337139250b5fb3cf9e79cb65c6193f8b20b/pics/up.png\"/>\\n                        <span id=\"r-useful_count-1005528\">\\n                                827\\n                        </span>\\n                    </a>\\n                    <a href=\"javascript:;\" class=\"action-btn down\" data-rid=\"1005528\" title=\"&#27809;&#29992;\">\\n                        <img src=\"https://img3.doubanio.com/f/zerkalo/68849027911140623cf338c9845893c4566db851/pics/down.png\"/>\\n                        <span id=\"r-useless_count-1005528\">\\n                                63\\n                        </span>\\n                    </a>\\n                    <a href=\"https://movie.douban.com/review/1005528/#comments\" class=\"reply\">117&#22238;&#24212;</a>\\n\\n                    <a href=\"javascript:;;\" class=\"fold hidden\">&#25910;&#36215;</a>\\n                </div>\\n            </div>\\n        </div>\\n    </div>\\n\\n        \\n    \\n    <div data-cid=\"1062920\">\\n        <div class=\"main review-item\" id=\"1062920\">\\n\\n            \\n    \\n    <header class=\"main-hd\">\\n        <a href=\"https://www.douban.com/people/erichuang/\" class=\"avator\">\\n            <img width=\"24\" height=\"24\" src=\"https://img3.doubanio.com/icon/u1187841-1.jpg\"/>\\n        </a>\\n\\n        <a href=\"https://www.douban.com/people/erichuang/\" class=\"name\">&#27833;&#29190;&#34430;</a>\\n\\n            <span class=\"allstar50 main-title-rating\" title=\"&#21147;&#33616;\"/>\\n\\n        <span content=\"2006-08-03\" class=\"main-meta\">2006-08-03 23:24:54</span>\\n\\n\\n    </header>\\n\\n\\n            <div class=\"main-bd\">\\n\\n                <h2><a href=\"https://movie.douban.com/review/1062920/\">&#12298;&#32918;&#30003;&#20811;&#30340;&#25937;&#36174;&#12299;&#30340;&#19968;&#20123;&#24149;&#21518;&#33457;&#32110;</a></h2>\\n\\n                <div id=\"review_1062920_short\" class=\"review-short\" data-rid=\"1062920\">\\n                    <div class=\"short-content\">\\n\\n                         * &#26159;&#21542;&#35760;&#24471;&#29255;&#23614;&#26377;&#19968;&#34892;&#23383;&#24149;\"In memory of Allen Greene\"&#65311;&#32763;&#35793;&#25104;&#20013;&#25991;&#23601;&#26159;\"&#32426;&#24565;Allen Greene \"&#12290;Allen Greene&#26159;&#12298;&#32918;&#30003;&#20811;&#30340;&#25937;&#36174;&#12299;&#32534;&#23548;Frank Darabont&#30340;&#32463;&#32426;&#20154;&#65292;&#22312;&#24433;&#29255;&#23436;&#25104; &#30340;&#21069;&#22805;&#27515;&#20110;AIDS&#30340;&#24182;&#21457;&#30151;&#12290; &#12288;&#12288; &#12288;&#12288;* &#26159;&#21542;&#35760;&#24471;&#21018;&#26469;&#21040;&#30417;&#29425;&#30340;&#26032;&#22234;&#29359;&#20204;&#36208;&#19979;&#22234;&#36710;&#26102;&#65292;&#22066;&#31505;&#20182;&#20204;&#30340;&#20154;&#32676;&#20013;&#26377;&#19968;&#20010;...\\n\\n                        &#160;(<a href=\"javascript:;\" id=\"toggle-1062920-copy\" class=\"unfold\" title=\"&#23637;&#24320;\">&#23637;&#24320;</a>)\\n                    </div>\\n                </div>\\n\\n                <div id=\"review_1062920_full\" class=\"hidden\">\\n                    <div id=\"review_1062920_full_content\" class=\"full-content\"/>\\n                </div>\\n\\n                <div class=\"action\">\\n                    <a href=\"javascript:;\" class=\"action-btn up\" data-rid=\"1062920\" title=\"&#26377;&#29992;\">\\n                        <img src=\"https://img3.doubanio.com/f/zerkalo/536fd337139250b5fb3cf9e79cb65c6193f8b20b/pics/up.png\"/>\\n                        <span id=\"r-useful_count-1062920\">\\n                                449\\n                        </span>\\n                    </a>\\n                    <a href=\"javascript:;\" class=\"action-btn down\" data-rid=\"1062920\" title=\"&#27809;&#29992;\">\\n                        <img src=\"https://img3.doubanio.com/f/zerkalo/68849027911140623cf338c9845893c4566db851/pics/down.png\"/>\\n                        <span id=\"r-useless_count-1062920\">\\n                                36\\n                        </span>\\n                    </a>\\n                    <a href=\"https://movie.douban.com/review/1062920/#comments\" class=\"reply\">37&#22238;&#24212;</a>\\n\\n                    <a href=\"javascript:;;\" class=\"fold hidden\">&#25910;&#36215;</a>\\n                </div>\\n            </div>\\n        </div>\\n    </div>\\n\\n        \\n    \\n    <div data-cid=\"8848890\">\\n        <div class=\"main review-item\" id=\"8848890\">\\n\\n            \\n    \\n    <header class=\"main-hd\">\\n        <a href=\"https://www.douban.com/people/167539095/\" class=\"avator\">\\n            <img width=\"24\" height=\"24\" src=\"https://img3.doubanio.com/icon/u167539095-1.jpg\"/>\\n        </a>\\n\\n        <a href=\"https://www.douban.com/people/167539095/\" class=\"name\">&#35910;&#29923;&#30340;&#23431;&#23449;</a>\\n\\n            <span class=\"allstar50 main-title-rating\" title=\"&#21147;&#33616;\"/>\\n\\n        <span content=\"2017-10-05\" class=\"main-meta\">2017-10-05 22:18:05</span>\\n\\n            <a class=\"rel-topic\" target=\"_blank\" href=\"//www.douban.com/gallery/topic/&#12298;&#32918;&#30003;&#20811;&#30340;&#25937;&#36174;&#12299;&#21040;&#24213;&#8220;&#25937;&#36174;&#8221;&#20102;&#20160;&#20040;&#65311;\">#&#12298;&#32918;&#30003;&#20811;&#30340;&#25937;&#36174;&#12299;&#21040;&#24213;&#8220;&#25937;&#36174;&#8221;&#20102;&#20160;&#20040;&#65311;</a>\\n\\n    </header>\\n\\n\\n            <div class=\"main-bd\">\\n\\n                <h2><a href=\"https://movie.douban.com/review/8848890/\">&#20851;&#20110;&#8220;&#25937;&#36174;&#8221;</a></h2>\\n\\n                <div id=\"review_8848890_short\" class=\"review-short\" data-rid=\"8848890\">\\n                    <div class=\"short-content\">\\n                            <p class=\"spoiler-tip\">&#36825;&#31687;&#24433;&#35780;&#21487;&#33021;&#26377;&#21095;&#36879;</p>\\n\\n                        &#20010;&#20154;&#24863;&#35273;&#65292;&#12298;&#32918;&#30003;&#20811;&#30340;&#25937;&#36174;&#12299;&#65288;The Shawshank Redemption&#65289;&#20013;&#30340;Redemption&#30340;&#24847;&#24605;&#26159;&#8220;&#36174;&#22238;;&#20607;&#36824;;&#34917;&#25937;&#8221;&#65292;&#22240;&#27492;&#8220;&#25937;&#36174;&#8221;&#38750;&#24120;&#23436;&#32654;&#22320;&#35299;&#37322;&#20102;&#36825;&#37096;&#30005;&#24433;&#30340;&#20027;&#39064;&#65292;&#22260;&#32469;&#8220;&#25937;&#36174;&#8221;&#20027;&#39064;&#30340;&#26159;&#65306; 1&#65292;&#23433;&#36842;&#23545;&#33258;&#24049;&#30340;&#25937;&#36174;&#65306;&#20174;&#19968;&#24320;&#22987;&#19981;&#35753;&#33258;&#24049;&#27814;&#38519;&#20110;&#30417;&#29425;&#29983;&#27963;&#65288;&#23545;&#27604;&#20110;&#21644;&#20182;&#21516;&#26102;&#20837;&#29425;&#30340;&#32982;&#23376;&#31532;&#19968;&#26202;&#23601;&#21463;&#19981;&#20102;&#65289;...\\n\\n                        &#160;(<a href=\"javascript:;\" id=\"toggle-8848890-copy\" class=\"unfold\" title=\"&#23637;&#24320;\">&#23637;&#24320;</a>)\\n                    </div>\\n                </div>\\n\\n                <div id=\"review_8848890_full\" class=\"hidden\">\\n                    <div id=\"review_8848890_full_content\" class=\"full-content\"/>\\n                </div>\\n\\n                <div class=\"action\">\\n                    <a href=\"javascript:;\" class=\"action-btn up\" data-rid=\"8848890\" title=\"&#26377;&#29992;\">\\n                        <img src=\"https://img3.doubanio.com/f/zerkalo/536fd337139250b5fb3cf9e79cb65c6193f8b20b/pics/up.png\"/>\\n                        <span id=\"r-useful_count-8848890\">\\n                                838\\n                        </span>\\n                    </a>\\n                    <a href=\"javascript:;\" class=\"action-btn down\" data-rid=\"8848890\" title=\"&#27809;&#29992;\">\\n                        <img src=\"https://img3.doubanio.com/f/zerkalo/68849027911140623cf338c9845893c4566db851/pics/down.png\"/>\\n                        <span id=\"r-useless_count-8848890\">\\n                                80\\n                        </span>\\n                    </a>\\n                    <a href=\"https://movie.douban.com/review/8848890/#comments\" class=\"reply\">7&#22238;&#24212;</a>\\n\\n                    <a href=\"javascript:;;\" class=\"fold hidden\">&#25910;&#36215;</a>\\n                </div>\\n            </div>\\n        </div>\\n    </div>\\n\\n        \\n    \\n    <div data-cid=\"8649949\">\\n        <div class=\"main review-item\" id=\"8649949\">\\n\\n            \\n    \\n    <header class=\"main-hd\">\\n        <a href=\"https://www.douban.com/people/131064354/\" class=\"avator\">\\n            <img width=\"24\" height=\"24\" src=\"https://img1.doubanio.com/icon/u131064354-8.jpg\"/>\\n        </a>\\n\\n        <a href=\"https://www.douban.com/people/131064354/\" class=\"name\">&#22909;&#32654;&#30340;&#32654;&#22909;</a>\\n\\n            <span class=\"allstar50 main-title-rating\" title=\"&#21147;&#33616;\"/>\\n\\n        <span content=\"2017-07-07\" class=\"main-meta\">2017-07-07 15:18:50</span>\\n\\n\\n    </header>\\n\\n\\n            <div class=\"main-bd\">\\n\\n                <h2><a href=\"https://movie.douban.com/review/8649949/\">&#12298;&#32918;&#30003;&#20811;&#30340;&#25937;&#36174;&#12299;&#21488;&#35789;&#25972;&#29702;</a></h2>\\n\\n                <div id=\"review_8649949_short\" class=\"review-short\" data-rid=\"8649949\">\\n                    <div class=\"short-content\">\\n\\n                        1&#65294;It takes a strong man to save himself, and a great man to save another. &#24378;&#32773;&#25937;&#36174;&#33258;&#24049;&#65292;&#22307;&#20154;&#26222;&#24230;&#20182;&#20154; 2&#65294;Hope is a good thing, maybe the best of things, and no good thing ever dies. &#24076;&#26395;&#26159;&#32654;&#22909;&#30340;&#65292;&#20063;&#35768;&#26159;&#20154;&#38388;&#33267;&#21892;&#65292;&#32780;&#32654;&#22909;&#30340;&#20107;&#29289;&#27704;&#19981;&#28040;&#36893;&#12290; 3&#65294;I find I\\'m so excit...\\n\\n                        &#160;(<a href=\"javascript:;\" id=\"toggle-8649949-copy\" class=\"unfold\" title=\"&#23637;&#24320;\">&#23637;&#24320;</a>)\\n                    </div>\\n                </div>\\n\\n                <div id=\"review_8649949_full\" class=\"hidden\">\\n                    <div id=\"review_8649949_full_content\" class=\"full-content\"/>\\n                </div>\\n\\n                <div class=\"action\">\\n                    <a href=\"javascript:;\" class=\"action-btn up\" data-rid=\"8649949\" title=\"&#26377;&#29992;\">\\n                        <img src=\"https://img3.doubanio.com/f/zerkalo/536fd337139250b5fb3cf9e79cb65c6193f8b20b/pics/up.png\"/>\\n                        <span id=\"r-useful_count-8649949\">\\n                                501\\n                        </span>\\n                    </a>\\n                    <a href=\"javascript:;\" class=\"action-btn down\" data-rid=\"8649949\" title=\"&#27809;&#29992;\">\\n                        <img src=\"https://img3.doubanio.com/f/zerkalo/68849027911140623cf338c9845893c4566db851/pics/down.png\"/>\\n                        <span id=\"r-useless_count-8649949\">\\n                                21\\n                        </span>\\n                    </a>\\n                    <a href=\"https://movie.douban.com/review/8649949/#comments\" class=\"reply\">10&#22238;&#24212;</a>\\n\\n                    <a href=\"javascript:;;\" class=\"fold hidden\">&#25910;&#36215;</a>\\n                </div>\\n            </div>\\n        </div>\\n    </div>\\n\\n\\n\\n\\n    \\n\\n    \\n\\n    <script type=\"text/javascript\" src=\"https://img3.doubanio.com/misc/mixed_static/12cc779e8972e49e.js\"/>\\n    <!-- COLLECTED CSS -->\\n</div>\\n\\n\\n\\n\\n\\n\\n\\n\\n            <p class=\"pl\">\\n                &gt;\\n                <a href=\"reviews\">\\n                    &#26356;&#22810;&#24433;&#35780;7188&#31687;\\n                </a>\\n            </p>\\n</section>\\n\\n<!-- COLLECTED JS -->\\n\\n    <br/>\\n\\n        <div class=\"section-discussion\">\\n                \\n                <div class=\"mod-hd\">\\n                        <a class=\"comment_btn j a_show_login\" href=\"https://www.douban.com/register?reason=review\" rel=\"nofollow\"><span>&#28155;&#21152;&#26032;&#35752;&#35770;</span></a>\\n                    \\n    <h2>\\n        &#35752;&#35770;&#21306;\\n         &#160; &#183;&#160; &#183;&#160; &#183;&#160; &#183;&#160; &#183;&#160; &#183;\\n    </h2>\\n\\n                </div>\\n                \\n  <table class=\"olt\"><tr><td/><td/><td/><td/></tr>\\n        \\n        <tr>\\n          <td class=\"pl\"><a href=\"https://movie.douban.com/subject/1292052/discussion/21560710/\" title=\"&#27604;&#36215;&#21050;&#38517;&#24046;&#36828;&#20102;&#65281;\">&#27604;&#36215;&#21050;&#38517;&#24046;&#36828;&#20102;&#65281;</a></td>\\n          <td class=\"pl\"><span>&#26469;&#33258;</span><a href=\"https://www.douban.com/people/2099608/\">&#20154;&#32905;&#21449;&#28903;&#21253;&#37038;&#21734;</a></td>\\n          <td class=\"pl\"><span>154 &#22238;&#24212;</span></td>\\n          <td class=\"pl\"><span>2018-11-29</span></td>\\n        </tr>\\n        \\n        <tr>\\n          <td class=\"pl\"><a href=\"https://movie.douban.com/subject/1292052/discussion/53114846/\" title=\"&#27599;&#22825;&#27880;&#20876;&#20116;&#20010;&#25171;&#19968;&#20998;\">&#27599;&#22825;&#27880;&#20876;&#20116;&#20010;&#25171;&#19968;&#20998;</a></td>\\n          <td class=\"pl\"><span>&#26469;&#33258;</span><a href=\"https://www.douban.com/people/72134119/\">&#21517;&#26376;</a></td>\\n          <td class=\"pl\"><span>135 &#22238;&#24212;</span></td>\\n          <td class=\"pl\"><span>2018-11-29</span></td>\\n        </tr>\\n        \\n        <tr>\\n          <td class=\"pl\"><a href=\"https://movie.douban.com/subject/1292052/discussion/615882171/\" title=\"&#30475;&#25171;&#20998;&#27604;&#20363;&#65292;2019&#24180;&#20250;&#36798;&#21040;9.7&#20998;\">&#30475;&#25171;&#20998;&#27604;&#20363;&#65292;2019&#24180;&#20250;&#36798;&#21040;9.7&#20998;</a></td>\\n          <td class=\"pl\"><span>&#26469;&#33258;</span><a href=\"https://www.douban.com/people/148083119/\">melo</a></td>\\n          <td class=\"pl\"><span>2 &#22238;&#24212;</span></td>\\n          <td class=\"pl\"><span>2018-11-28</span></td>\\n        </tr>\\n        \\n        <tr>\\n          <td class=\"pl\"><a href=\"https://movie.douban.com/subject/1292052/discussion/615643978/\" title=\"&#20026;&#20160;&#20040;&#36825;&#31181;&#35780;&#20998;&#24456;&#39640;&#30340;&#30005;&#24433;&#35780;&#35770;&#21306;&#24635;&#26377;&#20154;&#36393;&#65311;\">&#20026;&#20160;&#20040;&#36825;&#31181;&#35780;&#20998;&#24456;&#39640;&#30340;&#30005;&#24433;&#35780;&#35770;&#21306;&#24635;&#26377;&#20154;&#36393;&#65311;</a></td>\\n          <td class=\"pl\"><span>&#26469;&#33258;</span><a href=\"https://www.douban.com/people/151691041/\">&#25913;&#20010;id&#35813;&#21483;&#21861;</a></td>\\n          <td class=\"pl\"><span>47 &#22238;&#24212;</span></td>\\n          <td class=\"pl\"><span>2018-11-28</span></td>\\n        </tr>\\n        \\n        <tr>\\n          <td class=\"pl\"><a href=\"https://movie.douban.com/subject/1292052/discussion/615670892/\" title=\"&#32918;&#30003;&#20811;&#30340;&#20027;&#39064;&#21313;&#20998;&#40657;&#26263;\">&#32918;&#30003;&#20811;&#30340;&#20027;&#39064;&#21313;&#20998;&#40657;&#26263;</a></td>\\n          <td class=\"pl\"><span>&#26469;&#33258;</span><a href=\"https://www.douban.com/people/144178738/\">&#22825;&#40517;&#28246;</a></td>\\n          <td class=\"pl\"><span>40 &#22238;&#24212;</span></td>\\n          <td class=\"pl\"><span>2018-11-28</span></td>\\n        </tr>\\n  </table>\\n\\n                <p class=\"pl\" align=\"right\">\\n                    <a href=\"/subject/1292052/discussion/\" rel=\"nofollow\">\\n                        &gt; &#21435;&#36825;&#37096;&#24433;&#29255;&#30340;&#35752;&#35770;&#21306;&#65288;&#20840;&#37096;905&#26465;&#65289;\\n                    </a>\\n                </p>\\n        </div>\\n\\n        \\n    \\n        \\n                \\n\\n\\n\\n\\n\\n<div id=\"askmatrix\">\\n    <div class=\"mod-hd\">\\n        <h2>\\n            &#20851;&#20110;&#12298;&#32918;&#30003;&#20811;&#30340;&#25937;&#36174;&#12299;&#30340;&#38382;&#39064;\\n            &#183; &#183; &#183; &#183; &#183; &#183;\\n            <span class=\"pl\">\\n                (<a href=\"https://movie.douban.com/subject/1292052/questions/?from=subject\">\\n                    &#20840;&#37096;82&#20010;\\n                </a>)\\n            </span>\\n        </h2>\\n\\n\\n        \\n    \\n    <a class=\"j a_show_login comment_btn\" href=\"https://movie.douban.com/subject/1292052/questions/ask/?from=subject\">&#25105;&#26469;&#25552;&#38382;</a>\\n\\n    </div>\\n\\n    <div class=\"mod-bd\">\\n        <ul class=\"\">\\n            <li class=\"\">\\n                <span class=\"tit\">\\n                    <a href=\"https://movie.douban.com/subject/1292052/questions/200/?from=subject\" class=\"\">\\n                            95&#24180;&#30340;&#22885;&#26031;&#21345;&#22870;&#32918;&#30003;&#20811;&#36133;&#32473;&#20102;&#38463;&#29976;&#27491;&#20256;&#65292;&#24590;&#20040;&#35780;&#20215;&#36825;&#20214;&#20107;&#65311;\\n                    </a>\\n                </span>\\n                <span class=\"meta\">\\n                    57&#20154;&#22238;&#31572;\\n                </span>\\n            </li>\\n            <li class=\"\">\\n                <span class=\"tit\">\\n                    <a href=\"https://movie.douban.com/subject/1292052/questions/2888/?from=subject\" class=\"\">\\n                            Red&#20043;&#21069;&#37027;&#20040;&#22810;&#27425;&#20026;&#20160;&#20040;&#37117;&#27809;&#26377;&#25209;&#20934;&#65292;&#26368;&#21518;&#24868;&#24594;&#21364;&#34987;&#25209;&#65311;\\n                    </a>\\n                </span>\\n                <span class=\"meta\">\\n                    52&#20154;&#22238;&#31572;\\n                </span>\\n            </li>\\n        </ul>\\n\\n        <p>&gt;\\n            <a href=\"https://movie.douban.com/subject/1292052/questions/?from=subject\">\\n                &#20840;&#37096;82&#20010;&#38382;&#39064;\\n            </a>\\n        </p>\\n\\n    </div>\\n</div>\\n\\n\\n\\n            \\n\\n\\n    <script type=\"text/javascript\">\\n        $(function(){if($.browser.msie &amp;&amp; $.browser.version == 6.0){\\n            var $info = $(\\'#info\\'),\\n                maxWidth = parseInt($info.css(\\'max-width\\'));\\n            if($info.width() &gt; maxWidth) {\\n                $info.width(maxWidth);\\n            }\\n        }});\\n    </script>\\n\\n\\n            </div>\\n            <div class=\"aside\">\\n                \\n\\n\\n    \\n\\n\\n\\n\\n\\n\\n\\n\\n        \\n\\n\\n\\n\\n\\n\\n    \\n\\n<script id=\"episode-tmpl\" type=\"text/x-jsrender\">\\n&lt;div id=\"tv-play-source\" class=\"play-source\"&gt;\\n    &lt;div class=\"cross\"&gt;\\n        &lt;span style=\"color:#494949; font-size:16px\"&gt;{{:cn}}&lt;/span&gt;\\n        &lt;span style=\"cursor:pointer\"&gt;&#10005;&lt;/span&gt;\\n    &lt;/div&gt;\\n    &lt;div class=\"episode-list\"&gt;\\n        {{for playlist}}\\n            &lt;a href=\"{{:play_link}}&amp;episode={{:ep}}\" target=\"_blank\"&gt;{{:ep}}&#38598;&lt;/a&gt;\\n        {{/for}}\\n     &lt;div&gt;\\n &lt;/div&gt;\\n</script>\\n\\n<div class=\"gray_ad\">\\n    \\n    <h2>\\n        &#22312;&#21738;&#20799;&#30475;&#36825;&#37096;&#30005;&#24433;\\n            &#160;&#183;&#160;&#183;&#160;&#183;&#160;&#183;&#160;&#183;&#160;&#183;\\n    </h2>\\n\\n    \\n    <ul class=\"bs\">\\n                <li>\\n                        <a class=\"playBtn\" data-cn=\"&#20248;&#37239;&#35270;&#39057;\" href=\"https://www.douban.com/link2/?url=http%3A%2F%2Fcps.youku.com%2Fredirect.html%3Fid%3D0000a213%26url%3Dhttp%3A%2F%2Fv.youku.com%2Fv_show%2Fid_XMjgwNDkwNzE2.html&amp;subtype=3&amp;type=online-video\" target=\"_blank\">\\n                            &#20248;&#37239;&#35270;&#39057;\\n                        </a>\\n                    <span class=\"buylink-price\"><span>\\n                        VIP&#25910;&#36153;\\n                    </span></span>\\n                </li>\\n                <li>\\n                        <a class=\"playBtn\" data-cn=\"&#25628;&#29392;&#35270;&#39057;\" href=\"https://www.douban.com/link2/?url=http%3A%2F%2Ffilm.sohu.com%2Falbum%2F1008593.html&amp;subtype=2&amp;type=online-video\" target=\"_blank\">\\n                            &#25628;&#29392;&#35270;&#39057;\\n                        </a>\\n                    <span class=\"buylink-price\"><span>\\n                        VIP&#20813;&#36153;\\n                    </span></span>\\n                </li>\\n                <li>\\n                        <a class=\"playBtn\" data-cn=\"&#29233;&#22855;&#33402;&#35270;&#39057;\" href=\"https://www.douban.com/link2/?url=http%3A%2F%2Fwww.iqiyi.com%2Fv_19rra0h3wg.html%3Fvfm%3Dm_331_dbdy%26fv%3D4904d94982104144a1548dd9040df241&amp;subtype=9&amp;type=online-video\" target=\"_blank\">\\n                            &#29233;&#22855;&#33402;&#35270;&#39057;\\n                        </a>\\n                    <span class=\"buylink-price\"><span>\\n                        VIP&#20813;&#36153;\\n                    </span></span>\\n                </li>\\n                <li>\\n                        <a class=\"playBtn\" data-cn=\"&#33150;&#35759;&#35270;&#39057;\" href=\"https://www.douban.com/link2/?url=http%3A%2F%2Fv.qq.com%2Fx%2Fcover%2F1o29ui77e85grdr.html%3Fptag%3Ddouban.movie&amp;subtype=1&amp;type=online-video\" target=\"_blank\">\\n                            &#33150;&#35759;&#35270;&#39057;\\n                        </a>\\n                    <span class=\"buylink-price\"><span>\\n                        VIP&#20813;&#36153;\\n                    </span></span>\\n                </li>\\n\\n    </ul>\\n</div>\\n\\n\\n    <!-- douban ad begin -->\\n    <div id=\"dale_movie_subject_top_right\"/>\\n    <div id=\"dale_movie_subject_top_middle\"/>\\n    <!-- douban ad end -->\\n\\n    \\n\\n\\n\\n<style type=\"text/css\">\\n    .m4 {margin-bottom:8px; padding-bottom:8px;}\\n    .movieOnline {background:#FFF6ED; padding:10px; margin-bottom:20px;}\\n    .movieOnline h2 {margin:0 0 5px;}\\n    .movieOnline .sitename {line-height:2em; width:160px;}\\n    .movieOnline td,.movieOnline td a:link,.movieOnline td a:visited{color:#666;}\\n    .movieOnline td a:hover {color:#fff;}\\n    .link-bt:link,\\n    .link-bt:visited,\\n    .link-bt:hover,\\n    .link-bt:active {margin:5px 0 0; padding:2px 8px; background:#a8c598; color:#fff; -moz-border-radius: 3px; -webkit-border-radius: 3px; border-radius: 3px; display:inline-block;}\\n</style>\\n\\n    <div class=\"gray_ad\">\\n        \\n    <h2>\\n        &#26412;&#29255;&#21407;&#22768;&#27491;&#22312;&#25773;&#25918;\\n            &#160;&#183;&#160;&#183;&#160;&#183;&#160;&#183;&#160;&#183;&#160;&#183;\\n    </h2>\\n\\n        <a target=\"_blank\" href=\"https://music.douban.com/subject/26799887/\">&#21435;&#35910;&#29923;&#38899;&#20048;&#25910;&#21548;</a>\\n\\n    </div>\\n\\n\\n    \\n\\n\\n\\n\\n\\n\\n\\n    \\n    <div class=\"tags\">\\n        \\n        \\n    <h2>\\n        <i class=\"\">&#35910;&#29923;&#25104;&#21592;&#24120;&#29992;&#30340;&#26631;&#31614;</i>\\n              &#183; &#183; &#183; &#183; &#183; &#183;\\n    </h2>\\n\\n        <div class=\"tags-body\">\\n                <a href=\"/tag/&#32463;&#20856;\" class=\"\">&#32463;&#20856;</a>\\n                <a href=\"/tag/&#21169;&#24535;\" class=\"\">&#21169;&#24535;</a>\\n                <a href=\"/tag/&#20449;&#24565;\" class=\"\">&#20449;&#24565;</a>\\n                <a href=\"/tag/&#33258;&#30001;\" class=\"\">&#33258;&#30001;</a>\\n                <a href=\"/tag/&#20154;&#24615;\" class=\"\">&#20154;&#24615;</a>\\n                <a href=\"/tag/&#32654;&#22269;\" class=\"\">&#32654;&#22269;</a>\\n                <a href=\"/tag/&#20154;&#29983;\" class=\"\">&#20154;&#29983;</a>\\n                <a href=\"/tag/&#21095;&#24773;\" class=\"\">&#21095;&#24773;</a>\\n        </div>\\n    </div>\\n\\n\\n    <div id=\"dale_movie_subject_inner_middle\"/>\\n    <div id=\"dale_movie_subject_download_middle\"/>\\n        \\n\\n\\n\\n\\n\\n\\n\\n\\n<div id=\"subject-doulist\">\\n    \\n    \\n    <h2>\\n        <i class=\"\">&#20197;&#19979;&#35910;&#21015;&#25512;&#33616;</i>\\n              &#183; &#183; &#183; &#183; &#183; &#183;\\n            <span class=\"pl\">\\n            (\\n                <a href=\"https://movie.douban.com/subject/1292052/doulists\">&#20840;&#37096;</a>\\n            )\\n            </span>\\n    </h2>\\n\\n\\n    \\n    <ul>\\n            <li>\\n                <a href=\"https://www.douban.com/doulist/240962/\" target=\"_blank\">&#9733;&#35910;&#29923;&#39640;&#20998;&#30005;&#24433;&#27036;&#9733; &#65288;&#19978;&#65289;9.7-8.6&#20998;</a>\\n                <span>(&#24433;&#24535;)</span>\\n            </li>\\n            <li>\\n                <a href=\"https://www.douban.com/doulist/107486/\" target=\"_blank\">&#12304;&#35910;&#29923;&#20116;&#26143;&#30005;&#24433;&#38598;&#20013;&#33829;&#12305;(1/3)</a>\\n                <span>(&#24433;&#24535;)</span>\\n            </li>\\n            <li>\\n                <a href=\"https://www.douban.com/doulist/13370/\" target=\"_blank\">&#12304;&#21169;&#24535;&#30005;&#24433;&#12305;</a>\\n                <span>(&#24433;&#24535;)</span>\\n            </li>\\n            <li>\\n                <a href=\"https://www.douban.com/doulist/65439/\" target=\"_blank\">&#20182;&#20204;&#26159;&#39640;&#26234;&#21830;&#29609;&#23478;</a>\\n                <span>(&#20013;&#38388;&#20803;&#32032;)</span>\\n            </li>\\n            <li>\\n                <a href=\"https://www.douban.com/doulist/225637/\" target=\"_blank\">&#37027;&#20123;&#21644;&#35856;&#30340;&#33104;&#21095;&#65292;&#33104;&#21160;&#30011;&#65292;&#33104;&#30005;&#24433;&#20204;&#12290;</a>\\n                <span>(&#22696;  &#23576;)</span>\\n            </li>\\n    </ul>\\n\\n</div>\\n\\n        \\n\\n\\n\\n\\n\\n\\n\\n\\n<div id=\"subject-others-interests\">\\n    \\n    \\n    <h2>\\n        <i class=\"\">&#35841;&#22312;&#30475;&#36825;&#37096;&#30005;&#24433;</i>\\n              &#183; &#183; &#183; &#183; &#183; &#183;\\n    </h2>\\n\\n    \\n    <ul class=\"\">\\n    </ul>\\n\\n    \\n    <div class=\"subject-others-interests-ft\">\\n        \\n            <a href=\"https://movie.douban.com/subject/1292052/collections\">1512171&#20154;&#30475;&#36807;</a>\\n                &#160;/&#160;\\n            <a href=\"https://movie.douban.com/subject/1292052/wishes\">148845&#20154;&#24819;&#30475;</a>\\n    </div>\\n\\n</div>\\n\\n\\n\\n    \\n    \\n\\n<!-- douban ad begin -->\\n<div id=\"dale_movie_subject_middle_right\"/>\\n<script type=\"text/javascript\">\\n    (function (global) {\\n        if(!document.getElementsByClassName) {\\n            document.getElementsByClassName = function(className) {\\n                return this.querySelectorAll(\".\" + className);\\n            };\\n            Element.prototype.getElementsByClassName = document.getElementsByClassName;\\n\\n        }\\n        var articles = global.document.getElementsByClassName(\\'article\\'),\\n            asides = global.document.getElementsByClassName(\\'aside\\');\\n\\n        if (articles.length &gt; 0 &amp;&amp; asides.length &gt; 0 &amp;&amp; articles[0].offsetHeight &gt;= asides[0].offsetHeight) {\\n            (global.DoubanAdSlots = global.DoubanAdSlots || []).push(\\'dale_movie_subject_middle_right\\');\\n        }\\n    })(this);\\n</script>\\n<!-- douban ad end -->\\n\\n\\n\\n    <br/>\\n\\n    \\n<p class=\"pl\">&#35746;&#38405;&#32918;&#30003;&#20811;&#30340;&#25937;&#36174;&#30340;&#35780;&#35770;: <br/><span class=\"feed\">\\n    <a href=\"https://movie.douban.com/feed/subject/1292052/reviews\"> feed: rss 2.0</a></span></p>\\n\\n\\n            </div>\\n            <div class=\"extra\">\\n                \\n    \\n<!-- douban ad begin -->\\n<div id=\"dale_movie_subject_bottom_super_banner\"/>\\n<script type=\"text/javascript\">\\n    (function (global) {\\n        var body = global.document.body,\\n            html = global.document.documentElement;\\n\\n        var height = Math.max(body.scrollHeight, body.offsetHeight, html.clientHeight, html.scrollHeight, html.offsetHeight);\\n        if (height &gt;= 2000) {\\n            (global.DoubanAdSlots = global.DoubanAdSlots || []).push(\\'dale_movie_subject_bottom_super_banner\\');\\n        }\\n    })(this);\\n</script>\\n<!-- douban ad end -->\\n\\n\\n            </div>\\n        </div>\\n    </div>\\n\\n        \\n    <div id=\"footer\">\\n            <div class=\"footer-extra\"/>\\n        \\n<span id=\"icp\" class=\"fleft gray-link\">\\n    &#169; 2005&#65293;2018 douban.com, all rights reserved &#21271;&#20140;&#35910;&#32593;&#31185;&#25216;&#26377;&#38480;&#20844;&#21496;\\n</span>\\n\\n<a href=\"https://www.douban.com/hnypt/variformcyst.py\" style=\"display: none;\"/>\\n\\n<span class=\"fright\">\\n    <a href=\"https://www.douban.com/about\">&#20851;&#20110;&#35910;&#29923;</a>\\n    &#183; <a href=\"https://www.douban.com/jobs\">&#22312;&#35910;&#29923;&#24037;&#20316;</a>\\n    &#183; <a href=\"https://www.douban.com/about?topic=contactus\">&#32852;&#31995;&#25105;&#20204;</a>\\n    &#183; <a href=\"https://www.douban.com/about?policy=disclaimer\">&#20813;&#36131;&#22768;&#26126;</a>\\n    \\n    &#183; <a href=\"https://help.douban.com/?app=movie\" target=\"_blank\">&#24110;&#21161;&#20013;&#24515;</a>\\n    &#183; <a href=\"https://www.douban.com/doubanapp/\">&#31227;&#21160;&#24212;&#29992;</a>\\n    &#183; <a href=\"https://www.douban.com/partner/\">&#35910;&#29923;&#24191;&#21578;</a>\\n</span>\\n\\n    </div>\\n\\n    </div>\\n    <script type=\"text/javascript\" src=\"https://img3.doubanio.com/misc/mixed_static/84e344dd832eda3.js\"/>\\n        \\n        \\n    <link rel=\"stylesheet\" type=\"text/css\" href=\"https://img3.doubanio.com/f/shire/8377b9498330a2e6f056d863987cc7a37eb4d486/css/ui/dialog.css\"/>\\n    <link rel=\"stylesheet\" type=\"text/css\" href=\"https://img3.doubanio.com/f/movie/1d829b8605b9e81435b127cbf3d16563aaa51838/css/movie/mod/reg_login_pop.css\"/>\\n    <script type=\"text/javascript\" src=\"https://img3.doubanio.com/f/shire/77323ae72a612bba8b65f845491513ff3329b1bb/js/do.js\" data-cfg-autoload=\"false\"/>\\n    <script type=\"text/javascript\" src=\"https://img3.doubanio.com/f/shire/4ea3216519a6183c7bcd4f7d1a6d4fd57ce1a244/js/ui/dialog.js\"/>\\n    <script type=\"text/javascript\">\\n        var HTTPS_DB=\\'https://www.douban.com\\';\\nvar account_pop={open:function(o,e){e?referrer=\"?referrer=\"+encodeURIComponent(e):referrer=\"?referrer=\"+window.location.href;var n=\"\",i=\"\",t=382;\"reg\"===o?(n=\"&#29992;&#25143;&#27880;&#20876;\",i=\"https://accounts.douban.com/popup/login?source=movie#popup_register\",t=480):\"login\"===o&amp;&amp;(n=\"&#29992;&#25143;&#30331;&#24405;\",i=\"https://accounts.douban.com/popup/login?source=movie\");var r=document.location.protocol+\"//\"+document.location.hostname,a=dui.Dialog({width:478,title:n,height:t,cls:\"account_pop\",isHideTitle:!0,modal:!0,content:\"&lt;iframe scrolling=\\'no\\' frameborder=\\'0\\' width=\\'478\\' height=\\'\"+t+\"\\' src=\\'\"+i+\"\\' name=\\'\"+r+\"\\'&gt;&lt;/iframe&gt;\"},!0),c=a.node;if(c.undelegate(),c.delegate(\".dui-dialog-close\",\"click\",function(){var o=$(\"body\");o.find(\"#login_msk\").hide(),o.find(\".account_pop\").remove()}),$(window).width()&lt;478){var u=\"\";\"reg\"===o?u=HTTPS_DB+\"/accounts/register\"+referrer:\"login\"===o&amp;&amp;(u=HTTPS_DB+\"/accounts/login\"+referrer),window.location.href=u}else a.open();$(window).bind(\"message\",function(o){\"https://accounts.douban.com\"===o.originalEvent.origin&amp;&amp;(c.find(\"iframe\").css(\"height\",o.originalEvent.data),c.height(o.originalEvent.data),a.update())})}};Douban&amp;&amp;Douban.init_show_login&amp;&amp;(Douban.init_show_login=function(o){var e=$(o);e.click(function(){var o=e.data(\"ref\")||\"\";return account_pop.open(\"login\",o),!1})}),Do(function(){$(\"body\").delegate(\".pop_register\",\"click\",function(o){o.preventDefault();var e=$(this).data(\"ref\")||\"\";return account_pop.open(\"reg\",e),!1}),$(\"body\").delegate(\".pop_login\",\"click\",function(o){o.preventDefault();var e=$(this).data(\"ref\")||\"\";return account_pop.open(\"login\",e),!1})});\\n    </script>\\n\\n    \\n    \\n    \\n    \\n\\n\\n\\n\\n    \\n<script type=\"text/javascript\">\\n    (function (global) {\\n        var newNode = global.document.createElement(\\'script\\'),\\n            existingNode = global.document.getElementsByTagName(\\'script\\')[0],\\n            adSource = \\'//erebor.douban.com/\\',\\n            userId = \\'\\',\\n            browserId = \\'RpZ_dHntJ28\\',\\n            criteria = \\'7:&#20811;&#20848;&#35199;&#183;&#24067;&#26391;|7:&#39532;&#20811;&#183;&#32599;&#26031;&#39039;|7:&#35449;&#22982;&#26031;&#183;&#24800;&#29305;&#25705;|7:&#29359;&#32618;|7:&#20445;&#32599;&#183;&#40614;&#20811;&#20848;&#23612;|7:&#40077;&#21187;&#183;&#20872;&#39039;|7:&#21169;&#24535;|7:&#21095;&#24773;|7:&#20449;&#24565;|7:&#25289;&#37324;&#183;&#24067;&#20848;&#30331;&#20271;&#26684;|7:&#24067;&#36182;&#24681;&#183;&#21033;&#27604;|7:&#32463;&#20856;|7:&#20154;&#29983;|7:&#23041;&#24265;&#22982;&#183;&#36187;&#24503;&#21202;|7:&#24343;&#20848;&#20811;&#183;&#26757;&#24503;&#25289;&#35834;|7:&#25705;&#26681;&#183;&#24343;&#37324;&#26364;|7:&#32422;&#29791;&#22827;&#183;&#21171;&#26684;&#35834;|7:&#26480;&#24343;&#37324;&#183;&#24503;&#26364;|7:&#38463;&#26041;&#32034;&#183;&#24343;&#37324;&#26364;|7:&#33454;&#22958;&#183;&#24067;&#33713;&#24681;|7:&#32654;&#22269;|7:&#24343;&#20848;&#20811;&#183;&#24503;&#25289;&#37030;&#29305;|7:&#33922;&#22982;&#183;&#32599;&#23486;&#26031;|7:&#24076;&#26395;|7:&#20154;&#24615;|7:&#33258;&#30001;|7:1994|7:&#22823;&#21355;&#183;&#26222;&#32599;&#29926;&#23572;|7:&#21513;&#23572;&#183;&#36125;&#32599;&#26031;|7:&#31062;&#24503;&#183;&#22622;&#20811;&#21033;&#25289;|7:V&#183;J&#183;&#31119;&#26031;&#29305;|7:&#23612;&#23572;&#183;&#21513;&#24681;&#25176;&#21033;|3:/subject/1292052/\\',\\n            preview = \\'\\',\\n            debug = false,\\n            adSlots = [\\'dale_movie_subject_top_icon\\', \\'dale_movie_subject_top_right\\', \\'dale_movie_subject_top_middle\\', \\'dale_movie_subject_inner_middle\\', \\'dale_movie_subject_download_middle\\'];\\n\\n        global.DoubanAdRequest = {src: adSource, uid: userId, bid: browserId, crtr: criteria, prv: preview, debug: debug};\\n        global.DoubanAdSlots = (global.DoubanAdSlots || []).concat(adSlots);\\n\\n        newNode.setAttribute(\\'type\\', \\'text/javascript\\');\\n        newNode.setAttribute(\\'src\\', \\'https://img3.doubanio.com/f/adjs/039f4c0c15b5aa50e8bb29995dd17286658d78b5/ad.release.js\\');\\n        newNode.setAttribute(\\'async\\', true);\\n        existingNode.parentNode.insertBefore(newNode, existingNode);\\n    })(this);\\n</script>\\n\\n\\n\\n\\n\\n\\n\\n\\n\\n\\n\\n    \\n  \\n\\n\\n\\n\\n\\n\\n\\n\\n\\n<script type=\"text/javascript\">\\nvar _paq = _paq || [];\\n_paq.push([\\'trackPageView\\']);\\n_paq.push([\\'enableLinkTracking\\']);\\n(function() {\\n    var p=((\\'https:\\' == document.location.protocol) ? \\'https\\' : \\'http\\'), u=p+\\'://fundin.douban.com/\\';\\n    _paq.push([\\'setTrackerUrl\\', u+\\'piwik\\']);\\n    _paq.push([\\'setSiteId\\', \\'100001\\']);\\n    var d=document, g=d.createElement(\\'script\\'), s=d.getElementsByTagName(\\'script\\')[0];\\n    g.type=\\'text/javascript\\';\\n    g.defer=true;\\n    g.async=true;\\n    g.src=p+\\'://img3.doubanio.com/dae/fundin/piwik.js\\';\\n    s.parentNode.insertBefore(g,s);\\n})();\\n</script>\\n\\n<script type=\"text/javascript\">\\nvar setMethodWithNs = function(namespace) {\\n  var ns = namespace ? namespace + \\'.\\' : \\'\\'\\n    , fn = function(string) {\\n        if(!ns) {return string}\\n        return ns + string\\n      }\\n  return fn\\n}\\n\\nvar gaWithNamespace = function(fn, namespace) {\\n  var method = setMethodWithNs(namespace)\\n  fn.call(this, method)\\n}\\n\\nvar _gaq = _gaq || []\\n  , accounts = [\\n      { id: \\'UA-7019765-1\\', namespace: \\'douban\\' }\\n    , { id: \\'UA-7019765-19\\', namespace: \\'\\' }\\n    ]\\n  , gaInit = function(account) {\\n      gaWithNamespace(function(method) {\\n        gaInitFn.call(this, method, account)\\n      }, account.namespace)\\n    }\\n  , gaInitFn = function(method, account) {\\n      _gaq.push([method(\\'_setAccount\\'), account.id]);\\n      _gaq.push([method(\\'_setSampleRate\\'), \\'5\\']);\\n\\n      \\n  _gaq.push([method(\\'_addOrganic\\'), \\'google\\', \\'q\\'])\\n  _gaq.push([method(\\'_addOrganic\\'), \\'baidu\\', \\'wd\\'])\\n  _gaq.push([method(\\'_addOrganic\\'), \\'soso\\', \\'w\\'])\\n  _gaq.push([method(\\'_addOrganic\\'), \\'youdao\\', \\'q\\'])\\n  _gaq.push([method(\\'_addOrganic\\'), \\'so.360.cn\\', \\'q\\'])\\n  _gaq.push([method(\\'_addOrganic\\'), \\'sogou\\', \\'query\\'])\\n  if (account.namespace) {\\n    _gaq.push([method(\\'_addIgnoredOrganic\\'), \\'&#35910;&#29923;\\'])\\n    _gaq.push([method(\\'_addIgnoredOrganic\\'), \\'douban\\'])\\n    _gaq.push([method(\\'_addIgnoredOrganic\\'), \\'&#35910;&#29923;&#32593;\\'])\\n    _gaq.push([method(\\'_addIgnoredOrganic\\'), \\'www.douban.com\\'])\\n  }\\n\\n      if (account.namespace === \\'douban\\') {\\n        _gaq.push([method(\\'_setDomainName\\'), \\'.douban.com\\'])\\n      }\\n\\n        _gaq.push([method(\\'_setCustomVar\\'), 1, \\'responsive_view_mode\\', \\'desktop\\', 3])\\n\\n        _gaq.push([method(\\'_setCustomVar\\'), 2, \\'login_status\\', \\'0\\', 2]);\\n\\n      _gaq.push([method(\\'_trackPageview\\')])\\n    }\\n\\nfor(var i = 0, l = accounts.length; i &lt; l; i++) {\\n  var account = accounts[i]\\n  gaInit(account)\\n}\\n\\n\\n;(function() {\\n    var ga = document.createElement(\\'script\\');\\n    ga.src = (\\'https:\\' == document.location.protocol ? \\'https://ssl\\' : \\'http://www\\') + \\'.google-analytics.com/ga.js\\';\\n    ga.setAttribute(\\'async\\', \\'true\\');\\n    document.documentElement.firstChild.appendChild(ga);\\n})()\\n</script>\\n\\n\\n\\n\\n\\n\\n\\n\\n      \\n    \\n\\n    <!-- brand20-docker-->\\n\\n  <script>_SPLITTEST=\\'\\'</script>\\n</body>\\n\\n</html>'"
      ]
     },
     "execution_count": 44,
     "metadata": {},
     "output_type": "execute_result"
    }
   ],
   "source": [
    "etree.tostring(obj)"
   ]
  },
  {
   "cell_type": "code",
   "execution_count": 46,
   "metadata": {},
   "outputs": [],
   "source": [
    "imgs = obj.xpath('//*[@id=\"mainpic\"]/a/img')"
   ]
  },
  {
   "cell_type": "code",
   "execution_count": 47,
   "metadata": {},
   "outputs": [],
   "source": [
    "img = imgs[0]"
   ]
  },
  {
   "cell_type": "code",
   "execution_count": 48,
   "metadata": {},
   "outputs": [
    {
     "data": {
      "text/plain": [
       "<Element img at 0x10749c228>"
      ]
     },
     "execution_count": 48,
     "metadata": {},
     "output_type": "execute_result"
    }
   ],
   "source": [
    "img"
   ]
  },
  {
   "cell_type": "code",
   "execution_count": 49,
   "metadata": {},
   "outputs": [
    {
     "data": {
      "text/plain": [
       "['src', 'title', 'alt', 'rel']"
      ]
     },
     "execution_count": 49,
     "metadata": {},
     "output_type": "execute_result"
    }
   ],
   "source": [
    "img.keys()"
   ]
  },
  {
   "cell_type": "code",
   "execution_count": 50,
   "metadata": {},
   "outputs": [
    {
     "data": {
      "text/plain": [
       "'The Shawshank Redemption'"
      ]
     },
     "execution_count": 50,
     "metadata": {},
     "output_type": "execute_result"
    }
   ],
   "source": [
    "img.get('alt')"
   ]
  },
  {
   "cell_type": "code",
   "execution_count": 51,
   "metadata": {},
   "outputs": [
    {
     "data": {
      "text/plain": [
       "{'src': 'https://img3.doubanio.com/view/photo/s_ratio_poster/public/p480747492.jpg', 'title': '点击看更多海报', 'alt': 'The Shawshank Redemption', 'rel': 'v:image'}"
      ]
     },
     "execution_count": 51,
     "metadata": {},
     "output_type": "execute_result"
    }
   ],
   "source": [
    "img.attrib"
   ]
  },
  {
   "cell_type": "code",
   "execution_count": 52,
   "metadata": {},
   "outputs": [],
   "source": [
    "img.text"
   ]
  },
  {
   "cell_type": "code",
   "execution_count": 55,
   "metadata": {},
   "outputs": [
    {
     "data": {
      "text/plain": [
       "[<Element meta at 0x107c4def8>,\n",
       " <Element meta at 0x107c53098>,\n",
       " <Element meta at 0x107c530e8>,\n",
       " <Element meta at 0x107c53138>,\n",
       " <Element meta at 0x107c53188>,\n",
       " <Element meta at 0x107c531d8>,\n",
       " <Element meta at 0x107c53228>,\n",
       " <Element meta at 0x107c53278>,\n",
       " <Element meta at 0x107c532c8>,\n",
       " <Element meta at 0x107c53318>]"
      ]
     },
     "execution_count": 55,
     "metadata": {},
     "output_type": "execute_result"
    }
   ],
   "source": [
    "obj.xpath('/html/head/meta')"
   ]
  },
  {
   "cell_type": "code",
   "execution_count": 56,
   "metadata": {},
   "outputs": [
    {
     "data": {
      "text/plain": [
       "<Element img at 0x10749c228>"
      ]
     },
     "execution_count": 56,
     "metadata": {},
     "output_type": "execute_result"
    }
   ],
   "source": [
    "img"
   ]
  },
  {
   "cell_type": "code",
   "execution_count": 57,
   "metadata": {},
   "outputs": [
    {
     "data": {
      "text/plain": [
       "['https://img3.doubanio.com/view/photo/s_ratio_poster/public/p480747492.jpg']"
      ]
     },
     "execution_count": 57,
     "metadata": {},
     "output_type": "execute_result"
    }
   ],
   "source": [
    "img.xpath('@src')"
   ]
  },
  {
   "cell_type": "code",
   "execution_count": 61,
   "metadata": {},
   "outputs": [
    {
     "data": {
      "text/plain": [
       "[['text/html; charset=utf-8'],\n",
       " ['webkit'],\n",
       " ['always'],\n",
       " ['ok0wCgT20tBBgo9_zat2iAcimtN4Ftf5ccsh092Xeyw'],\n",
       " ['cZdR4xxR7RxmM4zE'],\n",
       " ['no-cache'],\n",
       " ['Sun, 6 Mar 2005 01:00:00 GMT'],\n",
       " ['肖申克的救赎,The Shawshank Redemption,肖申克的救赎影评,剧情介绍,电影图片,预告片,影讯,在线购票,论坛,肖申克的救赎在线观看,肖申克的救赎高清,肖申克的救赎在线播放'],\n",
       " ['肖申克的救赎电影简介和剧情介绍,肖申克的救赎影评、图片、预告片、影讯、论坛、在线购票、肖申克的救赎在线观看、高清、在线播放'],\n",
       " ['format=html5; url=http://m.douban.com/movie/subject/1292052/']]"
      ]
     },
     "execution_count": 61,
     "metadata": {},
     "output_type": "execute_result"
    }
   ],
   "source": [
    "[meta.xpath('@content') for meta in obj.xpath('/html/head/meta')]"
   ]
  },
  {
   "cell_type": "code",
   "execution_count": 66,
   "metadata": {},
   "outputs": [
    {
     "data": {
      "text/plain": [
       "[<Element link at 0x107c4de08>,\n",
       " <Element link at 0x107c53f98>,\n",
       " <Element link at 0x107c63048>,\n",
       " <Element link at 0x107c63098>,\n",
       " <Element link at 0x107c630e8>,\n",
       " <Element link at 0x107c63138>,\n",
       " <Element link at 0x107c63188>,\n",
       " <Element link at 0x107c631d8>]"
      ]
     },
     "execution_count": 66,
     "metadata": {},
     "output_type": "execute_result"
    }
   ],
   "source": [
    "obj.xpath('//head//link')"
   ]
  },
  {
   "cell_type": "code",
   "execution_count": 65,
   "metadata": {},
   "outputs": [
    {
     "data": {
      "text/plain": [
       "[<Element link at 0x107c4de08>,\n",
       " <Element link at 0x107c53f98>,\n",
       " <Element link at 0x107c63048>,\n",
       " <Element link at 0x107c63098>,\n",
       " <Element link at 0x107c630e8>,\n",
       " <Element link at 0x107c63138>,\n",
       " <Element link at 0x107c63188>,\n",
       " <Element link at 0x107c631d8>,\n",
       " <Element link at 0x107c63228>,\n",
       " <Element link at 0x107c63278>,\n",
       " <Element link at 0x107c632c8>,\n",
       " <Element link at 0x107c63318>,\n",
       " <Element link at 0x107c63368>,\n",
       " <Element link at 0x107c633b8>,\n",
       " <Element link at 0x107c63408>]"
      ]
     },
     "execution_count": 65,
     "metadata": {},
     "output_type": "execute_result"
    }
   ],
   "source": [
    "obj.xpath('//link')"
   ]
  },
  {
   "cell_type": "code",
   "execution_count": 67,
   "metadata": {},
   "outputs": [
    {
     "data": {
      "text/plain": [
       "[<Element span at 0x107c63548>,\n",
       " <Element span at 0x107c638b8>,\n",
       " <Element span at 0x107c63908>,\n",
       " <Element span at 0x107c63958>,\n",
       " <Element span at 0x107c639a8>,\n",
       " <Element span at 0x107c639f8>,\n",
       " <Element span at 0x107c63a48>,\n",
       " <Element span at 0x107c63a98>,\n",
       " <Element span at 0x107c63ae8>,\n",
       " <Element span at 0x107c63b38>,\n",
       " <Element span at 0x107c63b88>,\n",
       " <Element span at 0x107c63bd8>,\n",
       " <Element span at 0x107c63c28>,\n",
       " <Element span at 0x107c63c78>,\n",
       " <Element span at 0x107c63cc8>,\n",
       " <Element span at 0x107c63d18>,\n",
       " <Element span at 0x107c63d68>,\n",
       " <Element span at 0x107c63db8>,\n",
       " <Element span at 0x107c63e08>,\n",
       " <Element span at 0x107c63e58>,\n",
       " <Element span at 0x107c63ea8>,\n",
       " <Element span at 0x107c63ef8>,\n",
       " <Element span at 0x107c63f48>,\n",
       " <Element span at 0x107c63f98>,\n",
       " <Element span at 0x107c65048>,\n",
       " <Element span at 0x107c65098>,\n",
       " <Element span at 0x107c650e8>,\n",
       " <Element span at 0x107c65138>,\n",
       " <Element span at 0x107c65188>,\n",
       " <Element span at 0x107c651d8>,\n",
       " <Element span at 0x107c65228>,\n",
       " <Element span at 0x107c65278>,\n",
       " <Element span at 0x107c652c8>,\n",
       " <Element span at 0x107c65318>,\n",
       " <Element span at 0x107c65368>,\n",
       " <Element span at 0x107c653b8>,\n",
       " <Element span at 0x107c65408>,\n",
       " <Element span at 0x107c65458>,\n",
       " <Element span at 0x107c654a8>,\n",
       " <Element span at 0x107c654f8>,\n",
       " <Element span at 0x107c65548>,\n",
       " <Element span at 0x107c65598>,\n",
       " <Element span at 0x107c655e8>,\n",
       " <Element span at 0x107c65638>,\n",
       " <Element span at 0x107c65688>,\n",
       " <Element span at 0x107c656d8>,\n",
       " <Element span at 0x107c65728>,\n",
       " <Element span at 0x107c65778>,\n",
       " <Element span at 0x107c657c8>,\n",
       " <Element span at 0x107c65818>,\n",
       " <Element span at 0x107c65868>,\n",
       " <Element span at 0x107c658b8>,\n",
       " <Element span at 0x107c65908>,\n",
       " <Element span at 0x107c65958>,\n",
       " <Element span at 0x107c659a8>,\n",
       " <Element span at 0x107c659f8>,\n",
       " <Element span at 0x107c65a48>,\n",
       " <Element span at 0x107c65a98>,\n",
       " <Element span at 0x107c65ae8>,\n",
       " <Element span at 0x107c65b38>,\n",
       " <Element span at 0x107c65b88>,\n",
       " <Element span at 0x107c65bd8>,\n",
       " <Element span at 0x107c65c28>,\n",
       " <Element span at 0x107c65c78>,\n",
       " <Element span at 0x107c65cc8>,\n",
       " <Element span at 0x107c65d18>,\n",
       " <Element span at 0x107c65d68>,\n",
       " <Element span at 0x107c65db8>,\n",
       " <Element span at 0x107c65e08>,\n",
       " <Element span at 0x107c65e58>,\n",
       " <Element span at 0x107c65ea8>,\n",
       " <Element span at 0x107c65ef8>,\n",
       " <Element span at 0x107c65f48>,\n",
       " <Element span at 0x107c65f98>,\n",
       " <Element span at 0x107c66048>,\n",
       " <Element span at 0x107c66098>,\n",
       " <Element span at 0x107c660e8>,\n",
       " <Element span at 0x107c66138>,\n",
       " <Element span at 0x107c66188>,\n",
       " <Element span at 0x107c661d8>,\n",
       " <Element span at 0x107c66228>,\n",
       " <Element span at 0x107c66278>,\n",
       " <Element span at 0x107c662c8>,\n",
       " <Element span at 0x107c66318>,\n",
       " <Element span at 0x107c66368>,\n",
       " <Element span at 0x107c663b8>,\n",
       " <Element span at 0x107c66408>,\n",
       " <Element span at 0x107c66458>,\n",
       " <Element span at 0x107c664a8>,\n",
       " <Element span at 0x107c664f8>,\n",
       " <Element span at 0x107c66548>,\n",
       " <Element span at 0x107c66598>,\n",
       " <Element span at 0x107c665e8>,\n",
       " <Element span at 0x107c66638>,\n",
       " <Element span at 0x107c66688>,\n",
       " <Element span at 0x107c666d8>,\n",
       " <Element span at 0x107c66728>,\n",
       " <Element span at 0x107c66778>,\n",
       " <Element span at 0x107c667c8>,\n",
       " <Element span at 0x107c66818>,\n",
       " <Element span at 0x107c66868>,\n",
       " <Element span at 0x107c668b8>,\n",
       " <Element span at 0x107c66908>,\n",
       " <Element span at 0x107c66958>,\n",
       " <Element span at 0x107c669a8>,\n",
       " <Element span at 0x107c669f8>,\n",
       " <Element span at 0x107c66a48>,\n",
       " <Element span at 0x107c66a98>,\n",
       " <Element span at 0x107c66ae8>,\n",
       " <Element span at 0x107c66b38>,\n",
       " <Element span at 0x107c66b88>,\n",
       " <Element span at 0x107c66bd8>,\n",
       " <Element span at 0x107c66c28>,\n",
       " <Element span at 0x107c66c78>,\n",
       " <Element span at 0x107c66cc8>,\n",
       " <Element span at 0x107c66d18>,\n",
       " <Element span at 0x107c66d68>,\n",
       " <Element span at 0x107c66db8>]"
      ]
     },
     "execution_count": 67,
     "metadata": {},
     "output_type": "execute_result"
    }
   ],
   "source": [
    "obj.xpath('//span[@class]')"
   ]
  },
  {
   "cell_type": "code",
   "execution_count": 70,
   "metadata": {},
   "outputs": [],
   "source": [
    "scores = obj.xpath('//strong[@property=\"v:average\"]')"
   ]
  },
  {
   "cell_type": "code",
   "execution_count": 73,
   "metadata": {},
   "outputs": [],
   "source": [
    "score = scores[0]"
   ]
  },
  {
   "cell_type": "code",
   "execution_count": 74,
   "metadata": {},
   "outputs": [
    {
     "data": {
      "text/plain": [
       "['9.6']"
      ]
     },
     "execution_count": 74,
     "metadata": {},
     "output_type": "execute_result"
    }
   ],
   "source": [
    "score.xpath('text()')"
   ]
  },
  {
   "cell_type": "code",
   "execution_count": 75,
   "metadata": {},
   "outputs": [],
   "source": [
    "votes = obj.xpath('//span[@property=\"v:votes\"]')"
   ]
  },
  {
   "cell_type": "code",
   "execution_count": 77,
   "metadata": {},
   "outputs": [],
   "source": [
    "vote = votes[0]"
   ]
  },
  {
   "cell_type": "code",
   "execution_count": 78,
   "metadata": {},
   "outputs": [
    {
     "data": {
      "text/plain": [
       "['1209723']"
      ]
     },
     "execution_count": 78,
     "metadata": {},
     "output_type": "execute_result"
    }
   ],
   "source": [
    "vote.xpath('text()')"
   ]
  },
  {
   "cell_type": "code",
   "execution_count": 80,
   "metadata": {},
   "outputs": [
    {
     "data": {
      "text/plain": [
       "'1209723'"
      ]
     },
     "execution_count": 80,
     "metadata": {},
     "output_type": "execute_result"
    }
   ],
   "source": [
    "votes = obj.xpath('//span[@property=\"v:votes\"]/text()')[0]\n",
    "votes"
   ]
  },
  {
   "cell_type": "code",
   "execution_count": 88,
   "metadata": {},
   "outputs": [],
   "source": [
    "values = obj.xpath('//span[starts-with(@class,\"stars\")]/../span[last()]/text()')"
   ]
  },
  {
   "cell_type": "code",
   "execution_count": 89,
   "metadata": {},
   "outputs": [],
   "source": [
    "keys = obj.xpath('//span[starts-with(@class,\"stars\")]/text()')"
   ]
  },
  {
   "cell_type": "code",
   "execution_count": 90,
   "metadata": {},
   "outputs": [
    {
     "data": {
      "text/plain": [
       "(['83.7%', '14.5%', '1.7%', '0.1%', '0.1%'],\n",
       " ['\\n            5星\\n        ',\n",
       "  '\\n            4星\\n        ',\n",
       "  '\\n            3星\\n        ',\n",
       "  '\\n            2星\\n        ',\n",
       "  '\\n            1星\\n        '])"
      ]
     },
     "execution_count": 90,
     "metadata": {},
     "output_type": "execute_result"
    }
   ],
   "source": [
    "values, keys"
   ]
  },
  {
   "cell_type": "code",
   "execution_count": 91,
   "metadata": {},
   "outputs": [],
   "source": [
    "keys = [item.strip() for item in keys]"
   ]
  },
  {
   "cell_type": "code",
   "execution_count": 92,
   "metadata": {},
   "outputs": [
    {
     "data": {
      "text/plain": [
       "['5星', '4星', '3星', '2星', '1星']"
      ]
     },
     "execution_count": 92,
     "metadata": {},
     "output_type": "execute_result"
    }
   ],
   "source": [
    "keys"
   ]
  },
  {
   "cell_type": "code",
   "execution_count": 94,
   "metadata": {},
   "outputs": [
    {
     "data": {
      "text/plain": [
       "{'5星': '83.7%', '4星': '14.5%', '3星': '1.7%', '2星': '0.1%', '1星': '0.1%'}"
      ]
     },
     "execution_count": 94,
     "metadata": {},
     "output_type": "execute_result"
    }
   ],
   "source": [
    "dict(zip(keys, values))"
   ]
  },
  {
   "cell_type": "code",
   "execution_count": 95,
   "metadata": {
    "scrolled": true
   },
   "outputs": [
    {
     "data": {
      "text/plain": [
       "[<Element meta at 0x107c4def8>,\n",
       " <Element meta at 0x107c53098>,\n",
       " <Element meta at 0x107c530e8>,\n",
       " <Element meta at 0x107c53138>,\n",
       " <Element meta at 0x107c53188>,\n",
       " <Element meta at 0x107c531d8>,\n",
       " <Element meta at 0x107c53228>,\n",
       " <Element meta at 0x107c53278>,\n",
       " <Element meta at 0x107c532c8>,\n",
       " <Element meta at 0x107c53318>,\n",
       " <Element div at 0x107c790e8>,\n",
       " <Element div at 0x107c79138>,\n",
       " <Element div at 0x107c79188>,\n",
       " <Element div at 0x107c791d8>,\n",
       " <Element div at 0x107c79228>,\n",
       " <Element div at 0x107c79278>,\n",
       " <Element div at 0x107c792c8>,\n",
       " <Element div at 0x107c79318>,\n",
       " <Element div at 0x107c79368>,\n",
       " <Element div at 0x107c793b8>,\n",
       " <Element div at 0x107c79408>,\n",
       " <Element div at 0x107c79458>,\n",
       " <Element div at 0x107c794a8>,\n",
       " <Element div at 0x107c794f8>,\n",
       " <Element div at 0x107c79548>,\n",
       " <Element div at 0x107c79598>,\n",
       " <Element div at 0x107c795e8>,\n",
       " <Element div at 0x107c79638>,\n",
       " <Element div at 0x107c79688>,\n",
       " <Element div at 0x107c796d8>,\n",
       " <Element div at 0x107c79728>,\n",
       " <Element div at 0x107c79778>,\n",
       " <Element div at 0x107c797c8>,\n",
       " <Element div at 0x107c79818>,\n",
       " <Element div at 0x107c79868>,\n",
       " <Element div at 0x107c798b8>,\n",
       " <Element div at 0x107c79908>,\n",
       " <Element div at 0x107c79958>,\n",
       " <Element div at 0x107c799a8>,\n",
       " <Element div at 0x107c799f8>,\n",
       " <Element div at 0x107c79a48>,\n",
       " <Element div at 0x107c79a98>,\n",
       " <Element div at 0x107c79ae8>,\n",
       " <Element div at 0x107c79b38>,\n",
       " <Element div at 0x107c79b88>,\n",
       " <Element div at 0x107c79bd8>,\n",
       " <Element div at 0x107c79c28>,\n",
       " <Element div at 0x107c79c78>,\n",
       " <Element div at 0x107c79cc8>,\n",
       " <Element div at 0x107c6ae58>,\n",
       " <Element div at 0x107c79d18>,\n",
       " <Element div at 0x107c6aef8>,\n",
       " <Element div at 0x107c79d68>,\n",
       " <Element div at 0x107c6af48>,\n",
       " <Element div at 0x107c79db8>,\n",
       " <Element div at 0x107c6af98>,\n",
       " <Element div at 0x107c79e08>,\n",
       " <Element div at 0x107c70048>,\n",
       " <Element div at 0x107c79e58>,\n",
       " <Element div at 0x107c79ea8>,\n",
       " <Element div at 0x107c79ef8>,\n",
       " <Element div at 0x107c79f48>,\n",
       " <Element div at 0x107c79f98>,\n",
       " <Element div at 0x107c7b048>,\n",
       " <Element div at 0x107c7b098>,\n",
       " <Element div at 0x107c7b0e8>,\n",
       " <Element div at 0x107c7b138>,\n",
       " <Element div at 0x107c7b188>,\n",
       " <Element div at 0x107c7b1d8>,\n",
       " <Element div at 0x107c7b228>,\n",
       " <Element div at 0x107c7b278>,\n",
       " <Element div at 0x107c7b2c8>,\n",
       " <Element div at 0x107c7b318>,\n",
       " <Element div at 0x107c7b368>,\n",
       " <Element div at 0x107c7b3b8>,\n",
       " <Element div at 0x107c7b408>,\n",
       " <Element div at 0x107c7b458>,\n",
       " <Element div at 0x107c7b4a8>,\n",
       " <Element div at 0x107c7b4f8>,\n",
       " <Element div at 0x107c7b548>,\n",
       " <Element div at 0x107c7b598>,\n",
       " <Element div at 0x107c7b5e8>,\n",
       " <Element div at 0x107c7b638>,\n",
       " <Element div at 0x107c7b688>,\n",
       " <Element div at 0x107c7b6d8>,\n",
       " <Element div at 0x107c7b728>,\n",
       " <Element div at 0x107c7b778>,\n",
       " <Element div at 0x107c7b7c8>,\n",
       " <Element div at 0x107c7b818>,\n",
       " <Element div at 0x107c7b868>,\n",
       " <Element div at 0x107c7b8b8>,\n",
       " <Element div at 0x107c7b908>,\n",
       " <Element div at 0x107c7b958>,\n",
       " <Element div at 0x107c7b9a8>,\n",
       " <Element div at 0x107c7b9f8>,\n",
       " <Element div at 0x107c7ba48>,\n",
       " <Element div at 0x107c7ba98>,\n",
       " <Element div at 0x107c7bae8>,\n",
       " <Element div at 0x107c7bb38>,\n",
       " <Element div at 0x107c7bb88>,\n",
       " <Element div at 0x107c7bbd8>,\n",
       " <Element div at 0x107c7bc28>,\n",
       " <Element div at 0x107c7bc78>,\n",
       " <Element div at 0x107c7bcc8>,\n",
       " <Element div at 0x107c7bd18>,\n",
       " <Element div at 0x107c7bd68>,\n",
       " <Element div at 0x107c7bdb8>,\n",
       " <Element div at 0x107c7be08>,\n",
       " <Element div at 0x107c7be58>,\n",
       " <Element div at 0x107c7bea8>,\n",
       " <Element div at 0x107c7bef8>,\n",
       " <Element div at 0x107c7bf48>,\n",
       " <Element div at 0x107c7bf98>,\n",
       " <Element div at 0x107c7c048>,\n",
       " <Element div at 0x107c7c098>,\n",
       " <Element div at 0x107c7c0e8>,\n",
       " <Element div at 0x107c7c138>,\n",
       " <Element div at 0x107c7c188>,\n",
       " <Element div at 0x107c7c1d8>,\n",
       " <Element div at 0x107c7c228>,\n",
       " <Element div at 0x107c7c278>,\n",
       " <Element div at 0x107c7c2c8>,\n",
       " <Element div at 0x107c7c318>,\n",
       " <Element div at 0x107c7c368>,\n",
       " <Element div at 0x107c7c3b8>,\n",
       " <Element div at 0x107c7c408>,\n",
       " <Element div at 0x107c7c458>,\n",
       " <Element div at 0x107c7c4a8>,\n",
       " <Element div at 0x107c7c4f8>,\n",
       " <Element div at 0x107c7c548>,\n",
       " <Element div at 0x107c7c598>,\n",
       " <Element div at 0x107c7c5e8>,\n",
       " <Element div at 0x107c7c638>,\n",
       " <Element div at 0x107c7c688>,\n",
       " <Element div at 0x107c7c6d8>,\n",
       " <Element div at 0x107c7c728>,\n",
       " <Element div at 0x107c7c778>,\n",
       " <Element div at 0x107c7c7c8>,\n",
       " <Element div at 0x107c7c818>,\n",
       " <Element div at 0x107c7c868>,\n",
       " <Element div at 0x107c7c8b8>,\n",
       " <Element div at 0x107c7c908>,\n",
       " <Element div at 0x107c7c958>,\n",
       " <Element div at 0x107c7c9a8>,\n",
       " <Element div at 0x107c7c9f8>,\n",
       " <Element div at 0x107c7ca48>,\n",
       " <Element div at 0x107c7ca98>,\n",
       " <Element div at 0x107c7cae8>,\n",
       " <Element div at 0x107c7cb38>,\n",
       " <Element div at 0x107c7cb88>,\n",
       " <Element div at 0x107c7cbd8>,\n",
       " <Element div at 0x107c7cc28>,\n",
       " <Element div at 0x107c7cc78>,\n",
       " <Element div at 0x107c7ccc8>,\n",
       " <Element div at 0x107c7cd18>,\n",
       " <Element div at 0x107c7cd68>,\n",
       " <Element div at 0x107c7cdb8>,\n",
       " <Element div at 0x107c7ce08>,\n",
       " <Element div at 0x107c7ce58>,\n",
       " <Element div at 0x107c7cea8>,\n",
       " <Element div at 0x107c7cef8>,\n",
       " <Element div at 0x107c7cf48>,\n",
       " <Element div at 0x107c7cf98>,\n",
       " <Element div at 0x107c7d048>,\n",
       " <Element div at 0x107c7d098>,\n",
       " <Element div at 0x107c7d0e8>,\n",
       " <Element div at 0x107c7d138>,\n",
       " <Element div at 0x107c7d188>,\n",
       " <Element div at 0x107c7d1d8>,\n",
       " <Element div at 0x107c7d228>,\n",
       " <Element div at 0x107c7d278>,\n",
       " <Element div at 0x107c7d2c8>,\n",
       " <Element div at 0x107c7d318>,\n",
       " <Element div at 0x107c7d368>,\n",
       " <Element div at 0x107c7d3b8>,\n",
       " <Element div at 0x107c7d408>,\n",
       " <Element div at 0x107c7d458>,\n",
       " <Element div at 0x107c7d4a8>,\n",
       " <Element div at 0x107c7d4f8>,\n",
       " <Element div at 0x107c7d548>,\n",
       " <Element div at 0x107c7d598>,\n",
       " <Element div at 0x107c7d5e8>,\n",
       " <Element div at 0x107c7d638>,\n",
       " <Element div at 0x107c7d688>,\n",
       " <Element div at 0x107c7d6d8>,\n",
       " <Element div at 0x107c7d728>,\n",
       " <Element div at 0x107c70bd8>,\n",
       " <Element div at 0x107c7d778>,\n",
       " <Element div at 0x107c7d7c8>,\n",
       " <Element div at 0x107c7d818>,\n",
       " <Element div at 0x107c7d868>,\n",
       " <Element div at 0x107c7d8b8>,\n",
       " <Element div at 0x107c7d908>,\n",
       " <Element div at 0x107c7d958>,\n",
       " <Element div at 0x107c7d9a8>,\n",
       " <Element div at 0x107c7d9f8>,\n",
       " <Element div at 0x107c7da48>,\n",
       " <Element div at 0x107c7da98>,\n",
       " <Element div at 0x107c7dae8>,\n",
       " <Element div at 0x107c7db38>,\n",
       " <Element div at 0x107c7db88>,\n",
       " <Element div at 0x107c7dbd8>,\n",
       " <Element div at 0x107c7dc28>,\n",
       " <Element div at 0x107c7dc78>,\n",
       " <Element div at 0x107c7dcc8>,\n",
       " <Element div at 0x107c7dd18>,\n",
       " <Element div at 0x107c7dd68>,\n",
       " <Element div at 0x107c7ddb8>,\n",
       " <Element div at 0x107c7de08>,\n",
       " <Element div at 0x107c7de58>,\n",
       " <Element div at 0x107c7dea8>,\n",
       " <Element div at 0x107c7def8>,\n",
       " <Element div at 0x107c7df48>,\n",
       " <Element div at 0x107c7df98>,\n",
       " <Element div at 0x107c7e048>,\n",
       " <Element div at 0x107c7e098>,\n",
       " <Element div at 0x107c7e0e8>,\n",
       " <Element div at 0x107c7e138>,\n",
       " <Element div at 0x107c7e188>,\n",
       " <Element div at 0x107c7e1d8>]"
      ]
     },
     "execution_count": 95,
     "metadata": {},
     "output_type": "execute_result"
    }
   ],
   "source": [
    "obj.xpath('//meta | //div')"
   ]
  },
  {
   "cell_type": "code",
   "execution_count": 97,
   "metadata": {},
   "outputs": [
    {
     "data": {
      "text/plain": [
       "['\\n            5星\\n        ', '\\n            4星\\n        ']"
      ]
     },
     "execution_count": 97,
     "metadata": {},
     "output_type": "execute_result"
    }
   ],
   "source": [
    "obj.xpath('//span[@class=\"stars5 starstop\" or @class=\"stars4 starstop\"]/text()')"
   ]
  },
  {
   "cell_type": "code",
   "execution_count": 98,
   "metadata": {},
   "outputs": [],
   "source": [
    "import time"
   ]
  },
  {
   "cell_type": "code",
   "execution_count": 100,
   "metadata": {},
   "outputs": [
    {
     "data": {
      "text/plain": [
       "1543474475383"
      ]
     },
     "execution_count": 100,
     "metadata": {},
     "output_type": "execute_result"
    }
   ],
   "source": [
    "int(time.time() * 1000)"
   ]
  },
  {
   "cell_type": "code",
   "execution_count": 101,
   "metadata": {},
   "outputs": [],
   "source": [
    "url = 'https://weibo.com/a/aj/transform/loadingmoreunlogin?ajwvr=6&category=1760&page=3&lefnav=0&cursor=&__rnd=1543474231206'"
   ]
  },
  {
   "cell_type": "code",
   "execution_count": 103,
   "metadata": {},
   "outputs": [
    {
     "data": {
      "text/plain": [
       "'    <!--榜单栏位置-->\\n                     <div class=\"UG_slider\" ></div>\\n     \\n            <div class=\"WB_cardwrap_unlogin_notes\" action-type=\"unread_feed_tip\" style=\"display: none\">您有未读内容，点击查看<em class=\"W_ficon ficon_close S_ficon\">X</em></div>\\n        \\n        <div class=\"UG_contents\" id=\"PCD_pictext_i_v5\">\\n            <!--feed内容-->\\n                    <ul class=\"pt_ul clearfix\" class=\"pt_ul clearfix\" pageNum=\"\" node-type=\\'feed_list\\'>\\n                        <!--article feed-->\\r\\n                <div class=\"UG_list_b\" mid=\"1022:2309351000964311440042416457\"  action-type=\"feed_list_item\" href=\"https://weibo.com/ttarticle/p/show?id=2309351000964311440042416457\" suda=\"key=nologin_home&value=nologin_card_weibo:1022:2309351000964311440042416457\" suda-uatrack=\"key=www_unlogin_home&value=headline_feed\">\\r\\n                <div class=\"pic W_piccut_v\">\\r\\n                    <img src=\"https://wx4.sinaimg.cn/crop.0.87.640.480.240/005M94J9ly4fxo35su6y8j30hs0oftb2.jpg\" alt=\"\">\\r\\n                </div>\\r\\n                <div class=\"list_des\">\\r\\n                    <h3 class=\"list_title_b\"><a href=\"https://weibo.com/ttarticle/p/show?id=2309351000964311440042416457\" class=\"S_txt1\" target=\"_blank\">演员黄景瑜被爆旧照“烈士塔前蹦迪”，遭网友强烈谴责</a></h3>\\r\\n                    <div class=\"subinfo_box clearfix\">\\r\\n                        <a href=\"/n/现代快报\" suda-data=\"key=nologin_home&value=nologin_card_profile:1022:2309351000964311440042416457\" target=\"_blank\"><span class=\"subinfo_face \"><img src=\"https://tvax3.sinaimg.cn/crop.8.0.163.163.50/62bfcf76ly8fmgl2esejjj2050050q32.jpg\" width=\"20\" height=\"20\" alt=\"\"></span></a>\\r\\n                        <a href=\"/n/现代快报\" suda-data=\"key=nologin_home&value=nologin_card_profile:1022:2309351000964311440042416457\" target=\"_blank\"><span class=\"subinfo S_txt2\">现代快报</span></a>\\r\\n                        <span class=\"subinfo S_txt2\">11月28日 20:45</span>\\r\\n                        <span class=\"subinfo_rgt S_txt2\"><em class=\"W_ficon ficon_praised S_ficon W_f16\">ñ</em><em>19</em></span>\\r\\n                        <span class=\"rgt_line W_fr\"></span>\\r\\n                        <span class=\"subinfo_rgt S_txt2\"><em class=\"W_ficon ficon_repeat S_ficon W_f16\">\\ue608</em><em>42</em></span>\\r\\n                        <span class=\"rgt_line W_fr\"></span>\\r\\n                        <span class=\"subinfo_rgt S_txt2\"><em class=\"W_ficon ficon_forward S_ficon W_f16\">\\ue607</em><em>26</em></span>\\r\\n                    </div>\\r\\n                </div>\\r\\n            </div>\\r\\n        \\r\\n                                <!--article feed-->\\r\\n                <div class=\"UG_list_b\" mid=\"1022:2309404311442726779533\"  action-type=\"feed_list_item\" href=\"https://weibo.com/ttarticle/p/show?id=2309404311442726779533\" suda=\"key=nologin_home&value=nologin_card_weibo:1022:2309404311442726779533\" suda-uatrack=\"key=www_unlogin_home&value=headline_feed\">\\r\\n                <div class=\"pic W_piccut_v\">\\r\\n                    <img src=\"https://wx2.sinaimg.cn/crop.0.128.750.562.240/968408a0ly1fxo29tygblj20ku0zkguv.jpg\" alt=\"\">\\r\\n                </div>\\r\\n                <div class=\"list_des\">\\r\\n                    <h3 class=\"list_title_b\"><a href=\"https://weibo.com/ttarticle/p/show?id=2309404311442726779533\" class=\"S_txt1\" target=\"_blank\">很抱歉！耽误大家测网速了！</a></h3>\\r\\n                    <div class=\"subinfo_box clearfix\">\\r\\n                        <a href=\"/n/百度\" suda-data=\"key=nologin_home&value=nologin_card_profile:1022:2309404311442726779533\" target=\"_blank\"><span class=\"subinfo_face \"><img src=\"https://tva4.sinaimg.cn/crop.5.0.294.294.50/968408a0jw8fcpxs147tqj208c08c3yq.jpg\" width=\"20\" height=\"20\" alt=\"\"></span></a>\\r\\n                        <a href=\"/n/百度\" suda-data=\"key=nologin_home&value=nologin_card_profile:1022:2309404311442726779533\" target=\"_blank\"><span class=\"subinfo S_txt2\">百度</span></a>\\r\\n                        <span class=\"subinfo S_txt2\">11月28日 21:25</span>\\r\\n                        <span class=\"subinfo_rgt S_txt2\"><em class=\"W_ficon ficon_praised S_ficon W_f16\">ñ</em><em>1661</em></span>\\r\\n                        <span class=\"rgt_line W_fr\"></span>\\r\\n                        <span class=\"subinfo_rgt S_txt2\"><em class=\"W_ficon ficon_repeat S_ficon W_f16\">\\ue608</em><em>1155</em></span>\\r\\n                        <span class=\"rgt_line W_fr\"></span>\\r\\n                        <span class=\"subinfo_rgt S_txt2\"><em class=\"W_ficon ficon_forward S_ficon W_f16\">\\ue607</em><em>204</em></span>\\r\\n                    </div>\\r\\n                </div>\\r\\n            </div>\\r\\n        \\r\\n                                <!--article feed-->\\r\\n                <div class=\"UG_list_b\" mid=\"1022:2309404311424259198378\"  action-type=\"feed_list_item\" href=\"https://weibo.com/ttarticle/p/show?id=2309404311424259198378\" suda=\"key=nologin_home&value=nologin_card_weibo:1022:2309404311424259198378\" suda-uatrack=\"key=www_unlogin_home&value=headline_feed\">\\r\\n                <div class=\"pic W_piccut_v\">\\r\\n                    <img src=\"https://wx1.sinaimg.cn/crop.0.100.640.480.240/7b72c4d5ly4fxo1a8gtwmj20hs0s03z4.jpg\" alt=\"\">\\r\\n                </div>\\r\\n                <div class=\"list_des\">\\r\\n                    <h3 class=\"list_title_b\"><a href=\"https://weibo.com/ttarticle/p/show?id=2309404311424259198378\" class=\"S_txt1\" target=\"_blank\">新手8周跑步计划，跑步就按这个开始吧！后面还有跑后拉伸</a></h3>\\r\\n                    <div class=\"subinfo_box clearfix\">\\r\\n                        <a href=\"/n/全球美体健身\" suda-data=\"key=nologin_home&value=nologin_card_profile:1022:2309404311424259198378\" target=\"_blank\"><span class=\"subinfo_face \"><img src=\"https://tva2.sinaimg.cn/crop.0.0.180.180.50/7b72c4d5jw8fb3yrxwendj20500500so.jpg\" width=\"20\" height=\"20\" alt=\"\"></span></a>\\r\\n                        <a href=\"/n/全球美体健身\" suda-data=\"key=nologin_home&value=nologin_card_profile:1022:2309404311424259198378\" target=\"_blank\"><span class=\"subinfo S_txt2\">全球美体健身</span></a>\\r\\n                        <span class=\"subinfo S_txt2\">11月28日 20:11</span>\\r\\n                        <span class=\"subinfo_rgt S_txt2\"><em class=\"W_ficon ficon_praised S_ficon W_f16\">ñ</em><em>27</em></span>\\r\\n                        <span class=\"rgt_line W_fr\"></span>\\r\\n                        <span class=\"subinfo_rgt S_txt2\"><em class=\"W_ficon ficon_repeat S_ficon W_f16\">\\ue608</em><em>4</em></span>\\r\\n                        <span class=\"rgt_line W_fr\"></span>\\r\\n                        <span class=\"subinfo_rgt S_txt2\"><em class=\"W_ficon ficon_forward S_ficon W_f16\">\\ue607</em><em>49</em></span>\\r\\n                    </div>\\r\\n                </div>\\r\\n            </div>\\r\\n        \\r\\n                                <!--article feed-->\\r\\n                <div class=\"UG_list_b\" mid=\"1022:2309404311365593503798\"  action-type=\"feed_list_item\" href=\"https://weibo.com/ttarticle/p/show?id=2309404311365593503798\" suda=\"key=nologin_home&value=nologin_card_weibo:1022:2309404311365593503798\" suda-uatrack=\"key=www_unlogin_home&value=headline_feed\">\\r\\n                <div class=\"pic W_piccut_v\">\\r\\n                    <img src=\"https://wx1.sinaimg.cn/crop.0.59.640.480.240/bef36c69ly1fxnuk1fk8ij20hs0gjgn2.jpg\" alt=\"\">\\r\\n                </div>\\r\\n                <div class=\"list_des\">\\r\\n                    <h3 class=\"list_title_b\"><a href=\"https://weibo.com/ttarticle/p/show?id=2309404311365593503798\" class=\"S_txt1\" target=\"_blank\">吸毒的后果，你怕了吗？</a></h3>\\r\\n                    <div class=\"subinfo_box clearfix\">\\r\\n                        <a href=\"/n/致爱情\" suda-data=\"key=nologin_home&value=nologin_card_profile:1022:2309404311365593503798\" target=\"_blank\"><span class=\"subinfo_face \"><img src=\"https://tvax4.sinaimg.cn/crop.0.0.512.512.50/bef36c69ly8fx3giys14zj20e80e8gm8.jpg\" width=\"20\" height=\"20\" alt=\"\"></span></a>\\r\\n                        <a href=\"/n/致爱情\" suda-data=\"key=nologin_home&value=nologin_card_profile:1022:2309404311365593503798\" target=\"_blank\"><span class=\"subinfo S_txt2\">致爱情</span></a>\\r\\n                        <span class=\"subinfo S_txt2\">11月28日 16:18</span>\\r\\n                        <span class=\"subinfo_rgt S_txt2\"><em class=\"W_ficon ficon_praised S_ficon W_f16\">ñ</em><em>240</em></span>\\r\\n                        <span class=\"rgt_line W_fr\"></span>\\r\\n                        <span class=\"subinfo_rgt S_txt2\"><em class=\"W_ficon ficon_repeat S_ficon W_f16\">\\ue608</em><em>137</em></span>\\r\\n                        <span class=\"rgt_line W_fr\"></span>\\r\\n                        <span class=\"subinfo_rgt S_txt2\"><em class=\"W_ficon ficon_forward S_ficon W_f16\">\\ue607</em><em>116</em></span>\\r\\n                    </div>\\r\\n                </div>\\r\\n            </div>\\r\\n        \\r\\n                                <!--article feed-->\\r\\n                <div class=\"UG_list_b\" mid=\"1022:2309404311416520767455\"  action-type=\"feed_list_item\" href=\"https://weibo.com/ttarticle/p/show?id=2309404311416520767455\" suda=\"key=nologin_home&value=nologin_card_weibo:1022:2309404311416520767455\" suda-uatrack=\"key=www_unlogin_home&value=headline_feed\">\\r\\n                <div class=\"pic W_piccut_v\">\\r\\n                    <img src=\"https://wx4.sinaimg.cn/crop.55.0.970.728.240/006ySUIXly4fxnyj8ylqaj30u00k8gqa.jpg\" alt=\"\">\\r\\n                </div>\\r\\n                <div class=\"list_des\">\\r\\n                    <h3 class=\"list_title_b\"><a href=\"https://weibo.com/ttarticle/p/show?id=2309404311416520767455\" class=\"S_txt1\" target=\"_blank\">一座跨海大桥，显露俄罗斯吞并乌克兰的野心？</a></h3>\\r\\n                    <div class=\"subinfo_box clearfix\">\\r\\n                        <a href=\"/n/世界说globusnews\" suda-data=\"key=nologin_home&value=nologin_card_profile:1022:2309404311416520767455\" target=\"_blank\"><span class=\"subinfo_face \"><img src=\"https://tvax2.sinaimg.cn/crop.0.0.1242.1242.50/006ySUIXly8fcumh4xy2pj30yi0yimym.jpg\" width=\"20\" height=\"20\" alt=\"\"></span></a>\\r\\n                        <a href=\"/n/世界说globusnews\" suda-data=\"key=nologin_home&value=nologin_card_profile:1022:2309404311416520767455\" target=\"_blank\"><span class=\"subinfo S_txt2\">世界说globusnews</span></a>\\r\\n                        <span class=\"subinfo S_txt2\">11月28日 19:41</span>\\r\\n                        <span class=\"subinfo_rgt S_txt2\"><em class=\"W_ficon ficon_praised S_ficon W_f16\">ñ</em><em>16</em></span>\\r\\n                        <span class=\"rgt_line W_fr\"></span>\\r\\n                        <span class=\"subinfo_rgt S_txt2\"><em class=\"W_ficon ficon_repeat S_ficon W_f16\">\\ue608</em><em>8</em></span>\\r\\n                        <span class=\"rgt_line W_fr\"></span>\\r\\n                        <span class=\"subinfo_rgt S_txt2\"><em class=\"W_ficon ficon_forward S_ficon W_f16\">\\ue607</em><em>41</em></span>\\r\\n                    </div>\\r\\n                </div>\\r\\n            </div>\\r\\n        \\r\\n                                <!--article feed-->\\r\\n                <div class=\"UG_list_b\" mid=\"1022:2309404311623065025421\"  action-type=\"feed_list_item\" href=\"https://weibo.com/ttarticle/p/show?id=2309404311623065025421\" suda=\"key=nologin_home&value=nologin_card_weibo:1022:2309404311623065025421\" suda-uatrack=\"key=www_unlogin_home&value=headline_feed\">\\r\\n                <div class=\"pic W_piccut_v\">\\r\\n                    <img src=\"https://wx3.sinaimg.cn/crop.116.0.317.238.240/005Xk220ly4fxoo3foyx6j30fa06m0ss.jpg\" alt=\"\">\\r\\n                </div>\\r\\n                <div class=\"list_des\">\\r\\n                    <h3 class=\"list_title_b\"><a href=\"https://weibo.com/ttarticle/p/show?id=2309404311623065025421\" class=\"S_txt1\" target=\"_blank\">单价23万的抗癌″神药″将至它真能治好75%的癌症?</a></h3>\\r\\n                    <div class=\"subinfo_box clearfix\">\\r\\n                        <a href=\"/n/股票板王\" suda-data=\"key=nologin_home&value=nologin_card_profile:1022:2309404311623065025421\" target=\"_blank\"><span class=\"subinfo_face \"><img src=\"https://tvax4.sinaimg.cn/crop.179.0.1706.1706.50/005Xk220ly8fpqjfnddpaj31kw2dckdt.jpg\" width=\"20\" height=\"20\" alt=\"\"></span></a>\\r\\n                        <a href=\"/n/股票板王\" suda-data=\"key=nologin_home&value=nologin_card_profile:1022:2309404311623065025421\" target=\"_blank\"><span class=\"subinfo S_txt2\">股票板王</span></a>\\r\\n                        <span class=\"subinfo S_txt2\">今天 09:21</span>\\r\\n                        <span class=\"subinfo_rgt S_txt2\"><em class=\"W_ficon ficon_praised S_ficon W_f16\">ñ</em><em>6</em></span>\\r\\n                        <span class=\"rgt_line W_fr\"></span>\\r\\n                        <span class=\"subinfo_rgt S_txt2\"><em class=\"W_ficon ficon_repeat S_ficon W_f16\">\\ue608</em><em>4</em></span>\\r\\n                        <span class=\"rgt_line W_fr\"></span>\\r\\n                        <span class=\"subinfo_rgt S_txt2\"><em class=\"W_ficon ficon_forward S_ficon W_f16\">\\ue607</em><em>2</em></span>\\r\\n                    </div>\\r\\n                </div>\\r\\n            </div>\\r\\n        \\r\\n                                <!--article feed-->\\r\\n                <div class=\"UG_list_b\" mid=\"1022:2309404311286182754285\"  action-type=\"feed_list_item\" href=\"https://weibo.com/ttarticle/p/show?id=2309404311286182754285\" suda=\"key=nologin_home&value=nologin_card_weibo:1022:2309404311286182754285\" suda-uatrack=\"key=www_unlogin_home&value=headline_feed\">\\r\\n                <div class=\"pic W_piccut_v\">\\r\\n                    <img src=\"https://wx1.sinaimg.cn/crop.0.62.530.397.240/7c67abf5ly1fxnkwrk0ozj20eq0hh4bn.jpg\" alt=\"\">\\r\\n                </div>\\r\\n                <div class=\"list_des\">\\r\\n                    <h3 class=\"list_title_b\"><a href=\"https://weibo.com/ttarticle/p/show?id=2309404311286182754285\" class=\"S_txt1\" target=\"_blank\">全面解读!基因编辑婴儿涉及哪些违法问题？是否需要完善立法？</a></h3>\\r\\n                    <div class=\"subinfo_box clearfix\">\\r\\n                        <a href=\"/n/法制日报\" suda-data=\"key=nologin_home&value=nologin_card_profile:1022:2309404311286182754285\" target=\"_blank\"><span class=\"subinfo_face \"><img src=\"https://tvax1.sinaimg.cn/crop.11.0.1220.1220.50/7c67abf5ly8fmfzqvn6f4j20yi0xwjtj.jpg\" width=\"20\" height=\"20\" alt=\"\"></span></a>\\r\\n                        <a href=\"/n/法制日报\" suda-data=\"key=nologin_home&value=nologin_card_profile:1022:2309404311286182754285\" target=\"_blank\"><span class=\"subinfo S_txt2\">法制日报</span></a>\\r\\n                        <span class=\"subinfo S_txt2\">11月28日 11:03</span>\\r\\n                        <span class=\"subinfo_rgt S_txt2\"><em class=\"W_ficon ficon_praised S_ficon W_f16\">ñ</em><em>26</em></span>\\r\\n                        <span class=\"rgt_line W_fr\"></span>\\r\\n                        <span class=\"subinfo_rgt S_txt2\"><em class=\"W_ficon ficon_repeat S_ficon W_f16\">\\ue608</em><em>19</em></span>\\r\\n                        <span class=\"rgt_line W_fr\"></span>\\r\\n                        <span class=\"subinfo_rgt S_txt2\"><em class=\"W_ficon ficon_forward S_ficon W_f16\">\\ue607</em><em>43</em></span>\\r\\n                    </div>\\r\\n                </div>\\r\\n            </div>\\r\\n        \\r\\n                                <!--article feed-->\\r\\n                <div class=\"UG_list_b\" mid=\"1022:2309404311366235217341\"  action-type=\"feed_list_item\" href=\"https://weibo.com/ttarticle/p/show?id=2309404311366235217341\" suda=\"key=nologin_home&value=nologin_card_weibo:1022:2309404311366235217341\" suda-uatrack=\"key=www_unlogin_home&value=headline_feed\">\\r\\n                <div class=\"pic W_piccut_v\">\\r\\n                    <img src=\"https://wx1.sinaimg.cn/crop.36.0.528.396.240/8d5c03a7ly4fxns6skk0gj20go0b0q4j.jpg\" alt=\"\">\\r\\n                </div>\\r\\n                <div class=\"list_des\">\\r\\n                    <h3 class=\"list_title_b\"><a href=\"https://weibo.com/ttarticle/p/show?id=2309404311366235217341\" class=\"S_txt1\" target=\"_blank\">进了985、211才知道：优秀的朋友圈，有多重要？</a></h3>\\r\\n                    <div class=\"subinfo_box clearfix\">\\r\\n                        <a href=\"/n/思想汇聚人生\" suda-data=\"key=nologin_home&value=nologin_card_profile:1022:2309404311366235217341\" target=\"_blank\"><span class=\"subinfo_face \"><img src=\"https://tva2.sinaimg.cn/crop.0.4.750.750.50/8d5c03a7jw8f8wk73aavmj20ku0l3gms.jpg\" width=\"20\" height=\"20\" alt=\"\"></span></a>\\r\\n                        <a href=\"/n/思想汇聚人生\" suda-data=\"key=nologin_home&value=nologin_card_profile:1022:2309404311366235217341\" target=\"_blank\"><span class=\"subinfo S_txt2\">思想汇聚人生</span></a>\\r\\n                        <span class=\"subinfo S_txt2\">11月28日 16:21</span>\\r\\n                        <span class=\"subinfo_rgt S_txt2\"><em class=\"W_ficon ficon_praised S_ficon W_f16\">ñ</em><em>111</em></span>\\r\\n                        <span class=\"rgt_line W_fr\"></span>\\r\\n                        <span class=\"subinfo_rgt S_txt2\"><em class=\"W_ficon ficon_repeat S_ficon W_f16\">\\ue608</em><em>15</em></span>\\r\\n                        <span class=\"rgt_line W_fr\"></span>\\r\\n                        <span class=\"subinfo_rgt S_txt2\"><em class=\"W_ficon ficon_forward S_ficon W_f16\">\\ue607</em><em>177</em></span>\\r\\n                    </div>\\r\\n                </div>\\r\\n            </div>\\r\\n        \\r\\n                <!-- read_pos -->\\n        <!--/read_pos-->\\n</ul>\\n                <!--/feed内容-->\\n        </div>\\n    '"
      ]
     },
     "execution_count": 103,
     "metadata": {},
     "output_type": "execute_result"
    }
   ],
   "source": [
    "req = requests.get(url)\n",
    "data = req.json()\n",
    "data = data['data']\n",
    "data"
   ]
  },
  {
   "cell_type": "code",
   "execution_count": 104,
   "metadata": {},
   "outputs": [],
   "source": [
    "obj = html.fromstring(data)"
   ]
  },
  {
   "cell_type": "code",
   "execution_count": 105,
   "metadata": {},
   "outputs": [
    {
     "data": {
      "text/plain": [
       "<Element div at 0x107c7e688>"
      ]
     },
     "execution_count": 105,
     "metadata": {},
     "output_type": "execute_result"
    }
   ],
   "source": [
    "obj"
   ]
  },
  {
   "cell_type": "code",
   "execution_count": 107,
   "metadata": {},
   "outputs": [
    {
     "data": {
      "text/plain": [
       "[<Element div at 0x107c7eae8>,\n",
       " <Element div at 0x107c7e9a8>,\n",
       " <Element div at 0x107c7e8b8>,\n",
       " <Element div at 0x107c7ef98>,\n",
       " <Element div at 0x107d56048>,\n",
       " <Element div at 0x107d56098>,\n",
       " <Element div at 0x107d560e8>,\n",
       " <Element div at 0x107d56138>]"
      ]
     },
     "execution_count": 107,
     "metadata": {},
     "output_type": "execute_result"
    }
   ],
   "source": [
    "listdiv = obj.xpath('//div[@class=\"UG_list_b\"]')\n",
    "listdiv"
   ]
  },
  {
   "cell_type": "code",
   "execution_count": 108,
   "metadata": {},
   "outputs": [],
   "source": [
    "div = listdiv[0]"
   ]
  },
  {
   "cell_type": "code",
   "execution_count": 114,
   "metadata": {},
   "outputs": [
    {
     "data": {
      "text/plain": [
       "['演员黄景瑜被爆旧照“烈士塔前蹦迪”，遭网友强烈谴责']"
      ]
     },
     "execution_count": 114,
     "metadata": {},
     "output_type": "execute_result"
    }
   ],
   "source": [
    "div.xpath('*//h3[@class=\"list_title_b\"]/a/text()')"
   ]
  },
  {
   "cell_type": "code",
   "execution_count": 115,
   "metadata": {},
   "outputs": [
    {
     "data": {
      "text/plain": [
       "['https://weibo.com/ttarticle/p/show?id=2309351000964311440042416457']"
      ]
     },
     "execution_count": 115,
     "metadata": {},
     "output_type": "execute_result"
    }
   ],
   "source": [
    "div.xpath('*//h3[@class=\"list_title_b\"]/a/@href')"
   ]
  },
  {
   "cell_type": "code",
   "execution_count": 119,
   "metadata": {},
   "outputs": [
    {
     "data": {
      "text/plain": [
       "['现代快报', '11月28日 20:45']"
      ]
     },
     "execution_count": 119,
     "metadata": {},
     "output_type": "execute_result"
    }
   ],
   "source": [
    "div.xpath('*//div[@class=\"subinfo_box clearfix\"]//span/text()')"
   ]
  },
  {
   "cell_type": "code",
   "execution_count": 123,
   "metadata": {},
   "outputs": [
    {
     "data": {
      "text/plain": [
       "['19', '42', '26']"
      ]
     },
     "execution_count": 123,
     "metadata": {},
     "output_type": "execute_result"
    }
   ],
   "source": [
    "div.xpath('*//div[@class=\"subinfo_box clearfix\"]//em[last()]/text()')"
   ]
  },
  {
   "cell_type": "code",
   "execution_count": 125,
   "metadata": {},
   "outputs": [
    {
     "data": {
      "text/plain": [
       "1543475551.818953"
      ]
     },
     "execution_count": 125,
     "metadata": {},
     "output_type": "execute_result"
    }
   ],
   "source": [
    "time.time()"
   ]
  },
  {
   "cell_type": "code",
   "execution_count": 126,
   "metadata": {},
   "outputs": [
    {
     "data": {
      "text/plain": [
       "time.struct_time(tm_year=2018, tm_mon=11, tm_mday=29, tm_hour=15, tm_min=13, tm_sec=19, tm_wday=3, tm_yday=333, tm_isdst=0)"
      ]
     },
     "execution_count": 126,
     "metadata": {},
     "output_type": "execute_result"
    }
   ],
   "source": [
    "time.localtime()"
   ]
  },
  {
   "cell_type": "code",
   "execution_count": 128,
   "metadata": {},
   "outputs": [
    {
     "data": {
      "text/plain": [
       "1543475627.0"
      ]
     },
     "execution_count": 128,
     "metadata": {},
     "output_type": "execute_result"
    }
   ],
   "source": [
    "time.mktime(time.localtime())"
   ]
  },
  {
   "cell_type": "code",
   "execution_count": 129,
   "metadata": {},
   "outputs": [
    {
     "data": {
      "text/plain": [
       "time.struct_time(tm_year=2018, tm_mon=11, tm_mday=29, tm_hour=15, tm_min=13, tm_sec=47, tm_wday=3, tm_yday=333, tm_isdst=0)"
      ]
     },
     "execution_count": 129,
     "metadata": {},
     "output_type": "execute_result"
    }
   ],
   "source": [
    "time.localtime(1543475627.0)"
   ]
  },
  {
   "cell_type": "code",
   "execution_count": 130,
   "metadata": {},
   "outputs": [
    {
     "data": {
      "text/plain": [
       "'2018-11-29'"
      ]
     },
     "execution_count": 130,
     "metadata": {},
     "output_type": "execute_result"
    }
   ],
   "source": [
    "time.strftime('%Y-%m-%d', time.localtime())"
   ]
  },
  {
   "cell_type": "code",
   "execution_count": 131,
   "metadata": {},
   "outputs": [
    {
     "data": {
      "text/plain": [
       "time.struct_time(tm_year=2018, tm_mon=11, tm_mday=29, tm_hour=0, tm_min=0, tm_sec=0, tm_wday=3, tm_yday=333, tm_isdst=-1)"
      ]
     },
     "execution_count": 131,
     "metadata": {},
     "output_type": "execute_result"
    }
   ],
   "source": [
    "time.strptime('2018-11-29', '%Y-%m-%d')"
   ]
  },
  {
   "cell_type": "code",
   "execution_count": 132,
   "metadata": {},
   "outputs": [
    {
     "data": {
      "text/plain": [
       "2018"
      ]
     },
     "execution_count": 132,
     "metadata": {},
     "output_type": "execute_result"
    }
   ],
   "source": [
    "time.localtime().tm_year"
   ]
  },
  {
   "cell_type": "code",
   "execution_count": 133,
   "metadata": {},
   "outputs": [],
   "source": [
    "s = '11月28日 20:45'"
   ]
  },
  {
   "cell_type": "code",
   "execution_count": 134,
   "metadata": {},
   "outputs": [],
   "source": [
    "import re"
   ]
  },
  {
   "cell_type": "code",
   "execution_count": 136,
   "metadata": {},
   "outputs": [],
   "source": [
    "result = re.findall('(\\d+)', s)"
   ]
  },
  {
   "cell_type": "code",
   "execution_count": 137,
   "metadata": {},
   "outputs": [
    {
     "data": {
      "text/plain": [
       "['11', '28', '20', '45']"
      ]
     },
     "execution_count": 137,
     "metadata": {},
     "output_type": "execute_result"
    }
   ],
   "source": [
    "result"
   ]
  },
  {
   "cell_type": "code",
   "execution_count": 138,
   "metadata": {},
   "outputs": [
    {
     "data": {
      "text/plain": [
       "'11:28:20:45'"
      ]
     },
     "execution_count": 138,
     "metadata": {},
     "output_type": "execute_result"
    }
   ],
   "source": [
    "':'.join(result)"
   ]
  },
  {
   "cell_type": "code",
   "execution_count": 141,
   "metadata": {},
   "outputs": [
    {
     "data": {
      "text/plain": [
       "'2018:11:28:20:45'"
      ]
     },
     "execution_count": 141,
     "metadata": {},
     "output_type": "execute_result"
    }
   ],
   "source": [
    "str(time.localtime().tm_year) + ':' + ':'.join(result)"
   ]
  },
  {
   "cell_type": "code",
   "execution_count": 143,
   "metadata": {},
   "outputs": [
    {
     "data": {
      "text/plain": [
       "1543409100.0"
      ]
     },
     "execution_count": 143,
     "metadata": {},
     "output_type": "execute_result"
    }
   ],
   "source": [
    "time.mktime(time.strptime('2018:11:28:20:45', '%Y:%m:%d:%H:%M'))"
   ]
  },
  {
   "cell_type": "code",
   "execution_count": 144,
   "metadata": {},
   "outputs": [],
   "source": [
    "req = requests.get('http://www.doutula.com/photo/list/?page=3')"
   ]
  },
  {
   "cell_type": "code",
   "execution_count": 145,
   "metadata": {},
   "outputs": [],
   "source": [
    "obj = html.fromstring(req.text)"
   ]
  },
  {
   "cell_type": "code",
   "execution_count": 150,
   "metadata": {},
   "outputs": [
    {
     "data": {
      "text/plain": [
       "['https://ws1.sinaimg.cn/bmiddle/9150e4e5gy1fxgjz40eodg20b408cjtd.gif',\n",
       " 'https://ws1.sinaimg.cn/bmiddle/9150e4e5gy1fxgjz1ivy2g206906cagk.gif',\n",
       " 'https://ws3.sinaimg.cn/bmiddle/9150e4e5gy1fxgjyv22p8g205k05gt8y.gif',\n",
       " 'https://ws1.sinaimg.cn/bmiddle/9150e4e5gy1fxgjywxssqg202r02r3z7.gif',\n",
       " 'https://ws1.sinaimg.cn/bmiddle/9150e4e5gy1fxgjytgxeig201o01o0sk.gif',\n",
       " 'https://ws2.sinaimg.cn/bmiddle/9150e4e5gy1fxgjyqpdj7g203y043dg8.gif',\n",
       " 'https://ws4.sinaimg.cn/bmiddle/9150e4e5gy1fxgjys32wog201e01g3ya.gif',\n",
       " 'https://ws4.sinaimg.cn/bmiddle/9150e4e5gy1fxgjynm4hzg202f028mxj.gif',\n",
       " 'https://ws3.sinaimg.cn/bmiddle/9150e4e5gy1fxgjyozad2g201o01o741.gif',\n",
       " 'https://ws4.sinaimg.cn/bmiddle/9150e4e5gy1fxgjylwx1ag206p06p75d.gif',\n",
       " 'https://ws4.sinaimg.cn/bmiddle/9150e4e5gy1fxgjyjxgwxg2024018743.gif',\n",
       " 'https://ws2.sinaimg.cn/bmiddle/9150e4e5gy1fxgjyigr4gg20fk0fk43j.gif',\n",
       " 'https://ws2.sinaimg.cn/bmiddle/9150e4e5gy1fxgk58mmkyg20b806awkn.gif',\n",
       " 'https://ws1.sinaimg.cn/bmiddle/9150e4e5gy1fxgk54b6dxg202o02oq4y.gif',\n",
       " 'https://ws1.sinaimg.cn/bmiddle/9150e4e5gy1fxgk51rqudg201o023dfs.gif',\n",
       " 'https://ws4.sinaimg.cn/bmiddle/9150e4e5gy1fxgk50b4jug20640640sz.gif',\n",
       " 'https://ws4.sinaimg.cn/bmiddle/9150e4e5gy1fxgk1vjdsxg205306qhdt.gif',\n",
       " 'https://ws4.sinaimg.cn/bmiddle/9150e4e5gy1fxgk4ypphkg208c086t9c.gif',\n",
       " 'https://ws3.sinaimg.cn/bmiddle/9150e4e5gy1fxfdvggmhvg206o06ot8n.gif',\n",
       " 'https://ws1.sinaimg.cn/bmiddle/9150e4e5gy1fxfdzkkl5rg206f08cq3r.gif',\n",
       " 'https://ws1.sinaimg.cn/bmiddle/9150e4e5gy1fxfdvezbgzg208c08c74m.gif',\n",
       " 'https://ws3.sinaimg.cn/bmiddle/9150e4e5gy1fxfdzig95hg206y0aab2c.gif',\n",
       " 'https://ws4.sinaimg.cn/bmiddle/9150e4e5gy1fxfdxouab7g202r05o7af.gif',\n",
       " 'https://ws1.sinaimg.cn/bmiddle/9150e4e5gy1fxfe3dw5vng206o06omza.gif',\n",
       " 'https://ws3.sinaimg.cn/bmiddle/9150e4e5gy1fxfe3allerg20a104pb1r.gif',\n",
       " 'https://ws4.sinaimg.cn/bmiddle/9150e4e5gy1fxfe2sj3cdg206d08c0t3.gif',\n",
       " 'https://ws1.sinaimg.cn/bmiddle/9150e4e5gy1fxfe2qv4b8g2028028wf0.gif',\n",
       " 'https://ws1.sinaimg.cn/bmiddle/9150e4e5gy1fxfe2p2bi3g20c805a4qq.gif',\n",
       " 'https://ws2.sinaimg.cn/bmiddle/9150e4e5gy1fxfe1q1l43g202s02swee.gif',\n",
       " 'https://ws1.sinaimg.cn/bmiddle/9150e4e5gy1fxfe1rtiq6g201o01owf1.gif',\n",
       " 'https://ws4.sinaimg.cn/bmiddle/9150e4e5gy1fxfe69a1i0g206o06owsk.gif',\n",
       " 'https://ws4.sinaimg.cn/bmiddle/9150e4e5gy1fxfe8xfzzsg208c08cdic.gif',\n",
       " 'https://ws4.sinaimg.cn/bmiddle/9150e4e5gy1fxfe8yv56lg208c08c0so.gif',\n",
       " 'https://ws3.sinaimg.cn/bmiddle/9150e4e5gy1fxfe90q0lmg205k04qglr.gif',\n",
       " 'https://ws2.sinaimg.cn/bmiddle/9150e4e5gy1fxfe8t28l8g208c0753zi.gif',\n",
       " 'https://ws1.sinaimg.cn/bmiddle/9150e4e5gy1fxfe8utbazg208c08caal.gif',\n",
       " 'https://ws3.sinaimg.cn/bmiddle/9150e4e5gy1fxfe8r4jbtg208c08cgn1.gif',\n",
       " 'https://ws4.sinaimg.cn/bmiddle/9150e4e5gy1fxfe8el10zg208c08c74g.gif',\n",
       " 'https://ws2.sinaimg.cn/bmiddle/9150e4e5gy1fxfe8mbpg9g206o06ot8n.gif',\n",
       " 'https://ws2.sinaimg.cn/bmiddle/9150e4e5gy1fxfe8ot9a4g208c066gmf.gif',\n",
       " 'https://ws1.sinaimg.cn/bmiddle/9150e4e5gy1fxfedtijcgg208c07s0t7.gif',\n",
       " 'https://ws4.sinaimg.cn/bmiddle/9150e4e5gy1fxfe8kctqrg208c07fmxv.gif',\n",
       " 'https://ws2.sinaimg.cn/bmiddle/9150e4e5gy1fxfedrqev9g209q02sq2s.gif',\n",
       " 'https://ws1.sinaimg.cn/bmiddle/9150e4e5gy1fxfedngnofg208c069mxv.gif',\n",
       " 'https://ws3.sinaimg.cn/bmiddle/9150e4e5gy1fxfedppzdeg208c08cgn6.gif',\n",
       " 'https://ws3.sinaimg.cn/bmiddle/9150e4e5gy1fxfedlopuyg203s043t8x.gif',\n",
       " 'https://ws2.sinaimg.cn/bmiddle/9150e4e5gy1fxfedioyafg20bv0bsjrr.gif',\n",
       " 'https://ws1.sinaimg.cn/bmiddle/9150e4e5gy1fxfedk4zl5g201o01o0sk.gif',\n",
       " 'https://ws4.sinaimg.cn/bmiddle/9150e4e5gy1fxfedh0vrjg208709qt9t.gif',\n",
       " 'https://ws2.sinaimg.cn/bmiddle/9150e4e5gy1fxfeddh8jag208c08cglx.gif',\n",
       " 'https://ws2.sinaimg.cn/bmiddle/9150e4e5gy1fxfedf2rrsg205q045t8n.gif',\n",
       " 'https://ws1.sinaimg.cn/bmiddle/9150e4e5gy1fxfedbtvbxg206o06ojsn.gif',\n",
       " 'https://ws2.sinaimg.cn/bmiddle/9150e4e5gy1fxfebwka9tg208c08c0sx.gif',\n",
       " 'https://ws1.sinaimg.cn/bmiddle/9150e4e5gy1fxfebzhxm8g209m05vmx3.gif',\n",
       " 'https://ws1.sinaimg.cn/bmiddle/9150e4e5gy1fxfebj5wung208c08c436.gif',\n",
       " 'https://ws4.sinaimg.cn/bmiddle/9150e4e5gy1fxfebshrujg209q02saak.gif',\n",
       " 'https://ws2.sinaimg.cn/bmiddle/9150e4e5gy1fxfebdwmbzg208c08cjsj.gif',\n",
       " 'https://ws4.sinaimg.cn/bmiddle/9150e4e5gy1fxfed7j0uig208c08cjtq.gif',\n",
       " 'https://ws3.sinaimg.cn/bmiddle/9150e4e5gy1fxfed9qhuog208c08cmyj.gif',\n",
       " 'https://ws2.sinaimg.cn/bmiddle/9150e4e5gy1fxfed4uolng208c08cdh4.gif',\n",
       " 'https://ws3.sinaimg.cn/bmiddle/9150e4e5gy1fxfed2snkcg208c08c40k.gif',\n",
       " 'https://ws4.sinaimg.cn/bmiddle/9150e4e5gy1fxfecypbe5g208c08c74b.gif',\n",
       " 'https://ws1.sinaimg.cn/bmiddle/9150e4e5gy1fxfed0cx05g208c08cq38.gif',\n",
       " 'https://ws4.sinaimg.cn/bmiddle/9150e4e5gy1fxfecx7j18g206o06o0tx.gif',\n",
       " 'https://ws1.sinaimg.cn/bmiddle/9150e4e5gy1fxfectnqj8g206o06on9d.gif',\n",
       " 'https://ws1.sinaimg.cn/bmiddle/9150e4e5gy1fxfecv76f2g20500503yn.gif',\n",
       " 'https://ws3.sinaimg.cn/bmiddle/9150e4e5gy1fxfecn1dujg208c08cmxf.gif',\n",
       " 'https://ws4.sinaimg.cn/bmiddle/9150e4e5gy1fxfecj6tnfg206o06o76g.gif']"
      ]
     },
     "execution_count": 150,
     "metadata": {},
     "output_type": "execute_result"
    }
   ],
   "source": [
    "obj.xpath('//li[@class=\"list-group-item\"]//img/@data-original')"
   ]
  },
  {
   "cell_type": "code",
   "execution_count": null,
   "metadata": {},
   "outputs": [],
   "source": []
  }
 ],
 "metadata": {
  "kernelspec": {
   "display_name": "Python 3",
   "language": "python",
   "name": "python3"
  },
  "language_info": {
   "codemirror_mode": {
    "name": "ipython",
    "version": 3
   },
   "file_extension": ".py",
   "mimetype": "text/x-python",
   "name": "python",
   "nbconvert_exporter": "python",
   "pygments_lexer": "ipython3",
   "version": "3.7.0"
  }
 },
 "nbformat": 4,
 "nbformat_minor": 2
}
