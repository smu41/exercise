{
 "cells": [
  {
   "cell_type": "code",
   "execution_count": 1,
   "metadata": {},
   "outputs": [],
   "source": [
    "from urllib import request"
   ]
  },
  {
   "cell_type": "code",
   "execution_count": 2,
   "metadata": {},
   "outputs": [],
   "source": [
    "url = 'http://httpbin.org/post'"
   ]
  },
  {
   "cell_type": "code",
   "execution_count": 3,
   "metadata": {},
   "outputs": [],
   "source": [
    "req = request.urlopen(url, data = '123456'.encode('utf-8'))"
   ]
  },
  {
   "cell_type": "code",
   "execution_count": 4,
   "metadata": {},
   "outputs": [
    {
     "data": {
      "text/plain": [
       "b'{\\n  \"args\": {}, \\n  \"data\": \"\", \\n  \"files\": {}, \\n  \"form\": {\\n    \"123456\": \"\"\\n  }, \\n  \"headers\": {\\n    \"Accept-Encoding\": \"identity\", \\n    \"Connection\": \"close\", \\n    \"Content-Length\": \"6\", \\n    \"Content-Type\": \"application/x-www-form-urlencoded\", \\n    \"Host\": \"httpbin.org\", \\n    \"User-Agent\": \"Python-urllib/3.6\"\\n  }, \\n  \"json\": null, \\n  \"origin\": \"114.252.105.108\", \\n  \"url\": \"http://httpbin.org/post\"\\n}\\n'"
      ]
     },
     "execution_count": 4,
     "metadata": {},
     "output_type": "execute_result"
    }
   ],
   "source": [
    "req.read()"
   ]
  },
  {
   "cell_type": "code",
   "execution_count": 5,
   "metadata": {},
   "outputs": [],
   "source": [
    "data = {'name':'sun', 'password':'123'}"
   ]
  },
  {
   "cell_type": "code",
   "execution_count": 6,
   "metadata": {},
   "outputs": [],
   "source": [
    "from urllib import parse"
   ]
  },
  {
   "cell_type": "code",
   "execution_count": 7,
   "metadata": {},
   "outputs": [
    {
     "data": {
      "text/plain": [
       "'name=sun&password=123'"
      ]
     },
     "execution_count": 7,
     "metadata": {},
     "output_type": "execute_result"
    }
   ],
   "source": [
    "pdata = parse.urlencode(data)\n",
    "pdata"
   ]
  },
  {
   "cell_type": "code",
   "execution_count": 8,
   "metadata": {},
   "outputs": [],
   "source": [
    "req = request.urlopen(url, data = pdata.encode('utf-8'))"
   ]
  },
  {
   "cell_type": "code",
   "execution_count": 9,
   "metadata": {},
   "outputs": [
    {
     "data": {
      "text/plain": [
       "b'{\\n  \"args\": {}, \\n  \"data\": \"\", \\n  \"files\": {}, \\n  \"form\": {\\n    \"name\": \"sun\", \\n    \"password\": \"123\"\\n  }, \\n  \"headers\": {\\n    \"Accept-Encoding\": \"identity\", \\n    \"Connection\": \"close\", \\n    \"Content-Length\": \"21\", \\n    \"Content-Type\": \"application/x-www-form-urlencoded\", \\n    \"Host\": \"httpbin.org\", \\n    \"User-Agent\": \"Python-urllib/3.6\"\\n  }, \\n  \"json\": null, \\n  \"origin\": \"114.252.105.108\", \\n  \"url\": \"http://httpbin.org/post\"\\n}\\n'"
      ]
     },
     "execution_count": 9,
     "metadata": {},
     "output_type": "execute_result"
    }
   ],
   "source": [
    "req.read()"
   ]
  },
  {
   "cell_type": "code",
   "execution_count": 10,
   "metadata": {},
   "outputs": [],
   "source": [
    "url = 'https://www.oschina.net/action/user/hash_login?from='"
   ]
  },
  {
   "cell_type": "code",
   "execution_count": 11,
   "metadata": {},
   "outputs": [],
   "source": [
    "postdata = {'email': 'abcd12345', 'pwd': 'b227cbd22eaa96019ebfc4aff35ad2add2a47439', 'verifyCode':'', 'save_login': 1}"
   ]
  },
  {
   "cell_type": "code",
   "execution_count": 12,
   "metadata": {},
   "outputs": [],
   "source": [
    "from urllib import request, parse"
   ]
  },
  {
   "cell_type": "code",
   "execution_count": 13,
   "metadata": {},
   "outputs": [],
   "source": [
    "pdata = parse.urlencode(postdata).encode('utf-8')"
   ]
  },
  {
   "cell_type": "code",
   "execution_count": 14,
   "metadata": {},
   "outputs": [
    {
     "data": {
      "text/plain": [
       "b'email=abcd12345&pwd=b227cbd22eaa96019ebfc4aff35ad2add2a47439&verifyCode=&save_login=1'"
      ]
     },
     "execution_count": 14,
     "metadata": {},
     "output_type": "execute_result"
    }
   ],
   "source": [
    "pdata"
   ]
  },
  {
   "cell_type": "code",
   "execution_count": 23,
   "metadata": {},
   "outputs": [],
   "source": [
    "headers = {'User-Agent':'Mozilla/5.0 (Macintosh; Intel Mac OS X 10_14_0) AppleWebKit/537.36 (KHTML, like Gecko) Chrome/70.0.3538.77 Safari/537.36'}\n",
    "reqhd = request.Request(url, data = pdata, headers = headers)\n",
    "req = request.urlopen(reqhd)"
   ]
  },
  {
   "cell_type": "code",
   "execution_count": 24,
   "metadata": {},
   "outputs": [
    {
     "data": {
      "text/plain": [
       "200"
      ]
     },
     "execution_count": 24,
     "metadata": {},
     "output_type": "execute_result"
    }
   ],
   "source": [
    "req.code"
   ]
  },
  {
   "cell_type": "code",
   "execution_count": 25,
   "metadata": {},
   "outputs": [
    {
     "data": {
      "text/plain": [
       "'{\"msg\":\"登录失败，请确认是否输入正确的用户名和密码\",\"failCount\":3}'"
      ]
     },
     "execution_count": 25,
     "metadata": {},
     "output_type": "execute_result"
    }
   ],
   "source": [
    "content = req.read()\n",
    "content.decode('utf-8')"
   ]
  },
  {
   "cell_type": "markdown",
   "metadata": {},
   "source": [
    "### 密码加密"
   ]
  },
  {
   "cell_type": "code",
   "execution_count": 26,
   "metadata": {},
   "outputs": [],
   "source": [
    "import hashlib"
   ]
  },
  {
   "cell_type": "code",
   "execution_count": 27,
   "metadata": {},
   "outputs": [],
   "source": [
    "pwd = 'abcd12345'"
   ]
  },
  {
   "cell_type": "code",
   "execution_count": 28,
   "metadata": {},
   "outputs": [],
   "source": [
    "h = hashlib.sha1(pwd.encode('utf-8'))"
   ]
  },
  {
   "cell_type": "code",
   "execution_count": 29,
   "metadata": {},
   "outputs": [
    {
     "data": {
      "text/plain": [
       "<sha1 HASH object @ 0x10e34dd28>"
      ]
     },
     "execution_count": 29,
     "metadata": {},
     "output_type": "execute_result"
    }
   ],
   "source": [
    "h"
   ]
  },
  {
   "cell_type": "code",
   "execution_count": 30,
   "metadata": {},
   "outputs": [
    {
     "data": {
      "text/plain": [
       "'b227cbd22eaa96019ebfc4aff35ad2add2a47439'"
      ]
     },
     "execution_count": 30,
     "metadata": {},
     "output_type": "execute_result"
    }
   ],
   "source": [
    "h.hexdigest()"
   ]
  },
  {
   "cell_type": "code",
   "execution_count": 31,
   "metadata": {},
   "outputs": [
    {
     "data": {
      "text/plain": [
       "True"
      ]
     },
     "execution_count": 31,
     "metadata": {},
     "output_type": "execute_result"
    }
   ],
   "source": [
    "'b227cbd22eaa96019ebfc4aff35ad2add2a47439' == h.hexdigest()"
   ]
  },
  {
   "cell_type": "markdown",
   "metadata": {},
   "source": [
    "### login_GitHub"
   ]
  },
  {
   "cell_type": "code",
   "execution_count": 1,
   "metadata": {
    "scrolled": true
   },
   "outputs": [
    {
     "data": {
      "text/plain": [
       "'\\nhttps://github.com/login\\nhttps://github.com/session\\n\\ncommit: 登入\\nutf8: ✓\\nauthenticity_token: /VvmLKPLeXNjOnbDarlfzsza0dNebIguxL7oLMOhg/hw0nw3k/uGBzxDtcDUVvVKaEs6uWzchoWIS7bg1szBTg==\\nlogin: python\\npassword: abcd123\\n\\ncommit: 登入\\nutf8: ✓\\nauthenticity_token: G4wJRtnJ1jZeWZgZF4+Bv296PWf1mq/wmWHiQEO9PGCX1JvEUOG8MC1eTrOYGp/D0paPMCv+jHHtn6OENMyXIQ==\\nlogin: python\\npassword: abcd123\\n\\nvalue=\"o8djMVh0VUWH+1JbRV0DBrIf6dTRt/aOXMaVffH1ORaU+qkP1yVuCbITB20KuUuZgMxqoM3R0fornWN/FVnJqg==\"\\n\\ncommit: 登入\\nutf8: ✓\\nauthenticity_token: o8djMVh0VUWH+1JbRV0DBrIf6dTRt/aOXMaVffH1ORaU+qkP1yVuCbITB20KuUuZgMxqoM3R0fornWN/FVnJqg==\\nlogin: python\\npassword: abcd123\\n'"
      ]
     },
     "execution_count": 1,
     "metadata": {},
     "output_type": "execute_result"
    }
   ],
   "source": [
    "\"\"\"\n",
    "https://github.com/login\n",
    "https://github.com/session\n",
    "\n",
    "commit: 登入\n",
    "utf8: ✓\n",
    "authenticity_token: /VvmLKPLeXNjOnbDarlfzsza0dNebIguxL7oLMOhg/hw0nw3k/uGBzxDtcDUVvVKaEs6uWzchoWIS7bg1szBTg==\n",
    "login: python\n",
    "password: abcd123\n",
    "\n",
    "commit: 登入\n",
    "utf8: ✓\n",
    "authenticity_token: G4wJRtnJ1jZeWZgZF4+Bv296PWf1mq/wmWHiQEO9PGCX1JvEUOG8MC1eTrOYGp/D0paPMCv+jHHtn6OENMyXIQ==\n",
    "login: python\n",
    "password: abcd123\n",
    "\n",
    "value=\"o8djMVh0VUWH+1JbRV0DBrIf6dTRt/aOXMaVffH1ORaU+qkP1yVuCbITB20KuUuZgMxqoM3R0fornWN/FVnJqg==\"\n",
    "\n",
    "commit: 登入\n",
    "utf8: ✓\n",
    "authenticity_token: o8djMVh0VUWH+1JbRV0DBrIf6dTRt/aOXMaVffH1ORaU+qkP1yVuCbITB20KuUuZgMxqoM3R0fornWN/FVnJqg==\n",
    "login: python\n",
    "password: abcd123\n",
    "\"\"\""
   ]
  },
  {
   "cell_type": "code",
   "execution_count": 2,
   "metadata": {},
   "outputs": [],
   "source": [
    "from urllib import request\n",
    "from bs4 import BeautifulSoup"
   ]
  },
  {
   "cell_type": "code",
   "execution_count": 4,
   "metadata": {},
   "outputs": [],
   "source": [
    "req = request.urlopen('https://github.com/login')\n",
    "content = req.read().decode('utf-8')\n",
    "obj = BeautifulSoup(content, 'html5lib')"
   ]
  },
  {
   "cell_type": "code",
   "execution_count": 5,
   "metadata": {},
   "outputs": [],
   "source": [
    "form = obj.find('form')"
   ]
  },
  {
   "cell_type": "code",
   "execution_count": 6,
   "metadata": {},
   "outputs": [
    {
     "data": {
      "text/plain": [
       "<form accept-charset=\"UTF-8\" action=\"/session\" method=\"post\"><input name=\"utf8\" type=\"hidden\" value=\"✓\"/><input name=\"authenticity_token\" type=\"hidden\" value=\"fntiogl9qRCB45eJLI0j8odKnzLJ0t73Qml263AEu2Xt1MLo9N3xRHYwuHsnEdezdFrO5+Y0kw80JczkswlhXQ==\"/>      <div class=\"auth-form-header p-0\">\n",
       "        <h1>Sign in to GitHub</h1>\n",
       "      </div>\n",
       "\n",
       "\n",
       "      <div id=\"js-flash-container\">\n",
       "\n",
       "\n",
       "</div>\n",
       "\n",
       "\n",
       "      <div class=\"auth-form-body mt-3\">\n",
       "\n",
       "        <label for=\"login_field\">\n",
       "          Username or email address\n",
       "        </label>\n",
       "        <input autocapitalize=\"off\" autocorrect=\"off\" autofocus=\"autofocus\" class=\"form-control input-block\" id=\"login_field\" name=\"login\" tabindex=\"1\" type=\"text\"/>\n",
       "\n",
       "        <label for=\"password\">\n",
       "          Password <a class=\"label-link\" href=\"/password_reset\">Forgot password?</a>\n",
       "        </label>\n",
       "        <input class=\"form-control form-control input-block\" id=\"password\" name=\"password\" tabindex=\"2\" type=\"password\"/>\n",
       "\n",
       "        <input class=\"btn btn-primary btn-block\" data-disable-with=\"Signing in…\" name=\"commit\" tabindex=\"3\" type=\"submit\" value=\"Sign in\"/>\n",
       "      </div>\n",
       "</form>"
      ]
     },
     "execution_count": 6,
     "metadata": {},
     "output_type": "execute_result"
    }
   ],
   "source": [
    "form"
   ]
  },
  {
   "cell_type": "code",
   "execution_count": 10,
   "metadata": {},
   "outputs": [],
   "source": [
    "listinput = form.findAll('input')"
   ]
  },
  {
   "cell_type": "code",
   "execution_count": 11,
   "metadata": {},
   "outputs": [
    {
     "data": {
      "text/plain": [
       "[<input name=\"utf8\" type=\"hidden\" value=\"✓\"/>,\n",
       " <input name=\"authenticity_token\" type=\"hidden\" value=\"fntiogl9qRCB45eJLI0j8odKnzLJ0t73Qml263AEu2Xt1MLo9N3xRHYwuHsnEdezdFrO5+Y0kw80JczkswlhXQ==\"/>,\n",
       " <input autocapitalize=\"off\" autocorrect=\"off\" autofocus=\"autofocus\" class=\"form-control input-block\" id=\"login_field\" name=\"login\" tabindex=\"1\" type=\"text\"/>,\n",
       " <input class=\"form-control form-control input-block\" id=\"password\" name=\"password\" tabindex=\"2\" type=\"password\"/>,\n",
       " <input class=\"btn btn-primary btn-block\" data-disable-with=\"Signing in…\" name=\"commit\" tabindex=\"3\" type=\"submit\" value=\"Sign in\"/>]"
      ]
     },
     "execution_count": 11,
     "metadata": {},
     "output_type": "execute_result"
    }
   ],
   "source": [
    "listinput"
   ]
  },
  {
   "cell_type": "code",
   "execution_count": 12,
   "metadata": {},
   "outputs": [],
   "source": [
    "item = listinput[0]"
   ]
  },
  {
   "cell_type": "code",
   "execution_count": 14,
   "metadata": {},
   "outputs": [
    {
     "data": {
      "text/plain": [
       "('utf8', '✓')"
      ]
     },
     "execution_count": 14,
     "metadata": {},
     "output_type": "execute_result"
    }
   ],
   "source": [
    "item.get('name'), item.get('value')"
   ]
  },
  {
   "cell_type": "code",
   "execution_count": 17,
   "metadata": {},
   "outputs": [],
   "source": [
    "result = [[item.get('name'), item.get('value')] for item in listinput ]"
   ]
  },
  {
   "cell_type": "code",
   "execution_count": 18,
   "metadata": {},
   "outputs": [
    {
     "data": {
      "text/plain": [
       "[['utf8', '✓'],\n",
       " ['authenticity_token',\n",
       "  'fntiogl9qRCB45eJLI0j8odKnzLJ0t73Qml263AEu2Xt1MLo9N3xRHYwuHsnEdezdFrO5+Y0kw80JczkswlhXQ=='],\n",
       " ['login', None],\n",
       " ['password', None],\n",
       " ['commit', 'Sign in']]"
      ]
     },
     "execution_count": 18,
     "metadata": {},
     "output_type": "execute_result"
    }
   ],
   "source": [
    "result"
   ]
  },
  {
   "cell_type": "code",
   "execution_count": 19,
   "metadata": {},
   "outputs": [
    {
     "data": {
      "text/plain": [
       "{'utf8': '✓',\n",
       " 'authenticity_token': 'fntiogl9qRCB45eJLI0j8odKnzLJ0t73Qml263AEu2Xt1MLo9N3xRHYwuHsnEdezdFrO5+Y0kw80JczkswlhXQ==',\n",
       " 'login': None,\n",
       " 'password': None,\n",
       " 'commit': 'Sign in'}"
      ]
     },
     "execution_count": 19,
     "metadata": {},
     "output_type": "execute_result"
    }
   ],
   "source": [
    "dict(result)"
   ]
  },
  {
   "cell_type": "code",
   "execution_count": 22,
   "metadata": {},
   "outputs": [
    {
     "name": "stdout",
     "output_type": "stream",
     "text": [
      "Help on class HTTPHandler in module urllib.request:\n",
      "\n",
      "class HTTPHandler(AbstractHTTPHandler)\n",
      " |  Method resolution order:\n",
      " |      HTTPHandler\n",
      " |      AbstractHTTPHandler\n",
      " |      BaseHandler\n",
      " |      builtins.object\n",
      " |  \n",
      " |  Methods defined here:\n",
      " |  \n",
      " |  http_open(self, req)\n",
      " |  \n",
      " |  http_request = do_request_(self, request)\n",
      " |  \n",
      " |  ----------------------------------------------------------------------\n",
      " |  Methods inherited from AbstractHTTPHandler:\n",
      " |  \n",
      " |  __init__(self, debuglevel=0)\n",
      " |      Initialize self.  See help(type(self)) for accurate signature.\n",
      " |  \n",
      " |  do_open(self, http_class, req, **http_conn_args)\n",
      " |      Return an HTTPResponse object for the request, using http_class.\n",
      " |      \n",
      " |      http_class must implement the HTTPConnection API from http.client.\n",
      " |  \n",
      " |  do_request_(self, request)\n",
      " |  \n",
      " |  set_http_debuglevel(self, level)\n",
      " |  \n",
      " |  ----------------------------------------------------------------------\n",
      " |  Methods inherited from BaseHandler:\n",
      " |  \n",
      " |  __lt__(self, other)\n",
      " |      Return self<value.\n",
      " |  \n",
      " |  add_parent(self, parent)\n",
      " |  \n",
      " |  close(self)\n",
      " |  \n",
      " |  ----------------------------------------------------------------------\n",
      " |  Data descriptors inherited from BaseHandler:\n",
      " |  \n",
      " |  __dict__\n",
      " |      dictionary for instance variables (if defined)\n",
      " |  \n",
      " |  __weakref__\n",
      " |      list of weak references to the object (if defined)\n",
      " |  \n",
      " |  ----------------------------------------------------------------------\n",
      " |  Data and other attributes inherited from BaseHandler:\n",
      " |  \n",
      " |  handler_order = 500\n",
      "\n"
     ]
    }
   ],
   "source": [
    "help(request.HTTPHandler)"
   ]
  },
  {
   "cell_type": "code",
   "execution_count": 23,
   "metadata": {},
   "outputs": [],
   "source": [
    "httphd = request.HTTPHandler(debuglevel=1)"
   ]
  },
  {
   "cell_type": "code",
   "execution_count": 24,
   "metadata": {},
   "outputs": [],
   "source": [
    "opener = request.build_opener(httphd)"
   ]
  },
  {
   "cell_type": "code",
   "execution_count": 25,
   "metadata": {},
   "outputs": [],
   "source": [
    "url = 'http://httpbin.org/get'"
   ]
  },
  {
   "cell_type": "code",
   "execution_count": 26,
   "metadata": {},
   "outputs": [
    {
     "name": "stdout",
     "output_type": "stream",
     "text": [
      "send: b'GET /get HTTP/1.1\\r\\nAccept-Encoding: identity\\r\\nHost: httpbin.org\\r\\nUser-Agent: Python-urllib/3.6\\r\\nConnection: close\\r\\n\\r\\n'\n",
      "reply: 'HTTP/1.1 200 OK\\r\\n'\n",
      "header: Connection header: Server header: Date header: Content-Type header: Content-Length header: Access-Control-Allow-Origin header: Access-Control-Allow-Credentials header: Via "
     ]
    },
    {
     "data": {
      "text/plain": [
       "<http.client.HTTPResponse at 0x10794cb00>"
      ]
     },
     "execution_count": 26,
     "metadata": {},
     "output_type": "execute_result"
    }
   ],
   "source": [
    "opener.open(url)"
   ]
  },
  {
   "cell_type": "code",
   "execution_count": 27,
   "metadata": {},
   "outputs": [
    {
     "name": "stdout",
     "output_type": "stream",
     "text": [
      "Help on class HTTPCookieProcessor in module urllib.request:\n",
      "\n",
      "class HTTPCookieProcessor(BaseHandler)\n",
      " |  Method resolution order:\n",
      " |      HTTPCookieProcessor\n",
      " |      BaseHandler\n",
      " |      builtins.object\n",
      " |  \n",
      " |  Methods defined here:\n",
      " |  \n",
      " |  __init__(self, cookiejar=None)\n",
      " |      Initialize self.  See help(type(self)) for accurate signature.\n",
      " |  \n",
      " |  http_request(self, request)\n",
      " |  \n",
      " |  http_response(self, request, response)\n",
      " |  \n",
      " |  https_request = http_request(self, request)\n",
      " |  \n",
      " |  https_response = http_response(self, request, response)\n",
      " |  \n",
      " |  ----------------------------------------------------------------------\n",
      " |  Methods inherited from BaseHandler:\n",
      " |  \n",
      " |  __lt__(self, other)\n",
      " |      Return self<value.\n",
      " |  \n",
      " |  add_parent(self, parent)\n",
      " |  \n",
      " |  close(self)\n",
      " |  \n",
      " |  ----------------------------------------------------------------------\n",
      " |  Data descriptors inherited from BaseHandler:\n",
      " |  \n",
      " |  __dict__\n",
      " |      dictionary for instance variables (if defined)\n",
      " |  \n",
      " |  __weakref__\n",
      " |      list of weak references to the object (if defined)\n",
      " |  \n",
      " |  ----------------------------------------------------------------------\n",
      " |  Data and other attributes inherited from BaseHandler:\n",
      " |  \n",
      " |  handler_order = 500\n",
      "\n"
     ]
    }
   ],
   "source": [
    "help(request.HTTPCookieProcessor)"
   ]
  },
  {
   "cell_type": "markdown",
   "metadata": {},
   "source": [
    "### Robots协议"
   ]
  },
  {
   "cell_type": "code",
   "execution_count": 1,
   "metadata": {},
   "outputs": [],
   "source": [
    "from urllib import robotparser"
   ]
  },
  {
   "cell_type": "code",
   "execution_count": 2,
   "metadata": {},
   "outputs": [],
   "source": [
    "rp = robotparser.RobotFileParser()"
   ]
  },
  {
   "cell_type": "code",
   "execution_count": 3,
   "metadata": {},
   "outputs": [],
   "source": [
    "rp.set_url('https://www.douban.com/robots.txt')"
   ]
  },
  {
   "cell_type": "code",
   "execution_count": 4,
   "metadata": {},
   "outputs": [],
   "source": [
    "rp.read()"
   ]
  },
  {
   "cell_type": "code",
   "execution_count": 6,
   "metadata": {},
   "outputs": [
    {
     "data": {
      "text/plain": [
       "True"
      ]
     },
     "execution_count": 6,
     "metadata": {},
     "output_type": "execute_result"
    }
   ],
   "source": [
    "rp.can_fetch('Baiduspider', '/')"
   ]
  },
  {
   "cell_type": "code",
   "execution_count": 7,
   "metadata": {},
   "outputs": [],
   "source": [
    "from urllib import request"
   ]
  },
  {
   "cell_type": "code",
   "execution_count": 21,
   "metadata": {},
   "outputs": [],
   "source": [
    "url = 'http://www.xicidaili.com'\n",
    "url = 'http://httpbin.org/get'"
   ]
  },
  {
   "cell_type": "code",
   "execution_count": 22,
   "metadata": {},
   "outputs": [],
   "source": [
    "ua = 'Mozilla/5.0 (Macintosh; Intel Mac OS X 10_14_1) AppleWebKit/537.36 (KHTML, like Gecko) Chrome/70.0.3538.77 Safari/537.36'\n",
    "ua = UserAgent()\n",
    "hdreq = request.Request(url, headers={'User-Agent':ua.random})\n",
    "req = request.urlopen(hdreq)"
   ]
  },
  {
   "cell_type": "code",
   "execution_count": 23,
   "metadata": {},
   "outputs": [
    {
     "data": {
      "text/plain": [
       "b'{\\n  \"args\": {}, \\n  \"headers\": {\\n    \"Accept-Encoding\": \"identity\", \\n    \"Connection\": \"close\", \\n    \"Host\": \"httpbin.org\", \\n    \"User-Agent\": \"Mozilla/5.0 (Macintosh; Intel Mac OS X 10_8_2) AppleWebKit/537.17 (KHTML, like Gecko) Chrome/24.0.1309.0 Safari/537.17\"\\n  }, \\n  \"origin\": \"114.252.105.108\", \\n  \"url\": \"http://httpbin.org/get\"\\n}\\n'"
      ]
     },
     "execution_count": 23,
     "metadata": {},
     "output_type": "execute_result"
    }
   ],
   "source": [
    "req.read()"
   ]
  },
  {
   "cell_type": "code",
   "execution_count": 12,
   "metadata": {},
   "outputs": [],
   "source": [
    "from fake_useragent import UserAgent"
   ]
  },
  {
   "cell_type": "code",
   "execution_count": 13,
   "metadata": {},
   "outputs": [
    {
     "name": "stderr",
     "output_type": "stream",
     "text": [
      "Error occurred during loading data. Trying to use cache server https://fake-useragent.herokuapp.com/browsers/0.1.11\n",
      "Traceback (most recent call last):\n",
      "  File \"/anaconda3/envs/ys/lib/python3.6/urllib/request.py\", line 1318, in do_open\n",
      "    encode_chunked=req.has_header('Transfer-encoding'))\n",
      "  File \"/anaconda3/envs/ys/lib/python3.6/http/client.py\", line 1239, in request\n",
      "    self._send_request(method, url, body, headers, encode_chunked)\n",
      "  File \"/anaconda3/envs/ys/lib/python3.6/http/client.py\", line 1285, in _send_request\n",
      "    self.endheaders(body, encode_chunked=encode_chunked)\n",
      "  File \"/anaconda3/envs/ys/lib/python3.6/http/client.py\", line 1234, in endheaders\n",
      "    self._send_output(message_body, encode_chunked=encode_chunked)\n",
      "  File \"/anaconda3/envs/ys/lib/python3.6/http/client.py\", line 1026, in _send_output\n",
      "    self.send(msg)\n",
      "  File \"/anaconda3/envs/ys/lib/python3.6/http/client.py\", line 964, in send\n",
      "    self.connect()\n",
      "  File \"/anaconda3/envs/ys/lib/python3.6/http/client.py\", line 1392, in connect\n",
      "    super().connect()\n",
      "  File \"/anaconda3/envs/ys/lib/python3.6/http/client.py\", line 936, in connect\n",
      "    (self.host,self.port), self.timeout, self.source_address)\n",
      "  File \"/anaconda3/envs/ys/lib/python3.6/socket.py\", line 724, in create_connection\n",
      "    raise err\n",
      "  File \"/anaconda3/envs/ys/lib/python3.6/socket.py\", line 713, in create_connection\n",
      "    sock.connect(sa)\n",
      "socket.timeout: timed out\n",
      "\n",
      "During handling of the above exception, another exception occurred:\n",
      "\n",
      "Traceback (most recent call last):\n",
      "  File \"/anaconda3/envs/ys/lib/python3.6/site-packages/fake_useragent/utils.py\", line 67, in get\n",
      "    context=context,\n",
      "  File \"/anaconda3/envs/ys/lib/python3.6/urllib/request.py\", line 223, in urlopen\n",
      "    return opener.open(url, data, timeout)\n",
      "  File \"/anaconda3/envs/ys/lib/python3.6/urllib/request.py\", line 526, in open\n",
      "    response = self._open(req, data)\n",
      "  File \"/anaconda3/envs/ys/lib/python3.6/urllib/request.py\", line 544, in _open\n",
      "    '_open', req)\n",
      "  File \"/anaconda3/envs/ys/lib/python3.6/urllib/request.py\", line 504, in _call_chain\n",
      "    result = func(*args)\n",
      "  File \"/anaconda3/envs/ys/lib/python3.6/urllib/request.py\", line 1361, in https_open\n",
      "    context=self._context, check_hostname=self._check_hostname)\n",
      "  File \"/anaconda3/envs/ys/lib/python3.6/urllib/request.py\", line 1320, in do_open\n",
      "    raise URLError(err)\n",
      "urllib.error.URLError: <urlopen error timed out>\n",
      "\n",
      "During handling of the above exception, another exception occurred:\n",
      "\n",
      "Traceback (most recent call last):\n",
      "  File \"/anaconda3/envs/ys/lib/python3.6/site-packages/fake_useragent/utils.py\", line 154, in load\n",
      "    for item in get_browsers(verify_ssl=verify_ssl):\n",
      "  File \"/anaconda3/envs/ys/lib/python3.6/site-packages/fake_useragent/utils.py\", line 97, in get_browsers\n",
      "    html = get(settings.BROWSERS_STATS_PAGE, verify_ssl=verify_ssl)\n",
      "  File \"/anaconda3/envs/ys/lib/python3.6/site-packages/fake_useragent/utils.py\", line 84, in get\n",
      "    raise FakeUserAgentError('Maximum amount of retries reached')\n",
      "fake_useragent.errors.FakeUserAgentError: Maximum amount of retries reached\n"
     ]
    }
   ],
   "source": [
    "ua = UserAgent()"
   ]
  },
  {
   "cell_type": "code",
   "execution_count": 14,
   "metadata": {},
   "outputs": [
    {
     "data": {
      "text/plain": [
       "'Mozilla/5.0 (Windows NT 6.3; Win64; x64) AppleWebKit/537.36 (KHTML, like Gecko) Chrome/37.0.2049.0 Safari/537.36'"
      ]
     },
     "execution_count": 14,
     "metadata": {},
     "output_type": "execute_result"
    }
   ],
   "source": [
    "ua.random"
   ]
  },
  {
   "cell_type": "code",
   "execution_count": 15,
   "metadata": {},
   "outputs": [
    {
     "data": {
      "text/plain": [
       "'Mozilla/5.0 (Windows NT 6.2; WOW64) AppleWebKit/537.36 (KHTML, like Gecko) Chrome/30.0.1599.17 Safari/537.36'"
      ]
     },
     "execution_count": 15,
     "metadata": {},
     "output_type": "execute_result"
    }
   ],
   "source": [
    "ua.random"
   ]
  },
  {
   "cell_type": "code",
   "execution_count": 16,
   "metadata": {},
   "outputs": [
    {
     "data": {
      "text/plain": [
       "{'chrome': ['Mozilla/5.0 (Windows NT 6.1) AppleWebKit/537.36 (KHTML, like Gecko) Chrome/41.0.2228.0 Safari/537.36',\n",
       "  'Mozilla/5.0 (Macintosh; Intel Mac OS X 10_10_1) AppleWebKit/537.36 (KHTML, like Gecko) Chrome/41.0.2227.1 Safari/537.36',\n",
       "  'Mozilla/5.0 (X11; Linux x86_64) AppleWebKit/537.36 (KHTML, like Gecko) Chrome/41.0.2227.0 Safari/537.36',\n",
       "  'Mozilla/5.0 (Windows NT 6.1; WOW64) AppleWebKit/537.36 (KHTML, like Gecko) Chrome/41.0.2227.0 Safari/537.36',\n",
       "  'Mozilla/5.0 (Windows NT 6.3; WOW64) AppleWebKit/537.36 (KHTML, like Gecko) Chrome/41.0.2226.0 Safari/537.36',\n",
       "  'Mozilla/5.0 (Windows NT 6.4; WOW64) AppleWebKit/537.36 (KHTML, like Gecko) Chrome/41.0.2225.0 Safari/537.36',\n",
       "  'Mozilla/5.0 (Windows NT 6.3; WOW64) AppleWebKit/537.36 (KHTML, like Gecko) Chrome/41.0.2225.0 Safari/537.36',\n",
       "  'Mozilla/5.0 (Windows NT 5.1) AppleWebKit/537.36 (KHTML, like Gecko) Chrome/41.0.2224.3 Safari/537.36',\n",
       "  'Mozilla/5.0 (Windows NT 10.0) AppleWebKit/537.36 (KHTML, like Gecko) Chrome/40.0.2214.93 Safari/537.36',\n",
       "  'Mozilla/5.0 (Macintosh; Intel Mac OS X 10_10_1) AppleWebKit/537.36 (KHTML, like Gecko) Chrome/37.0.2062.124 Safari/537.36',\n",
       "  'Mozilla/5.0 (Windows NT 6.3; Win64; x64) AppleWebKit/537.36 (KHTML, like Gecko) Chrome/37.0.2049.0 Safari/537.36',\n",
       "  'Mozilla/5.0 (Windows NT 4.0; WOW64) AppleWebKit/537.36 (KHTML, like Gecko) Chrome/37.0.2049.0 Safari/537.36',\n",
       "  'Mozilla/5.0 (Windows NT 6.1; WOW64) AppleWebKit/537.36 (KHTML, like Gecko) Chrome/36.0.1985.67 Safari/537.36',\n",
       "  'Mozilla/5.0 (Windows NT 5.1) AppleWebKit/537.36 (KHTML, like Gecko) Chrome/36.0.1985.67 Safari/537.36',\n",
       "  'Mozilla/5.0 (X11; OpenBSD i386) AppleWebKit/537.36 (KHTML, like Gecko) Chrome/36.0.1985.125 Safari/537.36',\n",
       "  'Mozilla/5.0 (Macintosh; Intel Mac OS X 10_9_2) AppleWebKit/537.36 (KHTML, like Gecko) Chrome/36.0.1944.0 Safari/537.36',\n",
       "  'Mozilla/5.0 (Windows NT 5.1) AppleWebKit/537.36 (KHTML, like Gecko) Chrome/35.0.3319.102 Safari/537.36',\n",
       "  'Mozilla/5.0 (Windows NT 5.1) AppleWebKit/537.36 (KHTML, like Gecko) Chrome/35.0.2309.372 Safari/537.36',\n",
       "  'Mozilla/5.0 (Windows NT 5.1) AppleWebKit/537.36 (KHTML, like Gecko) Chrome/35.0.2117.157 Safari/537.36',\n",
       "  'Mozilla/5.0 (Macintosh; Intel Mac OS X 10_9_3) AppleWebKit/537.36 (KHTML, like Gecko) Chrome/35.0.1916.47 Safari/537.36',\n",
       "  'Mozilla/5.0 (Windows NT 5.1) AppleWebKit/537.36 (KHTML, like Gecko) Chrome/34.0.1866.237 Safari/537.36',\n",
       "  'Mozilla/5.0 (X11; Linux x86_64) AppleWebKit/537.36 (KHTML, like Gecko) Chrome/34.0.1847.137 Safari/4E423F',\n",
       "  'Mozilla/5.0 (Windows NT 5.1) AppleWebKit/537.36 (KHTML, like Gecko) Chrome/34.0.1847.116 Safari/537.36 Mozilla/5.0 (iPad; U; CPU OS 3_2 like Mac OS X; en-us) AppleWebKit/531.21.10 (KHTML, like Gecko) Version/4.0.4 Mobile/7B334b Safari/531.21.10',\n",
       "  'Mozilla/5.0 (X11; Linux x86_64) AppleWebKit/537.36 (KHTML, like Gecko) Chrome/33.0.1750.517 Safari/537.36',\n",
       "  'Mozilla/5.0 (Windows NT 6.2; Win64; x64) AppleWebKit/537.36 (KHTML, like Gecko) Chrome/32.0.1667.0 Safari/537.36',\n",
       "  'Mozilla/5.0 (Macintosh; Intel Mac OS X 10_9_0) AppleWebKit/537.36 (KHTML, like Gecko) Chrome/32.0.1664.3 Safari/537.36',\n",
       "  'Mozilla/5.0 (Macintosh; Intel Mac OS X 10_8_0) AppleWebKit/537.36 (KHTML, like Gecko) Chrome/32.0.1664.3 Safari/537.36',\n",
       "  'Mozilla/5.0 (Windows NT 5.1) AppleWebKit/537.36 (KHTML, like Gecko) Chrome/31.0.1650.16 Safari/537.36',\n",
       "  'Mozilla/5.0 (Windows NT 6.1; WOW64) AppleWebKit/537.36 (KHTML, like Gecko) Chrome/31.0.1623.0 Safari/537.36',\n",
       "  'Mozilla/5.0 (Windows NT 6.2; WOW64) AppleWebKit/537.36 (KHTML, like Gecko) Chrome/30.0.1599.17 Safari/537.36',\n",
       "  'Mozilla/5.0 (Windows NT 6.1; WOW64) AppleWebKit/537.36 (KHTML, like Gecko) Chrome/29.0.1547.62 Safari/537.36',\n",
       "  'Mozilla/5.0 (X11; CrOS i686 4319.74.0) AppleWebKit/537.36 (KHTML, like Gecko) Chrome/29.0.1547.57 Safari/537.36',\n",
       "  'Mozilla/5.0 (Windows NT 6.2; WOW64) AppleWebKit/537.36 (KHTML, like Gecko) Chrome/29.0.1547.2 Safari/537.36',\n",
       "  'Mozilla/5.0 (Windows NT 6.1) AppleWebKit/537.36 (KHTML, like Gecko) Chrome/28.0.1468.0 Safari/537.36',\n",
       "  'Mozilla/5.0 (Windows NT 6.2) AppleWebKit/537.36 (KHTML, like Gecko) Chrome/28.0.1467.0 Safari/537.36',\n",
       "  'Mozilla/5.0 (Windows NT 6.2) AppleWebKit/537.36 (KHTML, like Gecko) Chrome/28.0.1464.0 Safari/537.36',\n",
       "  'Mozilla/5.0 (Windows NT 6.2; WOW64) AppleWebKit/537.36 (KHTML, like Gecko) Chrome/27.0.1500.55 Safari/537.36',\n",
       "  'Mozilla/5.0 (Windows NT 6.2; WOW64) AppleWebKit/537.36 (KHTML, like Gecko) Chrome/27.0.1453.93 Safari/537.36',\n",
       "  'Mozilla/5.0 (Windows NT 6.1; WOW64) AppleWebKit/537.36 (KHTML, like Gecko) Chrome/27.0.1453.93 Safari/537.36',\n",
       "  'Mozilla/5.0 (Windows NT 6.1) AppleWebKit/537.36 (KHTML, like Gecko) Chrome/27.0.1453.93 Safari/537.36',\n",
       "  'Mozilla/5.0 (Windows NT 5.1) AppleWebKit/537.36 (KHTML, like Gecko) Chrome/27.0.1453.93 Safari/537.36',\n",
       "  'Mozilla/5.0 (Macintosh; Intel Mac OS X 10_8_3) AppleWebKit/537.36 (KHTML, like Gecko) Chrome/27.0.1453.93 Safari/537.36',\n",
       "  'Mozilla/5.0 (Macintosh; Intel Mac OS X 10_7_5) AppleWebKit/537.36 (KHTML, like Gecko) Chrome/27.0.1453.93 Safari/537.36',\n",
       "  'Mozilla/5.0 (Windows NT 6.1) AppleWebKit/537.36 (KHTML, like Gecko) Chrome/27.0.1453.90 Safari/537.36',\n",
       "  'Mozilla/5.0 (X11; NetBSD) AppleWebKit/537.36 (KHTML, like Gecko) Chrome/27.0.1453.116 Safari/537.36',\n",
       "  'Mozilla/5.0 (X11; CrOS i686 3912.101.0) AppleWebKit/537.36 (KHTML, like Gecko) Chrome/27.0.1453.116 Safari/537.36',\n",
       "  'Mozilla/5.0 (Windows NT 6.1; WOW64) AppleWebKit/537.17 (KHTML, like Gecko) Chrome/24.0.1312.60 Safari/537.17',\n",
       "  'Mozilla/5.0 (Macintosh; Intel Mac OS X 10_8_2) AppleWebKit/537.17 (KHTML, like Gecko) Chrome/24.0.1309.0 Safari/537.17',\n",
       "  'Mozilla/5.0 (Windows NT 6.2; WOW64) AppleWebKit/537.15 (KHTML, like Gecko) Chrome/24.0.1295.0 Safari/537.15',\n",
       "  'Mozilla/5.0 (Windows NT 6.2; WOW64) AppleWebKit/537.14 (KHTML, like Gecko) Chrome/24.0.1292.0 Safari/537.14'],\n",
       " 'opera': ['Opera/9.80 (X11; Linux i686; Ubuntu/14.10) Presto/2.12.388 Version/12.16',\n",
       "  'Opera/9.80 (Windows NT 6.0) Presto/2.12.388 Version/12.14',\n",
       "  'Mozilla/5.0 (Windows NT 6.0; rv:2.0) Gecko/20100101 Firefox/4.0 Opera 12.14',\n",
       "  'Mozilla/5.0 (compatible; MSIE 9.0; Windows NT 6.0) Opera 12.14',\n",
       "  'Opera/12.80 (Windows NT 5.1; U; en) Presto/2.10.289 Version/12.02',\n",
       "  'Opera/9.80 (Windows NT 6.1; U; es-ES) Presto/2.9.181 Version/12.00',\n",
       "  'Opera/9.80 (Windows NT 5.1; U; zh-sg) Presto/2.9.181 Version/12.00',\n",
       "  'Opera/12.0(Windows NT 5.2;U;en)Presto/22.9.168 Version/12.00',\n",
       "  'Opera/12.0(Windows NT 5.1;U;en)Presto/22.9.168 Version/12.00',\n",
       "  'Mozilla/5.0 (Windows NT 5.1) Gecko/20100101 Firefox/14.0 Opera/12.0',\n",
       "  'Opera/9.80 (Windows NT 6.1; WOW64; U; pt) Presto/2.10.229 Version/11.62',\n",
       "  'Opera/9.80 (Windows NT 6.0; U; pl) Presto/2.10.229 Version/11.62',\n",
       "  'Opera/9.80 (Macintosh; Intel Mac OS X 10.6.8; U; fr) Presto/2.9.168 Version/11.52',\n",
       "  'Opera/9.80 (Macintosh; Intel Mac OS X 10.6.8; U; de) Presto/2.9.168 Version/11.52',\n",
       "  'Opera/9.80 (Windows NT 5.1; U; en) Presto/2.9.168 Version/11.51',\n",
       "  'Mozilla/5.0 (compatible; MSIE 9.0; Windows NT 6.1; de) Opera 11.51',\n",
       "  'Opera/9.80 (X11; Linux x86_64; U; fr) Presto/2.9.168 Version/11.50',\n",
       "  'Opera/9.80 (X11; Linux i686; U; hu) Presto/2.9.168 Version/11.50',\n",
       "  'Opera/9.80 (X11; Linux i686; U; ru) Presto/2.8.131 Version/11.11',\n",
       "  'Opera/9.80 (X11; Linux i686; U; es-ES) Presto/2.8.131 Version/11.11',\n",
       "  'Mozilla/5.0 (Windows NT 5.1; U; en; rv:1.8.1) Gecko/20061208 Firefox/5.0 Opera 11.11',\n",
       "  'Opera/9.80 (X11; Linux x86_64; U; bg) Presto/2.8.131 Version/11.10',\n",
       "  'Opera/9.80 (Windows NT 6.0; U; en) Presto/2.8.99 Version/11.10',\n",
       "  'Opera/9.80 (Windows NT 5.1; U; zh-tw) Presto/2.8.131 Version/11.10',\n",
       "  'Opera/9.80 (Windows NT 6.1; Opera Tablet/15165; U; en) Presto/2.8.149 Version/11.1',\n",
       "  'Opera/9.80 (X11; Linux x86_64; U; Ubuntu/10.10 (maverick); pl) Presto/2.7.62 Version/11.01',\n",
       "  'Opera/9.80 (X11; Linux i686; U; ja) Presto/2.7.62 Version/11.01',\n",
       "  'Opera/9.80 (X11; Linux i686; U; fr) Presto/2.7.62 Version/11.01',\n",
       "  'Opera/9.80 (Windows NT 6.1; U; zh-tw) Presto/2.7.62 Version/11.01',\n",
       "  'Opera/9.80 (Windows NT 6.1; U; zh-cn) Presto/2.7.62 Version/11.01',\n",
       "  'Opera/9.80 (Windows NT 6.1; U; sv) Presto/2.7.62 Version/11.01',\n",
       "  'Opera/9.80 (Windows NT 6.1; U; en-US) Presto/2.7.62 Version/11.01',\n",
       "  'Opera/9.80 (Windows NT 6.1; U; cs) Presto/2.7.62 Version/11.01',\n",
       "  'Opera/9.80 (Windows NT 6.0; U; pl) Presto/2.7.62 Version/11.01',\n",
       "  'Opera/9.80 (Windows NT 5.2; U; ru) Presto/2.7.62 Version/11.01',\n",
       "  'Opera/9.80 (Windows NT 5.1; U;) Presto/2.7.62 Version/11.01',\n",
       "  'Opera/9.80 (Windows NT 5.1; U; cs) Presto/2.7.62 Version/11.01',\n",
       "  'Mozilla/5.0 (Windows; U; Windows NT 6.1; en-US; rv:1.9.2.13) Gecko/20101213 Opera/9.80 (Windows NT 6.1; U; zh-tw) Presto/2.7.62 Version/11.01',\n",
       "  'Mozilla/5.0 (Windows NT 6.1; U; nl; rv:1.9.1.6) Gecko/20091201 Firefox/3.5.6 Opera 11.01',\n",
       "  'Mozilla/5.0 (Windows NT 6.1; U; de; rv:1.9.1.6) Gecko/20091201 Firefox/3.5.6 Opera 11.01',\n",
       "  'Mozilla/4.0 (compatible; MSIE 8.0; Windows NT 6.1; de) Opera 11.01',\n",
       "  'Opera/9.80 (X11; Linux x86_64; U; pl) Presto/2.7.62 Version/11.00',\n",
       "  'Opera/9.80 (X11; Linux i686; U; it) Presto/2.7.62 Version/11.00',\n",
       "  'Opera/9.80 (Windows NT 6.1; U; zh-cn) Presto/2.6.37 Version/11.00',\n",
       "  'Opera/9.80 (Windows NT 6.1; U; pl) Presto/2.7.62 Version/11.00',\n",
       "  'Opera/9.80 (Windows NT 6.1; U; ko) Presto/2.7.62 Version/11.00',\n",
       "  'Opera/9.80 (Windows NT 6.1; U; fi) Presto/2.7.62 Version/11.00',\n",
       "  'Opera/9.80 (Windows NT 6.1; U; en-GB) Presto/2.7.62 Version/11.00',\n",
       "  'Opera/9.80 (Windows NT 6.1 x64; U; en) Presto/2.7.62 Version/11.00',\n",
       "  'Opera/9.80 (Windows NT 6.0; U; en) Presto/2.7.39 Version/11.00'],\n",
       " 'firefox': ['Mozilla/5.0 (Windows NT 6.1; WOW64; rv:40.0) Gecko/20100101 Firefox/40.1',\n",
       "  'Mozilla/5.0 (Windows NT 6.3; rv:36.0) Gecko/20100101 Firefox/36.0',\n",
       "  'Mozilla/5.0 (Macintosh; Intel Mac OS X 10_10; rv:33.0) Gecko/20100101 Firefox/33.0',\n",
       "  'Mozilla/5.0 (X11; Linux i586; rv:31.0) Gecko/20100101 Firefox/31.0',\n",
       "  'Mozilla/5.0 (Windows NT 6.1; WOW64; rv:31.0) Gecko/20130401 Firefox/31.0',\n",
       "  'Mozilla/5.0 (Windows NT 5.1; rv:31.0) Gecko/20100101 Firefox/31.0',\n",
       "  'Mozilla/5.0 (Windows NT 6.1; WOW64; rv:29.0) Gecko/20120101 Firefox/29.0',\n",
       "  'Mozilla/5.0 (Windows NT 6.1; Win64; x64; rv:25.0) Gecko/20100101 Firefox/29.0',\n",
       "  'Mozilla/5.0 (X11; OpenBSD amd64; rv:28.0) Gecko/20100101 Firefox/28.0',\n",
       "  'Mozilla/5.0 (X11; Linux x86_64; rv:28.0) Gecko/20100101  Firefox/28.0',\n",
       "  'Mozilla/5.0 (Windows NT 6.1; rv:27.3) Gecko/20130101 Firefox/27.3',\n",
       "  'Mozilla/5.0 (Windows NT 6.2; Win64; x64; rv:27.0) Gecko/20121011 Firefox/27.0',\n",
       "  'Mozilla/5.0 (Windows NT 6.1; Win64; x64; rv:25.0) Gecko/20100101 Firefox/25.0',\n",
       "  'Mozilla/5.0 (Macintosh; Intel Mac OS X 10.6; rv:25.0) Gecko/20100101 Firefox/25.0',\n",
       "  'Mozilla/5.0 (X11; Ubuntu; Linux x86_64; rv:24.0) Gecko/20100101 Firefox/24.0',\n",
       "  'Mozilla/5.0 (Windows NT 6.0; WOW64; rv:24.0) Gecko/20100101 Firefox/24.0',\n",
       "  'Mozilla/5.0 (Macintosh; Intel Mac OS X 10.8; rv:24.0) Gecko/20100101 Firefox/24.0',\n",
       "  'Mozilla/5.0 (Windows NT 6.2; rv:22.0) Gecko/20130405 Firefox/23.0',\n",
       "  'Mozilla/5.0 (Windows NT 6.1; WOW64; rv:23.0) Gecko/20130406 Firefox/23.0',\n",
       "  'Mozilla/5.0 (Windows NT 6.1; Win64; x64; rv:23.0) Gecko/20131011 Firefox/23.0',\n",
       "  'Mozilla/5.0 (Windows NT 6.2; rv:22.0) Gecko/20130405 Firefox/22.0',\n",
       "  'Mozilla/5.0 (Windows NT 6.1; Win64; x64; rv:22.0) Gecko/20130328 Firefox/22.0',\n",
       "  'Mozilla/5.0 (Windows NT 6.1; rv:22.0) Gecko/20130405 Firefox/22.0',\n",
       "  'Mozilla/5.0 (Microsoft Windows NT 6.2.9200.0); rv:22.0) Gecko/20130405 Firefox/22.0',\n",
       "  'Mozilla/5.0 (Windows NT 6.2; Win64; x64; rv:16.0.1) Gecko/20121011 Firefox/21.0.1',\n",
       "  'Mozilla/5.0 (Windows NT 6.1; Win64; x64; rv:16.0.1) Gecko/20121011 Firefox/21.0.1',\n",
       "  'Mozilla/5.0 (Windows NT 6.2; Win64; x64; rv:21.0.0) Gecko/20121011 Firefox/21.0.0',\n",
       "  'Mozilla/5.0 (X11; Ubuntu; Linux x86_64; rv:21.0) Gecko/20130331 Firefox/21.0',\n",
       "  'Mozilla/5.0 (X11; Ubuntu; Linux x86_64; rv:21.0) Gecko/20100101 Firefox/21.0',\n",
       "  'Mozilla/5.0 (X11; Linux i686; rv:21.0) Gecko/20100101 Firefox/21.0',\n",
       "  'Mozilla/5.0 (Windows NT 6.2; WOW64; rv:21.0) Gecko/20130514 Firefox/21.0',\n",
       "  'Mozilla/5.0 (Windows NT 6.2; rv:21.0) Gecko/20130326 Firefox/21.0',\n",
       "  'Mozilla/5.0 (Windows NT 6.1; WOW64; rv:21.0) Gecko/20130401 Firefox/21.0',\n",
       "  'Mozilla/5.0 (Windows NT 6.1; WOW64; rv:21.0) Gecko/20130331 Firefox/21.0',\n",
       "  'Mozilla/5.0 (Windows NT 6.1; WOW64; rv:21.0) Gecko/20130330 Firefox/21.0',\n",
       "  'Mozilla/5.0 (Windows NT 6.1; WOW64; rv:21.0) Gecko/20100101 Firefox/21.0',\n",
       "  'Mozilla/5.0 (Windows NT 6.1; rv:21.0) Gecko/20130401 Firefox/21.0',\n",
       "  'Mozilla/5.0 (Windows NT 6.1; rv:21.0) Gecko/20130328 Firefox/21.0',\n",
       "  'Mozilla/5.0 (Windows NT 6.1; rv:21.0) Gecko/20100101 Firefox/21.0',\n",
       "  'Mozilla/5.0 (Windows NT 5.1; rv:21.0) Gecko/20130401 Firefox/21.0',\n",
       "  'Mozilla/5.0 (Windows NT 5.1; rv:21.0) Gecko/20130331 Firefox/21.0',\n",
       "  'Mozilla/5.0 (Windows NT 5.1; rv:21.0) Gecko/20100101 Firefox/21.0',\n",
       "  'Mozilla/5.0 (Windows NT 5.0; rv:21.0) Gecko/20100101 Firefox/21.0',\n",
       "  'Mozilla/5.0 (Macintosh; Intel Mac OS X 10.8; rv:21.0) Gecko/20100101 Firefox/21.0',\n",
       "  'Mozilla/5.0 (Windows NT 6.2; Win64; x64;) Gecko/20100101 Firefox/20.0',\n",
       "  'Mozilla/5.0 (Windows x86; rv:19.0) Gecko/20100101 Firefox/19.0',\n",
       "  'Mozilla/5.0 (Windows NT 6.1; rv:6.0) Gecko/20100101 Firefox/19.0',\n",
       "  'Mozilla/5.0 (Windows NT 6.1; rv:14.0) Gecko/20100101 Firefox/18.0.1',\n",
       "  'Mozilla/5.0 (Windows NT 6.1; WOW64; rv:18.0)  Gecko/20100101 Firefox/18.0',\n",
       "  'Mozilla/5.0 (X11; Ubuntu; Linux x86_64; rv:17.0) Gecko/20100101 Firefox/17.0.6'],\n",
       " 'internetexplorer': ['Mozilla/5.0 (Windows NT 6.1; WOW64; Trident/7.0; AS; rv:11.0) like Gecko',\n",
       "  'Mozilla/5.0 (compatible, MSIE 11, Windows NT 6.3; Trident/7.0;  rv:11.0) like Gecko',\n",
       "  'Mozilla/5.0 (compatible; MSIE 10.6; Windows NT 6.1; Trident/5.0; InfoPath.2; SLCC1; .NET CLR 3.0.4506.2152; .NET CLR 3.5.30729; .NET CLR 2.0.50727) 3gpp-gba UNTRUSTED/1.0',\n",
       "  'Mozilla/5.0 (compatible; MSIE 10.0; Windows NT 7.0; InfoPath.3; .NET CLR 3.1.40767; Trident/6.0; en-IN)',\n",
       "  'Mozilla/5.0 (compatible; MSIE 10.0; Windows NT 6.1; WOW64; Trident/6.0)',\n",
       "  'Mozilla/5.0 (compatible; MSIE 10.0; Windows NT 6.1; Trident/6.0)',\n",
       "  'Mozilla/5.0 (compatible; MSIE 10.0; Windows NT 6.1; Trident/5.0)',\n",
       "  'Mozilla/5.0 (compatible; MSIE 10.0; Windows NT 6.1; Trident/4.0; InfoPath.2; SV1; .NET CLR 2.0.50727; WOW64)',\n",
       "  'Mozilla/5.0 (compatible; MSIE 10.0; Macintosh; Intel Mac OS X 10_7_3; Trident/6.0)',\n",
       "  'Mozilla/4.0 (Compatible; MSIE 8.0; Windows NT 5.2; Trident/6.0)',\n",
       "  'Mozilla/4.0 (compatible; MSIE 10.0; Windows NT 6.1; Trident/5.0)',\n",
       "  'Mozilla/1.22 (compatible; MSIE 10.0; Windows 3.1)',\n",
       "  'Mozilla/5.0 (Windows; U; MSIE 9.0; WIndows NT 9.0; en-US))',\n",
       "  'Mozilla/5.0 (Windows; U; MSIE 9.0; Windows NT 9.0; en-US)',\n",
       "  'Mozilla/5.0 (compatible; MSIE 9.0; Windows NT 7.1; Trident/5.0)',\n",
       "  'Mozilla/5.0 (compatible; MSIE 9.0; Windows NT 6.1; WOW64; Trident/5.0; SLCC2; Media Center PC 6.0; InfoPath.3; MS-RTC LM 8; Zune 4.7)',\n",
       "  'Mozilla/5.0 (compatible; MSIE 9.0; Windows NT 6.1; WOW64; Trident/5.0; SLCC2; Media Center PC 6.0; InfoPath.3; MS-RTC LM 8; Zune 4.7',\n",
       "  'Mozilla/5.0 (compatible; MSIE 9.0; Windows NT 6.1; WOW64; Trident/5.0; SLCC2; .NET CLR 2.0.50727; .NET CLR 3.5.30729; .NET CLR 3.0.30729; Media Center PC 6.0; Zune 4.0; InfoPath.3; MS-RTC LM 8; .NET4.0C; .NET4.0E)',\n",
       "  'Mozilla/5.0 (compatible; MSIE 9.0; Windows NT 6.1; WOW64; Trident/5.0; chromeframe/12.0.742.112)',\n",
       "  'Mozilla/5.0 (compatible; MSIE 9.0; Windows NT 6.1; WOW64; Trident/5.0; .NET CLR 3.5.30729; .NET CLR 3.0.30729; .NET CLR 2.0.50727; Media Center PC 6.0)',\n",
       "  'Mozilla/5.0 (compatible; MSIE 9.0; Windows NT 6.1; Win64; x64; Trident/5.0; .NET CLR 3.5.30729; .NET CLR 3.0.30729; .NET CLR 2.0.50727; Media Center PC 6.0)',\n",
       "  'Mozilla/5.0 (compatible; MSIE 9.0; Windows NT 6.1; Win64; x64; Trident/5.0; .NET CLR 2.0.50727; SLCC2; .NET CLR 3.5.30729; .NET CLR 3.0.30729; Media Center PC 6.0; Zune 4.0; Tablet PC 2.0; InfoPath.3; .NET4.0C; .NET4.0E)',\n",
       "  'Mozilla/5.0 (compatible; MSIE 9.0; Windows NT 6.1; Win64; x64; Trident/5.0',\n",
       "  'Mozilla/5.0 (compatible; MSIE 9.0; Windows NT 6.1; Trident/5.0; yie8)',\n",
       "  'Mozilla/5.0 (compatible; MSIE 9.0; Windows NT 6.1; Trident/5.0; SLCC2; .NET CLR 2.0.50727; .NET CLR 3.5.30729; .NET CLR 3.0.30729; Media Center PC 6.0; InfoPath.2; .NET CLR 1.1.4322; .NET4.0C; Tablet PC 2.0)',\n",
       "  'Mozilla/5.0 (compatible; MSIE 9.0; Windows NT 6.1; Trident/5.0; FunWebProducts)',\n",
       "  'Mozilla/5.0 (compatible; MSIE 9.0; Windows NT 6.1; Trident/5.0; chromeframe/13.0.782.215)',\n",
       "  'Mozilla/5.0 (compatible; MSIE 9.0; Windows NT 6.1; Trident/5.0; chromeframe/11.0.696.57)',\n",
       "  'Mozilla/5.0 (compatible; MSIE 9.0; Windows NT 6.1; Trident/5.0) chromeframe/10.0.648.205',\n",
       "  'Mozilla/5.0 (compatible; MSIE 9.0; Windows NT 6.1; Trident/4.0; GTB7.4; InfoPath.1; SV1; .NET CLR 2.8.52393; WOW64; en-US)',\n",
       "  'Mozilla/5.0 (compatible; MSIE 9.0; Windows NT 6.0; Trident/5.0; chromeframe/11.0.696.57)',\n",
       "  'Mozilla/5.0 (compatible; MSIE 9.0; Windows NT 6.0; Trident/4.0; GTB7.4; InfoPath.3; SV1; .NET CLR 3.1.76908; WOW64; en-US)',\n",
       "  'Mozilla/5.0 (compatible; MSIE 8.0; Windows NT 6.1; Trident/4.0; GTB7.4; InfoPath.2; SV1; .NET CLR 3.3.69573; WOW64; en-US)',\n",
       "  'Mozilla/5.0 (compatible; MSIE 8.0; Windows NT 6.0; Trident/4.0; WOW64; Trident/4.0; SLCC2; .NET CLR 2.0.50727; .NET CLR 3.5.30729; .NET CLR 3.0.30729; .NET CLR 1.0.3705; .NET CLR 1.1.4322)',\n",
       "  'Mozilla/5.0 (compatible; MSIE 8.0; Windows NT 6.0; Trident/4.0; InfoPath.1; SV1; .NET CLR 3.8.36217; WOW64; en-US)',\n",
       "  'Mozilla/5.0 (compatible; MSIE 8.0; Windows NT 6.0; Trident/4.0; .NET CLR 2.7.58687; SLCC2; Media Center PC 5.0; Zune 3.4; Tablet PC 3.6; InfoPath.3)',\n",
       "  'Mozilla/5.0 (compatible; MSIE 8.0; Windows NT 5.2; Trident/4.0; Media Center PC 4.0; SLCC1; .NET CLR 3.0.04320)',\n",
       "  'Mozilla/5.0 (compatible; MSIE 8.0; Windows NT 5.1; Trident/4.0; SLCC1; .NET CLR 3.0.4506.2152; .NET CLR 3.5.30729; .NET CLR 1.1.4322)',\n",
       "  'Mozilla/5.0 (compatible; MSIE 8.0; Windows NT 5.1; Trident/4.0; InfoPath.2; SLCC1; .NET CLR 3.0.4506.2152; .NET CLR 3.5.30729; .NET CLR 2.0.50727)',\n",
       "  'Mozilla/5.0 (compatible; MSIE 8.0; Windows NT 5.1; Trident/4.0; .NET CLR 1.1.4322; .NET CLR 2.0.50727)',\n",
       "  'Mozilla/5.0 (compatible; MSIE 8.0; Windows NT 5.1; SLCC1; .NET CLR 1.1.4322)',\n",
       "  'Mozilla/5.0 (compatible; MSIE 8.0; Windows NT 5.0; Trident/4.0; InfoPath.1; SV1; .NET CLR 3.0.4506.2152; .NET CLR 3.5.30729; .NET CLR 3.0.04506.30)',\n",
       "  'Mozilla/5.0 (compatible; MSIE 7.0; Windows NT 5.0; Trident/4.0; FBSMTWB; .NET CLR 2.0.34861; .NET CLR 3.0.3746.3218; .NET CLR 3.5.33652; msn OptimizedIE8;ENUS)',\n",
       "  'Mozilla/4.0 (compatible; MSIE 8.0; Windows NT 6.2; Trident/4.0; SLCC2; .NET CLR 2.0.50727; .NET CLR 3.5.30729; .NET CLR 3.0.30729; Media Center PC 6.0)',\n",
       "  'Mozilla/4.0 (compatible; MSIE 8.0; Windows NT 6.1; WOW64; Trident/4.0; SLCC2; Media Center PC 6.0; InfoPath.2; MS-RTC LM 8)',\n",
       "  'Mozilla/4.0 (compatible; MSIE 8.0; Windows NT 6.1; WOW64; Trident/4.0; SLCC2; Media Center PC 6.0; InfoPath.2; MS-RTC LM 8',\n",
       "  'Mozilla/4.0 (compatible; MSIE 8.0; Windows NT 6.1; WOW64; Trident/4.0; SLCC2; .NET CLR 2.0.50727; Media Center PC 6.0; .NET CLR 3.5.30729; .NET CLR 3.0.30729; .NET4.0C)',\n",
       "  'Mozilla/4.0 (compatible; MSIE 8.0; Windows NT 6.1; WOW64; Trident/4.0; SLCC2; .NET CLR 2.0.50727; InfoPath.3; .NET4.0C; .NET4.0E; .NET CLR 3.5.30729; .NET CLR 3.0.30729; MS-RTC LM 8)',\n",
       "  'Mozilla/4.0 (compatible; MSIE 8.0; Windows NT 6.1; WOW64; Trident/4.0; SLCC2; .NET CLR 2.0.50727; InfoPath.2)',\n",
       "  'Mozilla/4.0 (compatible; MSIE 8.0; Windows NT 6.1; WOW64; Trident/4.0; SLCC2; .NET CLR 2.0.50727; .NET CLR 3.5.30729; .NET CLR 3.0.30729; Media Center PC 6.0; Zune 3.0)'],\n",
       " 'safari': ['Mozilla/5.0 (Macintosh; Intel Mac OS X 10_9_3) AppleWebKit/537.75.14 (KHTML, like Gecko) Version/7.0.3 Safari/7046A194A',\n",
       "  'Mozilla/5.0 (iPad; CPU OS 6_0 like Mac OS X) AppleWebKit/536.26 (KHTML, like Gecko) Version/6.0 Mobile/10A5355d Safari/8536.25',\n",
       "  'Mozilla/5.0 (Macintosh; Intel Mac OS X 10_6_8) AppleWebKit/537.13+ (KHTML, like Gecko) Version/5.1.7 Safari/534.57.2',\n",
       "  'Mozilla/5.0 (Macintosh; Intel Mac OS X 10_7_3) AppleWebKit/534.55.3 (KHTML, like Gecko) Version/5.1.3 Safari/534.53.10',\n",
       "  'Mozilla/5.0 (iPad; CPU OS 5_1 like Mac OS X) AppleWebKit/534.46 (KHTML, like Gecko ) Version/5.1 Mobile/9B176 Safari/7534.48.3',\n",
       "  'Mozilla/5.0 (Macintosh; U; Intel Mac OS X 10_6_8; de-at) AppleWebKit/533.21.1 (KHTML, like Gecko) Version/5.0.5 Safari/533.21.1',\n",
       "  'Mozilla/5.0 (Macintosh; U; Intel Mac OS X 10_6_7; da-dk) AppleWebKit/533.21.1 (KHTML, like Gecko) Version/5.0.5 Safari/533.21.1',\n",
       "  'Mozilla/5.0 (Windows; U; Windows NT 6.1; tr-TR) AppleWebKit/533.20.25 (KHTML, like Gecko) Version/5.0.4 Safari/533.20.27',\n",
       "  'Mozilla/5.0 (Windows; U; Windows NT 6.1; ko-KR) AppleWebKit/533.20.25 (KHTML, like Gecko) Version/5.0.4 Safari/533.20.27',\n",
       "  'Mozilla/5.0 (Windows; U; Windows NT 6.1; fr-FR) AppleWebKit/533.20.25 (KHTML, like Gecko) Version/5.0.4 Safari/533.20.27',\n",
       "  'Mozilla/5.0 (Windows; U; Windows NT 6.1; en-US) AppleWebKit/533.20.25 (KHTML, like Gecko) Version/5.0.4 Safari/533.20.27',\n",
       "  'Mozilla/5.0 (Windows; U; Windows NT 6.1; cs-CZ) AppleWebKit/533.20.25 (KHTML, like Gecko) Version/5.0.4 Safari/533.20.27',\n",
       "  'Mozilla/5.0 (Windows; U; Windows NT 6.0; ja-JP) AppleWebKit/533.20.25 (KHTML, like Gecko) Version/5.0.4 Safari/533.20.27',\n",
       "  'Mozilla/5.0 (Windows; U; Windows NT 6.0; en-US) AppleWebKit/533.20.25 (KHTML, like Gecko) Version/5.0.4 Safari/533.20.27',\n",
       "  'Mozilla/5.0 (Macintosh; U; PPC Mac OS X 10_5_8; zh-cn) AppleWebKit/533.20.25 (KHTML, like Gecko) Version/5.0.4 Safari/533.20.27',\n",
       "  'Mozilla/5.0 (Macintosh; U; PPC Mac OS X 10_5_8; ja-jp) AppleWebKit/533.20.25 (KHTML, like Gecko) Version/5.0.4 Safari/533.20.27',\n",
       "  'Mozilla/5.0 (Macintosh; U; Intel Mac OS X 10_6_7; ja-jp) AppleWebKit/533.20.25 (KHTML, like Gecko) Version/5.0.4 Safari/533.20.27',\n",
       "  'Mozilla/5.0 (Macintosh; U; Intel Mac OS X 10_6_6; zh-cn) AppleWebKit/533.20.25 (KHTML, like Gecko) Version/5.0.4 Safari/533.20.27',\n",
       "  'Mozilla/5.0 (Macintosh; U; Intel Mac OS X 10_6_6; sv-se) AppleWebKit/533.20.25 (KHTML, like Gecko) Version/5.0.4 Safari/533.20.27',\n",
       "  'Mozilla/5.0 (Macintosh; U; Intel Mac OS X 10_6_6; ko-kr) AppleWebKit/533.20.25 (KHTML, like Gecko) Version/5.0.4 Safari/533.20.27',\n",
       "  'Mozilla/5.0 (Macintosh; U; Intel Mac OS X 10_6_6; ja-jp) AppleWebKit/533.20.25 (KHTML, like Gecko) Version/5.0.4 Safari/533.20.27',\n",
       "  'Mozilla/5.0 (Macintosh; U; Intel Mac OS X 10_6_6; it-it) AppleWebKit/533.20.25 (KHTML, like Gecko) Version/5.0.4 Safari/533.20.27',\n",
       "  'Mozilla/5.0 (Macintosh; U; Intel Mac OS X 10_6_6; fr-fr) AppleWebKit/533.20.25 (KHTML, like Gecko) Version/5.0.4 Safari/533.20.27',\n",
       "  'Mozilla/5.0 (Macintosh; U; Intel Mac OS X 10_6_6; es-es) AppleWebKit/533.20.25 (KHTML, like Gecko) Version/5.0.4 Safari/533.20.27',\n",
       "  'Mozilla/5.0 (Macintosh; U; Intel Mac OS X 10_6_6; en-us) AppleWebKit/533.20.25 (KHTML, like Gecko) Version/5.0.4 Safari/533.20.27',\n",
       "  'Mozilla/5.0 (Macintosh; U; Intel Mac OS X 10_6_6; en-gb) AppleWebKit/533.20.25 (KHTML, like Gecko) Version/5.0.4 Safari/533.20.27',\n",
       "  'Mozilla/5.0 (Macintosh; U; Intel Mac OS X 10_6_6; de-de) AppleWebKit/533.20.25 (KHTML, like Gecko) Version/5.0.4 Safari/533.20.27',\n",
       "  'Mozilla/5.0 (Windows; U; Windows NT 6.1; sv-SE) AppleWebKit/533.19.4 (KHTML, like Gecko) Version/5.0.3 Safari/533.19.4',\n",
       "  'Mozilla/5.0 (Windows; U; Windows NT 6.1; ja-JP) AppleWebKit/533.20.25 (KHTML, like Gecko) Version/5.0.3 Safari/533.19.4',\n",
       "  'Mozilla/5.0 (Windows; U; Windows NT 6.1; de-DE) AppleWebKit/533.20.25 (KHTML, like Gecko) Version/5.0.3 Safari/533.19.4',\n",
       "  'Mozilla/5.0 (Windows; U; Windows NT 6.0; hu-HU) AppleWebKit/533.19.4 (KHTML, like Gecko) Version/5.0.3 Safari/533.19.4',\n",
       "  'Mozilla/5.0 (Windows; U; Windows NT 6.0; en-US) AppleWebKit/533.20.25 (KHTML, like Gecko) Version/5.0.3 Safari/533.19.4',\n",
       "  'Mozilla/5.0 (Windows; U; Windows NT 6.0; de-DE) AppleWebKit/533.20.25 (KHTML, like Gecko) Version/5.0.3 Safari/533.19.4',\n",
       "  'Mozilla/5.0 (Windows; U; Windows NT 5.1; ru-RU) AppleWebKit/533.19.4 (KHTML, like Gecko) Version/5.0.3 Safari/533.19.4',\n",
       "  'Mozilla/5.0 (Windows; U; Windows NT 5.1; ja-JP) AppleWebKit/533.20.25 (KHTML, like Gecko) Version/5.0.3 Safari/533.19.4',\n",
       "  'Mozilla/5.0 (Windows; U; Windows NT 5.1; it-IT) AppleWebKit/533.20.25 (KHTML, like Gecko) Version/5.0.3 Safari/533.19.4',\n",
       "  'Mozilla/5.0 (Windows; U; Windows NT 5.1; en-US) AppleWebKit/533.20.25 (KHTML, like Gecko) Version/5.0.3 Safari/533.19.4',\n",
       "  'Mozilla/5.0 (Macintosh; U; Intel Mac OS X 10_6_7; en-us) AppleWebKit/534.16+ (KHTML, like Gecko) Version/5.0.3 Safari/533.19.4',\n",
       "  'Mozilla/5.0 (Macintosh; U; Intel Mac OS X 10_6_6; fr-ch) AppleWebKit/533.19.4 (KHTML, like Gecko) Version/5.0.3 Safari/533.19.4',\n",
       "  'Mozilla/5.0 (Macintosh; U; Intel Mac OS X 10_6_5; de-de) AppleWebKit/534.15+ (KHTML, like Gecko) Version/5.0.3 Safari/533.19.4',\n",
       "  'Mozilla/5.0 (Macintosh; U; Intel Mac OS X 10_6_5; ar) AppleWebKit/533.19.4 (KHTML, like Gecko) Version/5.0.3 Safari/533.19.4',\n",
       "  'Mozilla/5.0 (Android 2.2; Windows; U; Windows NT 6.1; en-US) AppleWebKit/533.19.4 (KHTML, like Gecko) Version/5.0.3 Safari/533.19.4',\n",
       "  'Mozilla/5.0 (Windows; U; Windows NT 6.1; zh-HK) AppleWebKit/533.18.1 (KHTML, like Gecko) Version/5.0.2 Safari/533.18.5',\n",
       "  'Mozilla/5.0 (Windows; U; Windows NT 6.1; en-US) AppleWebKit/533.19.4 (KHTML, like Gecko) Version/5.0.2 Safari/533.18.5',\n",
       "  'Mozilla/5.0 (Windows; U; Windows NT 6.0; tr-TR) AppleWebKit/533.18.1 (KHTML, like Gecko) Version/5.0.2 Safari/533.18.5',\n",
       "  'Mozilla/5.0 (Windows; U; Windows NT 6.0; nb-NO) AppleWebKit/533.18.1 (KHTML, like Gecko) Version/5.0.2 Safari/533.18.5',\n",
       "  'Mozilla/5.0 (Windows; U; Windows NT 6.0; fr-FR) AppleWebKit/533.18.1 (KHTML, like Gecko) Version/5.0.2 Safari/533.18.5',\n",
       "  'Mozilla/5.0 (Windows; U; Windows NT 5.1; zh-TW) AppleWebKit/533.19.4 (KHTML, like Gecko) Version/5.0.2 Safari/533.18.5',\n",
       "  'Mozilla/5.0 (Windows; U; Windows NT 5.1; ru-RU) AppleWebKit/533.18.1 (KHTML, like Gecko) Version/5.0.2 Safari/533.18.5',\n",
       "  'Mozilla/5.0 (Macintosh; U; Intel Mac OS X 10_5_8; zh-cn) AppleWebKit/533.18.1 (KHTML, like Gecko) Version/5.0.2 Safari/533.18.5']}"
      ]
     },
     "execution_count": 16,
     "metadata": {},
     "output_type": "execute_result"
    }
   ],
   "source": [
    "ua.data_browsers"
   ]
  },
  {
   "cell_type": "code",
   "execution_count": 17,
   "metadata": {},
   "outputs": [
    {
     "data": {
      "text/plain": [
       "dict_keys(['chrome', 'opera', 'firefox', 'internetexplorer', 'safari'])"
      ]
     },
     "execution_count": 17,
     "metadata": {},
     "output_type": "execute_result"
    }
   ],
   "source": [
    "ua.data_browsers.keys()"
   ]
  },
  {
   "cell_type": "code",
   "execution_count": 18,
   "metadata": {},
   "outputs": [
    {
     "data": {
      "text/plain": [
       "'Mozilla/5.0 (Windows NT 5.0; rv:21.0) Gecko/20100101 Firefox/21.0'"
      ]
     },
     "execution_count": 18,
     "metadata": {},
     "output_type": "execute_result"
    }
   ],
   "source": [
    "ua.firefox"
   ]
  },
  {
   "cell_type": "markdown",
   "metadata": {},
   "source": [
    "### 代理 proxy"
   ]
  },
  {
   "cell_type": "code",
   "execution_count": 20,
   "metadata": {},
   "outputs": [],
   "source": [
    "from urllib import request"
   ]
  },
  {
   "cell_type": "code",
   "execution_count": 24,
   "metadata": {},
   "outputs": [
    {
     "data": {
      "text/plain": [
       "b'{\\n  \"args\": {}, \\n  \"headers\": {\\n    \"Accept-Encoding\": \"identity\", \\n    \"Connection\": \"close\", \\n    \"Host\": \"httpbin.org\", \\n    \"User-Agent\": \"Python-urllib/3.6\"\\n  }, \\n  \"origin\": \"114.252.105.108\", \\n  \"url\": \"http://httpbin.org/get\"\\n}\\n'"
      ]
     },
     "execution_count": 24,
     "metadata": {},
     "output_type": "execute_result"
    }
   ],
   "source": [
    "url = 'http://httpbin.org/get'\n",
    "req =request.urlopen(url)\n",
    "req.read()"
   ]
  },
  {
   "cell_type": "code",
   "execution_count": 25,
   "metadata": {
    "collapsed": true
   },
   "outputs": [
    {
     "ename": "URLError",
     "evalue": "<urlopen error [Errno 60] Operation timed out>",
     "output_type": "error",
     "traceback": [
      "\u001b[0;31m---------------------------------------------------------------------------\u001b[0m",
      "\u001b[0;31mTimeoutError\u001b[0m                              Traceback (most recent call last)",
      "\u001b[0;32m/anaconda3/envs/ys/lib/python3.6/urllib/request.py\u001b[0m in \u001b[0;36mdo_open\u001b[0;34m(self, http_class, req, **http_conn_args)\u001b[0m\n\u001b[1;32m   1317\u001b[0m                 h.request(req.get_method(), req.selector, req.data, headers,\n\u001b[0;32m-> 1318\u001b[0;31m                           encode_chunked=req.has_header('Transfer-encoding'))\n\u001b[0m\u001b[1;32m   1319\u001b[0m             \u001b[0;32mexcept\u001b[0m \u001b[0mOSError\u001b[0m \u001b[0;32mas\u001b[0m \u001b[0merr\u001b[0m\u001b[0;34m:\u001b[0m \u001b[0;31m# timeout error\u001b[0m\u001b[0;34m\u001b[0m\u001b[0m\n",
      "\u001b[0;32m/anaconda3/envs/ys/lib/python3.6/http/client.py\u001b[0m in \u001b[0;36mrequest\u001b[0;34m(self, method, url, body, headers, encode_chunked)\u001b[0m\n\u001b[1;32m   1238\u001b[0m         \u001b[0;34m\"\"\"Send a complete request to the server.\"\"\"\u001b[0m\u001b[0;34m\u001b[0m\u001b[0m\n\u001b[0;32m-> 1239\u001b[0;31m         \u001b[0mself\u001b[0m\u001b[0;34m.\u001b[0m\u001b[0m_send_request\u001b[0m\u001b[0;34m(\u001b[0m\u001b[0mmethod\u001b[0m\u001b[0;34m,\u001b[0m \u001b[0murl\u001b[0m\u001b[0;34m,\u001b[0m \u001b[0mbody\u001b[0m\u001b[0;34m,\u001b[0m \u001b[0mheaders\u001b[0m\u001b[0;34m,\u001b[0m \u001b[0mencode_chunked\u001b[0m\u001b[0;34m)\u001b[0m\u001b[0;34m\u001b[0m\u001b[0m\n\u001b[0m\u001b[1;32m   1240\u001b[0m \u001b[0;34m\u001b[0m\u001b[0m\n",
      "\u001b[0;32m/anaconda3/envs/ys/lib/python3.6/http/client.py\u001b[0m in \u001b[0;36m_send_request\u001b[0;34m(self, method, url, body, headers, encode_chunked)\u001b[0m\n\u001b[1;32m   1284\u001b[0m             \u001b[0mbody\u001b[0m \u001b[0;34m=\u001b[0m \u001b[0m_encode\u001b[0m\u001b[0;34m(\u001b[0m\u001b[0mbody\u001b[0m\u001b[0;34m,\u001b[0m \u001b[0;34m'body'\u001b[0m\u001b[0;34m)\u001b[0m\u001b[0;34m\u001b[0m\u001b[0m\n\u001b[0;32m-> 1285\u001b[0;31m         \u001b[0mself\u001b[0m\u001b[0;34m.\u001b[0m\u001b[0mendheaders\u001b[0m\u001b[0;34m(\u001b[0m\u001b[0mbody\u001b[0m\u001b[0;34m,\u001b[0m \u001b[0mencode_chunked\u001b[0m\u001b[0;34m=\u001b[0m\u001b[0mencode_chunked\u001b[0m\u001b[0;34m)\u001b[0m\u001b[0;34m\u001b[0m\u001b[0m\n\u001b[0m\u001b[1;32m   1286\u001b[0m \u001b[0;34m\u001b[0m\u001b[0m\n",
      "\u001b[0;32m/anaconda3/envs/ys/lib/python3.6/http/client.py\u001b[0m in \u001b[0;36mendheaders\u001b[0;34m(self, message_body, encode_chunked)\u001b[0m\n\u001b[1;32m   1233\u001b[0m             \u001b[0;32mraise\u001b[0m \u001b[0mCannotSendHeader\u001b[0m\u001b[0;34m(\u001b[0m\u001b[0;34m)\u001b[0m\u001b[0;34m\u001b[0m\u001b[0m\n\u001b[0;32m-> 1234\u001b[0;31m         \u001b[0mself\u001b[0m\u001b[0;34m.\u001b[0m\u001b[0m_send_output\u001b[0m\u001b[0;34m(\u001b[0m\u001b[0mmessage_body\u001b[0m\u001b[0;34m,\u001b[0m \u001b[0mencode_chunked\u001b[0m\u001b[0;34m=\u001b[0m\u001b[0mencode_chunked\u001b[0m\u001b[0;34m)\u001b[0m\u001b[0;34m\u001b[0m\u001b[0m\n\u001b[0m\u001b[1;32m   1235\u001b[0m \u001b[0;34m\u001b[0m\u001b[0m\n",
      "\u001b[0;32m/anaconda3/envs/ys/lib/python3.6/http/client.py\u001b[0m in \u001b[0;36m_send_output\u001b[0;34m(self, message_body, encode_chunked)\u001b[0m\n\u001b[1;32m   1025\u001b[0m         \u001b[0;32mdel\u001b[0m \u001b[0mself\u001b[0m\u001b[0;34m.\u001b[0m\u001b[0m_buffer\u001b[0m\u001b[0;34m[\u001b[0m\u001b[0;34m:\u001b[0m\u001b[0;34m]\u001b[0m\u001b[0;34m\u001b[0m\u001b[0m\n\u001b[0;32m-> 1026\u001b[0;31m         \u001b[0mself\u001b[0m\u001b[0;34m.\u001b[0m\u001b[0msend\u001b[0m\u001b[0;34m(\u001b[0m\u001b[0mmsg\u001b[0m\u001b[0;34m)\u001b[0m\u001b[0;34m\u001b[0m\u001b[0m\n\u001b[0m\u001b[1;32m   1027\u001b[0m \u001b[0;34m\u001b[0m\u001b[0m\n",
      "\u001b[0;32m/anaconda3/envs/ys/lib/python3.6/http/client.py\u001b[0m in \u001b[0;36msend\u001b[0;34m(self, data)\u001b[0m\n\u001b[1;32m    963\u001b[0m             \u001b[0;32mif\u001b[0m \u001b[0mself\u001b[0m\u001b[0;34m.\u001b[0m\u001b[0mauto_open\u001b[0m\u001b[0;34m:\u001b[0m\u001b[0;34m\u001b[0m\u001b[0m\n\u001b[0;32m--> 964\u001b[0;31m                 \u001b[0mself\u001b[0m\u001b[0;34m.\u001b[0m\u001b[0mconnect\u001b[0m\u001b[0;34m(\u001b[0m\u001b[0;34m)\u001b[0m\u001b[0;34m\u001b[0m\u001b[0m\n\u001b[0m\u001b[1;32m    965\u001b[0m             \u001b[0;32melse\u001b[0m\u001b[0;34m:\u001b[0m\u001b[0;34m\u001b[0m\u001b[0m\n",
      "\u001b[0;32m/anaconda3/envs/ys/lib/python3.6/http/client.py\u001b[0m in \u001b[0;36mconnect\u001b[0;34m(self)\u001b[0m\n\u001b[1;32m    935\u001b[0m         self.sock = self._create_connection(\n\u001b[0;32m--> 936\u001b[0;31m             (self.host,self.port), self.timeout, self.source_address)\n\u001b[0m\u001b[1;32m    937\u001b[0m         \u001b[0mself\u001b[0m\u001b[0;34m.\u001b[0m\u001b[0msock\u001b[0m\u001b[0;34m.\u001b[0m\u001b[0msetsockopt\u001b[0m\u001b[0;34m(\u001b[0m\u001b[0msocket\u001b[0m\u001b[0;34m.\u001b[0m\u001b[0mIPPROTO_TCP\u001b[0m\u001b[0;34m,\u001b[0m \u001b[0msocket\u001b[0m\u001b[0;34m.\u001b[0m\u001b[0mTCP_NODELAY\u001b[0m\u001b[0;34m,\u001b[0m \u001b[0;36m1\u001b[0m\u001b[0;34m)\u001b[0m\u001b[0;34m\u001b[0m\u001b[0m\n",
      "\u001b[0;32m/anaconda3/envs/ys/lib/python3.6/socket.py\u001b[0m in \u001b[0;36mcreate_connection\u001b[0;34m(address, timeout, source_address)\u001b[0m\n\u001b[1;32m    723\u001b[0m     \u001b[0;32mif\u001b[0m \u001b[0merr\u001b[0m \u001b[0;32mis\u001b[0m \u001b[0;32mnot\u001b[0m \u001b[0;32mNone\u001b[0m\u001b[0;34m:\u001b[0m\u001b[0;34m\u001b[0m\u001b[0m\n\u001b[0;32m--> 724\u001b[0;31m         \u001b[0;32mraise\u001b[0m \u001b[0merr\u001b[0m\u001b[0;34m\u001b[0m\u001b[0m\n\u001b[0m\u001b[1;32m    725\u001b[0m     \u001b[0;32melse\u001b[0m\u001b[0;34m:\u001b[0m\u001b[0;34m\u001b[0m\u001b[0m\n",
      "\u001b[0;32m/anaconda3/envs/ys/lib/python3.6/socket.py\u001b[0m in \u001b[0;36mcreate_connection\u001b[0;34m(address, timeout, source_address)\u001b[0m\n\u001b[1;32m    712\u001b[0m                 \u001b[0msock\u001b[0m\u001b[0;34m.\u001b[0m\u001b[0mbind\u001b[0m\u001b[0;34m(\u001b[0m\u001b[0msource_address\u001b[0m\u001b[0;34m)\u001b[0m\u001b[0;34m\u001b[0m\u001b[0m\n\u001b[0;32m--> 713\u001b[0;31m             \u001b[0msock\u001b[0m\u001b[0;34m.\u001b[0m\u001b[0mconnect\u001b[0m\u001b[0;34m(\u001b[0m\u001b[0msa\u001b[0m\u001b[0;34m)\u001b[0m\u001b[0;34m\u001b[0m\u001b[0m\n\u001b[0m\u001b[1;32m    714\u001b[0m             \u001b[0;31m# Break explicitly a reference cycle\u001b[0m\u001b[0;34m\u001b[0m\u001b[0;34m\u001b[0m\u001b[0m\n",
      "\u001b[0;31mTimeoutError\u001b[0m: [Errno 60] Operation timed out",
      "\nDuring handling of the above exception, another exception occurred:\n",
      "\u001b[0;31mURLError\u001b[0m                                  Traceback (most recent call last)",
      "\u001b[0;32m<ipython-input-25-e6099fe037b4>\u001b[0m in \u001b[0;36m<module>\u001b[0;34m()\u001b[0m\n\u001b[1;32m      2\u001b[0m \u001b[0mproxy\u001b[0m \u001b[0;34m=\u001b[0m \u001b[0mrequest\u001b[0m\u001b[0;34m.\u001b[0m\u001b[0mProxyHandler\u001b[0m\u001b[0;34m(\u001b[0m\u001b[0mips\u001b[0m\u001b[0;34m)\u001b[0m\u001b[0;34m\u001b[0m\u001b[0m\n\u001b[1;32m      3\u001b[0m \u001b[0mopener\u001b[0m \u001b[0;34m=\u001b[0m \u001b[0mrequest\u001b[0m\u001b[0;34m.\u001b[0m\u001b[0mbuild_opener\u001b[0m\u001b[0;34m(\u001b[0m\u001b[0mproxy\u001b[0m\u001b[0;34m)\u001b[0m\u001b[0;34m\u001b[0m\u001b[0m\n\u001b[0;32m----> 4\u001b[0;31m \u001b[0mreq\u001b[0m \u001b[0;34m=\u001b[0m \u001b[0mopener\u001b[0m\u001b[0;34m.\u001b[0m\u001b[0mopen\u001b[0m\u001b[0;34m(\u001b[0m\u001b[0murl\u001b[0m\u001b[0;34m)\u001b[0m\u001b[0;34m\u001b[0m\u001b[0m\n\u001b[0m\u001b[1;32m      5\u001b[0m \u001b[0mreq\u001b[0m\u001b[0;34m.\u001b[0m\u001b[0mread\u001b[0m\u001b[0;34m(\u001b[0m\u001b[0;34m)\u001b[0m\u001b[0;34m\u001b[0m\u001b[0m\n",
      "\u001b[0;32m/anaconda3/envs/ys/lib/python3.6/urllib/request.py\u001b[0m in \u001b[0;36mopen\u001b[0;34m(self, fullurl, data, timeout)\u001b[0m\n\u001b[1;32m    524\u001b[0m             \u001b[0mreq\u001b[0m \u001b[0;34m=\u001b[0m \u001b[0mmeth\u001b[0m\u001b[0;34m(\u001b[0m\u001b[0mreq\u001b[0m\u001b[0;34m)\u001b[0m\u001b[0;34m\u001b[0m\u001b[0m\n\u001b[1;32m    525\u001b[0m \u001b[0;34m\u001b[0m\u001b[0m\n\u001b[0;32m--> 526\u001b[0;31m         \u001b[0mresponse\u001b[0m \u001b[0;34m=\u001b[0m \u001b[0mself\u001b[0m\u001b[0;34m.\u001b[0m\u001b[0m_open\u001b[0m\u001b[0;34m(\u001b[0m\u001b[0mreq\u001b[0m\u001b[0;34m,\u001b[0m \u001b[0mdata\u001b[0m\u001b[0;34m)\u001b[0m\u001b[0;34m\u001b[0m\u001b[0m\n\u001b[0m\u001b[1;32m    527\u001b[0m \u001b[0;34m\u001b[0m\u001b[0m\n\u001b[1;32m    528\u001b[0m         \u001b[0;31m# post-process response\u001b[0m\u001b[0;34m\u001b[0m\u001b[0;34m\u001b[0m\u001b[0m\n",
      "\u001b[0;32m/anaconda3/envs/ys/lib/python3.6/urllib/request.py\u001b[0m in \u001b[0;36m_open\u001b[0;34m(self, req, data)\u001b[0m\n\u001b[1;32m    542\u001b[0m         \u001b[0mprotocol\u001b[0m \u001b[0;34m=\u001b[0m \u001b[0mreq\u001b[0m\u001b[0;34m.\u001b[0m\u001b[0mtype\u001b[0m\u001b[0;34m\u001b[0m\u001b[0m\n\u001b[1;32m    543\u001b[0m         result = self._call_chain(self.handle_open, protocol, protocol +\n\u001b[0;32m--> 544\u001b[0;31m                                   '_open', req)\n\u001b[0m\u001b[1;32m    545\u001b[0m         \u001b[0;32mif\u001b[0m \u001b[0mresult\u001b[0m\u001b[0;34m:\u001b[0m\u001b[0;34m\u001b[0m\u001b[0m\n\u001b[1;32m    546\u001b[0m             \u001b[0;32mreturn\u001b[0m \u001b[0mresult\u001b[0m\u001b[0;34m\u001b[0m\u001b[0m\n",
      "\u001b[0;32m/anaconda3/envs/ys/lib/python3.6/urllib/request.py\u001b[0m in \u001b[0;36m_call_chain\u001b[0;34m(self, chain, kind, meth_name, *args)\u001b[0m\n\u001b[1;32m    502\u001b[0m         \u001b[0;32mfor\u001b[0m \u001b[0mhandler\u001b[0m \u001b[0;32min\u001b[0m \u001b[0mhandlers\u001b[0m\u001b[0;34m:\u001b[0m\u001b[0;34m\u001b[0m\u001b[0m\n\u001b[1;32m    503\u001b[0m             \u001b[0mfunc\u001b[0m \u001b[0;34m=\u001b[0m \u001b[0mgetattr\u001b[0m\u001b[0;34m(\u001b[0m\u001b[0mhandler\u001b[0m\u001b[0;34m,\u001b[0m \u001b[0mmeth_name\u001b[0m\u001b[0;34m)\u001b[0m\u001b[0;34m\u001b[0m\u001b[0m\n\u001b[0;32m--> 504\u001b[0;31m             \u001b[0mresult\u001b[0m \u001b[0;34m=\u001b[0m \u001b[0mfunc\u001b[0m\u001b[0;34m(\u001b[0m\u001b[0;34m*\u001b[0m\u001b[0margs\u001b[0m\u001b[0;34m)\u001b[0m\u001b[0;34m\u001b[0m\u001b[0m\n\u001b[0m\u001b[1;32m    505\u001b[0m             \u001b[0;32mif\u001b[0m \u001b[0mresult\u001b[0m \u001b[0;32mis\u001b[0m \u001b[0;32mnot\u001b[0m \u001b[0;32mNone\u001b[0m\u001b[0;34m:\u001b[0m\u001b[0;34m\u001b[0m\u001b[0m\n\u001b[1;32m    506\u001b[0m                 \u001b[0;32mreturn\u001b[0m \u001b[0mresult\u001b[0m\u001b[0;34m\u001b[0m\u001b[0m\n",
      "\u001b[0;32m/anaconda3/envs/ys/lib/python3.6/urllib/request.py\u001b[0m in \u001b[0;36mhttp_open\u001b[0;34m(self, req)\u001b[0m\n\u001b[1;32m   1344\u001b[0m \u001b[0;34m\u001b[0m\u001b[0m\n\u001b[1;32m   1345\u001b[0m     \u001b[0;32mdef\u001b[0m \u001b[0mhttp_open\u001b[0m\u001b[0;34m(\u001b[0m\u001b[0mself\u001b[0m\u001b[0;34m,\u001b[0m \u001b[0mreq\u001b[0m\u001b[0;34m)\u001b[0m\u001b[0;34m:\u001b[0m\u001b[0;34m\u001b[0m\u001b[0m\n\u001b[0;32m-> 1346\u001b[0;31m         \u001b[0;32mreturn\u001b[0m \u001b[0mself\u001b[0m\u001b[0;34m.\u001b[0m\u001b[0mdo_open\u001b[0m\u001b[0;34m(\u001b[0m\u001b[0mhttp\u001b[0m\u001b[0;34m.\u001b[0m\u001b[0mclient\u001b[0m\u001b[0;34m.\u001b[0m\u001b[0mHTTPConnection\u001b[0m\u001b[0;34m,\u001b[0m \u001b[0mreq\u001b[0m\u001b[0;34m)\u001b[0m\u001b[0;34m\u001b[0m\u001b[0m\n\u001b[0m\u001b[1;32m   1347\u001b[0m \u001b[0;34m\u001b[0m\u001b[0m\n\u001b[1;32m   1348\u001b[0m     \u001b[0mhttp_request\u001b[0m \u001b[0;34m=\u001b[0m \u001b[0mAbstractHTTPHandler\u001b[0m\u001b[0;34m.\u001b[0m\u001b[0mdo_request_\u001b[0m\u001b[0;34m\u001b[0m\u001b[0m\n",
      "\u001b[0;32m/anaconda3/envs/ys/lib/python3.6/urllib/request.py\u001b[0m in \u001b[0;36mdo_open\u001b[0;34m(self, http_class, req, **http_conn_args)\u001b[0m\n\u001b[1;32m   1318\u001b[0m                           encode_chunked=req.has_header('Transfer-encoding'))\n\u001b[1;32m   1319\u001b[0m             \u001b[0;32mexcept\u001b[0m \u001b[0mOSError\u001b[0m \u001b[0;32mas\u001b[0m \u001b[0merr\u001b[0m\u001b[0;34m:\u001b[0m \u001b[0;31m# timeout error\u001b[0m\u001b[0;34m\u001b[0m\u001b[0m\n\u001b[0;32m-> 1320\u001b[0;31m                 \u001b[0;32mraise\u001b[0m \u001b[0mURLError\u001b[0m\u001b[0;34m(\u001b[0m\u001b[0merr\u001b[0m\u001b[0;34m)\u001b[0m\u001b[0;34m\u001b[0m\u001b[0m\n\u001b[0m\u001b[1;32m   1321\u001b[0m             \u001b[0mr\u001b[0m \u001b[0;34m=\u001b[0m \u001b[0mh\u001b[0m\u001b[0;34m.\u001b[0m\u001b[0mgetresponse\u001b[0m\u001b[0;34m(\u001b[0m\u001b[0;34m)\u001b[0m\u001b[0;34m\u001b[0m\u001b[0m\n\u001b[1;32m   1322\u001b[0m         \u001b[0;32mexcept\u001b[0m\u001b[0;34m:\u001b[0m\u001b[0;34m\u001b[0m\u001b[0m\n",
      "\u001b[0;31mURLError\u001b[0m: <urlopen error [Errno 60] Operation timed out>"
     ]
    }
   ],
   "source": [
    "ips = {'http':'177.54.110.6:20183'}\n",
    "proxy = request.ProxyHandler(ips)\n",
    "opener = request.build_opener(proxy)\n",
    "req = opener.open(url)\n",
    "req.read()"
   ]
  },
  {
   "cell_type": "code",
   "execution_count": 33,
   "metadata": {},
   "outputs": [],
   "source": [
    "from urllib import request\n",
    "url = 'http://www.66ip.cn/'\n",
    "req = request.urlopen(url)"
   ]
  },
  {
   "cell_type": "code",
   "execution_count": 27,
   "metadata": {},
   "outputs": [
    {
     "data": {
      "text/plain": [
       "[('Date', 'Thu, 08 Nov 2018 08:07:12 GMT'),\n",
       " ('Content-Type', 'text/html'),\n",
       " ('Content-Length', '9577'),\n",
       " ('Connection', 'close'),\n",
       " ('Vary', 'Accept-Encoding'),\n",
       " ('Set-Cookie',\n",
       "  'yd_cookie=e51b24de-188d-4db52ce61925fe7126b9cd78e2724ef3f70e; Expires=1541671632; Path=/; HttpOnly'),\n",
       " ('Server', 'WAF/2.4-12.1')]"
      ]
     },
     "execution_count": 27,
     "metadata": {},
     "output_type": "execute_result"
    }
   ],
   "source": [
    "req.getheaders()"
   ]
  },
  {
   "cell_type": "code",
   "execution_count": 34,
   "metadata": {},
   "outputs": [],
   "source": [
    "con = req.read()"
   ]
  },
  {
   "cell_type": "code",
   "execution_count": 38,
   "metadata": {},
   "outputs": [],
   "source": [
    "s = str(con)"
   ]
  },
  {
   "cell_type": "code",
   "execution_count": 39,
   "metadata": {},
   "outputs": [
    {
     "data": {
      "text/plain": [
       "'b\\'\\\\r\\\\n<!doctype html public \"-//w3c//dtd xhtml 1.0 transitional//en\" \"http://www.w3.org/tr/xhtml1/dtd/xhtml1-transitional.dtd\">\\\\r\\\\n<html xmlns=\"http://www.w3.org/1999/xhtml\">\\\\r\\\\n<head>\\\\r\\\\n<title>\\\\xc3\\\\xe2\\\\xb7\\\\xd1\\\\xb4\\\\xfa\\\\xc0\\\\xedip_\\\\xb7\\\\xfe\\\\xce\\\\xf1\\\\xc6\\\\xf7http\\\\xb4\\\\xfa\\\\xc0\\\\xed_\\\\xd7\\\\xee\\\\xd0\\\\xc2ip\\\\xb4\\\\xfa\\\\xc0\\\\xed_\\\\xc3\\\\xe2\\\\xb7\\\\xd1ip\\\\xcc\\\\xe1\\\\xc8\\\\xa1\\\\xcd\\\\xf8\\\\xd5\\\\xbe_\\\\xb9\\\\xfa\\\\xc4\\\\xda\\\\xcd\\\\xe2\\\\xb4\\\\xfa\\\\xc0\\\\xed_66\\\\xc3\\\\xe2\\\\xb7\\\\xd1\\\\xb4\\\\xfa\\\\xc0\\\\xedip</title><meta http-equiv=\"Content-Type\" content=\"text/html; charset=gb2312\" />\\\\r\\\\n<meta name=\"keywords\" content=\"ip\\\\xcc\\\\xe1\\\\xc8\\\\xa1\\\\xa3\\\\xachttp\\\\xb4\\\\xfa\\\\xc0\\\\xed\\\\xa3\\\\xac\\\\xb9\\\\xfa\\\\xc4\\\\xda\\\\xcd\\\\xe2\\\\xb4\\\\xfa\\\\xc0\\\\xed\\\\xa3\\\\xac\\\\xc3\\\\xe2\\\\xb7\\\\xd1\\\\xb8\\\\xdf\\\\xc4\\\\xe4\\\\xc3\\\\xfb\\\\xb4\\\\xfa\\\\xc0\\\\xed\\\\xa3\\\\xac\\\\xc3\\\\xe2\\\\xb7\\\\xd1ip\\\\xcc\\\\xe1\\\\xc8\\\\xa1\\\\xcd\\\\xf8\\\\xd5\\\\xbe\\\\xa3\\\\xacip\\\\xb4\\\\xfa\\\\xc0\\\\xed\\\\xcc\\\\xe1\\\\xc8\\\\xa1\\\\xa3\\\\xac\\\\xc3\\\\xe2\\\\xb7\\\\xd1ip\\\\xb4\\\\xfa\\\\xc0\\\\xed,\\\\xb4\\\\xfa\\\\xc0\\\\xedip,ip\\\\xb4\\\\xfa\\\\xc0\\\\xed,ip\\\\xb4\\\\xfa\\\\xc0\\\\xed\\\\xc8\\\\xed\\\\xbc\\\\xfe\" />\\\\r\\\\n<meta name=\"description\" content=\"66\\\\xc3\\\\xe2\\\\xb7\\\\xd1ip\\\\xb4\\\\xfa\\\\xc0\\\\xed\\\\xcd\\\\xf8\\\\xa3\\\\xa8www.66ip.cn\\\\xa3\\\\xa9\\\\xca\\\\xb1\\\\xca\\\\xb1\\\\xb8\\\\xfc\\\\xd0\\\\xc2\\\\xd7\\\\xee\\\\xd0\\\\xc2\\\\xc3\\\\xe2\\\\xb7\\\\xd1\\\\xb4\\\\xfa\\\\xc0\\\\xedip\\\\xa1\\\\xa2http\\\\xb4\\\\xfa\\\\xc0\\\\xed\\\\xce\\\\xaa\\\\xd6\\\\xf7,\\\\xb3\\\\xa3\\\\xc4\\\\xea\\\\xcc\\\\xe1\\\\xb9\\\\xa9\\\\xc3\\\\xe2\\\\xb7\\\\xd1\\\\xb4\\\\xfa\\\\xc0\\\\xedip\\\\xa1\\\\xa2qq\\\\xb4\\\\xfa\\\\xc0\\\\xedip\\\\xa1\\\\xa2https\\\\xc4\\\\xe4\\\\xc3\\\\xfb\\\\xb4\\\\xfa\\\\xc0\\\\xed\\\\xa1\\\\xa2\\\\xb9\\\\xfa\\\\xc4\\\\xda\\\\xb4\\\\xfa\\\\xc0\\\\xed\\\\xc8\\\\xed\\\\xbc\\\\xfe\\\\xb5\\\\xc8\\\\xbc\\\\xd3\\\\xcb\\\\xd9\\\\xb7\\\\xfe\\\\xce\\\\xf1\\\\xa3\\\\xac\\\\xce\\\\xaa\\\\xd3\\\\xc3\\\\xbb\\\\xa7\\\\xcc\\\\xe1\\\\xb9\\\\xa9\\\\xd7\\\\xee\\\\xd3\\\\xc5\\\\xd6\\\\xca\\\\xb4\\\\xfa\\\\xc0\\\\xed.\"/>\\\\r\\\\n<meta name=generator content=\"mshtml 8.00.7601.17514\">\\\\r\\\\n<script type=\"text/javascript\" src=\"common/js/public.js\"></script>\\\\r\\\\n<script type=\"text/javascript\" src=\"common/js/app.js\"></script>\\\\r\\\\n<link rel=\"stylesheet\" type=\"text/css\" href=\"common/css/main.css\" />\\\\r\\\\n\\\\r\\\\n\\\\r\\\\n\\\\r\\\\n</head>\\\\r\\\\n\\\\r\\\\n<body>\\\\r\\\\n\\\\r\\\\n<div id=\"header\" class=\"header\">\\\\r\\\\n\\\\t<div class=\"logoarea\">\\\\r\\\\n\\\\t\\\\t<a class=\"logo left block\" href=\"\"><img src=\"/common/tp/logo.gif\" alt=\"66\\\\xc3\\\\xe2\\\\xb7\\\\xd1ip\\\\xb4\\\\xfa\\\\xc0\\\\xed\\\\xcd\\\\xf8LOGO\" height=\"65\"></a>\\\\r\\\\n\\\\t\\\\t<div class=\"clr\">\\\\r\\\\n\\\\t\\\\t\\\\t<div align=\"right\">\\\\r\\\\n\\\\t\\\\t\\\\t\\\\t<a href=\"index.html\"></a>\\\\r\\\\n\\\\t\\\\t\\\\t\\\\t<ul class=\"textlarge\" style=\"padding-top:12px\">\\\\r\\\\n\\\\t\\\\t\\\\t\\\\r\\\\n                     <a href=\"http://www.66daili.cn\"><img src=\"/common/img/123.gif\" alt=\"\\\\xc1\\\\xf9\\\\xc1\\\\xf9\\\\xb4\\\\xfa\\\\xc0\\\\xed\" width=\"400\" height=\"60\" border=\"0\" /></a>\\\\r\\\\n\\\\r\\\\n\\\\t\\\\t\\\\t\\\\t</ul>\\\\r\\\\n\\\\t\\\\t\\\\t</div>\\\\r\\\\n\\\\t\\\\t</div>\\\\r\\\\n\\\\t</div>\\\\r\\\\n\\\\t<div class=\"navigator\">\\\\r\\\\n\\\\t\\\\t<div align=\"center\">\\\\r\\\\n\\\\t\\\\t\\\\t<ul class=\"textlarge\">\\\\r\\\\n\\\\t\\\\t\\\\t\\\\t<li><a href=\"/index.html\">\\\\xcd\\\\xf8\\\\xd5\\\\xbe\\\\xca\\\\xd7\\\\xd2\\\\xb3</a></li>\\\\r\\\\n\\\\t\\\\t\\\\t\\\\t<li><a href=\"/pt.html\">\\\\xc3\\\\xe2\\\\xb7\\\\xd1HTTP\\\\xcc\\\\xe1\\\\xc8\\\\xa1</a></li>\\\\r\\\\n\\\\t\\\\t\\\\t\\\\t<li><a href=\"/nm.html\">\\\\xc3\\\\xe2\\\\xb7\\\\xd1\\\\xc4\\\\xe4\\\\xc3\\\\xfbIP\\\\xcc\\\\xe1\\\\xc8\\\\xa1</a></li>\\\\r\\\\n\\\\t\\\\t\\\\t\\\\t<li><a href=\"/rj.html\">\\\\xc3\\\\xe2\\\\xb7\\\\xd1\\\\xc8\\\\xed\\\\xbc\\\\xfeIP\\\\xcc\\\\xe1\\\\xc8\\\\xa1</a></li>\\\\r\\\\n\\\\t\\\\t\\\\t\\\\t<li><a href=\"/yz\">\\\\xd4\\\\xda\\\\xcf\\\\xdf\\\\xbc\\\\xec\\\\xb2\\\\xe2IP</a></li>\\\\r\\\\n                <li><a href=\"/zz.html\">\\\\xca\\\\xd5\\\\xb7\\\\xd1\\\\xbb\\\\xe1\\\\xd4\\\\xb1IP\\\\xcc\\\\xe1\\\\xc8\\\\xa1</a></li>\\\\r\\\\n                <li><a href=\"http://www.66daili.cn\">\\\\xca\\\\xd5\\\\xb7\\\\xd1\\\\xb9\\\\xba\\\\xc2\\\\xf2IP\\\\xbc\\\\xdb\\\\xb8\\\\xf1</a></li>\\\\r\\\\n\\\\t\\\\t\\\\t\\\\t<li><a class=\"logo left block\" href=\"tencent://message/?uin=709295847&amp;site=\\\\xbf\\\\xcd\\\\xb7\\\\xfe&amp;menu=yes\"><img src=\"/common/tp/qq.gif\" alt=\"QQ\\\\xbf\\\\xcd\\\\xb7\\\\xfe\" width=\"77\" height=\"22\" border=\"0\" align=\"right\"></a></li\\\\r\\\\n\\\\t\\\\t\\\\t</ul>\\\\r\\\\n\\\\t\\\\t</div>\\\\r\\\\n\\\\t</div>\\\\r\\\\n</div>\\\\r\\\\n<div style=\"margin-top:10px\">\\\\r\\\\n\\\\t<table style=\"width:959px;margin:0 auto;border:1px solid #ccc;border-collapse:collapse\" cellpadding=\"0\" cellspacing=\"0\">\\\\r\\\\n\\\\t\\\\t<td>\\\\r\\\\n\\\\t\\\\t\\\\t<p>\\\\r\\\\n<a href=\"http://www.66daili.cn\"><img src=\"/common/tp/111.png\" alt=\"\\\\xc1\\\\xf9\\\\xc1\\\\xf9\\\\xb4\\\\xfa\\\\xc0\\\\xed\" width=\"993\" height=\"124\" border=\"0\" /></a>\\\\r\\\\n\\\\t</table>\\\\r\\\\n</div>\\\\r\\\\n\\\\t\\\\t\\\\r\\\\n\\\\r\\\\n<div style=\"margin-top:10px;\">\\\\r\\\\n<table cellspacing=\"0\" cellpadding=\"0\" style=\"width:959px;margin:0 auto;border:1px solid #cccccc;border-collapse:collapse;\">\\\\t\\\\t\\\\t\\\\t\\\\t\\\\t\\\\r\\\\n\\\\t<tr>\\\\r\\\\n\\\\t<td style=\"padding-right:0px;\">\\\\r\\\\n\\\\t\\\\t<ul class=\"textlarge22\">\\\\r\\\\n\\\\t\\\\t<li class=\"myactive\"><a href=\"http://www.66ip.cn\">\\\\xc8\\\\xab\\\\xb9\\\\xfa\\\\xb4\\\\xfa\\\\xc0\\\\xedip</a> </li>\\\\r\\\\n\\\\t\\\\t\\\\t\\\\t<li > <a href=\"/areaindex_1/1.html\">\\\\xb1\\\\xb1\\\\xbe\\\\xa9\\\\xb4\\\\xfa\\\\xc0\\\\xedip</a> </li>\\\\r\\\\n\\\\t\\\\t\\\\t\\\\t<li > <a href=\"/areaindex_2/1.html\">\\\\xc9\\\\xcf\\\\xba\\\\xa3\\\\xb4\\\\xfa\\\\xc0\\\\xedip</a> </li>\\\\r\\\\n\\\\t\\\\t\\\\t\\\\t<li > <a href=\"/areaindex_3/1.html\">\\\\xcc\\\\xec\\\\xbd\\\\xf2\\\\xb4\\\\xfa\\\\xc0\\\\xedip</a> </li>\\\\r\\\\n\\\\t\\\\t\\\\t\\\\t<li > <a href=\"/areaindex_4/1.html\">\\\\xd6\\\\xd8\\\\xc7\\\\xec\\\\xb4\\\\xfa\\\\xc0\\\\xedip</a> </li>\\\\r\\\\n\\\\t\\\\t\\\\t\\\\t<li > <a href=\"/areaindex_5/1.html\">\\\\xba\\\\xd3\\\\xb1\\\\xb1\\\\xb4\\\\xfa\\\\xc0\\\\xedip</a> </li>\\\\r\\\\n\\\\t\\\\t\\\\t\\\\t<li > <a href=\"/areaindex_6/1.html\">\\\\xc9\\\\xbd\\\\xce\\\\xf7\\\\xb4\\\\xfa\\\\xc0\\\\xedip</a> </li>\\\\r\\\\n\\\\t\\\\t\\\\t\\\\t<li > <a href=\"/areaindex_7/1.html\">\\\\xc1\\\\xc9\\\\xc4\\\\xfe\\\\xb4\\\\xfa\\\\xc0\\\\xedip</a> </li>\\\\r\\\\n\\\\t\\\\t\\\\t\\\\t<li > <a href=\"/areaindex_8/1.html\">\\\\xbc\\\\xaa\\\\xc1\\\\xd6\\\\xb4\\\\xfa\\\\xc0\\\\xedip</a> </li>\\\\r\\\\n\\\\t\\\\t\\\\t\\\\t<li > <a href=\"/areaindex_9/1.html\">\\\\xba\\\\xda\\\\xc1\\\\xfa\\\\xbd\\\\xad\\\\xb4\\\\xfa\\\\xc0\\\\xedip</a> </li>\\\\r\\\\n\\\\t\\\\t\\\\t\\\\t<li > <a href=\"/areaindex_10/1.html\">\\\\xbd\\\\xad\\\\xcb\\\\xd5\\\\xb4\\\\xfa\\\\xc0\\\\xedip</a> </li>\\\\r\\\\n\\\\t\\\\t\\\\t\\\\t<li > <a href=\"/areaindex_11/1.html\">\\\\xd5\\\\xe3\\\\xbd\\\\xad\\\\xb4\\\\xfa\\\\xc0\\\\xedip</a> </li>\\\\r\\\\n\\\\t\\\\t\\\\t\\\\t<li > <a href=\"/areaindex_12/1.html\">\\\\xb0\\\\xb2\\\\xbb\\\\xd5\\\\xb4\\\\xfa\\\\xc0\\\\xedip</a> </li>\\\\r\\\\n\\\\t\\\\t\\\\t\\\\t<li > <a href=\"/areaindex_13/1.html\">\\\\xb8\\\\xa3\\\\xbd\\\\xa8\\\\xb4\\\\xfa\\\\xc0\\\\xedip</a> </li>\\\\r\\\\n\\\\t\\\\t\\\\t\\\\t<li > <a href=\"/areaindex_14/1.html\">\\\\xbd\\\\xad\\\\xce\\\\xf7\\\\xb4\\\\xfa\\\\xc0\\\\xedip</a> </li>\\\\r\\\\n\\\\t\\\\t\\\\t\\\\t<li > <a href=\"/areaindex_15/1.html\">\\\\xc9\\\\xbd\\\\xb6\\\\xab\\\\xb4\\\\xfa\\\\xc0\\\\xedip</a> </li>\\\\r\\\\n\\\\t\\\\t\\\\t\\\\t<li > <a href=\"/areaindex_16/1.html\">\\\\xba\\\\xd3\\\\xc4\\\\xcf\\\\xb4\\\\xfa\\\\xc0\\\\xedip</a> </li>\\\\r\\\\n\\\\t\\\\t\\\\t\\\\t<li > <a href=\"/areaindex_17/1.html\">\\\\xba\\\\xfe\\\\xb1\\\\xb1\\\\xb4\\\\xfa\\\\xc0\\\\xedip</a> </li>\\\\r\\\\n\\\\t\\\\t\\\\t\\\\t<li > <a href=\"/areaindex_18/1.html\">\\\\xba\\\\xfe\\\\xc4\\\\xcf\\\\xb4\\\\xfa\\\\xc0\\\\xedip</a> </li>\\\\r\\\\n\\\\t\\\\t\\\\t\\\\t<li > <a href=\"/areaindex_19/1.html\">\\\\xb9\\\\xe3\\\\xb6\\\\xab\\\\xb4\\\\xfa\\\\xc0\\\\xedip</a> </li>\\\\r\\\\n\\\\t\\\\t\\\\t\\\\t<li > <a href=\"/areaindex_20/1.html\">\\\\xba\\\\xa3\\\\xc4\\\\xcf\\\\xb4\\\\xfa\\\\xc0\\\\xedip</a> </li>\\\\r\\\\n\\\\t\\\\t\\\\t\\\\t<li > <a href=\"/areaindex_21/1.html\">\\\\xcb\\\\xc4\\\\xb4\\\\xa8\\\\xb4\\\\xfa\\\\xc0\\\\xedip</a> </li>\\\\r\\\\n\\\\t\\\\t\\\\t\\\\t<li > <a href=\"/areaindex_22/1.html\">\\\\xb9\\\\xf3\\\\xd6\\\\xdd\\\\xb4\\\\xfa\\\\xc0\\\\xedip</a> </li>\\\\r\\\\n\\\\t\\\\t\\\\t\\\\t<li > <a href=\"/areaindex_23/1.html\">\\\\xd4\\\\xc6\\\\xc4\\\\xcf\\\\xb4\\\\xfa\\\\xc0\\\\xedip</a> </li>\\\\r\\\\n\\\\t\\\\t\\\\t\\\\t<li > <a href=\"/areaindex_24/1.html\">\\\\xc9\\\\xc2\\\\xce\\\\xf7\\\\xb4\\\\xfa\\\\xc0\\\\xedip</a> </li>\\\\r\\\\n\\\\t\\\\t\\\\t\\\\t<li > <a href=\"/areaindex_25/1.html\">\\\\xb8\\\\xca\\\\xcb\\\\xe0\\\\xb4\\\\xfa\\\\xc0\\\\xedip</a> </li>\\\\r\\\\n\\\\t\\\\t\\\\t\\\\t<li > <a href=\"/areaindex_26/1.html\">\\\\xc7\\\\xe0\\\\xba\\\\xa3\\\\xb4\\\\xfa\\\\xc0\\\\xedip</a> </li>\\\\r\\\\n\\\\t\\\\t\\\\t\\\\t<li > <a href=\"/areaindex_27/1.html\">\\\\xcc\\\\xa8\\\\xcd\\\\xe5\\\\xb4\\\\xfa\\\\xc0\\\\xedip</a> </li>\\\\r\\\\n\\\\t\\\\t\\\\t\\\\t<li > <a href=\"/areaindex_28/1.html\">\\\\xc4\\\\xda\\\\xc3\\\\xc9\\\\xb9\\\\xc5\\\\xb4\\\\xfa\\\\xc0\\\\xedip</a> </li>\\\\r\\\\n\\\\t\\\\t\\\\t\\\\t<li > <a href=\"/areaindex_29/1.html\">\\\\xb9\\\\xe3\\\\xce\\\\xf7\\\\xb4\\\\xfa\\\\xc0\\\\xedip</a> </li>\\\\r\\\\n\\\\t\\\\t\\\\t\\\\t<li > <a href=\"/areaindex_30/1.html\">\\\\xce\\\\xf7\\\\xb2\\\\xd8\\\\xb4\\\\xfa\\\\xc0\\\\xedip</a> </li>\\\\r\\\\n\\\\t\\\\t\\\\t\\\\t<li > <a href=\"/areaindex_31/1.html\">\\\\xc4\\\\xfe\\\\xcf\\\\xc4\\\\xb4\\\\xfa\\\\xc0\\\\xedip</a> </li>\\\\r\\\\n\\\\t\\\\t\\\\t\\\\t<li > <a href=\"/areaindex_32/1.html\">\\\\xd0\\\\xc2\\\\xbd\\\\xae\\\\xb4\\\\xfa\\\\xc0\\\\xedip</a> </li>\\\\r\\\\n\\\\t\\\\t\\\\t\\\\t<li > <a href=\"/areaindex_33/1.html\">\\\\xcf\\\\xe3\\\\xb8\\\\xdb\\\\xb4\\\\xfa\\\\xc0\\\\xedip</a> </li>\\\\r\\\\n\\\\t\\\\t\\\\t\\\\t<li > <a href=\"/areaindex_34/1.html\">\\\\xb0\\\\xc4\\\\xc3\\\\xc5\\\\xb4\\\\xfa\\\\xc0\\\\xedip</a> </li>\\\\r\\\\n\\\\t\\\\t\\\\t\\\\t</ul>\\\\r\\\\n\\\\t</td>\\\\r\\\\n\\\\t</tr>\\\\r\\\\n  </table>\\\\r\\\\n</div>\\\\r\\\\n\\\\r\\\\n\\\\r\\\\n\\\\r\\\\n\\\\r\\\\n<div id=\"main\" class=\"container\">\\\\r\\\\n<div class=\"containerbox boxindex\">\\\\r\\\\n\\\\r\\\\n\\\\r\\\\n\\\\r\\\\n    <div align=\"center\">\\\\r\\\\n      <p>\\\\r\\\\n        <!--bordercolor=\"#7b7b7b\" \\\\xd5\\\\xe2\\\\xb8\\\\xf6\\\\xd1\\\\xd5\\\\xc9\\\\xab\\\\xd6\\\\xb5\\\\xd0\\\\xde\\\\xb8\\\\xc4\\\\xcf\\\\xc2\\\\xbe\\\\xcd\\\\xca\\\\xc7\\\\xb1\\\\xdf\\\\xbf\\\\xf2\\\\xb5\\\\xc4-->\\\\r\\\\n        <a href=\"http://m.66ip.cn/\" class=\"f18\">\\\\xca\\\\xd6\\\\xbb\\\\xfa\\\\xcd\\\\xf8\\\\xd2\\\\xb3\\\\xb6\\\\xcb</a>-<a href=\"http://www.66daili.cn\" class=\"f18\">\\\\xb9\\\\xba\\\\xc2\\\\xf2\\\\xb8\\\\xdf\\\\xd6\\\\xca\\\\xc1\\\\xbfIP\\\\xc7\\\\xeb\\\\xb5\\\\xe3\\\\xbb\\\\xf7</a> </p>\\\\r\\\\n\\\\t    <a href=\"http://www.66daili.cn\" class=\"f18\">\\\\xb6\\\\xaf\\\\xcc\\\\xac\\\\xb4\\\\xfa\\\\xc0\\\\xed\\\\xa3\\\\xac\\\\xcb\\\\xbd\\\\xc3\\\\xdc\\\\xb4\\\\xfa\\\\xc0\\\\xed\\\\xa3\\\\xac\\\\xb6\\\\xc0\\\\xcf\\\\xed\\\\xb4\\\\xfa\\\\xc0\\\\xed\\\\xa3\\\\xac\\\\xd0\\\\xe8\\\\xd2\\\\xaa\\\\xb5\\\\xe3\\\\xbb\\\\xf7\\\\xce\\\\xc4\\\\xd7\\\\xd6</a> </p>\\\\r\\\\n      <span class=\"style6\">\\\\xd0\\\\xc2\\\\xbd\\\\xe7\\\\xc3\\\\xe6-\\\\xd0\\\\xc2ip-\\\\xb8\\\\xdf\\\\xd6\\\\xca\\\\xc1\\\\xbf-\\\\xd0\\\\xc2\\\\xb9\\\\xa6\\\\xc4\\\\xdc-\\\\xb6\\\\xe0ip</span></p>\\\\r\\\\n      <p class=\"style6\">\\\\xb8\\\\xfc\\\\xb6\\\\xe0http-https\\\\xd7\\\\xb7\\\\xc7\\\\xf3\\\\xb8\\\\xfc\\\\xb8\\\\xdf\\\\xb5\\\\xc4\\\\xd6\\\\xca\\\\xc1\\\\xbf</p>\\\\r\\\\n      <p class=\"style6\">ip\\\\xb5\\\\xd8\\\\xc7\\\\xf8\\\\xb1\\\\xed\\\\xb8\\\\xf1\\\\xca\\\\xfd\\\\xc1\\\\xbf\\\\xbb\\\\xe1\\\\xb3\\\\xf6\\\\xcf\\\\xd6\\\\xce\\\\xf3\\\\xb2\\\\xee\\\\xc7\\\\xeb\\\\xb2\\\\xbb\\\\xd2\\\\xaa\\\\xb4\\\\xf3\\\\xc1\\\\xbf\\\\xb6\\\\xd4\\\\xb1\\\\xc8</p>\\\\r\\\\n      <p>\\\\r\\\\n            </p>\\\\r\\\\n      <p class=\"style7\">\\\\xb4\\\\xfa\\\\xc0\\\\xed\\\\xd7\\\\xdc\\\\xca\\\\xfd <span style=\"color:red;\">6943</span></p>\\\\r\\\\n            <table width=\\\\\\'100%\\\\\\' border=\"2px\" cellspacing=\"0px\" bordercolor=\"#6699ff\">\\\\r\\\\n    <tr><td>ip</td><td>\\\\xb6\\\\xcb\\\\xbf\\\\xda\\\\xba\\\\xc5</td><td>\\\\xb4\\\\xfa\\\\xc0\\\\xed\\\\xce\\\\xbb\\\\xd6\\\\xc3</td><td>\\\\xb4\\\\xfa\\\\xc0\\\\xed\\\\xc0\\\\xe0\\\\xd0\\\\xcd</td><td>\\\\xd1\\\\xe9\\\\xd6\\\\xa4\\\\xca\\\\xb1\\\\xbc\\\\xe4</td></tr>\\\\r\\\\n        <tr><td>79.120.105.114</td><td>48383</td><td>\\\\xb6\\\\xed\\\\xc2\\\\xde\\\\xcb\\\\xb9</td><td>\\\\xb8\\\\xdf\\\\xc4\\\\xe4\\\\xb4\\\\xfa\\\\xc0\\\\xed</td><td>2018\\\\xc4\\\\xea11\\\\xd4\\\\xc208\\\\xc8\\\\xd516\\\\xca\\\\xb1 \\\\xd1\\\\xe9\\\\xd6\\\\xa4</td></tr><tr><td>36.72.230.234</td><td>80</td><td>\\\\xd3\\\\xa1\\\\xb6\\\\xc8\\\\xc4\\\\xe1\\\\xce\\\\xf7\\\\xd1\\\\xc7</td><td>\\\\xb8\\\\xdf\\\\xc4\\\\xe4\\\\xb4\\\\xfa\\\\xc0\\\\xed</td><td>2018\\\\xc4\\\\xea11\\\\xd4\\\\xc208\\\\xc8\\\\xd514\\\\xca\\\\xb1 \\\\xd1\\\\xe9\\\\xd6\\\\xa4</td></tr><tr><td>81.163.57.230</td><td>41258</td><td>\\\\xb6\\\\xed\\\\xc2\\\\xde\\\\xcb\\\\xb9</td><td>\\\\xb8\\\\xdf\\\\xc4\\\\xe4\\\\xb4\\\\xfa\\\\xc0\\\\xed</td><td>2018\\\\xc4\\\\xea11\\\\xd4\\\\xc208\\\\xc8\\\\xd512\\\\xca\\\\xb1 \\\\xd1\\\\xe9\\\\xd6\\\\xa4</td></tr><tr><td>49.51.195.24</td><td>1080</td><td>\\\\xc9\\\\xcf\\\\xba\\\\xa3\\\\xca\\\\xd0\\\\xc6\\\\xd6\\\\xb6\\\\xab\\\\xd0\\\\xc2\\\\xc7\\\\xf8</td><td>\\\\xb8\\\\xdf\\\\xc4\\\\xe4\\\\xb4\\\\xfa\\\\xc0\\\\xed</td><td>2018\\\\xc4\\\\xea11\\\\xd4\\\\xc208\\\\xc8\\\\xd510\\\\xca\\\\xb1 \\\\xd1\\\\xe9\\\\xd6\\\\xa4</td></tr><tr><td>103.5.172.193</td><td>8080</td><td>\\\\xb0\\\\xa2\\\\xb8\\\\xbb\\\\xba\\\\xb9</td><td>\\\\xb8\\\\xdf\\\\xc4\\\\xe4\\\\xb4\\\\xfa\\\\xc0\\\\xed</td><td>2018\\\\xc4\\\\xea11\\\\xd4\\\\xc208\\\\xc8\\\\xd508\\\\xca\\\\xb1 \\\\xd1\\\\xe9\\\\xd6\\\\xa4</td></tr><tr><td>61.164.39.69</td><td>53281</td><td>\\\\xd5\\\\xe3\\\\xbd\\\\xad\\\\xca\\\\xa1\\\\xba\\\\xbc\\\\xd6\\\\xdd\\\\xca\\\\xd0</td><td>\\\\xb8\\\\xdf\\\\xc4\\\\xe4\\\\xb4\\\\xfa\\\\xc0\\\\xed</td><td>2018\\\\xc4\\\\xea11\\\\xd4\\\\xc208\\\\xc8\\\\xd506\\\\xca\\\\xb1 \\\\xd1\\\\xe9\\\\xd6\\\\xa4</td></tr><tr><td>41.202.221.22</td><td>53281</td><td>\\\\xbf\\\\xa6\\\\xc2\\\\xf3\\\\xc2\\\\xa1</td><td>\\\\xb8\\\\xdf\\\\xc4\\\\xe4\\\\xb4\\\\xfa\\\\xc0\\\\xed</td><td>2018\\\\xc4\\\\xea11\\\\xd4\\\\xc208\\\\xc8\\\\xd504\\\\xca\\\\xb1 \\\\xd1\\\\xe9\\\\xd6\\\\xa4</td></tr><tr><td>5.232.143.153</td><td>80</td><td>\\\\xd2\\\\xc1\\\\xc0\\\\xca</td><td>\\\\xb8\\\\xdf\\\\xc4\\\\xe4\\\\xb4\\\\xfa\\\\xc0\\\\xed</td><td>2018\\\\xc4\\\\xea11\\\\xd4\\\\xc208\\\\xc8\\\\xd502\\\\xca\\\\xb1 \\\\xd1\\\\xe9\\\\xd6\\\\xa4</td></tr><tr><td>154.117.152.13</td><td>9001</td><td>\\\\xb7\\\\xc7\\\\xd6\\\\xde</td><td>\\\\xb8\\\\xdf\\\\xc4\\\\xe4\\\\xb4\\\\xfa\\\\xc0\\\\xed</td><td>2018\\\\xc4\\\\xea11\\\\xd4\\\\xc208\\\\xc8\\\\xd500\\\\xca\\\\xb1 \\\\xd1\\\\xe9\\\\xd6\\\\xa4</td></tr>    </table>\\\\r\\\\n    \\\\r\\\\n    </div>\\\\r\\\\n    \\\\r\\\\n    \\\\r\\\\n    \\\\r\\\\n    <div class=\"mypage\" style=\"position:relative;margin:10px auto;width:900px;\">\\\\r\\\\n    \\\\r\\\\n    <div style=\"width:740px;overflow:hidden;height:30px;margin:0px auto;\"><div id=\"PageList\" style=\"width:22784px;\"><a href=\"/index\" class=\"pageCurrent\">1</a> <a href=\"/2.html\" >2</a> <a href=\"/3.html\" >3</a> <a href=\"/4.html\" >4</a> <a href=\"/5.html\" >5</a> <a href=\"/6.html\" >6</a> <a href=\"/7.html\" >7</a> <a href=\"/8.html\" >8</a> <a href=\"/9.html\" >9</a> <a href=\"/10.html\" >10</a>  <a href=\"javascript:void();\" class=\"dotdot\">..</a> <a href=\"/1424.html\">1424</a> <a href=\"/2.html\">&raquo;</a></div>    </div>\\\\r\\\\n    \\\\r\\\\n    </div>\\\\r\\\\n\\\\r\\\\n</div>\\\\r\\\\n</div>\\\\r\\\\n\\\\r\\\\n\\\\r\\\\n<div class=\"frendlink\">\\\\r\\\\n\\\\t<p>\\\\xd3\\\\xd1\\\\xc7\\\\xe9\\\\xc1\\\\xb4\\\\xbd\\\\xd3:<a href=\"http://www.66ip.cn\" target=\"_blank\">\\\\xb4\\\\xfa\\\\xc0\\\\xedip</a><a href=\"http://www.siteloop.net\" target=\"_blank\"> IP\\\\xb2\\\\xe9\\\\xd1\\\\xaf</a><a href=\"http://www.66ip.cn\" target=\"_blank\">ip\\\\xb4\\\\xfa\\\\xc0\\\\xed</a><a href=\"http://www.89ip.cn\" target=\"_blank\">89\\\\xb4\\\\xfa\\\\xc0\\\\xedip</a><a href=\"http://www.66daili.cn\" target=\"_blank\">\\\\xc1\\\\xf9\\\\xc1\\\\xf9\\\\xb4\\\\xfa\\\\xc0\\\\xed</a><p>\\\\r\\\\n</div>\\\\r\\\\n\\\\r\\\\n<div class=\"footer\">\\\\r\\\\n  <div align=\"center\" class=\"center\">\\\\r\\\\n  <p>copyright&nbsp;&copy; 2012-2017 66IP.\\\\xb0\\\\xe6\\\\xc8\\\\xa8\\\\xcb\\\\xf9\\\\xd3\\\\xd0 \\\\xd4\\\\xc1icp\\\\xb1\\\\xb814092868\\\\xba\\\\xc5-1\\\\r\\\\n  </a><span>|</span><a href=\"/sitemap.html\">\\\\xcd\\\\xf8\\\\xd5\\\\xbe\\\\xb5\\\\xd8\\\\xcd\\\\xbc</a></div>\\\\r\\\\n\\\\r\\\\n  </script>\\\\r\\\\n  \\\\r\\\\n  \\\\r\\\\n<script type=\"text/javascript\">\\\\r\\\\nvar sogou_ad_id=768627;\\\\r\\\\nvar sogou_ad_height=300;\\\\r\\\\nvar sogou_ad_width=120;\\\\r\\\\n</script>\\\\r\\\\n\\\\r\\\\n<link rel=\"stylesheet\" type=\"text/css\" href=\"css/kefu.css\">\\\\r\\\\n<div class=\"scrollsidebar\" id=\"scrollsidebar\">\\\\r\\\\n  <div class=\"side_content\">\\\\r\\\\n    <div class=\"side_list\">\\\\r\\\\n      <div class=\"side_title\"><a title=\"\\\\xd2\\\\xfe\\\\xb2\\\\xd8\" class=\"close_btn\"><span>\\\\xb9\\\\xd8\\\\xb1\\\\xd5</span></a></div>\\\\r\\\\n      <div class=\"side_center\">\\\\r\\\\n        <div class=\"custom_service\">\\\\r\\\\n\\\\t\\\\t  <a href=\"http://wpa.qq.com/msgrd?v=3&uin=709295847&site=qq&menu=yes\"><img src=\"/common/tp/qq.gif\" alt=\"\\\\xd4\\\\xda\\\\xcf\\\\xdf\\\\xbf\\\\xcd\\\\xb7\\\\xfe\"></a>\\\\r\\\\n        </div>\\\\r\\\\n        <div class=\"other\">\\\\r\\\\n          <p>\\\\xc7\\\\xeb\\\\xbc\\\\xd3\\\\xc8\\\\xebQQ\\\\xc8\\\\xba</a>\\\\r\\\\n\\\\t\\\\t  <a href=\"http://shang.qq.com/wpa/qunwpa?idkey=e2ed48b3c1f0307d19ad18cc929ac52413fc8346ed49aa430a4259d23d921cf5\"><img src=\"/common/tp/qqq.png\" alt=\"QQ\\\\xc8\\\\xba\"></a>\\\\r\\\\n          <p>\\\\xbf\\\\xcd\\\\xbb\\\\xa7\\\\xb7\\\\xfe\\\\xce\\\\xf1\\\\xc8\\\\xc8\\\\xcf\\\\xdf</p>\\\\r\\\\n          <p>17605981112</p>\\\\r\\\\n        </div>\\\\r\\\\n        <div class=\"msgserver\">\\\\r\\\\n        </div>\\\\r\\\\n      </div>\\\\r\\\\n      <div class=\"side_bottom\"></div>\\\\r\\\\n    </div>\\\\r\\\\n  </div>\\\\r\\\\n  <div class=\"show_btn\"><span>\\\\xd4\\\\xda\\\\xcf\\\\xdf\\\\xbf\\\\xcd\\\\xb7\\\\xfe</span></div>\\\\r\\\\n</div>\\\\r\\\\n<script type=\"text/javascript\" src=\"js/kefu.js\"></script>\\\\r\\\\n\\\\r\\\\n</script>\\\\r\\\\n\\\\r\\\\n<script>\\\\r\\\\nvar _hmt = _hmt || [];\\\\r\\\\n(function() {\\\\r\\\\n  var hm = document.createElement(\"script\");\\\\r\\\\n  hm.src = \"//hm.baidu.com/hm.js?1761fabf3c988e7f04bec51acd4073f4\";\\\\r\\\\n  var s = document.getElementsByTagName(\"script\")[0]; \\\\r\\\\n  s.parentNode.insertBefore(hm, s);\\\\r\\\\n})();\\\\r\\\\n</script>\\\\r\\\\n</div\\\\r\\\\n\\\\r\\\\n</body>\\\\r\\\\n</html>\\\\r\\\\n\\\\r\\\\n\\\\r\\\\n\\\\r\\\\n\\''"
      ]
     },
     "execution_count": 39,
     "metadata": {},
     "output_type": "execute_result"
    }
   ],
   "source": [
    "s"
   ]
  },
  {
   "cell_type": "code",
   "execution_count": 40,
   "metadata": {},
   "outputs": [],
   "source": [
    "import re"
   ]
  },
  {
   "cell_type": "code",
   "execution_count": 46,
   "metadata": {},
   "outputs": [],
   "source": [
    "result = re.search(r'charset=(.*?)\"', s)"
   ]
  },
  {
   "cell_type": "code",
   "execution_count": 47,
   "metadata": {},
   "outputs": [
    {
     "data": {
      "text/plain": [
       "<_sre.SRE_Match object; span=(498, 513), match='charset=gb2312\"'>"
      ]
     },
     "execution_count": 47,
     "metadata": {},
     "output_type": "execute_result"
    }
   ],
   "source": [
    "result"
   ]
  },
  {
   "cell_type": "code",
   "execution_count": 48,
   "metadata": {},
   "outputs": [
    {
     "data": {
      "text/plain": [
       "'gb2312'"
      ]
     },
     "execution_count": 48,
     "metadata": {},
     "output_type": "execute_result"
    }
   ],
   "source": [
    "result.groups()[0]"
   ]
  },
  {
   "cell_type": "code",
   "execution_count": 49,
   "metadata": {},
   "outputs": [],
   "source": [
    "s = con.decode('gb2312')"
   ]
  },
  {
   "cell_type": "code",
   "execution_count": 50,
   "metadata": {},
   "outputs": [],
   "source": [
    "from bs4 import BeautifulSoup"
   ]
  },
  {
   "cell_type": "code",
   "execution_count": 51,
   "metadata": {},
   "outputs": [],
   "source": [
    "obj = BeautifulSoup(s, 'html5lib')"
   ]
  },
  {
   "cell_type": "code",
   "execution_count": 55,
   "metadata": {},
   "outputs": [],
   "source": [
    "lista = obj.select('ul[class=\"textlarge22\"] li a')[1:]"
   ]
  },
  {
   "cell_type": "code",
   "execution_count": 57,
   "metadata": {},
   "outputs": [],
   "source": [
    "a = lista[0]"
   ]
  },
  {
   "cell_type": "code",
   "execution_count": 58,
   "metadata": {},
   "outputs": [
    {
     "data": {
      "text/plain": [
       "<a href=\"/areaindex_1/1.html\">北京代理ip</a>"
      ]
     },
     "execution_count": 58,
     "metadata": {},
     "output_type": "execute_result"
    }
   ],
   "source": [
    "a"
   ]
  },
  {
   "cell_type": "code",
   "execution_count": 59,
   "metadata": {},
   "outputs": [
    {
     "data": {
      "text/plain": [
       "'/areaindex_1/1.html'"
      ]
     },
     "execution_count": 59,
     "metadata": {},
     "output_type": "execute_result"
    }
   ],
   "source": [
    "a.get('href')"
   ]
  },
  {
   "cell_type": "code",
   "execution_count": 60,
   "metadata": {},
   "outputs": [],
   "source": [
    "url = 'http://www.66ip.cn/areaindex_1/1.html'\n",
    "req = request.urlopen(url)\n",
    "con = req.read()\n",
    "obj = BeautifulSoup(con.decode('gb2312'), 'html5lib')"
   ]
  },
  {
   "cell_type": "code",
   "execution_count": 65,
   "metadata": {},
   "outputs": [],
   "source": [
    "listt = obj.select('div[align=\"center\"] tbody tr')"
   ]
  },
  {
   "cell_type": "code",
   "execution_count": 66,
   "metadata": {},
   "outputs": [
    {
     "data": {
      "text/plain": [
       "29"
      ]
     },
     "execution_count": 66,
     "metadata": {},
     "output_type": "execute_result"
    }
   ],
   "source": [
    "len(listt)"
   ]
  },
  {
   "cell_type": "code",
   "execution_count": 69,
   "metadata": {},
   "outputs": [],
   "source": [
    "t = listt[1]"
   ]
  },
  {
   "cell_type": "code",
   "execution_count": 70,
   "metadata": {},
   "outputs": [
    {
     "data": {
      "text/plain": [
       "<tr><td>202.112.237.102</td><td>3128</td><td>北京市</td><td>高匿代理</td><td>2018年11月08日13时 验证</td></tr>"
      ]
     },
     "execution_count": 70,
     "metadata": {},
     "output_type": "execute_result"
    }
   ],
   "source": [
    "t"
   ]
  },
  {
   "cell_type": "code",
   "execution_count": 71,
   "metadata": {},
   "outputs": [
    {
     "data": {
      "text/plain": [
       "'202.112.237.1023128北京市高匿代理2018年11月08日13时 验证'"
      ]
     },
     "execution_count": 71,
     "metadata": {},
     "output_type": "execute_result"
    }
   ],
   "source": [
    "t.text"
   ]
  },
  {
   "cell_type": "code",
   "execution_count": 75,
   "metadata": {},
   "outputs": [
    {
     "data": {
      "text/plain": [
       "'202.112.237.102:3128'"
      ]
     },
     "execution_count": 75,
     "metadata": {},
     "output_type": "execute_result"
    }
   ],
   "source": [
    "':'.join(list(t.stripped_strings)[:2])"
   ]
  },
  {
   "cell_type": "code",
   "execution_count": 1,
   "metadata": {},
   "outputs": [],
   "source": [
    "from urllib import request"
   ]
  },
  {
   "cell_type": "code",
   "execution_count": 2,
   "metadata": {},
   "outputs": [],
   "source": [
    "url = 'http://httpbin.org/get'\n",
    "req = request.urlopen(url)\n",
    "content = req.read().decode('utf-8')"
   ]
  },
  {
   "cell_type": "code",
   "execution_count": 3,
   "metadata": {},
   "outputs": [
    {
     "data": {
      "text/plain": [
       "'{\\n  \"args\": {}, \\n  \"headers\": {\\n    \"Accept-Encoding\": \"identity\", \\n    \"Connection\": \"close\", \\n    \"Host\": \"httpbin.org\", \\n    \"User-Agent\": \"Python-urllib/3.6\"\\n  }, \\n  \"origin\": \"111.201.214.4\", \\n  \"url\": \"http://httpbin.org/get\"\\n}\\n'"
      ]
     },
     "execution_count": 3,
     "metadata": {},
     "output_type": "execute_result"
    }
   ],
   "source": [
    "content"
   ]
  },
  {
   "cell_type": "code",
   "execution_count": 4,
   "metadata": {},
   "outputs": [],
   "source": [
    "import json"
   ]
  },
  {
   "cell_type": "code",
   "execution_count": 5,
   "metadata": {},
   "outputs": [],
   "source": [
    "jdata = json.loads(content)"
   ]
  },
  {
   "cell_type": "code",
   "execution_count": 6,
   "metadata": {},
   "outputs": [
    {
     "data": {
      "text/plain": [
       "{'args': {},\n",
       " 'headers': {'Accept-Encoding': 'identity',\n",
       "  'Connection': 'close',\n",
       "  'Host': 'httpbin.org',\n",
       "  'User-Agent': 'Python-urllib/3.6'},\n",
       " 'origin': '111.201.214.4',\n",
       " 'url': 'http://httpbin.org/get'}"
      ]
     },
     "execution_count": 6,
     "metadata": {},
     "output_type": "execute_result"
    }
   ],
   "source": [
    "jdata"
   ]
  },
  {
   "cell_type": "code",
   "execution_count": 7,
   "metadata": {},
   "outputs": [
    {
     "data": {
      "text/plain": [
       "'111.201.214.4'"
      ]
     },
     "execution_count": 7,
     "metadata": {},
     "output_type": "execute_result"
    }
   ],
   "source": [
    "jdata['origin']"
   ]
  },
  {
   "cell_type": "code",
   "execution_count": 1,
   "metadata": {},
   "outputs": [],
   "source": [
    "from urllib import request\n",
    "from bs4 import BeautifulSoup"
   ]
  },
  {
   "cell_type": "code",
   "execution_count": 12,
   "metadata": {},
   "outputs": [],
   "source": [
    "url = 'http://www.66ip.cn/mo.php?sxb=&tqsl=10&port=&export=&ktip=&sxa=&submit=%CC%E1++%C8%A1&textarea='\n",
    "headers = {'Accept': 'text/html,application/xhtml+xml,application/xml;q=0.9,image/webp,image/apng,*/*;q=0.8',\n",
    "           'Accept-Language':'zh-TW,zh;q=0.9,en-US;q=0.8,en;q=0.7,zh-CN;q=0.6', 'Cache-Control': 'max-age=0',\n",
    "           'Connection':'keep-alive',\n",
    "           'Cookie':'yd_cookie=a3002aaf-9267-486acc8cca7828c68be37cf224cc289452c2; _ydclearance=b86c69e7bbad17cebb8556a8-8605-4ba4-8b5e-853262cc2f3b-1542873857',\n",
    "           'Host':'www.66ip.cn',\n",
    "           'Upgrade-Insecure-Requests':'1',\n",
    "           'User-Agent':\n",
    "           'Mozilla/5.0 (Macintosh; Intel Mac OS X 10_14_1) AppleWebKit/537.36 (KHTML, like Gecko) Chrome/70.0.3538.102 Safari/537.36'}\n",
    "reqhd = request.Request(url, headers=headers)\n",
    "req = request.urlopen(reqhd)\n",
    "con = req.read().decode('gb2312')\n",
    "obj = BeautifulSoup(con, 'html5lib')"
   ]
  },
  {
   "cell_type": "code",
   "execution_count": 13,
   "metadata": {
    "scrolled": true
   },
   "outputs": [
    {
     "data": {
      "text/plain": [
       "<html><head><style type=\"text/css\">\n",
       "</style>\n",
       "\n",
       "<meta content=\"text/html; charset=utf-8\" http-equiv=\"Content-Type\"/>\n",
       "<title>安小莫提示：提取成功</title>\n",
       "<script type=\"text/javascript\">\n",
       "</script>\n",
       "<script>\n",
       "var mediav_ad_pub = '47zFt2_1221523';\n",
       "var mediav_ad_width = '640';\n",
       "var mediav_ad_height = '60';\n",
       "</script>\n",
       "\n",
       "    \t</head><body>185.142.92.65:9000<br/>\n",
       "\t\t186.211.106.227:34334<br/>\n",
       "\t\t36.67.11.41:8080<br/>\n",
       "\t\t176.111.97.18:8080<br/>\n",
       "\t\t110.36.218.126:36651<br/>\n",
       "\t\t188.175.231.1:8080<br/>\n",
       "\t\t113.105.202.107:3128<br/>\n",
       "\t\t185.19.176.237:53281<br/>\n",
       "\t\t115.213.102.112:33862<br/>\n",
       "\t\t182.23.28.188:3128<br/>\n",
       "\t\n",
       "\n",
       "<script type=\"text/javascript\">\n",
       "$(function(){\n",
       "$('#adarea').slideDown(500);\n",
       "$('#adclose').click(function(){\n",
       "$('#adarea').slideUp(500);\n",
       "});\n",
       "});\n",
       "</script>\n",
       "\n",
       "<script src=\"http://www.66ip.cn/ggg/jquery.min.js\" type=\"text/javascript\"></script>\n",
       "<div id=\"adarea\" onclick=\"location.href='http://www.66daili.cn'\" style=\"cursor: pointer;display: none;position: fixed;right:15px;bottom:15px;width: 285px;height: 250px;background: url(http://www.66ip.cn/ggg/fkgg.png) no-repeat;\">\n",
       "<div id=\"adclose\" style=\"cursor: pointer; position: absolute;  top: 0px;  right: 0px;  display: block;  width: 20px;  height: 20px;font-family: cursive;background: url(http://www.66ip.cn/ggg/close.png) no-repeat;\" title=\"点击关闭\"> </div>\n",
       "</div>\n",
       "<script type=\"text/javascript\">\n",
       "$(function(){\n",
       "$('#adarea').slideDown(500);\n",
       "$('#adclose').click(function(){\n",
       "$('#adarea').slideUp(500);\n",
       "});\n",
       "});\n",
       "</script></body></html>"
      ]
     },
     "execution_count": 13,
     "metadata": {},
     "output_type": "execute_result"
    }
   ],
   "source": [
    "obj"
   ]
  },
  {
   "cell_type": "code",
   "execution_count": 14,
   "metadata": {},
   "outputs": [],
   "source": [
    "body = obj.find('body')"
   ]
  },
  {
   "cell_type": "code",
   "execution_count": 15,
   "metadata": {},
   "outputs": [
    {
     "data": {
      "text/plain": [
       "\"185.142.92.65:9000\\n\\t\\t186.211.106.227:34334\\n\\t\\t36.67.11.41:8080\\n\\t\\t176.111.97.18:8080\\n\\t\\t110.36.218.126:36651\\n\\t\\t188.175.231.1:8080\\n\\t\\t113.105.202.107:3128\\n\\t\\t185.19.176.237:53281\\n\\t\\t115.213.102.112:33862\\n\\t\\t182.23.28.188:3128\\n\\t\\n\\n\\n$(function(){\\n$('#adarea').slideDown(500);\\n$('#adclose').click(function(){\\n$('#adarea').slideUp(500);\\n});\\n});\\n\\n\\n\\n\\n \\n\\n\\n$(function(){\\n$('#adarea').slideDown(500);\\n$('#adclose').click(function(){\\n$('#adarea').slideUp(500);\\n});\\n});\\n\""
      ]
     },
     "execution_count": 15,
     "metadata": {},
     "output_type": "execute_result"
    }
   ],
   "source": [
    "body.text"
   ]
  },
  {
   "cell_type": "code",
   "execution_count": 16,
   "metadata": {},
   "outputs": [],
   "source": [
    "s = body.stripped_strings"
   ]
  },
  {
   "cell_type": "code",
   "execution_count": 17,
   "metadata": {},
   "outputs": [
    {
     "data": {
      "text/plain": [
       "<generator object Tag.stripped_strings at 0x109d7d660>"
      ]
     },
     "execution_count": 17,
     "metadata": {},
     "output_type": "execute_result"
    }
   ],
   "source": [
    "s"
   ]
  },
  {
   "cell_type": "code",
   "execution_count": 18,
   "metadata": {},
   "outputs": [],
   "source": [
    "listips = list(s)"
   ]
  },
  {
   "cell_type": "code",
   "execution_count": 19,
   "metadata": {},
   "outputs": [
    {
     "data": {
      "text/plain": [
       "['185.142.92.65:9000',\n",
       " '186.211.106.227:34334',\n",
       " '36.67.11.41:8080',\n",
       " '176.111.97.18:8080',\n",
       " '110.36.218.126:36651',\n",
       " '188.175.231.1:8080',\n",
       " '113.105.202.107:3128',\n",
       " '185.19.176.237:53281',\n",
       " '115.213.102.112:33862',\n",
       " '182.23.28.188:3128',\n",
       " \"$(function(){\\n$('#adarea').slideDown(500);\\n$('#adclose').click(function(){\\n$('#adarea').slideUp(500);\\n});\\n});\",\n",
       " \"$(function(){\\n$('#adarea').slideDown(500);\\n$('#adclose').click(function(){\\n$('#adarea').slideUp(500);\\n});\\n});\"]"
      ]
     },
     "execution_count": 19,
     "metadata": {},
     "output_type": "execute_result"
    }
   ],
   "source": [
    "listips"
   ]
  },
  {
   "cell_type": "code",
   "execution_count": 20,
   "metadata": {},
   "outputs": [],
   "source": [
    "import re"
   ]
  },
  {
   "cell_type": "code",
   "execution_count": 27,
   "metadata": {},
   "outputs": [],
   "source": [
    "result = re.match(r'[1-9][\\d\\.:]+\\d$', '115.213.102.112:33862')"
   ]
  },
  {
   "cell_type": "code",
   "execution_count": 28,
   "metadata": {},
   "outputs": [
    {
     "data": {
      "text/plain": [
       "'115.213.102.112:33862'"
      ]
     },
     "execution_count": 28,
     "metadata": {},
     "output_type": "execute_result"
    }
   ],
   "source": [
    "result.group()"
   ]
  },
  {
   "cell_type": "code",
   "execution_count": null,
   "metadata": {},
   "outputs": [],
   "source": []
  },
  {
   "cell_type": "markdown",
   "metadata": {},
   "source": [
    "### 高并发爬虫的设计与实现"
   ]
  },
  {
   "cell_type": "code",
   "execution_count": 1,
   "metadata": {},
   "outputs": [],
   "source": [
    "from urllib import request\n",
    "from bs4 import BeautifulSoup\n",
    "from fake_useragent import UserAgent"
   ]
  },
  {
   "cell_type": "code",
   "execution_count": 8,
   "metadata": {},
   "outputs": [],
   "source": [
    "url = 'http://www.xicidaili.com/nn/'\n",
    "ua = UserAgent()\n",
    "headers = {'Accept':'text/html,application/xhtml+xml,application/xml;q=0.9,image/webp,image/apng,*/*;q=0.8',\n",
    "           'Accept-Language':'zh-TW,zh;q=0.9,en-US;q=0.8,en;q=0.7,zh-CN;q=0.6', 'Cache-Control': 'max-age=0',\n",
    "           'Connection': 'keep-alive',\n",
    "           'Cookie':'_free_proxy_session=BAh7B0kiD3Nlc3Npb25faWQGOgZFVEkiJTUwNWU5MjdhYWViZWJjNmUzNTAzY2I2OGE3ZmY5MWIwBjsAVEkiEF9jc3JmX3Rva2VuBjsARkkiMTE4UnNvbDBFM1pMc281Uk83akdHNkN1Qmw5eFVmTm50MWRUVjNsb0E0cFE9BjsARg%3D%3D--49874addd753ef6041fe5f1393bd6f035b94f36a',\n",
    "           'Host': 'www.xicidaili.com',\n",
    "           'Upgrade-Insecure-Requests': '1',\n",
    "           'User-Agent':ua.random}\n",
    "proxy = {'http':'124.235.181.175:80'}\n",
    "proxyhd = request.ProxyHandler(proxy)\n",
    "opener = request.build_opener(proxyhd)\n",
    "reqhd = request.Request(url, headers = headers)\n",
    "req = request.urlopen(reqhd)\n",
    "obj = BeautifulSoup(req.read().decode('utf-8'), 'html5lib')"
   ]
  },
  {
   "cell_type": "code",
   "execution_count": 10,
   "metadata": {},
   "outputs": [],
   "source": [
    "listtr = obj.select('table tbody tr')"
   ]
  },
  {
   "cell_type": "code",
   "execution_count": 14,
   "metadata": {},
   "outputs": [
    {
     "name": "stdout",
     "output_type": "stream",
     "text": [
      "219.234.5.128:3128\n",
      "101.132.142.124:8080\n",
      "27.17.45.90:43411\n",
      "59.32.37.208:61234\n",
      "14.204.20.95:8080\n",
      "58.53.128.83:3128\n",
      "61.135.217.7:80\n",
      "124.243.226.18:8888\n",
      "101.236.57.99:8866\n",
      "118.190.94.224:9001\n",
      "101.236.55.145:8866\n",
      "139.129.207.72:808\n",
      "123.157.206.135:80\n",
      "219.238.186.188:8118\n",
      "121.33.220.158:808\n",
      "60.216.101.46:59351\n",
      "101.236.58.171:8866\n",
      "182.88.11.143:8118\n",
      "124.235.181.175:80\n",
      "58.58.213.55:8888\n",
      "106.12.7.54:8118\n",
      "61.135.155.82:443\n",
      "61.183.233.6:54896\n",
      "101.94.6.110:8123\n",
      "113.105.152.87:41473\n",
      "123.7.61.8:53281\n",
      "221.6.32.206:50925\n",
      "60.191.201.38:45461\n",
      "115.46.74.131:8123\n",
      "27.24.215.49:57248\n",
      "210.22.160.34:48513\n",
      "116.113.27.170:47849\n",
      "106.86.208.98:41683\n",
      "36.48.73.16:80\n",
      "115.231.5.230:44524\n",
      "183.47.2.201:30278\n",
      "139.199.38.182:8118\n",
      "42.48.118.106:50038\n",
      "27.115.49.174:59216\n",
      "218.59.193.14:47138\n",
      "111.75.223.9:35918\n",
      "218.79.86.236:54166\n",
      "117.21.191.154:32431\n",
      "61.189.242.243:55484\n",
      "222.94.145.127:61234\n",
      "114.119.116.92:61066\n",
      "119.254.94.95:43150\n",
      "180.168.13.26:8000\n",
      "118.178.227.171:80\n",
      "171.38.86.124:8123\n",
      "221.234.250.30:8010\n",
      "140.207.25.114:41471\n",
      "49.71.81.23:3128\n",
      "221.1.200.94:59511\n",
      "101.236.16.9:8866\n",
      "218.17.253.106:60004\n",
      "118.89.138.129:52699\n",
      "36.110.14.66:50519\n",
      "182.90.72.64:8888\n",
      "121.225.27.106:3128\n",
      "123.56.29.201:8118\n",
      "106.3.79.57:31662\n",
      "116.192.175.93:41944\n",
      "111.72.154.21:53128\n",
      "36.33.32.158:59019\n",
      "180.121.129.224:3128\n",
      "119.146.2.234:39960\n",
      "113.200.27.10:53281\n",
      "218.66.79.175:61772\n",
      "111.72.154.38:53128\n",
      "119.254.94.103:49955\n",
      "113.59.59.73:35683\n",
      "182.88.190.129:8123\n",
      "111.160.236.84:39692\n",
      "171.39.75.46:8123\n",
      "123.132.232.254:37638\n",
      "123.185.221.22:8118\n",
      "121.228.54.57:3128\n",
      "114.230.41.156:3128\n",
      "171.37.156.67:8123\n",
      "123.185.4.20:8118\n",
      "211.147.239.101:57281\n",
      "113.12.202.50:40498\n",
      "119.254.94.114:45691\n",
      "61.178.127.14:80\n",
      "183.15.123.223:3128\n",
      "115.46.66.17:8123\n",
      "182.88.190.3:8123\n",
      "115.219.111.88:8010\n",
      "218.25.131.121:47043\n",
      "182.88.163.214:8123\n",
      "123.127.93.188:57985\n",
      "124.193.135.242:54219\n",
      "115.46.73.141:8123\n",
      "115.46.64.111:8123\n",
      "27.42.168.46:48919\n",
      "58.210.94.242:43627\n",
      "124.235.135.87:80\n",
      "113.122.36.76:8010\n",
      "182.33.222.9:8118\n"
     ]
    }
   ],
   "source": [
    "for tr in listtr[1:]:\n",
    "    print(':'.join(list(tr.stripped_strings)[:2]))"
   ]
  }
 ],
 "metadata": {
  "kernelspec": {
   "display_name": "Python 3",
   "language": "python",
   "name": "python3"
  },
  "language_info": {
   "codemirror_mode": {
    "name": "ipython",
    "version": 3
   },
   "file_extension": ".py",
   "mimetype": "text/x-python",
   "name": "python",
   "nbconvert_exporter": "python",
   "pygments_lexer": "ipython3",
   "version": "3.7.0"
  }
 },
 "nbformat": 4,
 "nbformat_minor": 2
}
