{
 "cells": [
  {
   "cell_type": "markdown",
   "metadata": {},
   "source": [
    "# 21点小游戏\n",
    "\n",
    "\n",
    "- 两个玩家，游戏开始先输入名字\n",
    "\n",
    "- 用字典保存每个玩家信息：姓名，获胜次数\n",
    "\n",
    "- 电脑随机产生2个数，每个玩家轮流猜1个数，与电脑随机两个数求和，最接近21的获胜\n",
    "\n",
    "- 每轮结束显示玩家信息\n",
    "\n",
    "- 按q退出游戏"
   ]
  },
  {
   "cell_type": "code",
   "execution_count": 11,
   "metadata": {},
   "outputs": [
    {
     "name": "stdout",
     "output_type": "stream",
     "text": [
      "欢迎来到21点\n",
      "name:li\n",
      "name:mi\n",
      "玩家: li, mi\n",
      "{'li': {'win': 0}, 'mi': {'win': 0}}\n",
      "10 8\n",
      "user1 guess:8\n",
      "user2 guess:7\n",
      "26 25\n",
      "user2 win\n",
      "电脑选数: 10, 8\n",
      "输入q退出游戏:\n",
      "{'li': {'win': 0}, 'mi': {'win': 0}}\n",
      "4 3\n",
      "user1 guess:7\n",
      "user2 guess:5\n",
      "14 12\n",
      "user1 win\n",
      "电脑选数: 4, 3\n",
      "输入q退出游戏:q\n",
      "退出游戏\n"
     ]
    }
   ],
   "source": [
    "import random\n",
    "\n",
    "\n",
    "print('欢迎来到21点')\n",
    "user1 = input('name:')\n",
    "user2 = input('name:')\n",
    "print(f'玩家: {user1}, {user2}')\n",
    "\n",
    "while True:\n",
    "    users = {user1: {'win': 0}, user2: {'win': 0}}\n",
    "    print(users)\n",
    "\n",
    "    num1 = random.randint(1, 10)\n",
    "    num2 = random.randint(1, 10)\n",
    "    print(num1, num2)\n",
    "\n",
    "    user1_guess = input('user1 guess:')\n",
    "    user2_guess = input('user2 guess:')\n",
    "    user1_sum = int(num1) + int(num2) + int(user1_guess)\n",
    "    user2_sum = int(num1) + int(num2) + int(user2_guess)\n",
    "    print(user1_sum, user2_sum)\n",
    "\n",
    "    if abs(user1_sum - 21) < abs(user2_sum - 21):\n",
    "        print('user1 win')\n",
    "    else:\n",
    "        print('user2 win')\n",
    "\n",
    "    print(f'电脑选数: {num1}, {num2}')\n",
    "    esc = input('输入q退出游戏:')\n",
    "    if esc == 'q':\n",
    "        print('游戏已退出')\n",
    "        break"
   ]
  },
  {
   "cell_type": "markdown",
   "metadata": {},
   "source": []
  }
 ],
 "metadata": {
  "kernelspec": {
   "display_name": "Python 3",
   "language": "python",
   "name": "python3"
  },
  "language_info": {
   "codemirror_mode": {
    "name": "ipython",
    "version": 3
   },
   "file_extension": ".py",
   "mimetype": "text/x-python",
   "name": "python",
   "nbconvert_exporter": "python",
   "pygments_lexer": "ipython3",
   "version": "3.6.5"
  }
 },
 "nbformat": 4,
 "nbformat_minor": 2
}
