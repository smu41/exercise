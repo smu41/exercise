{
 "cells": [
  {
   "cell_type": "markdown",
   "metadata": {},
   "source": [
    "###  掷骰子，数值为: listinfo = [1,2,3,4,5,6]\n",
    "###  每个点摇中概率1/6\n",
    "###  计算数学期望: E(x) = (1+2+3+4+5+6)/6 = 3.5"
   ]
  },
  {
   "cell_type": "code",
   "execution_count": 1,
   "metadata": {},
   "outputs": [
    {
     "data": {
      "text/plain": [
       "3"
      ]
     },
     "execution_count": 1,
     "metadata": {},
     "output_type": "execute_result"
    }
   ],
   "source": [
    "#  我们使用随机数随机选择一次\n",
    "import random\n",
    "def getpoint():\n",
    "    listinfo = [1,2,3,4,5,6]\n",
    "    return random.choice(listinfo)\n",
    "getpoint()"
   ]
  },
  {
   "cell_type": "code",
   "execution_count": 4,
   "metadata": {},
   "outputs": [
    {
     "name": "stdout",
     "output_type": "stream",
     "text": [
      "5次试验均值：4.2\n"
     ]
    }
   ],
   "source": [
    "#  每次得到的值都是样本我们记做xi，记录xi并求其均值\n",
    "#  我们计算N次试验均值，将其封装成函数\n",
    "def countmean(n):\n",
    "    points = []\n",
    "    for i in range(n):\n",
    "        points.append(getpoint())\n",
    "    meanx = sum(points)/len(points)  # 计算均值\n",
    "    return meanx\n",
    "\n",
    "n = 5\n",
    "print('{}次试验均值：{}'.format(n, countmean(n)))"
   ]
  },
  {
   "cell_type": "code",
   "execution_count": 5,
   "metadata": {},
   "outputs": [
    {
     "name": "stdout",
     "output_type": "stream",
     "text": [
      "10次试验均值：2.6\n",
      "50次试验均值：3.68\n",
      "100次试验均值：3.39\n",
      "1000次试验均值：3.599\n",
      "5000次试验均值：3.4922\n",
      "10000次试验均值：3.5\n",
      "50000次试验均值：3.49072\n",
      "100000次试验均值：3.49112\n"
     ]
    }
   ],
   "source": [
    "#  试验次数：10, 50, 100...依次递增, 查看改变值\n",
    "nums = [10,50,100,1000,5000,10000,50000,100000]\n",
    "for n in nums:\n",
    "    print('{}次试验均值：{}'.format(n, countmean(n)))"
   ]
  },
  {
   "cell_type": "code",
   "execution_count": 13,
   "metadata": {},
   "outputs": [
    {
     "data": {
      "text/plain": [
       "[<matplotlib.lines.Line2D at 0x119eea4a8>]"
      ]
     },
     "execution_count": 13,
     "metadata": {},
     "output_type": "execute_result"
    },
    {
     "data": {
      "image/png": "[encoded data removed]",
      "text/plain": [
       "<Figure size 432x288 with 1 Axes>"
      ]
     },
     "metadata": {
      "needs_background": "light"
     },
     "output_type": "display_data"
    }
   ],
   "source": [
    "#  我们记录每次均值, 查看均值变化情况\n",
    "import matplotlib.pyplot as plt\n",
    "step = 0.1\n",
    "def countmean(n):\n",
    "    points = []\n",
    "    result = []\n",
    "    for i in range(n):\n",
    "        points.append(getpoint())\n",
    "        result.append([round(i*step, 1), round(sum(points)/len(points), 4)])\n",
    "    return result\n",
    "\n",
    "n = 10000\n",
    "tmp = countmean(n)\n",
    "points = dict(tmp)\n",
    "x = list(points.keys())\n",
    "y = list(points.values())\n",
    "plt.plot(x, y)\n",
    "plt.plot([0, n*step], [3.5, 3.5])"
   ]
  },
  {
   "cell_type": "code",
   "execution_count": null,
   "metadata": {},
   "outputs": [],
   "source": []
  }
 ],
 "metadata": {
  "kernelspec": {
   "display_name": "Python 3",
   "language": "python",
   "name": "python3"
  },
  "language_info": {
   "codemirror_mode": {
    "name": "ipython",
    "version": 3
   },
   "file_extension": ".py",
   "mimetype": "text/x-python",
   "name": "python",
   "nbconvert_exporter": "python",
   "pygments_lexer": "ipython3",
   "version": "3.7.1"
  }
 },
 "nbformat": 4,
 "nbformat_minor": 2
}
