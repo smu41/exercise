{
 "cells": [
  {
   "cell_type": "markdown",
   "metadata": {},
   "source": [
    "#创建Python编程环境 \n",
    "##下载安装 miniconda\n",
    "##安装Python虚拟环境\n",
    "```\n",
    "conda create -n ys python=3 #安装Python虚拟环境\n",
    "source activate ys #进入Python虚拟环境\n",
    "```\n",
    "##在虚拟环境下安装jupyter\n",
    "```\n",
    "pip install jupyter #安装jupyter\n",
    "jupyter notebook #打开jupyter\n",
    "```\n",
    "##自定义jupyter工作目录\n",
    "```\n",
    "jupyter notebook --generate -config #手动生成.jupyter\\jupyter_notebook_config.py\n",
    "```\n",
    "##打开jupyter_notebook_config.py，找到（我用的Mac系统）\n",
    "```\n",
    "## The default URL to redirect to from `/`\n",
    "#c.NotebookApp.default_url = '/tree'\n",
    "```\n",
    "##修改为\n",
    "```\n",
    "c.NotebookApp.default_url = '/tree/py2018'\n",
    "```\n",
    "##从新启动notebook\n",
    "```\n",
    "jupyter notrbook\n",
    "```"
   ]
  }
 ],
 "metadata": {
  "kernelspec": {
   "display_name": "Python 3",
   "language": "python",
   "name": "python3"
  },
  "language_info": {
   "codemirror_mode": {
    "name": "ipython",
    "version": 3
   },
   "file_extension": ".py",
   "mimetype": "text/x-python",
   "name": "python",
   "nbconvert_exporter": "python",
   "pygments_lexer": "ipython3",
   "version": "3.6.5"
  }
 },
 "nbformat": 4,
 "nbformat_minor": 2
}
