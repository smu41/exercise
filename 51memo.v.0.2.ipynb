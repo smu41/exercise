{
 "cells": [
  {
   "cell_type": "markdown",
   "metadata": {},
   "source": [
    "使用ConfigAdmin为项目51备忘录扩展功能\n",
    "\n",
    "1. 添加注册和登陆功能，用户名密码使用dict保存为：users.pkl 。\n",
    "\n",
    "2. 添加配置文件，为备忘录数据指定路径,类型和文件名。\n",
    "\n",
    "   比如zhangsan，则数据文件可以为zhangsan.pkl或zhangsan.db。\n",
    "\n",
    "3. 注册时，相应数据文件根据用户名在配置文件保存为新的section。\n",
    "\n",
    "   比如zhangsan，则有新的section叫 [zhangsan]。\n",
    "\n",
    "4. 启动程序先提示登陆，每次登陆时候，先根据配置文件读取用户信息，找不到则提示注册。\n",
    "\n",
    "5. 导出文件功能，将历史数据导出为pdf文件。\n",
    "\n",
    "6. 对每一个函数操作添加日志功能，并在需要时候随时关闭。"
   ]
  },
  {
   "cell_type": "code",
   "execution_count": 1,
   "metadata": {},
   "outputs": [],
   "source": [
    "import os\n",
    "import pickle\n",
    "import configparser\n",
    "import logging"
   ]
  },
  {
   "cell_type": "code",
   "execution_count": null,
   "metadata": {},
   "outputs": [],
   "source": [
    "class Memo:\n",
    "    '列表类'\n",
    "    def __init__(self, name, date, thing):\n",
    "        self._id = 0\n",
    "        self.name = name\n",
    "        self.thing = thing\n",
    "        self.date = date\n",
    "    \n",
    "class MemoAdmin:\n",
    "    '控制类'\n",
    "    def __init__(self, config_path):\n",
    "        self.config_path = config_path\n",
    "        self.memo_list = []\n",
    "        self.config_name = configparser.ConfigParser()\n",
    "        \n",
    "    def login(self):\n",
    "        new_data = {}\n",
    "        titel = '登录'.center(30)\n",
    "        print(titel)\n",
    "        print('用户名')\n",
    "        new_name = input()\n",
    "        try:\n",
    "            if self.config_name.has_section(new_name):\n",
    "            else:\n",
    "                return add_login()\n",
    "        except Exception as e:\n",
    "            print(e)\n",
    "        print('密码')\n",
    "        new_pw = input()\n",
    "        new_data['name'] = new_name\n",
    "        new_data['password'] = new_pw\n",
    "        with open('user.pkl', 'wb') as f:\n",
    "            f.write(pickle.dumps(new_data))\n",
    "            \n",
    "    def add_login(self):\n",
    "        print('用户名未注册，请先注册')\n",
    "        titel = '注册'.center(30)\n",
    "        print(titel)\n",
    "        print('用户名')\n",
    "        new_name = input()\n",
    "        print('密码')\n",
    "        new_pw = input()\n",
    "        new_data['name'] = new_name\n",
    "        new_data['password'] = new_pw\n",
    "        with open('user.pkl', 'wb') as f:\n",
    "            f.write(pickle.dumps(new_data))\n",
    "        config[new_name] = {}\n",
    "        self.config_path = os.path.join(base_dir, 'demo.ini')\n",
    "        with open(config_path, 'w') as f:\n",
    "            self.config_name.write(f)\n",
    "        \n",
    "    def add_config(self):\n",
    "        print('请输入要添加的配置文件内容')\n",
    "        sec = input('配置文件名称：')\n",
    "        self.config_name.add_section(sec)\n",
    "        opt = input('配置文件项：')\n",
    "        val = input('配置文件值：')\n",
    "        self.config_name.set(sec, opt, val)\n",
    "        with open(self.config_path, 'w') as f:\n",
    "            self.config_name.write(f)\n",
    "        \n",
    "    def add(self):\n",
    "        '创建信息'\n",
    "        foot.thing = input('事件:')\n",
    "        foot.date = input('日期:')\n",
    "        one = {}\n",
    "        one['date'] = foot.date\n",
    "        one['thing'] = foot.thing\n",
    "        self.memo_list.append(one)\n",
    "\n",
    "    def delete(self):\n",
    "        '删除信息'\n",
    "        self.memo_list.clear()\n",
    "        self.save()\n",
    "        print('信息已删除并保存')\n",
    "   \n",
    "    def save(self):\n",
    "        '保存信息'\n",
    "        with open ('db.pkl', 'wb') as f:\n",
    "            f.write(pickle.dumps(self.memo_list))\n",
    "            print('保存成功')\n",
    "    \n",
    "    def load(self):\n",
    "        '加载信息'\n",
    "        with open ('db.pkl', 'rb') as f:\n",
    "            self.memo_list = pickle.loads(f.read())\n",
    "            print(self.memo_list)\n",
    "            print(f'共{len(self.memo_list)}条未处理。', end='')\n",
    "            \n",
    "    def download(self):\n",
    "        '导出数据'\n",
    "        print('输入文件导出地址：')\n",
    "        path = input()\n",
    "        os.chdir(path)\n",
    "        with open('data.pdf', 'w') as f:\n",
    "            f.write('self.memo_list')\n",
    "    \n",
    "def run():\n",
    "    '选择循环'\n",
    "    esc = True\n",
    "    while(esc):\n",
    "        print('目录')\n",
    "        menu = {'添加': 'add', '清空': 'delete', '保存': 'save', '查看': 'load', '下载':'download'}\n",
    "        for k, v in menu.items():\n",
    "            print(k, v)\n",
    "        chooes = input('请选择操作类型:')\n",
    "        fun = getattr(admin, chooes)\n",
    "        if(fun):\n",
    "            fun()\n",
    "        else:\n",
    "            print('没有这个选项！！')\n",
    "        print('(y:继续操作，n:退出)')\n",
    "        esc = input().strip() == 'y'"
   ]
  },
  {
   "cell_type": "code",
   "execution_count": 8,
   "metadata": {},
   "outputs": [
    {
     "name": "stdout",
     "output_type": "stream",
     "text": [
      "用户名\n",
      "aaa\n",
      "密码\n",
      "123\n"
     ]
    }
   ],
   "source": [
    "# 登录\n",
    "admin_data = []\n",
    "new_data = {}\n",
    "\n",
    "print('用户名')\n",
    "new_name = input()\n",
    "print('密码')\n",
    "new_pw = input()\n",
    "new_data['name'] = new_name\n",
    "new_data['password'] = new_pw\n",
    "admin_data.append(new_data)\n",
    "with open('user.pkl', 'wb') as f:\n",
    "    f.write(pickle.dumps(admin_data))"
   ]
  },
  {
   "cell_type": "code",
   "execution_count": 15,
   "metadata": {},
   "outputs": [],
   "source": [
    "with open('user.pkl', 'rb') as f:\n",
    "    data = pickle.loads(f.read())"
   ]
  },
  {
   "cell_type": "code",
   "execution_count": 16,
   "metadata": {
    "scrolled": true
   },
   "outputs": [
    {
     "name": "stdout",
     "output_type": "stream",
     "text": [
      "{'name': 'qwie', 'password': '123'}\n"
     ]
    }
   ],
   "source": [
    "print(data)"
   ]
  },
  {
   "cell_type": "code",
   "execution_count": 17,
   "metadata": {},
   "outputs": [],
   "source": [
    "name = '123'"
   ]
  }
 ],
 "metadata": {
  "kernelspec": {
   "display_name": "Python 3",
   "language": "python",
   "name": "python3"
  },
  "language_info": {
   "codemirror_mode": {
    "name": "ipython",
    "version": 3
   },
   "file_extension": ".py",
   "mimetype": "text/x-python",
   "name": "python",
   "nbconvert_exporter": "python",
   "pygments_lexer": "ipython3",
   "version": "3.6.5"
  }
 },
 "nbformat": 4,
 "nbformat_minor": 2
}
