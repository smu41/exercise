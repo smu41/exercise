{
 "cells": [
  {
   "cell_type": "markdown",
   "metadata": {},
   "source": [
    "### 单位转换器\n",
    "\n",
    "1.添加Transfer类，作为主体程序，处理输入输出\n",
    "\n",
    "2.温度,长度,货币转换分别建立独立的类，每个类至少有2个方法，各处理一个方向转换（举例：美元到人民币，人民币到美元）\n",
    "\n",
    "3.Transfer类根据不同输入内容，自动选择相应的功能类去处理逻辑\n",
    "\n",
    "4.各个类中的每个方法必须添加说明doc-string（即def下一行加一句注释）"
   ]
  },
  {
   "cell_type": "code",
   "execution_count": 1,
   "metadata": {},
   "outputs": [],
   "source": [
    "class Transfer:\n",
    "    \"处理输入输出\"       \n",
    "    def write(self):\n",
    "        esc = True\n",
    "        while esc:\n",
    "            self.show()\n",
    "            words = input('请选择要转换的类型:')\n",
    "            if words == 'F':\n",
    "                return Temp().fahr()\n",
    "            elif words == 'C':\n",
    "                return Temp().cent()\n",
    "            elif words == 'ft':\n",
    "                return Lang().feet()\n",
    "            elif words == 'm':\n",
    "                return lang().meter()\n",
    "            elif words == 'U':\n",
    "                return Money().USA()\n",
    "            else:\n",
    "                return Money().RMB()\n",
    "                print('是否退出(y/n):')\n",
    "                esc = input().strip() == 'y'\n",
    "    \n",
    "    def show(self):\n",
    "        menu = {'F':'转成华氏温度', 'C':'转成摄氏温度', 'ft':'转成英尺', 'm':'转成米', 'U':'转成美元', 'R':'转成人民币'}\n",
    "        for k, v in menu.items():\n",
    "            print(k, v)\n",
    "\n",
    "class Temp:\n",
    "    '温度计算公式'        \n",
    "    def fahr(self):  # 摄氏温度转华氏温度\n",
    "        temp = input('请输入温度(示例: 1C或者1F):')\n",
    "        temp = float(temp.strip('C').strip('c'))\n",
    "        Tf = 1.8 * temp + 32\n",
    "        print(f'Tf = 1.8*{temp}+32 = {Tf}F')\n",
    "        \n",
    "    def cent(self):  # 华氏温度转摄氏温度\n",
    "        temp = input('请输入温度(示例: 1C或者1F):')\n",
    "        temp = float(temp.strip('F').strip('f'))\n",
    "        Tf = round((temp - 32) / 1.8, 2)\n",
    "        print(f'Tf = ({temp}-32/1.8 = {Tf}C)')\n",
    "\n",
    "class Lang:\n",
    "    '长度计算公式'\n",
    "    def feet(self):  # 英尺转米\n",
    "        length = input('请输入长度(示例: 1m或者1ft):')\n",
    "        length = float(length.strip('m'))\n",
    "        Lf = round(length*3.281, 2)\n",
    "        print(f'Lf = {length}*3.281 = {Lf}ft')\n",
    "              \n",
    "    def meter(self):  # 米转英尺\n",
    "        length = input('请输入长度(示例: 1m或者1ft):')\n",
    "        length = float(length.strip('ft'))\n",
    "        Lf = round(length*0.3048, 2)\n",
    "        print(f'Lf = {length}*0.3048 = {Lf}m')\n",
    "\n",
    "class Money:\n",
    "    '汇率计算公式'\n",
    "    def USA(self):  # 人民币转美元\n",
    "        cry = input('请输入币种(示例:1￥或1$):')\n",
    "        cry = float(cry.strip('￥'))\n",
    "        Mf = cry*0.1561\n",
    "        print(f'Mf = {cry}*0.1561 = {Mf}$')\n",
    "              \n",
    "    def RMB(self):  # 美元转人民币\n",
    "        cry = input('请输入币种(示例:1￥或1$):')\n",
    "        cry = float(cry.strip('$'))\n",
    "        Mf = cry*6.4064\n",
    "        print(f'Mf = {cry}*6.4064 = {Mf}￥')"
   ]
  },
  {
   "cell_type": "code",
   "execution_count": null,
   "metadata": {
    "collapsed": true
   },
   "outputs": [],
   "source": [
    "menu = {'T':'温度转换', 'L':'长度转换', 'C':'货币转换'}\n",
    "\n",
    "esc = True\n",
    "while esc:\n",
    "    for k, v in menu.items():\n",
    "        print(k, v)\n",
    "    choose = input('请选择要转换的类型')\n",
    "    if choose == 'T':\n",
    "        temp = input('请输入温度(示例: 1C或者1F):')\n",
    "        if temp.endswith('C') or temp.endswith('c'):\n",
    "    #         temp = float(temp.strip('C').strip('F'))\n",
    "            temp = float(temp.strip('C').strip('c'))\n",
    "            Tf = 1.8 * temp + 32\n",
    "            print(f'Tf = 1.8*{temp}+32 = {Tf}F')\n",
    "        else:\n",
    "            temp = float(temp.strip('F').strip('f'))\n",
    "            Tf = round((temp - 32) / 1.8, 2)\n",
    "            print(f'Tf = ({temp}-32/1.8 = {Tf}C)')\n",
    "    elif choose == 'L':\n",
    "        length = input('请输入长度(示例: 1m或者1ft):')\n",
    "        if length.endswith('m'):\n",
    "            length = float(length.strip('m'))\n",
    "            Lf = round(length*3.281, 2)\n",
    "            print(f'Lf = {length}*3.281 = {Lf}ft')\n",
    "        else:\n",
    "            length = float(length.strip('ft'))\n",
    "            Lf = round(length*0.3048, 2)\n",
    "            print(f'Lf = {length}*0.3048 = {Lf}m')\n",
    "    else:\n",
    "        cry = input('请输入币种(示例:1￥或1$):')\n",
    "        if cry.endswith('￥'):\n",
    "            cry = float(cry.strip('￥'))\n",
    "            Mf = cry*0.1561\n",
    "            print(f'Mf = {cry}*0.1561 = {Mf}$')\n",
    "        else:\n",
    "            cry = float(cry.strip('$'))\n",
    "            Mf = cry*6.4064\n",
    "            print(f'Mf = {cry}*6.4064 = {Mf}￥')\n",
    "    print('是否退出(y/n):')\n"
   ]
  },
  {
   "cell_type": "code",
   "execution_count": 12,
   "metadata": {
    "collapsed": true
   },
   "outputs": [],
   "source": [
    "class Transfer:\n",
    "    \"处理输入输出\"\n",
    "    def show(self, menu={'T':'温度转换', 'L':'长度转换', 'C':'货币转换'}):\n",
    "        print(menu)"
   ]
  },
  {
   "cell_type": "code",
   "execution_count": 2,
   "metadata": {},
   "outputs": [
    {
     "name": "stdout",
     "output_type": "stream",
     "text": [
      "F 转成华氏温度\n",
      "C 转成摄氏温度\n",
      "ft 转成英尺\n",
      "m 转成米\n",
      "U 转成美元\n",
      "R 转成人民币\n"
     ]
    }
   ],
   "source": [
    "c = Transfer()\n",
    "c.show()"
   ]
  },
  {
   "cell_type": "code",
   "execution_count": 12,
   "metadata": {},
   "outputs": [],
   "source": [
    "class Temp:\n",
    "    '温度计算公式'        \n",
    "    def fahr(self):\n",
    "        temp = input('请输入温度(示例: 1C或者1F):')\n",
    "        temp = float(temp.strip('C').strip('c'))\n",
    "        Tf = 1.8 * temp + 32\n",
    "        print(f'Tf = 1.8*{temp}+32 = {Tf}F')"
   ]
  },
  {
   "cell_type": "code",
   "execution_count": 14,
   "metadata": {},
   "outputs": [
    {
     "name": "stdout",
     "output_type": "stream",
     "text": [
      "请输入温度(示例: 1C或者1F):10c\n",
      "Tf = 1.8*10.0+32 = 50.0F\n"
     ]
    }
   ],
   "source": [
    "c = Temp()\n",
    "c.fahr()"
   ]
  },
  {
   "cell_type": "code",
   "execution_count": 17,
   "metadata": {},
   "outputs": [],
   "source": [
    "class Transfer:\n",
    "    \"处理输入输出\"       \n",
    "    def write(self):\n",
    "        self.show()\n",
    "        words = input('请选择要转换的类型:')\n",
    "    \n",
    "    def show(self):\n",
    "        menu = {'T':'温度转换', 'L':'长度转换', 'C':'货币转换'}\n",
    "        for k, v in menu.items():\n",
    "            print(k, v)"
   ]
  },
  {
   "cell_type": "code",
   "execution_count": 3,
   "metadata": {},
   "outputs": [
    {
     "name": "stdout",
     "output_type": "stream",
     "text": [
      "F 转成华氏温度\n",
      "C 转成摄氏温度\n",
      "ft 转成英尺\n",
      "m 转成米\n",
      "U 转成美元\n",
      "R 转成人民币\n",
      "请选择要转换的类型:F\n",
      "请输入温度(示例: 1C或者1F):10c\n",
      "Tf = 1.8*10.0+32 = 50.0F\n"
     ]
    }
   ],
   "source": [
    "s = Transfer()\n",
    "s.write()"
   ]
  },
  {
   "cell_type": "code",
   "execution_count": 53,
   "metadata": {},
   "outputs": [],
   "source": [
    "class Transfer:\n",
    "    \"处理输入输出\"       \n",
    "    def write(self):\n",
    "        self.show()\n",
    "        words = input('请选择要转换的类型:')\n",
    "        if words == 'F':\n",
    "            return Temp().fahr()\n",
    "        elif words == 'C':\n",
    "            return Temp().cent()\n",
    "        elif words == 'ft':\n",
    "            return Lang().feet()\n",
    "        else:\n",
    "            return lang().meter()\n",
    "    \n",
    "    def show(self):\n",
    "        menu = {'F':'华氏温度', 'C':'摄氏温度', 'ft':'英尺', 'm':'米', 'U':'美元', 'R':'人民币'}\n",
    "        for k, v in menu.items():\n",
    "            print(k, v)\n",
    "\n",
    "class Temp:\n",
    "    '温度计算公式'        \n",
    "    def fahr(self):  # 摄氏温度转华氏温度\n",
    "        temp = input('请输入温度(示例: 1C或者1F):')\n",
    "        temp = float(temp.strip('C').strip('c'))\n",
    "        Tf = 1.8 * temp + 32\n",
    "        print(f'Tf = 1.8*{temp}+32 = {Tf}F')\n",
    "        \n",
    "    def cent(self):  # 华氏温度转摄氏温度\n",
    "        temp = input('请输入温度(示例: 1C或者1F):')\n",
    "        temp = float(temp.strip('F').strip('f'))\n",
    "        Tf = round((temp - 32) / 1.8, 2)\n",
    "        print(f'Tf = ({temp}-32/1.8 = {Tf}C)')\n",
    "        \n",
    "class Lang:\n",
    "    '长度计算公式'\n",
    "    def feet(self):  # 英尺转米\n",
    "        length = input('请输入长度(示例: 1m或者1ft):')\n",
    "        length = float(length.strip('m'))\n",
    "        Lf = round(length*3.281, 2)\n",
    "        print(f'Lf = {length}*3.281 = {Lf}ft')\n",
    "              \n",
    "    def meter(self):  # 米转英尺\n",
    "        length = input('请输入长度(示例: 1m或者1ft):')\n",
    "        length = float(length.strip('ft'))\n",
    "        Lf = round(length*0.3048, 2)\n",
    "        print(f'Lf = {length}*0.3048 = {Lf}m')"
   ]
  },
  {
   "cell_type": "code",
   "execution_count": 64,
   "metadata": {},
   "outputs": [
    {
     "name": "stdout",
     "output_type": "stream",
     "text": [
      "F 转成华氏温度\n",
      "C 转成摄氏温度\n",
      "ft 转成英尺\n",
      "m 转成米\n",
      "U 转成美元\n",
      "R 转成人民币\n",
      "请选择要转换的类型:F\n",
      "请输入温度(示例: 1C或者1F):10c\n",
      "Tf = 1.8*10.0+32 = 50.0F\n",
      "是否退出(y/n):\n",
      "y\n",
      "F 转成华氏温度\n",
      "C 转成摄氏温度\n",
      "ft 转成英尺\n",
      "m 转成米\n",
      "U 转成美元\n",
      "R 转成人民币\n",
      "请选择要转换的类型:C\n",
      "请输入温度(示例: 1C或者1F):19f\n",
      "Tf = (19.0-32/1.8 = -7.22C)\n",
      "是否退出(y/n):\n",
      "n\n"
     ]
    }
   ],
   "source": [
    "esc = True\n",
    "while esc:\n",
    "    c = Transfer()\n",
    "    c.write()\n",
    "    print('是否退出(y/n):')\n",
    "    esc = input().strip() == 'y'"
   ]
  },
  {
   "cell_type": "code",
   "execution_count": null,
   "metadata": {},
   "outputs": [],
   "source": []
  }
 ],
 "metadata": {
  "kernelspec": {
   "display_name": "Python 3",
   "language": "python",
   "name": "python3"
  },
  "language_info": {
   "codemirror_mode": {
    "name": "ipython",
    "version": 3
   },
   "file_extension": ".py",
   "mimetype": "text/x-python",
   "name": "python",
   "nbconvert_exporter": "python",
   "pygments_lexer": "ipython3",
   "version": "3.7.3"
  }
 },
 "nbformat": 4,
 "nbformat_minor": 2
}
