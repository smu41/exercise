{
 "cells": [
  {
   "cell_type": "markdown",
   "metadata": {},
   "source": [
    "### 1.做一个word操作的类，可以根据不同的输入内容，生成word文件，要求至少完成三类内容的输入：标题，副标题，正文。\n",
    "\n"
   ]
  },
  {
   "cell_type": "code",
   "execution_count": 32,
   "metadata": {},
   "outputs": [],
   "source": [
    "from docx import Document\n",
    "import pickle\n",
    "import os"
   ]
  },
  {
   "cell_type": "code",
   "execution_count": null,
   "metadata": {},
   "outputs": [],
   "source": [
    "def word_write(from, to, text):\n",
    "    doc = Document()\n",
    "    doc.add_heading('标题', level=0)\n",
    "    doc.add_paragraph('副标题', 'Subtitle')\n",
    "    doc.add_paragraph('正文')\n",
    "    doc.save('2-1.doc')"
   ]
  },
  {
   "cell_type": "code",
   "execution_count": 48,
   "metadata": {},
   "outputs": [],
   "source": [
    "class word_write:\n",
    "    def __init__(self, From, to):\n",
    "        self.From = From\n",
    "        self.to = to\n",
    "        self.doc = Document()\n",
    "    \n",
    "    def word_run(self):\n",
    "        menu = {'创建标题':'1', '创建内容':'2', '添加图片':'3', '文件另存为':'4'}\n",
    "        for k,v in menu.items():\n",
    "            print(k, v)\n",
    "        choose = input('请选择需要创建的选项：')\n",
    "        if choose == '1':\n",
    "            return self.add_title('text')\n",
    "        elif choose == '2':\n",
    "            return self.add_word('text')\n",
    "        elif choose == '3':\n",
    "            return self.add_picture()\n",
    "        else:\n",
    "            return self.add_save()\n",
    "        \n",
    "    def add_path(self):\n",
    "        print('请输入文件目录：')\n",
    "        self.From = input()\n",
    "        os.chdir(self.From)\n",
    "\n",
    "    def add_word(self, text):\n",
    "        print('请输入文章的内容：')\n",
    "        self.text = input()\n",
    "        self.doc.add_paragraph(self.text)\n",
    "    \n",
    "    def add_title(self, text):\n",
    "        print('请输入文章标题：')\n",
    "        self.text = input()\n",
    "        self.doc.add_heading(self.text ,level=0)\n",
    "        print('请输入文章副标题：')\n",
    "        self.text = input()\n",
    "        self.doc.add_paragraph(self.text, 'Subtitle')\n",
    "    \n",
    "    def add_picture(self):\n",
    "        print('请输入图片地址：')\n",
    "        pig = input()\n",
    "        self.doc.add_picture('pig')\n",
    "        \n",
    "    def add_save(self):\n",
    "        print('文件另存为：')\n",
    "        self.to = input()\n",
    "        self.doc.save(self.to)"
   ]
  },
  {
   "cell_type": "code",
   "execution_count": 2,
   "metadata": {},
   "outputs": [],
   "source": [
    "doc = Document()\n",
    "# doc.add_heading('标题')\n",
    "# doc.add_heading('副标题', level=1)\n",
    "# doc.add_paragraph('正文')"
   ]
  },
  {
   "cell_type": "code",
   "execution_count": 6,
   "metadata": {},
   "outputs": [],
   "source": [
    "doc.save('ceshi.docx')"
   ]
  },
  {
   "cell_type": "code",
   "execution_count": 8,
   "metadata": {},
   "outputs": [
    {
     "data": {
      "text/plain": [
       "'/Users/yangsan/py2018'"
      ]
     },
     "execution_count": 8,
     "metadata": {},
     "output_type": "execute_result"
    }
   ],
   "source": [
    "%pwd"
   ]
  },
  {
   "cell_type": "code",
   "execution_count": 4,
   "metadata": {},
   "outputs": [
    {
     "name": "stdout",
     "output_type": "stream",
     "text": [
      "/Users/yangsan/py2018/02-auto\n"
     ]
    }
   ],
   "source": [
    "%cd /Users/yangsan/py2018/02-auto"
   ]
  },
  {
   "cell_type": "code",
   "execution_count": 5,
   "metadata": {},
   "outputs": [],
   "source": [
    "class word_write:\n",
    "    def __init__(self, From, to):\n",
    "        self.From = From\n",
    "        self.to = to\n",
    "        self.doc = Document()\n",
    "    \n",
    "    def add_word(self, text):\n",
    "        print('请输入文章副标题：')\n",
    "        self.text = input()\n",
    "        self.doc.add_paragraph(self.text, 'Subtitle')\n",
    "        print('请输入文章的内容：')\n",
    "        self.text = input()\n",
    "        doc.add_paragraph(self.text)\n",
    "    \n",
    "    def add_title(self, text):\n",
    "        print('请输入文章标题：')\n",
    "        self.text = input()\n",
    "        self.doc.add_heading(self.text ,level=0)\n"
   ]
  },
  {
   "cell_type": "code",
   "execution_count": 46,
   "metadata": {},
   "outputs": [],
   "source": [
    "s = word_write('From', 'to',)"
   ]
  },
  {
   "cell_type": "code",
   "execution_count": 47,
   "metadata": {},
   "outputs": [
    {
     "name": "stdout",
     "output_type": "stream",
     "text": [
      "请输入文件目录：\n",
      "/Users/yangsan/py2018/02-auto\n",
      "创建标题 1\n",
      "创建内容 2\n",
      "添加图片 3\n",
      "文件另存为 4\n",
      "请选择需要创建的选项：1\n",
      "请输入文章标题：\n",
      "2e\n",
      "请输入文章副标题：\n",
      "sda\n"
     ]
    }
   ],
   "source": [
    "s.word_run()"
   ]
  },
  {
   "cell_type": "code",
   "execution_count": 49,
   "metadata": {},
   "outputs": [
    {
     "name": "stdout",
     "output_type": "stream",
     "text": [
      "请输入文件目录：\n",
      "/Users/yangsan/py2018/02-auto\n",
      "创建标题 1\n",
      "创建内容 2\n",
      "添加图片 3\n",
      "文件另存为 4\n",
      "请选择需要创建的选项：1\n",
      "请输入文章标题：\n",
      "星期六\n",
      "请输入文章副标题：\n",
      "天气阴\n",
      "y/n\n",
      "y\n",
      "创建标题 1\n",
      "创建内容 2\n",
      "添加图片 3\n",
      "文件另存为 4\n",
      "请选择需要创建的选项：2\n",
      "请输入文章的内容：\n",
      "天要下雨，鸟要叫人\n",
      "y/n\n",
      "y\n",
      "创建标题 1\n",
      "创建内容 2\n",
      "添加图片 3\n",
      "文件另存为 4\n",
      "请选择需要创建的选项：4\n",
      "文件另存为：\n",
      "1.docx\n",
      "y/n\n",
      "n\n"
     ]
    }
   ],
   "source": [
    "db = word_write('From', 'to')\n",
    "db.add_path()\n",
    "esc = True\n",
    "while esc:\n",
    "    db.word_run()\n",
    "    print('y/n')\n",
    "    esc = input().strip() == 'y'"
   ]
  }
 ],
 "metadata": {
  "kernelspec": {
   "display_name": "Python 3",
   "language": "python",
   "name": "python3"
  },
  "language_info": {
   "codemirror_mode": {
    "name": "ipython",
    "version": 3
   },
   "file_extension": ".py",
   "mimetype": "text/x-python",
   "name": "python",
   "nbconvert_exporter": "python",
   "pygments_lexer": "ipython3",
   "version": "3.6.5"
  }
 },
 "nbformat": 4,
 "nbformat_minor": 2
}
