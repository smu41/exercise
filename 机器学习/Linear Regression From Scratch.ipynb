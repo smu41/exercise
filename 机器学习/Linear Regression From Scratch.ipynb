{
 "cells": [
  {
   "cell_type": "markdown",
   "metadata": {},
   "source": [
    "#### Load Dependencies"
   ]
  },
  {
   "cell_type": "code",
   "execution_count": 1,
   "metadata": {},
   "outputs": [],
   "source": [
    "import matplotlib.pyplot as plt\n",
    "%matplotlib inline"
   ]
  },
  {
   "cell_type": "code",
   "execution_count": 8,
   "metadata": {},
   "outputs": [],
   "source": [
    "X = [12.3, 14.3, 14.5, 16.2, 13.2, 17.2, 14.2, 28.3, 16.6, 13.1, 29.1, 18.5, 15.5, 16.7, 13.6, 16.4, 17.8, 16.1, 18.9, 20.1, 22.1, 25.7, 11.8, 12.2, 14.4, 12.7, 13.7, 22.9, 20.3, 11.1]\n",
    "y = [11.3, 15.3, 12.5, 13.2, 10.2, 27.2, 12.1, 15.1, 18.3, 16.4, 13.8, 12.7, 20.5, 18.8, 16.1, 15.2, 19.4, 20.1, 16.3, 16.3, 10.8, 12.8, 21.5, 13.6, 20.6, 17.4, 12.7, 20.5, 18.2, 22.8]"
   ]
  },
  {
   "cell_type": "code",
   "execution_count": 9,
   "metadata": {},
   "outputs": [],
   "source": [
    "# 分割数据\n",
    "X_train = X[:20]\n",
    "y_train = y[:20]\n",
    "n_train = len(X_train)\n",
    "\n",
    "X_test = X[20:]\n",
    "y_test = y[20:]\n",
    "n_test = len(X_test)"
   ]
  },
  {
   "cell_type": "code",
   "execution_count": 10,
   "metadata": {},
   "outputs": [],
   "source": [
    "# 应用到一次函数y=w*x+b，参数设置\n",
    "w = -0.1\n",
    "b = 3\n",
    "\n",
    "# 超参数\n",
    "lr = 0.00001"
   ]
  },
  {
   "cell_type": "code",
   "execution_count": 21,
   "metadata": {},
   "outputs": [],
   "source": [
    "epoches = 100\n",
    "for i in range(epoches):\n",
    "    sum_w = 0.0\n",
    "    sum_b = 0.0\n",
    "    for i in range(n_train):\n",
    "        y_hat = w * X_train[i] +b\n",
    "        sum_w += (y_train[i] - y_hat) * (-X_train[i])\n",
    "        sum_b += (y_train[i] - y_hat) * (-1)\n",
    "    det_w = 2 * sum_w\n",
    "    det_b = 2 * sum_b\n",
    "\n",
    "    w = w - lr * det_w\n",
    "    b = b - lr * det_b"
   ]
  },
  {
   "cell_type": "code",
   "execution_count": 22,
   "metadata": {},
   "outputs": [
    {
     "data": {
      "image/png": "[encoded data removed]",
      "text/plain": [
       "<Figure size 432x288 with 1 Axes>"
      ]
     },
     "metadata": {
      "needs_background": "light"
     },
     "output_type": "display_data"
    }
   ],
   "source": [
    "fig, ax = plt.subplots()\n",
    "ax.scatter(X_train, y_train)\n",
    "ax.plot([i for i in range(10,27)], [w * i + b for i in range(10,27)])\n",
    "plt.title('y = w * X + b')\n",
    "plt.legend(('Model', 'Data Points'), loc='upper left')\n",
    "plt.show()"
   ]
  },
  {
   "cell_type": "code",
   "execution_count": 23,
   "metadata": {},
   "outputs": [],
   "source": [
    "total_train_loss = 0\n",
    "for i in range(n_train):\n",
    "    y_hat = w * X_train[i] + b\n",
    "    total_train_loss += (y_train[i] - y_hat) ** 2"
   ]
  },
  {
   "cell_type": "code",
   "execution_count": 24,
   "metadata": {},
   "outputs": [],
   "source": [
    "total_test_loss = 0\n",
    "for i in range(n_test):\n",
    "    y_hat = w * X_test[i] + b\n",
    "    total_test_loss += (y_test[i] - y_hat) ** 2"
   ]
  },
  {
   "cell_type": "code",
   "execution_count": 25,
   "metadata": {},
   "outputs": [
    {
     "name": "stdout",
     "output_type": "stream",
     "text": [
      "474.4586958130046\n"
     ]
    }
   ],
   "source": [
    "print(total_train_loss)"
   ]
  },
  {
   "cell_type": "code",
   "execution_count": 26,
   "metadata": {},
   "outputs": [
    {
     "name": "stdout",
     "output_type": "stream",
     "text": [
      "464.9593280164026\n"
     ]
    }
   ],
   "source": [
    "print(total_test_loss)"
   ]
  },
  {
   "cell_type": "code",
   "execution_count": 19,
   "metadata": {},
   "outputs": [],
   "source": [
    "import math"
   ]
  },
  {
   "cell_type": "code",
   "execution_count": 37,
   "metadata": {},
   "outputs": [],
   "source": [
    "# # 应用到二次函数y=w1x+w2(x^2)+b，参数设置\n",
    "w1 = -0.1\n",
    "w2 = 0.3\n",
    "b = 3\n",
    "\n",
    "# 超参数\n",
    "# lr = 0.0000000001\n",
    "# Adamgrad\n",
    "lr_w1 = 0\n",
    "lr_w2 = 0\n",
    "lr_b = 0"
   ]
  },
  {
   "cell_type": "code",
   "execution_count": 40,
   "metadata": {},
   "outputs": [],
   "source": [
    "epoches = 10000\n",
    "for i in range(epoches):\n",
    "    sum_w1 = 0.0\n",
    "    sum_w2 = 0.0\n",
    "    sum_b = 0.0\n",
    "    for i in range(n_train):\n",
    "        y_hat = w1 * X_train[i] + w2 * (X_train[i] ** 2) +b\n",
    "        sum_w1 += (y_train[i] - y_hat) * (-X_train[i])\n",
    "        sum_w2 += (y_train[i] - y_hat) * (-X_train[i] ** 2)\n",
    "        sum_b += (y_train[i] - y_hat) * (-1)\n",
    "    det_w1 = 2 * sum_w1\n",
    "    det_w2 = 2 * sum_w2\n",
    "    det_b = 2 * sum_b\n",
    "    \n",
    "    lr_w1 = lr_w1 + det_w1 ** 2\n",
    "    lr_w2 = lr_w2 + det_w2 ** 2\n",
    "    lr_b = lr_b + det_b ** 2\n",
    "    \n",
    "    w1 = w1 - (1 / math.sqrt(lr_w1) * det_w1)\n",
    "    w2 = w2 - (1 / math.sqrt(lr_w2) * det_w2)\n",
    "    b = b - (1 / math.sqrt(lr_b) * det_b)"
   ]
  },
  {
   "cell_type": "code",
   "execution_count": 41,
   "metadata": {},
   "outputs": [
    {
     "data": {
      "image/png": "[encoded data removed]",
      "text/plain": [
       "<Figure size 432x288 with 1 Axes>"
      ]
     },
     "metadata": {
      "needs_background": "light"
     },
     "output_type": "display_data"
    }
   ],
   "source": [
    "fig, ax = plt.subplots()\n",
    "ax.scatter(X_train, y_train)\n",
    "ax.plot([i for i in range(10,27)], [w1 * i + w2 * (i ** 2) + b for i in range(10,27)])\n",
    "plt.title('y = w1 * X + w2 * (X^2) + b')\n",
    "plt.legend(('Model', 'Data Points'), loc='upper left')\n",
    "plt.show()"
   ]
  },
  {
   "cell_type": "code",
   "execution_count": 42,
   "metadata": {},
   "outputs": [],
   "source": [
    "total_train_loss = 0\n",
    "for i in range(n_train):\n",
    "    y_hat = w1 * X_train[i] + w2 * (X_train[i] ** 2) + b\n",
    "    total_train_loss += (y_train[i] - y_hat) ** 2"
   ]
  },
  {
   "cell_type": "code",
   "execution_count": 43,
   "metadata": {},
   "outputs": [],
   "source": [
    "total_test_loss = 0\n",
    "for i in range(n_test):\n",
    "    y_hat = w * X_test[i] + w2 * (X_test[i] ** 2) + b\n",
    "    total_test_loss += (y_test[i] - y_hat) ** 2"
   ]
  },
  {
   "cell_type": "code",
   "execution_count": 44,
   "metadata": {},
   "outputs": [
    {
     "name": "stdout",
     "output_type": "stream",
     "text": [
      "254.58602200182875\n"
     ]
    }
   ],
   "source": [
    "print(total_train_loss)"
   ]
  },
  {
   "cell_type": "code",
   "execution_count": 45,
   "metadata": {},
   "outputs": [
    {
     "name": "stdout",
     "output_type": "stream",
     "text": [
      "1371.9061906889556\n"
     ]
    }
   ],
   "source": [
    "print(total_test_loss)"
   ]
  },
  {
   "cell_type": "code",
   "execution_count": null,
   "metadata": {},
   "outputs": [],
   "source": []
  }
 ],
 "metadata": {
  "kernelspec": {
   "display_name": "Python 3",
   "language": "python",
   "name": "python3"
  },
  "language_info": {
   "codemirror_mode": {
    "name": "ipython",
    "version": 3
   },
   "file_extension": ".py",
   "mimetype": "text/x-python",
   "name": "python",
   "nbconvert_exporter": "python",
   "pygments_lexer": "ipython3",
   "version": "3.7.3"
  }
 },
 "nbformat": 4,
 "nbformat_minor": 2
}
