{
 "cells": [
  {
   "cell_type": "code",
   "execution_count": 1,
   "metadata": {},
   "outputs": [],
   "source": [
    "from sklearn.linear_model import LinearRegression as LR\n",
    "from sklearn.model_selection import train_test_split\n",
    "from sklearn.model_selection import cross_val_score\n",
    "from sklearn.datasets import fetch_california_housing as fch #加利福尼亚房屋价值数据集\n",
    "import pandas as pd"
   ]
  },
  {
   "cell_type": "code",
   "execution_count": 2,
   "metadata": {},
   "outputs": [],
   "source": [
    "housevalue = fch()"
   ]
  },
  {
   "cell_type": "code",
   "execution_count": 3,
   "metadata": {
    "scrolled": true
   },
   "outputs": [
    {
     "data": {
      "text/html": [
       "<div>\n",
       "<style scoped>\n",
       "    .dataframe tbody tr th:only-of-type {\n",
       "        vertical-align: middle;\n",
       "    }\n",
       "\n",
       "    .dataframe tbody tr th {\n",
       "        vertical-align: top;\n",
       "    }\n",
       "\n",
       "    .dataframe thead th {\n",
       "        text-align: right;\n",
       "    }\n",
       "</style>\n",
       "<table border=\"1\" class=\"dataframe\">\n",
       "  <thead>\n",
       "    <tr style=\"text-align: right;\">\n",
       "      <th></th>\n",
       "      <th>0</th>\n",
       "      <th>1</th>\n",
       "      <th>2</th>\n",
       "      <th>3</th>\n",
       "      <th>4</th>\n",
       "      <th>5</th>\n",
       "      <th>6</th>\n",
       "      <th>7</th>\n",
       "    </tr>\n",
       "  </thead>\n",
       "  <tbody>\n",
       "    <tr>\n",
       "      <th>0</th>\n",
       "      <td>8.3252</td>\n",
       "      <td>41.0</td>\n",
       "      <td>6.984127</td>\n",
       "      <td>1.023810</td>\n",
       "      <td>322.0</td>\n",
       "      <td>2.555556</td>\n",
       "      <td>37.88</td>\n",
       "      <td>-122.23</td>\n",
       "    </tr>\n",
       "    <tr>\n",
       "      <th>1</th>\n",
       "      <td>8.3014</td>\n",
       "      <td>21.0</td>\n",
       "      <td>6.238137</td>\n",
       "      <td>0.971880</td>\n",
       "      <td>2401.0</td>\n",
       "      <td>2.109842</td>\n",
       "      <td>37.86</td>\n",
       "      <td>-122.22</td>\n",
       "    </tr>\n",
       "    <tr>\n",
       "      <th>2</th>\n",
       "      <td>7.2574</td>\n",
       "      <td>52.0</td>\n",
       "      <td>8.288136</td>\n",
       "      <td>1.073446</td>\n",
       "      <td>496.0</td>\n",
       "      <td>2.802260</td>\n",
       "      <td>37.85</td>\n",
       "      <td>-122.24</td>\n",
       "    </tr>\n",
       "    <tr>\n",
       "      <th>3</th>\n",
       "      <td>5.6431</td>\n",
       "      <td>52.0</td>\n",
       "      <td>5.817352</td>\n",
       "      <td>1.073059</td>\n",
       "      <td>558.0</td>\n",
       "      <td>2.547945</td>\n",
       "      <td>37.85</td>\n",
       "      <td>-122.25</td>\n",
       "    </tr>\n",
       "    <tr>\n",
       "      <th>4</th>\n",
       "      <td>3.8462</td>\n",
       "      <td>52.0</td>\n",
       "      <td>6.281853</td>\n",
       "      <td>1.081081</td>\n",
       "      <td>565.0</td>\n",
       "      <td>2.181467</td>\n",
       "      <td>37.85</td>\n",
       "      <td>-122.25</td>\n",
       "    </tr>\n",
       "    <tr>\n",
       "      <th>5</th>\n",
       "      <td>4.0368</td>\n",
       "      <td>52.0</td>\n",
       "      <td>4.761658</td>\n",
       "      <td>1.103627</td>\n",
       "      <td>413.0</td>\n",
       "      <td>2.139896</td>\n",
       "      <td>37.85</td>\n",
       "      <td>-122.25</td>\n",
       "    </tr>\n",
       "    <tr>\n",
       "      <th>6</th>\n",
       "      <td>3.6591</td>\n",
       "      <td>52.0</td>\n",
       "      <td>4.931907</td>\n",
       "      <td>0.951362</td>\n",
       "      <td>1094.0</td>\n",
       "      <td>2.128405</td>\n",
       "      <td>37.84</td>\n",
       "      <td>-122.25</td>\n",
       "    </tr>\n",
       "    <tr>\n",
       "      <th>7</th>\n",
       "      <td>3.1200</td>\n",
       "      <td>52.0</td>\n",
       "      <td>4.797527</td>\n",
       "      <td>1.061824</td>\n",
       "      <td>1157.0</td>\n",
       "      <td>1.788253</td>\n",
       "      <td>37.84</td>\n",
       "      <td>-122.25</td>\n",
       "    </tr>\n",
       "    <tr>\n",
       "      <th>8</th>\n",
       "      <td>2.0804</td>\n",
       "      <td>42.0</td>\n",
       "      <td>4.294118</td>\n",
       "      <td>1.117647</td>\n",
       "      <td>1206.0</td>\n",
       "      <td>2.026891</td>\n",
       "      <td>37.84</td>\n",
       "      <td>-122.26</td>\n",
       "    </tr>\n",
       "    <tr>\n",
       "      <th>9</th>\n",
       "      <td>3.6912</td>\n",
       "      <td>52.0</td>\n",
       "      <td>4.970588</td>\n",
       "      <td>0.990196</td>\n",
       "      <td>1551.0</td>\n",
       "      <td>2.172269</td>\n",
       "      <td>37.84</td>\n",
       "      <td>-122.25</td>\n",
       "    </tr>\n",
       "    <tr>\n",
       "      <th>10</th>\n",
       "      <td>3.2031</td>\n",
       "      <td>52.0</td>\n",
       "      <td>5.477612</td>\n",
       "      <td>1.079602</td>\n",
       "      <td>910.0</td>\n",
       "      <td>2.263682</td>\n",
       "      <td>37.85</td>\n",
       "      <td>-122.26</td>\n",
       "    </tr>\n",
       "    <tr>\n",
       "      <th>11</th>\n",
       "      <td>3.2705</td>\n",
       "      <td>52.0</td>\n",
       "      <td>4.772480</td>\n",
       "      <td>1.024523</td>\n",
       "      <td>1504.0</td>\n",
       "      <td>2.049046</td>\n",
       "      <td>37.85</td>\n",
       "      <td>-122.26</td>\n",
       "    </tr>\n",
       "    <tr>\n",
       "      <th>12</th>\n",
       "      <td>3.0750</td>\n",
       "      <td>52.0</td>\n",
       "      <td>5.322650</td>\n",
       "      <td>1.012821</td>\n",
       "      <td>1098.0</td>\n",
       "      <td>2.346154</td>\n",
       "      <td>37.85</td>\n",
       "      <td>-122.26</td>\n",
       "    </tr>\n",
       "    <tr>\n",
       "      <th>13</th>\n",
       "      <td>2.6736</td>\n",
       "      <td>52.0</td>\n",
       "      <td>4.000000</td>\n",
       "      <td>1.097701</td>\n",
       "      <td>345.0</td>\n",
       "      <td>1.982759</td>\n",
       "      <td>37.84</td>\n",
       "      <td>-122.26</td>\n",
       "    </tr>\n",
       "    <tr>\n",
       "      <th>14</th>\n",
       "      <td>1.9167</td>\n",
       "      <td>52.0</td>\n",
       "      <td>4.262903</td>\n",
       "      <td>1.009677</td>\n",
       "      <td>1212.0</td>\n",
       "      <td>1.954839</td>\n",
       "      <td>37.85</td>\n",
       "      <td>-122.26</td>\n",
       "    </tr>\n",
       "    <tr>\n",
       "      <th>15</th>\n",
       "      <td>2.1250</td>\n",
       "      <td>50.0</td>\n",
       "      <td>4.242424</td>\n",
       "      <td>1.071970</td>\n",
       "      <td>697.0</td>\n",
       "      <td>2.640152</td>\n",
       "      <td>37.85</td>\n",
       "      <td>-122.26</td>\n",
       "    </tr>\n",
       "    <tr>\n",
       "      <th>16</th>\n",
       "      <td>2.7750</td>\n",
       "      <td>52.0</td>\n",
       "      <td>5.939577</td>\n",
       "      <td>1.048338</td>\n",
       "      <td>793.0</td>\n",
       "      <td>2.395770</td>\n",
       "      <td>37.85</td>\n",
       "      <td>-122.27</td>\n",
       "    </tr>\n",
       "    <tr>\n",
       "      <th>17</th>\n",
       "      <td>2.1202</td>\n",
       "      <td>52.0</td>\n",
       "      <td>4.052805</td>\n",
       "      <td>0.966997</td>\n",
       "      <td>648.0</td>\n",
       "      <td>2.138614</td>\n",
       "      <td>37.85</td>\n",
       "      <td>-122.27</td>\n",
       "    </tr>\n",
       "    <tr>\n",
       "      <th>18</th>\n",
       "      <td>1.9911</td>\n",
       "      <td>50.0</td>\n",
       "      <td>5.343675</td>\n",
       "      <td>1.085919</td>\n",
       "      <td>990.0</td>\n",
       "      <td>2.362768</td>\n",
       "      <td>37.84</td>\n",
       "      <td>-122.26</td>\n",
       "    </tr>\n",
       "    <tr>\n",
       "      <th>19</th>\n",
       "      <td>2.6033</td>\n",
       "      <td>52.0</td>\n",
       "      <td>5.465455</td>\n",
       "      <td>1.083636</td>\n",
       "      <td>690.0</td>\n",
       "      <td>2.509091</td>\n",
       "      <td>37.84</td>\n",
       "      <td>-122.27</td>\n",
       "    </tr>\n",
       "    <tr>\n",
       "      <th>20</th>\n",
       "      <td>1.3578</td>\n",
       "      <td>40.0</td>\n",
       "      <td>4.524096</td>\n",
       "      <td>1.108434</td>\n",
       "      <td>409.0</td>\n",
       "      <td>2.463855</td>\n",
       "      <td>37.85</td>\n",
       "      <td>-122.27</td>\n",
       "    </tr>\n",
       "    <tr>\n",
       "      <th>21</th>\n",
       "      <td>1.7135</td>\n",
       "      <td>42.0</td>\n",
       "      <td>4.478142</td>\n",
       "      <td>1.002732</td>\n",
       "      <td>929.0</td>\n",
       "      <td>2.538251</td>\n",
       "      <td>37.85</td>\n",
       "      <td>-122.27</td>\n",
       "    </tr>\n",
       "    <tr>\n",
       "      <th>22</th>\n",
       "      <td>1.7250</td>\n",
       "      <td>52.0</td>\n",
       "      <td>5.096234</td>\n",
       "      <td>1.131799</td>\n",
       "      <td>1015.0</td>\n",
       "      <td>2.123431</td>\n",
       "      <td>37.84</td>\n",
       "      <td>-122.27</td>\n",
       "    </tr>\n",
       "    <tr>\n",
       "      <th>23</th>\n",
       "      <td>2.1806</td>\n",
       "      <td>52.0</td>\n",
       "      <td>5.193846</td>\n",
       "      <td>1.036923</td>\n",
       "      <td>853.0</td>\n",
       "      <td>2.624615</td>\n",
       "      <td>37.84</td>\n",
       "      <td>-122.27</td>\n",
       "    </tr>\n",
       "    <tr>\n",
       "      <th>24</th>\n",
       "      <td>2.6000</td>\n",
       "      <td>52.0</td>\n",
       "      <td>5.270142</td>\n",
       "      <td>1.035545</td>\n",
       "      <td>1006.0</td>\n",
       "      <td>2.383886</td>\n",
       "      <td>37.84</td>\n",
       "      <td>-122.27</td>\n",
       "    </tr>\n",
       "    <tr>\n",
       "      <th>25</th>\n",
       "      <td>2.4038</td>\n",
       "      <td>41.0</td>\n",
       "      <td>4.495798</td>\n",
       "      <td>1.033613</td>\n",
       "      <td>317.0</td>\n",
       "      <td>2.663866</td>\n",
       "      <td>37.85</td>\n",
       "      <td>-122.28</td>\n",
       "    </tr>\n",
       "    <tr>\n",
       "      <th>26</th>\n",
       "      <td>2.4597</td>\n",
       "      <td>49.0</td>\n",
       "      <td>4.728033</td>\n",
       "      <td>1.020921</td>\n",
       "      <td>607.0</td>\n",
       "      <td>2.539749</td>\n",
       "      <td>37.85</td>\n",
       "      <td>-122.28</td>\n",
       "    </tr>\n",
       "    <tr>\n",
       "      <th>27</th>\n",
       "      <td>1.8080</td>\n",
       "      <td>52.0</td>\n",
       "      <td>4.780856</td>\n",
       "      <td>1.060453</td>\n",
       "      <td>1102.0</td>\n",
       "      <td>2.775819</td>\n",
       "      <td>37.85</td>\n",
       "      <td>-122.28</td>\n",
       "    </tr>\n",
       "    <tr>\n",
       "      <th>28</th>\n",
       "      <td>1.6424</td>\n",
       "      <td>50.0</td>\n",
       "      <td>4.401691</td>\n",
       "      <td>1.040169</td>\n",
       "      <td>1131.0</td>\n",
       "      <td>2.391121</td>\n",
       "      <td>37.84</td>\n",
       "      <td>-122.28</td>\n",
       "    </tr>\n",
       "    <tr>\n",
       "      <th>29</th>\n",
       "      <td>1.6875</td>\n",
       "      <td>52.0</td>\n",
       "      <td>4.703226</td>\n",
       "      <td>1.032258</td>\n",
       "      <td>395.0</td>\n",
       "      <td>2.548387</td>\n",
       "      <td>37.84</td>\n",
       "      <td>-122.28</td>\n",
       "    </tr>\n",
       "    <tr>\n",
       "      <th>...</th>\n",
       "      <td>...</td>\n",
       "      <td>...</td>\n",
       "      <td>...</td>\n",
       "      <td>...</td>\n",
       "      <td>...</td>\n",
       "      <td>...</td>\n",
       "      <td>...</td>\n",
       "      <td>...</td>\n",
       "    </tr>\n",
       "    <tr>\n",
       "      <th>20610</th>\n",
       "      <td>1.3631</td>\n",
       "      <td>28.0</td>\n",
       "      <td>4.851936</td>\n",
       "      <td>1.102506</td>\n",
       "      <td>1195.0</td>\n",
       "      <td>2.722096</td>\n",
       "      <td>39.10</td>\n",
       "      <td>-121.56</td>\n",
       "    </tr>\n",
       "    <tr>\n",
       "      <th>20611</th>\n",
       "      <td>1.2857</td>\n",
       "      <td>27.0</td>\n",
       "      <td>4.359413</td>\n",
       "      <td>1.078240</td>\n",
       "      <td>1163.0</td>\n",
       "      <td>2.843521</td>\n",
       "      <td>39.10</td>\n",
       "      <td>-121.55</td>\n",
       "    </tr>\n",
       "    <tr>\n",
       "      <th>20612</th>\n",
       "      <td>1.4934</td>\n",
       "      <td>26.0</td>\n",
       "      <td>5.157303</td>\n",
       "      <td>1.082397</td>\n",
       "      <td>761.0</td>\n",
       "      <td>2.850187</td>\n",
       "      <td>39.08</td>\n",
       "      <td>-121.56</td>\n",
       "    </tr>\n",
       "    <tr>\n",
       "      <th>20613</th>\n",
       "      <td>1.4958</td>\n",
       "      <td>31.0</td>\n",
       "      <td>4.500000</td>\n",
       "      <td>0.950521</td>\n",
       "      <td>1167.0</td>\n",
       "      <td>3.039062</td>\n",
       "      <td>39.09</td>\n",
       "      <td>-121.55</td>\n",
       "    </tr>\n",
       "    <tr>\n",
       "      <th>20614</th>\n",
       "      <td>2.4695</td>\n",
       "      <td>26.0</td>\n",
       "      <td>4.801688</td>\n",
       "      <td>0.970464</td>\n",
       "      <td>1455.0</td>\n",
       "      <td>3.069620</td>\n",
       "      <td>39.08</td>\n",
       "      <td>-121.54</td>\n",
       "    </tr>\n",
       "    <tr>\n",
       "      <th>20615</th>\n",
       "      <td>2.3598</td>\n",
       "      <td>23.0</td>\n",
       "      <td>5.461929</td>\n",
       "      <td>1.096447</td>\n",
       "      <td>724.0</td>\n",
       "      <td>3.675127</td>\n",
       "      <td>39.08</td>\n",
       "      <td>-121.54</td>\n",
       "    </tr>\n",
       "    <tr>\n",
       "      <th>20616</th>\n",
       "      <td>2.0469</td>\n",
       "      <td>15.0</td>\n",
       "      <td>4.826667</td>\n",
       "      <td>1.176000</td>\n",
       "      <td>1157.0</td>\n",
       "      <td>3.085333</td>\n",
       "      <td>39.08</td>\n",
       "      <td>-121.53</td>\n",
       "    </tr>\n",
       "    <tr>\n",
       "      <th>20617</th>\n",
       "      <td>3.3021</td>\n",
       "      <td>20.0</td>\n",
       "      <td>4.921053</td>\n",
       "      <td>0.956140</td>\n",
       "      <td>308.0</td>\n",
       "      <td>2.701754</td>\n",
       "      <td>39.06</td>\n",
       "      <td>-121.53</td>\n",
       "    </tr>\n",
       "    <tr>\n",
       "      <th>20618</th>\n",
       "      <td>2.2500</td>\n",
       "      <td>25.0</td>\n",
       "      <td>5.893805</td>\n",
       "      <td>1.092920</td>\n",
       "      <td>726.0</td>\n",
       "      <td>3.212389</td>\n",
       "      <td>39.06</td>\n",
       "      <td>-121.55</td>\n",
       "    </tr>\n",
       "    <tr>\n",
       "      <th>20619</th>\n",
       "      <td>2.7303</td>\n",
       "      <td>22.0</td>\n",
       "      <td>6.388514</td>\n",
       "      <td>1.148649</td>\n",
       "      <td>1023.0</td>\n",
       "      <td>3.456081</td>\n",
       "      <td>39.01</td>\n",
       "      <td>-121.56</td>\n",
       "    </tr>\n",
       "    <tr>\n",
       "      <th>20620</th>\n",
       "      <td>4.5625</td>\n",
       "      <td>40.0</td>\n",
       "      <td>4.125000</td>\n",
       "      <td>0.854167</td>\n",
       "      <td>151.0</td>\n",
       "      <td>3.145833</td>\n",
       "      <td>39.05</td>\n",
       "      <td>-121.48</td>\n",
       "    </tr>\n",
       "    <tr>\n",
       "      <th>20621</th>\n",
       "      <td>2.3661</td>\n",
       "      <td>37.0</td>\n",
       "      <td>7.923567</td>\n",
       "      <td>1.573248</td>\n",
       "      <td>484.0</td>\n",
       "      <td>3.082803</td>\n",
       "      <td>39.01</td>\n",
       "      <td>-121.47</td>\n",
       "    </tr>\n",
       "    <tr>\n",
       "      <th>20622</th>\n",
       "      <td>2.4167</td>\n",
       "      <td>20.0</td>\n",
       "      <td>4.808917</td>\n",
       "      <td>0.936306</td>\n",
       "      <td>457.0</td>\n",
       "      <td>2.910828</td>\n",
       "      <td>39.00</td>\n",
       "      <td>-121.44</td>\n",
       "    </tr>\n",
       "    <tr>\n",
       "      <th>20623</th>\n",
       "      <td>2.8235</td>\n",
       "      <td>32.0</td>\n",
       "      <td>5.101322</td>\n",
       "      <td>1.074890</td>\n",
       "      <td>598.0</td>\n",
       "      <td>2.634361</td>\n",
       "      <td>39.03</td>\n",
       "      <td>-121.37</td>\n",
       "    </tr>\n",
       "    <tr>\n",
       "      <th>20624</th>\n",
       "      <td>3.0739</td>\n",
       "      <td>16.0</td>\n",
       "      <td>5.835052</td>\n",
       "      <td>1.030928</td>\n",
       "      <td>731.0</td>\n",
       "      <td>2.512027</td>\n",
       "      <td>39.04</td>\n",
       "      <td>-121.41</td>\n",
       "    </tr>\n",
       "    <tr>\n",
       "      <th>20625</th>\n",
       "      <td>4.1250</td>\n",
       "      <td>37.0</td>\n",
       "      <td>7.285714</td>\n",
       "      <td>1.214286</td>\n",
       "      <td>29.0</td>\n",
       "      <td>2.071429</td>\n",
       "      <td>39.12</td>\n",
       "      <td>-121.52</td>\n",
       "    </tr>\n",
       "    <tr>\n",
       "      <th>20626</th>\n",
       "      <td>2.1667</td>\n",
       "      <td>36.0</td>\n",
       "      <td>6.573099</td>\n",
       "      <td>1.076023</td>\n",
       "      <td>504.0</td>\n",
       "      <td>2.947368</td>\n",
       "      <td>39.18</td>\n",
       "      <td>-121.43</td>\n",
       "    </tr>\n",
       "    <tr>\n",
       "      <th>20627</th>\n",
       "      <td>3.0000</td>\n",
       "      <td>5.0</td>\n",
       "      <td>6.067797</td>\n",
       "      <td>1.101695</td>\n",
       "      <td>169.0</td>\n",
       "      <td>2.864407</td>\n",
       "      <td>39.13</td>\n",
       "      <td>-121.32</td>\n",
       "    </tr>\n",
       "    <tr>\n",
       "      <th>20628</th>\n",
       "      <td>2.5952</td>\n",
       "      <td>19.0</td>\n",
       "      <td>5.238462</td>\n",
       "      <td>1.079487</td>\n",
       "      <td>1018.0</td>\n",
       "      <td>2.610256</td>\n",
       "      <td>39.10</td>\n",
       "      <td>-121.48</td>\n",
       "    </tr>\n",
       "    <tr>\n",
       "      <th>20629</th>\n",
       "      <td>2.0943</td>\n",
       "      <td>28.0</td>\n",
       "      <td>5.519802</td>\n",
       "      <td>1.020902</td>\n",
       "      <td>6912.0</td>\n",
       "      <td>3.801980</td>\n",
       "      <td>39.12</td>\n",
       "      <td>-121.39</td>\n",
       "    </tr>\n",
       "    <tr>\n",
       "      <th>20630</th>\n",
       "      <td>3.5673</td>\n",
       "      <td>11.0</td>\n",
       "      <td>5.932584</td>\n",
       "      <td>1.134831</td>\n",
       "      <td>1257.0</td>\n",
       "      <td>2.824719</td>\n",
       "      <td>39.29</td>\n",
       "      <td>-121.32</td>\n",
       "    </tr>\n",
       "    <tr>\n",
       "      <th>20631</th>\n",
       "      <td>3.5179</td>\n",
       "      <td>15.0</td>\n",
       "      <td>6.145833</td>\n",
       "      <td>1.141204</td>\n",
       "      <td>1200.0</td>\n",
       "      <td>2.777778</td>\n",
       "      <td>39.33</td>\n",
       "      <td>-121.40</td>\n",
       "    </tr>\n",
       "    <tr>\n",
       "      <th>20632</th>\n",
       "      <td>3.1250</td>\n",
       "      <td>15.0</td>\n",
       "      <td>6.023377</td>\n",
       "      <td>1.080519</td>\n",
       "      <td>1047.0</td>\n",
       "      <td>2.719481</td>\n",
       "      <td>39.26</td>\n",
       "      <td>-121.45</td>\n",
       "    </tr>\n",
       "    <tr>\n",
       "      <th>20633</th>\n",
       "      <td>2.5495</td>\n",
       "      <td>27.0</td>\n",
       "      <td>5.445026</td>\n",
       "      <td>1.078534</td>\n",
       "      <td>1082.0</td>\n",
       "      <td>2.832461</td>\n",
       "      <td>39.19</td>\n",
       "      <td>-121.53</td>\n",
       "    </tr>\n",
       "    <tr>\n",
       "      <th>20634</th>\n",
       "      <td>3.7125</td>\n",
       "      <td>28.0</td>\n",
       "      <td>6.779070</td>\n",
       "      <td>1.148256</td>\n",
       "      <td>1041.0</td>\n",
       "      <td>3.026163</td>\n",
       "      <td>39.27</td>\n",
       "      <td>-121.56</td>\n",
       "    </tr>\n",
       "    <tr>\n",
       "      <th>20635</th>\n",
       "      <td>1.5603</td>\n",
       "      <td>25.0</td>\n",
       "      <td>5.045455</td>\n",
       "      <td>1.133333</td>\n",
       "      <td>845.0</td>\n",
       "      <td>2.560606</td>\n",
       "      <td>39.48</td>\n",
       "      <td>-121.09</td>\n",
       "    </tr>\n",
       "    <tr>\n",
       "      <th>20636</th>\n",
       "      <td>2.5568</td>\n",
       "      <td>18.0</td>\n",
       "      <td>6.114035</td>\n",
       "      <td>1.315789</td>\n",
       "      <td>356.0</td>\n",
       "      <td>3.122807</td>\n",
       "      <td>39.49</td>\n",
       "      <td>-121.21</td>\n",
       "    </tr>\n",
       "    <tr>\n",
       "      <th>20637</th>\n",
       "      <td>1.7000</td>\n",
       "      <td>17.0</td>\n",
       "      <td>5.205543</td>\n",
       "      <td>1.120092</td>\n",
       "      <td>1007.0</td>\n",
       "      <td>2.325635</td>\n",
       "      <td>39.43</td>\n",
       "      <td>-121.22</td>\n",
       "    </tr>\n",
       "    <tr>\n",
       "      <th>20638</th>\n",
       "      <td>1.8672</td>\n",
       "      <td>18.0</td>\n",
       "      <td>5.329513</td>\n",
       "      <td>1.171920</td>\n",
       "      <td>741.0</td>\n",
       "      <td>2.123209</td>\n",
       "      <td>39.43</td>\n",
       "      <td>-121.32</td>\n",
       "    </tr>\n",
       "    <tr>\n",
       "      <th>20639</th>\n",
       "      <td>2.3886</td>\n",
       "      <td>16.0</td>\n",
       "      <td>5.254717</td>\n",
       "      <td>1.162264</td>\n",
       "      <td>1387.0</td>\n",
       "      <td>2.616981</td>\n",
       "      <td>39.37</td>\n",
       "      <td>-121.24</td>\n",
       "    </tr>\n",
       "  </tbody>\n",
       "</table>\n",
       "<p>20640 rows × 8 columns</p>\n",
       "</div>"
      ],
      "text/plain": [
       "            0     1         2         3       4         5      6       7\n",
       "0      8.3252  41.0  6.984127  1.023810   322.0  2.555556  37.88 -122.23\n",
       "1      8.3014  21.0  6.238137  0.971880  2401.0  2.109842  37.86 -122.22\n",
       "2      7.2574  52.0  8.288136  1.073446   496.0  2.802260  37.85 -122.24\n",
       "3      5.6431  52.0  5.817352  1.073059   558.0  2.547945  37.85 -122.25\n",
       "4      3.8462  52.0  6.281853  1.081081   565.0  2.181467  37.85 -122.25\n",
       "5      4.0368  52.0  4.761658  1.103627   413.0  2.139896  37.85 -122.25\n",
       "6      3.6591  52.0  4.931907  0.951362  1094.0  2.128405  37.84 -122.25\n",
       "7      3.1200  52.0  4.797527  1.061824  1157.0  1.788253  37.84 -122.25\n",
       "8      2.0804  42.0  4.294118  1.117647  1206.0  2.026891  37.84 -122.26\n",
       "9      3.6912  52.0  4.970588  0.990196  1551.0  2.172269  37.84 -122.25\n",
       "10     3.2031  52.0  5.477612  1.079602   910.0  2.263682  37.85 -122.26\n",
       "11     3.2705  52.0  4.772480  1.024523  1504.0  2.049046  37.85 -122.26\n",
       "12     3.0750  52.0  5.322650  1.012821  1098.0  2.346154  37.85 -122.26\n",
       "13     2.6736  52.0  4.000000  1.097701   345.0  1.982759  37.84 -122.26\n",
       "14     1.9167  52.0  4.262903  1.009677  1212.0  1.954839  37.85 -122.26\n",
       "15     2.1250  50.0  4.242424  1.071970   697.0  2.640152  37.85 -122.26\n",
       "16     2.7750  52.0  5.939577  1.048338   793.0  2.395770  37.85 -122.27\n",
       "17     2.1202  52.0  4.052805  0.966997   648.0  2.138614  37.85 -122.27\n",
       "18     1.9911  50.0  5.343675  1.085919   990.0  2.362768  37.84 -122.26\n",
       "19     2.6033  52.0  5.465455  1.083636   690.0  2.509091  37.84 -122.27\n",
       "20     1.3578  40.0  4.524096  1.108434   409.0  2.463855  37.85 -122.27\n",
       "21     1.7135  42.0  4.478142  1.002732   929.0  2.538251  37.85 -122.27\n",
       "22     1.7250  52.0  5.096234  1.131799  1015.0  2.123431  37.84 -122.27\n",
       "23     2.1806  52.0  5.193846  1.036923   853.0  2.624615  37.84 -122.27\n",
       "24     2.6000  52.0  5.270142  1.035545  1006.0  2.383886  37.84 -122.27\n",
       "25     2.4038  41.0  4.495798  1.033613   317.0  2.663866  37.85 -122.28\n",
       "26     2.4597  49.0  4.728033  1.020921   607.0  2.539749  37.85 -122.28\n",
       "27     1.8080  52.0  4.780856  1.060453  1102.0  2.775819  37.85 -122.28\n",
       "28     1.6424  50.0  4.401691  1.040169  1131.0  2.391121  37.84 -122.28\n",
       "29     1.6875  52.0  4.703226  1.032258   395.0  2.548387  37.84 -122.28\n",
       "...       ...   ...       ...       ...     ...       ...    ...     ...\n",
       "20610  1.3631  28.0  4.851936  1.102506  1195.0  2.722096  39.10 -121.56\n",
       "20611  1.2857  27.0  4.359413  1.078240  1163.0  2.843521  39.10 -121.55\n",
       "20612  1.4934  26.0  5.157303  1.082397   761.0  2.850187  39.08 -121.56\n",
       "20613  1.4958  31.0  4.500000  0.950521  1167.0  3.039062  39.09 -121.55\n",
       "20614  2.4695  26.0  4.801688  0.970464  1455.0  3.069620  39.08 -121.54\n",
       "20615  2.3598  23.0  5.461929  1.096447   724.0  3.675127  39.08 -121.54\n",
       "20616  2.0469  15.0  4.826667  1.176000  1157.0  3.085333  39.08 -121.53\n",
       "20617  3.3021  20.0  4.921053  0.956140   308.0  2.701754  39.06 -121.53\n",
       "20618  2.2500  25.0  5.893805  1.092920   726.0  3.212389  39.06 -121.55\n",
       "20619  2.7303  22.0  6.388514  1.148649  1023.0  3.456081  39.01 -121.56\n",
       "20620  4.5625  40.0  4.125000  0.854167   151.0  3.145833  39.05 -121.48\n",
       "20621  2.3661  37.0  7.923567  1.573248   484.0  3.082803  39.01 -121.47\n",
       "20622  2.4167  20.0  4.808917  0.936306   457.0  2.910828  39.00 -121.44\n",
       "20623  2.8235  32.0  5.101322  1.074890   598.0  2.634361  39.03 -121.37\n",
       "20624  3.0739  16.0  5.835052  1.030928   731.0  2.512027  39.04 -121.41\n",
       "20625  4.1250  37.0  7.285714  1.214286    29.0  2.071429  39.12 -121.52\n",
       "20626  2.1667  36.0  6.573099  1.076023   504.0  2.947368  39.18 -121.43\n",
       "20627  3.0000   5.0  6.067797  1.101695   169.0  2.864407  39.13 -121.32\n",
       "20628  2.5952  19.0  5.238462  1.079487  1018.0  2.610256  39.10 -121.48\n",
       "20629  2.0943  28.0  5.519802  1.020902  6912.0  3.801980  39.12 -121.39\n",
       "20630  3.5673  11.0  5.932584  1.134831  1257.0  2.824719  39.29 -121.32\n",
       "20631  3.5179  15.0  6.145833  1.141204  1200.0  2.777778  39.33 -121.40\n",
       "20632  3.1250  15.0  6.023377  1.080519  1047.0  2.719481  39.26 -121.45\n",
       "20633  2.5495  27.0  5.445026  1.078534  1082.0  2.832461  39.19 -121.53\n",
       "20634  3.7125  28.0  6.779070  1.148256  1041.0  3.026163  39.27 -121.56\n",
       "20635  1.5603  25.0  5.045455  1.133333   845.0  2.560606  39.48 -121.09\n",
       "20636  2.5568  18.0  6.114035  1.315789   356.0  3.122807  39.49 -121.21\n",
       "20637  1.7000  17.0  5.205543  1.120092  1007.0  2.325635  39.43 -121.22\n",
       "20638  1.8672  18.0  5.329513  1.171920   741.0  2.123209  39.43 -121.32\n",
       "20639  2.3886  16.0  5.254717  1.162264  1387.0  2.616981  39.37 -121.24\n",
       "\n",
       "[20640 rows x 8 columns]"
      ]
     },
     "execution_count": 3,
     "metadata": {},
     "output_type": "execute_result"
    }
   ],
   "source": [
    "X = pd.DataFrame(housevalue.data)\n",
    "X"
   ]
  },
  {
   "cell_type": "code",
   "execution_count": 4,
   "metadata": {},
   "outputs": [
    {
     "data": {
      "text/plain": [
       "array([4.526, 3.585, 3.521, ..., 0.923, 0.847, 0.894])"
      ]
     },
     "execution_count": 4,
     "metadata": {},
     "output_type": "execute_result"
    }
   ],
   "source": [
    "y = housevalue.target\n",
    "y"
   ]
  },
  {
   "cell_type": "code",
   "execution_count": 5,
   "metadata": {},
   "outputs": [
    {
     "data": {
      "text/plain": [
       "(20640, 8)"
      ]
     },
     "execution_count": 5,
     "metadata": {},
     "output_type": "execute_result"
    }
   ],
   "source": [
    "X.shape"
   ]
  },
  {
   "cell_type": "code",
   "execution_count": 6,
   "metadata": {},
   "outputs": [],
   "source": [
    "X.columns = housevalue.feature_names"
   ]
  },
  {
   "cell_type": "code",
   "execution_count": 7,
   "metadata": {},
   "outputs": [],
   "source": [
    "X_train, X_test, y_train, y_test = train_test_split(X, y, test_size=.3, random_state=420)"
   ]
  },
  {
   "cell_type": "code",
   "execution_count": 8,
   "metadata": {},
   "outputs": [
    {
     "data": {
      "text/plain": [
       "0.6043668160178817"
      ]
     },
     "execution_count": 8,
     "metadata": {},
     "output_type": "execute_result"
    }
   ],
   "source": [
    "reg = LR().fit(X_train, y_train)\n",
    "reg.score(X_test, y_test)"
   ]
  },
  {
   "cell_type": "code",
   "execution_count": 9,
   "metadata": {},
   "outputs": [
    {
     "data": {
      "text/plain": [
       "array([1.51384887, 0.46566247, 2.2567733 , ..., 2.11885803, 1.76968187,\n",
       "       0.73219077])"
      ]
     },
     "execution_count": 9,
     "metadata": {},
     "output_type": "execute_result"
    }
   ],
   "source": [
    "reg.predict(X_test)"
   ]
  },
  {
   "cell_type": "code",
   "execution_count": 10,
   "metadata": {},
   "outputs": [
    {
     "data": {
      "text/plain": [
       "array([ 4.37358931e-01,  1.02112683e-02, -1.07807216e-01,  6.26433828e-01,\n",
       "        5.21612535e-07, -3.34850965e-03, -4.13095938e-01, -4.26210954e-01])"
      ]
     },
     "execution_count": 10,
     "metadata": {},
     "output_type": "execute_result"
    }
   ],
   "source": [
    "reg.coef_"
   ]
  },
  {
   "cell_type": "code",
   "execution_count": 11,
   "metadata": {},
   "outputs": [
    {
     "data": {
      "text/plain": [
       "-36.256893229203875"
      ]
     },
     "execution_count": 11,
     "metadata": {},
     "output_type": "execute_result"
    }
   ],
   "source": [
    "reg.intercept_"
   ]
  },
  {
   "cell_type": "code",
   "execution_count": 12,
   "metadata": {},
   "outputs": [],
   "source": [
    "from sklearn.metrics import mean_squared_error as MSE"
   ]
  },
  {
   "cell_type": "code",
   "execution_count": 13,
   "metadata": {},
   "outputs": [],
   "source": [
    "y_pred = reg.predict(X_test)"
   ]
  },
  {
   "cell_type": "code",
   "execution_count": 14,
   "metadata": {},
   "outputs": [
    {
     "data": {
      "text/plain": [
       "0.5309012639324571"
      ]
     },
     "execution_count": 14,
     "metadata": {},
     "output_type": "execute_result"
    }
   ],
   "source": [
    "MSE(y_test, y_pred)"
   ]
  },
  {
   "cell_type": "code",
   "execution_count": 15,
   "metadata": {},
   "outputs": [
    {
     "ename": "ValueError",
     "evalue": "'mean_squared_error' is not a valid scoring value. Use sorted(sklearn.metrics.SCORERS.keys()) to get valid options.",
     "output_type": "error",
     "traceback": [
      "\u001b[0;31m---------------------------------------------------------------------------\u001b[0m",
      "\u001b[0;31mKeyError\u001b[0m                                  Traceback (most recent call last)",
      "\u001b[0;32m/anaconda3/envs/ys/lib/python3.7/site-packages/sklearn/metrics/scorer.py\u001b[0m in \u001b[0;36mget_scorer\u001b[0;34m(scoring)\u001b[0m\n\u001b[1;32m    228\u001b[0m         \u001b[0;32mtry\u001b[0m\u001b[0;34m:\u001b[0m\u001b[0;34m\u001b[0m\u001b[0;34m\u001b[0m\u001b[0m\n\u001b[0;32m--> 229\u001b[0;31m             \u001b[0mscorer\u001b[0m \u001b[0;34m=\u001b[0m \u001b[0mSCORERS\u001b[0m\u001b[0;34m[\u001b[0m\u001b[0mscoring\u001b[0m\u001b[0;34m]\u001b[0m\u001b[0;34m\u001b[0m\u001b[0;34m\u001b[0m\u001b[0m\n\u001b[0m\u001b[1;32m    230\u001b[0m         \u001b[0;32mexcept\u001b[0m \u001b[0mKeyError\u001b[0m\u001b[0;34m:\u001b[0m\u001b[0;34m\u001b[0m\u001b[0;34m\u001b[0m\u001b[0m\n",
      "\u001b[0;31mKeyError\u001b[0m: 'mean_squared_error'",
      "\nDuring handling of the above exception, another exception occurred:\n",
      "\u001b[0;31mValueError\u001b[0m                                Traceback (most recent call last)",
      "\u001b[0;32m<ipython-input-15-33ed66393a99>\u001b[0m in \u001b[0;36m<module>\u001b[0;34m\u001b[0m\n\u001b[0;32m----> 1\u001b[0;31m \u001b[0mcross_val_score\u001b[0m\u001b[0;34m(\u001b[0m\u001b[0mreg\u001b[0m\u001b[0;34m,\u001b[0m \u001b[0mX\u001b[0m\u001b[0;34m,\u001b[0m \u001b[0my\u001b[0m\u001b[0;34m,\u001b[0m \u001b[0mcv\u001b[0m\u001b[0;34m=\u001b[0m\u001b[0;36m10\u001b[0m\u001b[0;34m,\u001b[0m \u001b[0mscoring\u001b[0m\u001b[0;34m=\u001b[0m\u001b[0;34m'mean_squared_error'\u001b[0m\u001b[0;34m)\u001b[0m\u001b[0;34m\u001b[0m\u001b[0;34m\u001b[0m\u001b[0m\n\u001b[0m",
      "\u001b[0;32m/anaconda3/envs/ys/lib/python3.7/site-packages/sklearn/model_selection/_validation.py\u001b[0m in \u001b[0;36mcross_val_score\u001b[0;34m(estimator, X, y, groups, scoring, cv, n_jobs, verbose, fit_params, pre_dispatch, error_score)\u001b[0m\n\u001b[1;32m    392\u001b[0m     \"\"\"\n\u001b[1;32m    393\u001b[0m     \u001b[0;31m# To ensure multimetric format is not supported\u001b[0m\u001b[0;34m\u001b[0m\u001b[0;34m\u001b[0m\u001b[0;34m\u001b[0m\u001b[0m\n\u001b[0;32m--> 394\u001b[0;31m     \u001b[0mscorer\u001b[0m \u001b[0;34m=\u001b[0m \u001b[0mcheck_scoring\u001b[0m\u001b[0;34m(\u001b[0m\u001b[0mestimator\u001b[0m\u001b[0;34m,\u001b[0m \u001b[0mscoring\u001b[0m\u001b[0;34m=\u001b[0m\u001b[0mscoring\u001b[0m\u001b[0;34m)\u001b[0m\u001b[0;34m\u001b[0m\u001b[0;34m\u001b[0m\u001b[0m\n\u001b[0m\u001b[1;32m    395\u001b[0m \u001b[0;34m\u001b[0m\u001b[0m\n\u001b[1;32m    396\u001b[0m     cv_results = cross_validate(estimator=estimator, X=X, y=y, groups=groups,\n",
      "\u001b[0;32m/anaconda3/envs/ys/lib/python3.7/site-packages/sklearn/metrics/scorer.py\u001b[0m in \u001b[0;36mcheck_scoring\u001b[0;34m(estimator, scoring, allow_none)\u001b[0m\n\u001b[1;32m    271\u001b[0m                         \"'fit' method, %r was passed\" % estimator)\n\u001b[1;32m    272\u001b[0m     \u001b[0;32mif\u001b[0m \u001b[0misinstance\u001b[0m\u001b[0;34m(\u001b[0m\u001b[0mscoring\u001b[0m\u001b[0;34m,\u001b[0m \u001b[0msix\u001b[0m\u001b[0;34m.\u001b[0m\u001b[0mstring_types\u001b[0m\u001b[0;34m)\u001b[0m\u001b[0;34m:\u001b[0m\u001b[0;34m\u001b[0m\u001b[0;34m\u001b[0m\u001b[0m\n\u001b[0;32m--> 273\u001b[0;31m         \u001b[0;32mreturn\u001b[0m \u001b[0mget_scorer\u001b[0m\u001b[0;34m(\u001b[0m\u001b[0mscoring\u001b[0m\u001b[0;34m)\u001b[0m\u001b[0;34m\u001b[0m\u001b[0;34m\u001b[0m\u001b[0m\n\u001b[0m\u001b[1;32m    274\u001b[0m     \u001b[0;32melif\u001b[0m \u001b[0mcallable\u001b[0m\u001b[0;34m(\u001b[0m\u001b[0mscoring\u001b[0m\u001b[0;34m)\u001b[0m\u001b[0;34m:\u001b[0m\u001b[0;34m\u001b[0m\u001b[0;34m\u001b[0m\u001b[0m\n\u001b[1;32m    275\u001b[0m         \u001b[0;31m# Heuristic to ensure user has not passed a metric\u001b[0m\u001b[0;34m\u001b[0m\u001b[0;34m\u001b[0m\u001b[0;34m\u001b[0m\u001b[0m\n",
      "\u001b[0;32m/anaconda3/envs/ys/lib/python3.7/site-packages/sklearn/metrics/scorer.py\u001b[0m in \u001b[0;36mget_scorer\u001b[0;34m(scoring)\u001b[0m\n\u001b[1;32m    231\u001b[0m             raise ValueError('%r is not a valid scoring value. '\n\u001b[1;32m    232\u001b[0m                              \u001b[0;34m'Use sorted(sklearn.metrics.SCORERS.keys()) '\u001b[0m\u001b[0;34m\u001b[0m\u001b[0;34m\u001b[0m\u001b[0m\n\u001b[0;32m--> 233\u001b[0;31m                              'to get valid options.' % (scoring))\n\u001b[0m\u001b[1;32m    234\u001b[0m     \u001b[0;32melse\u001b[0m\u001b[0;34m:\u001b[0m\u001b[0;34m\u001b[0m\u001b[0;34m\u001b[0m\u001b[0m\n\u001b[1;32m    235\u001b[0m         \u001b[0mscorer\u001b[0m \u001b[0;34m=\u001b[0m \u001b[0mscoring\u001b[0m\u001b[0;34m\u001b[0m\u001b[0;34m\u001b[0m\u001b[0m\n",
      "\u001b[0;31mValueError\u001b[0m: 'mean_squared_error' is not a valid scoring value. Use sorted(sklearn.metrics.SCORERS.keys()) to get valid options."
     ]
    }
   ],
   "source": [
    "cross_val_score(reg, X, y, cv=10, scoring='mean_squared_error')"
   ]
  },
  {
   "cell_type": "code",
   "execution_count": 16,
   "metadata": {},
   "outputs": [],
   "source": [
    "import sklearn"
   ]
  },
  {
   "cell_type": "code",
   "execution_count": 17,
   "metadata": {
    "scrolled": true
   },
   "outputs": [
    {
     "data": {
      "text/plain": [
       "['accuracy',\n",
       " 'adjusted_mutual_info_score',\n",
       " 'adjusted_rand_score',\n",
       " 'average_precision',\n",
       " 'balanced_accuracy',\n",
       " 'brier_score_loss',\n",
       " 'completeness_score',\n",
       " 'explained_variance',\n",
       " 'f1',\n",
       " 'f1_macro',\n",
       " 'f1_micro',\n",
       " 'f1_samples',\n",
       " 'f1_weighted',\n",
       " 'fowlkes_mallows_score',\n",
       " 'homogeneity_score',\n",
       " 'mutual_info_score',\n",
       " 'neg_log_loss',\n",
       " 'neg_mean_absolute_error',\n",
       " 'neg_mean_squared_error',\n",
       " 'neg_mean_squared_log_error',\n",
       " 'neg_median_absolute_error',\n",
       " 'normalized_mutual_info_score',\n",
       " 'precision',\n",
       " 'precision_macro',\n",
       " 'precision_micro',\n",
       " 'precision_samples',\n",
       " 'precision_weighted',\n",
       " 'r2',\n",
       " 'recall',\n",
       " 'recall_macro',\n",
       " 'recall_micro',\n",
       " 'recall_samples',\n",
       " 'recall_weighted',\n",
       " 'roc_auc',\n",
       " 'v_measure_score']"
      ]
     },
     "execution_count": 17,
     "metadata": {},
     "output_type": "execute_result"
    }
   ],
   "source": [
    "sorted(sklearn.metrics.SCORERS.keys())"
   ]
  },
  {
   "cell_type": "code",
   "execution_count": 18,
   "metadata": {},
   "outputs": [
    {
     "data": {
      "text/plain": [
       "array([-0.48922052, -0.43335865, -0.8864377 , -0.39091641, -0.7479731 ,\n",
       "       -0.52980278, -0.28798456, -0.77326441, -0.64305557, -0.3275106 ])"
      ]
     },
     "execution_count": 18,
     "metadata": {},
     "output_type": "execute_result"
    }
   ],
   "source": [
    "cross_val_score(reg, X, y, cv=10, scoring='neg_mean_squared_error')"
   ]
  },
  {
   "cell_type": "code",
   "execution_count": 19,
   "metadata": {},
   "outputs": [],
   "source": [
    "from sklearn.metrics import r2_score"
   ]
  },
  {
   "cell_type": "code",
   "execution_count": 20,
   "metadata": {},
   "outputs": [
    {
     "data": {
      "text/plain": [
       "0.6043668160178817"
      ]
     },
     "execution_count": 20,
     "metadata": {},
     "output_type": "execute_result"
    }
   ],
   "source": [
    "r2_score(y_test, y_pred)"
   ]
  },
  {
   "cell_type": "code",
   "execution_count": 21,
   "metadata": {},
   "outputs": [],
   "source": [
    "import matplotlib.pyplot as plt\n",
    "import numpy as np"
   ]
  },
  {
   "cell_type": "code",
   "execution_count": 22,
   "metadata": {},
   "outputs": [
    {
     "data": {
      "image/png": "[encoded data removed]",
      "text/plain": [
       "<Figure size 432x288 with 1 Axes>"
      ]
     },
     "metadata": {
      "needs_background": "light"
     },
     "output_type": "display_data"
    }
   ],
   "source": [
    "plt.scatter(range(len(y_test)), y_test, c='k', label='Data', s=2)\n",
    "plt.legend()\n",
    "plt.show()"
   ]
  },
  {
   "cell_type": "code",
   "execution_count": 23,
   "metadata": {},
   "outputs": [
    {
     "data": {
      "image/png": "[encoded data removed]",
      "text/plain": [
       "<Figure size 432x288 with 1 Axes>"
      ]
     },
     "metadata": {
      "needs_background": "light"
     },
     "output_type": "display_data"
    }
   ],
   "source": [
    "plt.scatter(range(len(y_test)), sorted(y_test), c='k', label='Data', s=2)\n",
    "plt.legend()\n",
    "plt.show()"
   ]
  },
  {
   "cell_type": "code",
   "execution_count": 24,
   "metadata": {},
   "outputs": [
    {
     "data": {
      "text/plain": [
       "array([2477, 4318, 4930, ..., 2806, 2786, 3736])"
      ]
     },
     "execution_count": 24,
     "metadata": {},
     "output_type": "execute_result"
    }
   ],
   "source": [
    "ind = np.argsort(y_test)\n",
    "ind"
   ]
  },
  {
   "cell_type": "code",
   "execution_count": 25,
   "metadata": {
    "collapsed": true
   },
   "outputs": [
    {
     "data": {
      "text/html": [
       "<div>\n",
       "<style scoped>\n",
       "    .dataframe tbody tr th:only-of-type {\n",
       "        vertical-align: middle;\n",
       "    }\n",
       "\n",
       "    .dataframe tbody tr th {\n",
       "        vertical-align: top;\n",
       "    }\n",
       "\n",
       "    .dataframe thead th {\n",
       "        text-align: right;\n",
       "    }\n",
       "</style>\n",
       "<table border=\"1\" class=\"dataframe\">\n",
       "  <thead>\n",
       "    <tr style=\"text-align: right;\">\n",
       "      <th></th>\n",
       "      <th>0</th>\n",
       "    </tr>\n",
       "  </thead>\n",
       "  <tbody>\n",
       "    <tr>\n",
       "      <th>2477</th>\n",
       "      <td>1.513849</td>\n",
       "    </tr>\n",
       "    <tr>\n",
       "      <th>4318</th>\n",
       "      <td>0.465662</td>\n",
       "    </tr>\n",
       "    <tr>\n",
       "      <th>4930</th>\n",
       "      <td>2.256773</td>\n",
       "    </tr>\n",
       "    <tr>\n",
       "      <th>173</th>\n",
       "      <td>2.313086</td>\n",
       "    </tr>\n",
       "    <tr>\n",
       "      <th>948</th>\n",
       "      <td>2.458239</td>\n",
       "    </tr>\n",
       "    <tr>\n",
       "      <th>679</th>\n",
       "      <td>2.459214</td>\n",
       "    </tr>\n",
       "    <tr>\n",
       "      <th>4660</th>\n",
       "      <td>0.779784</td>\n",
       "    </tr>\n",
       "    <tr>\n",
       "      <th>2291</th>\n",
       "      <td>2.309519</td>\n",
       "    </tr>\n",
       "    <tr>\n",
       "      <th>4973</th>\n",
       "      <td>2.056962</td>\n",
       "    </tr>\n",
       "    <tr>\n",
       "      <th>2708</th>\n",
       "      <td>1.367783</td>\n",
       "    </tr>\n",
       "    <tr>\n",
       "      <th>2452</th>\n",
       "      <td>1.280952</td>\n",
       "    </tr>\n",
       "    <tr>\n",
       "      <th>5249</th>\n",
       "      <td>2.099345</td>\n",
       "    </tr>\n",
       "    <tr>\n",
       "      <th>1461</th>\n",
       "      <td>1.983891</td>\n",
       "    </tr>\n",
       "    <tr>\n",
       "      <th>4240</th>\n",
       "      <td>3.507494</td>\n",
       "    </tr>\n",
       "    <tr>\n",
       "      <th>5881</th>\n",
       "      <td>1.812410</td>\n",
       "    </tr>\n",
       "    <tr>\n",
       "      <th>6101</th>\n",
       "      <td>2.639824</td>\n",
       "    </tr>\n",
       "    <tr>\n",
       "      <th>1270</th>\n",
       "      <td>5.008054</td>\n",
       "    </tr>\n",
       "    <tr>\n",
       "      <th>1340</th>\n",
       "      <td>3.282069</td>\n",
       "    </tr>\n",
       "    <tr>\n",
       "      <th>3460</th>\n",
       "      <td>3.517172</td>\n",
       "    </tr>\n",
       "    <tr>\n",
       "      <th>485</th>\n",
       "      <td>2.974879</td>\n",
       "    </tr>\n",
       "    <tr>\n",
       "      <th>4582</th>\n",
       "      <td>3.462845</td>\n",
       "    </tr>\n",
       "    <tr>\n",
       "      <th>5587</th>\n",
       "      <td>2.467156</td>\n",
       "    </tr>\n",
       "    <tr>\n",
       "      <th>2081</th>\n",
       "      <td>2.064400</td>\n",
       "    </tr>\n",
       "    <tr>\n",
       "      <th>269</th>\n",
       "      <td>1.288113</td>\n",
       "    </tr>\n",
       "    <tr>\n",
       "      <th>3538</th>\n",
       "      <td>0.955005</td>\n",
       "    </tr>\n",
       "    <tr>\n",
       "      <th>287</th>\n",
       "      <td>1.236022</td>\n",
       "    </tr>\n",
       "    <tr>\n",
       "      <th>4915</th>\n",
       "      <td>1.997959</td>\n",
       "    </tr>\n",
       "    <tr>\n",
       "      <th>3133</th>\n",
       "      <td>2.353200</td>\n",
       "    </tr>\n",
       "    <tr>\n",
       "      <th>2268</th>\n",
       "      <td>4.208045</td>\n",
       "    </tr>\n",
       "    <tr>\n",
       "      <th>4488</th>\n",
       "      <td>2.000858</td>\n",
       "    </tr>\n",
       "    <tr>\n",
       "      <th>...</th>\n",
       "      <td>...</td>\n",
       "    </tr>\n",
       "    <tr>\n",
       "      <th>5920</th>\n",
       "      <td>0.496603</td>\n",
       "    </tr>\n",
       "    <tr>\n",
       "      <th>3516</th>\n",
       "      <td>2.344882</td>\n",
       "    </tr>\n",
       "    <tr>\n",
       "      <th>2893</th>\n",
       "      <td>1.880434</td>\n",
       "    </tr>\n",
       "    <tr>\n",
       "      <th>5917</th>\n",
       "      <td>2.019718</td>\n",
       "    </tr>\n",
       "    <tr>\n",
       "      <th>4850</th>\n",
       "      <td>1.377816</td>\n",
       "    </tr>\n",
       "    <tr>\n",
       "      <th>2927</th>\n",
       "      <td>0.591448</td>\n",
       "    </tr>\n",
       "    <tr>\n",
       "      <th>5925</th>\n",
       "      <td>1.211645</td>\n",
       "    </tr>\n",
       "    <tr>\n",
       "      <th>4401</th>\n",
       "      <td>3.105024</td>\n",
       "    </tr>\n",
       "    <tr>\n",
       "      <th>2830</th>\n",
       "      <td>1.925976</td>\n",
       "    </tr>\n",
       "    <tr>\n",
       "      <th>1795</th>\n",
       "      <td>6.721445</td>\n",
       "    </tr>\n",
       "    <tr>\n",
       "      <th>895</th>\n",
       "      <td>2.033091</td>\n",
       "    </tr>\n",
       "    <tr>\n",
       "      <th>1322</th>\n",
       "      <td>0.541724</td>\n",
       "    </tr>\n",
       "    <tr>\n",
       "      <th>4406</th>\n",
       "      <td>2.108110</td>\n",
       "    </tr>\n",
       "    <tr>\n",
       "      <th>5625</th>\n",
       "      <td>1.902638</td>\n",
       "    </tr>\n",
       "    <tr>\n",
       "      <th>628</th>\n",
       "      <td>2.633076</td>\n",
       "    </tr>\n",
       "    <tr>\n",
       "      <th>93</th>\n",
       "      <td>1.593080</td>\n",
       "    </tr>\n",
       "    <tr>\n",
       "      <th>3622</th>\n",
       "      <td>1.283302</td>\n",
       "    </tr>\n",
       "    <tr>\n",
       "      <th>482</th>\n",
       "      <td>3.230309</td>\n",
       "    </tr>\n",
       "    <tr>\n",
       "      <th>2829</th>\n",
       "      <td>1.183676</td>\n",
       "    </tr>\n",
       "    <tr>\n",
       "      <th>2784</th>\n",
       "      <td>1.847407</td>\n",
       "    </tr>\n",
       "    <tr>\n",
       "      <th>1346</th>\n",
       "      <td>1.361497</td>\n",
       "    </tr>\n",
       "    <tr>\n",
       "      <th>1809</th>\n",
       "      <td>2.317326</td>\n",
       "    </tr>\n",
       "    <tr>\n",
       "      <th>5949</th>\n",
       "      <td>1.935064</td>\n",
       "    </tr>\n",
       "    <tr>\n",
       "      <th>4425</th>\n",
       "      <td>0.277727</td>\n",
       "    </tr>\n",
       "    <tr>\n",
       "      <th>4427</th>\n",
       "      <td>1.577419</td>\n",
       "    </tr>\n",
       "    <tr>\n",
       "      <th>4435</th>\n",
       "      <td>2.577188</td>\n",
       "    </tr>\n",
       "    <tr>\n",
       "      <th>1353</th>\n",
       "      <td>1.891758</td>\n",
       "    </tr>\n",
       "    <tr>\n",
       "      <th>2806</th>\n",
       "      <td>2.118858</td>\n",
       "    </tr>\n",
       "    <tr>\n",
       "      <th>2786</th>\n",
       "      <td>1.769682</td>\n",
       "    </tr>\n",
       "    <tr>\n",
       "      <th>3736</th>\n",
       "      <td>0.732191</td>\n",
       "    </tr>\n",
       "  </tbody>\n",
       "</table>\n",
       "<p>6192 rows × 1 columns</p>\n",
       "</div>"
      ],
      "text/plain": [
       "             0\n",
       "2477  1.513849\n",
       "4318  0.465662\n",
       "4930  2.256773\n",
       "173   2.313086\n",
       "948   2.458239\n",
       "679   2.459214\n",
       "4660  0.779784\n",
       "2291  2.309519\n",
       "4973  2.056962\n",
       "2708  1.367783\n",
       "2452  1.280952\n",
       "5249  2.099345\n",
       "1461  1.983891\n",
       "4240  3.507494\n",
       "5881  1.812410\n",
       "6101  2.639824\n",
       "1270  5.008054\n",
       "1340  3.282069\n",
       "3460  3.517172\n",
       "485   2.974879\n",
       "4582  3.462845\n",
       "5587  2.467156\n",
       "2081  2.064400\n",
       "269   1.288113\n",
       "3538  0.955005\n",
       "287   1.236022\n",
       "4915  1.997959\n",
       "3133  2.353200\n",
       "2268  4.208045\n",
       "4488  2.000858\n",
       "...        ...\n",
       "5920  0.496603\n",
       "3516  2.344882\n",
       "2893  1.880434\n",
       "5917  2.019718\n",
       "4850  1.377816\n",
       "2927  0.591448\n",
       "5925  1.211645\n",
       "4401  3.105024\n",
       "2830  1.925976\n",
       "1795  6.721445\n",
       "895   2.033091\n",
       "1322  0.541724\n",
       "4406  2.108110\n",
       "5625  1.902638\n",
       "628   2.633076\n",
       "93    1.593080\n",
       "3622  1.283302\n",
       "482   3.230309\n",
       "2829  1.183676\n",
       "2784  1.847407\n",
       "1346  1.361497\n",
       "1809  2.317326\n",
       "5949  1.935064\n",
       "4425  0.277727\n",
       "4427  1.577419\n",
       "4435  2.577188\n",
       "1353  1.891758\n",
       "2806  2.118858\n",
       "2786  1.769682\n",
       "3736  0.732191\n",
       "\n",
       "[6192 rows x 1 columns]"
      ]
     },
     "execution_count": 25,
     "metadata": {},
     "output_type": "execute_result"
    }
   ],
   "source": [
    "y_pred = pd.DataFrame(y_pred, index=ind)\n",
    "y_pred"
   ]
  },
  {
   "cell_type": "code",
   "execution_count": 26,
   "metadata": {},
   "outputs": [
    {
     "data": {
      "image/png": "[encoded data removed]",
      "text/plain": [
       "<Figure size 432x288 with 1 Axes>"
      ]
     },
     "metadata": {
      "needs_background": "light"
     },
     "output_type": "display_data"
    }
   ],
   "source": [
    "plt.plot(range(len(y_test)), sorted(y_test), c='k', label='Data')\n",
    "plt.scatter(range(len(y_pred)), y_pred, c='r', label='predict', s=1)\n",
    "plt.legend()\n",
    "plt.show()"
   ]
  },
  {
   "cell_type": "code",
   "execution_count": 27,
   "metadata": {},
   "outputs": [
    {
     "data": {
      "image/png": "[encoded data removed]",
      "text/plain": [
       "<Figure size 432x288 with 1 Axes>"
      ]
     },
     "metadata": {
      "needs_background": "light"
     },
     "output_type": "display_data"
    }
   ],
   "source": [
    "plt.plot(range(len(y_test)), sorted(y_test), c='k', label='Data')\n",
    "plt.plot(range(len(y_pred)), sorted(y_pred.iloc[:, 0]), c='r', label='predict')\n",
    "plt.legend()\n",
    "plt.show()"
   ]
  },
  {
   "cell_type": "code",
   "execution_count": 28,
   "metadata": {},
   "outputs": [
    {
     "data": {
      "text/plain": [
       "array([-180.05938657,   -5.73952833,  -15.44888656,  -77.5164772 ,\n",
       "        -64.18908062])"
      ]
     },
     "execution_count": 28,
     "metadata": {},
     "output_type": "execute_result"
    }
   ],
   "source": [
    "import numpy as np\n",
    "rng = np.random.RandomState(42)\n",
    "X = rng.randn(100, 80)\n",
    "y = rng.randn(100)\n",
    "cross_val_score(LR(), X, y, cv=5, scoring='r2')"
   ]
  },
  {
   "cell_type": "code",
   "execution_count": 29,
   "metadata": {},
   "outputs": [],
   "source": [
    "# 岭回归和Lasso\n",
    "import numpy as np\n",
    "import pandas as pd\n",
    "from sklearn.linear_model import Ridge, LinearRegression, Lasso\n",
    "from sklearn.model_selection import train_test_split as TTS\n",
    "from sklearn.datasets import fetch_california_housing as fch\n",
    "import matplotlib.pyplot as plt\n",
    "\n",
    "housevalue = fch()\n",
    "\n",
    "X = pd.DataFrame(housevalue.data)\n",
    "y = housevalue.target\n",
    "X.columns = [\"住户收入中位数\",\"房屋使用年代中位数\",\"平均房间数目\"\n",
    "            ,\"平均卧室数目\",\"街区人口\",\"平均入住率\",\"街区的纬度\",\"街区的经度\"]"
   ]
  },
  {
   "cell_type": "code",
   "execution_count": 30,
   "metadata": {},
   "outputs": [],
   "source": [
    "X_train, X_test, y_train, y_test = TTS(X, y, test_size=.3, random_state=420)"
   ]
  },
  {
   "cell_type": "code",
   "execution_count": 31,
   "metadata": {},
   "outputs": [
    {
     "data": {
      "text/plain": [
       "0.6043610352312281"
      ]
     },
     "execution_count": 31,
     "metadata": {},
     "output_type": "execute_result"
    }
   ],
   "source": [
    "reg = Ridge(alpha=1).fit(X_train, y_train)\n",
    "reg.score(X_test, y_test)"
   ]
  },
  {
   "cell_type": "code",
   "execution_count": 32,
   "metadata": {},
   "outputs": [
    {
     "data": {
      "image/png": "[encoded data removed]",
      "text/plain": [
       "<Figure size 432x288 with 1 Axes>"
      ]
     },
     "metadata": {
      "needs_background": "light"
     },
     "output_type": "display_data"
    }
   ],
   "source": [
    "#交叉验证下，与线性回归相比，岭回归的结果如何变化？\n",
    "alpharange = np.arange(1,1001,100)\n",
    "ridge, lr = [], []\n",
    "for alpha in alpharange:\n",
    "    reg = Ridge(alpha=alpha)\n",
    "    linear = LinearRegression()\n",
    "    regs = cross_val_score(reg,X,y,cv=5,scoring = \"r2\").mean()\n",
    "    linears = cross_val_score(linear,X,y,cv=5,scoring = \"r2\").mean()\n",
    "    ridge.append(regs)\n",
    "    lr.append(linears)\n",
    "plt.plot(alpharange,ridge,color=\"red\",label=\"Ridge\")\n",
    "plt.plot(alpharange,lr,color=\"orange\",label=\"LR\")\n",
    "plt.title(\"Mean\")\n",
    "plt.legend()\n",
    "plt.show()"
   ]
  },
  {
   "cell_type": "code",
   "execution_count": 33,
   "metadata": {},
   "outputs": [
    {
     "data": {
      "image/png": "[encoded data removed]",
      "text/plain": [
       "<Figure size 432x288 with 1 Axes>"
      ]
     },
     "metadata": {
      "needs_background": "light"
     },
     "output_type": "display_data"
    }
   ],
   "source": [
    "#细化一下学习曲线\n",
    "alpharange = np.arange(1,201,10)\n",
    "ridge, lr = [], []\n",
    "for alpha in alpharange:\n",
    "    reg = Ridge(alpha=alpha)\n",
    "    linear = LinearRegression()\n",
    "    regs = cross_val_score(reg,X,y,cv=5,scoring = \"r2\").mean()\n",
    "    linears = cross_val_score(linear,X,y,cv=5,scoring = \"r2\").mean()\n",
    "    ridge.append(regs)\n",
    "    lr.append(linears)\n",
    "plt.plot(alpharange,ridge,color=\"red\",label=\"Ridge\")\n",
    "plt.plot(alpharange,lr,color=\"orange\",label=\"LR\")\n",
    "plt.title(\"Mean\")\n",
    "plt.legend()\n",
    "plt.show()"
   ]
  },
  {
   "cell_type": "code",
   "execution_count": 34,
   "metadata": {},
   "outputs": [
    {
     "data": {
      "image/png": "[encoded data removed]",
      "text/plain": [
       "<Figure size 432x288 with 1 Axes>"
      ]
     },
     "metadata": {
      "needs_background": "light"
     },
     "output_type": "display_data"
    }
   ],
   "source": [
    "#模型方差如何变化？\n",
    "alpharange = np.arange(1,1001,100)\n",
    "ridge, lr = [], []\n",
    "for alpha in alpharange:\n",
    "    reg = Ridge(alpha=alpha)\n",
    "    linear = LinearRegression()\n",
    "    varR = cross_val_score(reg,X,y,cv=5,scoring=\"r2\").var()\n",
    "    varLR = cross_val_score(linear,X,y,cv=5,scoring=\"r2\").var()\n",
    "    ridge.append(varR)\n",
    "    lr.append(varLR)\n",
    "plt.plot(alpharange,ridge,color=\"red\",label=\"Ridge\")\n",
    "plt.plot(alpharange,lr,color=\"orange\",label=\"LR\")\n",
    "plt.title(\"Variance\")\n",
    "plt.legend()\n",
    "plt.show()"
   ]
  },
  {
   "cell_type": "code",
   "execution_count": 35,
   "metadata": {},
   "outputs": [],
   "source": [
    "from sklearn.datasets import load_boston"
   ]
  },
  {
   "cell_type": "code",
   "execution_count": 36,
   "metadata": {},
   "outputs": [],
   "source": [
    "X = load_boston().data\n",
    "y = load_boston().target"
   ]
  },
  {
   "cell_type": "code",
   "execution_count": 47,
   "metadata": {},
   "outputs": [],
   "source": [
    "X_train,X_test,y_train,y_test = TTS(X,y,test_size=0.3,random_state=420)"
   ]
  },
  {
   "cell_type": "code",
   "execution_count": 38,
   "metadata": {},
   "outputs": [
    {
     "data": {
      "image/png": "[encoded data removed]",
      "text/plain": [
       "<Figure size 432x288 with 1 Axes>"
      ]
     },
     "metadata": {
      "needs_background": "light"
     },
     "output_type": "display_data"
    }
   ],
   "source": [
    "#先查看方差的变化\n",
    "alpharange = np.arange(1,1001,100)\n",
    "ridge, lr = [], []\n",
    "for alpha in alpharange:\n",
    "    reg = Ridge(alpha=alpha)\n",
    "    linear = LinearRegression()\n",
    "    varR = cross_val_score(reg,X,y,cv=5,scoring=\"r2\").var()\n",
    "    varLR = cross_val_score(linear,X,y,cv=5,scoring=\"r2\").var()\n",
    "    ridge.append(varR)\n",
    "    lr.append(varLR)\n",
    "plt.plot(alpharange,ridge,color=\"red\",label=\"Ridge\")\n",
    "plt.plot(alpharange,lr,color=\"orange\",label=\"LR\")\n",
    "plt.title(\"Variance\")\n",
    "plt.legend()\n",
    "plt.show()"
   ]
  },
  {
   "cell_type": "code",
   "execution_count": 39,
   "metadata": {},
   "outputs": [
    {
     "data": {
      "image/png": "[encoded data removed]",
      "text/plain": [
       "<Figure size 432x288 with 1 Axes>"
      ]
     },
     "metadata": {
      "needs_background": "light"
     },
     "output_type": "display_data"
    }
   ],
   "source": [
    "#查看R2的变化\n",
    "alpharange = np.arange(1,1001,100)\n",
    "ridge, lr = [], []\n",
    "for alpha in alpharange:\n",
    "    reg = Ridge(alpha=alpha)\n",
    "    linear = LinearRegression()\n",
    "    regs = cross_val_score(reg,X,y,cv=5,scoring = \"r2\").mean()\n",
    "    linears = cross_val_score(linear,X,y,cv=5,scoring = \"r2\").mean()\n",
    "    ridge.append(regs)\n",
    "    lr.append(linears)\n",
    "plt.plot(alpharange,ridge,color=\"red\",label=\"Ridge\")\n",
    "plt.plot(alpharange,lr,color=\"orange\",label=\"LR\")\n",
    "plt.title(\"Mean\")\n",
    "plt.legend()\n",
    "plt.show()"
   ]
  },
  {
   "cell_type": "code",
   "execution_count": 40,
   "metadata": {},
   "outputs": [
    {
     "data": {
      "image/png": "[encoded data removed]",
      "text/plain": [
       "<Figure size 432x288 with 1 Axes>"
      ]
     },
     "metadata": {
      "needs_background": "light"
     },
     "output_type": "display_data"
    }
   ],
   "source": [
    "#细化学习曲线\n",
    "alpharange = np.arange(100,300,10)\n",
    "ridge, lr = [], []\n",
    "for alpha in alpharange:\n",
    "    reg = Ridge(alpha=alpha)\n",
    "    #linear = LinearRegression()\n",
    "    regs = cross_val_score(reg,X,y,cv=5,scoring = \"r2\").mean()\n",
    "    #linears = cross_val_score(linear,X,y,cv=5,scoring = \"r2\").mean()\n",
    "    ridge.append(regs)\n",
    "    lr.append(linears)\n",
    "plt.plot(alpharange,ridge,color=\"red\",label=\"Ridge\")\n",
    "#plt.plot(alpharange,lr,color=\"orange\",label=\"LR\")\n",
    "plt.title(\"Mean\")\n",
    "plt.legend()\n",
    "plt.show()"
   ]
  },
  {
   "cell_type": "code",
   "execution_count": 41,
   "metadata": {},
   "outputs": [],
   "source": [
    "from sklearn.linear_model import RidgeCV"
   ]
  },
  {
   "cell_type": "code",
   "execution_count": 43,
   "metadata": {},
   "outputs": [],
   "source": [
    "ridg = RidgeCV(alphas=np.arange(1, 1001, 100), \n",
    "               scoring='r2', \n",
    "               store_cv_values=True).fit(X_train, y_train)"
   ]
  },
  {
   "cell_type": "code",
   "execution_count": 44,
   "metadata": {},
   "outputs": [
    {
     "data": {
      "text/plain": [
       "0.7504796920543482"
      ]
     },
     "execution_count": 44,
     "metadata": {},
     "output_type": "execute_result"
    }
   ],
   "source": [
    "ridg.score(X_test, y_test)"
   ]
  },
  {
   "cell_type": "code",
   "execution_count": 45,
   "metadata": {},
   "outputs": [
    {
     "data": {
      "text/plain": [
       "array([[-1.88034392, -0.13759822,  0.36417849, ...,  1.3741815 ,\n",
       "         1.48196436,  1.57552318],\n",
       "       [ 5.93061036,  5.65402683,  5.57108086, ...,  5.5298725 ,\n",
       "         5.5343662 ,  5.53898217],\n",
       "       [-3.57896188, -4.16066613, -4.25011902, ..., -4.38034088,\n",
       "        -4.3939264 , -4.40635957],\n",
       "       ...,\n",
       "       [-5.07855143, -3.87144229, -3.63060932, ..., -3.44401456,\n",
       "        -3.44592637, -3.45105697],\n",
       "       [ 1.70531038,  1.77735561,  1.88293615, ...,  2.0990883 ,\n",
       "         2.12416378,  2.14654282],\n",
       "       [-5.80247371, -5.26919387, -5.25388409, ..., -5.347734  ,\n",
       "        -5.37468462, -5.40242396]])"
      ]
     },
     "execution_count": 45,
     "metadata": {},
     "output_type": "execute_result"
    }
   ],
   "source": [
    "ridg.cv_values_"
   ]
  },
  {
   "cell_type": "code",
   "execution_count": 46,
   "metadata": {},
   "outputs": [
    {
     "data": {
      "text/plain": [
       "1"
      ]
     },
     "execution_count": 46,
     "metadata": {},
     "output_type": "execute_result"
    }
   ],
   "source": [
    "ridg.alpha_"
   ]
  },
  {
   "cell_type": "code",
   "execution_count": 48,
   "metadata": {},
   "outputs": [],
   "source": [
    "housevalue = fch()\n",
    "\n",
    "X = pd.DataFrame(housevalue.data)\n",
    "y = housevalue.target\n",
    "X.columns = [\"住户收入中位数\",\"房屋使用年代中位数\",\"平均房间数目\"\n",
    "            ,\"平均卧室数目\",\"街区人口\",\"平均入住率\",\"街区的纬度\",\"街区的经度\"]"
   ]
  },
  {
   "cell_type": "code",
   "execution_count": 49,
   "metadata": {},
   "outputs": [],
   "source": [
    "X_train,X_test,y_train,y_test = TTS(X,y,test_size=0.3,random_state=420)"
   ]
  },
  {
   "cell_type": "code",
   "execution_count": 50,
   "metadata": {},
   "outputs": [],
   "source": [
    "reg = LinearRegression().fit(X_train, y_train)"
   ]
  },
  {
   "cell_type": "code",
   "execution_count": 51,
   "metadata": {},
   "outputs": [
    {
     "data": {
      "text/plain": [
       "[43.73589305968403,\n",
       " 1.0211268294493994,\n",
       " -10.780721617317697,\n",
       " 62.64338275363783,\n",
       " 5.216125353261353e-05,\n",
       " -0.3348509646333585,\n",
       " -41.3095937894772,\n",
       " -42.6210953620847]"
      ]
     },
     "execution_count": 51,
     "metadata": {},
     "output_type": "execute_result"
    }
   ],
   "source": [
    "list(reg.coef_*100)"
   ]
  },
  {
   "cell_type": "code",
   "execution_count": 57,
   "metadata": {},
   "outputs": [
    {
     "data": {
      "text/plain": [
       "[42.6340016456014,\n",
       " 1.0439364832937972,\n",
       " -8.64872986456114,\n",
       " 51.48770904687755,\n",
       " 0.000141363515614001,\n",
       " -0.3326091770785092,\n",
       " -40.952268398537655,\n",
       " -42.096046805893586]"
      ]
     },
     "execution_count": 57,
     "metadata": {},
     "output_type": "execute_result"
    }
   ],
   "source": [
    "ridge = Ridge(alpha=100).fit(X_train, y_train)\n",
    "list(ridge.coef_*100)"
   ]
  },
  {
   "cell_type": "code",
   "execution_count": 58,
   "metadata": {},
   "outputs": [
    {
     "data": {
      "text/plain": [
       "[14.581141247629409,\n",
       " 0.6209347344423876,\n",
       " 0.0,\n",
       " -0.0,\n",
       " -0.0002806598632900996,\n",
       " -0.0,\n",
       " -0.0,\n",
       " -0.0]"
      ]
     },
     "execution_count": 58,
     "metadata": {},
     "output_type": "execute_result"
    }
   ],
   "source": [
    "lass = Lasso(alpha=1).fit(X_train, y_train)\n",
    "list(lass.coef_*100)"
   ]
  },
  {
   "cell_type": "code",
   "execution_count": 60,
   "metadata": {},
   "outputs": [
    {
     "data": {
      "image/png": "[encoded data removed]",
      "text/plain": [
       "<Figure size 432x288 with 1 Axes>"
      ]
     },
     "metadata": {
      "needs_background": "light"
     },
     "output_type": "display_data"
    }
   ],
   "source": [
    "#将系数进行绘图\n",
    "plt.plot(range(1,9),(reg.coef_*100).tolist(),color=\"red\",label=\"LR\")\n",
    "plt.plot(range(1,9),(ridge.coef_*100).tolist(),color=\"orange\",label=\"Ridge\")\n",
    "plt.plot(range(1,9),(lass.coef_*100).tolist(),color=\"k\",label=\"Lasso\")\n",
    "plt.plot(range(1,9),[0]*8,color=\"grey\",linestyle=\"--\")\n",
    "plt.xlabel('w') #横坐标是每一个特征所对应的系数\n",
    "plt.legend()\n",
    "plt.show()"
   ]
  }
 ],
 "metadata": {
  "kernelspec": {
   "display_name": "Python 3",
   "language": "python",
   "name": "python3"
  },
  "language_info": {
   "codemirror_mode": {
    "name": "ipython",
    "version": 3
   },
   "file_extension": ".py",
   "mimetype": "text/x-python",
   "name": "python",
   "nbconvert_exporter": "python",
   "pygments_lexer": "ipython3",
   "version": "3.7.3"
  }
 },
 "nbformat": 4,
 "nbformat_minor": 2
}
