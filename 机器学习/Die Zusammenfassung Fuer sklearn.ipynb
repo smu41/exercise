{
 "cells": [
  {
   "cell_type": "markdown",
   "metadata": {},
   "source": [
    "- from sklearn.neighbors import KNeighborsClassifier # KNN模型\n",
    "- from sklearn.tree import DecisionTreeClassifier # 决策树模型\n",
    "- from sklearn.linear_model import Ridge, RidgeCV, LogisticRegression, LinearRegression, Lasso # 岭回归，逻辑回归，线性回归，Lasso回归\n",
    "- from sklearn.naive_bayes import GaussianNB, BernoulliNB, MultinomialNB # 高斯贝叶斯，伯努利贝叶斯，多项式贝叶斯\n",
    "- from sklearn.cluster import KMeans, DBSCAN # k均值模型，DBSCAN模型\n",
    "- from sklearn.svm import SVC # 支持向量机"
   ]
  },
  {
   "cell_type": "markdown",
   "metadata": {},
   "source": [
    "- from sklearn.model_selection import train_test_split\n",
    "- from sklearn.model_selection import cross_val_score, cross_val_predict # 交叉验证\n",
    "- from sklearn.model_selection import GridSearchCV, KFold # 网格搜索，K折验证\n",
    "- from sklearn.model_selection import learning_curve, ShuffleSplit\n",
    "- from sklearn.metrics import confusion_matrix, silhouette_score, silhouette_samples # 混稀矩阵, 所有样本平均轮廓系数, 每个样本轮廓系数\n",
    "- from sklearn.metrics import precision_recall_curve\n",
    "- from sklearn.metrics import roc_curve, auc, roc_auc_score # ROC和AUC\n",
    "- from sklearn.metrics import mean_squared_error\n",
    "- from sklearn.utils import shuffle # 打乱有序序列\n",
    "- from sklearn.preprocessing import OneHotEncoder, OrdinalEncoder, LabelEncoder # 对二维特征数值型编码\n",
    "- from sklearn.preprocessing import StandardScaler, MinMaxScaler, MaxAbsScaler, RobustScaler\n",
    "- from sklearn.preprocessing import KBinsDiscretizer # KBins分箱"
   ]
  },
  {
   "cell_type": "markdown",
   "metadata": {},
   "source": [
    "- from sklearn.ensemble import BaggingClassifier, RandomForestClassifier"
   ]
  },
  {
   "cell_type": "markdown",
   "metadata": {},
   "source": [
    "### 有监督学习\n",
    "1.KNN模型参数\n",
    "- KNeighborsClassifier(n_neighbors=5, weights=’uniform’, algorithm=’auto’, leaf_size=30, p=2, metric=’minkowski’, metric_params=None, n_jobs=None, **kwargs)\n",
    "- n_neighbors 邻近点个数\n",
    "- weights 距离惩罚因子\n",
    "- 官方文档：https://scikit-learn.org/stable/modules/generated/sklearn.neighbors.KNeighborsClassifier.html#sklearn.neighbors.KNeighborsClassifier\n",
    "\n",
    "2.决策树模型参数\n",
    "- DecisionTreeClassifier(criterion=’gini’, splitter=’best’, max_depth=None, min_samples_split=2, min_samples_leaf=1, min_weight_fraction_leaf=0.0, max_features=None, random_state=None, max_leaf_nodes=None, min_impurity_decrease=0.0, min_impurity_split=None, class_weight=None, presort=False)\n",
    "- criterion 决策树计算标准，使用‘gini’或信息熵计算\n",
    "- max_depth 最大树深度\n",
    "- min_samples_split 最小内节点样本数量\n",
    "- min_samples_leaf 最小叶节点样本数量\n",
    "- 官方文档：https://scikit-learn.org/stable/modules/generated/sklearn.tree.DecisionTreeClassifier.html#sklearn.tree.DecisionTreeClassifier\n",
    "\n",
    "3.线性回归模型参数\n",
    "- LinearRegression(fit_intercept=True, normalize=False, copy_X=True, n_jobs=None)\n",
    "- 官方文档：https://scikit-learn.org/stable/modules/generated/sklearn.linear_model.LinearRegression.html#sklearn.linear_model.LinearRegression\n",
    "\n",
    "4.岭回归模型参数\n",
    "- Ridge(alpha=1.0, fit_intercept=True, normalize=False, copy_X=True, max_iter=None, tol=0.001, solver=’auto’, random_state=None)\n",
    "- alpha 正则化系数 使用L2范式 减小多重共线性对模型的影响\n",
    "- 官方文档：https://scikit-learn.org/stable/modules/generated/sklearn.linear_model.Ridge.html#sklearn.linear_model.Ridge\n",
    "\n",
    "5.内置交叉验证的岭回归模型参数\n",
    "- RidgeCV(alphas=(0.1, 1.0, 10.0), fit_intercept=True, normalize=False, scoring=None, cv=None, gcv_mode=None, store_cv_values=False)\n",
    "- alphas 正则化系数 \n",
    "- scoring 交叉验证模型指标\n",
    "- store_cv_values 是否保存交叉验证的结果\n",
    "- cv 交叉验证的模式\n",
    "- 注：cv存在时，store_cv_values不能为True\n",
    "- 官方文档：https://scikit-learn.org/stable/modules/generated/sklearn.linear_model.RidgeCV.html#sklearn.linear_model.RidgeCV\n",
    "\n",
    "6.Lasso模型参数\n",
    "- Lasso(alpha=1.0, fit_intercept=True, normalize=False, precompute=False, copy_X=True, max_iter=1000, tol=0.0001, warm_start=False, positive=False, random_state=None, selection=’cyclic’)\n",
    "- alpha 正则化系数 使用L1范式 减小多重共线性对模型的影响\n",
    "- 官方文档：https://scikit-learn.org/stable/modules/generated/sklearn.linear_model.Lasso.html#sklearn.linear_model.Lasso\n",
    "\n",
    "7.逻辑回归模型参数\n",
    "- LogisticRegression(penalty=’l2’, dual=False, tol=0.0001, C=1.0, fit_intercept=True, intercept_scaling=1, class_weight=None, random_state=None, solver=’warn’, max_iter=100, multi_class=’warn’, verbose=0, warm_start=False, n_jobs=None, l1_ratio=None)\n",
    "- penalty 选择哪种正则化方式\n",
    "- C 正则化强度的倒数\n",
    "- solver\n",
    "- 官方文档：https://scikit-learn.org/stable/modules/generated/sklearn.linear_model.LogisticRegression.html#sklearn.linear_model.LogisticRegression\n",
    "\n",
    "8.高斯朴素贝叶斯模型参数\n",
    "- GaussianNB(priors=None, var_smoothing=1e-09)\n",
    "- 官方文档：https://scikit-learn.org/stable/modules/generated/sklearn.naive_bayes.GaussianNB.html#sklearn.naive_bayes.GaussianNB\n",
    "\n",
    "9.多项式朴素贝叶斯模型参数\n",
    "- MultinomialNB(alpha=1.0, fit_prior=True, class_prior=None)\n",
    "- 官方文档：https://scikit-learn.org/stable/modules/generated/sklearn.naive_bayes.MultinomialNB.html#sklearn.naive_bayes.MultinomialNB\n",
    "\n",
    "10.伯努利朴素贝叶斯\n",
    "- BernoulliNB(alpha=1.0, binarize=0.0, fit_prior=True, class_prior=None)\n",
    "- 官方文档：https://scikit-learn.org/stable/modules/generated/sklearn.naive_bayes.BernoulliNB.html#sklearn.naive_bayes.BernoulliNB\n",
    "- 由于朴素贝叶斯模型都较为简单，我们可以直接使用默认设置，但多项式朴素贝叶斯和伯努利朴素贝叶斯，对数据结构非常敏感，我们需要根据数据的模样选择合适的贝叶斯模型，是贝叶斯模型中十分重要的一点。\n",
    "\n",
    "### 无监督学习\n",
    "1.K均值模型参数\n",
    "- KMeans(n_clusters=8, init=’k-means++’, n_init=10, max_iter=300, tol=0.0001, precompute_distances=’auto’, verbose=0, random_state=None, copy_x=True, n_jobs=None, algorithm=’auto’)\n",
    "- n_clusters 要分的类数\n",
    "- init 初始化质心方式\n",
    "- n_init 每个随机种子运行的次数\n",
    "- random_state 控制每次质心初始化的随机数种子\n",
    "- max_iter 最大迭代次数\n",
    "- tol 两次迭代间inertia\n",
    "- 官方文档：https://scikit-learn.org/stable/modules/generated/sklearn.cluster.KMeans.html#sklearn.cluster.KMeans\n",
    "\n",
    "2.DBSCAN模型参数\n",
    "- DBSCAN(eps=0.5, min_samples=5, metric=’euclidean’, metric_params=None, algorithm=’auto’, leaf_size=30, p=None, n_jobs=None)\n",
    "- eps 两个样本之间的最大距离\n",
    "- min_samples 要被视为核心点的点\n",
    "- 官方文档：https://scikit-learn.org/stable/modules/generated/sklearn.cluster.DBSCAN.html#sklearn.cluster.DBSCAN"
   ]
  },
  {
   "cell_type": "code",
   "execution_count": null,
   "metadata": {},
   "outputs": [],
   "source": []
  }
 ],
 "metadata": {
  "kernelspec": {
   "display_name": "Python 3",
   "language": "python",
   "name": "python3"
  },
  "language_info": {
   "codemirror_mode": {
    "name": "ipython",
    "version": 3
   },
   "file_extension": ".py",
   "mimetype": "text/x-python",
   "name": "python",
   "nbconvert_exporter": "python",
   "pygments_lexer": "ipython3",
   "version": "3.7.3"
  }
 },
 "nbformat": 4,
 "nbformat_minor": 2
}
