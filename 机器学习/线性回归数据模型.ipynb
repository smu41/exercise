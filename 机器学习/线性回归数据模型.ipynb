{
 "cells": [
  {
   "cell_type": "code",
   "execution_count": 4,
   "metadata": {},
   "outputs": [
    {
     "name": "stdout",
     "output_type": "stream",
     "text": [
      "[(1, 4.3), (2, 6.37), (3, 8.31), (4, 10.36), (5, 12.32), (6, 14.24), (7, 16.23), (8, 18.12), (9, 20.18), (10, 22.39)]\n",
      "last val: 0.009734236319259182\n",
      "2.2633814669738257 0.38651336474290504\n"
     ]
    },
    {
     "data": {
      "image/png": "[encoded data removed]",
      "text/plain": [
       "<Figure size 432x288 with 1 Axes>"
      ]
     },
     "metadata": {
      "needs_background": "light"
     },
     "output_type": "display_data"
    }
   ],
   "source": [
    "import random\n",
    "import matplotlib.pyplot as plt\n",
    "# 产生训练数据\n",
    "# y = 2x + 2\n",
    "x_train = list(range(1, 11))\n",
    "y_train = [2*x+2+round(random.uniform(0.1, 0.4), 2) for x in x_train]\n",
    "\n",
    "# 假设函数\n",
    "def h(x, th0, th1):\n",
    "    return th0 + th1*x\n",
    "\n",
    "def train_data(xdata, ydata):\n",
    "    alpha = 0.002\n",
    "    count = 0\n",
    "    # 记录上次误差值\n",
    "    lastval = 0\n",
    "    # 阀值\n",
    "    threshold = 0.01\n",
    "    # 两个参数\n",
    "    theta0 = 0\n",
    "    theta1 = 0\n",
    "    # 训练数据处理\n",
    "    data = list(zip(xdata, ydata))\n",
    "    print(data)\n",
    "    m = len(xdata)\n",
    "    while True:\n",
    "        count += 1\n",
    "        # 记录梯度下降的值\n",
    "        tmp = [0,0]\n",
    "        # 梯度下降\n",
    "        for x, y in data:\n",
    "            tmp[0] += h(x, theta0, theta1) - y\n",
    "            tmp[1] += (h(x, theta0, theta1) - y) * x\n",
    "        # 计算theta0, theta1\n",
    "        theta0 = theta0 - alpha*tmp[0]/m\n",
    "        theta1 = theta1 - alpha*tmp[1]/m\n",
    "        # 计算点到直线的值\n",
    "        val = sum([pow(y-h(x, theta0, theta1), 2) for x, y in data])\n",
    "        # 当前次差值与上一次差值计算，如果小于设置阀值，结束\n",
    "        if abs(val-lastval) < threshold:\n",
    "            print('last val:', abs(val-lastval))\n",
    "            # 绘制最后一条直线\n",
    "            plt.plot(xdata, [h(x, theta0, theta1) for x in xdata])\n",
    "            break\n",
    "        # 记录上次值\n",
    "        lastval = val\n",
    "        # 绘制直线\n",
    "#         plt.plot(xdata, [h(x, theta0, theta1) for x in xdata])\n",
    "    print(theta1, theta0)\n",
    "    return theta1, theta0\n",
    "# 绘制点\n",
    "plt.plot(x_train, y_train, '*')\n",
    "# 开始训练\n",
    "train_data(x_train, y_train)\n",
    "plt.show()"
   ]
  }
 ],
 "metadata": {
  "kernelspec": {
   "display_name": "Python 3",
   "language": "python",
   "name": "python3"
  },
  "language_info": {
   "codemirror_mode": {
    "name": "ipython",
    "version": 3
   },
   "file_extension": ".py",
   "mimetype": "text/x-python",
   "name": "python",
   "nbconvert_exporter": "python",
   "pygments_lexer": "ipython3",
   "version": "3.7.1"
  }
 },
 "nbformat": 4,
 "nbformat_minor": 2
}
