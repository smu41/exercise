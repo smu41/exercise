{
 "cells": [
  {
   "cell_type": "markdown",
   "metadata": {},
   "source": [
    "# 匹配1次还是多次\n",
    "### 学习使用Python的正则表达式\n",
    "### 主要函数：\n",
    "### 1、search\n",
    "### 2、match"
   ]
  },
  {
   "cell_type": "code",
   "execution_count": 3,
   "metadata": {},
   "outputs": [],
   "source": [
    "# 用法\n",
    "import re"
   ]
  },
  {
   "cell_type": "code",
   "execution_count": 2,
   "metadata": {},
   "outputs": [
    {
     "data": {
      "text/plain": [
       "<_sre.SRE_Match object; span=(0, 4), match='sure'>"
      ]
     },
     "execution_count": 2,
     "metadata": {},
     "output_type": "execute_result"
    }
   ],
   "source": [
    "# 使用search对象\n",
    "re.search('sure', 'sure正在使用正则表达式')"
   ]
  },
  {
   "cell_type": "code",
   "execution_count": 3,
   "metadata": {},
   "outputs": [],
   "source": [
    "match = re.search('sure', 'sure正在使用正则表达式')"
   ]
  },
  {
   "cell_type": "code",
   "execution_count": 4,
   "metadata": {},
   "outputs": [
    {
     "data": {
      "text/plain": [
       "<_sre.SRE_Match object; span=(0, 4), match='sure'>"
      ]
     },
     "execution_count": 4,
     "metadata": {},
     "output_type": "execute_result"
    }
   ],
   "source": [
    "match"
   ]
  },
  {
   "cell_type": "code",
   "execution_count": 14,
   "metadata": {},
   "outputs": [],
   "source": [
    "match = re.search('sure', '正在使用sure正则表达式')"
   ]
  },
  {
   "cell_type": "code",
   "execution_count": 16,
   "metadata": {},
   "outputs": [
    {
     "name": "stdout",
     "output_type": "stream",
     "text": [
      "<_sre.SRE_Match object; span=(4, 8), match='sure'>\n"
     ]
    }
   ],
   "source": [
    "print(match)"
   ]
  },
  {
   "cell_type": "code",
   "execution_count": 15,
   "metadata": {},
   "outputs": [
    {
     "name": "stdout",
     "output_type": "stream",
     "text": [
      "sure\n"
     ]
    }
   ],
   "source": [
    "print(match.group())"
   ]
  },
  {
   "cell_type": "code",
   "execution_count": 17,
   "metadata": {},
   "outputs": [
    {
     "name": "stdout",
     "output_type": "stream",
     "text": [
      "sure\n"
     ]
    }
   ],
   "source": [
    "match = re.search('sure', 'sure正在使用正则表达式')\n",
    "if match:\n",
    "    print('sure')\n",
    "else:\n",
    "    print('没找到')"
   ]
  },
  {
   "cell_type": "code",
   "execution_count": 18,
   "metadata": {},
   "outputs": [
    {
     "name": "stdout",
     "output_type": "stream",
     "text": [
      "找到 \\d{3}-\\d{4}-\\d{4} <_sre.SRE_Match object; span=(19, 32), match='256-3857-3756'>\n",
      "256-3857-3756\n"
     ]
    }
   ],
   "source": [
    "import re\n",
    "s = \"\"\"\n",
    "1234-234-566-385\n",
    "1256-3857-3756\n",
    "244-6698-374\n",
    "dsunfhau@qq.com\n",
    "dkngja@163.com\n",
    "jdignuq78@sina.com\n",
    "http://baidu.com\n",
    "https://github.com\n",
    "http://taobao.com\n",
    "\"\"\"\n",
    "\n",
    "target = '\\d{4}'\n",
    "target = '\\d{4}-\\d{4}-\\d{3}'\n",
    "target = '\\d{3}-\\d{4}-\\d{4}'\n",
    "\n",
    "# target = '\\d+-\\d+-\\d+'\n",
    "# target = '[\\d+-?]+'\n",
    "# target = '\\w{5}@\\w{2}.com'\n",
    "\n",
    "match = re.search(target, s)\n",
    "if match:\n",
    "    print('找到', target, match)\n",
    "    print(match.group())\n",
    "else:\n",
    "    print('没找到')"
   ]
  },
  {
   "cell_type": "code",
   "execution_count": 19,
   "metadata": {},
   "outputs": [
    {
     "data": {
      "text/plain": [
       "<_sre.SRE_Match object; span=(0, 3), match='123'>"
      ]
     },
     "execution_count": 19,
     "metadata": {},
     "output_type": "execute_result"
    }
   ],
   "source": [
    "re.match('\\d{3}', '123456')"
   ]
  },
  {
   "cell_type": "code",
   "execution_count": 22,
   "metadata": {},
   "outputs": [
    {
     "data": {
      "text/plain": [
       "<_sre.SRE_Match object; span=(0, 1), match='a'>"
      ]
     },
     "execution_count": 22,
     "metadata": {},
     "output_type": "execute_result"
    }
   ],
   "source": [
    "re.match('a','aofr')"
   ]
  },
  {
   "cell_type": "code",
   "execution_count": 23,
   "metadata": {},
   "outputs": [
    {
     "data": {
      "text/plain": [
       "'\\n1234-234-566-385\\n1256-3857-3756\\n244-6698-374\\ndsunfhau@qq.com\\ndkngja@163.com\\njdignuq78@sina.com\\nhttp://baidu.com\\nhttps://github.com\\nhttp://taobao.com\\n'"
      ]
     },
     "execution_count": 23,
     "metadata": {},
     "output_type": "execute_result"
    }
   ],
   "source": [
    "s"
   ]
  },
  {
   "cell_type": "code",
   "execution_count": 29,
   "metadata": {},
   "outputs": [
    {
     "name": "stdout",
     "output_type": "stream",
     "text": [
      "None\n",
      "no\n"
     ]
    }
   ],
   "source": [
    "# 使用compile生成regex对象\n",
    "regex = re.compile('1234')\n",
    "match = regex.match(s) # \n",
    "# match = regex.search(s) # 1234\n",
    "\n",
    "print(match)\n",
    "if match:\n",
    "    print('find:', match.group())\n",
    "else:\n",
    "    print('no')"
   ]
  },
  {
   "cell_type": "markdown",
   "metadata": {},
   "source": [
    "### 分组匹配"
   ]
  },
  {
   "cell_type": "code",
   "execution_count": 38,
   "metadata": {},
   "outputs": [],
   "source": [
    "regex = re.compile(r'sure') # r, raw, 原始的"
   ]
  },
  {
   "cell_type": "code",
   "execution_count": 30,
   "metadata": {},
   "outputs": [],
   "source": [
    "regex.findall?"
   ]
  },
  {
   "cell_type": "code",
   "execution_count": 33,
   "metadata": {},
   "outputs": [
    {
     "data": {
      "text/plain": [
       "['sure']"
      ]
     },
     "execution_count": 33,
     "metadata": {},
     "output_type": "execute_result"
    }
   ],
   "source": [
    "regex.findall('skghusurenaugbauf9852dnu84')"
   ]
  },
  {
   "cell_type": "code",
   "execution_count": 39,
   "metadata": {},
   "outputs": [
    {
     "data": {
      "text/plain": [
       "['ssjdjiang', 'nia8398andanc', '88303dmsksn']"
      ]
     },
     "execution_count": 39,
     "metadata": {},
     "output_type": "execute_result"
    }
   ],
   "source": [
    "regex.split('ssjdjiangsurenia8398andancsure88303dmsksn')"
   ]
  },
  {
   "cell_type": "code",
   "execution_count": 42,
   "metadata": {},
   "outputs": [
    {
     "data": {
      "text/plain": [
       "<_sre.SRE_Match object; span=(0, 11), match='999.888.1.1'>"
      ]
     },
     "execution_count": 42,
     "metadata": {},
     "output_type": "execute_result"
    }
   ],
   "source": [
    "# 分组\n",
    "\"\"\"\n",
    "IP地址被用来给Internet上的电脑一个编号。\n",
    "大家日常见到的情况是每台联网的PC上都需要有IP地址，才能正常通信。\n",
    "我们可以把“个人电脑”比作“一台电话”，\n",
    "那么“IP地址”就相当于“电话号码”，\n",
    "IP地址通常用“点分十进制”表示成(a.b.c.d)的形式，\n",
    "其中，a,b,c,d都是0~255之间的十进制整数。\n",
    "例:点分十进制IP地址(100.4.5.6)，\n",
    "实际上是32位二进制数(01100100.00000100.00000101.00000110)，\n",
    "简单但错误版本:(\\d{1,3}\\.){3}\\d{1,3}\n",
    "正确的IP地址:((2[0-4]\\d|25[0-5]|[01]?\\d\\d?)\\.){3}(2([0-4]\\d|25[0-5]|[01]?\\d\\d?))\n",
    "\"\"\"\n",
    "\n",
    "regex = re.compile(r'(\\d{1,3}\\.){3}\\d{1,3}')\n",
    "regex.match('192.168.1.1') # 是正常IP\n",
    "regex.match('999.888.1.1') # 不是IP"
   ]
  },
  {
   "cell_type": "code",
   "execution_count": 50,
   "metadata": {},
   "outputs": [
    {
     "name": "stdout",
     "output_type": "stream",
     "text": [
      "<_sre.SRE_Match object; span=(0, 7), match='1.2.3.4'>\n",
      "1.2.3.4\n"
     ]
    }
   ],
   "source": [
    "# 注意命名 pat, re\n",
    "re_ip = re.compile(r'((2[0-4]\\d|25[0-5]|[01]?\\d\\d?)\\.){3}(2[0-4]\\d|25[0-5]|[01]?\\d\\d?)')\n",
    "match = re_ip.match('1.2.3.4')\n",
    "# match = re_ip.match('999.888.1.1')\n",
    "print(match)\n",
    "print(match.group())"
   ]
  },
  {
   "cell_type": "code",
   "execution_count": 53,
   "metadata": {},
   "outputs": [
    {
     "name": "stdout",
     "output_type": "stream",
     "text": [
      "<_sre.SRE_Match object; span=(0, 11), match='192.162.3.4'>\n"
     ]
    }
   ],
   "source": [
    "re_ip = re.compile(r'''\n",
    "    ((2[0-4]\\d|25[0-5]|[01]?\\d\\d?)\\.)  # IP的一组数字，包含数字后面的点\n",
    "    {3}                                # 表示三组数字\n",
    "    (2[0-4]\\d|25[0-5]|[01]?\\d\\d?)      # 最后一组个数字\n",
    "''', re.X)  # 正则可以换行，加注释\n",
    "match = re_ip.match('192.162.3.4')\n",
    "print(match)"
   ]
  },
  {
   "cell_type": "markdown",
   "metadata": {},
   "source": [
    "### 匹配要不要贪心一点"
   ]
  },
  {
   "cell_type": "code",
   "execution_count": 62,
   "metadata": {},
   "outputs": [
    {
     "name": "stdout",
     "output_type": "stream",
     "text": [
      "['no']\n",
      "['no.\" Phone says \"Yes.']\n"
     ]
    }
   ],
   "source": [
    "# 只匹配双引号中的内容(包含引号)\n",
    "re_quote = re.compile(r'\"(.*)\"')\n",
    "text1 = 'Computer says \"no\"'\n",
    "find1 = re_quote.findall(text1)\n",
    "print(find1)\n",
    "text2 = 'Computer says \"no.\" Phone says \"Yes.\"'\n",
    "find2 = re_quote.findall(text2)\n",
    "print(find2)"
   ]
  },
  {
   "cell_type": "code",
   "execution_count": 61,
   "metadata": {},
   "outputs": [
    {
     "name": "stdout",
     "output_type": "stream",
     "text": [
      "['no']\n",
      "['no.', 'Yes.']\n"
     ]
    }
   ],
   "source": [
    "re_quote = re.compile(r'\"(.*?)\"')\n",
    "text1 = 'Computer says \"no\"'\n",
    "find1 = re_quote.findall(text1)\n",
    "print(find1)\n",
    "text2 = 'Computer says \"no.\" Phone says \"Yes.\"'\n",
    "find2 = re_quote.findall(text2)\n",
    "print(find2)"
   ]
  },
  {
   "cell_type": "markdown",
   "metadata": {},
   "source": [
    "### 正则匹配直接替换"
   ]
  },
  {
   "cell_type": "code",
   "execution_count": 1,
   "metadata": {
    "scrolled": true
   },
   "outputs": [
    {
     "name": "stdout",
     "output_type": "stream",
     "text": [
      "sdhufjag****bu279627fnu****ng93875fgianf sdhufjagsurebu279627fnusureng93875fgianf\n"
     ]
    }
   ],
   "source": [
    "s = 'sdhufjagsurebu279627fnusureng93875fgianf'\n",
    "ss = s.replace('sure', '****')\n",
    "print(ss, s)"
   ]
  },
  {
   "cell_type": "code",
   "execution_count": 5,
   "metadata": {},
   "outputs": [],
   "source": [
    "regex = re.compile(r'sure')"
   ]
  },
  {
   "cell_type": "code",
   "execution_count": 6,
   "metadata": {},
   "outputs": [
    {
     "data": {
      "text/plain": [
       "'sdhufjag****bu279627fnu****ng93875fgianf'"
      ]
     },
     "execution_count": 6,
     "metadata": {},
     "output_type": "execute_result"
    }
   ],
   "source": [
    "regex.sub('****', 'sdhufjagsurebu279627fnusureng93875fgianf')"
   ]
  },
  {
   "cell_type": "code",
   "execution_count": 7,
   "metadata": {},
   "outputs": [
    {
     "data": {
      "text/plain": [
       "'替换日期格式: 2018-10-01, 2018-12-15'"
      ]
     },
     "execution_count": 7,
     "metadata": {},
     "output_type": "execute_result"
    }
   ],
   "source": [
    "# 通过分组替换字符串格式，mm/dd/yy -> yy-mm-dd\n",
    "s = '替换日期格式: 10/01/2018, 12/15/2018'\n",
    "re_date = re.compile(r'(\\d+)/(\\d+)/(\\d+)')\n",
    "re_date.sub(r'\\3-\\1-\\2', s)"
   ]
  },
  {
   "cell_type": "code",
   "execution_count": 8,
   "metadata": {},
   "outputs": [
    {
     "data": {
      "text/plain": [
       "'sure正则Python好难学，坚持一下吧，没几个了'"
      ]
     },
     "execution_count": 8,
     "metadata": {},
     "output_type": "execute_result"
    }
   ],
   "source": [
    "# 替换字符串中间多余空格\n",
    "s = '     sure     正则  Python    好难学     ，    坚持一下吧，   没几个   了      '\n",
    "s.strip()\n",
    "re_blank = re.compile(r'\\s+')\n",
    "re_blank.sub('', s)"
   ]
  },
  {
   "cell_type": "code",
   "execution_count": null,
   "metadata": {},
   "outputs": [],
   "source": []
  }
 ],
 "metadata": {
  "kernelspec": {
   "display_name": "Python 3",
   "language": "python",
   "name": "python3"
  },
  "language_info": {
   "codemirror_mode": {
    "name": "ipython",
    "version": 3
   },
   "file_extension": ".py",
   "mimetype": "text/x-python",
   "name": "python",
   "nbconvert_exporter": "python",
   "pygments_lexer": "ipython3",
   "version": "3.6.5"
  }
 },
 "nbformat": 4,
 "nbformat_minor": 2
}
