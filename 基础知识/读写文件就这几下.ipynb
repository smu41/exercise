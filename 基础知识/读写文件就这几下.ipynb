{
 "cells": [
  {
   "cell_type": "markdown",
   "metadata": {},
   "source": [
    "'''\n",
    "\n",
    "● kv编程论\n",
    "\n",
    "    ○ 文件：增删改查 \n",
    "    ○ 处理步骤：打开-操作-关闭 \n",
    "    ○ 作用：长期保存数据（办公，娱乐，图像，文本）\n",
    "    ○ 文本用途：简单数据保存，配置文件，日志...\n",
    "    \n",
    "● 参考：https://docs.python.org/3/library/functions.html?highlight=open#open\n",
    "\n",
    "● 打开方式\n",
    "\n",
    "    ○ 手动挡open+close:\n",
    "        open\n",
    "        close\n",
    "    ○ 自动挡with，自动关闭\n",
    "● 常见操作:\n",
    "\n",
    "    ○ w, r, a, b\n",
    "    ○ write\n",
    "    ○ readline\n",
    "    ○ readlines\n",
    "    ○ seek\n",
    "    ○ tell\n",
    "    ○ read\n",
    "● 相关模块\n",
    "\n",
    "    ○ fnmatch\n",
    "    ○ glob\n",
    "    ○ pickle\n",
    "    ○ StringIO\n",
    "    ○ shelve\n",
    "    \n",
    "'''"
   ]
  },
  {
   "cell_type": "code",
   "execution_count": 1,
   "metadata": {},
   "outputs": [],
   "source": [
    "# 手动挡\n",
    "# f = open('文件名或类似文件的东西', '文件打开模式')\n",
    "# f是文件对象或指针，用来进行读写操作\n",
    "# f.close\n",
    "\n",
    "# 三种模式\n",
    "# w, write, 写\n",
    "# r, read, 读\n",
    "# a, append, 追加内容\n",
    "\n",
    "# 切换到测试目录\n",
    "import os\n",
    "os.chdir('/Users/yangsan/py2018/02-auto')"
   ]
  },
  {
   "cell_type": "code",
   "execution_count": 2,
   "metadata": {},
   "outputs": [
    {
     "data": {
      "text/plain": [
       "'/Users/yangsan/py2018/02-auto'"
      ]
     },
     "execution_count": 2,
     "metadata": {},
     "output_type": "execute_result"
    }
   ],
   "source": [
    "# 确认工作目录\n",
    "%pwd"
   ]
  },
  {
   "cell_type": "code",
   "execution_count": 3,
   "metadata": {},
   "outputs": [],
   "source": [
    "f = open('sure.txt', 'w')  # 用w方式打开文件，不存在则会自动创建\n",
    "f.write('sure')  # 写入字符串\n",
    "f.close()"
   ]
  },
  {
   "cell_type": "code",
   "execution_count": 5,
   "metadata": {},
   "outputs": [],
   "source": [
    "# 自动挡\n",
    "with open('sure-1.txt', 'w') as f:\n",
    "    f.write('sure')"
   ]
  },
  {
   "cell_type": "code",
   "execution_count": 7,
   "metadata": {},
   "outputs": [
    {
     "name": "stdout",
     "output_type": "stream",
     "text": [
      "sure\n"
     ]
    }
   ],
   "source": [
    "with open('sure.txt') as f:  # 文件名后面的r模式默认\n",
    "    data = f.read()  # 读出所有内容， 保存到一个变量\n",
    "    print(data)"
   ]
  },
  {
   "cell_type": "code",
   "execution_count": 8,
   "metadata": {},
   "outputs": [
    {
     "ename": "FileNotFoundError",
     "evalue": "[Errno 2] No such file or directory: 'sure-2.txt'",
     "output_type": "error",
     "traceback": [
      "\u001b[0;31m---------------------------------------------------------------------------\u001b[0m",
      "\u001b[0;31mFileNotFoundError\u001b[0m                         Traceback (most recent call last)",
      "\u001b[0;32m<ipython-input-8-11a2ef94eab7>\u001b[0m in \u001b[0;36m<module>\u001b[0;34m()\u001b[0m\n\u001b[0;32m----> 1\u001b[0;31m \u001b[0;32mwith\u001b[0m \u001b[0mopen\u001b[0m\u001b[0;34m(\u001b[0m\u001b[0;34m'sure-2.txt'\u001b[0m\u001b[0;34m)\u001b[0m \u001b[0;32mas\u001b[0m \u001b[0mf\u001b[0m\u001b[0;34m:\u001b[0m\u001b[0;34m\u001b[0m\u001b[0m\n\u001b[0m\u001b[1;32m      2\u001b[0m     \u001b[0mf\u001b[0m\u001b[0;34m.\u001b[0m\u001b[0mraed\u001b[0m\u001b[0;34m(\u001b[0m\u001b[0;34m)\u001b[0m\u001b[0;34m\u001b[0m\u001b[0m\n",
      "\u001b[0;31mFileNotFoundError\u001b[0m: [Errno 2] No such file or directory: 'sure-2.txt'"
     ]
    }
   ],
   "source": [
    "with open('sure-2.txt') as f:\n",
    "    f.raed()"
   ]
  },
  {
   "cell_type": "code",
   "execution_count": 10,
   "metadata": {},
   "outputs": [
    {
     "name": "stdout",
     "output_type": "stream",
     "text": [
      "sure\n"
     ]
    }
   ],
   "source": [
    "with open('sure.txt') as f:\n",
    "    print(f.readline())"
   ]
  },
  {
   "cell_type": "code",
   "execution_count": 13,
   "metadata": {},
   "outputs": [],
   "source": [
    "with open('sure.txt', 'a') as f:  # 'a' 多几行， 追加到源文件\n",
    "    f.write('\\nsddhhua')\n",
    "    f.write('\\n哈哈哈')\n",
    "    f.write('\\n129475973')\n",
    "    f.write('\\n1isfhu')"
   ]
  },
  {
   "cell_type": "code",
   "execution_count": 14,
   "metadata": {},
   "outputs": [
    {
     "name": "stdout",
     "output_type": "stream",
     "text": [
      "suresddhhua哈哈哈129475973\n",
      "\n",
      "1isfhu\n",
      "\n",
      "sddhhua\n",
      "\n",
      "哈哈哈\n",
      "\n",
      "129475973\n",
      "\n"
     ]
    }
   ],
   "source": [
    "with open('sure.txt') as f:\n",
    "    print(f.readline())\n",
    "    print(f.readline())\n",
    "    print(f.readline())\n",
    "    print(f.readline())\n",
    "    print(f.readline())"
   ]
  },
  {
   "cell_type": "code",
   "execution_count": 16,
   "metadata": {},
   "outputs": [
    {
     "name": "stdout",
     "output_type": "stream",
     "text": [
      "['suresddhhua哈哈哈129475973\\n', '1isfhu\\n', 'sddhhua\\n', '哈哈哈\\n', '129475973\\n', '1isfhu']\n"
     ]
    }
   ],
   "source": [
    "with open('sure.txt') as f:\n",
    "    print(f.readlines())"
   ]
  },
  {
   "cell_type": "code",
   "execution_count": 20,
   "metadata": {},
   "outputs": [
    {
     "name": "stdout",
     "output_type": "stream",
     "text": [
      "0\n",
      "suresddhhua哈哈哈129475973\n",
      "\n",
      "30\n",
      "1isfhu\n",
      "\n",
      "<built-in method tell of _io.TextIOWrapper object at 0x10b7d8cf0>\n",
      "0\n",
      "suresddhhua哈哈哈129475973\n",
      "\n",
      "suresddhhua哈哈哈129475973\n",
      "\n"
     ]
    }
   ],
   "source": [
    "f = open('sure.txt')\n",
    "print(f.tell())\n",
    "print(f.readline())\n",
    "print(f.tell())\n",
    "print(f.readline())\n",
    "print(f.tell)\n",
    "f.seek(0)\n",
    "print(f.tell())\n",
    "print(f.readline())\n",
    "# f.write(22222)  # int error\n",
    "# f.write('22222')  # write mode 'w' or 'a'\n",
    "f.seek(0)\n",
    "\n",
    "print(f.readline())"
   ]
  },
  {
   "cell_type": "code",
   "execution_count": 22,
   "metadata": {},
   "outputs": [
    {
     "name": "stdout",
     "output_type": "stream",
     "text": [
      "sure-1.txt\n",
      "sure.txt\n"
     ]
    }
   ],
   "source": [
    "# 匹配相应后缀名的文件\n",
    "import fnmatch\n",
    "for f in os.listdir('test'):\n",
    "    if fnmatch.fnmatch(f, '*.txt'):\n",
    "        print(f)\n",
    "    elif fnmatch.fnmatch(f, '*.pdf'):\n",
    "        print('find pdf', f)"
   ]
  },
  {
   "cell_type": "code",
   "execution_count": null,
   "metadata": {},
   "outputs": [],
   "source": [
    "# 匹配相应后缀名的文件\n",
    "import fnmatch\n",
    "for f in os.listdir('test'):\n",
    "    if fnmatch.fnmatch(f, '?.txt'):  # 正则， 匹配一个字符\n",
    "        print(f)\n",
    "    elif fnmatch.fnmatch(f, '?.pdf'):\n",
    "        print('find pdf', f)"
   ]
  },
  {
   "cell_type": "code",
   "execution_count": 28,
   "metadata": {},
   "outputs": [
    {
     "name": "stdout",
     "output_type": "stream",
     "text": [
      "1.docx\n"
     ]
    }
   ],
   "source": [
    "# 单纯匹配某种命名规则文件\n",
    "import glob\n",
    "for f in glob.glob('[0-9].docx'):\n",
    "    print(f)"
   ]
  },
  {
   "cell_type": "code",
   "execution_count": 29,
   "metadata": {},
   "outputs": [],
   "source": [
    "# 序列化 pickle， 持久化， 存盘\n",
    "# 后缀名随意， 推荐kpl\n",
    "# 存储Python的数据结构\n",
    "name_list = ['sure', 'lilei', 'hoho']\n",
    "data = {'name': name_list, 'age': (4,5,6)}"
   ]
  },
  {
   "cell_type": "code",
   "execution_count": 30,
   "metadata": {},
   "outputs": [],
   "source": [
    "import pickle\n",
    "with open('data.pkl', 'wb') as f:  # 使用 ‘wb’， 通用二进制存储\n",
    "    pickle.dump(data, f)"
   ]
  },
  {
   "cell_type": "code",
   "execution_count": 31,
   "metadata": {},
   "outputs": [
    {
     "name": "stdout",
     "output_type": "stream",
     "text": [
      "{'name': ['sure', 'lilei', 'hoho'], 'age': (4, 5, 6)}\n"
     ]
    }
   ],
   "source": [
    "with open('data.pkl', 'rb') as f:  # 'rb' 读写都二进制\n",
    "    data = pickle.load(f)\n",
    "    print(data)"
   ]
  },
  {
   "cell_type": "code",
   "execution_count": 35,
   "metadata": {},
   "outputs": [
    {
     "name": "stdout",
     "output_type": "stream",
     "text": [
      "第一行代码\n",
      "试一下print到文件\n",
      "\n"
     ]
    }
   ],
   "source": [
    "# 虚拟文件， 临时文件，不需要真的保存文件到磁盘\n",
    "import io\n",
    "\n",
    "output = io.StringIO()\n",
    "output.write('第一行代码\\n')\n",
    "print('试一下print到文件', file=output)\n",
    "\n",
    "# 取出内容\n",
    "contents = output.getvalue()\n",
    "print(contents)\n",
    "\n",
    "# 关闭文件，清除缓存\n",
    "output.close()"
   ]
  },
  {
   "cell_type": "code",
   "execution_count": 36,
   "metadata": {},
   "outputs": [],
   "source": [
    "# shelve: A \"shelf\" is a persistent, dictionary-like object.\n",
    "# 用类似字典的方式储存任意的Python的对象\n",
    "import shelve\n",
    "with shelve.open('sure.she') as so:\n",
    "    so['sure'] = '存一下这个值'"
   ]
  },
  {
   "cell_type": "code",
   "execution_count": 37,
   "metadata": {},
   "outputs": [
    {
     "name": "stdout",
     "output_type": "stream",
     "text": [
      "存一下这个值\n"
     ]
    }
   ],
   "source": [
    "with shelve.open('sure.she') as so:\n",
    "    print(so['sure'])"
   ]
  }
 ],
 "metadata": {
  "kernelspec": {
   "display_name": "Python 3",
   "language": "python",
   "name": "python3"
  },
  "language_info": {
   "codemirror_mode": {
    "name": "ipython",
    "version": 3
   },
   "file_extension": ".py",
   "mimetype": "text/x-python",
   "name": "python",
   "nbconvert_exporter": "python",
   "pygments_lexer": "ipython3",
   "version": "3.6.5"
  }
 },
 "nbformat": 4,
 "nbformat_minor": 2
}
