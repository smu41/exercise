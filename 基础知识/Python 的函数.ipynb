{
 "cells": [
  {
   "cell_type": "code",
   "execution_count": 1,
   "metadata": {},
   "outputs": [
    {
     "name": "stdout",
     "output_type": "stream",
     "text": [
      "5 1\n"
     ]
    }
   ],
   "source": [
    "import random\n",
    "# PC 随机出2个数\n",
    "mun1 = random.randint(1, 10)\n",
    "mun2 = random.randint(1, 10)\n",
    "print(mun1, mun2)"
   ]
  },
  {
   "cell_type": "code",
   "execution_count": 4,
   "metadata": {},
   "outputs": [],
   "source": [
    "def choose_mun():\n",
    "    mun = random.randint(1, 10)\n",
    "    return mun"
   ]
  },
  {
   "cell_type": "code",
   "execution_count": 6,
   "metadata": {},
   "outputs": [
    {
     "name": "stdout",
     "output_type": "stream",
     "text": [
      "1\n",
      "9\n"
     ]
    }
   ],
   "source": [
    "print(choose_mun())\n",
    "print(choose_mun())"
   ]
  },
  {
   "cell_type": "code",
   "execution_count": 7,
   "metadata": {},
   "outputs": [],
   "source": [
    "def choose_mun(start, end):\n",
    "    mun = random.randint(start, end)\n",
    "    return mun"
   ]
  },
  {
   "cell_type": "code",
   "execution_count": 16,
   "metadata": {},
   "outputs": [
    {
     "data": {
      "text/plain": [
       "8"
      ]
     },
     "execution_count": 16,
     "metadata": {},
     "output_type": "execute_result"
    }
   ],
   "source": [
    "choose_mun(4, 8)"
   ]
  },
  {
   "cell_type": "markdown",
   "metadata": {},
   "source": [
    "## 几种函数参数的用法\n",
    "### 默认参数"
   ]
  },
  {
   "cell_type": "code",
   "execution_count": 18,
   "metadata": {},
   "outputs": [
    {
     "data": {
      "text/plain": [
       "<function __main__.choose_mun(start, end)>"
      ]
     },
     "execution_count": 18,
     "metadata": {},
     "output_type": "execute_result"
    }
   ],
   "source": [
    "choose_mun"
   ]
  },
  {
   "cell_type": "code",
   "execution_count": 19,
   "metadata": {},
   "outputs": [],
   "source": [
    "def choose_mun(start, end = 10):\n",
    "    mun = random.randint(start, end)\n",
    "    return mun"
   ]
  },
  {
   "cell_type": "code",
   "execution_count": 20,
   "metadata": {},
   "outputs": [
    {
     "data": {
      "text/plain": [
       "5"
      ]
     },
     "execution_count": 20,
     "metadata": {},
     "output_type": "execute_result"
    }
   ],
   "source": [
    "choose_mun(2)"
   ]
  },
  {
   "cell_type": "code",
   "execution_count": 21,
   "metadata": {},
   "outputs": [
    {
     "ename": "SyntaxError",
     "evalue": "non-default argument follows default argument (<ipython-input-21-7cab776cd3db>, line 1)",
     "output_type": "error",
     "traceback": [
      "\u001b[0;36m  File \u001b[0;32m\"<ipython-input-21-7cab776cd3db>\"\u001b[0;36m, line \u001b[0;32m1\u001b[0m\n\u001b[0;31m    def choose_mun(start = 2, end):\u001b[0m\n\u001b[0m                  ^\u001b[0m\n\u001b[0;31mSyntaxError\u001b[0m\u001b[0;31m:\u001b[0m non-default argument follows default argument\n"
     ]
    }
   ],
   "source": [
    "def choose_mun(start = 2, end): # 默认参数要放在非默认参数后面！\n",
    "    mun = random.randint(start, end)\n",
    "    return mun"
   ]
  },
  {
   "cell_type": "code",
   "execution_count": 23,
   "metadata": {},
   "outputs": [],
   "source": [
    "def choose_num(start, end = 10, n=5):\n",
    "    numbers = []\n",
    "    for x in range(n):\n",
    "        num = random.randint(start, end)\n",
    "        numbers.append(num)\n",
    "    return numbers"
   ]
  },
  {
   "cell_type": "code",
   "execution_count": 24,
   "metadata": {},
   "outputs": [
    {
     "data": {
      "text/plain": [
       "[6, 9, 2, 3, 5]"
      ]
     },
     "execution_count": 24,
     "metadata": {},
     "output_type": "execute_result"
    }
   ],
   "source": [
    "choose_num(2)"
   ]
  },
  {
   "cell_type": "markdown",
   "metadata": {},
   "source": [
    "## 注意可变对象在默认值的特殊情况"
   ]
  },
  {
   "cell_type": "code",
   "execution_count": 25,
   "metadata": {},
   "outputs": [
    {
     "name": "stdout",
     "output_type": "stream",
     "text": [
      "[1]\n",
      "[1, 3]\n",
      "[1, 3, 5]\n"
     ]
    }
   ],
   "source": [
    "# 默认值只计算一次！注意列表当参默认值\n",
    "def f(a, L = []):\n",
    "    L.append(a)\n",
    "    return L\n",
    "\n",
    "print(f(1))\n",
    "print(f(3))\n",
    "print(f(5))"
   ]
  },
  {
   "cell_type": "code",
   "execution_count": 27,
   "metadata": {},
   "outputs": [
    {
     "ename": "AttributeError",
     "evalue": "'NoneType' object has no attribute 'append'",
     "output_type": "error",
     "traceback": [
      "\u001b[0;31m---------------------------------------------------------------------------\u001b[0m",
      "\u001b[0;31mAttributeError\u001b[0m                            Traceback (most recent call last)",
      "\u001b[0;32m<ipython-input-27-ff023729e670>\u001b[0m in \u001b[0;36m<module>\u001b[0;34m()\u001b[0m\n\u001b[1;32m      2\u001b[0m     \u001b[0mL\u001b[0m\u001b[0;34m.\u001b[0m\u001b[0mappend\u001b[0m\u001b[0;34m(\u001b[0m\u001b[0ma\u001b[0m\u001b[0;34m)\u001b[0m\u001b[0;34m\u001b[0m\u001b[0m\n\u001b[1;32m      3\u001b[0m     \u001b[0;32mreturn\u001b[0m \u001b[0mL\u001b[0m\u001b[0;34m\u001b[0m\u001b[0m\n\u001b[0;32m----> 4\u001b[0;31m \u001b[0mf\u001b[0m\u001b[0;34m(\u001b[0m\u001b[0;36m3\u001b[0m\u001b[0;34m)\u001b[0m\u001b[0;34m\u001b[0m\u001b[0m\n\u001b[0m",
      "\u001b[0;32m<ipython-input-27-ff023729e670>\u001b[0m in \u001b[0;36mf\u001b[0;34m(a, L)\u001b[0m\n\u001b[1;32m      1\u001b[0m \u001b[0;32mdef\u001b[0m \u001b[0mf\u001b[0m\u001b[0;34m(\u001b[0m\u001b[0ma\u001b[0m\u001b[0;34m,\u001b[0m \u001b[0mL\u001b[0m \u001b[0;34m=\u001b[0m \u001b[0;32mNone\u001b[0m\u001b[0;34m)\u001b[0m\u001b[0;34m:\u001b[0m\u001b[0;34m\u001b[0m\u001b[0m\n\u001b[0;32m----> 2\u001b[0;31m     \u001b[0mL\u001b[0m\u001b[0;34m.\u001b[0m\u001b[0mappend\u001b[0m\u001b[0;34m(\u001b[0m\u001b[0ma\u001b[0m\u001b[0;34m)\u001b[0m\u001b[0;34m\u001b[0m\u001b[0m\n\u001b[0m\u001b[1;32m      3\u001b[0m     \u001b[0;32mreturn\u001b[0m \u001b[0mL\u001b[0m\u001b[0;34m\u001b[0m\u001b[0m\n\u001b[1;32m      4\u001b[0m \u001b[0mf\u001b[0m\u001b[0;34m(\u001b[0m\u001b[0;36m3\u001b[0m\u001b[0;34m)\u001b[0m\u001b[0;34m\u001b[0m\u001b[0m\n",
      "\u001b[0;31mAttributeError\u001b[0m: 'NoneType' object has no attribute 'append'"
     ]
    }
   ],
   "source": [
    "def f(a, L = None):\n",
    "    L.append(a)\n",
    "    return L\n",
    "f(3)"
   ]
  },
  {
   "cell_type": "code",
   "execution_count": 28,
   "metadata": {},
   "outputs": [
    {
     "name": "stdout",
     "output_type": "stream",
     "text": [
      "[1]\n",
      "[3]\n",
      "[5]\n"
     ]
    }
   ],
   "source": [
    "def f(a, L = None):\n",
    "    if L is None:\n",
    "        L = []\n",
    "    L.append(a)\n",
    "    return L\n",
    "\n",
    "print(f(1))\n",
    "print(f(3))\n",
    "print(f(5))"
   ]
  },
  {
   "cell_type": "markdown",
   "metadata": {},
   "source": [
    "## 关键词参数 （K=V）"
   ]
  },
  {
   "cell_type": "code",
   "execution_count": 29,
   "metadata": {},
   "outputs": [],
   "source": [
    "def car(color, price = '10', user = 'sure'):\n",
    "    print(f'{user}有一辆{color}色的车,价值{price}块')"
   ]
  },
  {
   "cell_type": "code",
   "execution_count": 30,
   "metadata": {},
   "outputs": [
    {
     "name": "stdout",
     "output_type": "stream",
     "text": [
      "sure有一辆蓝色色的车,价值10块\n"
     ]
    }
   ],
   "source": [
    "car('蓝色') # 使用默认参数"
   ]
  },
  {
   "cell_type": "code",
   "execution_count": 31,
   "metadata": {},
   "outputs": [
    {
     "name": "stdout",
     "output_type": "stream",
     "text": [
      "him有一辆红色色的车,价值30块\n"
     ]
    }
   ],
   "source": [
    "car('红色', '30', 'him') # 对应参数位置"
   ]
  },
  {
   "cell_type": "code",
   "execution_count": 32,
   "metadata": {},
   "outputs": [
    {
     "name": "stdout",
     "output_type": "stream",
     "text": [
      "sure有一辆blue色的车,价值80块\n"
     ]
    }
   ],
   "source": [
    "car(color = 'blue', price = '80') # 使用关键词参数"
   ]
  },
  {
   "cell_type": "code",
   "execution_count": 33,
   "metadata": {},
   "outputs": [
    {
     "ename": "TypeError",
     "evalue": "car() missing 1 required positional argument: 'color'",
     "output_type": "error",
     "traceback": [
      "\u001b[0;31m---------------------------------------------------------------------------\u001b[0m",
      "\u001b[0;31mTypeError\u001b[0m                                 Traceback (most recent call last)",
      "\u001b[0;32m<ipython-input-33-db88d083c8cb>\u001b[0m in \u001b[0;36m<module>\u001b[0;34m()\u001b[0m\n\u001b[0;32m----> 1\u001b[0;31m \u001b[0mcar\u001b[0m\u001b[0;34m(\u001b[0m\u001b[0mprice\u001b[0m \u001b[0;34m=\u001b[0m \u001b[0;36m90\u001b[0m\u001b[0;34m)\u001b[0m \u001b[0;31m# 非默认参数必须赋值\u001b[0m\u001b[0;34m\u001b[0m\u001b[0m\n\u001b[0m",
      "\u001b[0;31mTypeError\u001b[0m: car() missing 1 required positional argument: 'color'"
     ]
    }
   ],
   "source": [
    "car(price = 90) # 非默认参数必须赋值"
   ]
  },
  {
   "cell_type": "code",
   "execution_count": 34,
   "metadata": {},
   "outputs": [
    {
     "name": "stdout",
     "output_type": "stream",
     "text": [
      "lilei有一辆red色的车,价值10块\n"
     ]
    }
   ],
   "source": [
    "car('red', user = 'lilei')"
   ]
  },
  {
   "cell_type": "markdown",
   "metadata": {},
   "source": [
    "## 任意参数"
   ]
  },
  {
   "cell_type": "code",
   "execution_count": 36,
   "metadata": {},
   "outputs": [
    {
     "name": "stdout",
     "output_type": "stream",
     "text": [
      "('red', 10, 'sure')\n",
      "red\n",
      "10\n",
      "sure\n"
     ]
    }
   ],
   "source": [
    "# *args **kwargs: args -> tulpe, kwargs -> dict\n",
    "def car(*args):\n",
    "    print(args)\n",
    "    for k in args:\n",
    "        print(k)\n",
    "\n",
    "car('red', 10, 'sure')"
   ]
  },
  {
   "cell_type": "code",
   "execution_count": 37,
   "metadata": {},
   "outputs": [
    {
     "name": "stdout",
     "output_type": "stream",
     "text": [
      "color :: red\n",
      "price :: 20\n",
      "user :: sure\n"
     ]
    }
   ],
   "source": [
    "def car(**kwargs):\n",
    "    for k, v in kwargs.items():\n",
    "        print(f'{k} :: {v}')\n",
    "\n",
    "# car('rad', 20, 'sure')\n",
    "\n",
    "car(color = 'red', price = '20', user = 'sure')"
   ]
  },
  {
   "cell_type": "code",
   "execution_count": 39,
   "metadata": {},
   "outputs": [
    {
     "name": "stdout",
     "output_type": "stream",
     "text": [
      "args ('T',)\n",
      "kw: {'color': 'red', 'price': '20', 'user': 'sure'}\n",
      "T\n",
      "color::red\n",
      "price::20\n",
      "user::sure\n"
     ]
    }
   ],
   "source": [
    "def car(*args, **kw):\n",
    "    print('args', args)\n",
    "    print('kw:', kw)\n",
    "    for k in args:\n",
    "        print(k)\n",
    "    for k,v in kw.items():\n",
    "        print(f'{k}::{v}')\n",
    "        \n",
    "# car('red', '20', 'sure')\n",
    "\n",
    "\n",
    "car('T', color = 'red', price = '20', user = 'sure')        "
   ]
  },
  {
   "cell_type": "code",
   "execution_count": 41,
   "metadata": {},
   "outputs": [
    {
     "name": "stdout",
     "output_type": "stream",
     "text": [
      "{'color': 'red', 'price': '30'}\n"
     ]
    }
   ],
   "source": [
    "kwargs = {'color':'red', 'price':'30'}\n",
    "def car(**kwargs):\n",
    "    print(kwargs)\n",
    "\n",
    "car(**kwargs)"
   ]
  },
  {
   "cell_type": "code",
   "execution_count": 43,
   "metadata": {},
   "outputs": [
    {
     "name": "stdout",
     "output_type": "stream",
     "text": [
      "red 20\n"
     ]
    }
   ],
   "source": [
    "kwargs = {'color':'red', 'user':'20'}\n",
    "def car(color = 'red', user = 'sure'):\n",
    "    print(color,user)\n",
    "\n",
    "car(**kwargs)\n",
    "\n",
    "# *args"
   ]
  },
  {
   "cell_type": "code",
   "execution_count": 44,
   "metadata": {},
   "outputs": [
    {
     "name": "stdout",
     "output_type": "stream",
     "text": [
      "red 90\n"
     ]
    }
   ],
   "source": [
    "def car(color = 'red', price = 90):\n",
    "    print(color, price)\n",
    "    \n",
    "car() # 必须要求函数传递某个函数？"
   ]
  },
  {
   "cell_type": "code",
   "execution_count": 47,
   "metadata": {},
   "outputs": [
    {
     "name": "stdout",
     "output_type": "stream",
     "text": [
      "blue 10\n"
     ]
    }
   ],
   "source": [
    "def car(color = 'blue', *, price):\n",
    "    print(color,price)\n",
    "    \n",
    "car(price=10)"
   ]
  },
  {
   "cell_type": "markdown",
   "metadata": {},
   "source": [
    "## lambda 表达式, 匿名函数"
   ]
  },
  {
   "cell_type": "code",
   "execution_count": 49,
   "metadata": {},
   "outputs": [
    {
     "data": {
      "text/plain": [
       "9"
      ]
     },
     "execution_count": 49,
     "metadata": {},
     "output_type": "execute_result"
    }
   ],
   "source": [
    "def plus1(x):\n",
    "    return x + 1\n",
    "\n",
    "plus1(8)"
   ]
  },
  {
   "cell_type": "code",
   "execution_count": 50,
   "metadata": {},
   "outputs": [
    {
     "data": {
      "text/plain": [
       "<function __main__.<lambda>(x)>"
      ]
     },
     "execution_count": 50,
     "metadata": {},
     "output_type": "execute_result"
    }
   ],
   "source": [
    "lambda x: x + 1 # lambda 表达式"
   ]
  },
  {
   "cell_type": "code",
   "execution_count": 51,
   "metadata": {},
   "outputs": [],
   "source": [
    "add = lambda x: x + 1"
   ]
  },
  {
   "cell_type": "code",
   "execution_count": 52,
   "metadata": {},
   "outputs": [
    {
     "data": {
      "text/plain": [
       "20"
      ]
     },
     "execution_count": 52,
     "metadata": {},
     "output_type": "execute_result"
    }
   ],
   "source": [
    "add(19)"
   ]
  },
  {
   "cell_type": "code",
   "execution_count": 53,
   "metadata": {},
   "outputs": [
    {
     "data": {
      "text/plain": [
       "'PYTHON'"
      ]
     },
     "execution_count": 53,
     "metadata": {},
     "output_type": "execute_result"
    }
   ],
   "source": [
    "def all_up(s):\n",
    "    return s.strip().upper()\n",
    "all_up('python')"
   ]
  },
  {
   "cell_type": "code",
   "execution_count": 56,
   "metadata": {},
   "outputs": [],
   "source": [
    "all_up_again = lambda s: s.strip().upper()"
   ]
  },
  {
   "cell_type": "code",
   "execution_count": 57,
   "metadata": {},
   "outputs": [
    {
     "data": {
      "text/plain": [
       "'PY'"
      ]
     },
     "execution_count": 57,
     "metadata": {},
     "output_type": "execute_result"
    }
   ],
   "source": [
    "all_up_again('py')"
   ]
  },
  {
   "cell_type": "code",
   "execution_count": 60,
   "metadata": {},
   "outputs": [
    {
     "data": {
      "text/plain": [
       "[1, 3, 5, 7]"
      ]
     },
     "execution_count": 60,
     "metadata": {},
     "output_type": "execute_result"
    }
   ],
   "source": [
    "my_list = [1,2,3,4,5,6,7] # 找到列表里面所有奇数,并返回一个新的列表\n",
    "def odd(*L):\n",
    "    new_list = []\n",
    "    for k in L:\n",
    "        if k % 2 == 1:\n",
    "            new_list.append(k)\n",
    "    return new_list\n",
    "odd(*my_list)"
   ]
  },
  {
   "cell_type": "code",
   "execution_count": 61,
   "metadata": {},
   "outputs": [
    {
     "data": {
      "text/plain": [
       "[1, 3, 5, 7]"
      ]
     },
     "execution_count": 61,
     "metadata": {},
     "output_type": "execute_result"
    }
   ],
   "source": [
    "# filter\n",
    "# filter(lambda x: x % 2 == 1,my_list)\n",
    "list(filter(lambda x: x % 2 == 1, my_list))"
   ]
  },
  {
   "cell_type": "code",
   "execution_count": 63,
   "metadata": {},
   "outputs": [
    {
     "data": {
      "text/plain": [
       "<filter at 0x108c36400>"
      ]
     },
     "execution_count": 63,
     "metadata": {},
     "output_type": "execute_result"
    }
   ],
   "source": [
    "filter(lambda x: x % 2 == 1,my_list)"
   ]
  },
  {
   "cell_type": "markdown",
   "metadata": {},
   "source": [
    "## 函数注释和文档说明(annotations, doc)"
   ]
  },
  {
   "cell_type": "code",
   "execution_count": 64,
   "metadata": {},
   "outputs": [],
   "source": [
    "def add(x, y):\n",
    "    \"\"\"Add x and y together.\"\"\"\n",
    "    return x + y"
   ]
  },
  {
   "cell_type": "code",
   "execution_count": 66,
   "metadata": {},
   "outputs": [
    {
     "data": {
      "text/plain": [
       "'Add x and y together.'"
      ]
     },
     "execution_count": 66,
     "metadata": {},
     "output_type": "execute_result"
    }
   ],
   "source": [
    "add.__doc__"
   ]
  },
  {
   "cell_type": "code",
   "execution_count": 68,
   "metadata": {},
   "outputs": [],
   "source": [
    "def add(x:int, y:'这个数随便') -> int:\n",
    "    \"\"\"Add x and y together.\n",
    "    多添加一行\"\"\"\n",
    "    return x + y"
   ]
  },
  {
   "cell_type": "code",
   "execution_count": 69,
   "metadata": {},
   "outputs": [
    {
     "data": {
      "text/plain": [
       "'Add x and y together.\\n    多添加一行'"
      ]
     },
     "execution_count": 69,
     "metadata": {},
     "output_type": "execute_result"
    }
   ],
   "source": [
    "add.__doc__"
   ]
  },
  {
   "cell_type": "code",
   "execution_count": 70,
   "metadata": {},
   "outputs": [
    {
     "data": {
      "text/plain": [
       "{'x': int, 'y': '这个数随便', 'return': int}"
      ]
     },
     "execution_count": 70,
     "metadata": {},
     "output_type": "execute_result"
    }
   ],
   "source": [
    "add.__annotations__"
   ]
  },
  {
   "cell_type": "code",
   "execution_count": 71,
   "metadata": {},
   "outputs": [
    {
     "data": {
      "text/plain": [
       "7.8999999999999995"
      ]
     },
     "execution_count": 71,
     "metadata": {},
     "output_type": "execute_result"
    }
   ],
   "source": [
    "add(2.3, 5.6)"
   ]
  },
  {
   "cell_type": "code",
   "execution_count": null,
   "metadata": {},
   "outputs": [],
   "source": [
    "# pass, 抢地盘, 凑语法\n",
    "def add():\n",
    "    pass"
   ]
  },
  {
   "cell_type": "markdown",
   "metadata": {},
   "source": [
    "# 作用域"
   ]
  },
  {
   "cell_type": "code",
   "execution_count": 72,
   "metadata": {},
   "outputs": [
    {
     "ename": "UnboundLocalError",
     "evalue": "local variable 'x' referenced before assignment",
     "output_type": "error",
     "traceback": [
      "\u001b[0;31m---------------------------------------------------------------------------\u001b[0m",
      "\u001b[0;31mUnboundLocalError\u001b[0m                         Traceback (most recent call last)",
      "\u001b[0;32m<ipython-input-72-92f709e33694>\u001b[0m in \u001b[0;36m<module>\u001b[0;34m()\u001b[0m\n\u001b[1;32m      9\u001b[0m     \u001b[0mprint\u001b[0m\u001b[0;34m(\u001b[0m\u001b[0mx\u001b[0m\u001b[0;34m)\u001b[0m\u001b[0;34m\u001b[0m\u001b[0m\n\u001b[1;32m     10\u001b[0m \u001b[0;34m\u001b[0m\u001b[0m\n\u001b[0;32m---> 11\u001b[0;31m \u001b[0madd\u001b[0m\u001b[0;34m(\u001b[0m\u001b[0;34m)\u001b[0m\u001b[0;34m\u001b[0m\u001b[0m\n\u001b[0m",
      "\u001b[0;32m<ipython-input-72-92f709e33694>\u001b[0m in \u001b[0;36madd\u001b[0;34m()\u001b[0m\n\u001b[1;32m      6\u001b[0m \u001b[0mx\u001b[0m \u001b[0;34m=\u001b[0m \u001b[0;36m1\u001b[0m \u001b[0;31m# 全局变量\u001b[0m\u001b[0;34m\u001b[0m\u001b[0m\n\u001b[1;32m      7\u001b[0m \u001b[0;32mdef\u001b[0m \u001b[0madd\u001b[0m\u001b[0;34m(\u001b[0m\u001b[0;34m)\u001b[0m\u001b[0;34m:\u001b[0m\u001b[0;34m\u001b[0m\u001b[0m\n\u001b[0;32m----> 8\u001b[0;31m     \u001b[0mx\u001b[0m \u001b[0;34m+=\u001b[0m \u001b[0;36m1\u001b[0m \u001b[0;31m#局部变量赋值错误\u001b[0m\u001b[0;34m\u001b[0m\u001b[0m\n\u001b[0m\u001b[1;32m      9\u001b[0m     \u001b[0mprint\u001b[0m\u001b[0;34m(\u001b[0m\u001b[0mx\u001b[0m\u001b[0;34m)\u001b[0m\u001b[0;34m\u001b[0m\u001b[0m\n\u001b[1;32m     10\u001b[0m \u001b[0;34m\u001b[0m\u001b[0m\n",
      "\u001b[0;31mUnboundLocalError\u001b[0m: local variable 'x' referenced before assignment"
     ]
    }
   ],
   "source": [
    "# 变量作用域, 在自己屋子干自己的事儿\n",
    "# LEGB: Local, Enclosing, Global, Builtin\n",
    "# 翻译: 本地(局部), 封闭, 全局, 内置\n",
    "\n",
    "\n",
    "x = 1 # 全局变量\n",
    "def add():\n",
    "    x += 1 #局部变量赋值错误\n",
    "    print(x)\n",
    "\n",
    "add()"
   ]
  },
  {
   "cell_type": "code",
   "execution_count": 73,
   "metadata": {},
   "outputs": [
    {
     "name": "stdout",
     "output_type": "stream",
     "text": [
      "90\n"
     ]
    }
   ],
   "source": [
    "x = 90 # 全局变量\n",
    "def add():\n",
    "    print(x) # 直接使用全局变量\n",
    "add()"
   ]
  },
  {
   "cell_type": "code",
   "execution_count": 74,
   "metadata": {},
   "outputs": [
    {
     "name": "stdout",
     "output_type": "stream",
     "text": [
      "[2, 3, 5, 88]\n"
     ]
    }
   ],
   "source": [
    "error_list = [2, 3, 5]\n",
    "def big_list():\n",
    "    error_list.append(88)\n",
    "    print(error_list)\n",
    "\n",
    "big_list()"
   ]
  },
  {
   "cell_type": "code",
   "execution_count": 75,
   "metadata": {},
   "outputs": [
    {
     "ename": "UnboundLocalError",
     "evalue": "local variable 'error_list' referenced before assignment",
     "output_type": "error",
     "traceback": [
      "\u001b[0;31m---------------------------------------------------------------------------\u001b[0m",
      "\u001b[0;31mUnboundLocalError\u001b[0m                         Traceback (most recent call last)",
      "\u001b[0;32m<ipython-input-75-4b9886f2e630>\u001b[0m in \u001b[0;36m<module>\u001b[0;34m()\u001b[0m\n\u001b[1;32m      4\u001b[0m     \u001b[0mprint\u001b[0m\u001b[0;34m(\u001b[0m\u001b[0merror_list\u001b[0m\u001b[0;34m)\u001b[0m\u001b[0;34m\u001b[0m\u001b[0m\n\u001b[1;32m      5\u001b[0m \u001b[0;34m\u001b[0m\u001b[0m\n\u001b[0;32m----> 6\u001b[0;31m \u001b[0mbig_list\u001b[0m\u001b[0;34m(\u001b[0m\u001b[0;34m)\u001b[0m\u001b[0;34m\u001b[0m\u001b[0m\n\u001b[0m",
      "\u001b[0;32m<ipython-input-75-4b9886f2e630>\u001b[0m in \u001b[0;36mbig_list\u001b[0;34m()\u001b[0m\n\u001b[1;32m      1\u001b[0m \u001b[0merror_list\u001b[0m \u001b[0;34m=\u001b[0m \u001b[0;34m[\u001b[0m\u001b[0;36m2\u001b[0m\u001b[0;34m,\u001b[0m \u001b[0;36m3\u001b[0m\u001b[0;34m,\u001b[0m \u001b[0;36m5\u001b[0m\u001b[0;34m]\u001b[0m\u001b[0;34m\u001b[0m\u001b[0m\n\u001b[1;32m      2\u001b[0m \u001b[0;32mdef\u001b[0m \u001b[0mbig_list\u001b[0m\u001b[0;34m(\u001b[0m\u001b[0;34m)\u001b[0m\u001b[0;34m:\u001b[0m\u001b[0;34m\u001b[0m\u001b[0m\n\u001b[0;32m----> 3\u001b[0;31m     \u001b[0merror_list\u001b[0m \u001b[0;34m+=\u001b[0m \u001b[0;36m88\u001b[0m\u001b[0;34m\u001b[0m\u001b[0m\n\u001b[0m\u001b[1;32m      4\u001b[0m     \u001b[0mprint\u001b[0m\u001b[0;34m(\u001b[0m\u001b[0merror_list\u001b[0m\u001b[0;34m)\u001b[0m\u001b[0;34m\u001b[0m\u001b[0m\n\u001b[1;32m      5\u001b[0m \u001b[0;34m\u001b[0m\u001b[0m\n",
      "\u001b[0;31mUnboundLocalError\u001b[0m: local variable 'error_list' referenced before assignment"
     ]
    }
   ],
   "source": [
    "error_list = [2, 3, 5]\n",
    "def big_list():\n",
    "    error_list += 88\n",
    "    print(error_list)\n",
    "\n",
    "big_list()"
   ]
  },
  {
   "cell_type": "markdown",
   "metadata": {},
   "source": [
    "# 函数嵌套\n",
    "## 函数是Python里面的一级对象, 可以用在任何地方, 比如函数里面, 这时候的作用域属于封闭作用域。\n",
    "\n",
    "### 一级对象\n",
    "\n",
    "### 在运行时创建\n",
    "### 能赋值给变量或数据结构\n",
    "### 能作为参数传给函数\n",
    "### 能作为函数的返回结果"
   ]
  },
  {
   "cell_type": "code",
   "execution_count": 78,
   "metadata": {},
   "outputs": [],
   "source": [
    "def calc(x, y):\n",
    "    def add (x, y):\n",
    "        print('x+y', x+y)\n",
    "    def sub(x,y):\n",
    "        print('x-y', x-y)\n",
    "    def mul(x, y):\n",
    "        print('x*y',x*y)\n",
    "    \n",
    "    add(x,y)\n",
    "    sub(x,y)"
   ]
  },
  {
   "cell_type": "code",
   "execution_count": 79,
   "metadata": {},
   "outputs": [
    {
     "name": "stdout",
     "output_type": "stream",
     "text": [
      "x+y 8\n",
      "x-y 4\n"
     ]
    }
   ],
   "source": [
    "calc(6,2)"
   ]
  },
  {
   "cell_type": "code",
   "execution_count": 80,
   "metadata": {},
   "outputs": [],
   "source": [
    "def calc(x, y):\n",
    "    def add (x, y):\n",
    "        print('x+y', x+y)\n",
    "    def sub(x,y):\n",
    "        print('x-y', x-y)\n",
    "    def mul(x, y):\n",
    "        print('x*y',x*y)\n",
    "    \n",
    "    add(x,y)\n",
    "    sub(x,y)\n",
    "    \n",
    "    return mul"
   ]
  },
  {
   "cell_type": "code",
   "execution_count": 81,
   "metadata": {},
   "outputs": [
    {
     "name": "stdout",
     "output_type": "stream",
     "text": [
      "x+y 7\n",
      "x-y -3\n"
     ]
    },
    {
     "data": {
      "text/plain": [
       "<function __main__.calc.<locals>.mul(x, y)>"
      ]
     },
     "execution_count": 81,
     "metadata": {},
     "output_type": "execute_result"
    }
   ],
   "source": [
    "calc(2,5)"
   ]
  },
  {
   "cell_type": "code",
   "execution_count": 82,
   "metadata": {},
   "outputs": [
    {
     "name": "stdout",
     "output_type": "stream",
     "text": [
      "x+y 7\n",
      "x-y -3\n"
     ]
    }
   ],
   "source": [
    "c = calc(2,5)"
   ]
  },
  {
   "cell_type": "code",
   "execution_count": 83,
   "metadata": {},
   "outputs": [
    {
     "name": "stdout",
     "output_type": "stream",
     "text": [
      "x*y 12\n"
     ]
    }
   ],
   "source": [
    "c(4,3)"
   ]
  },
  {
   "cell_type": "code",
   "execution_count": 84,
   "metadata": {},
   "outputs": [],
   "source": [
    "# 闭包 函数\n",
    "def hello():\n",
    "    s = 'sure'\n",
    "    def say():\n",
    "#         s += '干什么？'\n",
    "        print(s)\n",
    "    return say"
   ]
  },
  {
   "cell_type": "code",
   "execution_count": 85,
   "metadata": {},
   "outputs": [
    {
     "data": {
      "text/plain": [
       "<function __main__.hello()>"
      ]
     },
     "execution_count": 85,
     "metadata": {},
     "output_type": "execute_result"
    }
   ],
   "source": [
    "hello"
   ]
  },
  {
   "cell_type": "code",
   "execution_count": 86,
   "metadata": {},
   "outputs": [
    {
     "data": {
      "text/plain": [
       "<function __main__.hello.<locals>.say()>"
      ]
     },
     "execution_count": 86,
     "metadata": {},
     "output_type": "execute_result"
    }
   ],
   "source": [
    "hello()"
   ]
  },
  {
   "cell_type": "code",
   "execution_count": 88,
   "metadata": {},
   "outputs": [
    {
     "name": "stdout",
     "output_type": "stream",
     "text": [
      "sure\n"
     ]
    },
    {
     "ename": "NameError",
     "evalue": "name 's' is not defined",
     "output_type": "error",
     "traceback": [
      "\u001b[0;31m---------------------------------------------------------------------------\u001b[0m",
      "\u001b[0;31mNameError\u001b[0m                                 Traceback (most recent call last)",
      "\u001b[0;32m<ipython-input-88-838cbcebfc95>\u001b[0m in \u001b[0;36m<module>\u001b[0;34m()\u001b[0m\n\u001b[1;32m      1\u001b[0m \u001b[0mh\u001b[0m \u001b[0;34m=\u001b[0m \u001b[0mhello\u001b[0m\u001b[0;34m(\u001b[0m\u001b[0;34m)\u001b[0m\u001b[0;34m\u001b[0m\u001b[0m\n\u001b[1;32m      2\u001b[0m \u001b[0mh\u001b[0m\u001b[0;34m(\u001b[0m\u001b[0;34m)\u001b[0m\u001b[0;34m\u001b[0m\u001b[0m\n\u001b[0;32m----> 3\u001b[0;31m \u001b[0mprint\u001b[0m\u001b[0;34m(\u001b[0m\u001b[0;34m's in hello:'\u001b[0m\u001b[0;34m,\u001b[0m \u001b[0ms\u001b[0m\u001b[0;34m)\u001b[0m \u001b[0;31m# 自由变量\u001b[0m\u001b[0;34m\u001b[0m\u001b[0m\n\u001b[0m",
      "\u001b[0;31mNameError\u001b[0m: name 's' is not defined"
     ]
    }
   ],
   "source": [
    "h = hello()\n",
    "h()\n",
    "# print('s in hello:', s) # 自由变量"
   ]
  },
  {
   "cell_type": "code",
   "execution_count": 89,
   "metadata": {},
   "outputs": [
    {
     "name": "stdout",
     "output_type": "stream",
     "text": [
      "干什么\n"
     ]
    }
   ],
   "source": [
    "def say_what():\n",
    "    what = '干什么'\n",
    "    print(what)\n",
    "\n",
    "say_what()"
   ]
  },
  {
   "cell_type": "code",
   "execution_count": 90,
   "metadata": {},
   "outputs": [
    {
     "ename": "NameError",
     "evalue": "name 'what' is not defined",
     "output_type": "error",
     "traceback": [
      "\u001b[0;31m---------------------------------------------------------------------------\u001b[0m",
      "\u001b[0;31mNameError\u001b[0m                                 Traceback (most recent call last)",
      "\u001b[0;32m<ipython-input-90-c4f606d775c7>\u001b[0m in \u001b[0;36m<module>\u001b[0;34m()\u001b[0m\n\u001b[0;32m----> 1\u001b[0;31m \u001b[0mwhat\u001b[0m\u001b[0;34m\u001b[0m\u001b[0m\n\u001b[0m",
      "\u001b[0;31mNameError\u001b[0m: name 'what' is not defined"
     ]
    }
   ],
   "source": [
    "what"
   ]
  },
  {
   "cell_type": "markdown",
   "metadata": {},
   "source": [
    "## 函数闭包, 或者闭包函数, 本质是一种函数, 可以在运行后, 依然存在自由变量。 可以对闭包内的数据进行隐藏，避免使用全局变量"
   ]
  },
  {
   "cell_type": "code",
   "execution_count": 95,
   "metadata": {},
   "outputs": [
    {
     "ename": "UnboundLocalError",
     "evalue": "local variable 's' referenced before assignment",
     "output_type": "error",
     "traceback": [
      "\u001b[0;31m---------------------------------------------------------------------------\u001b[0m",
      "\u001b[0;31mUnboundLocalError\u001b[0m                         Traceback (most recent call last)",
      "\u001b[0;32m<ipython-input-95-9a91026471ee>\u001b[0m in \u001b[0;36m<module>\u001b[0;34m()\u001b[0m\n\u001b[1;32m      7\u001b[0m \u001b[0;34m\u001b[0m\u001b[0m\n\u001b[1;32m      8\u001b[0m \u001b[0mh\u001b[0m \u001b[0;34m=\u001b[0m \u001b[0mhello\u001b[0m\u001b[0;34m(\u001b[0m\u001b[0;34m)\u001b[0m\u001b[0;34m\u001b[0m\u001b[0m\n\u001b[0;32m----> 9\u001b[0;31m \u001b[0mh\u001b[0m\u001b[0;34m(\u001b[0m\u001b[0;34m)\u001b[0m\u001b[0;34m\u001b[0m\u001b[0m\n\u001b[0m\u001b[1;32m     10\u001b[0m \u001b[0;34m\u001b[0m\u001b[0m\n",
      "\u001b[0;32m<ipython-input-95-9a91026471ee>\u001b[0m in \u001b[0;36msay\u001b[0;34m()\u001b[0m\n\u001b[1;32m      2\u001b[0m     \u001b[0ms\u001b[0m \u001b[0;34m=\u001b[0m \u001b[0;34m'sure'\u001b[0m\u001b[0;34m\u001b[0m\u001b[0m\n\u001b[1;32m      3\u001b[0m     \u001b[0;32mdef\u001b[0m \u001b[0msay\u001b[0m\u001b[0;34m(\u001b[0m\u001b[0;34m)\u001b[0m\u001b[0;34m:\u001b[0m\u001b[0;34m\u001b[0m\u001b[0m\n\u001b[0;32m----> 4\u001b[0;31m         \u001b[0ms\u001b[0m \u001b[0;34m+=\u001b[0m \u001b[0;34m'干什么？'\u001b[0m\u001b[0;34m\u001b[0m\u001b[0m\n\u001b[0m\u001b[1;32m      5\u001b[0m         \u001b[0mprint\u001b[0m\u001b[0;34m(\u001b[0m\u001b[0ms\u001b[0m\u001b[0;34m)\u001b[0m\u001b[0;34m\u001b[0m\u001b[0m\n\u001b[1;32m      6\u001b[0m     \u001b[0;32mreturn\u001b[0m \u001b[0msay\u001b[0m\u001b[0;34m\u001b[0m\u001b[0m\n",
      "\u001b[0;31mUnboundLocalError\u001b[0m: local variable 's' referenced before assignment"
     ]
    }
   ],
   "source": [
    "def hello():\n",
    "    s = 'sure'\n",
    "    def say():\n",
    "        s += '干什么？'\n",
    "        print(s)\n",
    "    return say\n",
    "\n",
    "h = hello()\n",
    "h()\n",
    "    "
   ]
  },
  {
   "cell_type": "code",
   "execution_count": 96,
   "metadata": {},
   "outputs": [
    {
     "name": "stdout",
     "output_type": "stream",
     "text": [
      "sure干什么？\n"
     ]
    }
   ],
   "source": [
    "def hello():\n",
    "    s = 'sure'\n",
    "    def say():\n",
    "        nonlocal s # global不推荐使用\n",
    "        s += '干什么？'\n",
    "        print(s)\n",
    "    return say\n",
    "\n",
    "h = hello()\n",
    "h()\n",
    "    "
   ]
  },
  {
   "cell_type": "markdown",
   "metadata": {},
   "source": [
    "# 程序出了异常怎么办？\n",
    "## 使用异常处理模块来捕获错误和代码异常，或清理代码\n",
    "\n",
    "    #https://docs.python.org/3.6/reference/compound_stmts.html#try\n",
    "    try_stmt  ::=  try1_stmt | try2_stmt\n",
    "    try1_stmt ::=  \"try\" \":\" suite\n",
    "                   (\"except\" [expression [\"as\" identifier]] \":\" suite)+\n",
    "                   [\"else\" \":\" suite]\n",
    "                   [\"finally\" \":\" suite]\n",
    "    try2_stmt ::=  \"try\" \":\" suite\n",
    "                   \"finally\" \":\" suite\n",
    "                   "
   ]
  },
  {
   "cell_type": "code",
   "execution_count": 98,
   "metadata": {},
   "outputs": [
    {
     "ename": "SyntaxError",
     "evalue": "EOL while scanning string literal (<ipython-input-98-0c2b82878832>, line 3)",
     "output_type": "error",
     "traceback": [
      "\u001b[0;36m  File \u001b[0;32m\"<ipython-input-98-0c2b82878832>\"\u001b[0;36m, line \u001b[0;32m3\u001b[0m\n\u001b[0;31m    y = 'hello\u001b[0m\n\u001b[0m              ^\u001b[0m\n\u001b[0;31mSyntaxError\u001b[0m\u001b[0;31m:\u001b[0m EOL while scanning string literal\n"
     ]
    }
   ],
   "source": [
    "def test():\n",
    "    try:\n",
    "        y = 'hello\n",
    "    finally:\n",
    "        print('over')\n",
    "\n",
    "test()"
   ]
  },
  {
   "cell_type": "code",
   "execution_count": 100,
   "metadata": {},
   "outputs": [
    {
     "name": "stdout",
     "output_type": "stream",
     "text": [
      "'name'\n",
      "over\n"
     ]
    }
   ],
   "source": [
    "def test():\n",
    "    try:\n",
    "        my_dict = {}\n",
    "        print(my_dict['name'])\n",
    "    except Exception as e: # 直接写Exception不够明确\n",
    "        print(e)\n",
    "    finally:\n",
    "        print('over')\n",
    "        \n",
    "test()"
   ]
  },
  {
   "cell_type": "markdown",
   "metadata": {},
   "source": [
    "# 登录验证命令行版本\n",
    "\n",
    "### 使用函数写一个登录验证程序，并处理异常情况"
   ]
  },
  {
   "cell_type": "code",
   "execution_count": 102,
   "metadata": {},
   "outputs": [
    {
     "name": "stdout",
     "output_type": "stream",
     "text": [
      "username:sure\n",
      "password:kills\n"
     ]
    },
    {
     "data": {
      "text/plain": [
       "'ok'"
      ]
     },
     "execution_count": 102,
     "metadata": {},
     "output_type": "execute_result"
    }
   ],
   "source": [
    "info = {'user':'sure','password':'kills'}\n",
    "\n",
    "def login():\n",
    "    username = input('username:')\n",
    "    password = input('password:')\n",
    "    if username == info['user'] and password == info['password']:\n",
    "        return 'ok'\n",
    "    else:\n",
    "        return 'Error'\n",
    "    \n",
    "login()\n",
    "    "
   ]
  },
  {
   "cell_type": "code",
   "execution_count": 105,
   "metadata": {},
   "outputs": [
    {
     "name": "stdout",
     "output_type": "stream",
     "text": [
      "username:sure\n",
      "password:kills\n",
      "age:qed\n",
      "invalid literal for int() with base 10: 'qed'\n"
     ]
    },
    {
     "data": {
      "text/plain": [
       "'ok'"
      ]
     },
     "execution_count": 105,
     "metadata": {},
     "output_type": "execute_result"
    }
   ],
   "source": [
    "info = {'user':'sure','pwd':'kills'}\n",
    "\n",
    "def login():\n",
    "    username = input('username:')\n",
    "    password = input('password:')\n",
    "    age = input('age:')\n",
    "#     if int(age) < 18:\n",
    "#         print('禁止登录')\n",
    "    try:\n",
    "        if int(age) < 18:\n",
    "            print('禁止登录')\n",
    "        if username == info['user'] and password == info['pwd']:\n",
    "            return 'ok'\n",
    "        else:\n",
    "            return 'Error'\n",
    "    except Exception as e:\n",
    "        print(e)\n",
    "\n",
    "    return 'ok'\n",
    "login()"
   ]
  },
  {
   "cell_type": "markdown",
   "metadata": {},
   "source": [
    "## 密码生成器\n",
    "\n",
    "### 使用函数生成多种密码\n",
    "\n"
   ]
  },
  {
   "cell_type": "code",
   "execution_count": 106,
   "metadata": {},
   "outputs": [
    {
     "data": {
      "text/plain": [
       "'zgKlkUBD'"
      ]
     },
     "execution_count": 106,
     "metadata": {},
     "output_type": "execute_result"
    }
   ],
   "source": [
    "import string\n",
    "import random\n",
    "\n",
    "count = 8\n",
    "str_from = string.ascii_letters + string.digits\n",
    "''.join([random.choice(str_from) for _ in range(count)])"
   ]
  },
  {
   "cell_type": "code",
   "execution_count": 107,
   "metadata": {},
   "outputs": [
    {
     "name": "stdout",
     "output_type": "stream",
     "text": [
      "I7ydfD\n",
      "2ba86Tal\n"
     ]
    }
   ],
   "source": [
    "import string\n",
    "import random\n",
    "\n",
    "def random_pwd(count):\n",
    "    '生成随机密码, 位数=count'\n",
    "    str_from = string.ascii_letters + string.digits\n",
    "    return ''.join([random.choice(str_from) for _ in range(count)])\n",
    "\n",
    "print(random_pwd(6))\n",
    "print(random_pwd(8))"
   ]
  },
  {
   "cell_type": "code",
   "execution_count": 109,
   "metadata": {},
   "outputs": [
    {
     "name": "stdout",
     "output_type": "stream",
     "text": [
      "pwd:asde\n"
     ]
    },
    {
     "data": {
      "text/plain": [
       "'YXNkZQ=='"
      ]
     },
     "execution_count": 109,
     "metadata": {},
     "output_type": "execute_result"
    }
   ],
   "source": [
    "import base64\n",
    "s = input('pwd:')\n",
    "# encode, 编码, 人->计算机\n",
    "# decode, 解码, 计算机->人\n",
    "ss = base64.b64encode(s.encode('utf-8'))\n",
    "ss.decode('utf-8')"
   ]
  },
  {
   "cell_type": "code",
   "execution_count": 111,
   "metadata": {},
   "outputs": [
    {
     "name": "stdout",
     "output_type": "stream",
     "text": [
      "请输入初始密码:aaa\n",
      "生成密码: YWFh\n"
     ]
    }
   ],
   "source": [
    "import base64\n",
    "\n",
    "def custom_pwd(count=8):\n",
    "    origin_pwd = input('请输入初始密码:')\n",
    "    new_pwd = base64.b64encode(origin_pwd.encode('utf-8'))\n",
    "    return new_pwd.decode('utf-8')[:count]\n",
    "\n",
    "print('生成密码:', custom_pwd(8))"
   ]
  },
  {
   "cell_type": "code",
   "execution_count": null,
   "metadata": {},
   "outputs": [],
   "source": [
    "import base64\n",
    "\n",
    "def custom_pwd(count=8):\n",
    "    '生成自定义密码, 长度为count'\n",
    "    origin_pwd = input('请输入初始密码:')\n",
    "    new_pwd = base64.b64encode(origin_pwd.encode('utf-8'))\n",
    "    new_pwd = new_pwd.decode('utf-8')\n",
    "    if len(new_pwd) < count:\n",
    "        new_pwd = new_pwd.ljust(count, 'a')\n",
    "    return new_pwd\n",
    "\n",
    "print('生成密码:', custom_pwd(8))"
   ]
  },
  {
   "cell_type": "code",
   "execution_count": 113,
   "metadata": {},
   "outputs": [
    {
     "name": "stdout",
     "output_type": "stream",
     "text": [
      "生成密码: YXNkZGU=\n"
     ]
    }
   ],
   "source": [
    "import base64\n",
    "\n",
    "def custom_pwd(origin_pwd, count=8):\n",
    "    '生成自定义密码, 长度为count'\n",
    "    new_pwd = base64.b64encode(origin_pwd.encode('utf-8'))\n",
    "    new_pwd = new_pwd.decode('utf-8')\n",
    "    if len(new_pwd) < count:\n",
    "        new_pwd = new_pwd.ljust(count, 'a')\n",
    "    return new_pwd[:count]\n",
    "\n",
    "print('生成密码:', custom_pwd('asdde'))"
   ]
  },
  {
   "cell_type": "code",
   "execution_count": 117,
   "metadata": {},
   "outputs": [
    {
     "name": "stdout",
     "output_type": "stream",
     "text": [
      "before salt: dsdfgjhusrhvh\n",
      "after salt: ZHNkZmdqaHVzcmh2aHN1cmU=\n",
      "生成密码: kZmdqaHV\n"
     ]
    }
   ],
   "source": [
    "import base64\n",
    "\n",
    "def custom_pwd(origin_pwd, salt = 'sure', count=8):\n",
    "    '生成自定义密码, 长度为count'\n",
    "    print('before salt:', origin_pwd)\n",
    "    new_pwd = base64.b64encode((origin_pwd + salt).encode('utf-8'))\n",
    "    new_pwd = new_pwd.decode('utf-8')\n",
    "    print('after salt:', new_pwd)\n",
    "    if len(new_pwd) < count:\n",
    "        new_pwd = new_pwd.ljust(count, 'a')\n",
    "    return new_pwd[3:count + 3]\n",
    "\n",
    "print('生成密码:', custom_pwd('dsdfgjhusrhvh'))"
   ]
  },
  {
   "cell_type": "code",
   "execution_count": 121,
   "metadata": {},
   "outputs": [
    {
     "name": "stdout",
     "output_type": "stream",
     "text": [
      "before salt: aaafgeghdcue\n",
      "after salt: YWFhZmdlZ2hkY3Vlc3VyZQ==\n",
      "生成密码: hZmdlZ2h\n"
     ]
    }
   ],
   "source": [
    "import base64\n",
    "\n",
    "def custom_pwd(origin_pwd, salt = 'sure', count=8, offset = 3):\n",
    "    '生成自定义密码, 长度为count'\n",
    "    print('before salt:', origin_pwd)\n",
    "    new_pwd = base64.b64encode((origin_pwd + salt).encode('utf-8'))\n",
    "    new_pwd = new_pwd.decode('utf-8')\n",
    "    print('after salt:', new_pwd)\n",
    "    if len(new_pwd) < count:\n",
    "        new_pwd = new_pwd.ljust(count, 'a')\n",
    "    return new_pwd[offset:count + offset]\n",
    "\n",
    "print('生成密码:', custom_pwd('aaafgeghdcue'))"
   ]
  },
  {
   "cell_type": "code",
   "execution_count": 124,
   "metadata": {},
   "outputs": [
    {
     "name": "stdout",
     "output_type": "stream",
     "text": [
      "before salt: aaafgeghdcue\n",
      "after salt: YWFhZmdlZ2hkY3Vlc3VyZQ==\n",
      "生成密码: ok, 去粘贴密码吧\n"
     ]
    }
   ],
   "source": [
    "import base64\n",
    "import pyperclip\n",
    "\n",
    "def custom_pwd(origin_pwd, salt='sure', count=8, offset=3):\n",
    "    '生成自定义密码, 长度为count'\n",
    "    print('before salt:', origin_pwd)\n",
    "    new_pwd = base64.b64encode((origin_pwd + salt).encode('utf-8'))\n",
    "    new_pwd = new_pwd.decode('utf-8')\n",
    "    print('after salt:', new_pwd)\n",
    "    if len(new_pwd) < count:\n",
    "        new_pwd = new_pwd.ljust(count, 'a')\n",
    "        \n",
    "    pyperclip.copy(new_pwd[offset : count + offset])\n",
    "    return 'ok, 去粘贴密码吧'\n",
    "\n",
    "print('生成密码:', custom_pwd('aaafgeghdcue'))"
   ]
  },
  {
   "cell_type": "code",
   "execution_count": null,
   "metadata": {},
   "outputs": [],
   "source": []
  }
 ],
 "metadata": {
  "kernelspec": {
   "display_name": "Python 3",
   "language": "python",
   "name": "python3"
  },
  "language_info": {
   "codemirror_mode": {
    "name": "ipython",
    "version": 3
   },
   "file_extension": ".py",
   "mimetype": "text/x-python",
   "name": "python",
   "nbconvert_exporter": "python",
   "pygments_lexer": "ipython3",
   "version": "3.7.3"
  }
 },
 "nbformat": 4,
 "nbformat_minor": 2
}
