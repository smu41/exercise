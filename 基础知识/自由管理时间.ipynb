{
 "cells": [
  {
   "cell_type": "markdown",
   "metadata": {},
   "source": [
    "## 常用时间模块有哪些\n",
    "\n",
    "● time\n",
    "\n",
    "● datetime\n",
    "\n",
    "● python-dateutil(pip install)\n",
    "\n",
    "### 常用操作：\n",
    "\n",
    "● 时间各种格式表示\n",
    "\n",
    "● 各种加减运算\n"
   ]
  },
  {
   "cell_type": "code",
   "execution_count": 1,
   "metadata": {},
   "outputs": [],
   "source": [
    "import time"
   ]
  },
  {
   "cell_type": "code",
   "execution_count": 2,
   "metadata": {},
   "outputs": [
    {
     "data": {
      "text/plain": [
       "1535530942.270647"
      ]
     },
     "execution_count": 2,
     "metadata": {},
     "output_type": "execute_result"
    }
   ],
   "source": [
    "time.time()"
   ]
  },
  {
   "cell_type": "code",
   "execution_count": 3,
   "metadata": {},
   "outputs": [
    {
     "name": "stdout",
     "output_type": "stream",
     "text": [
      "1535531087.0624971\n"
     ]
    }
   ],
   "source": [
    "start = time.time()\n",
    "print(start)"
   ]
  },
  {
   "cell_type": "code",
   "execution_count": 4,
   "metadata": {},
   "outputs": [
    {
     "name": "stdout",
     "output_type": "stream",
     "text": [
      "过了68.46428179740906秒\n"
     ]
    }
   ],
   "source": [
    "end = time.time()  # 计算时间差，单位秒\n",
    "print(f'过了{end-start}秒')"
   ]
  },
  {
   "cell_type": "code",
   "execution_count": 5,
   "metadata": {},
   "outputs": [
    {
     "name": "stdout",
     "output_type": "stream",
     "text": [
      "0\n",
      "1\n",
      "2\n",
      "3\n",
      "4\n",
      "5\n",
      "6\n",
      "7\n",
      "8\n",
      "9\n",
      "过了0.00033593177795410156秒\n"
     ]
    }
   ],
   "source": [
    "start = time.time()\n",
    "# 执行各种操作\n",
    "for i in range(10):\n",
    "    print(i)\n",
    "end = time.time()\n",
    "print(f'过了{end-start}秒')"
   ]
  },
  {
   "cell_type": "code",
   "execution_count": 6,
   "metadata": {},
   "outputs": [],
   "source": [
    "time.sleep?"
   ]
  },
  {
   "cell_type": "code",
   "execution_count": 7,
   "metadata": {},
   "outputs": [
    {
     "name": "stdout",
     "output_type": "stream",
     "text": [
      "0\n",
      "1\n",
      "2\n",
      "3\n",
      "4\n"
     ]
    }
   ],
   "source": [
    "for i in range(5):\n",
    "    print(i)"
   ]
  },
  {
   "cell_type": "code",
   "execution_count": 8,
   "metadata": {},
   "outputs": [
    {
     "name": "stdout",
     "output_type": "stream",
     "text": [
      "0\n",
      "1\n",
      "2\n",
      "3\n",
      "4\n"
     ]
    }
   ],
   "source": [
    "for i in range(5):  # 数秒\n",
    "    time.sleep(1)\n",
    "    print(i)"
   ]
  },
  {
   "cell_type": "code",
   "execution_count": 9,
   "metadata": {},
   "outputs": [
    {
     "data": {
      "text/plain": [
       "time.struct_time(tm_year=2018, tm_mon=8, tm_mday=29, tm_hour=16, tm_min=35, tm_sec=1, tm_wday=2, tm_yday=241, tm_isdst=0)"
      ]
     },
     "execution_count": 9,
     "metadata": {},
     "output_type": "execute_result"
    }
   ],
   "source": [
    "# 结构化时间与时间戳的转换\n",
    "time.localtime()"
   ]
  },
  {
   "cell_type": "code",
   "execution_count": 10,
   "metadata": {},
   "outputs": [
    {
     "data": {
      "text/plain": [
       "time.struct_time(tm_year=2018, tm_mon=8, tm_mday=29, tm_hour=16, tm_min=22, tm_sec=22, tm_wday=2, tm_yday=241, tm_isdst=0)"
      ]
     },
     "execution_count": 10,
     "metadata": {},
     "output_type": "execute_result"
    }
   ],
   "source": [
    "time.localtime(1535530942)"
   ]
  },
  {
   "cell_type": "code",
   "execution_count": 11,
   "metadata": {},
   "outputs": [],
   "source": [
    "time.mktime?"
   ]
  },
  {
   "cell_type": "code",
   "execution_count": 12,
   "metadata": {},
   "outputs": [
    {
     "data": {
      "text/plain": [
       "1535532054.0"
      ]
     },
     "execution_count": 12,
     "metadata": {},
     "output_type": "execute_result"
    }
   ],
   "source": [
    "time.mktime(time.localtime())"
   ]
  },
  {
   "cell_type": "code",
   "execution_count": 14,
   "metadata": {},
   "outputs": [
    {
     "data": {
      "text/plain": [
       "\"\\n%Y Year with century as a decimal number.\\n%m Month as a decimal number [01, 12].\\n%d Day of the month as a decimal number [01, 30].\\n%H Hour (24-hour clock) as a decimal number [00, 23].\\n%M Minute as a decimal number [00, 59].\\n%S Second as a decimal number [00, 61].\\n%z Time zone offset from UTC.\\n%a Locale's abbreviated weekday name.\\n%A Locale's full weekday name.\\n%b Locale's abbreviated month name.\\n%B Locale's full month name.\\n%X Locale's appropriate time representation.\\n\""
      ]
     },
     "execution_count": 14,
     "metadata": {},
     "output_type": "execute_result"
    }
   ],
   "source": [
    "# 结构化时间与字符串格式的转换\n",
    "time.strftime?\n",
    "\n",
    "\"\"\"\n",
    "%Y Year with century as a decimal number.\n",
    "%m Month as a decimal number [01, 12].\n",
    "%d Day of the month as a decimal number [01, 30].\n",
    "%H Hour (24-hour clock) as a decimal number [00, 23].\n",
    "%M Minute as a decimal number [00, 59].\n",
    "%S Second as a decimal number [00, 61].\n",
    "%z Time zone offset from UTC.\n",
    "%a Locale's abbreviated weekday name.\n",
    "%A Locale's full weekday name.\n",
    "%b Locale's abbreviated month name.\n",
    "%B Locale's full month name.\n",
    "%X Locale's appropriate time representation.\n",
    "\"\"\""
   ]
  },
  {
   "cell_type": "code",
   "execution_count": 15,
   "metadata": {},
   "outputs": [
    {
     "data": {
      "text/plain": [
       "'2018-08-29 21:37:38'"
      ]
     },
     "execution_count": 15,
     "metadata": {},
     "output_type": "execute_result"
    }
   ],
   "source": [
    "# 结构化时间与字符串格式的转换\n",
    "# 时间的字符串格式化\n",
    "time.strftime('%Y-%m-%d %X', time.localtime())"
   ]
  },
  {
   "cell_type": "code",
   "execution_count": 16,
   "metadata": {},
   "outputs": [
    {
     "data": {
      "text/plain": [
       "time.struct_time(tm_year=2018, tm_mon=8, tm_mday=29, tm_hour=21, tm_min=37, tm_sec=38, tm_wday=2, tm_yday=241, tm_isdst=-1)"
      ]
     },
     "execution_count": 16,
     "metadata": {},
     "output_type": "execute_result"
    }
   ],
   "source": [
    "time.strptime('2018-08-29 21:37:38', '%Y-%m-%d %X')"
   ]
  },
  {
   "cell_type": "markdown",
   "metadata": {},
   "source": [
    "## datetime 模块的应用\n",
    "\n",
    "https://docs.python.org/3/library/datetime.html?highlight=datetime#module-datetime"
   ]
  },
  {
   "cell_type": "code",
   "execution_count": 17,
   "metadata": {},
   "outputs": [],
   "source": [
    "import datetime"
   ]
  },
  {
   "cell_type": "code",
   "execution_count": 18,
   "metadata": {},
   "outputs": [],
   "source": [
    "from datetime import datetime"
   ]
  },
  {
   "cell_type": "code",
   "execution_count": 19,
   "metadata": {},
   "outputs": [
    {
     "data": {
      "text/plain": [
       "datetime.datetime(2018, 8, 29, 21, 49, 50, 205892)"
      ]
     },
     "execution_count": 19,
     "metadata": {},
     "output_type": "execute_result"
    }
   ],
   "source": [
    "datetime.now()"
   ]
  },
  {
   "cell_type": "code",
   "execution_count": 20,
   "metadata": {},
   "outputs": [
    {
     "data": {
      "text/plain": [
       "'2018-08-29'"
      ]
     },
     "execution_count": 20,
     "metadata": {},
     "output_type": "execute_result"
    }
   ],
   "source": [
    "'{dt:%Y-%m-%d}'.format(dt=datetime.now())"
   ]
  },
  {
   "cell_type": "code",
   "execution_count": 21,
   "metadata": {},
   "outputs": [
    {
     "data": {
      "text/plain": [
       "'2018-08-29 21:56'"
      ]
     },
     "execution_count": 21,
     "metadata": {},
     "output_type": "execute_result"
    }
   ],
   "source": [
    "'{dt:%Y-%m-%d %H:%M}'.format(dt=datetime.now())"
   ]
  },
  {
   "cell_type": "code",
   "execution_count": 22,
   "metadata": {},
   "outputs": [
    {
     "data": {
      "text/plain": [
       "'2018/08/29'"
      ]
     },
     "execution_count": 22,
     "metadata": {},
     "output_type": "execute_result"
    }
   ],
   "source": [
    "'{dt:%Y/%m/%d}'.format(dt=datetime.now())"
   ]
  },
  {
   "cell_type": "code",
   "execution_count": 23,
   "metadata": {},
   "outputs": [],
   "source": [
    "from datetime import date"
   ]
  },
  {
   "cell_type": "code",
   "execution_count": 24,
   "metadata": {},
   "outputs": [],
   "source": [
    "d = date(2022, 3, 1)"
   ]
  },
  {
   "cell_type": "code",
   "execution_count": 25,
   "metadata": {},
   "outputs": [
    {
     "name": "stdout",
     "output_type": "stream",
     "text": [
      "2022-03-01\n"
     ]
    }
   ],
   "source": [
    "print(d)"
   ]
  },
  {
   "cell_type": "code",
   "execution_count": 26,
   "metadata": {},
   "outputs": [
    {
     "data": {
      "text/plain": [
       "datetime.date(2018, 8, 29)"
      ]
     },
     "execution_count": 26,
     "metadata": {},
     "output_type": "execute_result"
    }
   ],
   "source": [
    "date.today()"
   ]
  },
  {
   "cell_type": "code",
   "execution_count": 27,
   "metadata": {},
   "outputs": [
    {
     "name": "stdout",
     "output_type": "stream",
     "text": [
      "2018-08-29\n"
     ]
    }
   ],
   "source": [
    "print(date.today())"
   ]
  },
  {
   "cell_type": "code",
   "execution_count": 28,
   "metadata": {},
   "outputs": [],
   "source": [
    "from datetime import time"
   ]
  },
  {
   "cell_type": "code",
   "execution_count": 29,
   "metadata": {},
   "outputs": [],
   "source": [
    "t = time(3, 4)"
   ]
  },
  {
   "cell_type": "code",
   "execution_count": 30,
   "metadata": {},
   "outputs": [
    {
     "name": "stdout",
     "output_type": "stream",
     "text": [
      "03:04:00\n"
     ]
    }
   ],
   "source": [
    "print(t)"
   ]
  },
  {
   "cell_type": "code",
   "execution_count": 31,
   "metadata": {},
   "outputs": [],
   "source": [
    "# 时间中的各种计算\n",
    "from datetime import timedelta"
   ]
  },
  {
   "cell_type": "code",
   "execution_count": 33,
   "metadata": {},
   "outputs": [
    {
     "name": "stdout",
     "output_type": "stream",
     "text": [
      "1 day, 0:00:00\n"
     ]
    }
   ],
   "source": [
    "d = timedelta(days = 1)  # 根据参数，生成多少间隔的一个时间间隔对象\n",
    "print(d)"
   ]
  },
  {
   "cell_type": "code",
   "execution_count": 34,
   "metadata": {},
   "outputs": [
    {
     "name": "stdout",
     "output_type": "stream",
     "text": [
      "1:00:00\n"
     ]
    }
   ],
   "source": [
    "d = timedelta(hours=1)\n",
    "print(d)"
   ]
  },
  {
   "cell_type": "code",
   "execution_count": 35,
   "metadata": {},
   "outputs": [
    {
     "name": "stdout",
     "output_type": "stream",
     "text": [
      "1 day, 5:00:00\n"
     ]
    }
   ],
   "source": [
    "d = timedelta(days=1, hours=5)\n",
    "print(d)"
   ]
  },
  {
   "cell_type": "code",
   "execution_count": 36,
   "metadata": {},
   "outputs": [
    {
     "name": "stdout",
     "output_type": "stream",
     "text": [
      "2018-08-29\n"
     ]
    }
   ],
   "source": [
    "today = date.today()\n",
    "print(today)"
   ]
  },
  {
   "cell_type": "code",
   "execution_count": 37,
   "metadata": {},
   "outputs": [
    {
     "name": "stdout",
     "output_type": "stream",
     "text": [
      "2018-08-30\n"
     ]
    }
   ],
   "source": [
    "future = today + d\n",
    "print(future)"
   ]
  },
  {
   "cell_type": "code",
   "execution_count": 38,
   "metadata": {},
   "outputs": [
    {
     "name": "stdout",
     "output_type": "stream",
     "text": [
      "2018-09-10\n"
     ]
    }
   ],
   "source": [
    "future = today + d * 10\n",
    "print(future)"
   ]
  },
  {
   "cell_type": "code",
   "execution_count": 42,
   "metadata": {},
   "outputs": [
    {
     "name": "stdout",
     "output_type": "stream",
     "text": [
      "<class 'datetime.date'>\n",
      "29\n",
      "8\n"
     ]
    }
   ],
   "source": [
    "today = date.today()\n",
    "print(type(today))\n",
    "print(today.day)\n",
    "print(today.month)"
   ]
  },
  {
   "cell_type": "code",
   "execution_count": 41,
   "metadata": {},
   "outputs": [
    {
     "name": "stdout",
     "output_type": "stream",
     "text": [
      "12 days, 0:00:00\n"
     ]
    }
   ],
   "source": [
    "count = future - today\n",
    "print(count)"
   ]
  },
  {
   "cell_type": "code",
   "execution_count": 43,
   "metadata": {},
   "outputs": [
    {
     "data": {
      "text/plain": [
       "datetime.timedelta"
      ]
     },
     "execution_count": 43,
     "metadata": {},
     "output_type": "execute_result"
    }
   ],
   "source": [
    "type(count)"
   ]
  },
  {
   "cell_type": "code",
   "execution_count": 44,
   "metadata": {},
   "outputs": [
    {
     "data": {
      "text/plain": [
       "12"
      ]
     },
     "execution_count": 44,
     "metadata": {},
     "output_type": "execute_result"
    }
   ],
   "source": [
    "count.days"
   ]
  },
  {
   "cell_type": "code",
   "execution_count": 45,
   "metadata": {},
   "outputs": [
    {
     "name": "stdout",
     "output_type": "stream",
     "text": [
      "1535552022.65209\n"
     ]
    }
   ],
   "source": [
    "# 从时间戳生成datetime\n",
    "import time\n",
    "t = time.time()\n",
    "print(t)"
   ]
  },
  {
   "cell_type": "code",
   "execution_count": 46,
   "metadata": {},
   "outputs": [
    {
     "data": {
      "text/plain": [
       "datetime.datetime(2018, 8, 29, 14, 13, 42, 652090)"
      ]
     },
     "execution_count": 46,
     "metadata": {},
     "output_type": "execute_result"
    }
   ],
   "source": [
    "from datetime import datetime\n",
    "datetime.utcfromtimestamp(t)"
   ]
  },
  {
   "cell_type": "code",
   "execution_count": 47,
   "metadata": {},
   "outputs": [],
   "source": [
    "# 格式化字符串表示时间\n",
    "# strftime: % -> 1999-12-12, 把代码里面的时间对象转成人类认识的字符串，f: format\n",
    "# strptime: 2000-12-12 -> object, 把人类认识的字符串，转成代码里面的对象， p, parse"
   ]
  },
  {
   "cell_type": "code",
   "execution_count": 48,
   "metadata": {},
   "outputs": [],
   "source": [
    "from datetime import datetime"
   ]
  },
  {
   "cell_type": "code",
   "execution_count": 49,
   "metadata": {},
   "outputs": [
    {
     "name": "stdout",
     "output_type": "stream",
     "text": [
      "2012-02-02 02:02:00\n"
     ]
    }
   ],
   "source": [
    "dt = datetime(2012, 2, 2, 2, 2)\n",
    "print(dt)"
   ]
  },
  {
   "cell_type": "code",
   "execution_count": 50,
   "metadata": {},
   "outputs": [
    {
     "data": {
      "text/plain": [
       "'2012-02-02 02:02:00'"
      ]
     },
     "execution_count": 50,
     "metadata": {},
     "output_type": "execute_result"
    }
   ],
   "source": [
    "dt.strftime('%Y-%m-%d %X')"
   ]
  },
  {
   "cell_type": "code",
   "execution_count": 51,
   "metadata": {},
   "outputs": [
    {
     "data": {
      "text/plain": [
       "'Thursday February 2012'"
      ]
     },
     "execution_count": 51,
     "metadata": {},
     "output_type": "execute_result"
    }
   ],
   "source": [
    "dt.strftime('%A %B %Y')"
   ]
  },
  {
   "cell_type": "code",
   "execution_count": 52,
   "metadata": {},
   "outputs": [
    {
     "data": {
      "text/plain": [
       "datetime.datetime(2002, 8, 1, 0, 0)"
      ]
     },
     "execution_count": 52,
     "metadata": {},
     "output_type": "execute_result"
    }
   ],
   "source": [
    "datetime.strptime('Sunday August 2002', '%A %B %Y')  # 拼格式，原路返回"
   ]
  },
  {
   "cell_type": "code",
   "execution_count": 53,
   "metadata": {},
   "outputs": [
    {
     "data": {
      "text/plain": [
       "datetime.datetime(2002, 2, 2, 2, 2)"
      ]
     },
     "execution_count": 53,
     "metadata": {},
     "output_type": "execute_result"
    }
   ],
   "source": [
    "datetime.strptime('2002/02/02 02:02:00', '%Y/%m/%d %X')"
   ]
  },
  {
   "cell_type": "markdown",
   "metadata": {},
   "source": [
    "## 使用dateutil更好控制日期"
   ]
  },
  {
   "cell_type": "code",
   "execution_count": 54,
   "metadata": {},
   "outputs": [],
   "source": [
    "# pip install python-dateutil\n",
    "# timedelta不够用，处理跨星期，跨越年的计算麻烦\n",
    "# class datetime.timedelta(days=0, seconds=0, microseconds=0, milliseconds=0, minutes=0, hours=0, weeks=0)"
   ]
  },
  {
   "cell_type": "code",
   "execution_count": 55,
   "metadata": {},
   "outputs": [],
   "source": [
    "# 下周的星期三是几号\n",
    "from datetime import datetime\n",
    "from dateutil.relativedelta import relativedelta\n",
    "from dateutil.rrule import *  # MO, TU, WE, TH, FR"
   ]
  },
  {
   "cell_type": "code",
   "execution_count": 56,
   "metadata": {},
   "outputs": [
    {
     "name": "stdout",
     "output_type": "stream",
     "text": [
      "2018-08-29 22:32:26.658195\n"
     ]
    }
   ],
   "source": [
    "d = datetime.now()\n",
    "print(d)"
   ]
  },
  {
   "cell_type": "code",
   "execution_count": 57,
   "metadata": {},
   "outputs": [
    {
     "name": "stdout",
     "output_type": "stream",
     "text": [
      "2018-08-29 22:32:26.658195\n"
     ]
    }
   ],
   "source": [
    "print(d + relativedelta(weekday=WE))"
   ]
  },
  {
   "cell_type": "code",
   "execution_count": 59,
   "metadata": {},
   "outputs": [
    {
     "name": "stdout",
     "output_type": "stream",
     "text": [
      "2018-09-05 22:32:26.658195\n"
     ]
    }
   ],
   "source": [
    "print(d + relativedelta(weekday=WE, weeks=+1))"
   ]
  },
  {
   "cell_type": "code",
   "execution_count": 60,
   "metadata": {},
   "outputs": [
    {
     "data": {
      "text/plain": [
       "datetime.date(2018, 9, 29)"
      ]
     },
     "execution_count": 60,
     "metadata": {},
     "output_type": "execute_result"
    }
   ],
   "source": [
    "# 过一个月， 三个月是哪天？ 不能简单+30， +31\n",
    "from datetime import date\n",
    "date(2018, 8, 29) + relativedelta(months=+1)"
   ]
  },
  {
   "cell_type": "code",
   "execution_count": 61,
   "metadata": {},
   "outputs": [
    {
     "data": {
      "text/plain": [
       "datetime.date(2019, 2, 28)"
      ]
     },
     "execution_count": 61,
     "metadata": {},
     "output_type": "execute_result"
    }
   ],
   "source": [
    "# 过一个月， 三个月是哪天？ 不能简单+30， +31\n",
    "from datetime import date\n",
    "date(2018, 8, 29) + relativedelta(months=+6)"
   ]
  },
  {
   "cell_type": "code",
   "execution_count": 62,
   "metadata": {},
   "outputs": [
    {
     "data": {
      "text/plain": [
       "datetime.date(2018, 7, 29)"
      ]
     },
     "execution_count": 62,
     "metadata": {},
     "output_type": "execute_result"
    }
   ],
   "source": [
    "date(2018, 8, 29) + relativedelta(months=-1)"
   ]
  },
  {
   "cell_type": "code",
   "execution_count": 63,
   "metadata": {},
   "outputs": [
    {
     "data": {
      "text/plain": [
       "datetime.date(2017, 10, 29)"
      ]
     },
     "execution_count": 63,
     "metadata": {},
     "output_type": "execute_result"
    }
   ],
   "source": [
    "date(2018, 8, 29) + relativedelta(months=-10)"
   ]
  },
  {
   "cell_type": "code",
   "execution_count": 65,
   "metadata": {},
   "outputs": [
    {
     "data": {
      "text/plain": [
       "datetime.date(2008, 8, 29)"
      ]
     },
     "execution_count": 65,
     "metadata": {},
     "output_type": "execute_result"
    }
   ],
   "source": [
    "date(2018, 8, 29) + relativedelta(years=-10)"
   ]
  },
  {
   "cell_type": "markdown",
   "metadata": {},
   "source": [
    "##  时间转换器\n",
    "####  给选随意的几种时间形式，自动转成统一格式\n",
    "####  举例：\n",
    "####  ‘2018/1/4 16:28’ ，4.7 ，‘2018年2月8日 13：28’ 都能自动转成 2018-01-04  14：28：00， 没有时间的自动添加当前时间 注意返回值， 区分datetime类型和str类型"
   ]
  },
  {
   "cell_type": "code",
   "execution_count": 2,
   "metadata": {},
   "outputs": [],
   "source": [
    "from datetime import datetime\n",
    "from dateutil import parser"
   ]
  },
  {
   "cell_type": "code",
   "execution_count": 3,
   "metadata": {},
   "outputs": [
    {
     "name": "stdout",
     "output_type": "stream",
     "text": [
      "<class 'datetime.datetime'>\n",
      "2018-01-08 16:28:00\n",
      "<class 'str'> 2018-01-08 16:28:00\n"
     ]
    }
   ],
   "source": [
    "d1 = '2018/1/8 16:28'\n",
    "date1 = datetime.strptime(d1, '%Y/%m/%d %H:%M')  # todo\n",
    "print(type(date1))\n",
    "print(date1)\n",
    "date_str = date1.strftime('%Y-%m-%d %X')\n",
    "print(type(date_str), date_str)  # isinstance"
   ]
  },
  {
   "cell_type": "code",
   "execution_count": 3,
   "metadata": {},
   "outputs": [
    {
     "name": "stdout",
     "output_type": "stream",
     "text": [
      "<class 'datetime.datetime'>\n",
      "2018-09-08 14:28:00\n"
     ]
    }
   ],
   "source": [
    "# 使用parser快速搞定，不再傻傻拼格式\n",
    "d1 = '2018/9/8 14:28'\n",
    "# d1 = '2018年9月8日 14：28'\n",
    "\n",
    "date1 = parser.parse(d1)\n",
    "print(type(date1))\n",
    "print(date1)"
   ]
  },
  {
   "cell_type": "code",
   "execution_count": 4,
   "metadata": {},
   "outputs": [
    {
     "data": {
      "text/plain": [
       "'2018/9/1 13：28'"
      ]
     },
     "execution_count": 4,
     "metadata": {},
     "output_type": "execute_result"
    }
   ],
   "source": [
    "# 中文的年月日的处理\n",
    "d1 = '2018年9月1日 13：28'\n",
    "d1.replace('年', '/').replace('月', '/').replace('日', '')"
   ]
  },
  {
   "cell_type": "code",
   "execution_count": 5,
   "metadata": {},
   "outputs": [
    {
     "name": "stdout",
     "output_type": "stream",
     "text": [
      "2018-09-01 20:38:08.201396 2018-01-06 20:38:08.201396\n"
     ]
    },
    {
     "data": {
      "text/plain": [
       "'2018-01-06 20:38:08'"
      ]
     },
     "execution_count": 5,
     "metadata": {},
     "output_type": "execute_result"
    }
   ],
   "source": [
    "# 只有日期，自动追加时间\n",
    "s = '1.9'\n",
    "now = datetime.now()\n",
    "my_time = now.replace(day=6, month=1)   \n",
    "print(now, my_time)\n",
    "my_time.strftime('%Y-%m-%d %X')"
   ]
  },
  {
   "cell_type": "code",
   "execution_count": 6,
   "metadata": {},
   "outputs": [],
   "source": [
    "# 封装函数\n",
    "def change_datetime(dt):\n",
    "    \"\"\"转换日期时间格式到yyyy-mm-dd hh:mm:ss\"\"\"\n",
    "    date1 = parser.parse(dt)\n",
    "    date_str = date1.strftime('%Y-%m-%d %X')\n",
    "    print(type(date_str), date_str)\n",
    "    return date1, date_str  # 返回多个时返回的是一个元组"
   ]
  },
  {
   "cell_type": "code",
   "execution_count": 7,
   "metadata": {},
   "outputs": [
    {
     "name": "stdout",
     "output_type": "stream",
     "text": [
      "<class 'str'> 2018-09-01 23:09:00\n"
     ]
    },
    {
     "data": {
      "text/plain": [
       "(datetime.datetime(2018, 9, 1, 23, 9), '2018-09-01 23:09:00')"
      ]
     },
     "execution_count": 7,
     "metadata": {},
     "output_type": "execute_result"
    }
   ],
   "source": [
    "change_datetime('2018/9/1 23:09')"
   ]
  },
  {
   "cell_type": "code",
   "execution_count": 8,
   "metadata": {},
   "outputs": [],
   "source": [
    "def change_datetime_cn(dt):\n",
    "    \"\"\"转换日期时间格式到yyyy-mm-dd hh:mm:ss\"\"\"\n",
    "    date1 = dt.replace('年', '/').replace('月', '/').replace('日', '')\n",
    "    return change_datetime(date1)"
   ]
  },
  {
   "cell_type": "code",
   "execution_count": 9,
   "metadata": {},
   "outputs": [
    {
     "name": "stdout",
     "output_type": "stream",
     "text": [
      "<class 'str'> 2018-09-01 00:00:00\n"
     ]
    },
    {
     "data": {
      "text/plain": [
       "(datetime.datetime(2018, 9, 1, 0, 0), '2018-09-01 00:00:00')"
      ]
     },
     "execution_count": 9,
     "metadata": {},
     "output_type": "execute_result"
    }
   ],
   "source": [
    "change_datetime_cn('2018年9月1日')"
   ]
  },
  {
   "cell_type": "code",
   "execution_count": 10,
   "metadata": {},
   "outputs": [],
   "source": [
    "def change_datetime_int(dt):\n",
    "    \"\"\"转换数字时间格式到yyyy-mm-dd hh:mm:ss\"\"\"\n",
    "    month, day = dt.split('.')\n",
    "    now = datetime.now()\n",
    "#     my_time = now.replace(day=day, month=month)\n",
    "    my_time = now.replace(day=int(day), month=int(month))\n",
    "    print(now, my_time)\n",
    "    return now, my_time.strftime('%Y-%m-%d %X')"
   ]
  },
  {
   "cell_type": "code",
   "execution_count": 11,
   "metadata": {},
   "outputs": [
    {
     "name": "stdout",
     "output_type": "stream",
     "text": [
      "2018-09-01 20:52:42.388354 2018-01-02 20:52:42.388354\n"
     ]
    },
    {
     "data": {
      "text/plain": [
       "(datetime.datetime(2018, 9, 1, 20, 52, 42, 388354), '2018-01-02 20:52:42')"
      ]
     },
     "execution_count": 11,
     "metadata": {},
     "output_type": "execute_result"
    }
   ],
   "source": [
    "change_datetime_int('1.2')"
   ]
  },
  {
   "cell_type": "code",
   "execution_count": null,
   "metadata": {},
   "outputs": [],
   "source": [
    "# 封装成类\n",
    "class TimeMaster:\n",
    "    def __init__(self, fmt='%Y-%m-%d %X'):\n",
    "        self._output_format = fmt\n",
    "        \n",
    "    def change_datetime_int(self, dt):\n",
    "        \"\"\"转换数字时间格式到yyyy-mm-dd hh:mm:ss\"\"\"\n",
    "        month, day = dt.split('.')\n",
    "        now = datetime.now()\n",
    "    #     my_time = now.replace(day=day, month=month)\n",
    "        my_time = now.replace(day=int(day), month=int(month))\n",
    "        print(now, my_time)\n",
    "        return now, my_time.strftime(self._output_format)\n",
    "    \n",
    "    def set_format(self, new_fmt):\n",
    "        self._output_format = new_fmt\n",
    "     "
   ]
  }
 ],
 "metadata": {
  "kernelspec": {
   "display_name": "Python 3",
   "language": "python",
   "name": "python3"
  },
  "language_info": {
   "codemirror_mode": {
    "name": "ipython",
    "version": 3
   },
   "file_extension": ".py",
   "mimetype": "text/x-python",
   "name": "python",
   "nbconvert_exporter": "python",
   "pygments_lexer": "ipython3",
   "version": "3.7.3"
  }
 },
 "nbformat": 4,
 "nbformat_minor": 2
}
