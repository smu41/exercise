{
 "cells": [
  {
   "cell_type": "markdown",
   "metadata": {},
   "source": [
    "###  如何定义一个类\n",
    "### class 类的名称：缩进+内容\n",
    "### 举例：人，学生， 车， 电脑， 日志， 游戏"
   ]
  },
  {
   "cell_type": "code",
   "execution_count": null,
   "metadata": {
    "collapsed": true
   },
   "outputs": [],
   "source": [
    "class People:\n",
    "    \"\"\"一个人类\"\"\"\n",
    "    def __init__(self, name, age):  # 初始化方法，头尾双下划线都表示特殊方法\n",
    "        self.name = name            # 类的属性，也就是特点，特征\n",
    "        self.age = age              \n",
    "        \n",
    "    def walk(self):                 # 普通方法，函数，method， function\n",
    "        '人类会走路'\n",
    "        print(f'{self.name} is walking')  # 表示动作，行动，能干的是"
   ]
  },
  {
   "cell_type": "code",
   "execution_count": 1,
   "metadata": {
    "collapsed": true
   },
   "outputs": [],
   "source": [
    "class Car:  # 注意大写， 冒号\n",
    "    pass    # 注意缩进"
   ]
  },
  {
   "cell_type": "code",
   "execution_count": 2,
   "metadata": {},
   "outputs": [
    {
     "data": {
      "text/plain": [
       "__main__.Car"
      ]
     },
     "execution_count": 2,
     "metadata": {},
     "output_type": "execute_result"
    }
   ],
   "source": [
    "Car"
   ]
  },
  {
   "cell_type": "code",
   "execution_count": 3,
   "metadata": {
    "collapsed": true
   },
   "outputs": [],
   "source": [
    "c = Car()  # 实例， 注意括号"
   ]
  },
  {
   "cell_type": "code",
   "execution_count": 4,
   "metadata": {},
   "outputs": [
    {
     "data": {
      "text/plain": [
       "<__main__.Car at 0x107b99940>"
      ]
     },
     "execution_count": 4,
     "metadata": {},
     "output_type": "execute_result"
    }
   ],
   "source": [
    "c  # 实例"
   ]
  },
  {
   "cell_type": "code",
   "execution_count": 5,
   "metadata": {},
   "outputs": [
    {
     "data": {
      "text/plain": [
       "__main__.Car"
      ]
     },
     "execution_count": 5,
     "metadata": {},
     "output_type": "execute_result"
    }
   ],
   "source": [
    "type(c)  # 查看类型"
   ]
  },
  {
   "cell_type": "code",
   "execution_count": 6,
   "metadata": {},
   "outputs": [
    {
     "data": {
      "text/plain": [
       "True"
      ]
     },
     "execution_count": 6,
     "metadata": {},
     "output_type": "execute_result"
    }
   ],
   "source": [
    "isinstance(c, Car)  # 是否是某个类的实例"
   ]
  },
  {
   "cell_type": "markdown",
   "metadata": {},
   "source": [
    "### 私有变量： __name, 不能被继承；\n",
    "### 内部变量：_开头\n",
    "### 通过方法修改私有数据，对数据进行保护"
   ]
  },
  {
   "cell_type": "code",
   "execution_count": 33,
   "metadata": {
    "collapsed": true
   },
   "outputs": [],
   "source": [
    "class Car:\n",
    "    name = 'XXX'\n",
    "    def __init__(self, brand, price, wheels, power):\n",
    "        self._brand = brand  # 内部变量\n",
    "        self.price = price\n",
    "        self.wheels = wheels\n",
    "        self.power = power\n",
    "        self.__speed = 0  # 私有变量\n",
    "    def run(self, action):\n",
    "        print(f'{self.brand} is runing')\n",
    "        if action == '1':\n",
    "            self.__speed += 1 * 10  # 修改私有变量\n",
    "            print('当前速度是:{}km\\h'.format(self.__speed))\n",
    "            \n",
    "    def start(self):\n",
    "        print(f'{self.brand} is on')\n",
    "        \n",
    "    @property  # 装饰方法\n",
    "    def speed(self):  # 只读， getter方法\n",
    "        return self.__speed\n",
    "    \n",
    "    @property\n",
    "    def brand(self):\n",
    "        return self._brand\n",
    "    \n",
    "    @brand.setter  # 添加setter方法，可以被赋值\n",
    "    def brand(self, brand):\n",
    "        if not isinstance(brand, str):\n",
    "            raise TypeError('牌子是字符串类行')\n",
    "        self._brand = brand  # 可以对属性进行操作， 提前判断\n",
    "        \n",
    "    @property\n",
    "    def info(self):\n",
    "        return f'{self.brand}:{self.price}'"
   ]
  },
  {
   "cell_type": "code",
   "execution_count": 8,
   "metadata": {
    "collapsed": true
   },
   "outputs": [],
   "source": [
    "auto = Car('auto', 30000, 4, 'oil')"
   ]
  },
  {
   "cell_type": "code",
   "execution_count": 9,
   "metadata": {},
   "outputs": [
    {
     "data": {
      "text/plain": [
       "<__main__.Car at 0x107bc8208>"
      ]
     },
     "execution_count": 9,
     "metadata": {},
     "output_type": "execute_result"
    }
   ],
   "source": [
    "auto"
   ]
  },
  {
   "cell_type": "code",
   "execution_count": 10,
   "metadata": {},
   "outputs": [
    {
     "name": "stdout",
     "output_type": "stream",
     "text": [
      "auto is runing\n",
      "当前速度是:10km\\h\n"
     ]
    }
   ],
   "source": [
    "auto.run('1')"
   ]
  },
  {
   "cell_type": "code",
   "execution_count": 11,
   "metadata": {},
   "outputs": [
    {
     "data": {
      "text/plain": [
       "'auto:30000'"
      ]
     },
     "execution_count": 11,
     "metadata": {},
     "output_type": "execute_result"
    }
   ],
   "source": [
    "auto.info"
   ]
  },
  {
   "cell_type": "code",
   "execution_count": 12,
   "metadata": {},
   "outputs": [
    {
     "data": {
      "text/plain": [
       "10"
      ]
     },
     "execution_count": 12,
     "metadata": {},
     "output_type": "execute_result"
    }
   ],
   "source": [
    "auto.speed"
   ]
  },
  {
   "cell_type": "code",
   "execution_count": 16,
   "metadata": {},
   "outputs": [
    {
     "ename": "TypeError",
     "evalue": "牌子是字符串类行",
     "output_type": "error",
     "traceback": [
      "\u001b[0;31m---------------------------------------------------------------------------\u001b[0m",
      "\u001b[0;31mTypeError\u001b[0m                                 Traceback (most recent call last)",
      "\u001b[0;32m<ipython-input-16-2d3c17a47df9>\u001b[0m in \u001b[0;36m<module>\u001b[0;34m()\u001b[0m\n\u001b[1;32m      1\u001b[0m \u001b[0mauto\u001b[0m\u001b[0;34m.\u001b[0m\u001b[0mbrand\u001b[0m \u001b[0;34m=\u001b[0m \u001b[0;34m'auto2018'\u001b[0m\u001b[0;34m\u001b[0m\u001b[0m\n\u001b[0;32m----> 2\u001b[0;31m \u001b[0mauto\u001b[0m\u001b[0;34m.\u001b[0m\u001b[0mbrand\u001b[0m \u001b[0;34m=\u001b[0m \u001b[0;36m1111\u001b[0m\u001b[0;34m\u001b[0m\u001b[0m\n\u001b[0m",
      "\u001b[0;32m<ipython-input-7-620dedfbbdbb>\u001b[0m in \u001b[0;36mbrand\u001b[0;34m(self, brand)\u001b[0m\n\u001b[1;32m     27\u001b[0m     \u001b[0;32mdef\u001b[0m \u001b[0mbrand\u001b[0m\u001b[0;34m(\u001b[0m\u001b[0mself\u001b[0m\u001b[0;34m,\u001b[0m \u001b[0mbrand\u001b[0m\u001b[0;34m)\u001b[0m\u001b[0;34m:\u001b[0m\u001b[0;34m\u001b[0m\u001b[0m\n\u001b[1;32m     28\u001b[0m         \u001b[0;32mif\u001b[0m \u001b[0;32mnot\u001b[0m \u001b[0misinstance\u001b[0m\u001b[0;34m(\u001b[0m\u001b[0mbrand\u001b[0m\u001b[0;34m,\u001b[0m \u001b[0mstr\u001b[0m\u001b[0;34m)\u001b[0m\u001b[0;34m:\u001b[0m\u001b[0;34m\u001b[0m\u001b[0m\n\u001b[0;32m---> 29\u001b[0;31m             \u001b[0;32mraise\u001b[0m \u001b[0mTypeError\u001b[0m\u001b[0;34m(\u001b[0m\u001b[0;34m'牌子是字符串类行'\u001b[0m\u001b[0;34m)\u001b[0m\u001b[0;34m\u001b[0m\u001b[0m\n\u001b[0m\u001b[1;32m     30\u001b[0m         \u001b[0mself\u001b[0m\u001b[0;34m.\u001b[0m\u001b[0m_brand\u001b[0m \u001b[0;34m=\u001b[0m \u001b[0mbrand\u001b[0m  \u001b[0;31m# 可以对属性进行操作， 提前判断\u001b[0m\u001b[0;34m\u001b[0m\u001b[0m\n\u001b[1;32m     31\u001b[0m \u001b[0;34m\u001b[0m\u001b[0m\n",
      "\u001b[0;31mTypeError\u001b[0m: 牌子是字符串类行"
     ]
    }
   ],
   "source": [
    "auto.brand = 'auto2018'\n",
    "auto.brand = 1111"
   ]
  },
  {
   "cell_type": "code",
   "execution_count": 15,
   "metadata": {},
   "outputs": [
    {
     "data": {
      "text/plain": [
       "'auto2018'"
      ]
     },
     "execution_count": 15,
     "metadata": {},
     "output_type": "execute_result"
    }
   ],
   "source": [
    "auto.brand"
   ]
  },
  {
   "cell_type": "code",
   "execution_count": 17,
   "metadata": {},
   "outputs": [
    {
     "name": "stdout",
     "output_type": "stream",
     "text": [
      "Tesla is runing\n",
      "当前速度是:10km\\h\n"
     ]
    }
   ],
   "source": [
    "tesla = Car('Tesla', 100000, 4, 'electric')\n",
    "tesla.run('1')\n",
    "tesla.price = 9999"
   ]
  },
  {
   "cell_type": "code",
   "execution_count": 18,
   "metadata": {},
   "outputs": [
    {
     "data": {
      "text/plain": [
       "9999"
      ]
     },
     "execution_count": 18,
     "metadata": {},
     "output_type": "execute_result"
    }
   ],
   "source": [
    "tesla.price"
   ]
  },
  {
   "cell_type": "markdown",
   "metadata": {},
   "source": [
    "### self 是怎么回事\n",
    "### 实例本身\n",
    "### 放到第一个参数，区别于普通函数\n",
    "### 通用为self\n",
    "\n",
    "\n",
    "### 假如你有一个类称为MyClass和这个类的一个实例MyObject。当你调用这个对象的方法MyObject.mathod(arg1, arg2)的时候，这会由Python自动转化为MyClass.method(MyObject, arg1, arg2)——这就是self的原理了。"
   ]
  },
  {
   "cell_type": "code",
   "execution_count": 1,
   "metadata": {
    "collapsed": true
   },
   "outputs": [],
   "source": [
    "class Computer:\n",
    "    def play(self, game='qq游戏'):\n",
    "        print('play', game)"
   ]
  },
  {
   "cell_type": "code",
   "execution_count": 2,
   "metadata": {},
   "outputs": [
    {
     "name": "stdout",
     "output_type": "stream",
     "text": [
      "play qq游戏\n"
     ]
    }
   ],
   "source": [
    "pcl = Computer()\n",
    "pcl.play()"
   ]
  },
  {
   "cell_type": "code",
   "execution_count": 3,
   "metadata": {},
   "outputs": [
    {
     "name": "stdout",
     "output_type": "stream",
     "text": [
      "play 跳一跳\n"
     ]
    }
   ],
   "source": [
    "Computer.play(pcl, game='跳一跳')"
   ]
  },
  {
   "cell_type": "markdown",
   "metadata": {},
   "source": [
    "###  特殊方法\n",
    "\n",
    "     __init__: 把各种属性绑定到self\n",
    "     __slots__: 限制实例的动态属性，减少内存消耗，tuple类型\n",
    "     __str__: 对象的说明文字\n",
    "     __eq__: 比较对象是否相等\n",
    "    \n",
    "    classmethod与staticmethod:classmethod会把类本身作为第一个参数传入"
   ]
  },
  {
   "cell_type": "code",
   "execution_count": 4,
   "metadata": {
    "collapsed": true
   },
   "outputs": [],
   "source": [
    "class Computer:\n",
    "    \"\"\"电脑\"\"\"\n",
    "    def __init__(self, name, mem, cpu):\n",
    "        self._name = name\n",
    "        self.mem = mem\n",
    "        self.cpu = cpu\n",
    "        \n",
    "    def play(self, game='qq游戏'):\n",
    "        print('play', game)"
   ]
  },
  {
   "cell_type": "code",
   "execution_count": 5,
   "metadata": {
    "collapsed": true
   },
   "outputs": [],
   "source": [
    "pc1 = Computer('sure', '16G', 8)"
   ]
  },
  {
   "cell_type": "code",
   "execution_count": 6,
   "metadata": {},
   "outputs": [
    {
     "data": {
      "text/plain": [
       "<__main__.Computer at 0x103e9d828>"
      ]
     },
     "execution_count": 6,
     "metadata": {},
     "output_type": "execute_result"
    }
   ],
   "source": [
    "pc1"
   ]
  },
  {
   "cell_type": "code",
   "execution_count": 7,
   "metadata": {
    "collapsed": true
   },
   "outputs": [],
   "source": [
    "pc1.disk = 'ssd'"
   ]
  },
  {
   "cell_type": "code",
   "execution_count": 8,
   "metadata": {},
   "outputs": [
    {
     "data": {
      "text/plain": [
       "'ssd'"
      ]
     },
     "execution_count": 8,
     "metadata": {},
     "output_type": "execute_result"
    }
   ],
   "source": [
    "pc1.disk"
   ]
  },
  {
   "cell_type": "code",
   "execution_count": 9,
   "metadata": {
    "collapsed": true
   },
   "outputs": [],
   "source": [
    "class Computer:\n",
    "    \"\"\"电脑\"\"\"\n",
    "    __slots__ = ('_name', 'mem', 'cpu')\n",
    "    def __init__(self, name, mem, cpu):\n",
    "        self._name = name\n",
    "        self.mem = mem\n",
    "        self.cpu = cpu\n",
    "        \n",
    "    def play(self, game='qq游戏'):\n",
    "        print('play', game)"
   ]
  },
  {
   "cell_type": "code",
   "execution_count": 10,
   "metadata": {
    "collapsed": true
   },
   "outputs": [],
   "source": [
    "pc2 = Computer('admin', '8G', 8)"
   ]
  },
  {
   "cell_type": "code",
   "execution_count": 11,
   "metadata": {},
   "outputs": [
    {
     "data": {
      "text/plain": [
       "'8G'"
      ]
     },
     "execution_count": 11,
     "metadata": {},
     "output_type": "execute_result"
    }
   ],
   "source": [
    "pc2.mem"
   ]
  },
  {
   "cell_type": "code",
   "execution_count": 12,
   "metadata": {},
   "outputs": [
    {
     "ename": "AttributeError",
     "evalue": "'Computer' object has no attribute 'dick'",
     "output_type": "error",
     "traceback": [
      "\u001b[0;31m---------------------------------------------------------------------------\u001b[0m",
      "\u001b[0;31mAttributeError\u001b[0m                            Traceback (most recent call last)",
      "\u001b[0;32m<ipython-input-12-5915a57bb228>\u001b[0m in \u001b[0;36m<module>\u001b[0;34m()\u001b[0m\n\u001b[0;32m----> 1\u001b[0;31m \u001b[0mpc2\u001b[0m\u001b[0;34m.\u001b[0m\u001b[0mdick\u001b[0m \u001b[0;34m=\u001b[0m \u001b[0;34m'ssd'\u001b[0m\u001b[0;34m\u001b[0m\u001b[0m\n\u001b[0m",
      "\u001b[0;31mAttributeError\u001b[0m: 'Computer' object has no attribute 'dick'"
     ]
    }
   ],
   "source": [
    "pc2.dick = 'ssd'"
   ]
  },
  {
   "cell_type": "code",
   "execution_count": 13,
   "metadata": {},
   "outputs": [
    {
     "data": {
      "text/plain": [
       "<__main__.Computer at 0x103ead908>"
      ]
     },
     "execution_count": 13,
     "metadata": {},
     "output_type": "execute_result"
    }
   ],
   "source": [
    "pc2"
   ]
  },
  {
   "cell_type": "code",
   "execution_count": 14,
   "metadata": {},
   "outputs": [
    {
     "name": "stdout",
     "output_type": "stream",
     "text": [
      "<__main__.Computer object at 0x103ead908>\n"
     ]
    }
   ],
   "source": [
    "print(pc2)"
   ]
  },
  {
   "cell_type": "code",
   "execution_count": 15,
   "metadata": {
    "collapsed": true
   },
   "outputs": [],
   "source": [
    "class Computer:\n",
    "    \"\"\"电脑\"\"\"\n",
    "    __slots__ = ('_name', 'mem', 'cpu')\n",
    "    def __init__(self, name, mem, cpu):\n",
    "        self._name = name\n",
    "        self.mem = mem\n",
    "        self.cpu = cpu\n",
    "        \n",
    "    def play(self, game='qq游戏'):\n",
    "        print('play', game)\n",
    "        \n",
    "    def __str__(self):\n",
    "        return f'{self._name}:{self.mem}-{self.cpu}'"
   ]
  },
  {
   "cell_type": "code",
   "execution_count": 16,
   "metadata": {},
   "outputs": [
    {
     "data": {
      "text/plain": [
       "__main__.Computer"
      ]
     },
     "execution_count": 16,
     "metadata": {},
     "output_type": "execute_result"
    }
   ],
   "source": [
    "Computer"
   ]
  },
  {
   "cell_type": "code",
   "execution_count": 17,
   "metadata": {
    "collapsed": true
   },
   "outputs": [],
   "source": [
    "pc2 = Computer('admin', '8G', 8)"
   ]
  },
  {
   "cell_type": "code",
   "execution_count": 18,
   "metadata": {},
   "outputs": [
    {
     "data": {
      "text/plain": [
       "<__main__.Computer at 0x103f216c8>"
      ]
     },
     "execution_count": 18,
     "metadata": {},
     "output_type": "execute_result"
    }
   ],
   "source": [
    "pc2"
   ]
  },
  {
   "cell_type": "code",
   "execution_count": 19,
   "metadata": {},
   "outputs": [
    {
     "name": "stdout",
     "output_type": "stream",
     "text": [
      "admin:8G-8\n"
     ]
    }
   ],
   "source": [
    "print(pc2)"
   ]
  },
  {
   "cell_type": "code",
   "execution_count": 20,
   "metadata": {
    "collapsed": true
   },
   "outputs": [],
   "source": [
    "pc3 = Computer('admin', '4G', 6)"
   ]
  },
  {
   "cell_type": "code",
   "execution_count": 21,
   "metadata": {},
   "outputs": [
    {
     "name": "stdout",
     "output_type": "stream",
     "text": [
      "admin:4G-6\n"
     ]
    }
   ],
   "source": [
    "print(pc3)"
   ]
  },
  {
   "cell_type": "code",
   "execution_count": 22,
   "metadata": {},
   "outputs": [
    {
     "data": {
      "text/plain": [
       "False"
      ]
     },
     "execution_count": 22,
     "metadata": {},
     "output_type": "execute_result"
    }
   ],
   "source": [
    "pc2 == pc3"
   ]
  },
  {
   "cell_type": "code",
   "execution_count": 23,
   "metadata": {
    "collapsed": true
   },
   "outputs": [],
   "source": [
    "class Computer:\n",
    "    \"\"\"电脑\"\"\"\n",
    "    __slots__ = ('_name', 'mem', 'cpu')\n",
    "    def __init__(self, name, mem, cpu):\n",
    "        self._name = name\n",
    "        self.mem = mem\n",
    "        self.cpu = cpu\n",
    "    \n",
    "    def play(self, game='游戏'):\n",
    "        print('play', game)\n",
    "        \n",
    "    def __str__(self):\n",
    "        return f'{self._name}:{self.mem}-{self.cpu}'\n",
    "    \n",
    "    def __eq__(self, other):\n",
    "        return self.cpu == other.cpu"
   ]
  },
  {
   "cell_type": "code",
   "execution_count": 24,
   "metadata": {
    "collapsed": true
   },
   "outputs": [],
   "source": [
    "pc2 = Computer('admin', '8G', 8)"
   ]
  },
  {
   "cell_type": "code",
   "execution_count": 25,
   "metadata": {
    "collapsed": true
   },
   "outputs": [],
   "source": [
    "pc3 = Computer('admin', '8G', 8)"
   ]
  },
  {
   "cell_type": "code",
   "execution_count": 26,
   "metadata": {},
   "outputs": [
    {
     "data": {
      "text/plain": [
       "True"
      ]
     },
     "execution_count": 26,
     "metadata": {},
     "output_type": "execute_result"
    }
   ],
   "source": [
    "pc2 == pc3"
   ]
  },
  {
   "cell_type": "code",
   "execution_count": 27,
   "metadata": {
    "collapsed": true
   },
   "outputs": [],
   "source": [
    "class Computer:\n",
    "    \"\"\"电脑\"\"\"\n",
    "    __slots__ = ('_name', 'mem', 'cpu')\n",
    "    def __init__(self, name, mem, cpu):\n",
    "        self._name = name\n",
    "        self.mem = mem\n",
    "        self.cpu = cpu\n",
    "    \n",
    "    def play(self, game='游戏'):\n",
    "        print('play', game)\n",
    "        \n",
    "    def __str__(self):\n",
    "        return f'{self._name}:{self.mem}-{self.cpu}'\n",
    "    \n",
    "    def __eq__(self, other):\n",
    "        return self.cpu == other.cpu\n",
    "    \n",
    "    @classmethod\n",
    "    def new_pc(cls, info):\n",
    "        '从字符串直接产生新的实例'\n",
    "        name, mem, cpu = info.split('-')\n",
    "        return cls(name, mem, cpu)"
   ]
  },
  {
   "cell_type": "code",
   "execution_count": 28,
   "metadata": {
    "collapsed": true
   },
   "outputs": [],
   "source": [
    "# 使用classmethod建立新的对象\n",
    "pc4 = Computer.new_pc('admin-8G-4')"
   ]
  },
  {
   "cell_type": "code",
   "execution_count": 29,
   "metadata": {},
   "outputs": [
    {
     "name": "stdout",
     "output_type": "stream",
     "text": [
      "admin:8G-4\n"
     ]
    }
   ],
   "source": [
    "print(pc4)"
   ]
  },
  {
   "cell_type": "code",
   "execution_count": 30,
   "metadata": {
    "collapsed": true
   },
   "outputs": [],
   "source": [
    "class Computer:\n",
    "    \"\"\"电脑\"\"\"\n",
    "    __slots__ = ('_name', 'mem', 'cpu')\n",
    "    def __init__(self, name, mem, cpu):\n",
    "        self._name = name\n",
    "        self.mem = mem\n",
    "        self.cpu = cpu\n",
    "    \n",
    "    def play(self, game='游戏'):\n",
    "        print('play', game)\n",
    "        \n",
    "    def __str__(self):\n",
    "        return f'{self._name}:{self.mem}-{self.cpu}'\n",
    "    \n",
    "    def __eq__(self, other):\n",
    "        return self.cpu == other.cpu\n",
    "    \n",
    "    @classmethod  # 通过新的方式构造实例，区别于默认的__init__，类似其他语言重载\n",
    "    def new_pc(cls, info):  # 第一个参数为类本身\n",
    "        '从字符串直接产生新的实例'\n",
    "        name, mem, cpu = info.split('-')\n",
    "        return cls(name, mem, cpu)\n",
    "    \n",
    "    @staticmethod  # 不需要生成类的实例，就可以使用的方法\n",
    "    def calc(a, b, oper):  # 不用第一个参数\n",
    "        '根据操作符号+-*/计算a和b的结果'\n",
    "        if oper == '+':\n",
    "            return a + b"
   ]
  },
  {
   "cell_type": "code",
   "execution_count": 31,
   "metadata": {},
   "outputs": [
    {
     "data": {
      "text/plain": [
       "7"
      ]
     },
     "execution_count": 31,
     "metadata": {},
     "output_type": "execute_result"
    }
   ],
   "source": [
    "Computer.calc(2, 5, '+')"
   ]
  },
  {
   "cell_type": "markdown",
   "metadata": {},
   "source": [
    "### 面向对象的三大特征\n",
    "\n",
    "### 封装， 继承， 多态"
   ]
  },
  {
   "cell_type": "code",
   "execution_count": 34,
   "metadata": {
    "collapsed": true
   },
   "outputs": [],
   "source": [
    "# 继承\n",
    "class Tesla(Car):  # 儿子类(父类)\n",
    "    def __init__(self, brand='Tesla', price=100000, wheels='4', power='electric'):\n",
    "        super().__init__(brand, price, wheels, power)\n",
    "    def run(self, action):\n",
    "        print(f'{self.brand} is running with {self.power}')"
   ]
  },
  {
   "cell_type": "code",
   "execution_count": 35,
   "metadata": {
    "collapsed": true
   },
   "outputs": [],
   "source": [
    "t = Tesla()"
   ]
  },
  {
   "cell_type": "code",
   "execution_count": 36,
   "metadata": {},
   "outputs": [
    {
     "data": {
      "text/plain": [
       "999"
      ]
     },
     "execution_count": 36,
     "metadata": {},
     "output_type": "execute_result"
    }
   ],
   "source": [
    "t.price = 999\n",
    "t.price"
   ]
  },
  {
   "cell_type": "code",
   "execution_count": 37,
   "metadata": {},
   "outputs": [
    {
     "data": {
      "text/plain": [
       "True"
      ]
     },
     "execution_count": 37,
     "metadata": {},
     "output_type": "execute_result"
    }
   ],
   "source": [
    "isinstance(t, Tesla)"
   ]
  },
  {
   "cell_type": "code",
   "execution_count": 38,
   "metadata": {},
   "outputs": [
    {
     "data": {
      "text/plain": [
       "True"
      ]
     },
     "execution_count": 38,
     "metadata": {},
     "output_type": "execute_result"
    }
   ],
   "source": [
    "isinstance(t, Car)"
   ]
  },
  {
   "cell_type": "code",
   "execution_count": 39,
   "metadata": {},
   "outputs": [
    {
     "name": "stdout",
     "output_type": "stream",
     "text": [
      "Tesla is running with electric\n"
     ]
    }
   ],
   "source": [
    "# 多态，各个子类走自己的路\n",
    "t.run('1')"
   ]
  },
  {
   "cell_type": "code",
   "execution_count": 40,
   "metadata": {
    "collapsed": true
   },
   "outputs": [],
   "source": [
    "c = Car('car', 2000, 4, 'oil')"
   ]
  },
  {
   "cell_type": "code",
   "execution_count": 41,
   "metadata": {},
   "outputs": [
    {
     "name": "stdout",
     "output_type": "stream",
     "text": [
      "car is runing\n",
      "当前速度是:10km\\h\n"
     ]
    }
   ],
   "source": [
    "c.run('1')"
   ]
  },
  {
   "cell_type": "markdown",
   "metadata": {},
   "source": [
    "### 元编程\n",
    "\n",
    "### 我是谁？\n",
    "\n",
    "### 我从哪儿来？\n",
    "\n",
    "### 我到哪儿去？"
   ]
  },
  {
   "cell_type": "code",
   "execution_count": 42,
   "metadata": {},
   "outputs": [
    {
     "data": {
      "text/plain": [
       "type"
      ]
     },
     "execution_count": 42,
     "metadata": {},
     "output_type": "execute_result"
    }
   ],
   "source": [
    "# 运行时动态创建类和函数\n",
    "# metaclass -> class -> obj\n",
    "# __new__\n",
    "\n",
    "class Game:\n",
    "    pass\n",
    "\n",
    "Game.__class__"
   ]
  },
  {
   "cell_type": "code",
   "execution_count": 43,
   "metadata": {},
   "outputs": [
    {
     "data": {
      "text/plain": [
       "type"
      ]
     },
     "execution_count": 43,
     "metadata": {},
     "output_type": "execute_result"
    }
   ],
   "source": [
    "type(Game)"
   ]
  },
  {
   "cell_type": "code",
   "execution_count": 44,
   "metadata": {},
   "outputs": [
    {
     "data": {
      "text/plain": [
       "int"
      ]
     },
     "execution_count": 44,
     "metadata": {},
     "output_type": "execute_result"
    }
   ],
   "source": [
    "type(1)"
   ]
  },
  {
   "cell_type": "code",
   "execution_count": 45,
   "metadata": {},
   "outputs": [
    {
     "data": {
      "text/plain": [
       "list"
      ]
     },
     "execution_count": 45,
     "metadata": {},
     "output_type": "execute_result"
    }
   ],
   "source": [
    "type([])"
   ]
  },
  {
   "cell_type": "code",
   "execution_count": 46,
   "metadata": {},
   "outputs": [
    {
     "data": {
      "text/plain": [
       "list"
      ]
     },
     "execution_count": 46,
     "metadata": {},
     "output_type": "execute_result"
    }
   ],
   "source": [
    "[].__class__"
   ]
  },
  {
   "cell_type": "code",
   "execution_count": 47,
   "metadata": {
    "collapsed": true
   },
   "outputs": [],
   "source": [
    "# type 是一个metaclass\n",
    "# 通过type创建一个新的metaclass\n",
    "# https://docs.python.org/3/library/functions.html?highlight=type#type\n",
    "class SureMeta(type):\n",
    "    pass\n",
    "\n",
    "class Sure(metaclass=SureMeta):\n",
    "    pass"
   ]
  },
  {
   "cell_type": "code",
   "execution_count": 48,
   "metadata": {},
   "outputs": [
    {
     "name": "stdout",
     "output_type": "stream",
     "text": [
      "<class 'type'>\n"
     ]
    }
   ],
   "source": [
    "print(type(SureMeta))"
   ]
  },
  {
   "cell_type": "code",
   "execution_count": 49,
   "metadata": {},
   "outputs": [
    {
     "name": "stdout",
     "output_type": "stream",
     "text": [
      "<class '__main__.SureMeta'>\n"
     ]
    }
   ],
   "source": [
    "print(type(Sure))"
   ]
  },
  {
   "cell_type": "code",
   "execution_count": 50,
   "metadata": {},
   "outputs": [
    {
     "data": {
      "text/plain": [
       "True"
      ]
     },
     "execution_count": 50,
     "metadata": {},
     "output_type": "execute_result"
    }
   ],
   "source": [
    "isinstance(Sure, SureMeta)"
   ]
  },
  {
   "cell_type": "code",
   "execution_count": 51,
   "metadata": {
    "collapsed": true
   },
   "outputs": [],
   "source": [
    "Sure.__new__?"
   ]
  },
  {
   "cell_type": "code",
   "execution_count": 55,
   "metadata": {
    "collapsed": true
   },
   "outputs": [],
   "source": [
    "# help(type)  # type(object_or_name, bases, dict)"
   ]
  },
  {
   "cell_type": "code",
   "execution_count": 53,
   "metadata": {
    "collapsed": true
   },
   "outputs": [],
   "source": [
    "class SureMeta(type):\n",
    "    def __new__(cls, name, bases, my_dict):  # classmethod\n",
    "        print(f'{name} 使用__new__创建')\n",
    "        sure_class = super().__new__(cls, name, bases, my_dict)\n",
    "        return sure_class"
   ]
  },
  {
   "cell_type": "code",
   "execution_count": 56,
   "metadata": {},
   "outputs": [
    {
     "name": "stdout",
     "output_type": "stream",
     "text": [
      "Sure 使用__new__创建\n"
     ]
    }
   ],
   "source": [
    "class Sure(metaclass=SureMeta):\n",
    "    pass"
   ]
  },
  {
   "cell_type": "code",
   "execution_count": 57,
   "metadata": {
    "collapsed": true
   },
   "outputs": [],
   "source": [
    "a = Sure()"
   ]
  },
  {
   "cell_type": "code",
   "execution_count": 58,
   "metadata": {},
   "outputs": [
    {
     "name": "stdout",
     "output_type": "stream",
     "text": [
      "<__main__.Sure object at 0x103f35c88>\n"
     ]
    }
   ],
   "source": [
    "print(a)"
   ]
  },
  {
   "cell_type": "markdown",
   "metadata": {},
   "source": [
    "### 7种可调用对象\n",
    "#### 函数后的()其实是调用运算符，任何可以添加()的为可调用对象\n",
    "\n",
    "\n",
    "        用户定义的函数：使用def语句或lambda表达式创建\n",
    "        内置函数：如len\n",
    "        内置方法：如dict.get，底层由c语言实现\n",
    "        方法：在类定义体中的函数\n",
    "        类：运行时通过__new__创建新对象，然后__init__完成初始化，本质还是在调用函数。\n",
    "        类的实例：如果定义了 __call__，那么它的实例可以作为函数调用，表现像个函数。\n",
    "        生成器函数：使用yield关键字的函数或方法，返回生成器对象"
   ]
  },
  {
   "cell_type": "code",
   "execution_count": 59,
   "metadata": {
    "collapsed": true
   },
   "outputs": [],
   "source": [
    "def test():\n",
    "    print('test 出现了')"
   ]
  },
  {
   "cell_type": "code",
   "execution_count": 60,
   "metadata": {},
   "outputs": [
    {
     "name": "stdout",
     "output_type": "stream",
     "text": [
      "test 出现了\n"
     ]
    }
   ],
   "source": [
    "test()"
   ]
  },
  {
   "cell_type": "code",
   "execution_count": 61,
   "metadata": {},
   "outputs": [
    {
     "data": {
      "text/plain": [
       "function"
      ]
     },
     "execution_count": 61,
     "metadata": {},
     "output_type": "execute_result"
    }
   ],
   "source": [
    "type(test)"
   ]
  },
  {
   "cell_type": "code",
   "execution_count": 62,
   "metadata": {},
   "outputs": [
    {
     "name": "stdout",
     "output_type": "stream",
     "text": [
      "<class 'function'>\n"
     ]
    }
   ],
   "source": [
    "print(type(test))"
   ]
  },
  {
   "cell_type": "code",
   "execution_count": 63,
   "metadata": {},
   "outputs": [
    {
     "name": "stdout",
     "output_type": "stream",
     "text": [
      "<class 'builtin_function_or_method'>\n"
     ]
    }
   ],
   "source": [
    "print(type(len))"
   ]
  },
  {
   "cell_type": "code",
   "execution_count": 64,
   "metadata": {
    "collapsed": true
   },
   "outputs": [],
   "source": [
    "class Test:\n",
    "    def do(self):\n",
    "        print('do')\n",
    "        \n",
    "    def __call__(self):\n",
    "        return self.do()"
   ]
  },
  {
   "cell_type": "code",
   "execution_count": 67,
   "metadata": {},
   "outputs": [
    {
     "name": "stdout",
     "output_type": "stream",
     "text": [
      "do\n"
     ]
    }
   ],
   "source": [
    "t = Test()\n",
    "t.do()"
   ]
  },
  {
   "cell_type": "code",
   "execution_count": 66,
   "metadata": {},
   "outputs": [
    {
     "name": "stdout",
     "output_type": "stream",
     "text": [
      "do\n"
     ]
    }
   ],
   "source": [
    "t()"
   ]
  },
  {
   "cell_type": "markdown",
   "metadata": {},
   "source": [
    "### 反射都能用来干什么\n",
    "#### 也叫自省，其实就是让对象自己告诉我们他有什么。\n",
    "\n",
    "\n",
    "### 三个方法\n",
    "https://docs.python.org/3/library/functions.html?highlight=hasattr#hasattr\n",
    "    \n",
    "####    hasattr(obj, attr):\n",
    "    \n",
    "####    这个方法用于检查obj是否有一个名为attr的值的属性，返回一个布尔值。\n",
    "\n",
    "####    getattr(obj, attr):\n",
    "####    调用这个方法将返回obj中名为attr值的属性的值。\n",
    "\n",
    "####    setattr(obj, attr, val):\n",
    "####    调用这个方法将给obj的名为attr的值的属性赋值为val。"
   ]
  },
  {
   "cell_type": "code",
   "execution_count": 68,
   "metadata": {
    "collapsed": true
   },
   "outputs": [],
   "source": [
    "s = 'sure'"
   ]
  },
  {
   "cell_type": "code",
   "execution_count": 69,
   "metadata": {},
   "outputs": [
    {
     "data": {
      "text/plain": [
       "'SURE'"
      ]
     },
     "execution_count": 69,
     "metadata": {},
     "output_type": "execute_result"
    }
   ],
   "source": [
    "s.upper()"
   ]
  },
  {
   "cell_type": "code",
   "execution_count": 70,
   "metadata": {},
   "outputs": [
    {
     "data": {
      "text/plain": [
       "True"
      ]
     },
     "execution_count": 70,
     "metadata": {},
     "output_type": "execute_result"
    }
   ],
   "source": [
    "isinstance(s, str)"
   ]
  },
  {
   "cell_type": "code",
   "execution_count": 71,
   "metadata": {},
   "outputs": [
    {
     "data": {
      "text/plain": [
       "True"
      ]
     },
     "execution_count": 71,
     "metadata": {},
     "output_type": "execute_result"
    }
   ],
   "source": [
    "hasattr(s, 'upper')"
   ]
  },
  {
   "cell_type": "code",
   "execution_count": 72,
   "metadata": {},
   "outputs": [
    {
     "data": {
      "text/plain": [
       "False"
      ]
     },
     "execution_count": 72,
     "metadata": {},
     "output_type": "execute_result"
    }
   ],
   "source": [
    "hasattr(s, 'what')"
   ]
  },
  {
   "cell_type": "code",
   "execution_count": 74,
   "metadata": {
    "collapsed": true
   },
   "outputs": [],
   "source": [
    "class People:\n",
    "    def eat(self):\n",
    "        print('eat')\n",
    "    def drink(self):\n",
    "        print('drink')\n",
    "    def code(self):\n",
    "        print('code')\n",
    "p = People()"
   ]
  },
  {
   "cell_type": "code",
   "execution_count": 75,
   "metadata": {},
   "outputs": [
    {
     "name": "stdout",
     "output_type": "stream",
     "text": [
      "eat\n"
     ]
    }
   ],
   "source": [
    "p.eat()"
   ]
  },
  {
   "cell_type": "code",
   "execution_count": 76,
   "metadata": {},
   "outputs": [
    {
     "data": {
      "text/plain": [
       "True"
      ]
     },
     "execution_count": 76,
     "metadata": {},
     "output_type": "execute_result"
    }
   ],
   "source": [
    "hasattr(p, 'eat')"
   ]
  },
  {
   "cell_type": "code",
   "execution_count": 77,
   "metadata": {},
   "outputs": [
    {
     "data": {
      "text/plain": [
       "<bound method People.code of <__main__.People object at 0x103f488d0>>"
      ]
     },
     "execution_count": 77,
     "metadata": {},
     "output_type": "execute_result"
    }
   ],
   "source": [
    "getattr(p, 'code')"
   ]
  },
  {
   "cell_type": "code",
   "execution_count": 78,
   "metadata": {},
   "outputs": [
    {
     "name": "stdout",
     "output_type": "stream",
     "text": [
      "<bound method People.code of <__main__.People object at 0x103f488d0>>\n"
     ]
    }
   ],
   "source": [
    "code = getattr(p, 'code')\n",
    "print(code)"
   ]
  },
  {
   "cell_type": "code",
   "execution_count": 79,
   "metadata": {},
   "outputs": [
    {
     "name": "stdout",
     "output_type": "stream",
     "text": [
      "code\n"
     ]
    }
   ],
   "source": [
    "code()"
   ]
  },
  {
   "cell_type": "code",
   "execution_count": 80,
   "metadata": {
    "collapsed": true
   },
   "outputs": [],
   "source": [
    "setattr(p, 'sleep', 'sleep')"
   ]
  },
  {
   "cell_type": "code",
   "execution_count": 81,
   "metadata": {},
   "outputs": [
    {
     "data": {
      "text/plain": [
       "'sleep'"
      ]
     },
     "execution_count": 81,
     "metadata": {},
     "output_type": "execute_result"
    }
   ],
   "source": [
    "p.sleep"
   ]
  },
  {
   "cell_type": "markdown",
   "metadata": {},
   "source": [
    "### 汽车工厂\n",
    "目标：复习类的继承，多态，简介设计模式中的工厂模式。\n",
    "\n",
    "分析：汽车工厂，首先需要有工厂，还需要有不同的汽车，每个工厂生产一种汽车就OK。\n",
    "\n",
    "原理：只需要抽象的基类，不用关心具体的实现层，实现了解耦的操作，通过多态，自动调用相应方法实现。\n",
    "\n",
    "缺点：每增加一种类型，需要增加一批代码。"
   ]
  },
  {
   "cell_type": "code",
   "execution_count": 1,
   "metadata": {
    "collapsed": true
   },
   "outputs": [],
   "source": [
    "# 汽车类\n",
    "class Car:\n",
    "    def info(self):\n",
    "        print('Car父类')\n",
    "        \n",
    "class Audi(Car):\n",
    "    def info(self):\n",
    "        print('Audi汽车')\n",
    "        \n",
    "class Tesla(Car):\n",
    "    def info(self):\n",
    "        print('Tesla汽车')"
   ]
  },
  {
   "cell_type": "code",
   "execution_count": 2,
   "metadata": {
    "collapsed": true
   },
   "outputs": [],
   "source": [
    "# 工厂类\n",
    "class Factory:\n",
    "    def create(self):\n",
    "        print('创建汽车，工厂基类')\n",
    "        \n",
    "class AudiFactory(Factory):\n",
    "    def create(self):\n",
    "        print('创建Audi汽车')\n",
    "        return Audi()\n",
    "    \n",
    "class TeslaFactory(Factory):\n",
    "    def create(self):\n",
    "        print('创建Tesla汽车')\n",
    "        return Tesla()"
   ]
  },
  {
   "cell_type": "code",
   "execution_count": 3,
   "metadata": {},
   "outputs": [
    {
     "name": "stdout",
     "output_type": "stream",
     "text": [
      "创建Audi汽车\n",
      "Audi汽车\n"
     ]
    }
   ],
   "source": [
    "# 生产汽车\n",
    "audi = AudiFactory()\n",
    "audi.create().info()"
   ]
  },
  {
   "cell_type": "code",
   "execution_count": null,
   "metadata": {
    "collapsed": true
   },
   "outputs": [],
   "source": []
  }
 ],
 "metadata": {
  "kernelspec": {
   "display_name": "Python 3",
   "language": "python",
   "name": "python3"
  },
  "language_info": {
   "codemirror_mode": {
    "name": "ipython",
    "version": 3
   },
   "file_extension": ".py",
   "mimetype": "text/x-python",
   "name": "python",
   "nbconvert_exporter": "python",
   "pygments_lexer": "ipython3",
   "version": "3.6.5"
  }
 },
 "nbformat": 4,
 "nbformat_minor": 2
}
