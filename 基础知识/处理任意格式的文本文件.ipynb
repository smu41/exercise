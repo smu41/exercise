{
 "cells": [
  {
   "cell_type": "code",
   "execution_count": 17,
   "metadata": {},
   "outputs": [
    {
     "name": "stdout",
     "output_type": "stream",
     "text": [
      "dict_values([1, '1.1', '买了一件毛衣'])\n",
      "dict_values([2, '1.2', '今天找了8个bug'])\n",
      "dict_values([3, '1.3', '写了好几十行代码'])\n"
     ]
    }
   ],
   "source": [
    "# 保存数据，纯文本，pkl\n",
    "data = [{'id': 1, 'time': '1.1', 'thing': '买了一件毛衣'}, \n",
    "        {'id': 2, 'time': '1.2', 'thing': '今天找了8个bug'}, \n",
    "       {'id': 3, 'time': '1.3', 'thing': '写了好几十行代码'}]\n",
    "import os\n",
    "base_dir = '/Users/yangsan/py2018/02-auto/data'\n",
    "data_path = os.path.join(base_dir, 'data.db')\n",
    "with open(data_path, 'w') as f:\n",
    "    for db in data:\n",
    "        print(db.values())"
   ]
  },
  {
   "cell_type": "code",
   "execution_count": 4,
   "metadata": {},
   "outputs": [
    {
     "name": "stdout",
     "output_type": "stream",
     "text": [
      "dict_values([1, '1.1', '买了一件毛衣'])\n"
     ]
    },
    {
     "ename": "TypeError",
     "evalue": "sequence item 0: expected str instance, int found",
     "output_type": "error",
     "traceback": [
      "\u001b[0;31m---------------------------------------------------------------------------\u001b[0m",
      "\u001b[0;31mTypeError\u001b[0m                                 Traceback (most recent call last)",
      "\u001b[0;32m<ipython-input-4-f075c5a8f706>\u001b[0m in \u001b[0;36m<module>\u001b[0;34m()\u001b[0m\n\u001b[1;32m      9\u001b[0m     \u001b[0;32mfor\u001b[0m \u001b[0mdb\u001b[0m \u001b[0;32min\u001b[0m \u001b[0mdata\u001b[0m\u001b[0;34m:\u001b[0m\u001b[0;34m\u001b[0m\u001b[0m\n\u001b[1;32m     10\u001b[0m         \u001b[0mprint\u001b[0m\u001b[0;34m(\u001b[0m\u001b[0mdb\u001b[0m\u001b[0;34m.\u001b[0m\u001b[0mvalues\u001b[0m\u001b[0;34m(\u001b[0m\u001b[0;34m)\u001b[0m\u001b[0;34m)\u001b[0m\u001b[0;34m\u001b[0m\u001b[0m\n\u001b[0;32m---> 11\u001b[0;31m         \u001b[0mline\u001b[0m \u001b[0;34m=\u001b[0m \u001b[0;34m'-'\u001b[0m\u001b[0;34m.\u001b[0m\u001b[0mjoin\u001b[0m\u001b[0;34m(\u001b[0m\u001b[0mdb\u001b[0m\u001b[0;34m.\u001b[0m\u001b[0mvalues\u001b[0m\u001b[0;34m(\u001b[0m\u001b[0;34m)\u001b[0m\u001b[0;34m)\u001b[0m\u001b[0;34m\u001b[0m\u001b[0m\n\u001b[0m",
      "\u001b[0;31mTypeError\u001b[0m: sequence item 0: expected str instance, int found"
     ]
    }
   ],
   "source": [
    "# 保存数据，纯文本，pkl\n",
    "data = [{'id': 1, 'time': '1.1', 'thing': '买了一件毛衣'}, \n",
    "        {'id': 2, 'time': '1.2', 'thing': '今天找了8个bug'}, \n",
    "       {'id': 3, 'time': '1.3', 'thing': '写了好几十行代码'}]\n",
    "import os\n",
    "base_dir = '/Users/yangsan/py2018/02-auto'\n",
    "data_path = os.path.join(base_dir, 'data.db')\n",
    "with open(data_path, 'w') as f:\n",
    "    for db in data:\n",
    "        print(db.values())\n",
    "        line = '-'.join(db.values())"
   ]
  },
  {
   "cell_type": "code",
   "execution_count": 6,
   "metadata": {},
   "outputs": [
    {
     "name": "stdout",
     "output_type": "stream",
     "text": [
      "dict_values([1, '1.1', '买了一件毛衣'])\n",
      "dict_values([2, '1.2', '今天找了8个bug'])\n",
      "dict_values([3, '1.3', '写了好几十行代码'])\n"
     ]
    }
   ],
   "source": [
    "# 保存数据，纯文本，pkl\n",
    "data = [{'id': 1, 'time': '1.1', 'thing': '买了一件毛衣'}, \n",
    "        {'id': 2, 'time': '1.2', 'thing': '今天找了8个bug'}, \n",
    "       {'id': 3, 'time': '1.3', 'thing': '写了好几十行代码'}]\n",
    "import os\n",
    "base_dir = '/Users/yangsan/py2018/02-auto'\n",
    "data_path = os.path.join(base_dir, 'data.db')\n",
    "with open(data_path, 'w') as f:\n",
    "    for db in data:\n",
    "        print(db.values())\n",
    "        line = '-'.join([str(x) for x in db.values()])\n",
    "        f.write(line)"
   ]
  },
  {
   "cell_type": "code",
   "execution_count": 7,
   "metadata": {},
   "outputs": [
    {
     "name": "stdout",
     "output_type": "stream",
     "text": [
      "dict_values([1, '1.1', '买了一件毛衣'])\n",
      "dict_values([2, '1.2', '今天找了8个bug'])\n",
      "dict_values([3, '1.3', '写了好几十行代码'])\n"
     ]
    }
   ],
   "source": [
    "# 保存数据，纯文本，pkl\n",
    "data = [{'id': 1, 'time': '1.1', 'thing': '买了一件毛衣'}, \n",
    "        {'id': 2, 'time': '1.2', 'thing': '今天找了8个bug'}, \n",
    "       {'id': 3, 'time': '1.3', 'thing': '写了好几十行代码'}]\n",
    "import os\n",
    "base_dir = '/Users/yangsan/py2018/02-auto'\n",
    "data_path = os.path.join(base_dir, 'data.db')\n",
    "with open(data_path, 'w') as f:\n",
    "    for db in data:\n",
    "        print(db.values())\n",
    "        line = '-'.join([str(x) for x in db.values()])\n",
    "        f.write(line + '\\n')"
   ]
  },
  {
   "cell_type": "code",
   "execution_count": 8,
   "metadata": {},
   "outputs": [
    {
     "name": "stdout",
     "output_type": "stream",
     "text": [
      "dict_values([1, '1.1', '买了一件毛衣'])\n",
      "dict_values([2, '1.2', '今天找了8个bug'])\n",
      "dict_values([3, '1.3', '写了好几十行代码'])\n"
     ]
    }
   ],
   "source": [
    "# 保存数据，纯文本，pkl\n",
    "data = [{'id': 1, 'time': '1.1', 'thing': '买了一件毛衣'}, \n",
    "        {'id': 2, 'time': '1.2', 'thing': '今天找了8个bug'}, \n",
    "       {'id': 3, 'time': '1.3', 'thing': '写了好几十行代码'}]\n",
    "import os\n",
    "base_dir = '/Users/yangsan/py2018/02-auto'\n",
    "data_path = os.path.join(base_dir, 'data.db')\n",
    "with open(data_path, 'w', encoding = 'utf-8') as f:\n",
    "    for db in data:\n",
    "        print(db.values())\n",
    "        line = '-'.join([str(x) for x in db.values()])\n",
    "        f.write(line + '\\n')"
   ]
  },
  {
   "cell_type": "code",
   "execution_count": null,
   "metadata": {},
   "outputs": [],
   "source": [
    "# 封装成函数\n",
    "def save_dic(dic):\n",
    "    '保存字典数据到文件'\n",
    "    try:\n",
    "        with open(data_path, 'w', encoding = 'utf-8') as f:\n",
    "            for db in data:\n",
    "                print(db.values())\n",
    "                line = '-'.join([str(x) for x in db.values()])\n",
    "                f.write(line + '\\n')\n",
    "    except Exception as e:\n",
    "        print(e)\n",
    "    return 'OK'"
   ]
  },
  {
   "cell_type": "code",
   "execution_count": 12,
   "metadata": {},
   "outputs": [
    {
     "data": {
      "text/plain": [
       "{'status': 0, 'statusText': 'saved'}"
      ]
     },
     "execution_count": 12,
     "metadata": {},
     "output_type": "execute_result"
    }
   ],
   "source": [
    "# 封装成函数\n",
    "def save_dic(dic):\n",
    "    '保存字典数据到文件'\n",
    "    ret = {'status': 0, 'statusText': 'saved'}\n",
    "    try:\n",
    "        with open(data_path, 'w', encoding = 'utf-8') as f:\n",
    "            for db in data:\n",
    "#                 print(db.values())\n",
    "                line = '-'.join([str(x) for x in db.values()])\n",
    "                f.write(line + '\\n')\n",
    "    except Exception as e:\n",
    "#         print(e)\n",
    "        ret['status'] = 1\n",
    "        ret['statusText'] = e\n",
    "    return ret\n",
    "\n",
    "save_dic(data)"
   ]
  },
  {
   "cell_type": "code",
   "execution_count": 15,
   "metadata": {},
   "outputs": [],
   "source": [
    "import pickle\n",
    "pkl_path = os.path.join(base_dir, 'data.pkl')\n",
    "with open(pkl_path, 'wb') as f:\n",
    "    pickle.dump(data, f)"
   ]
  },
  {
   "cell_type": "code",
   "execution_count": null,
   "metadata": {},
   "outputs": [],
   "source": [
    "def save_to_pkl(dic):\n",
    "    with open(pkl_path, 'wb') as f:\n",
    "        pickle.dump(dic, f)"
   ]
  },
  {
   "cell_type": "markdown",
   "metadata": {},
   "source": [
    "## 使用配置文件\n",
    "KV编程论\n",
    "\n",
    "● Why: 给程序提供一些默认的或个性化的全局参数\n",
    "\n",
    "● What: 分块kv储存， ini, conf, cfg\n",
    "\n",
    "● How: configparse,"
   ]
  },
  {
   "cell_type": "code",
   "execution_count": 18,
   "metadata": {},
   "outputs": [],
   "source": [
    "import configparser\n",
    "config = configparser.ConfigParser()\n",
    "config['DEFAULT'] = {'base_dir': '/Users/yangsan/py2018/02-auto/data'}\n",
    "config_path = os.path.join(base_dir, 'common.ini')\n",
    "with open(config_path, 'w') as f:\n",
    "    config.write(f)"
   ]
  },
  {
   "cell_type": "code",
   "execution_count": 74,
   "metadata": {},
   "outputs": [],
   "source": [
    "import configparser\n",
    "config = configparser.ConfigParser()\n",
    "config['DEFAULT'] = {'base_dir': '/Users/yangsan/py2018/02-auto/data'}\n",
    "config['DEFAULT']['db_type'] = 'db'\n",
    "config['DEFAULT']['db_path'] = '${base_dir}/data.db'\n",
    "config['DEFAULT']['max_items'] = '1000'\n",
    "config['DEFAULT']['auto_save'] = 'True'\n",
    "\n",
    "config['sure'] = {}\n",
    "config['sure']['db_type'] = 'db'\n",
    "config['sure']['db_path'] = '${base_dir}/data.db'\n",
    "\n",
    "config_path = os.path.join(base_dir, 'common.ini')\n",
    "with open(config_path, 'w') as f:\n",
    "    config.write(f)"
   ]
  },
  {
   "cell_type": "code",
   "execution_count": 20,
   "metadata": {},
   "outputs": [
    {
     "data": {
      "text/plain": [
       "['sure']"
      ]
     },
     "execution_count": 20,
     "metadata": {},
     "output_type": "execute_result"
    }
   ],
   "source": [
    "config.sections() # 返回章节名字"
   ]
  },
  {
   "cell_type": "code",
   "execution_count": 21,
   "metadata": {},
   "outputs": [
    {
     "data": {
      "text/plain": [
       "<Section: sure>"
      ]
     },
     "execution_count": 21,
     "metadata": {},
     "output_type": "execute_result"
    }
   ],
   "source": [
    "config['sure']"
   ]
  },
  {
   "cell_type": "code",
   "execution_count": 22,
   "metadata": {},
   "outputs": [
    {
     "data": {
      "text/plain": [
       "'db'"
      ]
     },
     "execution_count": 22,
     "metadata": {},
     "output_type": "execute_result"
    }
   ],
   "source": [
    "config['sure']['db_type']"
   ]
  },
  {
   "cell_type": "code",
   "execution_count": 23,
   "metadata": {},
   "outputs": [
    {
     "data": {
      "text/plain": [
       "'True'"
      ]
     },
     "execution_count": 23,
     "metadata": {},
     "output_type": "execute_result"
    }
   ],
   "source": [
    "config['sure']['auto_save']"
   ]
  },
  {
   "cell_type": "code",
   "execution_count": 24,
   "metadata": {},
   "outputs": [
    {
     "data": {
      "text/plain": [
       "True"
      ]
     },
     "execution_count": 24,
     "metadata": {},
     "output_type": "execute_result"
    }
   ],
   "source": [
    "bool(config['sure']['auto_save'])"
   ]
  },
  {
   "cell_type": "code",
   "execution_count": 25,
   "metadata": {},
   "outputs": [
    {
     "name": "stdout",
     "output_type": "stream",
     "text": [
      "db_type\n",
      "db_path\n",
      "base_dir\n",
      "max_items\n",
      "auto_save\n"
     ]
    }
   ],
   "source": [
    "for k in config['sure']:\n",
    "    print(k)"
   ]
  },
  {
   "cell_type": "code",
   "execution_count": 26,
   "metadata": {},
   "outputs": [],
   "source": [
    "sure = config['sure']  # 指section"
   ]
  },
  {
   "cell_type": "code",
   "execution_count": 27,
   "metadata": {},
   "outputs": [
    {
     "data": {
      "text/plain": [
       "True"
      ]
     },
     "execution_count": 27,
     "metadata": {},
     "output_type": "execute_result"
    }
   ],
   "source": [
    "sure.getboolean('auto_save')"
   ]
  },
  {
   "cell_type": "code",
   "execution_count": 28,
   "metadata": {},
   "outputs": [
    {
     "data": {
      "text/plain": [
       "1000"
      ]
     },
     "execution_count": 28,
     "metadata": {},
     "output_type": "execute_result"
    }
   ],
   "source": [
    "sure.getint('max_items')"
   ]
  },
  {
   "cell_type": "code",
   "execution_count": 29,
   "metadata": {},
   "outputs": [
    {
     "data": {
      "text/plain": [
       "'${base_dir}/data.db'"
      ]
     },
     "execution_count": 29,
     "metadata": {},
     "output_type": "execute_result"
    }
   ],
   "source": [
    "sure.get('db_path')"
   ]
  },
  {
   "cell_type": "code",
   "execution_count": 82,
   "metadata": {},
   "outputs": [
    {
     "data": {
      "text/plain": [
       "[]"
      ]
     },
     "execution_count": 82,
     "metadata": {},
     "output_type": "execute_result"
    }
   ],
   "source": [
    "config.read('common.ini')"
   ]
  },
  {
   "cell_type": "code",
   "execution_count": 77,
   "metadata": {},
   "outputs": [],
   "source": [
    "config.add_section('sum')"
   ]
  },
  {
   "cell_type": "code",
   "execution_count": 78,
   "metadata": {},
   "outputs": [],
   "source": [
    "config.set('sum', 'db_name', 'sum.pkl')"
   ]
  },
  {
   "cell_type": "code",
   "execution_count": 79,
   "metadata": {},
   "outputs": [],
   "source": [
    "with open(config_path, 'w') as f:\n",
    "    config.write(f)"
   ]
  },
  {
   "cell_type": "code",
   "execution_count": 92,
   "metadata": {
    "scrolled": true
   },
   "outputs": [
    {
     "data": {
      "text/plain": [
       "[('base_dir', '/Users/yangsan/py2018/02-auto/data'),\n",
       " ('db_type', 'db'),\n",
       " ('db_path', '${base_dir}/data.db'),\n",
       " ('max_items', '1000'),\n",
       " ('auto_save', 'True')]"
      ]
     },
     "execution_count": 92,
     "metadata": {},
     "output_type": "execute_result"
    }
   ],
   "source": [
    "config.items('sure')"
   ]
  },
  {
   "cell_type": "code",
   "execution_count": 95,
   "metadata": {},
   "outputs": [
    {
     "name": "stdout",
     "output_type": "stream",
     "text": [
      "sure\n",
      "已存在\n"
     ]
    }
   ],
   "source": [
    "def ff():\n",
    "    sec = input()\n",
    "    if config.has_section(sec):\n",
    "        print('已存在')\n",
    "    else:\n",
    "        pass\n",
    "    \n",
    "ff()"
   ]
  },
  {
   "cell_type": "code",
   "execution_count": 35,
   "metadata": {},
   "outputs": [
    {
     "data": {
      "text/plain": [
       "['/Users/yangsan/py2018/02-auto/data/common.ini']"
      ]
     },
     "execution_count": 35,
     "metadata": {},
     "output_type": "execute_result"
    }
   ],
   "source": [
    "# 扩展，支持插入变量，选学\n",
    "config = configparser.ConfigParser(interpolation=configparser.ExtendedInterpolation())\n",
    "config.read(config_path)"
   ]
  },
  {
   "cell_type": "code",
   "execution_count": 36,
   "metadata": {},
   "outputs": [],
   "source": [
    "sure = config['sure']"
   ]
  },
  {
   "cell_type": "code",
   "execution_count": 37,
   "metadata": {},
   "outputs": [
    {
     "data": {
      "text/plain": [
       "'/Users/yangsan/py2018/02-auto/data/data.db'"
      ]
     },
     "execution_count": 37,
     "metadata": {},
     "output_type": "execute_result"
    }
   ],
   "source": [
    "sure.get('db_path')"
   ]
  },
  {
   "cell_type": "code",
   "execution_count": 38,
   "metadata": {},
   "outputs": [],
   "source": [
    "# 规划函数\n",
    "def write_config():\n",
    "    pass\n",
    "\n",
    "def read_config():\n",
    "    pass\n",
    "    \n",
    "def add_config():\n",
    "    pass\n",
    "\n",
    "def check_config():\n",
    "    pass"
   ]
  },
  {
   "cell_type": "code",
   "execution_count": 7,
   "metadata": {},
   "outputs": [
    {
     "name": "stdout",
     "output_type": "stream",
     "text": [
      "sure\n",
      "sure\n",
      "sure\n",
      "name 'config_path' is not defined\n",
      "请输入要查看的项：\n",
      "sdsde\n",
      "No section: 'sdsde'\n"
     ]
    }
   ],
   "source": [
    "# 完善函数\n",
    "import configparser\n",
    "import os\n",
    "\n",
    "base_dir = '/Users/yangsan/py2018/02-auto/data'\n",
    "data = {'DEFAULT':{'base_dir':'/Users/yangsan/py2018/02-auto/data', \n",
    "                  'db_type':'db'},\n",
    "       'sure':{'base_dir':'/Users/yangsan/py2018/02-auto/data', \n",
    "              'db_type':'pkl'}}\n",
    "\n",
    "def write_config(data:dict):\n",
    "    config = configparser.ConfigParser()\n",
    "    for k,v in data.items():\n",
    "        config[k] = v\n",
    "        \n",
    "    config_path = os.path.join(base_dir, 'demo.ini')\n",
    "    with open(config_path, 'w') as f:\n",
    "        config.write(f)\n",
    "        \n",
    "def read_config(config, section, option):\n",
    "    config = configparser.ConfigParser()\n",
    "#     config_path = os.path.join(base_dir, 'demo.ini')\n",
    "    config.read('demo.ini')\n",
    "        \n",
    "def add_config(config, section, option, value):\n",
    "    config = configparser.ConfigParser()\n",
    "    try:\n",
    "        sec = input()\n",
    "        if config.has_section(sec):\n",
    "            print('已存在')\n",
    "        else:\n",
    "            config.add_section(sec)\n",
    "            opt = input()\n",
    "            val = input()\n",
    "            config.set(sec, opt, val)\n",
    "            config_path = os.path.join(base_dir, 'demo.ini')\n",
    "            with open(config_path, 'w') as f:\n",
    "                config.write(f)\n",
    "    except Exception as e:\n",
    "        print(e)\n",
    "\n",
    "def check_config(config):\n",
    "    config = configparser.ConfigParser()\n",
    "    print('请输入要查看的项：')\n",
    "    sec = input()\n",
    "    try:\n",
    "        config.items(sec)\n",
    "    except Exception as e:\n",
    "        print(e)\n",
    "    \n",
    "write_config(data)\n",
    "read_config('demo.ini', 'sure', 'bd.type')\n",
    "add_config('demo.ini', 'sure', 'bd.type', 'bd')\n",
    "check_config('demo.ini')\n"
   ]
  },
  {
   "cell_type": "code",
   "execution_count": 18,
   "metadata": {},
   "outputs": [
    {
     "data": {
      "text/plain": [
       "[]"
      ]
     },
     "execution_count": 18,
     "metadata": {},
     "output_type": "execute_result"
    }
   ],
   "source": [
    "config = configparser.ConfigParser()\n",
    "config.read('demo.ini')"
   ]
  },
  {
   "cell_type": "code",
   "execution_count": 86,
   "metadata": {},
   "outputs": [],
   "source": [
    "# 封装成类\n",
    "class ConfigAdmin:\n",
    "    def __init__(self,  config_path, config_name):\n",
    "        self.config_path = config_path\n",
    "        self.config_name = configparser.ConfigParser()\n",
    "    \n",
    "    def write_config(self, data:dict):\n",
    "        for k,v in data.items():\n",
    "            self.config_name[k] = v\n",
    "        \n",
    "        self.config_path = os.path.join(base_dir, 'demo.ini')\n",
    "        with open(self.config_path, 'w') as f:\n",
    "            self.config_name.write(f)\n",
    "    \n",
    "    def read_config(self, section, option):\n",
    "        print('请输入要读取得配置文件：')\n",
    "        con_name = input()\n",
    "        try:\n",
    "#             self.config_path = os.path.join(base_dir, 'demo.ini')\n",
    "            self.config_name.read(con_name)\n",
    "        except Exception as e:\n",
    "            print(e)\n",
    "    \n",
    "    def add_config(self, section, option, value):\n",
    "        try:\n",
    "            print('请输入要添加的配置文件部分：')\n",
    "            sec = input()\n",
    "            if self.config_name.has_section(sec):\n",
    "                print('已存在')\n",
    "            else:\n",
    "                self.config_name.add_section(sec)\n",
    "                print('请输入要添加的配置文件内容')\n",
    "                print('项:')\n",
    "                opt = input()\n",
    "                print('值:')\n",
    "                val = input()\n",
    "                self.config_name.set(sec, opt, val)\n",
    "                with open(self.config_path, 'w') as f:\n",
    "                    self.config_name.write(f)\n",
    "        except Exception as e:\n",
    "            print(e)\n",
    "    \n",
    "    def check_config(self):\n",
    "        print('请输入要查看的项：')\n",
    "        sec = input()\n",
    "        try:\n",
    "            config.items(sec)\n",
    "        except Exception as e:\n",
    "            print(e)\n",
    "\n"
   ]
  },
  {
   "cell_type": "code",
   "execution_count": 73,
   "metadata": {},
   "outputs": [
    {
     "name": "stdout",
     "output_type": "stream",
     "text": [
      "请输入要读取得配置文件：\n",
      "config_Path\n",
      "请输入要查看的项：\n",
      "sure\n",
      "No section: 'sure'\n"
     ]
    }
   ],
   "source": [
    "base_dir = '/Users/yangsan/py2018/02-auto/data'\n",
    "data = {'DEFAULT':{'base_dir':'/Users/yangsan/py2018/02-auto/data', \n",
    "                  'db_type':'db'},\n",
    "       'sure':{'base_dir':'/Users/yangsan/py2018/02-auto/data', \n",
    "              'db_type':'pkl'}}\n",
    "sp = ConfigAdmin('base_dir', 'config_name')\n",
    "# sp.write_config(data)\n",
    "sp.read_config('section', 'optipn')\n",
    "sp.check_config()\n"
   ]
  }
 ],
 "metadata": {
  "kernelspec": {
   "display_name": "Python 3",
   "language": "python",
   "name": "python3"
  },
  "language_info": {
   "codemirror_mode": {
    "name": "ipython",
    "version": 3
   },
   "file_extension": ".py",
   "mimetype": "text/x-python",
   "name": "python",
   "nbconvert_exporter": "python",
   "pygments_lexer": "ipython3",
   "version": "3.6.5"
  }
 },
 "nbformat": 4,
 "nbformat_minor": 2
}
