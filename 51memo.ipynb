{
 "cells": [
  {
   "cell_type": "markdown",
   "metadata": {},
   "source": [
    "### 51 备忘录\n",
    "1.使用字典和列表嵌套结构表示多条记录\n",
    "\n",
    "2.添加信息时，直接输入一句话，进行解析拆解，记录时间与事件\n",
    "\n",
    "3.不同信息采用不同颜色输出"
   ]
  },
  {
   "cell_type": "code",
   "execution_count": 14,
   "metadata": {},
   "outputs": [
    {
     "name": "stdout",
     "output_type": "stream",
     "text": [
      "------------51memo------------\n",
      "请输入备忘信息\n",
      "日期:1.1\n",
      "事件:芭芭拉\n",
      "时间:10\n",
      "1:1.1, 芭芭拉, 10\n"
     ]
    }
   ],
   "source": [
    "from color import ColorMe\n",
    "\n",
    "\n",
    "desc = '51memo'.center(30, '-')\n",
    "print(desc)\n",
    "\n",
    "\n",
    "all_memo = []\n",
    "all_time = 0\n",
    "\n",
    "print('请输入备忘信息')\n",
    "in_date = input('日期:')\n",
    "in_thing = input('事件:')\n",
    "in_time = input('时间:')\n",
    "\n",
    "# one = '{date}, {thing}, {time}'.format(date=in_date, thing=in_thing, time=in_time)\n",
    "one[]\n",
    "one['date'] = in_date\n",
    "one['thing'] = in_thing\n",
    "one['time'] = in_time\n",
    "\n",
    "all_memo.append(one)\n",
    "all_time += int(in_time)\n",
    "num = 0\n",
    "for m in all_memo:\n",
    "    num += 1\n",
    "    print('%s:%s' % (num, m))"
   ]
  },
  {
   "cell_type": "code",
   "execution_count": 1,
   "metadata": {},
   "outputs": [
    {
     "data": {
      "text/plain": [
       "15"
      ]
     },
     "execution_count": 1,
     "metadata": {},
     "output_type": "execute_result"
    }
   ],
   "source": [
    "s = 'hi, siri, 明天早上8点提醒我带手机'\n",
    "s.find('点')"
   ]
  },
  {
   "cell_type": "code",
   "execution_count": 5,
   "metadata": {},
   "outputs": [
    {
     "data": {
      "text/plain": [
       "'8点'"
      ]
     },
     "execution_count": 5,
     "metadata": {},
     "output_type": "execute_result"
    }
   ],
   "source": [
    "s[s.find('点')-1:s.find('点')+1]"
   ]
  },
  {
   "cell_type": "code",
   "execution_count": 3,
   "metadata": {},
   "outputs": [
    {
     "data": {
      "text/plain": [
       "'提醒我带手机'"
      ]
     },
     "execution_count": 3,
     "metadata": {},
     "output_type": "execute_result"
    }
   ],
   "source": [
    "s[s.find('点')+1:]"
   ]
  },
  {
   "cell_type": "code",
   "execution_count": 1,
   "metadata": {},
   "outputs": [],
   "source": [
    "b = '小冰, 中午吃饭时候讲个笑话'"
   ]
  },
  {
   "cell_type": "code",
   "execution_count": 3,
   "metadata": {},
   "outputs": [],
   "source": [
    "time_dict = {'中午': 12}"
   ]
  },
  {
   "cell_type": "code",
   "execution_count": 4,
   "metadata": {},
   "outputs": [
    {
     "data": {
      "text/plain": [
       "12"
      ]
     },
     "execution_count": 4,
     "metadata": {},
     "output_type": "execute_result"
    }
   ],
   "source": [
    "time_dict['中午']"
   ]
  },
  {
   "cell_type": "code",
   "execution_count": 5,
   "metadata": {},
   "outputs": [
    {
     "data": {
      "text/plain": [
       "4"
      ]
     },
     "execution_count": 5,
     "metadata": {},
     "output_type": "execute_result"
    }
   ],
   "source": [
    "b.find('中午')"
   ]
  },
  {
   "cell_type": "code",
   "execution_count": 7,
   "metadata": {},
   "outputs": [
    {
     "data": {
      "text/plain": [
       "'中午'"
      ]
     },
     "execution_count": 7,
     "metadata": {},
     "output_type": "execute_result"
    }
   ],
   "source": [
    "b[b.find('中午'):b.find('中午')+2]"
   ]
  },
  {
   "cell_type": "code",
   "execution_count": 9,
   "metadata": {},
   "outputs": [
    {
     "data": {
      "text/plain": [
       "12"
      ]
     },
     "execution_count": 9,
     "metadata": {},
     "output_type": "execute_result"
    }
   ],
   "source": [
    "time_dict[b[b.find('中午'):b.find('中午')+2]]"
   ]
  },
  {
   "cell_type": "code",
   "execution_count": 10,
   "metadata": {},
   "outputs": [
    {
     "data": {
      "text/plain": [
       "8"
      ]
     },
     "execution_count": 10,
     "metadata": {},
     "output_type": "execute_result"
    }
   ],
   "source": [
    "b.find('时候')"
   ]
  },
  {
   "cell_type": "code",
   "execution_count": 12,
   "metadata": {},
   "outputs": [
    {
     "data": {
      "text/plain": [
       "'讲个笑话'"
      ]
     },
     "execution_count": 12,
     "metadata": {},
     "output_type": "execute_result"
    }
   ],
   "source": [
    "b[b.find('时候')+2:]"
   ]
  },
  {
   "cell_type": "code",
   "execution_count": null,
   "metadata": {},
   "outputs": [
    {
     "name": "stdout",
     "output_type": "stream",
     "text": [
      "------------51memo------------\n",
      "welcome sure\n",
      "请输入备忘信息:hi, siri, 明天早上8点提醒我带手机\n",
      "-------------代办列表-------------\n",
      "1:{'thing': '提醒我带手机', 'time': '8点'}\n",
      "共1条代办事项。(y:继续添加，n:退出)\n",
      "y\n",
      "请输入备忘信息:hi, siri, 明天早上12点吃饭\n",
      "-------------代办列表-------------\n",
      "1:{'thing': '提醒我带手机', 'time': '8点'}\n",
      "2:{'thing': '吃饭', 'time': '2点'}\n",
      "共2条代办事项。(y:继续添加，n:退出)\n"
     ]
    }
   ],
   "source": [
    "__author__ = 'sure'\n",
    "\n",
    "desc = '51memo'.center(30, '-')\n",
    "print(desc)\n",
    "welcome = 'welcome'\n",
    "print(f'{welcome}', __author__)\n",
    "# print('请输入备忘信息:')\n",
    "\n",
    "all_memo = []\n",
    "is_add = True\n",
    "all_time = 0\n",
    "\n",
    "while(is_add):  #这是循环\n",
    "    msn = input('请输入备忘信息:')\n",
    "    # in_date = input('日期')\n",
    "    in_time = msn[msn.find('点')-1:msn.find('点')+1]\n",
    "    in_thing = msn[msn.find('点')+1:]\n",
    "    print('代办列表'.center(30, '-'))\n",
    "\n",
    "    one = {}\n",
    "    # one['date'] = in_date\n",
    "    one['thing'] = in_thing\n",
    "    one['time'] = in_time\n",
    "\n",
    "    all_memo.append(one)\n",
    "#     all_time += int(in_time)\n",
    "    num = 0\n",
    "    for m in all_memo:\n",
    "        num += 1\n",
    "        print('%s:%s' % (num, m))\n",
    "\n",
    "    print(f'共{len(all_memo)}条代办事项。', end='')\n",
    "    print('(y:继续添加，n:退出)')\n",
    "    is_add = input().strip() == 'y'"
   ]
  }
 ],
 "metadata": {
  "kernelspec": {
   "display_name": "Python 3",
   "language": "python",
   "name": "python3"
  },
  "language_info": {
   "codemirror_mode": {
    "name": "ipython",
    "version": 3
   },
   "file_extension": ".py",
   "mimetype": "text/x-python",
   "name": "python",
   "nbconvert_exporter": "python",
   "pygments_lexer": "ipython3",
   "version": "3.6.5"
  }
 },
 "nbformat": 4,
 "nbformat_minor": 2
}
