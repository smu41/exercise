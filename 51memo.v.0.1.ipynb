{
 "cells": [
  {
   "cell_type": "markdown",
   "metadata": {},
   "source": [
    "1.添加Memo类，至少包含id，name，thing，date四个属性，date可以暂时使用字符串表示，比如‘1.2’，‘3.8’，暂时不用考虑时间相关模块\n",
    "\n",
    "2.id属性为只读，其他属性可读写\n",
    "\n",
    "3.添加MemoAdmin类，作为主体程序，管理Memo类构成的列表，进行Memo的增删改查（相应方法为add, del, modify, query），处理输入输出。\n",
    "\n",
    "4.所有Memo记录使用pickle进行读写，数据文件为db.pkl, 读写方法为save和load\n",
    "\n",
    "5.各个类中的每个方法必须添加说明doc-string（即def下一行加一句注释），每个类必须添加注释说明，解释作用(缺一条减10分)"
   ]
  },
  {
   "cell_type": "code",
   "execution_count": 28,
   "metadata": {},
   "outputs": [],
   "source": [
    "import pickle\n",
    "\n",
    "class Memo:\n",
    "    '列表类'\n",
    "    def __init__(self, name, date, thing):\n",
    "        self._id = 0\n",
    "        self.name = name\n",
    "        self.thing = thing\n",
    "        self.date = date\n",
    "        \n",
    "    @property\n",
    "    def id(self):\n",
    "        '列表编号'\n",
    "        for m in self.memo_list:\n",
    "            self._id += 1\n",
    "            print('%s:%s' % (self._id, m))\n",
    "        return self._id\n",
    "    \n",
    "class MemoAdmin:\n",
    "    '控制类'\n",
    "    def __init__(self):\n",
    "        self.memo_list = []\n",
    "        \n",
    "    def add(self):\n",
    "        '创建信息'\n",
    "        foot.thing = input('事件:')\n",
    "        foot.date = input('日期:')\n",
    "        one = {}\n",
    "        one['date'] = foot.date\n",
    "        one['thing'] = foot.thing\n",
    "        self.memo_list.append(one)\n",
    "        print(f'共{len(self.memo_list)}条未处理。', end='')\n",
    "\n",
    "    def delete(self):\n",
    "        '删除信息'\n",
    "        self.memo_list.clear()\n",
    "   \n",
    "    def save(self):\n",
    "        '保存信息'\n",
    "        with open ('db.pkl', 'wb') as f:\n",
    "            f.write(pickle.dumps(self.memo_list))\n",
    "            print('保存成功')\n",
    "    \n",
    "    def load(self):\n",
    "        '加载信息'\n",
    "        with open ('db.pkl', 'rb') as f:\n",
    "            self.memo_list = pickle.loads(f.read())\n",
    "            print(self.memo_list)\n",
    "    \n",
    "def run():\n",
    "    esc = True\n",
    "    while(esc):\n",
    "        print('目录')\n",
    "        menu = {'添加': 'add', '清空': 'delete', '保存': 'save', '查看': 'load'}\n",
    "        for k, v in menu.items():\n",
    "            print(k, v)\n",
    "        chooes = input('请选择操作类型:')\n",
    "        fun = getattr(admin, chooes)\n",
    "        if(fun):\n",
    "            fun()\n",
    "        else:\n",
    "            print('没有这个选项！！')\n",
    "        print('(y:继续操作，n:退出)')\n",
    "        esc = input().strip() == 'y'"
   ]
  },
  {
   "cell_type": "code",
   "execution_count": 30,
   "metadata": {
    "scrolled": true
   },
   "outputs": [
    {
     "name": "stdout",
     "output_type": "stream",
     "text": [
      "目录\n",
      "添加 add\n",
      "清空 delete\n",
      "保存 save\n",
      "查看 load\n",
      "请选择操作类型:add\n",
      "事件:sded\n",
      "日期:1.1\n",
      "共1条未处理。(y:继续操作，n:退出)\n",
      "n\n"
     ]
    }
   ],
   "source": [
    "admin = MemoAdmin()\n",
    "foot = Memo('sure', '', '')\n",
    "run()"
   ]
  },
  {
   "cell_type": "code",
   "execution_count": 25,
   "metadata": {},
   "outputs": [
    {
     "data": {
      "text/plain": [
       "'复合弓'"
      ]
     },
     "execution_count": 25,
     "metadata": {},
     "output_type": "execute_result"
    }
   ],
   "source": [
    "foot.thing"
   ]
  },
  {
   "cell_type": "code",
   "execution_count": 67,
   "metadata": {},
   "outputs": [],
   "source": [
    "class Memo:\n",
    "    '列表类'\n",
    "    def __init__(self, name, thing, date):\n",
    "        self._id = 0\n",
    "        self.name = name\n",
    "        self.thing = thing\n",
    "        self.date = date \n",
    "        \n",
    "class MemoAdmin(Memo):\n",
    "    '控制类'\n",
    "    def __init__(self):\n",
    "        self.memo_list = []\n",
    "        \n",
    "    def add(self):\n",
    "        '创建信息'\n",
    "        x = {}\n",
    "        x['date'] = input()\n",
    "        x['thing'] = input()\n",
    "        self.memo_list.append(x)\n",
    "        print(self.memo_list)"
   ]
  },
  {
   "cell_type": "code",
   "execution_count": 68,
   "metadata": {},
   "outputs": [
    {
     "name": "stdout",
     "output_type": "stream",
     "text": [
      "1.1\n",
      "222\n",
      "[{'date': '1.1', 'thing': '222'}]\n"
     ]
    }
   ],
   "source": [
    "c = MemoAdmin()\n",
    "c.add()"
   ]
  },
  {
   "cell_type": "code",
   "execution_count": 135,
   "metadata": {},
   "outputs": [
    {
     "name": "stdout",
     "output_type": "stream",
     "text": [
      "[]\n",
      "hello，我是机器人小8\n",
      "你:早\n",
      "小8:None\n"
     ]
    }
   ],
   "source": [
    "import pickle\n",
    "\n",
    "data = {\n",
    "'早上好':'早',\n",
    "'天气怎么样': '多云转晴，温度26度，北转南风七八级',\n",
    "'python怎么学': '请找De8uG'}\n",
    "\n",
    "class RobotUI:\n",
    "    def __init__(self, name, admin):\n",
    "        self.name = name\n",
    "        self.admin = admin\n",
    "        \n",
    "    def talk(self):\n",
    "        self.welcome()\n",
    "        words = input('你:')\n",
    "        answer = admin.answer(words)\n",
    "        print(f'{self.name}:{answer}')\n",
    "        \n",
    "    def welcome(self):\n",
    "        print(f'hello，我是机器人{self.name}')\n",
    "        \n",
    "class RobotAdmin:\n",
    "    def __init__(self):\n",
    "        self.data = self.load_data()  # {}\n",
    "        \n",
    "    def load_data(self):\n",
    "        with open('db.pkl', 'rb') as f:\n",
    "            data = pickle.loads(f.read())\n",
    "            print(data)\n",
    "            return data\n",
    "        \n",
    "    def answer(self, listen):\n",
    "        # answer something from listen\n",
    "        if listen in self.data:\n",
    "            return self.data[listen]\n",
    "        \n",
    "admin = RobotAdmin()\n",
    "robot = RobotUI('小8', admin)\n",
    "robot.talk()"
   ]
  },
  {
   "cell_type": "code",
   "execution_count": 137,
   "metadata": {},
   "outputs": [
    {
     "data": {
      "text/plain": [
       "<__main__.RobotAdmin at 0x1119a7978>"
      ]
     },
     "execution_count": 137,
     "metadata": {},
     "output_type": "execute_result"
    }
   ],
   "source": [
    "robot.admin"
   ]
  }
 ],
 "metadata": {
  "kernelspec": {
   "display_name": "Python 3",
   "language": "python",
   "name": "python3"
  },
  "language_info": {
   "codemirror_mode": {
    "name": "ipython",
    "version": 3
   },
   "file_extension": ".py",
   "mimetype": "text/x-python",
   "name": "python",
   "nbconvert_exporter": "python",
   "pygments_lexer": "ipython3",
   "version": "3.6.5"
  }
 },
 "nbformat": 4,
 "nbformat_minor": 2
}
