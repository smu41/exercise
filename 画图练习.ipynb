{
 "cells": [
  {
   "cell_type": "code",
   "execution_count": 2,
   "metadata": {},
   "outputs": [],
   "source": [
    "import numpy as np\n",
    "import pandas as pd\n",
    "import matplotlib.pyplot as plt\n",
    "plt.rcParams['font.sans-serif'] = ['Hei']\n",
    "plt.rcParams['font.serif'] = ['Hei']"
   ]
  },
  {
   "cell_type": "code",
   "execution_count": 3,
   "metadata": {},
   "outputs": [
    {
     "name": "stderr",
     "output_type": "stream",
     "text": [
      "/anaconda3/envs/ys/lib/python3.7/site-packages/IPython/core/interactiveshell.py:3020: DtypeWarning: Columns (22,32) have mixed types. Specify dtype option on import or set low_memory=False.\n",
      "  interactivity=interactivity, compiler=compiler, result=result)\n"
     ]
    }
   ],
   "source": [
    "data1 = pd.read_csv('Building_Permits.csv')"
   ]
  },
  {
   "cell_type": "code",
   "execution_count": 4,
   "metadata": {},
   "outputs": [
    {
     "data": {
      "text/html": [
       "<div>\n",
       "<style scoped>\n",
       "    .dataframe tbody tr th:only-of-type {\n",
       "        vertical-align: middle;\n",
       "    }\n",
       "\n",
       "    .dataframe tbody tr th {\n",
       "        vertical-align: top;\n",
       "    }\n",
       "\n",
       "    .dataframe thead th {\n",
       "        text-align: right;\n",
       "    }\n",
       "</style>\n",
       "<table border=\"1\" class=\"dataframe\">\n",
       "  <thead>\n",
       "    <tr style=\"text-align: right;\">\n",
       "      <th></th>\n",
       "      <th>Permit Number</th>\n",
       "      <th>Permit Type</th>\n",
       "      <th>Permit Type Definition</th>\n",
       "      <th>Permit Creation Date</th>\n",
       "      <th>Block</th>\n",
       "      <th>Lot</th>\n",
       "      <th>Street Number</th>\n",
       "      <th>Street Number Suffix</th>\n",
       "      <th>Street Name</th>\n",
       "      <th>Street Suffix</th>\n",
       "      <th>...</th>\n",
       "      <th>Existing Construction Type</th>\n",
       "      <th>Existing Construction Type Description</th>\n",
       "      <th>Proposed Construction Type</th>\n",
       "      <th>Proposed Construction Type Description</th>\n",
       "      <th>Site Permit</th>\n",
       "      <th>Supervisor District</th>\n",
       "      <th>Neighborhoods - Analysis Boundaries</th>\n",
       "      <th>Zipcode</th>\n",
       "      <th>Location</th>\n",
       "      <th>Record ID</th>\n",
       "    </tr>\n",
       "  </thead>\n",
       "  <tbody>\n",
       "    <tr>\n",
       "      <th>0</th>\n",
       "      <td>201505065519</td>\n",
       "      <td>4</td>\n",
       "      <td>sign - erect</td>\n",
       "      <td>05/06/2015</td>\n",
       "      <td>0326</td>\n",
       "      <td>023</td>\n",
       "      <td>140</td>\n",
       "      <td>NaN</td>\n",
       "      <td>Ellis</td>\n",
       "      <td>St</td>\n",
       "      <td>...</td>\n",
       "      <td>3.0</td>\n",
       "      <td>constr type 3</td>\n",
       "      <td>NaN</td>\n",
       "      <td>NaN</td>\n",
       "      <td>NaN</td>\n",
       "      <td>3.0</td>\n",
       "      <td>Tenderloin</td>\n",
       "      <td>94102.0</td>\n",
       "      <td>(37.785719256680785, -122.40852313194863)</td>\n",
       "      <td>1380611233945</td>\n",
       "    </tr>\n",
       "    <tr>\n",
       "      <th>1</th>\n",
       "      <td>201604195146</td>\n",
       "      <td>4</td>\n",
       "      <td>sign - erect</td>\n",
       "      <td>04/19/2016</td>\n",
       "      <td>0306</td>\n",
       "      <td>007</td>\n",
       "      <td>440</td>\n",
       "      <td>NaN</td>\n",
       "      <td>Geary</td>\n",
       "      <td>St</td>\n",
       "      <td>...</td>\n",
       "      <td>3.0</td>\n",
       "      <td>constr type 3</td>\n",
       "      <td>NaN</td>\n",
       "      <td>NaN</td>\n",
       "      <td>NaN</td>\n",
       "      <td>3.0</td>\n",
       "      <td>Tenderloin</td>\n",
       "      <td>94102.0</td>\n",
       "      <td>(37.78733980600732, -122.41063199757738)</td>\n",
       "      <td>1420164406718</td>\n",
       "    </tr>\n",
       "    <tr>\n",
       "      <th>2</th>\n",
       "      <td>201605278609</td>\n",
       "      <td>3</td>\n",
       "      <td>additions alterations or repairs</td>\n",
       "      <td>05/27/2016</td>\n",
       "      <td>0595</td>\n",
       "      <td>203</td>\n",
       "      <td>1647</td>\n",
       "      <td>NaN</td>\n",
       "      <td>Pacific</td>\n",
       "      <td>Av</td>\n",
       "      <td>...</td>\n",
       "      <td>1.0</td>\n",
       "      <td>constr type 1</td>\n",
       "      <td>1.0</td>\n",
       "      <td>constr type 1</td>\n",
       "      <td>NaN</td>\n",
       "      <td>3.0</td>\n",
       "      <td>Russian Hill</td>\n",
       "      <td>94109.0</td>\n",
       "      <td>(37.7946573324287, -122.42232562979227)</td>\n",
       "      <td>1424856504716</td>\n",
       "    </tr>\n",
       "    <tr>\n",
       "      <th>3</th>\n",
       "      <td>201611072166</td>\n",
       "      <td>8</td>\n",
       "      <td>otc alterations permit</td>\n",
       "      <td>11/07/2016</td>\n",
       "      <td>0156</td>\n",
       "      <td>011</td>\n",
       "      <td>1230</td>\n",
       "      <td>NaN</td>\n",
       "      <td>Pacific</td>\n",
       "      <td>Av</td>\n",
       "      <td>...</td>\n",
       "      <td>5.0</td>\n",
       "      <td>wood frame (5)</td>\n",
       "      <td>5.0</td>\n",
       "      <td>wood frame (5)</td>\n",
       "      <td>NaN</td>\n",
       "      <td>3.0</td>\n",
       "      <td>Nob Hill</td>\n",
       "      <td>94109.0</td>\n",
       "      <td>(37.79595867909168, -122.41557405519474)</td>\n",
       "      <td>1443574295566</td>\n",
       "    </tr>\n",
       "    <tr>\n",
       "      <th>4</th>\n",
       "      <td>201611283529</td>\n",
       "      <td>6</td>\n",
       "      <td>demolitions</td>\n",
       "      <td>11/28/2016</td>\n",
       "      <td>0342</td>\n",
       "      <td>001</td>\n",
       "      <td>950</td>\n",
       "      <td>NaN</td>\n",
       "      <td>Market</td>\n",
       "      <td>St</td>\n",
       "      <td>...</td>\n",
       "      <td>3.0</td>\n",
       "      <td>constr type 3</td>\n",
       "      <td>NaN</td>\n",
       "      <td>NaN</td>\n",
       "      <td>NaN</td>\n",
       "      <td>6.0</td>\n",
       "      <td>Tenderloin</td>\n",
       "      <td>94102.0</td>\n",
       "      <td>(37.78315261897309, -122.40950883997789)</td>\n",
       "      <td>144548169992</td>\n",
       "    </tr>\n",
       "  </tbody>\n",
       "</table>\n",
       "<p>5 rows × 43 columns</p>\n",
       "</div>"
      ],
      "text/plain": [
       "  Permit Number  Permit Type            Permit Type Definition  \\\n",
       "0  201505065519            4                      sign - erect   \n",
       "1  201604195146            4                      sign - erect   \n",
       "2  201605278609            3  additions alterations or repairs   \n",
       "3  201611072166            8            otc alterations permit   \n",
       "4  201611283529            6                       demolitions   \n",
       "\n",
       "  Permit Creation Date Block  Lot  Street Number Street Number Suffix  \\\n",
       "0           05/06/2015  0326  023            140                  NaN   \n",
       "1           04/19/2016  0306  007            440                  NaN   \n",
       "2           05/27/2016  0595  203           1647                  NaN   \n",
       "3           11/07/2016  0156  011           1230                  NaN   \n",
       "4           11/28/2016  0342  001            950                  NaN   \n",
       "\n",
       "  Street Name Street Suffix      ...        Existing Construction Type  \\\n",
       "0       Ellis            St      ...                               3.0   \n",
       "1       Geary            St      ...                               3.0   \n",
       "2     Pacific            Av      ...                               1.0   \n",
       "3     Pacific            Av      ...                               5.0   \n",
       "4      Market            St      ...                               3.0   \n",
       "\n",
       "  Existing Construction Type Description Proposed Construction Type  \\\n",
       "0                          constr type 3                        NaN   \n",
       "1                          constr type 3                        NaN   \n",
       "2                          constr type 1                        1.0   \n",
       "3                         wood frame (5)                        5.0   \n",
       "4                          constr type 3                        NaN   \n",
       "\n",
       "  Proposed Construction Type Description Site Permit Supervisor District  \\\n",
       "0                                    NaN         NaN                 3.0   \n",
       "1                                    NaN         NaN                 3.0   \n",
       "2                          constr type 1         NaN                 3.0   \n",
       "3                         wood frame (5)         NaN                 3.0   \n",
       "4                                    NaN         NaN                 6.0   \n",
       "\n",
       "  Neighborhoods - Analysis Boundaries  Zipcode  \\\n",
       "0                          Tenderloin  94102.0   \n",
       "1                          Tenderloin  94102.0   \n",
       "2                        Russian Hill  94109.0   \n",
       "3                            Nob Hill  94109.0   \n",
       "4                          Tenderloin  94102.0   \n",
       "\n",
       "                                    Location      Record ID  \n",
       "0  (37.785719256680785, -122.40852313194863)  1380611233945  \n",
       "1   (37.78733980600732, -122.41063199757738)  1420164406718  \n",
       "2    (37.7946573324287, -122.42232562979227)  1424856504716  \n",
       "3   (37.79595867909168, -122.41557405519474)  1443574295566  \n",
       "4   (37.78315261897309, -122.40950883997789)   144548169992  \n",
       "\n",
       "[5 rows x 43 columns]"
      ]
     },
     "execution_count": 4,
     "metadata": {},
     "output_type": "execute_result"
    }
   ],
   "source": [
    "data1.head()"
   ]
  },
  {
   "cell_type": "code",
   "execution_count": 8,
   "metadata": {},
   "outputs": [
    {
     "name": "stdout",
     "output_type": "stream",
     "text": [
      "<class 'pandas.core.frame.DataFrame'>\n",
      "RangeIndex: 198900 entries, 0 to 198899\n",
      "Data columns (total 43 columns):\n",
      "Permit Number                             198900 non-null object\n",
      "Permit Type                               198900 non-null int64\n",
      "Permit Type Definition                    198900 non-null object\n",
      "Permit Creation Date                      198900 non-null object\n",
      "Block                                     198900 non-null object\n",
      "Lot                                       198900 non-null object\n",
      "Street Number                             198900 non-null int64\n",
      "Street Number Suffix                      2216 non-null object\n",
      "Street Name                               198900 non-null object\n",
      "Street Suffix                             196132 non-null object\n",
      "Unit                                      29479 non-null float64\n",
      "Unit Suffix                               1961 non-null object\n",
      "Description                               198610 non-null object\n",
      "Current Status                            198900 non-null object\n",
      "Current Status Date                       198900 non-null object\n",
      "Filed Date                                198900 non-null object\n",
      "Issued Date                               183960 non-null object\n",
      "Completed Date                            97191 non-null object\n",
      "First Construction Document Date          183954 non-null object\n",
      "Structural Notification                   6922 non-null object\n",
      "Number of Existing Stories                156116 non-null float64\n",
      "Number of Proposed Stories                156032 non-null float64\n",
      "Voluntary Soft-Story Retrofit             35 non-null object\n",
      "Fire Only Permit                          18827 non-null object\n",
      "Permit Expiration Date                    147020 non-null object\n",
      "Estimated Cost                            160834 non-null float64\n",
      "Revised Cost                              192834 non-null float64\n",
      "Existing Use                              157786 non-null object\n",
      "Existing Units                            147362 non-null float64\n",
      "Proposed Use                              156461 non-null object\n",
      "Proposed Units                            147989 non-null float64\n",
      "Plansets                                  161591 non-null float64\n",
      "TIDF Compliance                           2 non-null object\n",
      "Existing Construction Type                155534 non-null float64\n",
      "Existing Construction Type Description    155534 non-null object\n",
      "Proposed Construction Type                155738 non-null float64\n",
      "Proposed Construction Type Description    155738 non-null object\n",
      "Site Permit                               5359 non-null object\n",
      "Supervisor District                       197183 non-null float64\n",
      "Neighborhoods - Analysis Boundaries       197175 non-null object\n",
      "Zipcode                                   197184 non-null float64\n",
      "Location                                  197200 non-null object\n",
      "Record ID                                 198900 non-null int64\n",
      "dtypes: float64(12), int64(3), object(28)\n",
      "memory usage: 65.3+ MB\n"
     ]
    }
   ],
   "source": [
    "data1.info()"
   ]
  },
  {
   "cell_type": "code",
   "execution_count": 14,
   "metadata": {},
   "outputs": [
    {
     "data": {
      "text/plain": [
       "Permit Number                             0.000000\n",
       "Permit Type                               0.000000\n",
       "Permit Type Definition                    0.000000\n",
       "Permit Creation Date                      0.000000\n",
       "Block                                     0.000000\n",
       "Lot                                       0.000000\n",
       "Street Number                             0.000000\n",
       "Street Number Suffix                      0.988859\n",
       "Street Name                               0.000000\n",
       "Street Suffix                             0.013917\n",
       "Unit                                      0.851790\n",
       "Unit Suffix                               0.990141\n",
       "Description                               0.001458\n",
       "Current Status                            0.000000\n",
       "Current Status Date                       0.000000\n",
       "Filed Date                                0.000000\n",
       "Issued Date                               0.075113\n",
       "Completed Date                            0.511357\n",
       "First Construction Document Date          0.075143\n",
       "Structural Notification                   0.965199\n",
       "Number of Existing Stories                0.215103\n",
       "Number of Proposed Stories                0.215525\n",
       "Voluntary Soft-Story Retrofit             0.999824\n",
       "Fire Only Permit                          0.905344\n",
       "Permit Expiration Date                    0.260835\n",
       "Estimated Cost                            0.191383\n",
       "Revised Cost                              0.030498\n",
       "Existing Use                              0.206707\n",
       "Existing Units                            0.259115\n",
       "Proposed Use                              0.213369\n",
       "Proposed Units                            0.255963\n",
       "Plansets                                  0.187577\n",
       "TIDF Compliance                           0.999990\n",
       "Existing Construction Type                0.218029\n",
       "Existing Construction Type Description    0.218029\n",
       "Proposed Construction Type                0.217004\n",
       "Proposed Construction Type Description    0.217004\n",
       "Site Permit                               0.973057\n",
       "Supervisor District                       0.008632\n",
       "Neighborhoods - Analysis Boundaries       0.008673\n",
       "Zipcode                                   0.008627\n",
       "Location                                  0.008547\n",
       "Record ID                                 0.000000\n",
       "dtype: float64"
      ]
     },
     "execution_count": 14,
     "metadata": {},
     "output_type": "execute_result"
    }
   ],
   "source": [
    "data1.isnull().mean()"
   ]
  },
  {
   "cell_type": "code",
   "execution_count": 18,
   "metadata": {},
   "outputs": [],
   "source": [
    "data1.sort_values(by='Permit Number',inplace=True)"
   ]
  },
  {
   "cell_type": "code",
   "execution_count": 19,
   "metadata": {},
   "outputs": [
    {
     "data": {
      "text/html": [
       "<div>\n",
       "<style scoped>\n",
       "    .dataframe tbody tr th:only-of-type {\n",
       "        vertical-align: middle;\n",
       "    }\n",
       "\n",
       "    .dataframe tbody tr th {\n",
       "        vertical-align: top;\n",
       "    }\n",
       "\n",
       "    .dataframe thead th {\n",
       "        text-align: right;\n",
       "    }\n",
       "</style>\n",
       "<table border=\"1\" class=\"dataframe\">\n",
       "  <thead>\n",
       "    <tr style=\"text-align: right;\">\n",
       "      <th></th>\n",
       "      <th>Permit Number</th>\n",
       "      <th>Permit Type</th>\n",
       "      <th>Permit Type Definition</th>\n",
       "      <th>Permit Creation Date</th>\n",
       "      <th>Block</th>\n",
       "      <th>Lot</th>\n",
       "      <th>Street Number</th>\n",
       "      <th>Street Number Suffix</th>\n",
       "      <th>Street Name</th>\n",
       "      <th>Street Suffix</th>\n",
       "      <th>...</th>\n",
       "      <th>Existing Construction Type</th>\n",
       "      <th>Existing Construction Type Description</th>\n",
       "      <th>Proposed Construction Type</th>\n",
       "      <th>Proposed Construction Type Description</th>\n",
       "      <th>Site Permit</th>\n",
       "      <th>Supervisor District</th>\n",
       "      <th>Neighborhoods - Analysis Boundaries</th>\n",
       "      <th>Zipcode</th>\n",
       "      <th>Location</th>\n",
       "      <th>Record ID</th>\n",
       "    </tr>\n",
       "  </thead>\n",
       "  <tbody>\n",
       "    <tr>\n",
       "      <th>484</th>\n",
       "      <td>201301027037</td>\n",
       "      <td>8</td>\n",
       "      <td>otc alterations permit</td>\n",
       "      <td>01/02/2013</td>\n",
       "      <td>0697</td>\n",
       "      <td>039</td>\n",
       "      <td>1400</td>\n",
       "      <td>NaN</td>\n",
       "      <td>Geary</td>\n",
       "      <td>Bl</td>\n",
       "      <td>...</td>\n",
       "      <td>1.0</td>\n",
       "      <td>constr type 1</td>\n",
       "      <td>1.0</td>\n",
       "      <td>constr type 1</td>\n",
       "      <td>NaN</td>\n",
       "      <td>5.0</td>\n",
       "      <td>Japantown</td>\n",
       "      <td>94109.0</td>\n",
       "      <td>(37.785542417311106, -122.42713399675488)</td>\n",
       "      <td>129210879901</td>\n",
       "    </tr>\n",
       "    <tr>\n",
       "      <th>486</th>\n",
       "      <td>201301027038</td>\n",
       "      <td>8</td>\n",
       "      <td>otc alterations permit</td>\n",
       "      <td>01/02/2013</td>\n",
       "      <td>1102</td>\n",
       "      <td>017</td>\n",
       "      <td>1247</td>\n",
       "      <td>NaN</td>\n",
       "      <td>Broderick</td>\n",
       "      <td>St</td>\n",
       "      <td>...</td>\n",
       "      <td>5.0</td>\n",
       "      <td>wood frame (5)</td>\n",
       "      <td>5.0</td>\n",
       "      <td>wood frame (5)</td>\n",
       "      <td>NaN</td>\n",
       "      <td>2.0</td>\n",
       "      <td>Western Addition</td>\n",
       "      <td>94115.0</td>\n",
       "      <td>(37.78188510892238, -122.4411253188458)</td>\n",
       "      <td>1292110425763</td>\n",
       "    </tr>\n",
       "    <tr>\n",
       "      <th>489</th>\n",
       "      <td>201301027039</td>\n",
       "      <td>8</td>\n",
       "      <td>otc alterations permit</td>\n",
       "      <td>01/02/2013</td>\n",
       "      <td>1751</td>\n",
       "      <td>010</td>\n",
       "      <td>1289</td>\n",
       "      <td>NaN</td>\n",
       "      <td>02nd</td>\n",
       "      <td>Av</td>\n",
       "      <td>...</td>\n",
       "      <td>5.0</td>\n",
       "      <td>wood frame (5)</td>\n",
       "      <td>5.0</td>\n",
       "      <td>wood frame (5)</td>\n",
       "      <td>NaN</td>\n",
       "      <td>5.0</td>\n",
       "      <td>Inner Sunset</td>\n",
       "      <td>94122.0</td>\n",
       "      <td>(37.76451538602564, -122.4591117589727)</td>\n",
       "      <td>1292113396893</td>\n",
       "    </tr>\n",
       "    <tr>\n",
       "      <th>490</th>\n",
       "      <td>201301027040</td>\n",
       "      <td>8</td>\n",
       "      <td>otc alterations permit</td>\n",
       "      <td>01/02/2013</td>\n",
       "      <td>0318</td>\n",
       "      <td>014</td>\n",
       "      <td>500</td>\n",
       "      <td>NaN</td>\n",
       "      <td>Leavenworth</td>\n",
       "      <td>St</td>\n",
       "      <td>...</td>\n",
       "      <td>3.0</td>\n",
       "      <td>constr type 3</td>\n",
       "      <td>3.0</td>\n",
       "      <td>constr type 3</td>\n",
       "      <td>NaN</td>\n",
       "      <td>6.0</td>\n",
       "      <td>Tenderloin</td>\n",
       "      <td>94102.0</td>\n",
       "      <td>(37.785819520399485, -122.41442879309835)</td>\n",
       "      <td>129211469420</td>\n",
       "    </tr>\n",
       "    <tr>\n",
       "      <th>491</th>\n",
       "      <td>201301027041</td>\n",
       "      <td>8</td>\n",
       "      <td>otc alterations permit</td>\n",
       "      <td>01/02/2013</td>\n",
       "      <td>0251</td>\n",
       "      <td>012</td>\n",
       "      <td>1262</td>\n",
       "      <td>NaN</td>\n",
       "      <td>Pine</td>\n",
       "      <td>St</td>\n",
       "      <td>...</td>\n",
       "      <td>5.0</td>\n",
       "      <td>wood frame (5)</td>\n",
       "      <td>5.0</td>\n",
       "      <td>wood frame (5)</td>\n",
       "      <td>NaN</td>\n",
       "      <td>3.0</td>\n",
       "      <td>Nob Hill</td>\n",
       "      <td>94109.0</td>\n",
       "      <td>(37.79039549824972, -122.41662615110641)</td>\n",
       "      <td>1292115272018</td>\n",
       "    </tr>\n",
       "  </tbody>\n",
       "</table>\n",
       "<p>5 rows × 43 columns</p>\n",
       "</div>"
      ],
      "text/plain": [
       "    Permit Number  Permit Type  Permit Type Definition Permit Creation Date  \\\n",
       "484  201301027037            8  otc alterations permit           01/02/2013   \n",
       "486  201301027038            8  otc alterations permit           01/02/2013   \n",
       "489  201301027039            8  otc alterations permit           01/02/2013   \n",
       "490  201301027040            8  otc alterations permit           01/02/2013   \n",
       "491  201301027041            8  otc alterations permit           01/02/2013   \n",
       "\n",
       "    Block  Lot  Street Number Street Number Suffix  Street Name Street Suffix  \\\n",
       "484  0697  039           1400                  NaN        Geary            Bl   \n",
       "486  1102  017           1247                  NaN    Broderick            St   \n",
       "489  1751  010           1289                  NaN         02nd            Av   \n",
       "490  0318  014            500                  NaN  Leavenworth            St   \n",
       "491  0251  012           1262                  NaN         Pine            St   \n",
       "\n",
       "         ...        Existing Construction Type  \\\n",
       "484      ...                               1.0   \n",
       "486      ...                               5.0   \n",
       "489      ...                               5.0   \n",
       "490      ...                               3.0   \n",
       "491      ...                               5.0   \n",
       "\n",
       "    Existing Construction Type Description Proposed Construction Type  \\\n",
       "484                          constr type 1                        1.0   \n",
       "486                         wood frame (5)                        5.0   \n",
       "489                         wood frame (5)                        5.0   \n",
       "490                          constr type 3                        3.0   \n",
       "491                         wood frame (5)                        5.0   \n",
       "\n",
       "    Proposed Construction Type Description Site Permit Supervisor District  \\\n",
       "484                          constr type 1         NaN                 5.0   \n",
       "486                         wood frame (5)         NaN                 2.0   \n",
       "489                         wood frame (5)         NaN                 5.0   \n",
       "490                          constr type 3         NaN                 6.0   \n",
       "491                         wood frame (5)         NaN                 3.0   \n",
       "\n",
       "    Neighborhoods - Analysis Boundaries  Zipcode  \\\n",
       "484                           Japantown  94109.0   \n",
       "486                    Western Addition  94115.0   \n",
       "489                        Inner Sunset  94122.0   \n",
       "490                          Tenderloin  94102.0   \n",
       "491                            Nob Hill  94109.0   \n",
       "\n",
       "                                      Location      Record ID  \n",
       "484  (37.785542417311106, -122.42713399675488)   129210879901  \n",
       "486    (37.78188510892238, -122.4411253188458)  1292110425763  \n",
       "489    (37.76451538602564, -122.4591117589727)  1292113396893  \n",
       "490  (37.785819520399485, -122.41442879309835)   129211469420  \n",
       "491   (37.79039549824972, -122.41662615110641)  1292115272018  \n",
       "\n",
       "[5 rows x 43 columns]"
      ]
     },
     "execution_count": 19,
     "metadata": {},
     "output_type": "execute_result"
    }
   ],
   "source": [
    "data1.head()"
   ]
  },
  {
   "cell_type": "code",
   "execution_count": 25,
   "metadata": {},
   "outputs": [
    {
     "data": {
      "text/plain": [
       "count           198900\n",
       "unique          181495\n",
       "top       201602179765\n",
       "freq               101\n",
       "Name: Permit Number, dtype: object"
      ]
     },
     "execution_count": 25,
     "metadata": {},
     "output_type": "execute_result"
    }
   ],
   "source": [
    "data1['Permit Number'].describe()"
   ]
  },
  {
   "cell_type": "code",
   "execution_count": 326,
   "metadata": {},
   "outputs": [
    {
     "data": {
      "text/plain": [
       "complete       97077\n",
       "issued         83559\n",
       "filed          12043\n",
       "withdrawn       1754\n",
       "cancelled       1536\n",
       "expired         1370\n",
       "approved         733\n",
       "reinstated       563\n",
       "suspend          193\n",
       "revoked           50\n",
       "plancheck         16\n",
       "appeal             2\n",
       "disapproved        2\n",
       "incomplete         2\n",
       "Name: Current Status, dtype: int64"
      ]
     },
     "execution_count": 326,
     "metadata": {},
     "output_type": "execute_result"
    }
   ],
   "source": [
    "data1['Current Status'].value_counts()"
   ]
  },
  {
   "cell_type": "code",
   "execution_count": 33,
   "metadata": {},
   "outputs": [],
   "source": [
    "data2 = data1[data1['Current Status'] == 'complete']"
   ]
  },
  {
   "cell_type": "code",
   "execution_count": 327,
   "metadata": {},
   "outputs": [
    {
     "data": {
      "text/plain": [
       "201602179758    66\n",
       "201602179775    30\n",
       "201708165004     9\n",
       "201702239990     9\n",
       "201707061162     8\n",
       "201702099112     8\n",
       "201602179774     8\n",
       "201604285989     8\n",
       "201708144771     7\n",
       "201711284975     7\n",
       "201708286162     7\n",
       "201604124594     7\n",
       "201705267761     7\n",
       "201605208035     7\n",
       "201506128838     7\n",
       "201307111580     6\n",
       "201602028585     6\n",
       "201604013784     6\n",
       "201709087418     6\n",
       "201605127298     6\n",
       "201508174373     6\n",
       "201605318693     6\n",
       "201610240985     5\n",
       "201605026310     5\n",
       "201706018123     5\n",
       "201504305054     5\n",
       "201608266157     5\n",
       "201410229598     5\n",
       "201406178648     5\n",
       "201305086423     5\n",
       "                ..\n",
       "201412032925     1\n",
       "201411181846     1\n",
       "201603152035     1\n",
       "201609288958     1\n",
       "201409226990     1\n",
       "201311152116     1\n",
       "201301168069     1\n",
       "201409035303     1\n",
       "201501095386     1\n",
       "201501236586     1\n",
       "201608245832     1\n",
       "201710191695     1\n",
       "201506108586     1\n",
       "201401166480     1\n",
       "201306189861     1\n",
       "201406178556     1\n",
       "201506118748     1\n",
       "201701127028     1\n",
       "201502198746     1\n",
       "201609168014     1\n",
       "201509227719     1\n",
       "201509046264     1\n",
       "201303182439     1\n",
       "201403201284     1\n",
       "201411101189     1\n",
       "201312194629     1\n",
       "201603091558     1\n",
       "201307101514     1\n",
       "201412234400     1\n",
       "201701177218     1\n",
       "Name: Permit Number, Length: 88842, dtype: int64"
      ]
     },
     "execution_count": 327,
     "metadata": {},
     "output_type": "execute_result"
    }
   ],
   "source": [
    "data2['Permit Number'].value_counts()"
   ]
  },
  {
   "cell_type": "code",
   "execution_count": 39,
   "metadata": {},
   "outputs": [
    {
     "data": {
      "text/plain": [
       "8"
      ]
     },
     "execution_count": 39,
     "metadata": {},
     "output_type": "execute_result"
    }
   ],
   "source": [
    "missrate = data2.isnull().mean()\n",
    "missrate[missrate >= 0.5].count()"
   ]
  },
  {
   "cell_type": "code",
   "execution_count": 52,
   "metadata": {},
   "outputs": [],
   "source": [
    "strdate = []\n",
    "for i in data2.columns:\n",
    "    if i[-4:] == 'Date':\n",
    "        strdate.append(i)"
   ]
  },
  {
   "cell_type": "code",
   "execution_count": 54,
   "metadata": {},
   "outputs": [
    {
     "data": {
      "text/plain": [
       "['Permit Creation Date',\n",
       " 'Current Status Date',\n",
       " 'Filed Date',\n",
       " 'Issued Date',\n",
       " 'Completed Date',\n",
       " 'First Construction Document Date',\n",
       " 'Permit Expiration Date']"
      ]
     },
     "execution_count": 54,
     "metadata": {},
     "output_type": "execute_result"
    }
   ],
   "source": [
    "strdate"
   ]
  },
  {
   "cell_type": "code",
   "execution_count": 59,
   "metadata": {},
   "outputs": [],
   "source": [
    "datedate = [i+'1' for i in strdate]"
   ]
  },
  {
   "cell_type": "code",
   "execution_count": 60,
   "metadata": {},
   "outputs": [
    {
     "data": {
      "text/plain": [
       "['Permit Creation Date1',\n",
       " 'Current Status Date1',\n",
       " 'Filed Date1',\n",
       " 'Issued Date1',\n",
       " 'Completed Date1',\n",
       " 'First Construction Document Date1',\n",
       " 'Permit Expiration Date1']"
      ]
     },
     "execution_count": 60,
     "metadata": {},
     "output_type": "execute_result"
    }
   ],
   "source": [
    "datedate"
   ]
  },
  {
   "cell_type": "code",
   "execution_count": 73,
   "metadata": {},
   "outputs": [
    {
     "name": "stderr",
     "output_type": "stream",
     "text": [
      "/anaconda3/envs/ys/lib/python3.7/site-packages/ipykernel_launcher.py:4: SettingWithCopyWarning: \n",
      "A value is trying to be set on a copy of a slice from a DataFrame.\n",
      "Try using .loc[row_indexer,col_indexer] = value instead\n",
      "\n",
      "See the caveats in the documentation: http://pandas.pydata.org/pandas-docs/stable/indexing.html#indexing-view-versus-copy\n",
      "  after removing the cwd from sys.path.\n"
     ]
    }
   ],
   "source": [
    "for i, j in zip(strdate,datedate):\n",
    "    data2[j] = pd.to_datetime(data2[i])"
   ]
  },
  {
   "cell_type": "code",
   "execution_count": 78,
   "metadata": {},
   "outputs": [
    {
     "data": {
      "text/plain": [
       "Timestamp('2013-01-02 00:00:00')"
      ]
     },
     "execution_count": 78,
     "metadata": {},
     "output_type": "execute_result"
    }
   ],
   "source": [
    "data2['Permit Creation Date1'][484]"
   ]
  },
  {
   "cell_type": "code",
   "execution_count": 80,
   "metadata": {},
   "outputs": [
    {
     "data": {
      "text/plain": [
       "Permit Creation Date1                 0\n",
       "Current Status Date1                  0\n",
       "Filed Date1                           0\n",
       "Issued Date1                         18\n",
       "Completed Date1                       0\n",
       "First Construction Document Date1    40\n",
       "Permit Expiration Date1              32\n",
       "dtype: int64"
      ]
     },
     "execution_count": 80,
     "metadata": {},
     "output_type": "execute_result"
    }
   ],
   "source": [
    "data2[['Permit Creation Date1',\n",
    " 'Current Status Date1',\n",
    " 'Filed Date1',\n",
    " 'Issued Date1',\n",
    " 'Completed Date1',\n",
    " 'First Construction Document Date1',\n",
    " 'Permit Expiration Date1']].isnull().sum(axis=1)"
   ]
  },
  {
   "cell_type": "code",
   "execution_count": 117,
   "metadata": {},
   "outputs": [
    {
     "data": {
      "text/plain": [
       "Permit Creation Date                 0\n",
       "Current Status Date                  0\n",
       "Filed Date                           0\n",
       "Issued Date                         18\n",
       "Completed Date                       0\n",
       "First Construction Document Date    40\n",
       "Permit Expiration Date              32\n",
       "dtype: int64"
      ]
     },
     "execution_count": 117,
     "metadata": {},
     "output_type": "execute_result"
    }
   ],
   "source": [
    "data2[['Permit Creation Date',\n",
    " 'Current Status Date',\n",
    " 'Filed Date',\n",
    " 'Issued Date',\n",
    " 'Completed Date',\n",
    " 'First Construction Document Date',\n",
    " 'Permit Expiration Date']].isnull().sum()"
   ]
  },
  {
   "cell_type": "code",
   "execution_count": 94,
   "metadata": {},
   "outputs": [
    {
     "data": {
      "text/plain": [
       "Permit Creation Date1               2013-01-02\n",
       "Current Status Date1                2013-02-07\n",
       "Filed Date1                         2013-01-02\n",
       "Issued Date1                        2013-01-02\n",
       "Completed Date1                     2013-02-07\n",
       "First Construction Document Date1   2013-01-02\n",
       "Permit Expiration Date1             2013-12-28\n",
       "Name: 486, dtype: datetime64[ns]"
      ]
     },
     "execution_count": 94,
     "metadata": {},
     "output_type": "execute_result"
    }
   ],
   "source": [
    "data2[['Permit Creation Date1',\n",
    " 'Current Status Date1',\n",
    " 'Filed Date1',\n",
    " 'Issued Date1',\n",
    " 'Completed Date1',\n",
    " 'First Construction Document Date1',\n",
    " 'Permit Expiration Date1']].iloc[1]"
   ]
  },
  {
   "cell_type": "code",
   "execution_count": 95,
   "metadata": {},
   "outputs": [
    {
     "data": {
      "text/plain": [
       "Permit Creation Date1               2013-01-02\n",
       "Current Status Date1                2013-01-25\n",
       "Filed Date1                         2013-01-02\n",
       "Issued Date1                        2013-01-02\n",
       "Completed Date1                     2013-01-25\n",
       "First Construction Document Date1   2013-01-02\n",
       "Permit Expiration Date1             2013-12-28\n",
       "Name: 489, dtype: datetime64[ns]"
      ]
     },
     "execution_count": 95,
     "metadata": {},
     "output_type": "execute_result"
    }
   ],
   "source": [
    "data2[['Permit Creation Date1',\n",
    " 'Current Status Date1',\n",
    " 'Filed Date1',\n",
    " 'Issued Date1',\n",
    " 'Completed Date1',\n",
    " 'First Construction Document Date1',\n",
    " 'Permit Expiration Date1']].iloc[2]"
   ]
  },
  {
   "cell_type": "code",
   "execution_count": 96,
   "metadata": {},
   "outputs": [
    {
     "data": {
      "text/plain": [
       "Permit Creation Date1               2013-01-22\n",
       "Current Status Date1                2013-07-10\n",
       "Filed Date1                         2013-01-22\n",
       "Issued Date1                        2013-01-25\n",
       "Completed Date1                     2013-07-10\n",
       "First Construction Document Date1   2013-01-25\n",
       "Permit Expiration Date1             2014-01-20\n",
       "Name: 2166, dtype: datetime64[ns]"
      ]
     },
     "execution_count": 96,
     "metadata": {},
     "output_type": "execute_result"
    }
   ],
   "source": [
    "data2[['Permit Creation Date1',\n",
    " 'Current Status Date1',\n",
    " 'Filed Date1',\n",
    " 'Issued Date1',\n",
    " 'Completed Date1',\n",
    " 'First Construction Document Date1',\n",
    " 'Permit Expiration Date1']].iloc[1000]"
   ]
  },
  {
   "cell_type": "code",
   "execution_count": 97,
   "metadata": {},
   "outputs": [
    {
     "data": {
      "text/plain": [
       "Permit Creation Date1                0.000000\n",
       "Current Status Date1                 0.000000\n",
       "Filed Date1                          0.000000\n",
       "Issued Date1                         0.000185\n",
       "Completed Date1                      0.000000\n",
       "First Construction Document Date1    0.000412\n",
       "Permit Expiration Date1              0.000330\n",
       "dtype: float64"
      ]
     },
     "execution_count": 97,
     "metadata": {},
     "output_type": "execute_result"
    }
   ],
   "source": [
    "data2[['Permit Creation Date1',\n",
    " 'Current Status Date1',\n",
    " 'Filed Date1',\n",
    " 'Issued Date1',\n",
    " 'Completed Date1',\n",
    " 'First Construction Document Date1',\n",
    " 'Permit Expiration Date1']].isnull().mean()"
   ]
  },
  {
   "cell_type": "code",
   "execution_count": 177,
   "metadata": {
    "scrolled": true
   },
   "outputs": [
    {
     "name": "stderr",
     "output_type": "stream",
     "text": [
      "/anaconda3/envs/ys/lib/python3.7/site-packages/pandas/core/generic.py:5434: SettingWithCopyWarning: \n",
      "A value is trying to be set on a copy of a slice from a DataFrame\n",
      "\n",
      "See the caveats in the documentation: http://pandas.pydata.org/pandas-docs/stable/indexing.html#indexing-view-versus-copy\n",
      "  self._update_inplace(new_data)\n"
     ]
    }
   ],
   "source": [
    "data2['Issued Date1'].fillna(data2['Permit Creation Date1'], axis=0, inplace=True)"
   ]
  },
  {
   "cell_type": "code",
   "execution_count": 178,
   "metadata": {},
   "outputs": [
    {
     "name": "stderr",
     "output_type": "stream",
     "text": [
      "/anaconda3/envs/ys/lib/python3.7/site-packages/pandas/core/generic.py:5434: SettingWithCopyWarning: \n",
      "A value is trying to be set on a copy of a slice from a DataFrame\n",
      "\n",
      "See the caveats in the documentation: http://pandas.pydata.org/pandas-docs/stable/indexing.html#indexing-view-versus-copy\n",
      "  self._update_inplace(new_data)\n"
     ]
    }
   ],
   "source": [
    "data2['First Construction Document Date1'].fillna(data2['Issued Date1'], axis=0, inplace=True)"
   ]
  },
  {
   "cell_type": "code",
   "execution_count": 182,
   "metadata": {},
   "outputs": [
    {
     "name": "stderr",
     "output_type": "stream",
     "text": [
      "/anaconda3/envs/ys/lib/python3.7/site-packages/pandas/core/generic.py:5434: SettingWithCopyWarning: \n",
      "A value is trying to be set on a copy of a slice from a DataFrame\n",
      "\n",
      "See the caveats in the documentation: http://pandas.pydata.org/pandas-docs/stable/indexing.html#indexing-view-versus-copy\n",
      "  self._update_inplace(new_data)\n"
     ]
    }
   ],
   "source": [
    "data2['Permit Expiration Date1'].fillna(method='ffill', inplace=True)"
   ]
  },
  {
   "cell_type": "code",
   "execution_count": 183,
   "metadata": {},
   "outputs": [
    {
     "data": {
      "text/plain": [
       "Permit Creation Date1                0\n",
       "Current Status Date1                 0\n",
       "Filed Date1                          0\n",
       "Issued Date1                         0\n",
       "Completed Date1                      0\n",
       "First Construction Document Date1    0\n",
       "Permit Expiration Date1              0\n",
       "dtype: int64"
      ]
     },
     "execution_count": 183,
     "metadata": {},
     "output_type": "execute_result"
    }
   ],
   "source": [
    "data2[['Permit Creation Date1',\n",
    " 'Current Status Date1',\n",
    " 'Filed Date1',\n",
    " 'Issued Date1',\n",
    " 'Completed Date1',\n",
    " 'First Construction Document Date1',\n",
    " 'Permit Expiration Date1']].isnull().sum()"
   ]
  },
  {
   "cell_type": "code",
   "execution_count": 188,
   "metadata": {},
   "outputs": [
    {
     "name": "stderr",
     "output_type": "stream",
     "text": [
      "/anaconda3/envs/ys/lib/python3.7/site-packages/pandas/core/frame.py:3697: SettingWithCopyWarning: \n",
      "A value is trying to be set on a copy of a slice from a DataFrame\n",
      "\n",
      "See the caveats in the documentation: http://pandas.pydata.org/pandas-docs/stable/indexing.html#indexing-view-versus-copy\n",
      "  errors=errors)\n"
     ]
    }
   ],
   "source": [
    "data2.drop(['Permit Creation Date',\n",
    " 'Current Status Date',\n",
    " 'Filed Date',\n",
    " 'Issued Date',\n",
    " 'Completed Date',\n",
    " 'First Construction Document Date',\n",
    " 'Permit Expiration Date'], axis=1, inplace=True)"
   ]
  },
  {
   "cell_type": "code",
   "execution_count": 192,
   "metadata": {},
   "outputs": [
    {
     "name": "stderr",
     "output_type": "stream",
     "text": [
      "/anaconda3/envs/ys/lib/python3.7/site-packages/pandas/core/frame.py:3781: SettingWithCopyWarning: \n",
      "A value is trying to be set on a copy of a slice from a DataFrame\n",
      "\n",
      "See the caveats in the documentation: http://pandas.pydata.org/pandas-docs/stable/indexing.html#indexing-view-versus-copy\n",
      "  return super(DataFrame, self).rename(**kwargs)\n"
     ]
    }
   ],
   "source": [
    "data2.rename(columns=dict(zip(datedate,strdate)), inplace=True)"
   ]
  },
  {
   "cell_type": "code",
   "execution_count": 194,
   "metadata": {},
   "outputs": [
    {
     "name": "stderr",
     "output_type": "stream",
     "text": [
      "/anaconda3/envs/ys/lib/python3.7/site-packages/ipykernel_launcher.py:1: SettingWithCopyWarning: \n",
      "A value is trying to be set on a copy of a slice from a DataFrame.\n",
      "Try using .loc[row_indexer,col_indexer] = value instead\n",
      "\n",
      "See the caveats in the documentation: http://pandas.pydata.org/pandas-docs/stable/indexing.html#indexing-view-versus-copy\n",
      "  \"\"\"Entry point for launching an IPython kernel.\n"
     ]
    }
   ],
   "source": [
    "data2['ddate'] = data2['Current Status Date'] - data2['Permit Creation Date']\n",
    "data2['ddate'] = data2['ddate'].dt.days"
   ]
  },
  {
   "cell_type": "code",
   "execution_count": 247,
   "metadata": {
    "scrolled": true
   },
   "outputs": [
    {
     "name": "stderr",
     "output_type": "stream",
     "text": [
      "/anaconda3/envs/ys/lib/python3.7/site-packages/ipykernel_launcher.py:1: SettingWithCopyWarning: \n",
      "A value is trying to be set on a copy of a slice from a DataFrame.\n",
      "Try using .loc[row_indexer,col_indexer] = value instead\n",
      "\n",
      "See the caveats in the documentation: http://pandas.pydata.org/pandas-docs/stable/indexing.html#indexing-view-versus-copy\n",
      "  \"\"\"Entry point for launching an IPython kernel.\n"
     ]
    }
   ],
   "source": [
    "data2['year'] = data2['Permit Creation Date'].dt.strftime('%Y')"
   ]
  },
  {
   "cell_type": "code",
   "execution_count": 234,
   "metadata": {
    "scrolled": true
   },
   "outputs": [
    {
     "name": "stderr",
     "output_type": "stream",
     "text": [
      "/anaconda3/envs/ys/lib/python3.7/site-packages/ipykernel_launcher.py:1: SettingWithCopyWarning: \n",
      "A value is trying to be set on a copy of a slice from a DataFrame.\n",
      "Try using .loc[row_indexer,col_indexer] = value instead\n",
      "\n",
      "See the caveats in the documentation: http://pandas.pydata.org/pandas-docs/stable/indexing.html#indexing-view-versus-copy\n",
      "  \"\"\"Entry point for launching an IPython kernel.\n"
     ]
    }
   ],
   "source": [
    "data2['ym'] = data2['Permit Creation Date'].dt.strftime('%Y/%m')"
   ]
  },
  {
   "cell_type": "code",
   "execution_count": 252,
   "metadata": {},
   "outputs": [],
   "source": [
    "temp1 = data2.groupby(data2['year']).count()"
   ]
  },
  {
   "cell_type": "code",
   "execution_count": 238,
   "metadata": {},
   "outputs": [],
   "source": [
    "temp2 = data2.groupby(data2['ym']).count()"
   ]
  },
  {
   "cell_type": "code",
   "execution_count": 274,
   "metadata": {},
   "outputs": [
    {
     "data": {
      "text/plain": [
       "[<matplotlib.lines.Line2D at 0x1711e6b00>,\n",
       " <matplotlib.lines.Line2D at 0x1711e6c18>,\n",
       " <matplotlib.lines.Line2D at 0x1711e6d68>,\n",
       " <matplotlib.lines.Line2D at 0x1711e6eb8>,\n",
       " <matplotlib.lines.Line2D at 0x1711ee048>,\n",
       " <matplotlib.lines.Line2D at 0x1711ee198>,\n",
       " <matplotlib.lines.Line2D at 0x1711ee2e8>,\n",
       " <matplotlib.lines.Line2D at 0x1711ee438>,\n",
       " <matplotlib.lines.Line2D at 0x1711ee588>,\n",
       " <matplotlib.lines.Line2D at 0x1711ee6d8>,\n",
       " <matplotlib.lines.Line2D at 0x1711ad320>,\n",
       " <matplotlib.lines.Line2D at 0x1711ee940>,\n",
       " <matplotlib.lines.Line2D at 0x1711eea90>,\n",
       " <matplotlib.lines.Line2D at 0x1711eebe0>,\n",
       " <matplotlib.lines.Line2D at 0x1711eed30>,\n",
       " <matplotlib.lines.Line2D at 0x1711eee80>,\n",
       " <matplotlib.lines.Line2D at 0x1711eefd0>,\n",
       " <matplotlib.lines.Line2D at 0x1711f3160>,\n",
       " <matplotlib.lines.Line2D at 0x1711f32b0>,\n",
       " <matplotlib.lines.Line2D at 0x1711f3400>,\n",
       " <matplotlib.lines.Line2D at 0x1711f3550>,\n",
       " <matplotlib.lines.Line2D at 0x1711f36a0>,\n",
       " <matplotlib.lines.Line2D at 0x1711f37f0>,\n",
       " <matplotlib.lines.Line2D at 0x1711f3940>,\n",
       " <matplotlib.lines.Line2D at 0x1711f3a90>,\n",
       " <matplotlib.lines.Line2D at 0x1711f3be0>,\n",
       " <matplotlib.lines.Line2D at 0x1711f3d30>,\n",
       " <matplotlib.lines.Line2D at 0x1711f3e80>,\n",
       " <matplotlib.lines.Line2D at 0x1711f3fd0>,\n",
       " <matplotlib.lines.Line2D at 0x1711f8160>,\n",
       " <matplotlib.lines.Line2D at 0x1711f82b0>,\n",
       " <matplotlib.lines.Line2D at 0x1711f8400>,\n",
       " <matplotlib.lines.Line2D at 0x1711f8550>,\n",
       " <matplotlib.lines.Line2D at 0x1711f86a0>,\n",
       " <matplotlib.lines.Line2D at 0x1711f87f0>,\n",
       " <matplotlib.lines.Line2D at 0x1711f8940>,\n",
       " <matplotlib.lines.Line2D at 0x1711f8a90>,\n",
       " <matplotlib.lines.Line2D at 0x1711f8be0>,\n",
       " <matplotlib.lines.Line2D at 0x1711f8d30>,\n",
       " <matplotlib.lines.Line2D at 0x1711f8e80>,\n",
       " <matplotlib.lines.Line2D at 0x1711f8fd0>,\n",
       " <matplotlib.lines.Line2D at 0x1711fd160>,\n",
       " <matplotlib.lines.Line2D at 0x1711fd2b0>,\n",
       " <matplotlib.lines.Line2D at 0x1711fd400>,\n",
       " <matplotlib.lines.Line2D at 0x1711fd550>]"
      ]
     },
     "execution_count": 274,
     "metadata": {},
     "output_type": "execute_result"
    },
    {
     "data": {
      "image/png": "[encoded data removed]",
      "text/plain": [
       "<Figure size 432x288 with 1 Axes>"
      ]
     },
     "metadata": {
      "needs_background": "light"
     },
     "output_type": "display_data"
    }
   ],
   "source": [
    "plt.plot(temp1)"
   ]
  },
  {
   "cell_type": "code",
   "execution_count": 275,
   "metadata": {},
   "outputs": [
    {
     "data": {
      "text/plain": [
       "[<matplotlib.lines.Line2D at 0x1712afc18>,\n",
       " <matplotlib.lines.Line2D at 0x1713660f0>,\n",
       " <matplotlib.lines.Line2D at 0x171366240>,\n",
       " <matplotlib.lines.Line2D at 0x171366390>,\n",
       " <matplotlib.lines.Line2D at 0x1713664e0>,\n",
       " <matplotlib.lines.Line2D at 0x171366630>,\n",
       " <matplotlib.lines.Line2D at 0x171366780>,\n",
       " <matplotlib.lines.Line2D at 0x1713668d0>,\n",
       " <matplotlib.lines.Line2D at 0x171366a20>,\n",
       " <matplotlib.lines.Line2D at 0x171366b70>,\n",
       " <matplotlib.lines.Line2D at 0x1712bbf98>,\n",
       " <matplotlib.lines.Line2D at 0x171366dd8>,\n",
       " <matplotlib.lines.Line2D at 0x171366f28>,\n",
       " <matplotlib.lines.Line2D at 0x17136b0b8>,\n",
       " <matplotlib.lines.Line2D at 0x17136b208>,\n",
       " <matplotlib.lines.Line2D at 0x17136b358>,\n",
       " <matplotlib.lines.Line2D at 0x17136b4a8>,\n",
       " <matplotlib.lines.Line2D at 0x17136b5f8>,\n",
       " <matplotlib.lines.Line2D at 0x17136b748>,\n",
       " <matplotlib.lines.Line2D at 0x17136b898>,\n",
       " <matplotlib.lines.Line2D at 0x17136b9e8>,\n",
       " <matplotlib.lines.Line2D at 0x17136bb38>,\n",
       " <matplotlib.lines.Line2D at 0x17136bc88>,\n",
       " <matplotlib.lines.Line2D at 0x17136bdd8>,\n",
       " <matplotlib.lines.Line2D at 0x17136bf28>,\n",
       " <matplotlib.lines.Line2D at 0x17136f0b8>,\n",
       " <matplotlib.lines.Line2D at 0x17136f208>,\n",
       " <matplotlib.lines.Line2D at 0x17136f358>,\n",
       " <matplotlib.lines.Line2D at 0x17136f4a8>,\n",
       " <matplotlib.lines.Line2D at 0x17136f5f8>,\n",
       " <matplotlib.lines.Line2D at 0x17136f748>,\n",
       " <matplotlib.lines.Line2D at 0x17136f898>,\n",
       " <matplotlib.lines.Line2D at 0x17136f9e8>,\n",
       " <matplotlib.lines.Line2D at 0x17136fb38>,\n",
       " <matplotlib.lines.Line2D at 0x17136fc88>,\n",
       " <matplotlib.lines.Line2D at 0x17136fdd8>,\n",
       " <matplotlib.lines.Line2D at 0x17136ff28>,\n",
       " <matplotlib.lines.Line2D at 0x1713760b8>,\n",
       " <matplotlib.lines.Line2D at 0x171376208>,\n",
       " <matplotlib.lines.Line2D at 0x171376358>,\n",
       " <matplotlib.lines.Line2D at 0x1713764a8>,\n",
       " <matplotlib.lines.Line2D at 0x1713765f8>,\n",
       " <matplotlib.lines.Line2D at 0x171376748>,\n",
       " <matplotlib.lines.Line2D at 0x171376898>,\n",
       " <matplotlib.lines.Line2D at 0x1713769e8>]"
      ]
     },
     "execution_count": 275,
     "metadata": {},
     "output_type": "execute_result"
    },
    {
     "data": {
      "image/png": "[encoded data removed]",
      "text/plain": [
       "<Figure size 432x288 with 1 Axes>"
      ]
     },
     "metadata": {
      "needs_background": "light"
     },
     "output_type": "display_data"
    }
   ],
   "source": [
    "plt.plot(temp2)"
   ]
  },
  {
   "cell_type": "code",
   "execution_count": 286,
   "metadata": {},
   "outputs": [
    {
     "data": {
      "text/html": [
       "<div>\n",
       "<style scoped>\n",
       "    .dataframe tbody tr th:only-of-type {\n",
       "        vertical-align: middle;\n",
       "    }\n",
       "\n",
       "    .dataframe tbody tr th {\n",
       "        vertical-align: top;\n",
       "    }\n",
       "\n",
       "    .dataframe thead th {\n",
       "        text-align: right;\n",
       "    }\n",
       "</style>\n",
       "<table border=\"1\" class=\"dataframe\">\n",
       "  <thead>\n",
       "    <tr style=\"text-align: right;\">\n",
       "      <th></th>\n",
       "      <th>Estimated Cost</th>\n",
       "      <th>Revised Cost</th>\n",
       "    </tr>\n",
       "  </thead>\n",
       "  <tbody>\n",
       "    <tr>\n",
       "      <th>count</th>\n",
       "      <td>9.698500e+04</td>\n",
       "      <td>9.707400e+04</td>\n",
       "    </tr>\n",
       "    <tr>\n",
       "      <th>mean</th>\n",
       "      <td>7.409378e+04</td>\n",
       "      <td>8.441542e+04</td>\n",
       "    </tr>\n",
       "    <tr>\n",
       "      <th>std</th>\n",
       "      <td>9.847948e+05</td>\n",
       "      <td>1.003713e+06</td>\n",
       "    </tr>\n",
       "    <tr>\n",
       "      <th>min</th>\n",
       "      <td>1.000000e+00</td>\n",
       "      <td>0.000000e+00</td>\n",
       "    </tr>\n",
       "    <tr>\n",
       "      <th>10%</th>\n",
       "      <td>1.000000e+00</td>\n",
       "      <td>1.000000e+00</td>\n",
       "    </tr>\n",
       "    <tr>\n",
       "      <th>20%</th>\n",
       "      <td>2.000000e+03</td>\n",
       "      <td>2.500000e+03</td>\n",
       "    </tr>\n",
       "    <tr>\n",
       "      <th>30%</th>\n",
       "      <td>4.800000e+03</td>\n",
       "      <td>5.000000e+03</td>\n",
       "    </tr>\n",
       "    <tr>\n",
       "      <th>40%</th>\n",
       "      <td>7.453800e+03</td>\n",
       "      <td>8.000000e+03</td>\n",
       "    </tr>\n",
       "    <tr>\n",
       "      <th>50%</th>\n",
       "      <td>1.000000e+04</td>\n",
       "      <td>1.200000e+04</td>\n",
       "    </tr>\n",
       "    <tr>\n",
       "      <th>60%</th>\n",
       "      <td>1.500000e+04</td>\n",
       "      <td>1.840000e+04</td>\n",
       "    </tr>\n",
       "    <tr>\n",
       "      <th>70%</th>\n",
       "      <td>2.400000e+04</td>\n",
       "      <td>2.810350e+04</td>\n",
       "    </tr>\n",
       "    <tr>\n",
       "      <th>80%</th>\n",
       "      <td>4.000000e+04</td>\n",
       "      <td>5.000000e+04</td>\n",
       "    </tr>\n",
       "    <tr>\n",
       "      <th>90%</th>\n",
       "      <td>8.700000e+04</td>\n",
       "      <td>1.053260e+05</td>\n",
       "    </tr>\n",
       "    <tr>\n",
       "      <th>max</th>\n",
       "      <td>1.310883e+08</td>\n",
       "      <td>1.310883e+08</td>\n",
       "    </tr>\n",
       "  </tbody>\n",
       "</table>\n",
       "</div>"
      ],
      "text/plain": [
       "       Estimated Cost  Revised Cost\n",
       "count    9.698500e+04  9.707400e+04\n",
       "mean     7.409378e+04  8.441542e+04\n",
       "std      9.847948e+05  1.003713e+06\n",
       "min      1.000000e+00  0.000000e+00\n",
       "10%      1.000000e+00  1.000000e+00\n",
       "20%      2.000000e+03  2.500000e+03\n",
       "30%      4.800000e+03  5.000000e+03\n",
       "40%      7.453800e+03  8.000000e+03\n",
       "50%      1.000000e+04  1.200000e+04\n",
       "60%      1.500000e+04  1.840000e+04\n",
       "70%      2.400000e+04  2.810350e+04\n",
       "80%      4.000000e+04  5.000000e+04\n",
       "90%      8.700000e+04  1.053260e+05\n",
       "max      1.310883e+08  1.310883e+08"
      ]
     },
     "execution_count": 286,
     "metadata": {},
     "output_type": "execute_result"
    }
   ],
   "source": [
    "data2[['Estimated Cost', 'Revised Cost']].describe(percentiles=[.1,.2,.3,.4,.6,.7,.8,.9])"
   ]
  },
  {
   "cell_type": "code",
   "execution_count": 280,
   "metadata": {},
   "outputs": [],
   "source": [
    "data2.describe?"
   ]
  },
  {
   "cell_type": "code",
   "execution_count": 297,
   "metadata": {},
   "outputs": [
    {
     "data": {
      "text/plain": [
       "Estimated Cost    0.000948\n",
       "Revised Cost      0.000031\n",
       "dtype: float64"
      ]
     },
     "execution_count": 297,
     "metadata": {},
     "output_type": "execute_result"
    }
   ],
   "source": [
    "data2[['Estimated Cost', 'Revised Cost']].isnull().mean()"
   ]
  },
  {
   "cell_type": "code",
   "execution_count": 298,
   "metadata": {},
   "outputs": [
    {
     "data": {
      "text/plain": [
       "count    9.698500e+04\n",
       "mean     7.409378e+04\n",
       "std      9.847948e+05\n",
       "min      1.000000e+00\n",
       "10%      1.000000e+00\n",
       "20%      2.000000e+03\n",
       "30%      4.800000e+03\n",
       "40%      7.453800e+03\n",
       "50%      1.000000e+04\n",
       "60%      1.500000e+04\n",
       "70%      2.400000e+04\n",
       "80%      4.000000e+04\n",
       "90%      8.700000e+04\n",
       "max      1.310883e+08\n",
       "Name: Estimated Cost, dtype: float64"
      ]
     },
     "execution_count": 298,
     "metadata": {},
     "output_type": "execute_result"
    }
   ],
   "source": [
    "data2['Estimated Cost'].describe(percentiles=[.1,.2,.3,.4,.6,.7,.8,.9])"
   ]
  },
  {
   "cell_type": "code",
   "execution_count": 300,
   "metadata": {},
   "outputs": [
    {
     "name": "stderr",
     "output_type": "stream",
     "text": [
      "/anaconda3/envs/ys/lib/python3.7/site-packages/pandas/core/generic.py:5434: SettingWithCopyWarning: \n",
      "A value is trying to be set on a copy of a slice from a DataFrame\n",
      "\n",
      "See the caveats in the documentation: http://pandas.pydata.org/pandas-docs/stable/indexing.html#indexing-view-versus-copy\n",
      "  self._update_inplace(new_data)\n"
     ]
    }
   ],
   "source": [
    "data2['Estimated Cost'].fillna(data2['Revised Cost'], axis=0, inplace=True)"
   ]
  },
  {
   "cell_type": "code",
   "execution_count": 302,
   "metadata": {},
   "outputs": [
    {
     "name": "stderr",
     "output_type": "stream",
     "text": [
      "/anaconda3/envs/ys/lib/python3.7/site-packages/pandas/core/generic.py:5434: SettingWithCopyWarning: \n",
      "A value is trying to be set on a copy of a slice from a DataFrame\n",
      "\n",
      "See the caveats in the documentation: http://pandas.pydata.org/pandas-docs/stable/indexing.html#indexing-view-versus-copy\n",
      "  self._update_inplace(new_data)\n"
     ]
    }
   ],
   "source": [
    "data2['Revised Cost'].fillna(data2['Estimated Cost'], axis=0, inplace=True)"
   ]
  },
  {
   "cell_type": "code",
   "execution_count": 303,
   "metadata": {},
   "outputs": [
    {
     "data": {
      "text/plain": [
       "Estimated Cost    2\n",
       "Revised Cost      2\n",
       "dtype: int64"
      ]
     },
     "execution_count": 303,
     "metadata": {},
     "output_type": "execute_result"
    }
   ],
   "source": [
    "data2[['Estimated Cost', 'Revised Cost']].isnull().sum()"
   ]
  },
  {
   "cell_type": "code",
   "execution_count": 307,
   "metadata": {},
   "outputs": [
    {
     "name": "stderr",
     "output_type": "stream",
     "text": [
      "/anaconda3/envs/ys/lib/python3.7/site-packages/ipykernel_launcher.py:1: SettingWithCopyWarning: \n",
      "A value is trying to be set on a copy of a slice from a DataFrame\n",
      "\n",
      "See the caveats in the documentation: http://pandas.pydata.org/pandas-docs/stable/indexing.html#indexing-view-versus-copy\n",
      "  \"\"\"Entry point for launching an IPython kernel.\n"
     ]
    }
   ],
   "source": [
    "data2.sort_values(by='Revised Cost', ascending=False, inplace=True)"
   ]
  },
  {
   "cell_type": "code",
   "execution_count": 329,
   "metadata": {
    "scrolled": true
   },
   "outputs": [
    {
     "name": "stderr",
     "output_type": "stream",
     "text": [
      "/anaconda3/envs/ys/lib/python3.7/site-packages/ipykernel_launcher.py:2: SettingWithCopyWarning: \n",
      "A value is trying to be set on a copy of a slice from a DataFrame.\n",
      "Try using .loc[row_indexer,col_indexer] = value instead\n",
      "\n",
      "See the caveats in the documentation: http://pandas.pydata.org/pandas-docs/stable/indexing.html#indexing-view-versus-copy\n",
      "  \n"
     ]
    }
   ],
   "source": [
    "import math\n",
    "data2['logrc'] = data2['Revised Cost'].map(lambda x:math.log(x) if x > 0 else np.nan)"
   ]
  },
  {
   "cell_type": "code",
   "execution_count": 330,
   "metadata": {},
   "outputs": [
    {
     "name": "stderr",
     "output_type": "stream",
     "text": [
      "/anaconda3/envs/ys/lib/python3.7/site-packages/numpy/lib/histograms.py:754: RuntimeWarning: invalid value encountered in greater_equal\n",
      "  keep = (tmp_a >= first_edge)\n",
      "/anaconda3/envs/ys/lib/python3.7/site-packages/numpy/lib/histograms.py:755: RuntimeWarning: invalid value encountered in less_equal\n",
      "  keep &= (tmp_a <= last_edge)\n"
     ]
    },
    {
     "data": {
      "text/plain": [
       "(array([9.9280e+03, 1.1000e+01, 3.6000e+02, 6.0530e+03, 3.0664e+04,\n",
       "        3.6169e+04, 1.1214e+04, 2.4670e+03, 1.7100e+02, 2.8000e+01]),\n",
       " array([ 0.        ,  1.86913818,  3.73827636,  5.60741455,  7.47655273,\n",
       "         9.34569091, 11.21482909, 13.08396728, 14.95310546, 16.82224364,\n",
       "        18.69138182]),\n",
       " <a list of 10 Patch objects>)"
      ]
     },
     "execution_count": 330,
     "metadata": {},
     "output_type": "execute_result"
    },
    {
     "data": {
      "image/png": "[encoded data removed]",
      "text/plain": [
       "<Figure size 432x288 with 1 Axes>"
      ]
     },
     "metadata": {
      "needs_background": "light"
     },
     "output_type": "display_data"
    }
   ],
   "source": [
    "plt.hist(data2['logrc'])"
   ]
  },
  {
   "cell_type": "code",
   "execution_count": null,
   "metadata": {},
   "outputs": [],
   "source": [
    "data2['Revised Cost'].map"
   ]
  }
 ],
 "metadata": {
  "kernelspec": {
   "display_name": "Python 3",
   "language": "python",
   "name": "python3"
  },
  "language_info": {
   "codemirror_mode": {
    "name": "ipython",
    "version": 3
   },
   "file_extension": ".py",
   "mimetype": "text/x-python",
   "name": "python",
   "nbconvert_exporter": "python",
   "pygments_lexer": "ipython3",
   "version": "3.7.3"
  }
 },
 "nbformat": 4,
 "nbformat_minor": 2
}
