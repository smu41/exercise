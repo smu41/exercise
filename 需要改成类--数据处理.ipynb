{
 "cells": [
  {
   "cell_type": "code",
   "execution_count": 1,
   "metadata": {},
   "outputs": [],
   "source": [
    "import numpy as np\n",
    "import pandas as pd"
   ]
  },
  {
   "cell_type": "code",
   "execution_count": 22,
   "metadata": {},
   "outputs": [],
   "source": [
    "pf = pd.read_excel('../data/培训班ceshi1.xlsx', header=None, names=['0', '1'])"
   ]
  },
  {
   "cell_type": "code",
   "execution_count": 25,
   "metadata": {},
   "outputs": [],
   "source": [
    "class_pf = pf['0']"
   ]
  },
  {
   "cell_type": "code",
   "execution_count": 26,
   "metadata": {},
   "outputs": [
    {
     "data": {
      "text/plain": [
       "0    培训班1\n",
       "1    培训班2\n",
       "2    培训班3\n",
       "3    培训班4\n",
       "4    培训班5\n",
       "5    培训班6\n",
       "6    培训班7\n",
       "7    培训班8\n",
       "8    培训班9\n",
       "Name: 0, dtype: object"
      ]
     },
     "execution_count": 26,
     "metadata": {},
     "output_type": "execute_result"
    }
   ],
   "source": [
    "class_pf"
   ]
  },
  {
   "cell_type": "code",
   "execution_count": 27,
   "metadata": {},
   "outputs": [],
   "source": [
    "info = pf['1']"
   ]
  },
  {
   "cell_type": "code",
   "execution_count": 31,
   "metadata": {},
   "outputs": [],
   "source": [
    "cl = info[0].split('<br />')"
   ]
  },
  {
   "cell_type": "code",
   "execution_count": 37,
   "metadata": {},
   "outputs": [],
   "source": [
    "new_cl = [i for i in cl if i.strip()]"
   ]
  },
  {
   "cell_type": "code",
   "execution_count": 52,
   "metadata": {},
   "outputs": [],
   "source": [
    "new_cl = [i.split('：') for i in new_cl]"
   ]
  },
  {
   "cell_type": "code",
   "execution_count": 55,
   "metadata": {},
   "outputs": [],
   "source": [
    "new = dict(new_cl)"
   ]
  },
  {
   "cell_type": "code",
   "execution_count": 81,
   "metadata": {},
   "outputs": [],
   "source": [
    "col = []\n",
    "for i in range(9):\n",
    "    new_info = info[i].split('<br />')\n",
    "    new_cl = [j for j in new_info if j.strip()]\n",
    "    new_cl = [j.split('：') for j in new_cl]\n",
    "    new = dict(new_cl)\n",
    "    l = list(new.keys())\n",
    "    col.append(l)\n",
    "new_col = set(col[0])\n",
    "for i in col[1:]:\n",
    "    new_col.update(set(i))"
   ]
  },
  {
   "cell_type": "code",
   "execution_count": 84,
   "metadata": {},
   "outputs": [],
   "source": [
    "new_col = list(new_col)"
   ]
  },
  {
   "cell_type": "code",
   "execution_count": 90,
   "metadata": {},
   "outputs": [],
   "source": [
    "keys = new_col"
   ]
  },
  {
   "cell_type": "code",
   "execution_count": 104,
   "metadata": {},
   "outputs": [],
   "source": [
    "keys.append('班级')"
   ]
  },
  {
   "cell_type": "code",
   "execution_count": 121,
   "metadata": {},
   "outputs": [
    {
     "data": {
      "text/plain": [
       "21"
      ]
     },
     "execution_count": 121,
     "metadata": {},
     "output_type": "execute_result"
    }
   ],
   "source": [
    "len(keys)"
   ]
  },
  {
   "cell_type": "code",
   "execution_count": 113,
   "metadata": {},
   "outputs": [],
   "source": [
    "import csv\n",
    "def save(keys, data):\n",
    "    with open('培训班ceshi1.csv', 'w') as f:\n",
    "        fcsv = csv.writer(f)\n",
    "        fcsv.writerow(keys)\n",
    "        for i in data:\n",
    "            values = [i.get(key,None) for key in keys]\n",
    "            fcsv.writerow(values)\n",
    "            print(values)"
   ]
  },
  {
   "cell_type": "code",
   "execution_count": 114,
   "metadata": {},
   "outputs": [
    {
     "name": "stdout",
     "output_type": "stream",
     "text": [
      "[None, '1984-09-06', '', '张三', 'bat', '女', '11111111111', '本科', '大学1', '', None, '', '11111111转1111', None, None, None, '111111111111111111', None, '', None, '培训班1']\n",
      "[None, None, '香港手机 前面加拨 852', '李四', None, '男', '', None, None, 'lisi@live.hk', None, None, '11111111', None, 'lisi', None, None, None, '', None, '培训班2']\n",
      "[None, None, '一起购买', '王五', None, '男', None, None, None, 'wangwu@sohu.com', None, None, '13022221111', None, None, 'wangwu1', None, None, '', None, '培训班3']\n",
      "[None, None, '无', '赵六', None, None, None, None, None, 'zhaoliu@126.com', None, None, '15011112222', None, None, 'zhaoliu', None, None, '上海市11楼 200000', None, '培训班4']\n",
      "['1', None, 'beizhu1', '钱七', None, None, None, None, None, None, '13111112222', None, None, None, None, 'qianqi', None, '浙江 ', None, 'qianqi@vip.126.com', '培训班5']\n",
      "[None, None, '报名专题班', '孙八', None, '男', '', None, None, 'sunba123@126.com', None, None, '13611112222', None, 'sunba123', None, None, None, '', None, '培训班6']\n",
      "['1', None, '无  ', '王九', None, None, None, None, None, 'wangjiu@qq.com', None, None, '13611117777', None, None, 'wangjiu123', None, None, '', None, '培训班7']\n",
      "['2', None, '报6个班', '刘十', None, None, None, None, None, 'liushi@yahoo.com.cn', None, None, '15111112222', None, None, 'liushi-163', None, None, '', None, '培训班8']\n",
      "[None, None, '', '梁十一', None, '女', '13955556666', None, None, 'liangshiyi@yahoo.com.cn', None, None, '021—11114567', 'liangshiyi', None, None, None, None, '上海市202室', None, '培训班9']\n"
     ]
    }
   ],
   "source": [
    "save(keys, data)"
   ]
  },
  {
   "cell_type": "code",
   "execution_count": 111,
   "metadata": {},
   "outputs": [],
   "source": [
    "data = []\n",
    "for i in range(9):\n",
    "    new_info = info[i].split('<br />')\n",
    "    new_cl = [j for j in new_info if j.strip()]\n",
    "    new_cl = [j.split('：') for j in new_cl]\n",
    "    new = dict(new_cl)\n",
    "    new['班级'] = class_pf[i]\n",
    "    data.append(new)"
   ]
  },
  {
   "cell_type": "code",
   "execution_count": 115,
   "metadata": {},
   "outputs": [],
   "source": [
    "data1 = pd.read_csv('培训班ceshi1.csv')"
   ]
  },
  {
   "cell_type": "code",
   "execution_count": 116,
   "metadata": {},
   "outputs": [
    {
     "data": {
      "text/html": [
       "<div>\n",
       "<style scoped>\n",
       "    .dataframe tbody tr th:only-of-type {\n",
       "        vertical-align: middle;\n",
       "    }\n",
       "\n",
       "    .dataframe tbody tr th {\n",
       "        vertical-align: top;\n",
       "    }\n",
       "\n",
       "    .dataframe thead th {\n",
       "        text-align: right;\n",
       "    }\n",
       "</style>\n",
       "<table border=\"1\" class=\"dataframe\">\n",
       "  <thead>\n",
       "    <tr style=\"text-align: right;\">\n",
       "      <th></th>\n",
       "      <th>从哪里得知此课程信息</th>\n",
       "      <th>出生年月</th>\n",
       "      <th>备注说明</th>\n",
       "      <th>姓名</th>\n",
       "      <th>工作单位</th>\n",
       "      <th>性别</th>\n",
       "      <th>手机</th>\n",
       "      <th>最后学历</th>\n",
       "      <th>毕业学校</th>\n",
       "      <th>电子邮箱</th>\n",
       "      <th>...</th>\n",
       "      <th>职务或职称</th>\n",
       "      <th>联系电话</th>\n",
       "      <th>论坛ID</th>\n",
       "      <th>论坛id</th>\n",
       "      <th>论坛用户名</th>\n",
       "      <th>身份证号</th>\n",
       "      <th>通讯地址</th>\n",
       "      <th>通讯地址和邮编</th>\n",
       "      <th>邮箱</th>\n",
       "      <th>班级</th>\n",
       "    </tr>\n",
       "  </thead>\n",
       "  <tbody>\n",
       "    <tr>\n",
       "      <th>0</th>\n",
       "      <td>NaN</td>\n",
       "      <td>1984-09-06</td>\n",
       "      <td>NaN</td>\n",
       "      <td>张三</td>\n",
       "      <td>bat</td>\n",
       "      <td>女</td>\n",
       "      <td>1.111111e+10</td>\n",
       "      <td>本科</td>\n",
       "      <td>大学1</td>\n",
       "      <td>NaN</td>\n",
       "      <td>...</td>\n",
       "      <td>NaN</td>\n",
       "      <td>11111111转1111</td>\n",
       "      <td>NaN</td>\n",
       "      <td>NaN</td>\n",
       "      <td>NaN</td>\n",
       "      <td>1.111111e+17</td>\n",
       "      <td>NaN</td>\n",
       "      <td>NaN</td>\n",
       "      <td>NaN</td>\n",
       "      <td>培训班1</td>\n",
       "    </tr>\n",
       "    <tr>\n",
       "      <th>1</th>\n",
       "      <td>NaN</td>\n",
       "      <td>NaN</td>\n",
       "      <td>香港手机 前面加拨 852</td>\n",
       "      <td>李四</td>\n",
       "      <td>NaN</td>\n",
       "      <td>男</td>\n",
       "      <td>NaN</td>\n",
       "      <td>NaN</td>\n",
       "      <td>NaN</td>\n",
       "      <td>lisi@live.hk</td>\n",
       "      <td>...</td>\n",
       "      <td>NaN</td>\n",
       "      <td>11111111</td>\n",
       "      <td>NaN</td>\n",
       "      <td>lisi</td>\n",
       "      <td>NaN</td>\n",
       "      <td>NaN</td>\n",
       "      <td>NaN</td>\n",
       "      <td>NaN</td>\n",
       "      <td>NaN</td>\n",
       "      <td>培训班2</td>\n",
       "    </tr>\n",
       "    <tr>\n",
       "      <th>2</th>\n",
       "      <td>NaN</td>\n",
       "      <td>NaN</td>\n",
       "      <td>一起购买</td>\n",
       "      <td>王五</td>\n",
       "      <td>NaN</td>\n",
       "      <td>男</td>\n",
       "      <td>NaN</td>\n",
       "      <td>NaN</td>\n",
       "      <td>NaN</td>\n",
       "      <td>wangwu@sohu.com</td>\n",
       "      <td>...</td>\n",
       "      <td>NaN</td>\n",
       "      <td>13022221111</td>\n",
       "      <td>NaN</td>\n",
       "      <td>NaN</td>\n",
       "      <td>wangwu1</td>\n",
       "      <td>NaN</td>\n",
       "      <td>NaN</td>\n",
       "      <td>NaN</td>\n",
       "      <td>NaN</td>\n",
       "      <td>培训班3</td>\n",
       "    </tr>\n",
       "    <tr>\n",
       "      <th>3</th>\n",
       "      <td>NaN</td>\n",
       "      <td>NaN</td>\n",
       "      <td>无</td>\n",
       "      <td>赵六</td>\n",
       "      <td>NaN</td>\n",
       "      <td>NaN</td>\n",
       "      <td>NaN</td>\n",
       "      <td>NaN</td>\n",
       "      <td>NaN</td>\n",
       "      <td>zhaoliu@126.com</td>\n",
       "      <td>...</td>\n",
       "      <td>NaN</td>\n",
       "      <td>15011112222</td>\n",
       "      <td>NaN</td>\n",
       "      <td>NaN</td>\n",
       "      <td>zhaoliu</td>\n",
       "      <td>NaN</td>\n",
       "      <td>NaN</td>\n",
       "      <td>上海市11楼 200000</td>\n",
       "      <td>NaN</td>\n",
       "      <td>培训班4</td>\n",
       "    </tr>\n",
       "    <tr>\n",
       "      <th>4</th>\n",
       "      <td>1.0</td>\n",
       "      <td>NaN</td>\n",
       "      <td>beizhu1</td>\n",
       "      <td>钱七</td>\n",
       "      <td>NaN</td>\n",
       "      <td>NaN</td>\n",
       "      <td>NaN</td>\n",
       "      <td>NaN</td>\n",
       "      <td>NaN</td>\n",
       "      <td>NaN</td>\n",
       "      <td>...</td>\n",
       "      <td>NaN</td>\n",
       "      <td>NaN</td>\n",
       "      <td>NaN</td>\n",
       "      <td>NaN</td>\n",
       "      <td>qianqi</td>\n",
       "      <td>NaN</td>\n",
       "      <td>浙江</td>\n",
       "      <td>NaN</td>\n",
       "      <td>qianqi@vip.126.com</td>\n",
       "      <td>培训班5</td>\n",
       "    </tr>\n",
       "    <tr>\n",
       "      <th>5</th>\n",
       "      <td>NaN</td>\n",
       "      <td>NaN</td>\n",
       "      <td>报名专题班</td>\n",
       "      <td>孙八</td>\n",
       "      <td>NaN</td>\n",
       "      <td>男</td>\n",
       "      <td>NaN</td>\n",
       "      <td>NaN</td>\n",
       "      <td>NaN</td>\n",
       "      <td>sunba123@126.com</td>\n",
       "      <td>...</td>\n",
       "      <td>NaN</td>\n",
       "      <td>13611112222</td>\n",
       "      <td>NaN</td>\n",
       "      <td>sunba123</td>\n",
       "      <td>NaN</td>\n",
       "      <td>NaN</td>\n",
       "      <td>NaN</td>\n",
       "      <td>NaN</td>\n",
       "      <td>NaN</td>\n",
       "      <td>培训班6</td>\n",
       "    </tr>\n",
       "    <tr>\n",
       "      <th>6</th>\n",
       "      <td>1.0</td>\n",
       "      <td>NaN</td>\n",
       "      <td>无</td>\n",
       "      <td>王九</td>\n",
       "      <td>NaN</td>\n",
       "      <td>NaN</td>\n",
       "      <td>NaN</td>\n",
       "      <td>NaN</td>\n",
       "      <td>NaN</td>\n",
       "      <td>wangjiu@qq.com</td>\n",
       "      <td>...</td>\n",
       "      <td>NaN</td>\n",
       "      <td>13611117777</td>\n",
       "      <td>NaN</td>\n",
       "      <td>NaN</td>\n",
       "      <td>wangjiu123</td>\n",
       "      <td>NaN</td>\n",
       "      <td>NaN</td>\n",
       "      <td>NaN</td>\n",
       "      <td>NaN</td>\n",
       "      <td>培训班7</td>\n",
       "    </tr>\n",
       "    <tr>\n",
       "      <th>7</th>\n",
       "      <td>2.0</td>\n",
       "      <td>NaN</td>\n",
       "      <td>报6个班</td>\n",
       "      <td>刘十</td>\n",
       "      <td>NaN</td>\n",
       "      <td>NaN</td>\n",
       "      <td>NaN</td>\n",
       "      <td>NaN</td>\n",
       "      <td>NaN</td>\n",
       "      <td>liushi@yahoo.com.cn</td>\n",
       "      <td>...</td>\n",
       "      <td>NaN</td>\n",
       "      <td>15111112222</td>\n",
       "      <td>NaN</td>\n",
       "      <td>NaN</td>\n",
       "      <td>liushi-163</td>\n",
       "      <td>NaN</td>\n",
       "      <td>NaN</td>\n",
       "      <td>NaN</td>\n",
       "      <td>NaN</td>\n",
       "      <td>培训班8</td>\n",
       "    </tr>\n",
       "    <tr>\n",
       "      <th>8</th>\n",
       "      <td>NaN</td>\n",
       "      <td>NaN</td>\n",
       "      <td>NaN</td>\n",
       "      <td>梁十一</td>\n",
       "      <td>NaN</td>\n",
       "      <td>女</td>\n",
       "      <td>1.395556e+10</td>\n",
       "      <td>NaN</td>\n",
       "      <td>NaN</td>\n",
       "      <td>liangshiyi@yahoo.com.cn</td>\n",
       "      <td>...</td>\n",
       "      <td>NaN</td>\n",
       "      <td>021—11114567</td>\n",
       "      <td>liangshiyi</td>\n",
       "      <td>NaN</td>\n",
       "      <td>NaN</td>\n",
       "      <td>NaN</td>\n",
       "      <td>NaN</td>\n",
       "      <td>上海市202室</td>\n",
       "      <td>NaN</td>\n",
       "      <td>培训班9</td>\n",
       "    </tr>\n",
       "  </tbody>\n",
       "</table>\n",
       "<p>9 rows × 21 columns</p>\n",
       "</div>"
      ],
      "text/plain": [
       "   从哪里得知此课程信息        出生年月           备注说明   姓名 工作单位   性别            手机 最后学历  \\\n",
       "0         NaN  1984-09-06            NaN   张三  bat    女  1.111111e+10   本科   \n",
       "1         NaN         NaN  香港手机 前面加拨 852   李四  NaN    男           NaN  NaN   \n",
       "2         NaN         NaN           一起购买   王五  NaN    男           NaN  NaN   \n",
       "3         NaN         NaN              无   赵六  NaN  NaN           NaN  NaN   \n",
       "4         1.0         NaN        beizhu1   钱七  NaN  NaN           NaN  NaN   \n",
       "5         NaN         NaN          报名专题班   孙八  NaN    男           NaN  NaN   \n",
       "6         1.0         NaN            无     王九  NaN  NaN           NaN  NaN   \n",
       "7         2.0         NaN           报6个班   刘十  NaN  NaN           NaN  NaN   \n",
       "8         NaN         NaN            NaN  梁十一  NaN    女  1.395556e+10  NaN   \n",
       "\n",
       "  毕业学校                     电子邮箱  ...   职务或职称           联系电话        论坛ID  \\\n",
       "0  大学1                      NaN  ...     NaN  11111111转1111         NaN   \n",
       "1  NaN             lisi@live.hk  ...     NaN       11111111         NaN   \n",
       "2  NaN          wangwu@sohu.com  ...     NaN    13022221111         NaN   \n",
       "3  NaN          zhaoliu@126.com  ...     NaN    15011112222         NaN   \n",
       "4  NaN                      NaN  ...     NaN            NaN         NaN   \n",
       "5  NaN         sunba123@126.com  ...     NaN    13611112222         NaN   \n",
       "6  NaN           wangjiu@qq.com  ...     NaN    13611117777         NaN   \n",
       "7  NaN      liushi@yahoo.com.cn  ...     NaN    15111112222         NaN   \n",
       "8  NaN  liangshiyi@yahoo.com.cn  ...     NaN   021—11114567  liangshiyi   \n",
       "\n",
       "       论坛id       论坛用户名          身份证号  通讯地址        通讯地址和邮编  \\\n",
       "0       NaN         NaN  1.111111e+17   NaN            NaN   \n",
       "1      lisi         NaN           NaN   NaN            NaN   \n",
       "2       NaN     wangwu1           NaN   NaN            NaN   \n",
       "3       NaN     zhaoliu           NaN   NaN  上海市11楼 200000   \n",
       "4       NaN      qianqi           NaN   浙江             NaN   \n",
       "5  sunba123         NaN           NaN   NaN            NaN   \n",
       "6       NaN  wangjiu123           NaN   NaN            NaN   \n",
       "7       NaN  liushi-163           NaN   NaN            NaN   \n",
       "8       NaN         NaN           NaN   NaN        上海市202室   \n",
       "\n",
       "                   邮箱    班级  \n",
       "0                 NaN  培训班1  \n",
       "1                 NaN  培训班2  \n",
       "2                 NaN  培训班3  \n",
       "3                 NaN  培训班4  \n",
       "4  qianqi@vip.126.com  培训班5  \n",
       "5                 NaN  培训班6  \n",
       "6                 NaN  培训班7  \n",
       "7                 NaN  培训班8  \n",
       "8                 NaN  培训班9  \n",
       "\n",
       "[9 rows x 21 columns]"
      ]
     },
     "execution_count": 116,
     "metadata": {},
     "output_type": "execute_result"
    }
   ],
   "source": [
    "data1"
   ]
  }
 ],
 "metadata": {
  "kernelspec": {
   "display_name": "Python 3",
   "language": "python",
   "name": "python3"
  },
  "language_info": {
   "codemirror_mode": {
    "name": "ipython",
    "version": 3
   },
   "file_extension": ".py",
   "mimetype": "text/x-python",
   "name": "python",
   "nbconvert_exporter": "python",
   "pygments_lexer": "ipython3",
   "version": "3.7.3"
  }
 },
 "nbformat": 4,
 "nbformat_minor": 2
}
