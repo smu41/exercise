{
 "cells": [
  {
   "cell_type": "markdown",
   "metadata": {},
   "source": [
    "### 用python玩转图像"
   ]
  },
  {
   "cell_type": "code",
   "execution_count": 1,
   "metadata": {},
   "outputs": [],
   "source": [
    "from PIL import ImageColor  # pip install pillow"
   ]
  },
  {
   "cell_type": "code",
   "execution_count": 3,
   "metadata": {},
   "outputs": [
    {
     "data": {
      "text/plain": [
       "(255, 0, 0)"
      ]
     },
     "execution_count": 3,
     "metadata": {},
     "output_type": "execute_result"
    }
   ],
   "source": [
    "ImageColor.getcolor('red', 'RGB')"
   ]
  },
  {
   "cell_type": "code",
   "execution_count": 4,
   "metadata": {},
   "outputs": [
    {
     "data": {
      "text/plain": [
       "(255, 0, 0, 255)"
      ]
     },
     "execution_count": 4,
     "metadata": {},
     "output_type": "execute_result"
    }
   ],
   "source": [
    "ImageColor.getcolor('red', 'RGBA')  # A 表示透明度"
   ]
  },
  {
   "cell_type": "code",
   "execution_count": 2,
   "metadata": {},
   "outputs": [
    {
     "name": "stdout",
     "output_type": "stream",
     "text": [
      "/Users/yangsan/Pictures/素材图片\n"
     ]
    }
   ],
   "source": [
    "# 切换到工作目录， 有图片文件的地方\n",
    "%cd /Users/yangsan/Pictures/素材图片"
   ]
  },
  {
   "cell_type": "code",
   "execution_count": 5,
   "metadata": {},
   "outputs": [
    {
     "name": "stdout",
     "output_type": "stream",
     "text": [
      "JPEG (1920, 1200) RGB 591317.jpg\n"
     ]
    }
   ],
   "source": [
    "from PIL import Image\n",
    "\n",
    "# 做个缩图\n",
    "# 打开一个JPG图像文件，注意是当前路径\n",
    "im = Image.open('591317.jpg')\n",
    "print(im.format, im.size, im.mode, im.filename)\n",
    "\n",
    "# 获得图像尺寸\n",
    "w, h = im.size\n",
    "print('尺寸: %sx%s' % (w, h))\n",
    "\n",
    "# 缩放到50%：\n",
    "im.thumbnail((w//2, h//2))\n",
    "print('Resize image to: %sx%s' % (w//2, h//2))\n",
    "\n",
    "# 把缩放后的图像用JPG格式保存：\n",
    "im.save('momo.jpg', 'jpeg')"
   ]
  },
  {
   "cell_type": "code",
   "execution_count": 9,
   "metadata": {},
   "outputs": [],
   "source": [
    "# 显示图片\n",
    "im.show()"
   ]
  },
  {
   "cell_type": "code",
   "execution_count": 10,
   "metadata": {},
   "outputs": [],
   "source": [
    "# 调整大小\n",
    "im_size = im.resize((w//4, h//4))\n",
    "im_size.save('momo-1.jpg')"
   ]
  },
  {
   "cell_type": "code",
   "execution_count": 11,
   "metadata": {},
   "outputs": [],
   "source": [
    "# 调整大小，变高一点\n",
    "im_size = im.resize((w//4, h//3))\n",
    "im_size.save('momo-2.jpg')"
   ]
  },
  {
   "cell_type": "code",
   "execution_count": 12,
   "metadata": {},
   "outputs": [],
   "source": [
    "# 增强效果\n",
    "from PIL import ImageEnhance\n",
    "\n",
    "enh = ImageEnhance.Contrast(im)\n",
    "enh.enhance(1.3).show('30% 增强对比度')"
   ]
  },
  {
   "cell_type": "code",
   "execution_count": 1,
   "metadata": {},
   "outputs": [],
   "source": [
    "# 裁剪图像\n",
    "box = (100, 100, 400, 400)\n",
    "# region = im.crop(box)\n",
    "# region.save('momo-300x300.jpg')"
   ]
  },
  {
   "cell_type": "code",
   "execution_count": 14,
   "metadata": {},
   "outputs": [],
   "source": [
    "# 旋转图片\n",
    "im.rotate(90).save('momo-90.jpg')\n",
    "im.rotate(180).save('momo-180.jpg')\n",
    "im.rotate(8).save('momo-8.jpg')"
   ]
  },
  {
   "cell_type": "code",
   "execution_count": 15,
   "metadata": {},
   "outputs": [],
   "source": [
    "# 镜像翻转\n",
    "im.transpose(Image.FLIP_LEFT_RIGHT).save('momo-水平.jpg')\n",
    "im.transpose(Image.FLIP_TOP_BOTTOM).save('momo-上下.jpg')"
   ]
  },
  {
   "cell_type": "code",
   "execution_count": 18,
   "metadata": {},
   "outputs": [],
   "source": [
    "# 添加水印，复制图片，计算位置，粘贴合并图片\n",
    "\n",
    "# 打开logo文件\n",
    "logo_file = 'de8ug.png'\n",
    "im_logo = Image.open(logo_file)\n",
    "logo_width, logo_height = im_logo.size\n",
    "\n",
    "# 打开目录文件\n",
    "target = 'py-banner.jpg'\n",
    "im_target = Image.open(target)\n",
    "target_width, target_height = im_target.size\n",
    "\n",
    "# 粘贴\n",
    "im_copy = im_target.copy()\n",
    "im_copy.paste(im_logo, (target_width-logo_width, target_height-logo_height), im_logo)\n",
    "im_copy.save('momo-logo.jpg')"
   ]
  },
  {
   "cell_type": "code",
   "execution_count": 19,
   "metadata": {},
   "outputs": [
    {
     "data": {
      "text/plain": [
       "('R', 'G', 'B')"
      ]
     },
     "execution_count": 19,
     "metadata": {},
     "output_type": "execute_result"
    }
   ],
   "source": [
    "# 查看波段和每个像素的颜色值\n",
    "im.getbands()"
   ]
  },
  {
   "cell_type": "code",
   "execution_count": 21,
   "metadata": {},
   "outputs": [
    {
     "data": {
      "text/plain": [
       "(146, 103, 35)"
      ]
     },
     "execution_count": 21,
     "metadata": {},
     "output_type": "execute_result"
    }
   ],
   "source": [
    "im.getpixel((1, 1))"
   ]
  },
  {
   "cell_type": "code",
   "execution_count": 22,
   "metadata": {},
   "outputs": [
    {
     "data": {
      "text/plain": [
       "(194, 137, 58)"
      ]
     },
     "execution_count": 22,
     "metadata": {},
     "output_type": "execute_result"
    }
   ],
   "source": [
    "im.getpixel((100, 100))"
   ]
  },
  {
   "cell_type": "code",
   "execution_count": 26,
   "metadata": {},
   "outputs": [],
   "source": [
    "# 新建图片，和填写文字\n",
    "from PIL import ImageDraw, ImageFont\n",
    "\n",
    "im_new = Image.new('RGBA', (400, 400), 'white')\n",
    "pic = ImageDraw.Draw(im_new)\n",
    "pic.text((50, 50), 'sure', fill = 'red')\n",
    "im_new.save('sure-words.png')"
   ]
  },
  {
   "cell_type": "code",
   "execution_count": null,
   "metadata": {},
   "outputs": [],
   "source": [
    "# 新建图片，和填写文字，处理字体\n",
    "import os\n",
    "from PIL import ImageFont\n",
    "\n",
    "fonts_path = r''\n",
    "font = ImageFont.truetype(os.path.join(fonts_path,''), 40)\n",
    "im_new = Image.new('RGBA', (400,400), 'white')\n",
    "pic = ImageDraw.Draw(im_new)\n",
    "pic.text((50, 50), '第8哥', fill='black', font=font)\n",
    "im_new.save('sure-font.png')"
   ]
  },
  {
   "cell_type": "markdown",
   "metadata": {},
   "source": [
    "###  mimi照片管理系统"
   ]
  },
  {
   "cell_type": "markdown",
   "metadata": {},
   "source": [
    "二 制作图像处理类，命名为ImageUtils，添加如下功能（40分）：\n",
    "  - 给定目录，选取目录中所有图片类型文件（jpg，png，bmp），并用excel存档：第一列文件名，第二列文件大小；\n",
    "  - 可根据命令行参数，对图像进行旋转，裁剪操作；\n",
    "  - 整个工程包含多个目录，包含配置文件，日志记录，数据文件；\n",
    "  - （选做）添加任何图片相关的好玩功能。"
   ]
  },
  {
   "cell_type": "code",
   "execution_count": null,
   "metadata": {},
   "outputs": [],
   "source": [
    "from PIL import ImageColor, Image\n",
    "\n",
    "class ImageSystem:\n",
    "    \"\"\"图片处理系统\"\"\"\n",
    "    def __init__(self, source_dir, target_dir):\n",
    "        self.source_dir = source_dir\n",
    "        self.target_dir = target_dir\n",
    "    \n",
    "    def thumbnail(self, filename, percent=0.5):\n",
    "        \"\"\"缩略图\"\"\"\n",
    "        # 打开文件\n",
    "        im = Image.open(filename)\n",
    "        print(im.filename, im.size)\n",
    "\n",
    "        # 获得图像尺寸\n",
    "        w, h = im.size\n",
    "        print('尺寸: %sx%s' % (w, h))\n",
    "\n",
    "        # 缩放到50%：\n",
    "        im.thumbnail((int(w*percent), int(h*percent)))\n",
    "        print('Resize image to: %sx%s' % (int(w*percent), int(h*percent)))\n",
    "\n",
    "        # 把缩放后的图像用JPG格式保存：\n",
    "        im.save('momo.jpg', 'jpeg')\n",
    "    \n",
    "    def resize(self):\n",
    "        \"\"\"调整图片尺寸\"\"\"\n",
    "        im_size = im.resize((w//4, h//3))\n",
    "        im_size.save('momo-1.jpg')\n",
    "    \n",
    "    def rotate(self, mirror=False):\n",
    "        \"\"\"图片旋转\"\"\"\n",
    "        pass\n",
    "    \n",
    "    def add_logo(self):\n",
    "        \"\"\"添加logo\"\"\"\n",
    "        pass\n",
    "    \n",
    "    def new_Image(self):\n",
    "        \"\"\"创建图片\"\"\"\n",
    "        pass"
   ]
  },
  {
   "cell_type": "code",
   "execution_count": 5,
   "metadata": {},
   "outputs": [],
   "source": [
    "import openpyxl\n",
    "from openpyxl import Workbook\n",
    "\n",
    "wb = Workbook()\n",
    "filename = '图片.xlsx'\n",
    "sh1 = wb.active\n",
    "sh1['A1'] = '文件名'\n",
    "sh1['B1'] = '图片尺寸'\n",
    "sh1['A2'] = im.filename\n",
    "sh1['B2'] = im.size\n",
    "\n",
    "wb.save(filename)"
   ]
  }
 ],
 "metadata": {
  "kernelspec": {
   "display_name": "Python 3",
   "language": "python",
   "name": "python3"
  },
  "language_info": {
   "codemirror_mode": {
    "name": "ipython",
    "version": 3
   },
   "file_extension": ".py",
   "mimetype": "text/x-python",
   "name": "python",
   "nbconvert_exporter": "python",
   "pygments_lexer": "ipython3",
   "version": "3.6.5"
  }
 },
 "nbformat": 4,
 "nbformat_minor": 2
}
