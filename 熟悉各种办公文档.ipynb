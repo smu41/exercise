{
 "cells": [
  {
   "cell_type": "code",
   "execution_count": 1,
   "metadata": {},
   "outputs": [
    {
     "name": "stdout",
     "output_type": "stream",
     "text": [
      "/Users/yangsan/py2018/02-auto/office\n"
     ]
    }
   ],
   "source": [
    "%cd /Users/yangsan/py2018/02-auto/office "
   ]
  },
  {
   "cell_type": "code",
   "execution_count": 3,
   "metadata": {},
   "outputs": [
    {
     "data": {
      "text/plain": [
       "'/Users/yangsan/py2018/02-auto/office'"
      ]
     },
     "execution_count": 3,
     "metadata": {},
     "output_type": "execute_result"
    }
   ],
   "source": [
    "%pwd"
   ]
  },
  {
   "cell_type": "code",
   "execution_count": 5,
   "metadata": {},
   "outputs": [
    {
     "data": {
      "text/plain": [
       "<docx.text.paragraph.Paragraph at 0x10e0995f8>"
      ]
     },
     "execution_count": 5,
     "metadata": {},
     "output_type": "execute_result"
    }
   ],
   "source": [
    "# pip install python-docx\n",
    "# 文档 document\n",
    "from docx import Document\n",
    "doc = Document()\n",
    "doc.add_heading('测试')"
   ]
  },
  {
   "cell_type": "code",
   "execution_count": 6,
   "metadata": {},
   "outputs": [
    {
     "data": {
      "text/plain": [
       "<docx.text.paragraph.Paragraph at 0x10e1a5518>"
      ]
     },
     "execution_count": 6,
     "metadata": {},
     "output_type": "execute_result"
    }
   ],
   "source": [
    "doc.add_paragraph('sure word')"
   ]
  },
  {
   "cell_type": "code",
   "execution_count": 7,
   "metadata": {},
   "outputs": [],
   "source": [
    "doc.save('sure.docx')"
   ]
  },
  {
   "cell_type": "code",
   "execution_count": 9,
   "metadata": {},
   "outputs": [
    {
     "data": {
      "text/plain": [
       "<docx.text.paragraph.Paragraph at 0x10e1c8710>"
      ]
     },
     "execution_count": 9,
     "metadata": {},
     "output_type": "execute_result"
    }
   ],
   "source": [
    "doc = Document()\n",
    "doc.add_heading('这是标题', level=0)"
   ]
  },
  {
   "cell_type": "code",
   "execution_count": 10,
   "metadata": {},
   "outputs": [
    {
     "data": {
      "text/plain": [
       "<docx.text.paragraph.Paragraph at 0x10e1c80b8>"
      ]
     },
     "execution_count": 10,
     "metadata": {},
     "output_type": "execute_result"
    }
   ],
   "source": [
    "doc.add_paragraph('sure', 'Subtitle')"
   ]
  },
  {
   "cell_type": "code",
   "execution_count": 11,
   "metadata": {},
   "outputs": [
    {
     "data": {
      "text/plain": [
       "<docx.text.paragraph.Paragraph at 0x10e1c8748>"
      ]
     },
     "execution_count": 11,
     "metadata": {},
     "output_type": "execute_result"
    }
   ],
   "source": [
    "doc.add_paragraph('这里是正文正文正文哦')"
   ]
  },
  {
   "cell_type": "code",
   "execution_count": 12,
   "metadata": {},
   "outputs": [],
   "source": [
    "from docx.enum.style import WD_STYLE_TYPE"
   ]
  },
  {
   "cell_type": "code",
   "execution_count": 16,
   "metadata": {},
   "outputs": [
    {
     "name": "stdout",
     "output_type": "stream",
     "text": [
      "Normal\n",
      "Heading 1\n",
      "Heading 2\n",
      "Heading 3\n",
      "Heading 4\n",
      "Heading 5\n",
      "Heading 6\n",
      "Heading 7\n",
      "Heading 8\n",
      "Heading 9\n",
      "No Spacing\n",
      "Title\n",
      "Subtitle\n",
      "List Paragraph\n",
      "Body Text\n",
      "Body Text 2\n",
      "Body Text 3\n",
      "List\n",
      "List 2\n",
      "List 3\n",
      "List Bullet\n",
      "List Bullet 2\n",
      "List Bullet 3\n",
      "List Number\n",
      "List Number 2\n",
      "List Number 3\n",
      "List Continue\n",
      "List Continue 2\n",
      "List Continue 3\n",
      "macro\n",
      "Quote\n",
      "Caption\n",
      "Intense Quote\n",
      "TOC Heading\n"
     ]
    }
   ],
   "source": [
    "# 查看样式\n",
    "for s in doc.styles:\n",
    "    if s.type == WD_STYLE_TYPE.PARAGRAPH:\n",
    "#         print(s)\n",
    "#         print(s.font)\n",
    "        print(s.name)"
   ]
  },
  {
   "cell_type": "code",
   "execution_count": 18,
   "metadata": {},
   "outputs": [
    {
     "name": "stdout",
     "output_type": "stream",
     "text": [
      "Default Paragraph Font\n",
      "Heading 1 Char\n",
      "Heading 2 Char\n",
      "Heading 3 Char\n",
      "Title Char\n",
      "Subtitle Char\n",
      "Body Text Char\n",
      "Body Text 2 Char\n",
      "Body Text 3 Char\n",
      "Macro Text Char\n",
      "Quote Char\n",
      "Heading 4 Char\n",
      "Heading 5 Char\n",
      "Heading 6 Char\n",
      "Heading 7 Char\n",
      "Heading 8 Char\n",
      "Heading 9 Char\n",
      "Strong\n",
      "Emphasis\n",
      "Intense Quote Char\n",
      "Subtle Emphasis\n",
      "Intense Emphasis\n",
      "Subtle Reference\n",
      "Intense Reference\n",
      "Book Title\n"
     ]
    }
   ],
   "source": [
    "for s in doc.styles:\n",
    "    if s.type == WD_STYLE_TYPE.CHARACTER:\n",
    "        print(s.name)"
   ]
  },
  {
   "cell_type": "code",
   "execution_count": 20,
   "metadata": {},
   "outputs": [],
   "source": [
    "# 给段落和文字添加样式\n",
    "p = doc.add_paragraph('hahahah正文', style='Title')"
   ]
  },
  {
   "cell_type": "code",
   "execution_count": 21,
   "metadata": {},
   "outputs": [
    {
     "data": {
      "text/plain": [
       "<docx.text.run.Run at 0x10e48b940>"
      ]
     },
     "execution_count": 21,
     "metadata": {},
     "output_type": "execute_result"
    }
   ],
   "source": [
    "p.add_run('d7g3gd run run')"
   ]
  },
  {
   "cell_type": "code",
   "execution_count": 22,
   "metadata": {},
   "outputs": [],
   "source": [
    "para = doc.add_paragraph('这就是个段落')"
   ]
  },
  {
   "cell_type": "code",
   "execution_count": 23,
   "metadata": {},
   "outputs": [
    {
     "data": {
      "text/plain": [
       "<docx.text.run.Run at 0x10e48b278>"
      ]
     },
     "execution_count": 23,
     "metadata": {},
     "output_type": "execute_result"
    }
   ],
   "source": [
    "para.add_run('追加文本')\n",
    "para.add_run('追加文本')\n",
    "para.add_run('追加文本')\n",
    "para.add_run('追加文本')"
   ]
  },
  {
   "cell_type": "code",
   "execution_count": 24,
   "metadata": {},
   "outputs": [],
   "source": [
    "# 添加对齐样式\n",
    "from docx.enum.text import WD_ALIGN_PARAGRAPH\n",
    "para.alignment = WD_ALIGN_PARAGRAPH.CENTER"
   ]
  },
  {
   "cell_type": "code",
   "execution_count": 25,
   "metadata": {},
   "outputs": [],
   "source": [
    "para_left = doc.add_paragraph('左对齐段落')"
   ]
  },
  {
   "cell_type": "code",
   "execution_count": 26,
   "metadata": {},
   "outputs": [],
   "source": [
    "para_left.alignment = WD_ALIGN_PARAGRAPH.LEFT"
   ]
  },
  {
   "cell_type": "code",
   "execution_count": 27,
   "metadata": {},
   "outputs": [],
   "source": [
    "left_run = para_left.add_run('单独调整这几个字的样式')"
   ]
  },
  {
   "cell_type": "code",
   "execution_count": 29,
   "metadata": {},
   "outputs": [],
   "source": [
    "from docx.shared import Pt\n",
    "left_run.font.bold = True\n",
    "left_run.font.size = Pt(20)"
   ]
  },
  {
   "cell_type": "code",
   "execution_count": 30,
   "metadata": {},
   "outputs": [
    {
     "data": {
      "text/plain": [
       "<docx.shape.InlineShape at 0x10e4a05c0>"
      ]
     },
     "execution_count": 30,
     "metadata": {},
     "output_type": "execute_result"
    }
   ],
   "source": [
    "# 添加图像\n",
    "doc.add_picture('demo.jpg')"
   ]
  },
  {
   "cell_type": "code",
   "execution_count": 31,
   "metadata": {},
   "outputs": [],
   "source": [
    "doc.save('style and pic.docx')"
   ]
  },
  {
   "cell_type": "code",
   "execution_count": 32,
   "metadata": {},
   "outputs": [],
   "source": [
    "# 添加表格\n",
    "table = doc.add_table(rows=6, cols=7)"
   ]
  },
  {
   "cell_type": "code",
   "execution_count": 33,
   "metadata": {},
   "outputs": [],
   "source": [
    "cell = table.cell(1,1)"
   ]
  },
  {
   "cell_type": "code",
   "execution_count": 34,
   "metadata": {},
   "outputs": [],
   "source": [
    "cell.text = 'sure'"
   ]
  },
  {
   "cell_type": "code",
   "execution_count": 35,
   "metadata": {},
   "outputs": [],
   "source": [
    "table.cell(3,6).text = '这里是个8'"
   ]
  },
  {
   "cell_type": "code",
   "execution_count": 36,
   "metadata": {},
   "outputs": [
    {
     "name": "stdout",
     "output_type": "stream",
     "text": [
      "Normal Table\n",
      "Table Grid\n",
      "Light Shading\n",
      "Light Shading Accent 1\n",
      "Light Shading Accent 2\n",
      "Light Shading Accent 3\n",
      "Light Shading Accent 4\n",
      "Light Shading Accent 5\n",
      "Light Shading Accent 6\n",
      "Light List\n",
      "Light List Accent 1\n",
      "Light List Accent 2\n",
      "Light List Accent 3\n",
      "Light List Accent 4\n",
      "Light List Accent 5\n",
      "Light List Accent 6\n",
      "Light Grid\n",
      "Light Grid Accent 1\n",
      "Light Grid Accent 2\n",
      "Light Grid Accent 3\n",
      "Light Grid Accent 4\n",
      "Light Grid Accent 5\n",
      "Light Grid Accent 6\n",
      "Medium Shading 1\n",
      "Medium Shading 1 Accent 1\n",
      "Medium Shading 1 Accent 2\n",
      "Medium Shading 1 Accent 3\n",
      "Medium Shading 1 Accent 4\n",
      "Medium Shading 1 Accent 5\n",
      "Medium Shading 1 Accent 6\n",
      "Medium Shading 2\n",
      "Medium Shading 2 Accent 1\n",
      "Medium Shading 2 Accent 2\n",
      "Medium Shading 2 Accent 3\n",
      "Medium Shading 2 Accent 4\n",
      "Medium Shading 2 Accent 5\n",
      "Medium Shading 2 Accent 6\n",
      "Medium List 1\n",
      "Medium List 1 Accent 1\n",
      "Medium List 1 Accent 2\n",
      "Medium List 1 Accent 3\n",
      "Medium List 1 Accent 4\n",
      "Medium List 1 Accent 5\n",
      "Medium List 1 Accent 6\n",
      "Medium List 2\n",
      "Medium List 2 Accent 1\n",
      "Medium List 2 Accent 2\n",
      "Medium List 2 Accent 3\n",
      "Medium List 2 Accent 4\n",
      "Medium List 2 Accent 5\n",
      "Medium List 2 Accent 6\n",
      "Medium Grid 1\n",
      "Medium Grid 1 Accent 1\n",
      "Medium Grid 1 Accent 2\n",
      "Medium Grid 1 Accent 3\n",
      "Medium Grid 1 Accent 4\n",
      "Medium Grid 1 Accent 5\n",
      "Medium Grid 1 Accent 6\n",
      "Medium Grid 2\n",
      "Medium Grid 2 Accent 1\n",
      "Medium Grid 2 Accent 2\n",
      "Medium Grid 2 Accent 3\n",
      "Medium Grid 2 Accent 4\n",
      "Medium Grid 2 Accent 5\n",
      "Medium Grid 2 Accent 6\n",
      "Medium Grid 3\n",
      "Medium Grid 3 Accent 1\n",
      "Medium Grid 3 Accent 2\n",
      "Medium Grid 3 Accent 3\n",
      "Medium Grid 3 Accent 4\n",
      "Medium Grid 3 Accent 5\n",
      "Medium Grid 3 Accent 6\n",
      "Dark List\n",
      "Dark List Accent 1\n",
      "Dark List Accent 2\n",
      "Dark List Accent 3\n",
      "Dark List Accent 4\n",
      "Dark List Accent 5\n",
      "Dark List Accent 6\n",
      "Colorful Shading\n",
      "Colorful Shading Accent 1\n",
      "Colorful Shading Accent 2\n",
      "Colorful Shading Accent 3\n",
      "Colorful Shading Accent 4\n",
      "Colorful Shading Accent 5\n",
      "Colorful Shading Accent 6\n",
      "Colorful List\n",
      "Colorful List Accent 1\n",
      "Colorful List Accent 2\n",
      "Colorful List Accent 3\n",
      "Colorful List Accent 4\n",
      "Colorful List Accent 5\n",
      "Colorful List Accent 6\n",
      "Colorful Grid\n",
      "Colorful Grid Accent 1\n",
      "Colorful Grid Accent 2\n",
      "Colorful Grid Accent 3\n",
      "Colorful Grid Accent 4\n",
      "Colorful Grid Accent 5\n",
      "Colorful Grid Accent 6\n"
     ]
    }
   ],
   "source": [
    "for s in doc.styles:\n",
    "    if s.type == WD_STYLE_TYPE.TABLE:\n",
    "        print(s.name)"
   ]
  },
  {
   "cell_type": "code",
   "execution_count": 37,
   "metadata": {},
   "outputs": [],
   "source": [
    "table.style = 'Light Grid Accent 4'"
   ]
  },
  {
   "cell_type": "code",
   "execution_count": 38,
   "metadata": {},
   "outputs": [],
   "source": [
    "doc.save('table.docx')"
   ]
  },
  {
   "cell_type": "markdown",
   "metadata": {},
   "source": [
    "### Excel的读写套路\n",
    "● 工作簿， 工作表， 单元格\n",
    "\n",
    "● workbook, sheet, cell\n",
    "\n",
    "● 灵活操作各种对象，进行修改\n",
    "\n",
    "● 编辑样式"
   ]
  },
  {
   "cell_type": "code",
   "execution_count": 2,
   "metadata": {},
   "outputs": [
    {
     "data": {
      "text/plain": [
       "'/Users/yangsan/py2018'"
      ]
     },
     "execution_count": 2,
     "metadata": {},
     "output_type": "execute_result"
    }
   ],
   "source": [
    "%pwd"
   ]
  },
  {
   "cell_type": "code",
   "execution_count": 1,
   "metadata": {},
   "outputs": [
    {
     "name": "stdout",
     "output_type": "stream",
     "text": [
      "/Users/yangsan/py2018/02-auto\n"
     ]
    }
   ],
   "source": [
    "%cd /Users/yangsan/py2018/02-auto"
   ]
  },
  {
   "cell_type": "code",
   "execution_count": 4,
   "metadata": {},
   "outputs": [
    {
     "data": {
      "text/plain": [
       "'/Users/yangsan/py2018/02-auto'"
      ]
     },
     "execution_count": 4,
     "metadata": {},
     "output_type": "execute_result"
    }
   ],
   "source": [
    "%pwd"
   ]
  },
  {
   "cell_type": "code",
   "execution_count": 2,
   "metadata": {},
   "outputs": [],
   "source": [
    "# pip install openpyxl\n",
    "import openpyxl\n",
    "wb = openpyxl.load_workbook('sure.xlsx')"
   ]
  },
  {
   "cell_type": "code",
   "execution_count": 7,
   "metadata": {},
   "outputs": [
    {
     "name": "stderr",
     "output_type": "stream",
     "text": [
      "/anaconda3/envs/ys/lib/python3.6/site-packages/ipykernel_launcher.py:1: DeprecationWarning: Call to deprecated function get_active_sheet (Use the .active property).\n",
      "  \"\"\"Entry point for launching an IPython kernel.\n"
     ]
    },
    {
     "data": {
      "text/plain": [
       "<Worksheet \"Sheet1\">"
      ]
     },
     "execution_count": 7,
     "metadata": {},
     "output_type": "execute_result"
    }
   ],
   "source": [
    "wb.get_active_sheet()"
   ]
  },
  {
   "cell_type": "code",
   "execution_count": 8,
   "metadata": {},
   "outputs": [],
   "source": [
    "sh1 = wb.active"
   ]
  },
  {
   "cell_type": "code",
   "execution_count": 9,
   "metadata": {},
   "outputs": [],
   "source": [
    "cell1 = sh1['A1']"
   ]
  },
  {
   "cell_type": "code",
   "execution_count": 10,
   "metadata": {},
   "outputs": [
    {
     "data": {
      "text/plain": [
       "'学生'"
      ]
     },
     "execution_count": 10,
     "metadata": {},
     "output_type": "execute_result"
    }
   ],
   "source": [
    "cell1.value"
   ]
  },
  {
   "cell_type": "code",
   "execution_count": 13,
   "metadata": {},
   "outputs": [
    {
     "data": {
      "text/plain": [
       "'张三'"
      ]
     },
     "execution_count": 13,
     "metadata": {},
     "output_type": "execute_result"
    }
   ],
   "source": [
    "sh1['A2'].value"
   ]
  },
  {
   "cell_type": "code",
   "execution_count": 15,
   "metadata": {},
   "outputs": [
    {
     "data": {
      "text/plain": [
       "'A2'"
      ]
     },
     "execution_count": 15,
     "metadata": {},
     "output_type": "execute_result"
    }
   ],
   "source": [
    "sh1['A2'].coordinate"
   ]
  },
  {
   "cell_type": "code",
   "execution_count": 16,
   "metadata": {},
   "outputs": [],
   "source": [
    "sh1['A2'].value = 'zhangsan'  # == sh1['A2'] = 'zhangsan'"
   ]
  },
  {
   "cell_type": "code",
   "execution_count": 17,
   "metadata": {},
   "outputs": [
    {
     "data": {
      "text/plain": [
       "'zhangsan'"
      ]
     },
     "execution_count": 17,
     "metadata": {},
     "output_type": "execute_result"
    }
   ],
   "source": [
    "sh1['A2'].value"
   ]
  },
  {
   "cell_type": "code",
   "execution_count": 18,
   "metadata": {},
   "outputs": [
    {
     "data": {
      "text/plain": [
       "'Sheet1'"
      ]
     },
     "execution_count": 18,
     "metadata": {},
     "output_type": "execute_result"
    }
   ],
   "source": [
    "sh1.title"
   ]
  },
  {
   "cell_type": "code",
   "execution_count": 19,
   "metadata": {},
   "outputs": [],
   "source": [
    "sh1.title = '成绩单'"
   ]
  },
  {
   "cell_type": "code",
   "execution_count": 20,
   "metadata": {},
   "outputs": [
    {
     "data": {
      "text/plain": [
       "'成绩单'"
      ]
     },
     "execution_count": 20,
     "metadata": {},
     "output_type": "execute_result"
    }
   ],
   "source": [
    "sh1.title"
   ]
  },
  {
   "cell_type": "code",
   "execution_count": 21,
   "metadata": {},
   "outputs": [],
   "source": [
    "wb.save('sure-1.xlsx')"
   ]
  },
  {
   "cell_type": "code",
   "execution_count": 28,
   "metadata": {},
   "outputs": [],
   "source": [
    "# 取sheet1的数据， 放入sheet2， 成绩>70\n",
    "# 打开工作簿\n",
    "wb = openpyxl.load_workbook('sure.xlsx')\n",
    "# 打开sheet1， 打开sheet2\n",
    "# 操作1， 存入2\n",
    "# 另存为新文件"
   ]
  },
  {
   "cell_type": "code",
   "execution_count": 24,
   "metadata": {},
   "outputs": [
    {
     "name": "stderr",
     "output_type": "stream",
     "text": [
      "/anaconda3/envs/ys/lib/python3.6/site-packages/ipykernel_launcher.py:1: DeprecationWarning: Call to deprecated function get_sheet_by_name (Use wb[sheetname]).\n",
      "  \"\"\"Entry point for launching an IPython kernel.\n"
     ]
    }
   ],
   "source": [
    "# sh1 = wb.get_sheet_by_name('Sheet1')"
   ]
  },
  {
   "cell_type": "code",
   "execution_count": 3,
   "metadata": {},
   "outputs": [],
   "source": [
    "sh1 = wb['Sheet1']\n",
    "sh2 = wb['Sheet2']"
   ]
  },
  {
   "cell_type": "code",
   "execution_count": 30,
   "metadata": {},
   "outputs": [
    {
     "name": "stdout",
     "output_type": "stream",
     "text": [
      "学生 成绩\n",
      "张三 60\n",
      "李四 59\n",
      "王五 75\n",
      "赵六 66\n",
      "孙七 80\n",
      "周八 93\n"
     ]
    }
   ],
   "source": [
    "for rows in sh1.rows:\n",
    "#     print(rows)\n",
    "    print(rows[0].value, rows[1].value)"
   ]
  },
  {
   "cell_type": "code",
   "execution_count": 33,
   "metadata": {},
   "outputs": [
    {
     "name": "stdout",
     "output_type": "stream",
     "text": [
      "张三 60\n",
      "李四 59\n",
      "王五 75\n",
      "赵六 66\n",
      "孙七 80\n",
      "周八 93\n"
     ]
    }
   ],
   "source": [
    "for row in sh1.rows:\n",
    "    if row[0].coordinate != 'A1':\n",
    "        print(row[0].value, row[1].value)"
   ]
  },
  {
   "cell_type": "code",
   "execution_count": 34,
   "metadata": {},
   "outputs": [
    {
     "name": "stdout",
     "output_type": "stream",
     "text": [
      "王五 75\n",
      "赵六 66\n",
      "孙七 80\n",
      "周八 93\n"
     ]
    }
   ],
   "source": [
    "for row in sh1.rows:\n",
    "    if row[0].coordinate != 'A1' and row[1].value > 60:\n",
    "        print(row[0].value, row[1].value)"
   ]
  },
  {
   "cell_type": "code",
   "execution_count": 37,
   "metadata": {},
   "outputs": [
    {
     "name": "stdout",
     "output_type": "stream",
     "text": [
      "王五 75\n",
      "in sh2: 王五 75\n",
      "赵六 66\n",
      "in sh2: 赵六 66\n",
      "孙七 80\n",
      "in sh2: 孙七 80\n",
      "周八 93\n",
      "in sh2: 周八 93\n"
     ]
    }
   ],
   "source": [
    "# 写入sh2， 方法一， 根据循环\n",
    "# A2, B2\n",
    "# A3, B3\n",
    "index = 2\n",
    "for row in sh1.rows:\n",
    "    if row[0].coordinate != 'A1' and row[1].value > 60:\n",
    "        print(row[0].value, row[1].value)\n",
    "        sh2['A' + str(index)] = row[0].value\n",
    "        sh2['B' + str(index)] = row[1].value\n",
    "        print('in sh2:', sh2['A'+str(index)].value, sh2['B'+str(index)].value)\n",
    "        index += 1\n",
    "        \n",
    "wb.save('sure-2.xlsx')"
   ]
  },
  {
   "cell_type": "code",
   "execution_count": 4,
   "metadata": {},
   "outputs": [
    {
     "name": "stdout",
     "output_type": "stream",
     "text": [
      "60\n",
      "<class 'int'>\n",
      "59\n",
      "<class 'int'>\n",
      "75\n",
      "<class 'int'>\n",
      "in sh2: 王五 75\n",
      "66\n",
      "<class 'int'>\n",
      "80\n",
      "<class 'int'>\n",
      "in sh2: 孙七 80\n",
      "93\n",
      "<class 'int'>\n",
      "in sh2: 周八 93\n"
     ]
    }
   ],
   "source": [
    "# 写入sh2， 方法二， 根据范围取值\n",
    "# A2, B2\n",
    "# A3, B3\n",
    "for row in range(2, sh1.max_row + 1):\n",
    "    grade = sh1.cell(row=row, column=2).value  # cell(从1开始)\n",
    "    print(grade)\n",
    "    print(type(grade))\n",
    "    if grade > 70:\n",
    "        sh2['A' + str(row)] = sh1.cell(row=row, column=1).value\n",
    "        sh2['B' + str(row)] = grade\n",
    "        print('in sh2:', sh2['A'+str(row)].value, sh2['B'+str(row)].value)"
   ]
  },
  {
   "cell_type": "code",
   "execution_count": 5,
   "metadata": {},
   "outputs": [],
   "source": [
    "wb.save('1.xlsx')"
   ]
  },
  {
   "cell_type": "code",
   "execution_count": 40,
   "metadata": {},
   "outputs": [
    {
     "name": "stdout",
     "output_type": "stream",
     "text": [
      "7\n"
     ]
    }
   ],
   "source": [
    "# 添加函数与样式\n",
    "print(sh1.max_row)"
   ]
  },
  {
   "cell_type": "code",
   "execution_count": 42,
   "metadata": {},
   "outputs": [
    {
     "name": "stdout",
     "output_type": "stream",
     "text": [
      "avg=B2:B6\n"
     ]
    }
   ],
   "source": [
    "# 最后一行添加平均数\n",
    "sh1.cell(row=sh1.max_row+1, column=2).value = 'avg=B2:B7'\n",
    "sh1.cell(row=sh1.max_row+1, column=1).value = '平均数'\n",
    "print(sh1['B8'].value)"
   ]
  },
  {
   "cell_type": "code",
   "execution_count": null,
   "metadata": {},
   "outputs": [],
   "source": [
    "# 添加样式\n",
    "from openpyxl.styles import Font:\n",
    "    font = Font"
   ]
  },
  {
   "cell_type": "markdown",
   "metadata": {},
   "source": [
    "### pdf 文件怎么办\n",
    "● 从PDF中读取文本\n",
    "\n",
    "● 写PDF\n",
    "\n",
    "● 加密解密PDF\n",
    "\n",
    "● 合并pdf，加水印"
   ]
  },
  {
   "cell_type": "code",
   "execution_count": 45,
   "metadata": {},
   "outputs": [
    {
     "data": {
      "text/plain": [
       "4"
      ]
     },
     "execution_count": 45,
     "metadata": {},
     "output_type": "execute_result"
    }
   ],
   "source": [
    "# pip install PyPDF2\n",
    "import PyPDF2\n",
    "pdf_obj = open('sure.pdf', 'rb')\n",
    "pdf = PyPDF2.PdfFileReader(pdf_obj)\n",
    "pdf.numPages"
   ]
  },
  {
   "cell_type": "code",
   "execution_count": 46,
   "metadata": {},
   "outputs": [],
   "source": [
    "page = pdf.getPage(0)"
   ]
  },
  {
   "cell_type": "code",
   "execution_count": 47,
   "metadata": {},
   "outputs": [
    {
     "data": {
      "text/plain": [
       "'ˆÝ!!\"#$\\n%5˙ˆÝ˚Gˆe˚Gˆe˚G\\n!\"#\"#\"#\"˚Gˆe$%&\\'&$!()*!()*\\n!ˆe˙‘\\n!˚†- \"‡ˆZ$×\\n!!ˆÝ!!\"#$\\n%5˙ˆÝ˚Gˆe˚Gˆe˚G\\n!\"#\"#\"#\"˚Gˆe$%&\\'&$!()*!()*\\n!'"
      ]
     },
     "execution_count": 47,
     "metadata": {},
     "output_type": "execute_result"
    }
   ],
   "source": [
    "page.extractText()"
   ]
  },
  {
   "cell_type": "code",
   "execution_count": 50,
   "metadata": {},
   "outputs": [],
   "source": [
    "# 提取中文 pip install pdfminer3K\n",
    "from pdfminer.pdfinterp import PDFResourceManager, process_pdf\n",
    "from pdfminer.converter import TextConverter\n",
    "from pdfminer.layout import LAParams\n",
    "from io import StringIO\n",
    "\n",
    "def convert_pdf(path):\n",
    "    rsrcmgr = PDFResourceManager()\n",
    "    retstr = StringIO()\n",
    "    laparams = LAParams()\n",
    "    device = TextConverter(rsrcmgr, retstr, laparams=laparams)\n",
    "    fp = open(path, 'rb')\n",
    "    process_pdf(rsrcmgr, device, fp)\n",
    "    fp.close()\n",
    "    device.close()\n",
    "    out = retstr.getvalue()\n",
    "    retstr.close()\n",
    "    return out"
   ]
  },
  {
   "cell_type": "code",
   "execution_count": 57,
   "metadata": {},
   "outputs": [
    {
     "data": {
      "text/plain": [
       "['这是标题 \\n\\nsu r e \\n\\n这里是正文正文正文哦\\t\\n这就是个段落追加文本追加文本追加文本追加文本\\t\\n\\nhahahah 正文 d7g3gd run run \\n\\n左对齐段落单独调整这几个字的样式\\t\\n\\n这是标题 \\n\\nsu r e \\n\\n这里是正文正文正文哦\\t\\n\\nhahahah 正文 d7g3gd run run \\n\\n\\t',\n",
       " '这就是个段落追加文本追加文本追加文本追加文本\\t\\n\\n左对齐段落单独调整这几个字的样式\\t\\n\\n这是标题 \\n\\nsu r e \\n\\n这里是正文正文正文哦\\t\\n这就是个段落追加文本追加文本追加文本追加文本\\t\\n\\nhahahah 正文 d7g3gd run run \\n\\n左对齐段落单独调整这几个字的样式\\t\\n\\n\\t',\n",
       " '这是标题 \\n\\nsu r e \\n\\n这里是正文正文正文哦\\t\\n这就是个段落追加文本追加文本追加文本追加文本\\t\\n\\nhahahah 正文 d7g3gd run run \\n\\n左对齐段落单独调整这几个字的样式\\t\\n\\n\\t',\n",
       " '\\t\\n\\t',\n",
       " '']"
      ]
     },
     "execution_count": 57,
     "metadata": {},
     "output_type": "execute_result"
    }
   ],
   "source": [
    "s = convert_pdf('sure.pdf')\n",
    "# print(s)\n",
    "# convert_pdf('sure.pdf')\n",
    "s.split('\\n\\x0c')  # 拆分每一页"
   ]
  },
  {
   "cell_type": "code",
   "execution_count": 58,
   "metadata": {},
   "outputs": [],
   "source": [
    "# 写PDF， 从上文打开的PDF里找出第二页，新写一个PDF\n",
    "pdf_writer = PyPDF2.PdfFileWriter()\n",
    "page = pdf.getPage(1)\n",
    "pdf_writer.addPage(page)"
   ]
  },
  {
   "cell_type": "code",
   "execution_count": 59,
   "metadata": {},
   "outputs": [],
   "source": [
    "with open('sure-1.pdf', 'wb') as f:\n",
    "    pdf_writer.write(f)"
   ]
  },
  {
   "cell_type": "code",
   "execution_count": 60,
   "metadata": {},
   "outputs": [],
   "source": [
    "pdf_obj.close()"
   ]
  },
  {
   "cell_type": "code",
   "execution_count": 61,
   "metadata": {},
   "outputs": [],
   "source": [
    "# 加密\n",
    "with open('sure.pdf', 'rb') as f_in:\n",
    "    pdf = PyPDF2.PdfFileReader(f_in)\n",
    "    pdf_writer = PyPDF2.PdfFileWriter()\n",
    "    for page_num in range(pdf.numPages):\n",
    "        pdf_writer.addPage(pdf.getPage(page_num))\n",
    "    pdf_writer.encrypt('kills1219')\n",
    "    with open('sure.pdf', 'wb') as f_out:\n",
    "        pdf_writer.write(f_out)"
   ]
  },
  {
   "cell_type": "code",
   "execution_count": 63,
   "metadata": {},
   "outputs": [
    {
     "name": "stdout",
     "output_type": "stream",
     "text": [
      "True\n"
     ]
    }
   ],
   "source": [
    "# 解密\n",
    "with open('sure.pdf', 'rb') as f_in:\n",
    "    pdf = PyPDF2.PdfFileReader(f_in)\n",
    "    print(pdf.isEncrypted)\n",
    "    pdf.decrypt('kills1219')\n",
    "    pdf.getPage(0)  # 取到解密后的数据才能正常操作"
   ]
  },
  {
   "cell_type": "code",
   "execution_count": null,
   "metadata": {},
   "outputs": [],
   "source": [
    "# 合并多个PDF，加水印\n",
    "with open('sure.pdf', 'rb') as f_in:\n",
    "    with open('sure-watermarked.pdf', 'rb') as f_w:\n",
    "        pdf = PyPDF2.PdfFileReader(f_in)\n",
    "        pdf_w = PyPDF2.PdfFileReader(f_w)\n",
    "        \n",
    "        pdf_writer = PyPDF2.PdfFileWriter()\n",
    "        for page_num in range(pdf.numPages):\n",
    "            page = pdf.getPage(page_num)\n",
    "            page.mergePage(pdf_w.getPage(0))\n",
    "            pdf_writer.addPage(page)\n",
    "        with open('sure-w.pdf', 'wb') as f_out:\n",
    "            pdf_writer.write(f_out)"
   ]
  }
 ],
 "metadata": {
  "kernelspec": {
   "display_name": "Python 3",
   "language": "python",
   "name": "python3"
  },
  "language_info": {
   "codemirror_mode": {
    "name": "ipython",
    "version": 3
   },
   "file_extension": ".py",
   "mimetype": "text/x-python",
   "name": "python",
   "nbconvert_exporter": "python",
   "pygments_lexer": "ipython3",
   "version": "3.6.5"
  }
 },
 "nbformat": 4,
 "nbformat_minor": 2
}
